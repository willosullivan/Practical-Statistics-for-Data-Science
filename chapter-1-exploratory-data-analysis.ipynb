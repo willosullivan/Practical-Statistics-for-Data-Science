{
 "cells": [
  {
   "cell_type": "markdown",
   "metadata": {},
   "source": [
    "Think of Python as a builder. They have a mental skillset but often find themselves needing to complement that skillset with physical tools, for example to measure a sheet of concrete or to nail some nails into a frame. This is where **modules** come in. \n",
    "\n",
    "**Modules** are like a toolboxes that enable the data scientist the flexibility and power of calling pre-written code (methods) from pre-existing Classes. "
   ]
  },
  {
   "cell_type": "code",
   "execution_count": 6,
   "metadata": {},
   "outputs": [],
   "source": [
    "# Import modules\n",
    "import numpy as np\n",
    "import pandas as pd"
   ]
  },
  {
   "cell_type": "markdown",
   "metadata": {},
   "source": [
    "By default Jupyter will restrict our view our the entire width of the dataframe. I like to turn this off unless the dataframe is significant dimensionality."
   ]
  },
  {
   "cell_type": "code",
   "execution_count": 22,
   "metadata": {},
   "outputs": [],
   "source": [
    "# Turn off max columns so we can view the entire dataframe width\n",
    "pd.set_option('display.max_columns', None)"
   ]
  },
  {
   "cell_type": "code",
   "execution_count": 20,
   "metadata": {},
   "outputs": [],
   "source": [
    "# Reading in our data to our assigned variables 'df'\n",
    "df = pd.read_csv('all_seasons.csv')"
   ]
  },
  {
   "cell_type": "markdown",
   "metadata": {},
   "source": [
    "Having imported the necessery tools for our analysis and imported our data, let's take a high level look at out dataset.\n",
    "\n",
    "I have downloaded this dataset from Kaggle and I know that it's pretty useable already. However, most often our data won't be so readily useable, if we have for example scrapped it from a webpage or used an API call.\n",
    "\n",
    "Let's begin by visualising the dataset by calling the \".head()\" method on our dataframe variable \"df\". This is the third time we have called a Pandas method. The first time was when we turned off max columns with \"pd.set_option\" and the second time was when we read in our csv file into our notebook with \"pd.read_csv()\". \n",
    "\n",
    "If you notice at the top where we called in the modules/libraries/Classes, we assigned an alias to the Numpy and Pandas classes. This is to save us time when we call methods from each class from thereon out. Instead of having to write \"Pandas.set_option()\" or \"Numpy.mean()\", we can use the Class aliases \"pd.set_option()\" and \"np.mean()\"."
   ]
  },
  {
   "cell_type": "code",
   "execution_count": 23,
   "metadata": {},
   "outputs": [
    {
     "data": {
      "text/html": [
       "<div>\n",
       "<style scoped>\n",
       "    .dataframe tbody tr th:only-of-type {\n",
       "        vertical-align: middle;\n",
       "    }\n",
       "\n",
       "    .dataframe tbody tr th {\n",
       "        vertical-align: top;\n",
       "    }\n",
       "\n",
       "    .dataframe thead th {\n",
       "        text-align: right;\n",
       "    }\n",
       "</style>\n",
       "<table border=\"1\" class=\"dataframe\">\n",
       "  <thead>\n",
       "    <tr style=\"text-align: right;\">\n",
       "      <th></th>\n",
       "      <th>Unnamed: 0</th>\n",
       "      <th>player_name</th>\n",
       "      <th>team_abbreviation</th>\n",
       "      <th>age</th>\n",
       "      <th>player_height</th>\n",
       "      <th>player_weight</th>\n",
       "      <th>college</th>\n",
       "      <th>country</th>\n",
       "      <th>draft_year</th>\n",
       "      <th>draft_round</th>\n",
       "      <th>draft_number</th>\n",
       "      <th>gp</th>\n",
       "      <th>pts</th>\n",
       "      <th>reb</th>\n",
       "      <th>ast</th>\n",
       "      <th>net_rating</th>\n",
       "      <th>oreb_pct</th>\n",
       "      <th>dreb_pct</th>\n",
       "      <th>usg_pct</th>\n",
       "      <th>ts_pct</th>\n",
       "      <th>ast_pct</th>\n",
       "      <th>season</th>\n",
       "    </tr>\n",
       "  </thead>\n",
       "  <tbody>\n",
       "    <tr>\n",
       "      <th>0</th>\n",
       "      <td>0</td>\n",
       "      <td>Travis Knight</td>\n",
       "      <td>LAL</td>\n",
       "      <td>22.0</td>\n",
       "      <td>213.36</td>\n",
       "      <td>106.59412</td>\n",
       "      <td>Connecticut</td>\n",
       "      <td>USA</td>\n",
       "      <td>1996</td>\n",
       "      <td>1</td>\n",
       "      <td>29</td>\n",
       "      <td>71</td>\n",
       "      <td>4.8</td>\n",
       "      <td>4.5</td>\n",
       "      <td>0.5</td>\n",
       "      <td>6.2</td>\n",
       "      <td>0.127</td>\n",
       "      <td>0.182</td>\n",
       "      <td>0.142</td>\n",
       "      <td>0.536</td>\n",
       "      <td>0.052</td>\n",
       "      <td>1996-97</td>\n",
       "    </tr>\n",
       "    <tr>\n",
       "      <th>1</th>\n",
       "      <td>1</td>\n",
       "      <td>Matt Fish</td>\n",
       "      <td>MIA</td>\n",
       "      <td>27.0</td>\n",
       "      <td>210.82</td>\n",
       "      <td>106.59412</td>\n",
       "      <td>North Carolina-Wilmington</td>\n",
       "      <td>USA</td>\n",
       "      <td>1992</td>\n",
       "      <td>2</td>\n",
       "      <td>50</td>\n",
       "      <td>6</td>\n",
       "      <td>0.3</td>\n",
       "      <td>0.8</td>\n",
       "      <td>0.0</td>\n",
       "      <td>-15.1</td>\n",
       "      <td>0.143</td>\n",
       "      <td>0.267</td>\n",
       "      <td>0.265</td>\n",
       "      <td>0.333</td>\n",
       "      <td>0.000</td>\n",
       "      <td>1996-97</td>\n",
       "    </tr>\n",
       "    <tr>\n",
       "      <th>2</th>\n",
       "      <td>2</td>\n",
       "      <td>Matt Bullard</td>\n",
       "      <td>HOU</td>\n",
       "      <td>30.0</td>\n",
       "      <td>208.28</td>\n",
       "      <td>106.59412</td>\n",
       "      <td>Iowa</td>\n",
       "      <td>USA</td>\n",
       "      <td>Undrafted</td>\n",
       "      <td>Undrafted</td>\n",
       "      <td>Undrafted</td>\n",
       "      <td>71</td>\n",
       "      <td>4.5</td>\n",
       "      <td>1.6</td>\n",
       "      <td>0.9</td>\n",
       "      <td>0.9</td>\n",
       "      <td>0.016</td>\n",
       "      <td>0.115</td>\n",
       "      <td>0.151</td>\n",
       "      <td>0.535</td>\n",
       "      <td>0.099</td>\n",
       "      <td>1996-97</td>\n",
       "    </tr>\n",
       "    <tr>\n",
       "      <th>3</th>\n",
       "      <td>3</td>\n",
       "      <td>Marty Conlon</td>\n",
       "      <td>BOS</td>\n",
       "      <td>29.0</td>\n",
       "      <td>210.82</td>\n",
       "      <td>111.13004</td>\n",
       "      <td>Providence</td>\n",
       "      <td>USA</td>\n",
       "      <td>Undrafted</td>\n",
       "      <td>Undrafted</td>\n",
       "      <td>Undrafted</td>\n",
       "      <td>74</td>\n",
       "      <td>7.8</td>\n",
       "      <td>4.4</td>\n",
       "      <td>1.4</td>\n",
       "      <td>-9.0</td>\n",
       "      <td>0.083</td>\n",
       "      <td>0.152</td>\n",
       "      <td>0.167</td>\n",
       "      <td>0.542</td>\n",
       "      <td>0.101</td>\n",
       "      <td>1996-97</td>\n",
       "    </tr>\n",
       "    <tr>\n",
       "      <th>4</th>\n",
       "      <td>4</td>\n",
       "      <td>Martin Muursepp</td>\n",
       "      <td>DAL</td>\n",
       "      <td>22.0</td>\n",
       "      <td>205.74</td>\n",
       "      <td>106.59412</td>\n",
       "      <td>None</td>\n",
       "      <td>USA</td>\n",
       "      <td>1996</td>\n",
       "      <td>1</td>\n",
       "      <td>25</td>\n",
       "      <td>42</td>\n",
       "      <td>3.7</td>\n",
       "      <td>1.6</td>\n",
       "      <td>0.5</td>\n",
       "      <td>-14.5</td>\n",
       "      <td>0.109</td>\n",
       "      <td>0.118</td>\n",
       "      <td>0.233</td>\n",
       "      <td>0.482</td>\n",
       "      <td>0.114</td>\n",
       "      <td>1996-97</td>\n",
       "    </tr>\n",
       "  </tbody>\n",
       "</table>\n",
       "</div>"
      ],
      "text/plain": [
       "   Unnamed: 0      player_name team_abbreviation   age  player_height  \\\n",
       "0           0    Travis Knight               LAL  22.0         213.36   \n",
       "1           1        Matt Fish               MIA  27.0         210.82   \n",
       "2           2     Matt Bullard               HOU  30.0         208.28   \n",
       "3           3     Marty Conlon               BOS  29.0         210.82   \n",
       "4           4  Martin Muursepp               DAL  22.0         205.74   \n",
       "\n",
       "   player_weight                    college country draft_year draft_round  \\\n",
       "0      106.59412                Connecticut     USA       1996           1   \n",
       "1      106.59412  North Carolina-Wilmington     USA       1992           2   \n",
       "2      106.59412                       Iowa     USA  Undrafted   Undrafted   \n",
       "3      111.13004                 Providence     USA  Undrafted   Undrafted   \n",
       "4      106.59412                       None     USA       1996           1   \n",
       "\n",
       "  draft_number  gp  pts  reb  ast  net_rating  oreb_pct  dreb_pct  usg_pct  \\\n",
       "0           29  71  4.8  4.5  0.5         6.2     0.127     0.182    0.142   \n",
       "1           50   6  0.3  0.8  0.0       -15.1     0.143     0.267    0.265   \n",
       "2    Undrafted  71  4.5  1.6  0.9         0.9     0.016     0.115    0.151   \n",
       "3    Undrafted  74  7.8  4.4  1.4        -9.0     0.083     0.152    0.167   \n",
       "4           25  42  3.7  1.6  0.5       -14.5     0.109     0.118    0.233   \n",
       "\n",
       "   ts_pct  ast_pct   season  \n",
       "0   0.536    0.052  1996-97  \n",
       "1   0.333    0.000  1996-97  \n",
       "2   0.535    0.099  1996-97  \n",
       "3   0.542    0.101  1996-97  \n",
       "4   0.482    0.114  1996-97  "
      ]
     },
     "execution_count": 23,
     "metadata": {},
     "output_type": "execute_result"
    }
   ],
   "source": [
    "df.head()"
   ]
  },
  {
   "cell_type": "markdown",
   "metadata": {},
   "source": [
    "I typically like to get a feel for the dimensions of the dataset after visualising the top."
   ]
  },
  {
   "cell_type": "code",
   "execution_count": 26,
   "metadata": {},
   "outputs": [
    {
     "name": "stdout",
     "output_type": "stream",
     "text": [
      "The dataframe contains 11700 rows and 22 columns.\n"
     ]
    }
   ],
   "source": [
    "print(f'The dataframe contains {df.shape[0]} rows and {df.shape[1]} columns.')"
   ]
  },
  {
   "cell_type": "markdown",
   "metadata": {},
   "source": [
    "This can also be achieved without calling an index, returning a tuple."
   ]
  },
  {
   "cell_type": "code",
   "execution_count": 28,
   "metadata": {},
   "outputs": [
    {
     "data": {
      "text/plain": [
       "(11700, 22)"
      ]
     },
     "execution_count": 28,
     "metadata": {},
     "output_type": "execute_result"
    }
   ],
   "source": [
    "df.shape"
   ]
  },
  {
   "cell_type": "markdown",
   "metadata": {},
   "source": [
    "I now normally like to develop a quick TLDR of my dataset with some summary statistics. This is extremely easy using the \".describe()\" methods of the Pandas class."
   ]
  },
  {
   "cell_type": "code",
   "execution_count": 30,
   "metadata": {},
   "outputs": [
    {
     "data": {
      "text/html": [
       "<div>\n",
       "<style scoped>\n",
       "    .dataframe tbody tr th:only-of-type {\n",
       "        vertical-align: middle;\n",
       "    }\n",
       "\n",
       "    .dataframe tbody tr th {\n",
       "        vertical-align: top;\n",
       "    }\n",
       "\n",
       "    .dataframe thead th {\n",
       "        text-align: right;\n",
       "    }\n",
       "</style>\n",
       "<table border=\"1\" class=\"dataframe\">\n",
       "  <thead>\n",
       "    <tr style=\"text-align: right;\">\n",
       "      <th></th>\n",
       "      <th>Unnamed: 0</th>\n",
       "      <th>age</th>\n",
       "      <th>player_height</th>\n",
       "      <th>player_weight</th>\n",
       "      <th>gp</th>\n",
       "      <th>pts</th>\n",
       "      <th>reb</th>\n",
       "      <th>ast</th>\n",
       "      <th>net_rating</th>\n",
       "      <th>oreb_pct</th>\n",
       "      <th>dreb_pct</th>\n",
       "      <th>usg_pct</th>\n",
       "      <th>ts_pct</th>\n",
       "      <th>ast_pct</th>\n",
       "    </tr>\n",
       "  </thead>\n",
       "  <tbody>\n",
       "    <tr>\n",
       "      <th>count</th>\n",
       "      <td>11700.000000</td>\n",
       "      <td>11700.000000</td>\n",
       "      <td>11700.000000</td>\n",
       "      <td>11700.000000</td>\n",
       "      <td>11700.000000</td>\n",
       "      <td>11700.000000</td>\n",
       "      <td>11700.000000</td>\n",
       "      <td>11700.000000</td>\n",
       "      <td>11700.000000</td>\n",
       "      <td>11700.000000</td>\n",
       "      <td>11700.000000</td>\n",
       "      <td>11700.000000</td>\n",
       "      <td>11700.000000</td>\n",
       "      <td>11700.000000</td>\n",
       "    </tr>\n",
       "    <tr>\n",
       "      <th>mean</th>\n",
       "      <td>5849.500000</td>\n",
       "      <td>27.131966</td>\n",
       "      <td>200.728501</td>\n",
       "      <td>100.526791</td>\n",
       "      <td>51.717179</td>\n",
       "      <td>8.169299</td>\n",
       "      <td>3.564957</td>\n",
       "      <td>1.811179</td>\n",
       "      <td>-2.166410</td>\n",
       "      <td>0.054981</td>\n",
       "      <td>0.141534</td>\n",
       "      <td>0.185380</td>\n",
       "      <td>0.510402</td>\n",
       "      <td>0.131228</td>\n",
       "    </tr>\n",
       "    <tr>\n",
       "      <th>std</th>\n",
       "      <td>3377.643409</td>\n",
       "      <td>4.340006</td>\n",
       "      <td>9.169827</td>\n",
       "      <td>12.526481</td>\n",
       "      <td>24.985236</td>\n",
       "      <td>5.956115</td>\n",
       "      <td>2.487498</td>\n",
       "      <td>1.792117</td>\n",
       "      <td>12.076914</td>\n",
       "      <td>0.043595</td>\n",
       "      <td>0.062793</td>\n",
       "      <td>0.052957</td>\n",
       "      <td>0.098306</td>\n",
       "      <td>0.094244</td>\n",
       "    </tr>\n",
       "    <tr>\n",
       "      <th>min</th>\n",
       "      <td>0.000000</td>\n",
       "      <td>18.000000</td>\n",
       "      <td>160.020000</td>\n",
       "      <td>60.327736</td>\n",
       "      <td>1.000000</td>\n",
       "      <td>0.000000</td>\n",
       "      <td>0.000000</td>\n",
       "      <td>0.000000</td>\n",
       "      <td>-200.000000</td>\n",
       "      <td>0.000000</td>\n",
       "      <td>0.000000</td>\n",
       "      <td>0.000000</td>\n",
       "      <td>0.000000</td>\n",
       "      <td>0.000000</td>\n",
       "    </tr>\n",
       "    <tr>\n",
       "      <th>25%</th>\n",
       "      <td>2924.750000</td>\n",
       "      <td>24.000000</td>\n",
       "      <td>193.040000</td>\n",
       "      <td>90.718400</td>\n",
       "      <td>32.000000</td>\n",
       "      <td>3.600000</td>\n",
       "      <td>1.800000</td>\n",
       "      <td>0.600000</td>\n",
       "      <td>-6.300000</td>\n",
       "      <td>0.021000</td>\n",
       "      <td>0.096000</td>\n",
       "      <td>0.150000</td>\n",
       "      <td>0.479000</td>\n",
       "      <td>0.065000</td>\n",
       "    </tr>\n",
       "    <tr>\n",
       "      <th>50%</th>\n",
       "      <td>5849.500000</td>\n",
       "      <td>26.000000</td>\n",
       "      <td>200.660000</td>\n",
       "      <td>99.790240</td>\n",
       "      <td>58.000000</td>\n",
       "      <td>6.700000</td>\n",
       "      <td>3.000000</td>\n",
       "      <td>1.200000</td>\n",
       "      <td>-1.300000</td>\n",
       "      <td>0.042000</td>\n",
       "      <td>0.132000</td>\n",
       "      <td>0.182000</td>\n",
       "      <td>0.523000</td>\n",
       "      <td>0.103000</td>\n",
       "    </tr>\n",
       "    <tr>\n",
       "      <th>75%</th>\n",
       "      <td>8774.250000</td>\n",
       "      <td>30.000000</td>\n",
       "      <td>208.280000</td>\n",
       "      <td>108.862080</td>\n",
       "      <td>74.000000</td>\n",
       "      <td>11.500000</td>\n",
       "      <td>4.700000</td>\n",
       "      <td>2.400000</td>\n",
       "      <td>3.200000</td>\n",
       "      <td>0.084000</td>\n",
       "      <td>0.180000</td>\n",
       "      <td>0.218000</td>\n",
       "      <td>0.559000</td>\n",
       "      <td>0.178000</td>\n",
       "    </tr>\n",
       "    <tr>\n",
       "      <th>max</th>\n",
       "      <td>11699.000000</td>\n",
       "      <td>44.000000</td>\n",
       "      <td>231.140000</td>\n",
       "      <td>163.293120</td>\n",
       "      <td>85.000000</td>\n",
       "      <td>36.100000</td>\n",
       "      <td>16.300000</td>\n",
       "      <td>11.700000</td>\n",
       "      <td>300.000000</td>\n",
       "      <td>1.000000</td>\n",
       "      <td>1.000000</td>\n",
       "      <td>1.000000</td>\n",
       "      <td>1.500000</td>\n",
       "      <td>1.000000</td>\n",
       "    </tr>\n",
       "  </tbody>\n",
       "</table>\n",
       "</div>"
      ],
      "text/plain": [
       "         Unnamed: 0           age  player_height  player_weight            gp  \\\n",
       "count  11700.000000  11700.000000   11700.000000   11700.000000  11700.000000   \n",
       "mean    5849.500000     27.131966     200.728501     100.526791     51.717179   \n",
       "std     3377.643409      4.340006       9.169827      12.526481     24.985236   \n",
       "min        0.000000     18.000000     160.020000      60.327736      1.000000   \n",
       "25%     2924.750000     24.000000     193.040000      90.718400     32.000000   \n",
       "50%     5849.500000     26.000000     200.660000      99.790240     58.000000   \n",
       "75%     8774.250000     30.000000     208.280000     108.862080     74.000000   \n",
       "max    11699.000000     44.000000     231.140000     163.293120     85.000000   \n",
       "\n",
       "                pts           reb           ast    net_rating      oreb_pct  \\\n",
       "count  11700.000000  11700.000000  11700.000000  11700.000000  11700.000000   \n",
       "mean       8.169299      3.564957      1.811179     -2.166410      0.054981   \n",
       "std        5.956115      2.487498      1.792117     12.076914      0.043595   \n",
       "min        0.000000      0.000000      0.000000   -200.000000      0.000000   \n",
       "25%        3.600000      1.800000      0.600000     -6.300000      0.021000   \n",
       "50%        6.700000      3.000000      1.200000     -1.300000      0.042000   \n",
       "75%       11.500000      4.700000      2.400000      3.200000      0.084000   \n",
       "max       36.100000     16.300000     11.700000    300.000000      1.000000   \n",
       "\n",
       "           dreb_pct       usg_pct        ts_pct       ast_pct  \n",
       "count  11700.000000  11700.000000  11700.000000  11700.000000  \n",
       "mean       0.141534      0.185380      0.510402      0.131228  \n",
       "std        0.062793      0.052957      0.098306      0.094244  \n",
       "min        0.000000      0.000000      0.000000      0.000000  \n",
       "25%        0.096000      0.150000      0.479000      0.065000  \n",
       "50%        0.132000      0.182000      0.523000      0.103000  \n",
       "75%        0.180000      0.218000      0.559000      0.178000  \n",
       "max        1.000000      1.000000      1.500000      1.000000  "
      ]
     },
     "execution_count": 30,
     "metadata": {},
     "output_type": "execute_result"
    }
   ],
   "source": [
    "df.describe()"
   ]
  },
  {
   "cell_type": "markdown",
   "metadata": {},
   "source": [
    "Averaging 36.1 points in a season is pretty unheard of. I know who it was, but for all the viewers at home lets bring up this record using two more Pandas methods in one line of code. First we filter the dataframe to using \".iloc()\" (integer location) and then call the \".idxmax()\" method the return the max value in the specified column. \n",
    "\n",
    "The result is the row/record where this value lies."
   ]
  },
  {
   "cell_type": "code",
   "execution_count": 32,
   "metadata": {},
   "outputs": [
    {
     "data": {
      "text/plain": [
       "Unnamed: 0                   10507\n",
       "player_name           James Harden\n",
       "team_abbreviation              HOU\n",
       "age                           29.0\n",
       "player_height               195.58\n",
       "player_weight             99.79024\n",
       "college              Arizona State\n",
       "country                        USA\n",
       "draft_year                    2009\n",
       "draft_round                      1\n",
       "draft_number                     3\n",
       "gp                              78\n",
       "pts                           36.1\n",
       "reb                            6.6\n",
       "ast                            7.5\n",
       "net_rating                     6.3\n",
       "oreb_pct                     0.023\n",
       "dreb_pct                     0.157\n",
       "usg_pct                      0.396\n",
       "ts_pct                       0.616\n",
       "ast_pct                      0.394\n",
       "season                     2018-19\n",
       "Name: 10507, dtype: object"
      ]
     },
     "execution_count": 32,
     "metadata": {},
     "output_type": "execute_result"
    }
   ],
   "source": [
    "df.iloc[df['pts'].idxmax()]"
   ]
  },
  {
   "cell_type": "markdown",
   "metadata": {},
   "source": [
    "Let's now finish off the data quality checks before diving into the proper EDA using various techniques."
   ]
  },
  {
   "cell_type": "code",
   "execution_count": 34,
   "metadata": {},
   "outputs": [
    {
     "data": {
      "text/plain": [
       "Unnamed: 0           0\n",
       "player_name          0\n",
       "team_abbreviation    0\n",
       "age                  0\n",
       "player_height        0\n",
       "player_weight        0\n",
       "college              0\n",
       "country              0\n",
       "draft_year           0\n",
       "draft_round          0\n",
       "draft_number         0\n",
       "gp                   0\n",
       "pts                  0\n",
       "reb                  0\n",
       "ast                  0\n",
       "net_rating           0\n",
       "oreb_pct             0\n",
       "dreb_pct             0\n",
       "usg_pct              0\n",
       "ts_pct               0\n",
       "ast_pct              0\n",
       "season               0\n",
       "dtype: int64"
      ]
     },
     "execution_count": 34,
     "metadata": {},
     "output_type": "execute_result"
    }
   ],
   "source": [
    "# Checking if there are any numm values in each servies/columns and then summing all nulls\n",
    "df.isnull().sum()"
   ]
  },
  {
   "cell_type": "markdown",
   "metadata": {},
   "source": [
    "# Now the fun begins"
   ]
  },
  {
   "cell_type": "markdown",
   "metadata": {},
   "source": [
    "Now we've crossed our T's and dotted our I's to ensure our data is of high quality and we don't have to do any data preprocessing and cleaning, let's go over some EDA techniques to get a better feel for the characteristics of our data."
   ]
  },
  {
   "cell_type": "markdown",
   "metadata": {},
   "source": [
    "**Note**\n",
    "\n",
    "To test myself, I am going to recreate each method calculation in my own code, aka procedural Python. I will denote methods with \"With methods\" and my own code with \"Without methods\"."
   ]
  },
  {
   "cell_type": "markdown",
   "metadata": {},
   "source": [
    "## Estimates of Location"
   ]
  },
  {
   "cell_type": "markdown",
   "metadata": {},
   "source": [
    "**Mean:** The sum of all values divided by the number of values."
   ]
  },
  {
   "cell_type": "code",
   "execution_count": 35,
   "metadata": {},
   "outputs": [
    {
     "data": {
      "text/plain": [
       "3.5649572649572736"
      ]
     },
     "execution_count": 35,
     "metadata": {},
     "output_type": "execute_result"
    }
   ],
   "source": [
    "# With methods\n",
    "df['reb'].mean()"
   ]
  },
  {
   "cell_type": "code",
   "execution_count": 63,
   "metadata": {},
   "outputs": [
    {
     "data": {
      "text/plain": [
       "3.5649572649572736"
      ]
     },
     "execution_count": 63,
     "metadata": {},
     "output_type": "execute_result"
    }
   ],
   "source": [
    "# Without methods\n",
    "def my_mean(x):\n",
    "    n_students = len(x)\n",
    "    sentinel = 0\n",
    "    total = 0\n",
    "    \n",
    "    while sentinel < n_students:\n",
    "        age = x[sentinel]\n",
    "        total += age\n",
    "        sentinel += 1\n",
    "    mean = total / n_students\n",
    "    return mean\n",
    "\n",
    "my_mean(df['reb'])"
   ]
  },
  {
   "cell_type": "markdown",
   "metadata": {},
   "source": [
    "**Trimmed Mean**: Involves removing a user-specified fixed set of numbers from the tails of a distribution and taking the mean from the remaining array.\n",
    "\n",
    "This techniques helps reduce the impact of outliers and is widely preferred to the standard mean."
   ]
  },
  {
   "cell_type": "code",
   "execution_count": 50,
   "metadata": {},
   "outputs": [
    {
     "name": "stdout",
     "output_type": "stream",
     "text": [
      "Without any trim: 3.564957264957265\n",
      "With 1% trim on each end: 3.5056514913657773\n",
      "With 5% trim on each end: 3.3610161443494775\n",
      "With 20% trim on each end: 3.1016381766381764\n"
     ]
    }
   ],
   "source": [
    "# With methods\n",
    "from scipy.stats import trim_mean\n",
    "\n",
    "print(f'Without any trim: {trim_mean(df[\"reb\"], 0)}')\n",
    "print(f'With 1% trim on each end: {trim_mean(df[\"reb\"], 0.01)}')\n",
    "print(f'With 5% trim on each end: {trim_mean(df[\"reb\"], 0.05)}')\n",
    "print(f'With 20% trim on each end: {trim_mean(df[\"reb\"], .2)}')"
   ]
  },
  {
   "cell_type": "code",
   "execution_count": 53,
   "metadata": {},
   "outputs": [],
   "source": [
    "# Without methods"
   ]
  },
  {
   "cell_type": "markdown",
   "metadata": {},
   "source": [
    "**Weighted Mean:** Same as mean but with every value multiplied with a user specified $  x_{i} $ before summing and dividng by the number of values.\n",
    "\n",
    "This techniques is useful when some values are intrinsically more valuable than others or the data collected does not equally represent the different groups we are measuring."
   ]
  },
  {
   "cell_type": "code",
   "execution_count": 61,
   "metadata": {},
   "outputs": [
    {
     "name": "stdout",
     "output_type": "stream",
     "text": [
      "Using player heights to weight the mean may make sense in this situation: 3.6129478757687186\n"
     ]
    }
   ],
   "source": [
    "print(f'Using player heights to weight the mean may make sense in this situation: {np.average(df[\"reb\"], weights = df[\"player_height\"])}')"
   ]
  },
  {
   "cell_type": "markdown",
   "metadata": {},
   "source": [
    "**Median:** The middle value in a numerically sorted array."
   ]
  },
  {
   "cell_type": "code",
   "execution_count": 70,
   "metadata": {},
   "outputs": [
    {
     "data": {
      "text/plain": [
       "3.0"
      ]
     },
     "execution_count": 70,
     "metadata": {},
     "output_type": "execute_result"
    }
   ],
   "source": [
    "# With methods\n",
    "df['reb'].median()"
   ]
  },
  {
   "cell_type": "code",
   "execution_count": 83,
   "metadata": {},
   "outputs": [
    {
     "data": {
      "text/plain": [
       "3.9"
      ]
     },
     "execution_count": 83,
     "metadata": {},
     "output_type": "execute_result"
    }
   ],
   "source": [
    "# Without methods\n",
    "def my_median(array):\n",
    "    sorted_list = sorted(array)\n",
    "    if len(sorted_list) % 2 == 1:\n",
    "        return array[len(sorted_list) // 2]\n",
    "    else:\n",
    "        return array[len(sorted_list) // 2 - 1] + array[len(sorted_list) // 2] / 2\n",
    "\n",
    "my_median(df['reb'])"
   ]
  },
  {
   "cell_type": "markdown",
   "metadata": {},
   "source": [
    "**Weighted Median:** We multiply every value with some weight $x_i$ and then pick the middle value such that the sum of values to the left of the median are the same as the sum of values to the rights of the median."
   ]
  },
  {
   "cell_type": "code",
   "execution_count": null,
   "metadata": {},
   "outputs": [],
   "source": [
    "# With methods\n"
   ]
  },
  {
   "cell_type": "code",
   "execution_count": 84,
   "metadata": {},
   "outputs": [
    {
     "data": {
      "text/plain": [
       "3.0"
      ]
     },
     "execution_count": 84,
     "metadata": {},
     "output_type": "execute_result"
    }
   ],
   "source": [
    "# Without methods\n",
    "def my_weighted_median(df, median_col, weight_col):\n",
    "    df = df.sort_values(median_col)\n",
    "    cumsum = df[weight_col].cumsum()\n",
    "    cutoff = df[weight_col].sum() / 2\n",
    "    return df[cumsum >= cutoff][median_col].iloc[0]\n",
    "\n",
    "my_weighted_median(df, 'reb', 'player_height')"
   ]
  },
  {
   "cell_type": "markdown",
   "metadata": {},
   "source": [
    "**Percentile:** The value such that P percent of the data lay below it."
   ]
  },
  {
   "cell_type": "code",
   "execution_count": 85,
   "metadata": {},
   "outputs": [
    {
     "data": {
      "text/plain": [
       "1.8"
      ]
     },
     "execution_count": 85,
     "metadata": {},
     "output_type": "execute_result"
    }
   ],
   "source": [
    "np.percentile(df['reb'], 25)"
   ]
  },
  {
   "cell_type": "markdown",
   "metadata": {},
   "source": [
    "## Estimates of Variability (Dispersion)"
   ]
  },
  {
   "cell_type": "markdown",
   "metadata": {},
   "source": [
    "Measuring variability is the second dimension to summarising a feautre (column, series, 1-D array). Variability is central to statistics and we can generate a lot of useful information about our dataset here."
   ]
  },
  {
   "cell_type": "markdown",
   "metadata": {},
   "source": [
    "**Variance:** Average of the squared deviations, where we have summed squared deviations from the mean and dividied by *n*-1 where *n* is the number of values. AKA *mean squared error*."
   ]
  },
  {
   "cell_type": "code",
   "execution_count": 87,
   "metadata": {},
   "outputs": [
    {
     "data": {
      "text/plain": [
       "6.187647874060389"
      ]
     },
     "execution_count": 87,
     "metadata": {},
     "output_type": "execute_result"
    }
   ],
   "source": [
    "# With methods\n",
    "from statistics import variance\n",
    "\n",
    "variance(df['reb'])"
   ]
  },
  {
   "cell_type": "code",
   "execution_count": 88,
   "metadata": {},
   "outputs": [],
   "source": [
    "# Without methods"
   ]
  },
  {
   "cell_type": "markdown",
   "metadata": {},
   "source": [
    "**Standard Deviation:** The square root of the variance, bringing result to the same scale as the original data.\n",
    "\n",
    "The superior choice to mean absolute deviation because working with squared values is easier that absolute value particularly in statistical modelling."
   ]
  },
  {
   "cell_type": "code",
   "execution_count": 89,
   "metadata": {},
   "outputs": [
    {
     "data": {
      "text/plain": [
       "2.487498316393478"
      ]
     },
     "execution_count": 89,
     "metadata": {},
     "output_type": "execute_result"
    }
   ],
   "source": [
    "# With methods\n",
    "from statistics import stdev\n",
    "\n",
    "stdev(df['reb'])"
   ]
  },
  {
   "cell_type": "code",
   "execution_count": 90,
   "metadata": {},
   "outputs": [
    {
     "data": {
      "text/plain": [
       "2.487392010775098"
      ]
     },
     "execution_count": 90,
     "metadata": {},
     "output_type": "execute_result"
    }
   ],
   "source": [
    "# Without methods\n",
    "def my_stdev(array):\n",
    "    mean = my_mean(array)\n",
    "    sq_distances = []\n",
    "    for value in array:\n",
    "        distance = value - mean\n",
    "        sq_distances.append(distance ** 2)\n",
    "    total_distances = sum(sq_distances)\n",
    "    average_squared_distances = total_distances / (len(array))\n",
    "    return average_squared_distances ** (1/2)\n",
    "\n",
    "my_stdev(df['reb'])    "
   ]
  },
  {
   "cell_type": "markdown",
   "metadata": {},
   "source": [
    "**Mean Absolute Deviation:** The mean of the absolute deviations from the mean."
   ]
  },
  {
   "cell_type": "code",
   "execution_count": 91,
   "metadata": {},
   "outputs": [
    {
     "data": {
      "text/plain": [
       "1.9081393819855392"
      ]
     },
     "execution_count": 91,
     "metadata": {},
     "output_type": "execute_result"
    }
   ],
   "source": [
    "# With methods\n",
    "np.mean(np.absolute(df['reb'] - np.mean(df['reb'])))"
   ]
  },
  {
   "cell_type": "code",
   "execution_count": 92,
   "metadata": {},
   "outputs": [],
   "source": [
    "# Without methods"
   ]
  },
  {
   "cell_type": "markdown",
   "metadata": {},
   "source": [
    "**Median Absolute Deviation from the Median:** The median of the absolute deviations from the median (cheers Geoff)"
   ]
  },
  {
   "cell_type": "code",
   "execution_count": 94,
   "metadata": {},
   "outputs": [
    {
     "data": {
      "text/plain": [
       "1.4"
      ]
     },
     "execution_count": 94,
     "metadata": {},
     "output_type": "execute_result"
    }
   ],
   "source": [
    "# With methods\n",
    "np.median(np.absolute(df['reb'] - np.median(df['reb'])))"
   ]
  },
  {
   "cell_type": "code",
   "execution_count": 95,
   "metadata": {},
   "outputs": [],
   "source": [
    "# Without methods\n"
   ]
  },
  {
   "cell_type": "markdown",
   "metadata": {},
   "source": [
    "**Minimum:** Smallest value in an array of sorted data."
   ]
  },
  {
   "cell_type": "code",
   "execution_count": 100,
   "metadata": {},
   "outputs": [
    {
     "data": {
      "text/plain": [
       "0.0"
      ]
     },
     "execution_count": 100,
     "metadata": {},
     "output_type": "execute_result"
    }
   ],
   "source": [
    "# Using methods\n",
    "min(df['reb'])"
   ]
  },
  {
   "cell_type": "code",
   "execution_count": 111,
   "metadata": {},
   "outputs": [
    {
     "data": {
      "text/plain": [
       "0.0"
      ]
     },
     "execution_count": 111,
     "metadata": {},
     "output_type": "execute_result"
    }
   ],
   "source": [
    "# Without methods\n",
    "def my_min(array):\n",
    "    min = array[0]\n",
    "    for i in array:\n",
    "        if i < min:\n",
    "            min = i\n",
    "    return min\n",
    "\n",
    "my_min(df['reb'])"
   ]
  },
  {
   "cell_type": "markdown",
   "metadata": {},
   "source": [
    "**Maximum:** Smallest value in an array of sorted data."
   ]
  },
  {
   "cell_type": "code",
   "execution_count": 112,
   "metadata": {},
   "outputs": [
    {
     "data": {
      "text/plain": [
       "16.3"
      ]
     },
     "execution_count": 112,
     "metadata": {},
     "output_type": "execute_result"
    }
   ],
   "source": [
    "max(df['reb'])"
   ]
  },
  {
   "cell_type": "code",
   "execution_count": 110,
   "metadata": {},
   "outputs": [
    {
     "data": {
      "text/plain": [
       "16.3"
      ]
     },
     "execution_count": 110,
     "metadata": {},
     "output_type": "execute_result"
    }
   ],
   "source": [
    "# Without methods\n",
    "def my_max(array):\n",
    "    max = array[0]\n",
    "    for i in array:\n",
    "        if i > max:\n",
    "            max = i\n",
    "    return max\n",
    "\n",
    "my_max(df['reb'])"
   ]
  },
  {
   "cell_type": "markdown",
   "metadata": {},
   "source": [
    "**Interquartile Range:** Difference between 75th and 25th percentile."
   ]
  },
  {
   "cell_type": "code",
   "execution_count": 98,
   "metadata": {},
   "outputs": [
    {
     "data": {
      "text/plain": [
       "array([4.7, 1.8])"
      ]
     },
     "execution_count": 98,
     "metadata": {},
     "output_type": "execute_result"
    }
   ],
   "source": [
    "np.percentile(df['reb'], [75, 25])\n"
   ]
  },
  {
   "cell_type": "markdown",
   "metadata": {},
   "source": [
    "## Exploring the Data Distribution"
   ]
  },
  {
   "cell_type": "markdown",
   "metadata": {},
   "source": [
    "**Boxplots:** Useful way to summarise the distribution of your data in your dataset."
   ]
  },
  {
   "cell_type": "code",
   "execution_count": 122,
   "metadata": {},
   "outputs": [
    {
     "data": {
      "application/vnd.plotly.v1+json": {
       "config": {
        "plotlyServerURL": "https://plot.ly"
       },
       "data": [
        {
         "alignmentgroup": "True",
         "customdata": [
          [
           "Travis Knight"
          ],
          [
           "Matt Fish"
          ],
          [
           "Matt Bullard"
          ],
          [
           "Marty Conlon"
          ],
          [
           "Martin Muursepp"
          ],
          [
           "Martin Lewis"
          ],
          [
           "Mark West"
          ],
          [
           "Mark Strickland"
          ],
          [
           "Mark Price"
          ],
          [
           "Mark Jackson"
          ],
          [
           "Mark Hendrickson"
          ],
          [
           "Mark Davis"
          ],
          [
           "Mark Bryant"
          ],
          [
           "Mark Bradtke"
          ],
          [
           "Mario Elie"
          ],
          [
           "Marcus Camby"
          ],
          [
           "Marcus Brown"
          ],
          [
           "Malik Sealy"
          ],
          [
           "Malik Rose"
          ],
          [
           "Mahmoud Abdul-Rauf"
          ],
          [
           "Lucious Harris"
          ],
          [
           "Luc Longley"
          ],
          [
           "Loy Vaught"
          ],
          [
           "Lou Roe"
          ],
          [
           "Matt Geiger"
          ],
          [
           "Matt Maloney"
          ],
          [
           "Matt Steigenga"
          ],
          [
           "Melvin Booker"
          ],
          [
           "Pervis Ellison"
          ],
          [
           "Patrick Ewing"
          ],
          [
           "P.J. Brown"
          ],
          [
           "Otis Thorpe"
          ],
          [
           "Othella Harrington"
          ],
          [
           "Oliver Miller"
          ],
          [
           "Olden Polynice"
          ],
          [
           "Nick Van Exel"
          ],
          [
           "Nick Anderson"
          ],
          [
           "Nate McMillan"
          ],
          [
           "Nate Driggers"
          ],
          [
           "Lorenzo Williams"
          ],
          [
           "Muggsy Bogues"
          ],
          [
           "Moochie Norris"
          ],
          [
           "Monty Williams"
          ],
          [
           "Mitchell Butler"
          ],
          [
           "Mitch Richmond"
          ],
          [
           "Mike Brown"
          ],
          [
           "Michael Smith"
          ],
          [
           "Michael Jordan"
          ],
          [
           "Michael Hawkins"
          ],
          [
           "Michael Finley"
          ],
          [
           "Michael Curry"
          ],
          [
           "Michael Cage"
          ],
          [
           "Mookie Blaylock"
          ],
          [
           "Pooh Richardson"
          ],
          [
           "Lorenzen Wright"
          ],
          [
           "Lloyd Daniels"
          ],
          [
           "Keith Askins"
          ],
          [
           "Karl Malone"
          ],
          [
           "Juwan Howard"
          ],
          [
           "Jud Buechler"
          ],
          [
           "Jon Barry"
          ],
          [
           "Johnny Newman"
          ],
          [
           "John Wallace"
          ],
          [
           "John Stockton"
          ],
          [
           "John Starks"
          ],
          [
           "John Long"
          ],
          [
           "John Crotty"
          ],
          [
           "Joe Wolf"
          ],
          [
           "Joe Stephens"
          ],
          [
           "Joe Smith"
          ],
          [
           "Joe Kleine"
          ],
          [
           "Joe Dumars"
          ],
          [
           "Joe Courtney"
          ],
          [
           "Jimmy Oliver"
          ],
          [
           "Jimmy King"
          ],
          [
           "Jimmy Carruth"
          ],
          [
           "Jim McIlvaine"
          ],
          [
           "Jim Jackson"
          ],
          [
           "Jerry Stackhouse"
          ],
          [
           "Keith Tower"
          ],
          [
           "Ken Norman"
          ],
          [
           "Kendall Gill"
          ],
          [
           "Kenny Anderson"
          ],
          [
           "Litterial Green"
          ],
          [
           "Lionel Simmons"
          ],
          [
           "Lindsey Hunter"
          ],
          [
           "Lee Mayberry"
          ],
          [
           "Lawrence Moten"
          ],
          [
           "Latrell Sprewell"
          ],
          [
           "Larry Stewart"
          ],
          [
           "Larry Krystkowiak"
          ],
          [
           "Larry Johnson"
          ],
          [
           "Lamond Murray"
          ],
          [
           "LaSalle Thompson"
          ],
          [
           "Loren Meyer"
          ],
          [
           "LaPhonso Ellis"
          ],
          [
           "Kobe Bryant"
          ],
          [
           "Khalid Reeves"
          ],
          [
           "Kevin Willis"
          ],
          [
           "Kevin Salvadori"
          ],
          [
           "Kevin Johnson"
          ],
          [
           "Kevin Garnett"
          ],
          [
           "Kevin Gamble"
          ],
          [
           "Kevin Edwards"
          ],
          [
           "Kevin Duckworth"
          ],
          [
           "Kerry Kittles"
          ],
          [
           "Kenny Smith"
          ],
          [
           "Kurt Thomas"
          ],
          [
           "Popeye Jones"
          ],
          [
           "Priest Lauderdale"
          ],
          [
           "Rafael Addison"
          ],
          [
           "Wayman Tisdale"
          ],
          [
           "Walter McCarty"
          ],
          [
           "Walt Williams"
          ],
          [
           "Voshon Lenard"
          ],
          [
           "Vlade Divac"
          ],
          [
           "Vitaly Potapenko"
          ],
          [
           "Vinny Del Negro"
          ],
          [
           "Vincent Askew"
          ],
          [
           "Vin Baker"
          ],
          [
           "Vernon Maxwell"
          ],
          [
           "Tyus Edney"
          ],
          [
           "Tyrone Hill"
          ],
          [
           "Terry Cummings"
          ],
          [
           "Terrell Brandon"
          ],
          [
           "Stojko Vrankovic"
          ],
          [
           "Stevin Smith"
          ],
          [
           "Steven Smith"
          ],
          [
           "Steve Scheffler"
          ],
          [
           "Steve Nash"
          ],
          [
           "Steve Kerr"
          ],
          [
           "Steve Hamer"
          ],
          [
           "Stephon Marbury"
          ],
          [
           "Stephen Howard"
          ],
          [
           "Wesley Person"
          ],
          [
           "Will Perdue"
          ],
          [
           "Willie Anderson"
          ],
          [
           "Willie Burton"
          ],
          [
           "Tyrone Corbin"
          ],
          [
           "Terry Dehere"
          ],
          [
           "Terry Mills"
          ],
          [
           "Terry Porter"
          ],
          [
           "Theo Ratliff"
          ],
          [
           "Tim Hardaway"
          ],
          [
           "Tim Kempton"
          ],
          [
           "Tim Legler"
          ],
          [
           "Todd Day"
          ],
          [
           "Todd Fuller"
          ],
          [
           "Tom Chambers"
          ],
          [
           "Stanley Roberts"
          ],
          [
           "Tom Gugliotta"
          ],
          [
           "Toni Kukoc"
          ],
          [
           "Tony Delk"
          ],
          [
           "Tony Dumas"
          ],
          [
           "Tony Massenburg"
          ],
          [
           "Tony Smith"
          ],
          [
           "Tracy Moore"
          ],
          [
           "Tracy Murray"
          ],
          [
           "Travis Best"
          ],
          [
           "Zan Tabak"
          ],
          [
           "Yinka Dare"
          ],
          [
           "Xavier McDaniel"
          ],
          [
           "Tom Hammonds"
          ],
          [
           "Stacey King"
          ],
          [
           "Stacey Augmon"
          ],
          [
           "Sherman Douglas"
          ],
          [
           "Rodney Rogers"
          ],
          [
           "Rod Strickland"
          ],
          [
           "Robert Werdann"
          ],
          [
           "Robert Parish"
          ],
          [
           "Robert Pack"
          ],
          [
           "Robert Horry"
          ],
          [
           "Rik Smits"
          ],
          [
           "Ricky Pierce"
          ],
          [
           "Rick Mahorn"
          ],
          [
           "Rick Fox"
          ],
          [
           "Richard Manning"
          ],
          [
           "Ron Harper"
          ],
          [
           "Rex Walters"
          ],
          [
           "Reggie Williams"
          ],
          [
           "Reggie Slater"
          ],
          [
           "Reggie Miller"
          ],
          [
           "Reggie Jordan"
          ],
          [
           "Reggie Geary"
          ],
          [
           "Ray Owes"
          ],
          [
           "Ray Allen"
          ],
          [
           "Rasheed Wallace"
          ],
          [
           "Randy Livingston"
          ],
          [
           "Randy Brown"
          ],
          [
           "Randolph Childress"
          ],
          [
           "Rex Chapman"
          ],
          [
           "Jerome Williams"
          ],
          [
           "Rony Seikaly"
          ],
          [
           "Ruben Nembhard"
          ],
          [
           "Shawnelle Scott"
          ],
          [
           "Shawn Respert"
          ],
          [
           "Shawn Kemp"
          ],
          [
           "Shawn Bradley"
          ],
          [
           "Sharone Wright"
          ],
          [
           "Shareef Abdur-Rahim"
          ],
          [
           "Shaquille O'Neal"
          ],
          [
           "Shane Heal"
          ],
          [
           "Shandon Anderson"
          ],
          [
           "Sedale Threatt"
          ],
          [
           "Sean Rooks"
          ],
          [
           "Roy Rogers"
          ],
          [
           "Sean Elliott"
          ],
          [
           "Scott Williams"
          ],
          [
           "Scott Burrell"
          ],
          [
           "Scott Brooks"
          ],
          [
           "Sasha Danilovic"
          ],
          [
           "Sarunas Marciulionis"
          ],
          [
           "Samaki Walker"
          ],
          [
           "Sam Perkins"
          ],
          [
           "Sam Mitchell"
          ],
          [
           "Sam Mack"
          ],
          [
           "Sam Cassell"
          ],
          [
           "Rumeal Robinson"
          ],
          [
           "Scottie Pippen"
          ],
          [
           "Jerome Kersey"
          ],
          [
           "Pete Chilcutt"
          ],
          [
           "Jermaine O'Neal"
          ],
          [
           "Chris Webber"
          ],
          [
           "Chris Robinson"
          ],
          [
           "Chris Mullin"
          ],
          [
           "Chris Morris"
          ],
          [
           "Chris Mills"
          ],
          [
           "Chris Jent"
          ],
          [
           "Chris Gatling"
          ],
          [
           "Chris Dudley"
          ],
          [
           "Chris Childs"
          ],
          [
           "Chris Carr"
          ],
          [
           "Cherokee Parks"
          ],
          [
           "Charlie Ward"
          ],
          [
           "Charles Smith"
          ],
          [
           "Charles Oakley"
          ],
          [
           "Charles Jones"
          ],
          [
           "Charles Barkley"
          ],
          [
           "Cedric Ceballos"
          ],
          [
           "Carlos Rogers"
          ],
          [
           "Carl Thomas"
          ],
          [
           "Carl Herrera"
          ],
          [
           "Calbert Cheaney"
          ],
          [
           "Byron Scott"
          ],
          [
           "Bryon Russell"
          ],
          [
           "Chris Whitney"
          ],
          [
           "Christian Laettner"
          ],
          [
           "Chucky Brown"
          ],
          [
           "Clar. Weatherspoon"
          ],
          [
           "David Wingate"
          ],
          [
           "David Wesley"
          ],
          [
           "David Vaughn"
          ],
          [
           "David Robinson"
          ],
          [
           "Darvin Ham"
          ],
          [
           "Darrin Hancock"
          ],
          [
           "Darrick Martin"
          ],
          [
           "Darrell Armstrong"
          ],
          [
           "Danny Manning"
          ],
          [
           "Danny Ferry"
          ],
          [
           "Dana Barros"
          ],
          [
           "Bryant Stith"
          ],
          [
           "Dan Schayes"
          ],
          [
           "Damon Stoudamire"
          ],
          [
           "Dale Ellis"
          ],
          [
           "Dale Davis"
          ],
          [
           "Cuonzo Martin"
          ],
          [
           "Craig Ehlo"
          ],
          [
           "Cory Alexander"
          ],
          [
           "Corliss Williamson"
          ],
          [
           "Corie Blount"
          ],
          [
           "Clyde Drexler"
          ],
          [
           "Clifford Rozier"
          ],
          [
           "Clifford Robinson"
          ],
          [
           "Dan Majerle"
          ],
          [
           "Bryant Reeves"
          ],
          [
           "Bruce Bowen"
          ],
          [
           "Brooks Thompson"
          ],
          [
           "Antonio Davis"
          ],
          [
           "Antoine Walker"
          ],
          [
           "Antoine Carr"
          ],
          [
           "Anthony Peeler"
          ],
          [
           "Anthony Miller"
          ],
          [
           "Anthony Mason"
          ],
          [
           "Anthony Goldwire"
          ],
          [
           "Anfernee Hardaway"
          ],
          [
           "Andrew Lang"
          ],
          [
           "Andrew DeClercq"
          ],
          [
           "Amal McCaskill"
          ],
          [
           "Antonio Harvey"
          ],
          [
           "Alton Lister"
          ],
          [
           "Allen Iverson"
          ],
          [
           "Allan Houston"
          ],
          [
           "Aleksandar Djordjevic"
          ],
          [
           "Alan Henderson"
          ],
          [
           "Adrian Caldwell"
          ],
          [
           "Adam Keefe"
          ],
          [
           "Acie Earl"
          ],
          [
           "Aaron Williams"
          ],
          [
           "Aaron McKie"
          ],
          [
           "Jerome Allen"
          ],
          [
           "A.C. Green"
          ],
          [
           "Alonzo Mourning"
          ],
          [
           "David Wood"
          ],
          [
           "Antonio Lang"
          ],
          [
           "Armen Gilliam"
          ],
          [
           "Brian Shaw"
          ],
          [
           "Brian Grant"
          ],
          [
           "Brian Evans"
          ],
          [
           "Brett Szabo"
          ],
          [
           "Brent Scott"
          ],
          [
           "Brent Price"
          ],
          [
           "Brent Barry"
          ],
          [
           "Brad Lohaus"
          ],
          [
           "Bobby Phills"
          ],
          [
           "Bobby Hurley"
          ],
          [
           "Bob Sura"
          ],
          [
           "Antonio McDyess"
          ],
          [
           "Bo Outlaw"
          ],
          [
           "Bison Dele"
          ],
          [
           "Bimbo Coles"
          ],
          [
           "Billy Owens"
          ],
          [
           "Bill Wennington"
          ],
          [
           "Benoit Benjamin"
          ],
          [
           "Ben Wallace"
          ],
          [
           "Ben Davis"
          ],
          [
           "B.J. Armstrong"
          ],
          [
           "Avery Johnson"
          ],
          [
           "Ashraf Amaya"
          ],
          [
           "Arvydas Sabonis"
          ],
          [
           "Blue Edwards"
          ],
          [
           "Dean Garrett"
          ],
          [
           "Buck Williams"
          ],
          [
           "Dell Curry"
          ],
          [
           "Hakeem Olajuwon"
          ],
          [
           "Greg Ostertag"
          ],
          [
           "Greg Minor"
          ],
          [
           "Greg Graham"
          ],
          [
           "Greg Foster"
          ],
          [
           "Greg Dreiling"
          ],
          [
           "Greg Anthony"
          ],
          [
           "Greg Anderson"
          ],
          [
           "Grant Long"
          ],
          [
           "Grant Hill"
          ],
          [
           "Glenn Robinson"
          ],
          [
           "Harvey Grant"
          ],
          [
           "Glen Rice"
          ],
          [
           "Gerald Wilkins"
          ],
          [
           "George Zidek"
          ],
          [
           "George McCloud"
          ],
          [
           "George Lynch"
          ],
          [
           "Gaylon Nickerson"
          ],
          [
           "Gary Trent"
          ],
          [
           "Gary Payton"
          ],
          [
           "Gary Grant"
          ],
          [
           "Fred Roberts"
          ],
          [
           "Fred Hoiberg"
          ],
          [
           "Frankie King"
          ],
          [
           "Gheorghe Muresan"
          ],
          [
           "Frank Brickowski"
          ],
          [
           "Haywoode Workman"
          ],
          [
           "Herb Williams"
          ],
          [
           "Jeff McInnis"
          ],
          [
           "Dee Brown"
          ],
          [
           "Jeff Grayer"
          ],
          [
           "Jayson Williams"
          ],
          [
           "Jason Sasser"
          ],
          [
           "Jason Kidd"
          ],
          [
           "Jason Caffey"
          ],
          [
           "Jaren Jackson"
          ],
          [
           "Jamie Watson"
          ],
          [
           "Jamie Feick"
          ],
          [
           "James Scott"
          ],
          [
           "Henry James"
          ],
          [
           "James Robinson"
          ],
          [
           "Jalen Rose"
          ],
          [
           "Jack Haley"
          ],
          [
           "Ivano Newbill"
          ],
          [
           "Isaiah Rider"
          ],
          [
           "Ike Austin"
          ],
          [
           "Hubert Davis"
          ],
          [
           "Howard Eisley"
          ],
          [
           "Hot Rod Williams"
          ],
          [
           "Horacio Llamas"
          ],
          [
           "Horace Grant"
          ],
          [
           "Hersey Hawkins"
          ],
          [
           "Jamal Mashburn"
          ],
          [
           "Felton Spencer"
          ],
          [
           "Jeff Hornacek"
          ],
          [
           "Ervin Johnson"
          ],
          [
           "Donyell Marshall"
          ],
          [
           "Dontonio Wingfield"
          ],
          [
           "Donny Marshall"
          ],
          [
           "Donnie Boyce"
          ],
          [
           "Donald Whiteside"
          ],
          [
           "Donald Royal"
          ],
          [
           "Don Reid"
          ],
          [
           "Don MacLean"
          ],
          [
           "Dominique Wilkins"
          ],
          [
           "Dino Radja"
          ],
          [
           "Dikembe Mutombo"
          ],
          [
           "Doug Christie"
          ],
          [
           "Dickey Simpkins"
          ],
          [
           "Devin Gray"
          ],
          [
           "Detlef Schrempf"
          ],
          [
           "Derrick McKey"
          ],
          [
           "Derrick Coleman"
          ],
          [
           "Derrick Alston"
          ],
          [
           "Derek Strong"
          ],
          [
           "Derek Harper"
          ],
          [
           "Derek Fisher"
          ],
          [
           "Dennis Scott"
          ],
          [
           "Dennis Rodman"
          ],
          [
           "Evric Gray"
          ],
          [
           "Dexter Boney"
          ],
          [
           "Doug Overton"
          ],
          [
           "Dell Demps"
          ],
          [
           "Duane Causwell"
          ],
          [
           "Doug West"
          ],
          [
           "Erick Strickland"
          ],
          [
           "Erick Dampier"
          ],
          [
           "Eric Williams"
          ],
          [
           "Eric Snow"
          ],
          [
           "Eric Piatkowski"
          ],
          [
           "Eric Murdock"
          ],
          [
           "Eric Mobley"
          ],
          [
           "Eric Leckner"
          ],
          [
           "Ennis Whatley"
          ],
          [
           "Emanual Davis"
          ],
          [
           "Eric Montross"
          ],
          [
           "Elmer Bennett"
          ],
          [
           "Duane Ferrell"
          ],
          [
           "Elmore Spencer"
          ],
          [
           "Earl Cureton"
          ],
          [
           "Ed O'Bannon"
          ],
          [
           "Ed Pinckney"
          ],
          [
           "Dwayne Schintzius"
          ],
          [
           "Eddie Jones"
          ],
          [
           "Elden Campbell"
          ],
          [
           "Eldridge Recasner"
          ],
          [
           "Elliot Perry"
          ],
          [
           "Eddie Johnson"
          ],
          [
           "Ed Gray"
          ],
          [
           "Dontonio Wingfield"
          ],
          [
           "Donyell Marshall"
          ],
          [
           "Doug Christie"
          ],
          [
           "Doug Overton"
          ],
          [
           "Doug West"
          ],
          [
           "Drew Barry"
          ],
          [
           "Duane Causwell"
          ],
          [
           "Duane Ferrell"
          ],
          [
           "Ed Stokes"
          ],
          [
           "Eric Washington"
          ],
          [
           "Eddie Jones"
          ],
          [
           "Elden Campbell"
          ],
          [
           "Eldridge Recasner"
          ],
          [
           "Elliot Perry"
          ],
          [
           "Emanual Davis"
          ],
          [
           "Eric Montross"
          ],
          [
           "Eric Murdock"
          ],
          [
           "Eric Piatkowski"
          ],
          [
           "Eric Riley"
          ],
          [
           "Eric Snow"
          ],
          [
           "Dontae' Jones"
          ],
          [
           "Eric Williams"
          ],
          [
           "Eddie Johnson"
          ],
          [
           "Donald Whiteside"
          ],
          [
           "Derek Fisher"
          ],
          [
           "Don Reid"
          ],
          [
           "Darrick Martin"
          ],
          [
           "Erick Dampier"
          ],
          [
           "Darvin Ham"
          ],
          [
           "David Benoit"
          ],
          [
           "David Robinson"
          ],
          [
           "David Vaughn"
          ],
          [
           "David Wesley"
          ],
          [
           "David Wingate"
          ],
          [
           "DeJuan Wheat"
          ],
          [
           "Dean Garrett"
          ],
          [
           "Dee Brown"
          ],
          [
           "Donald Royal"
          ],
          [
           "Dell Curry"
          ],
          [
           "Dennis Scott"
          ],
          [
           "Derek Anderson"
          ],
          [
           "Derek Grimm"
          ],
          [
           "Derek Harper"
          ],
          [
           "Derek Strong"
          ],
          [
           "Derrick Coleman"
          ],
          [
           "Derrick McKey"
          ],
          [
           "Detlef Schrempf"
          ],
          [
           "Dickey Simpkins"
          ],
          [
           "Dikembe Mutombo"
          ],
          [
           "Don MacLean"
          ],
          [
           "Dennis Rodman"
          ],
          [
           "Erick Strickland"
          ],
          [
           "Harvey Grant"
          ],
          [
           "Etdrick Bohannon"
          ],
          [
           "Hot Rod Williams"
          ],
          [
           "Howard Eisley"
          ],
          [
           "Hubert Davis"
          ],
          [
           "Ike Austin"
          ],
          [
           "Isaiah Rider"
          ],
          [
           "Ivano Newbill"
          ],
          [
           "J.R. Reid"
          ],
          [
           "Jack Haley"
          ],
          [
           "Jacque Vaughn"
          ],
          [
           "Jalen Rose"
          ],
          [
           "Jamal Mashburn"
          ],
          [
           "James Collins"
          ],
          [
           "James Cotton"
          ],
          [
           "James Robinson"
          ],
          [
           "Jamie Feick"
          ],
          [
           "Jaren Jackson"
          ],
          [
           "Jason Caffey"
          ],
          [
           "Jason Kidd"
          ],
          [
           "Jason Lawson"
          ],
          [
           "Jayson Williams"
          ],
          [
           "Jeff Grayer"
          ],
          [
           "Jeff Hornacek"
          ],
          [
           "Darrell Armstrong"
          ],
          [
           "Horacio Llamas"
          ],
          [
           "Horace Grant"
          ],
          [
           "Hersey Hawkins"
          ],
          [
           "Herb Williams"
          ],
          [
           "Felton Spencer"
          ],
          [
           "Fred Hoiberg"
          ],
          [
           "Gary Grant"
          ],
          [
           "Gary Payton"
          ],
          [
           "Jeff Nordgaard"
          ],
          [
           "George Lynch"
          ],
          [
           "George McCloud"
          ],
          [
           "George Zidek"
          ],
          [
           "Gerald Madkins"
          ],
          [
           "Gerald Wilkins"
          ],
          [
           "Glen Rice"
          ],
          [
           "Ervin Johnson"
          ],
          [
           "Glenn Robinson"
          ],
          [
           "Grant Hill"
          ],
          [
           "Grant Long"
          ],
          [
           "Greg Anderson"
          ],
          [
           "Greg Anthony"
          ],
          [
           "Greg Foster"
          ],
          [
           "Greg Graham"
          ],
          [
           "Greg Minor"
          ],
          [
           "Greg Ostertag"
          ],
          [
           "Hakeem Olajuwon"
          ],
          [
           "Harold Ellis"
          ],
          [
           "Henry James"
          ],
          [
           "God Shammgod"
          ],
          [
           "Danny Manning"
          ],
          [
           "A.C. Green"
          ],
          [
           "Dana Barros"
          ],
          [
           "Armen Gilliam"
          ],
          [
           "Arvydas Sabonis"
          ],
          [
           "Austin Croshere"
          ],
          [
           "Avery Johnson"
          ],
          [
           "B.J. Armstrong"
          ],
          [
           "Ben Davis"
          ],
          [
           "Ben Wallace"
          ],
          [
           "Benoit Benjamin"
          ],
          [
           "Bill Curley"
          ],
          [
           "Bill Wennington"
          ],
          [
           "Billy Owens"
          ],
          [
           "Bimbo Coles"
          ],
          [
           "Bison Dele"
          ],
          [
           "Blue Edwards"
          ],
          [
           "Bo Outlaw"
          ],
          [
           "Bob McCann"
          ],
          [
           "Bob Sura"
          ],
          [
           "Bobby Hurley"
          ],
          [
           "Bobby Jackson"
          ],
          [
           "Bobby Phills"
          ],
          [
           "Brad Lohaus"
          ],
          [
           "Brandon Williams"
          ],
          [
           "Brent Barry"
          ],
          [
           "Antonio McDyess"
          ],
          [
           "Antonio Lang"
          ],
          [
           "Antonio Davis"
          ],
          [
           "Antonio Daniels"
          ],
          [
           "Jerald Honeycutt"
          ],
          [
           "Aaron McKie"
          ],
          [
           "Aaron Williams"
          ],
          [
           "Adam Keefe"
          ],
          [
           "Adonal Foyle"
          ],
          [
           "Adrian Caldwell"
          ],
          [
           "Alan Henderson"
          ],
          [
           "Allan Houston"
          ],
          [
           "Allen Iverson"
          ],
          [
           "Alonzo Mourning"
          ],
          [
           "Alton Lister"
          ],
          [
           "Brent Price"
          ],
          [
           "Alvin Williams"
          ],
          [
           "Andrew Lang"
          ],
          [
           "Anfernee Hardaway"
          ],
          [
           "Anthony Bowie"
          ],
          [
           "Anthony Goldwire"
          ],
          [
           "Anthony Johnson"
          ],
          [
           "Anthony Mason"
          ],
          [
           "Anthony Miller"
          ],
          [
           "Anthony Parker"
          ],
          [
           "Anthony Peeler"
          ],
          [
           "Antoine Carr"
          ],
          [
           "Antoine Walker"
          ],
          [
           "Andrew DeClercq"
          ],
          [
           "Brevin Knight"
          ],
          [
           "Brian Evans"
          ],
          [
           "Brian Grant"
          ],
          [
           "Chris Garner"
          ],
          [
           "Chris Gatling"
          ],
          [
           "Chris Mills"
          ],
          [
           "Chris Morris"
          ],
          [
           "Chris Mullin"
          ],
          [
           "Chris Robinson"
          ],
          [
           "Chris Webber"
          ],
          [
           "Chris Whitney"
          ],
          [
           "Christian Laettner"
          ],
          [
           "Chuck Person"
          ],
          [
           "Chucky Brown"
          ],
          [
           "Chris Dudley"
          ],
          [
           "Clar. Weatherspoon"
          ],
          [
           "Clifford Rozier"
          ],
          [
           "Clyde Drexler"
          ],
          [
           "Corey Beck"
          ],
          [
           "Corie Blount"
          ],
          [
           "Corliss Williamson"
          ],
          [
           "Cory Alexander"
          ],
          [
           "Dale Davis"
          ],
          [
           "Dale Ellis"
          ],
          [
           "Damon Stoudamire"
          ],
          [
           "Dan Majerle"
          ],
          [
           "Dan Schayes"
          ],
          [
           "Clifford Robinson"
          ],
          [
           "Danny Fortson"
          ],
          [
           "Chris Crawford"
          ],
          [
           "Chris Carr"
          ],
          [
           "Brian Oliver"
          ],
          [
           "Brian Shaw"
          ],
          [
           "Brooks Thompson"
          ],
          [
           "Bruce Bowen"
          ],
          [
           "Bryant Reeves"
          ],
          [
           "Bryant Stith"
          ],
          [
           "Bryon Russell"
          ],
          [
           "Bubba Wells"
          ],
          [
           "Buck Williams"
          ],
          [
           "Calbert Cheaney"
          ],
          [
           "Carl Herrera"
          ],
          [
           "Chris Childs"
          ],
          [
           "Carl Thomas"
          ],
          [
           "Cedric Ceballos"
          ],
          [
           "Cedric Henderson"
          ],
          [
           "Charles Barkley"
          ],
          [
           "Charles Jones"
          ],
          [
           "Charles O'Bannon"
          ],
          [
           "Charles Oakley"
          ],
          [
           "Charles Smith"
          ],
          [
           "Charlie Ward"
          ],
          [
           "Chauncey Billups"
          ],
          [
           "Cherokee Parks"
          ],
          [
           "Chris Anstey"
          ],
          [
           "Carlos Rogers"
          ],
          [
           "Jermaine O'Neal"
          ],
          [
           "Danny Ferry"
          ],
          [
           "Jerome Williams"
          ],
          [
           "Scott Williams"
          ],
          [
           "Scottie Pippen"
          ],
          [
           "Sean Elliott"
          ],
          [
           "Sean Higgins"
          ],
          [
           "Sean Rooks"
          ],
          [
           "Shandon Anderson"
          ],
          [
           "Shaquille O'Neal"
          ],
          [
           "Shareef Abdur-Rahim"
          ],
          [
           "Sharone Wright"
          ],
          [
           "Shawn Bradley"
          ],
          [
           "Shawn Kemp"
          ],
          [
           "Shawn Respert"
          ],
          [
           "Shawnelle Scott"
          ],
          [
           "Shea Seals"
          ],
          [
           "Sherman Douglas"
          ],
          [
           "Spud Webb"
          ],
          [
           "Stacey Augmon"
          ],
          [
           "Stanley Roberts"
          ],
          [
           "Stephen Howard"
          ],
          [
           "Stephon Marbury"
          ],
          [
           "Steve Henson"
          ],
          [
           "Steve Kerr"
          ],
          [
           "Steve Nash"
          ],
          [
           "Scott Burrell"
          ],
          [
           "Scott Brooks"
          ],
          [
           "Scot Pollard"
          ],
          [
           "Samaki Walker"
          ],
          [
           "Reggie Jordan"
          ],
          [
           "Reggie Miller"
          ],
          [
           "Reggie Slater"
          ],
          [
           "Rex Chapman"
          ],
          [
           "Rex Walters"
          ],
          [
           "Rick Brunson"
          ],
          [
           "Rick Fox"
          ],
          [
           "Rick Mahorn"
          ],
          [
           "Ricky Pierce"
          ],
          [
           "Rik Smits"
          ],
          [
           "Robert Horry"
          ],
          [
           "Steven Smith"
          ],
          [
           "Robert Pack"
          ],
          [
           "Rodney Rogers"
          ],
          [
           "Rodrick Rhodes"
          ],
          [
           "Ron Harper"
          ],
          [
           "Ron Mercer"
          ],
          [
           "Rony Seikaly"
          ],
          [
           "Roy Rogers"
          ],
          [
           "Rusty LaRue"
          ],
          [
           "Sam Cassell"
          ],
          [
           "Sam Mack"
          ],
          [
           "Sam Mitchell"
          ],
          [
           "Sam Perkins"
          ],
          [
           "Rod Strickland"
          ],
          [
           "Reggie Hanson"
          ],
          [
           "Stojko Vrankovic"
          ],
          [
           "Terrell Brandon"
          ],
          [
           "Travis Williams"
          ],
          [
           "Troy Hudson"
          ],
          [
           "Tyrone Corbin"
          ],
          [
           "Tyrone Hill"
          ],
          [
           "Tyus Edney"
          ],
          [
           "Vernon Maxwell"
          ],
          [
           "Vin Baker"
          ],
          [
           "Vincent Askew"
          ],
          [
           "Vinny Del Negro"
          ],
          [
           "Vitaly Potapenko"
          ],
          [
           "Vlade Divac"
          ],
          [
           "Voshon Lenard"
          ],
          [
           "Walt Williams"
          ],
          [
           "Walter McCarty"
          ],
          [
           "Wesley Person"
          ],
          [
           "Will Perdue"
          ],
          [
           "William Cunningham"
          ],
          [
           "Willie Burton"
          ],
          [
           "Xavier McDaniel"
          ],
          [
           "Yinka Dare"
          ],
          [
           "Zan Tabak"
          ],
          [
           "Zydrunas Ilgauskas"
          ],
          [
           "Jerome Kersey"
          ],
          [
           "Travis Knight"
          ],
          [
           "Travis Best"
          ],
          [
           "Tracy Murray"
          ],
          [
           "Tracy McGrady"
          ],
          [
           "Terry Cummings"
          ],
          [
           "Terry Davis"
          ],
          [
           "Terry Dehere"
          ],
          [
           "Terry Mills"
          ],
          [
           "Terry Porter"
          ],
          [
           "Theo Ratliff"
          ],
          [
           "Tim Breaux"
          ],
          [
           "Tim Duncan"
          ],
          [
           "Tim Hardaway"
          ],
          [
           "Tim Kempton"
          ],
          [
           "Tim Legler"
          ],
          [
           "Tariq Abdul-Wahad"
          ],
          [
           "Tim Thomas"
          ],
          [
           "Todd Fuller"
          ],
          [
           "Tom Chambers"
          ],
          [
           "Tom Gugliotta"
          ],
          [
           "Tom Hammonds"
          ],
          [
           "Toni Kukoc"
          ],
          [
           "Tony Battie"
          ],
          [
           "Tony Delk"
          ],
          [
           "Tony Dumas"
          ],
          [
           "Tony Farmer"
          ],
          [
           "Tony Massenburg"
          ],
          [
           "Tony Smith"
          ],
          [
           "Todd Day"
          ],
          [
           "Reggie Geary"
          ],
          [
           "Gary Trent"
          ],
          [
           "Rasheed Wallace"
          ],
          [
           "Kevin Edwards"
          ],
          [
           "Kevin Garnett"
          ],
          [
           "Kevin Johnson"
          ],
          [
           "Kevin Ollie"
          ],
          [
           "Kevin Salvadori"
          ],
          [
           "Kevin Willis"
          ],
          [
           "Khalid Reeves"
          ],
          [
           "Kiwane Garris"
          ],
          [
           "Kobe Bryant"
          ],
          [
           "Kurt Thomas"
          ],
          [
           "LaPhonso Ellis"
          ],
          [
           "Lamond Murray"
          ],
          [
           "Larry Johnson"
          ],
          [
           "Larry Robinson"
          ],
          [
           "Latrell Sprewell"
          ],
          [
           "Lawrence Funderburke"
          ],
          [
           "Lawrence Moten"
          ],
          [
           "Ledell Eackles"
          ],
          [
           "Lee Mayberry"
          ],
          [
           "Lindsey Hunter"
          ],
          [
           "Litterial Green"
          ],
          [
           "Lloyd Daniels"
          ],
          [
           "Lorenzen Wright"
          ],
          [
           "Kerry Kittles"
          ],
          [
           "Kenny Anderson"
          ],
          [
           "Kendall Gill"
          ],
          [
           "Kelvin Cato"
          ],
          [
           "Jerry Stackhouse"
          ],
          [
           "Jim McIlvaine"
          ],
          [
           "Jimmy Oliver"
          ],
          [
           "Joe Dumars"
          ],
          [
           "Joe Kleine"
          ],
          [
           "Joe Smith"
          ],
          [
           "Joe Stephens"
          ],
          [
           "Joe Wolf"
          ],
          [
           "John Crotty"
          ],
          [
           "John Starks"
          ],
          [
           "John Stockton"
          ],
          [
           "Lorenzo Williams"
          ],
          [
           "John Thomas"
          ],
          [
           "Johnny Newman"
          ],
          [
           "Johnny Taylor"
          ],
          [
           "Jon Barry"
          ],
          [
           "Jud Buechler"
          ],
          [
           "Juwan Howard"
          ],
          [
           "Karl Malone"
          ],
          [
           "Kebu Stewart"
          ],
          [
           "Keith Askins"
          ],
          [
           "Keith Booth"
          ],
          [
           "Keith Closs"
          ],
          [
           "Keith Van Horn"
          ],
          [
           "John Wallace"
          ],
          [
           "Loy Vaught"
          ],
          [
           "Jim Jackson"
          ],
          [
           "Lucious Harris"
          ],
          [
           "Micheal Williams"
          ],
          [
           "Mitch Richmond"
          ],
          [
           "Mitchell Butler"
          ],
          [
           "Monty Williams"
          ],
          [
           "Mookie Blaylock"
          ],
          [
           "Muggsy Bogues"
          ],
          [
           "Nate McMillan"
          ],
          [
           "Nick Anderson"
          ],
          [
           "Nick Van Exel"
          ],
          [
           "Luc Longley"
          ],
          [
           "Oliver Miller"
          ],
          [
           "Michael Stewart"
          ],
          [
           "Othella Harrington"
          ],
          [
           "P.J. Brown"
          ],
          [
           "Patrick Ewing"
          ],
          [
           "Pervis Ellison"
          ],
          [
           "Pete Chilcutt"
          ],
          [
           "Pete Myers"
          ],
          [
           "Pooh Richardson"
          ],
          [
           "Popeye Jones"
          ],
          [
           "Priest Lauderdale"
          ],
          [
           "Randy Brown"
          ],
          [
           "Ray Allen"
          ],
          [
           "Randy Livingston"
          ],
          [
           "Otis Thorpe"
          ],
          [
           "Michael Smith"
          ],
          [
           "Olden Polynice"
          ],
          [
           "Michael Jordan"
          ],
          [
           "Michael McDonald"
          ],
          [
           "Malik Rose"
          ],
          [
           "Malik Sealy"
          ],
          [
           "Marcus Camby"
          ],
          [
           "Mario Bennett"
          ],
          [
           "Mario Elie"
          ],
          [
           "Mark Bryant"
          ],
          [
           "Mark Davis"
          ],
          [
           "Mark Hendrickson"
          ],
          [
           "Mark Jackson"
          ],
          [
           "Mark Pope"
          ],
          [
           "Mark Price"
          ],
          [
           "Mahmoud Abdul-Rauf"
          ],
          [
           "Mark West"
          ],
          [
           "Marko Milic"
          ],
          [
           "Martin Muursepp"
          ],
          [
           "Marty Conlon"
          ],
          [
           "Matt Bullard"
          ],
          [
           "Matt Geiger"
          ],
          [
           "Matt Maloney"
          ],
          [
           "Maurice Taylor"
          ],
          [
           "Michael Cage"
          ],
          [
           "Michael Curry"
          ],
          [
           "Michael Finley"
          ],
          [
           "Mark Strickland"
          ],
          [
           "Dana Barros"
          ],
          [
           "Dan Schayes"
          ],
          [
           "Dan Majerle"
          ],
          [
           "Damon Stoudamire"
          ],
          [
           "Cory Carr"
          ],
          [
           "Dale Ellis"
          ],
          [
           "Dale Davis"
          ],
          [
           "Cuttino Mobley"
          ],
          [
           "Danny Ferry"
          ],
          [
           "Damon Jones"
          ],
          [
           "Danny Fortson"
          ],
          [
           "David Wesley"
          ],
          [
           "Darrell Armstrong"
          ],
          [
           "Darrick Martin"
          ],
          [
           "David Robinson"
          ],
          [
           "David Vaughn"
          ],
          [
           "David Wingate"
          ],
          [
           "DeJuan Wheat"
          ],
          [
           "Dean Garrett"
          ],
          [
           "Dee Brown"
          ],
          [
           "Dell Curry"
          ],
          [
           "Dennis Rodman"
          ],
          [
           "Danny Manning"
          ],
          [
           "Cory Alexander"
          ],
          [
           "Charles R. Jones"
          ],
          [
           "Corie Blount"
          ],
          [
           "Charles Shackleford"
          ],
          [
           "Charles Smith"
          ],
          [
           "Charlie Ward"
          ],
          [
           "Chauncey Billups"
          ],
          [
           "Cherokee Parks"
          ],
          [
           "Chris Anstey"
          ],
          [
           "Chris Carr"
          ],
          [
           "Chris Childs"
          ],
          [
           "Chris Crawford"
          ],
          [
           "Chris Dudley"
          ],
          [
           "Chris Gatling"
          ],
          [
           "Corliss Williamson"
          ],
          [
           "Chris King"
          ],
          [
           "Chris Morris"
          ],
          [
           "Chris Mullin"
          ],
          [
           "Chris Webber"
          ],
          [
           "Chris Whitney"
          ],
          [
           "Christian Laettner"
          ],
          [
           "Chuck Person"
          ],
          [
           "Chucky Brown"
          ],
          [
           "Clar. Weatherspoon"
          ],
          [
           "Clifford Robinson"
          ],
          [
           "Corey Beck"
          ],
          [
           "Corey Benjamin"
          ],
          [
           "Chris Mills"
          ],
          [
           "Dennis Scott"
          ],
          [
           "Elden Campbell"
          ],
          [
           "Derek Fisher"
          ],
          [
           "Eric Riley"
          ],
          [
           "Eric Snow"
          ],
          [
           "Eric Washington"
          ],
          [
           "Eric Williams"
          ],
          [
           "Erick Dampier"
          ],
          [
           "Erick Strickland"
          ],
          [
           "Ervin Johnson"
          ],
          [
           "Etdrick Bohannon"
          ],
          [
           "Felipe Lopez"
          ],
          [
           "Felton Spencer"
          ],
          [
           "Fred Hoiberg"
          ],
          [
           "Gary Grant"
          ],
          [
           "Gary Payton"
          ],
          [
           "Gary Trent"
          ],
          [
           "George Lynch"
          ],
          [
           "George McCloud"
          ],
          [
           "Gerald Brown"
          ],
          [
           "Gerald Wilkins"
          ],
          [
           "Gerard King"
          ],
          [
           "Gheorghe Muresan"
          ],
          [
           "Glen Rice"
          ],
          [
           "Glenn Robinson"
          ],
          [
           "Charles Oakley"
          ],
          [
           "Eric Piatkowski"
          ],
          [
           "Eric Murdock"
          ],
          [
           "Eric Montross"
          ],
          [
           "Elliot Perry"
          ],
          [
           "Derek Harper"
          ],
          [
           "Derek Strong"
          ],
          [
           "Derrick Coleman"
          ],
          [
           "Derrick McKey"
          ],
          [
           "Detlef Schrempf"
          ],
          [
           "Dickey Simpkins"
          ],
          [
           "Dikembe Mutombo"
          ],
          [
           "Dirk Nowitzki"
          ],
          [
           "Dominique Wilkins"
          ],
          [
           "Don MacLean"
          ],
          [
           "Don Reid"
          ],
          [
           "Derek Anderson"
          ],
          [
           "Donyell Marshall"
          ],
          [
           "Doug Overton"
          ],
          [
           "Doug West"
          ],
          [
           "Drew Barry"
          ],
          [
           "Duane Causwell"
          ],
          [
           "Duane Ferrell"
          ],
          [
           "Dwayne Schintzius"
          ],
          [
           "Earl Boykins"
          ],
          [
           "Ed Gray"
          ],
          [
           "Eddie Johnson"
          ],
          [
           "Eddie Jones"
          ],
          [
           "Eldridge Recasner"
          ],
          [
           "Doug Christie"
          ],
          [
           "Charles O'Bannon"
          ],
          [
           "Anfernee Hardaway"
          ],
          [
           "Cedric Henderson"
          ],
          [
           "Tony Delk"
          ],
          [
           "Tony Battie"
          ],
          [
           "Toni Kukoc"
          ],
          [
           "Tom Hammonds"
          ],
          [
           "Tom Gugliotta"
          ],
          [
           "Todd Fuller"
          ],
          [
           "Toby Bailey"
          ],
          [
           "Tim Thomas"
          ],
          [
           "Tim Legler"
          ],
          [
           "Tim Hardaway"
          ],
          [
           "Tim Duncan"
          ],
          [
           "Tony Massenburg"
          ],
          [
           "A.C. Green"
          ],
          [
           "Aaron Williams"
          ],
          [
           "Adam Keefe"
          ],
          [
           "Adonal Foyle"
          ],
          [
           "Adonis Jordan"
          ],
          [
           "Al Harrington"
          ],
          [
           "Alan Henderson"
          ],
          [
           "Allan Houston"
          ],
          [
           "Allen Iverson"
          ],
          [
           "Alonzo Mourning"
          ],
          [
           "Alvin Sims"
          ],
          [
           "Alvin Williams"
          ],
          [
           "Aaron McKie"
          ],
          [
           "Andrae Patterson"
          ],
          [
           "Tracy McGrady"
          ],
          [
           "Travis Best"
          ],
          [
           "Zydrunas Ilgauskas"
          ],
          [
           "Willie Burton"
          ],
          [
           "William Cunningham"
          ],
          [
           "Will Perdue"
          ],
          [
           "Wesley Person"
          ],
          [
           "Walter McCarty"
          ],
          [
           "Walt Williams"
          ],
          [
           "Voshon Lenard"
          ],
          [
           "Vladimir Stepania"
          ],
          [
           "Vlade Divac"
          ],
          [
           "Vitaly Potapenko"
          ],
          [
           "Tracy Murray"
          ],
          [
           "Vinny Del Negro"
          ],
          [
           "Vin Baker"
          ],
          [
           "Vernon Maxwell"
          ],
          [
           "Tyson Wheeler"
          ],
          [
           "Tyronn Lue"
          ],
          [
           "Tyrone Nesby"
          ],
          [
           "Tyrone Hill"
          ],
          [
           "Tyrone Corbin"
          ],
          [
           "Troy Hudson"
          ],
          [
           "Trevor Winter"
          ],
          [
           "Travis Williams"
          ],
          [
           "Travis Knight"
          ],
          [
           "Vince Carter"
          ],
          [
           "Charles Barkley"
          ],
          [
           "Andrew DeClercq"
          ],
          [
           "Andrew Lang"
          ],
          [
           "Bob Sura"
          ],
          [
           "Bobby Jackson"
          ],
          [
           "Bobby Phills"
          ],
          [
           "Bonzi Wells"
          ],
          [
           "Brad Miller"
          ],
          [
           "Brandon Williams"
          ],
          [
           "Brent Barry"
          ],
          [
           "Brent Price"
          ],
          [
           "Brevin Knight"
          ],
          [
           "Brian Evans"
          ],
          [
           "Brian Grant"
          ],
          [
           "Bo Outlaw"
          ],
          [
           "Brian Shaw"
          ],
          [
           "Bruce Bowen"
          ],
          [
           "Bruno Sundov"
          ],
          [
           "Bryant Reeves"
          ],
          [
           "Bryant Stith"
          ],
          [
           "Bryce Drew"
          ],
          [
           "Bryon Russell"
          ],
          [
           "Calbert Cheaney"
          ],
          [
           "Carl Herrera"
          ],
          [
           "Carlos Rogers"
          ],
          [
           "Casey Shaw"
          ],
          [
           "Cedric Ceballos"
          ],
          [
           "Brian Skinner"
          ],
          [
           "Andrew Gaze"
          ],
          [
           "Blue Edwards"
          ],
          [
           "Bimbo Coles"
          ],
          [
           "Grant Hill"
          ],
          [
           "Antawn Jamison"
          ],
          [
           "Anthony Avent"
          ],
          [
           "Anthony Johnson"
          ],
          [
           "Anthony Miller"
          ],
          [
           "Anthony Parker"
          ],
          [
           "Anthony Peeler"
          ],
          [
           "Antoine Carr"
          ],
          [
           "Antoine Walker"
          ],
          [
           "Antonio Daniels"
          ],
          [
           "Antonio Davis"
          ],
          [
           "Bison Dele"
          ],
          [
           "Antonio Lang"
          ],
          [
           "Armen Gilliam"
          ],
          [
           "Arvydas Sabonis"
          ],
          [
           "Austin Croshere"
          ],
          [
           "Avery Johnson"
          ],
          [
           "B.J. Armstrong"
          ],
          [
           "Ben Davis"
          ],
          [
           "Ben Wallace"
          ],
          [
           "Benoit Benjamin"
          ],
          [
           "Bill Curley"
          ],
          [
           "Bill Wennington"
          ],
          [
           "Billy Owens"
          ],
          [
           "Antonio McDyess"
          ],
          [
           "Grant Long"
          ],
          [
           "Greg Minor"
          ],
          [
           "Greg Foster"
          ],
          [
           "Pat Garrity"
          ],
          [
           "Patrick Ewing"
          ],
          [
           "Paul Grant"
          ],
          [
           "Paul Pierce"
          ],
          [
           "Peja Stojakovic"
          ],
          [
           "Pete Chilcutt"
          ],
          [
           "Peter Aluma"
          ],
          [
           "Pooh Richardson"
          ],
          [
           "Popeye Jones"
          ],
          [
           "Raef LaFrentz"
          ],
          [
           "Randell Jackson"
          ],
          [
           "Randy Brown"
          ],
          [
           "Randy Livingston"
          ],
          [
           "Rashard Lewis"
          ],
          [
           "Rasheed Wallace"
          ],
          [
           "Rasho Nesterovic"
          ],
          [
           "Ray Allen"
          ],
          [
           "Reggie Jordan"
          ],
          [
           "Reggie Miller"
          ],
          [
           "Reggie Slater"
          ],
          [
           "Rex Chapman"
          ],
          [
           "Greg Anthony"
          ],
          [
           "Rick Brunson"
          ],
          [
           "P.J. Brown"
          ],
          [
           "Otis Thorpe"
          ],
          [
           "Othella Harrington"
          ],
          [
           "Oliver Miller"
          ],
          [
           "Maurice Taylor"
          ],
          [
           "Michael Curry"
          ],
          [
           "Michael Dickerson"
          ],
          [
           "Michael Doleac"
          ],
          [
           "Michael Finley"
          ],
          [
           "Michael Hawkins"
          ],
          [
           "Michael Olowokandi"
          ],
          [
           "Michael Smith"
          ],
          [
           "Michael Stewart"
          ],
          [
           "Micheal Williams"
          ],
          [
           "Mike Bibby"
          ],
          [
           "Rick Fox"
          ],
          [
           "Mikki Moore"
          ],
          [
           "Mitch Richmond"
          ],
          [
           "Mitchell Butler"
          ],
          [
           "Monty Williams"
          ],
          [
           "Moochie Norris"
          ],
          [
           "Mookie Blaylock"
          ],
          [
           "Muggsy Bogues"
          ],
          [
           "Nazr Mohammed"
          ],
          [
           "Negele Knight"
          ],
          [
           "Nick Anderson"
          ],
          [
           "Nick Van Exel"
          ],
          [
           "Olden Polynice"
          ],
          [
           "Miles Simon"
          ],
          [
           "Matt Maloney"
          ],
          [
           "Rick Mahorn"
          ],
          [
           "Rik Smits"
          ],
          [
           "Shaquille O'Neal"
          ],
          [
           "Shareef Abdur-Rahim"
          ],
          [
           "Shawn Bradley"
          ],
          [
           "Shawn Kemp"
          ],
          [
           "Shawn Respert"
          ],
          [
           "Sherman Douglas"
          ],
          [
           "Stacey Augmon"
          ],
          [
           "Stanley Roberts"
          ],
          [
           "Stephon Marbury"
          ],
          [
           "Steve Henson"
          ],
          [
           "Steve Kerr"
          ],
          [
           "Steve Nash"
          ],
          [
           "Steven Smith"
          ],
          [
           "Stojko Vrankovic"
          ],
          [
           "Tariq Abdul-Wahad"
          ],
          [
           "Terrell Brandon"
          ],
          [
           "Terry Cummings"
          ],
          [
           "Terry Davis"
          ],
          [
           "Terry Dehere"
          ],
          [
           "Terry Mills"
          ],
          [
           "Thurl Bailey"
          ],
          [
           "Theo Ratliff"
          ],
          [
           "Terry Porter"
          ],
          [
           "Shandon Anderson"
          ],
          [
           "Shammond Williams"
          ],
          [
           "Sean Rooks"
          ],
          [
           "Sean Marks"
          ],
          [
           "Robert Horry"
          ],
          [
           "Robert Pack"
          ],
          [
           "Robert Traylor"
          ],
          [
           "Rod Strickland"
          ],
          [
           "Rodney Rogers"
          ],
          [
           "Rodrick Rhodes"
          ],
          [
           "Ron Harper"
          ],
          [
           "Ron Mercer"
          ],
          [
           "Rony Seikaly"
          ],
          [
           "Roshown McLeod"
          ],
          [
           "Ruben Patterson"
          ],
          [
           "Ricky Davis"
          ],
          [
           "Rusty LaRue"
          ],
          [
           "Sam Cassell"
          ],
          [
           "Sam Jacobson"
          ],
          [
           "Sam Mack"
          ],
          [
           "Sam Mitchell"
          ],
          [
           "Sam Perkins"
          ],
          [
           "Samaki Walker"
          ],
          [
           "Scot Pollard"
          ],
          [
           "Scott Burrell"
          ],
          [
           "Scott Williams"
          ],
          [
           "Scottie Pippen"
          ],
          [
           "Sean Elliott"
          ],
          [
           "Ryan Stack"
          ],
          [
           "Matt Harpring"
          ],
          [
           "Rex Walters"
          ],
          [
           "Matt Bullard"
          ],
          [
           "Jeff Hornacek"
          ],
          [
           "Jeff McInnis"
          ],
          [
           "Jeff Sheppard"
          ],
          [
           "Jelani McCoy"
          ],
          [
           "Jerald Honeycutt"
          ],
          [
           "Jermaine O'Neal"
          ],
          [
           "Jerome James"
          ],
          [
           "Jerome Kersey"
          ],
          [
           "Jerome Williams"
          ],
          [
           "Jerry Stackhouse"
          ],
          [
           "Matt Geiger"
          ],
          [
           "Jim Jackson"
          ],
          [
           "Jim McIlvaine"
          ],
          [
           "Jimmy Oliver"
          ],
          [
           "Joe Dumars"
          ],
          [
           "Joe Kleine"
          ],
          [
           "Joe Smith"
          ],
          [
           "Joe Wolf"
          ],
          [
           "John Coker"
          ],
          [
           "John Crotty"
          ],
          [
           "John Starks"
          ],
          [
           "John Stockton"
          ],
          [
           "John Thomas"
          ],
          [
           "Jayson Williams"
          ],
          [
           "Jason Williams"
          ],
          [
           "Jason Sasser"
          ],
          [
           "Jason Kidd"
          ],
          [
           "Greg Ostertag"
          ],
          [
           "Hakeem Olajuwon"
          ],
          [
           "Harvey Grant"
          ],
          [
           "Haywoode Workman"
          ],
          [
           "Herb Williams"
          ],
          [
           "Hersey Hawkins"
          ],
          [
           "Horace Grant"
          ],
          [
           "Hot Rod Williams"
          ],
          [
           "Howard Eisley"
          ],
          [
           "Hubert Davis"
          ],
          [
           "Ike Austin"
          ],
          [
           "John Wallace"
          ],
          [
           "Isaiah Rider"
          ],
          [
           "J.R. Reid"
          ],
          [
           "Jacque Vaughn"
          ],
          [
           "Jahidi White"
          ],
          [
           "Jalen Rose"
          ],
          [
           "Jamal Mashburn"
          ],
          [
           "James Cotton"
          ],
          [
           "James Robinson"
          ],
          [
           "Jamie Feick"
          ],
          [
           "Jamie Watson"
          ],
          [
           "Jaren Jackson"
          ],
          [
           "Jason Caffey"
          ],
          [
           "J.R. Henderson"
          ],
          [
           "Johnny Newman"
          ],
          [
           "Jonathan Kerner"
          ],
          [
           "Jon Barry"
          ],
          [
           "Malik Sealy"
          ],
          [
           "Malik Rose"
          ],
          [
           "Lucious Harris"
          ],
          [
           "Luc Longley"
          ],
          [
           "Loy Vaught"
          ],
          [
           "Lorenzen Wright"
          ],
          [
           "Loren Meyer"
          ],
          [
           "Litterial Green"
          ],
          [
           "Lindsey Hunter"
          ],
          [
           "Lee Mayberry"
          ],
          [
           "Lawrence Funderburke"
          ],
          [
           "Marcus Camby"
          ],
          [
           "Latrell Sprewell"
          ],
          [
           "Lamond Murray"
          ],
          [
           "LaPhonso Ellis"
          ],
          [
           "Kurt Thomas"
          ],
          [
           "Kornel David"
          ],
          [
           "Korleone Young"
          ],
          [
           "Kobe Bryant"
          ],
          [
           "Kevin Garnett"
          ],
          [
           "Khalid Reeves"
          ],
          [
           "Kevin Willis"
          ],
          [
           "Kevin Ollie"
          ],
          [
           "Johnny Taylor"
          ],
          [
           "Larry Hughes"
          ],
          [
           "Mario Bennett"
          ],
          [
           "Larry Johnson"
          ],
          [
           "Mark Baker"
          ],
          [
           "Jud Buechler"
          ],
          [
           "Mario Elie"
          ],
          [
           "Juwan Howard"
          ],
          [
           "Karl Malone"
          ],
          [
           "Keith Askins"
          ],
          [
           "Keith Booth"
          ],
          [
           "Keith Closs"
          ],
          [
           "Keith Van Horn"
          ],
          [
           "Kelvin Cato"
          ],
          [
           "Kendall Gill"
          ],
          [
           "Kenny Anderson"
          ],
          [
           "Keon Clark"
          ],
          [
           "Kelly McCarty"
          ],
          [
           "Mark Pope"
          ],
          [
           "Mark Bryant"
          ],
          [
           "Marty Conlon"
          ],
          [
           "Marlon Garnett"
          ],
          [
           "Marko Milic"
          ],
          [
           "Mark Davis"
          ],
          [
           "Mark West"
          ],
          [
           "Mark Strickland"
          ],
          [
           "Mark Macon"
          ],
          [
           "Mark Jackson"
          ],
          [
           "Mark Hendrickson"
          ],
          [
           "Kerry Kittles"
          ],
          [
           "Michael Stewart"
          ],
          [
           "Michael Curry"
          ],
          [
           "Mike Bibby"
          ],
          [
           "Mikki Moore"
          ],
          [
           "Michael Smith"
          ],
          [
           "Michael Ruffin"
          ],
          [
           "Michael Dickerson"
          ],
          [
           "Michael Hawkins"
          ],
          [
           "Michael Finley"
          ],
          [
           "Michael Doleac"
          ],
          [
           "Milt Palacio"
          ],
          [
           "Michael Cage"
          ],
          [
           "Michael Olowokandi"
          ],
          [
           "Mirsad Turkcan"
          ],
          [
           "Othella Harrington"
          ],
          [
           "Monty Williams"
          ],
          [
           "Moochie Norris"
          ],
          [
           "Mookie Blaylock"
          ],
          [
           "Muggsy Bogues"
          ],
          [
           "Nazr Mohammed"
          ],
          [
           "Nick Anderson"
          ],
          [
           "Nick Van Exel"
          ],
          [
           "Obinna Ekezie"
          ],
          [
           "Olden Polynice"
          ],
          [
           "Oliver Miller"
          ],
          [
           "Otis Thorpe"
          ],
          [
           "P.J. Brown"
          ],
          [
           "Metta World Peace"
          ],
          [
           "Jerome Williams"
          ],
          [
           "Mitch Richmond"
          ],
          [
           "Maurice Taylor"
          ],
          [
           "Mark Jackson"
          ],
          [
           "Matt Harpring"
          ],
          [
           "Jud Buechler"
          ],
          [
           "Jumaine Jones"
          ],
          [
           "Juwan Howard"
          ],
          [
           "Karl Malone"
          ],
          [
           "Keith Closs"
          ],
          [
           "Keith Van Horn"
          ],
          [
           "Jonathan Bender"
          ],
          [
           "Kelvin Cato"
          ],
          [
           "Kenny Anderson"
          ],
          [
           "Kenny Thomas"
          ],
          [
           "Keon Clark"
          ],
          [
           "Kerry Kittles"
          ],
          [
           "Kevin Garnett"
          ],
          [
           "Kevin Johnson"
          ],
          [
           "Kendall Gill"
          ],
          [
           "Kevin Ollie"
          ],
          [
           "Jon Barry"
          ],
          [
           "Johnny Newman"
          ],
          [
           "Jerry Stackhouse"
          ],
          [
           "Jim Jackson"
          ],
          [
           "Jim McIlvaine"
          ],
          [
           "Joe Kleine"
          ],
          [
           "Joe Smith"
          ],
          [
           "Joe Stephens"
          ],
          [
           "Johnny Taylor"
          ],
          [
           "John Amaechi"
          ],
          [
           "John Crotty"
          ],
          [
           "John Salley"
          ],
          [
           "John Starks"
          ],
          [
           "John Stockton"
          ],
          [
           "John Thomas"
          ],
          [
           "John Wallace"
          ],
          [
           "John Celestand"
          ],
          [
           "Matt Maloney"
          ],
          [
           "Kevin Willis"
          ],
          [
           "Kiwane Garris"
          ],
          [
           "Malik Rose"
          ],
          [
           "Malik Sealy"
          ],
          [
           "Marcus Brown"
          ],
          [
           "Marcus Camby"
          ],
          [
           "Mario Bennett"
          ],
          [
           "Mario Elie"
          ],
          [
           "Lucious Harris"
          ],
          [
           "Mark Bryant"
          ],
          [
           "Mark Hendrickson"
          ],
          [
           "Mark Strickland"
          ],
          [
           "Mark West"
          ],
          [
           "Marty Conlon"
          ],
          [
           "Matt Bullard"
          ],
          [
           "Matt Geiger"
          ],
          [
           "Mark Davis"
          ],
          [
           "Khalid Reeves"
          ],
          [
           "Luc Longley"
          ],
          [
           "Lorenzo Williams"
          ],
          [
           "Kornel David"
          ],
          [
           "Kurt Thomas"
          ],
          [
           "LaPhonso Ellis"
          ],
          [
           "Lamar Odom"
          ],
          [
           "Lamond Murray"
          ],
          [
           "Lari Ketner"
          ],
          [
           "Loy Vaught"
          ],
          [
           "Laron Profit"
          ],
          [
           "Larry Johnson"
          ],
          [
           "Latrell Sprewell"
          ],
          [
           "Lawrence Funderburke"
          ],
          [
           "Lazaro Borrell"
          ],
          [
           "Lindsey Hunter"
          ],
          [
           "Lorenzen Wright"
          ],
          [
           "Larry Hughes"
          ],
          [
           "Kobe Bryant"
          ],
          [
           "Jermaine Jackson"
          ],
          [
           "Patrick Ewing"
          ],
          [
           "Tony Battie"
          ],
          [
           "Toni Kukoc"
          ],
          [
           "Tom Hammonds"
          ],
          [
           "Tom Gugliotta"
          ],
          [
           "Todd Fuller"
          ],
          [
           "Todd Day"
          ],
          [
           "Toby Bailey"
          ],
          [
           "Tim Young"
          ],
          [
           "Tim Thomas"
          ],
          [
           "Tim Legler"
          ],
          [
           "Tim James"
          ],
          [
           "Tim Hardaway"
          ],
          [
           "Tim Duncan"
          ],
          [
           "Thomas Hamilton"
          ],
          [
           "Theo Ratliff"
          ],
          [
           "Terry Porter"
          ],
          [
           "Terry Mills"
          ],
          [
           "Terry Cummings"
          ],
          [
           "Terrell Brandon"
          ],
          [
           "Tariq Abdul-Wahad"
          ],
          [
           "Steven Smith"
          ],
          [
           "Steve Nash"
          ],
          [
           "Steve Kerr"
          ],
          [
           "Steve Francis"
          ],
          [
           "Stephon Marbury"
          ],
          [
           "Stanley Roberts"
          ],
          [
           "Stacey Augmon"
          ],
          [
           "Tony Delk"
          ],
          [
           "Sherman Douglas"
          ],
          [
           "Tony Farmer"
          ],
          [
           "Tracy McGrady"
          ],
          [
           "Jerome Kersey"
          ],
          [
           "Zan Tabak"
          ],
          [
           "William Avery"
          ],
          [
           "Will Perdue"
          ],
          [
           "Wesley Person"
          ],
          [
           "Wayne Turner"
          ],
          [
           "Walter McCarty"
          ],
          [
           "Walt Williams"
          ],
          [
           "Wally Szczerbiak"
          ],
          [
           "Voshon Lenard"
          ],
          [
           "Vonteego Cummings"
          ],
          [
           "Vladimir Stepania"
          ],
          [
           "Vlade Divac"
          ],
          [
           "Vitaly Potapenko"
          ],
          [
           "Vinny Del Negro"
          ],
          [
           "Vince Carter"
          ],
          [
           "Vin Baker"
          ],
          [
           "Vernon Maxwell"
          ],
          [
           "Tyronn Lue"
          ],
          [
           "Tyrone Nesby"
          ],
          [
           "Tyrone Hill"
          ],
          [
           "Tyrone Corbin"
          ],
          [
           "Troy Hudson"
          ],
          [
           "Travis Knight"
          ],
          [
           "Travis Best"
          ],
          [
           "Trajan Langdon"
          ],
          [
           "Tracy Murray"
          ],
          [
           "Tony Massenburg"
          ],
          [
           "Shawn Marion"
          ],
          [
           "Shawn Kemp"
          ],
          [
           "Shawn Bradley"
          ],
          [
           "Robert Pack"
          ],
          [
           "Robert Horry"
          ],
          [
           "Rik Smits"
          ],
          [
           "Ricky Davis"
          ],
          [
           "Rick Hughes"
          ],
          [
           "Rick Fox"
          ],
          [
           "Rick Brunson"
          ],
          [
           "Richard Hamilton"
          ],
          [
           "Rex Walters"
          ],
          [
           "Rex Chapman"
          ],
          [
           "Reggie Miller"
          ],
          [
           "Reggie Jordan"
          ],
          [
           "Ray Allen"
          ],
          [
           "Rasho Nesterovic"
          ],
          [
           "Rasheed Wallace"
          ],
          [
           "Rashard Lewis"
          ],
          [
           "Randy Livingston"
          ],
          [
           "Randy Brown"
          ],
          [
           "Randell Jackson"
          ],
          [
           "Rafer Alston"
          ],
          [
           "Raef LaFrentz"
          ],
          [
           "Quincy Lewis"
          ],
          [
           "Popeye Jones"
          ],
          [
           "Pete Chilcutt"
          ],
          [
           "Pervis Ellison"
          ],
          [
           "Peja Stojakovic"
          ],
          [
           "Paul Pierce"
          ],
          [
           "Robert Traylor"
          ],
          [
           "Rod Strickland"
          ],
          [
           "Rodney Buford"
          ],
          [
           "Rodney Rogers"
          ],
          [
           "Shareef Abdur-Rahim"
          ],
          [
           "Shaquille O'Neal"
          ],
          [
           "Shandon Anderson"
          ],
          [
           "Shammond Williams"
          ],
          [
           "Sean Rooks"
          ],
          [
           "Sean Marks"
          ],
          [
           "Sean Elliott"
          ],
          [
           "Scottie Pippen"
          ],
          [
           "Scott Williams"
          ],
          [
           "Scott Padgett"
          ],
          [
           "Scott Burrell"
          ],
          [
           "Scot Pollard"
          ],
          [
           "Samaki Walker"
          ],
          [
           "Pat Garrity"
          ],
          [
           "Sam Perkins"
          ],
          [
           "Sam Mack"
          ],
          [
           "Sam Jacobson"
          ],
          [
           "Sam Cassell"
          ],
          [
           "Ryan Stack"
          ],
          [
           "Ryan Robertson"
          ],
          [
           "Ryan Bowen"
          ],
          [
           "Rusty LaRue"
          ],
          [
           "Ruben Patterson"
          ],
          [
           "Roy Rogers"
          ],
          [
           "Roshown McLeod"
          ],
          [
           "Ron Mercer"
          ],
          [
           "Ron Harper"
          ],
          [
           "Rodrick Rhodes"
          ],
          [
           "Sam Mitchell"
          ],
          [
           "Jermaine O'Neal"
          ],
          [
           "Todd MacCulloch"
          ],
          [
           "Jason Williams"
          ],
          [
           "Derek Fisher"
          ],
          [
           "Derek Hood"
          ],
          [
           "Derek Strong"
          ],
          [
           "Derrick Coleman"
          ],
          [
           "Derrick Dial"
          ],
          [
           "Derrick McKey"
          ],
          [
           "Detlef Schrempf"
          ],
          [
           "Devean George"
          ],
          [
           "Devin Gray"
          ],
          [
           "Dickey Simpkins"
          ],
          [
           "Dikembe Mutombo"
          ],
          [
           "Dion Glover"
          ],
          [
           "Dirk Nowitzki"
          ],
          [
           "Don MacLean"
          ],
          [
           "Don Reid"
          ],
          [
           "Donny Marshall"
          ],
          [
           "Donyell Marshall"
          ],
          [
           "Doug Christie"
          ],
          [
           "Doug Overton"
          ],
          [
           "Doug West"
          ],
          [
           "Drew Barry"
          ],
          [
           "Duane Causwell"
          ],
          [
           "Earl Boykins"
          ],
          [
           "Eddie Jones"
          ],
          [
           "Eddie Robinson"
          ],
          [
           "Derek Anderson"
          ],
          [
           "Dennis Scott"
          ],
          [
           "Dennis Rodman"
          ],
          [
           "Dell Curry"
          ],
          [
           "Clifford Robinson"
          ],
          [
           "Corey Benjamin"
          ],
          [
           "Corey Maggette"
          ],
          [
           "Corie Blount"
          ],
          [
           "Corliss Williamson"
          ],
          [
           "Cory Alexander"
          ],
          [
           "Cuttino Mobley"
          ],
          [
           "Dale Davis"
          ],
          [
           "Dale Ellis"
          ],
          [
           "Damon Jones"
          ],
          [
           "Damon Stoudamire"
          ],
          [
           "Dan Majerle"
          ],
          [
           "Elden Campbell"
          ],
          [
           "Dana Barros"
          ],
          [
           "Danny Fortson"
          ],
          [
           "Danny Manning"
          ],
          [
           "Darrell Armstrong"
          ],
          [
           "Darrick Martin"
          ],
          [
           "Darvin Ham"
          ],
          [
           "David Robinson"
          ],
          [
           "David Wesley"
          ],
          [
           "David Wingate"
          ],
          [
           "DeMarco Johnson"
          ],
          [
           "Dean Garrett"
          ],
          [
           "Dedric Willoughby"
          ],
          [
           "Dee Brown"
          ],
          [
           "Danny Ferry"
          ],
          [
           "Clar. Weatherspoon"
          ],
          [
           "Eldridge Recasner"
          ],
          [
           "Elton Brand"
          ],
          [
           "Harold Jamison"
          ],
          [
           "Haywoode Workman"
          ],
          [
           "Hersey Hawkins"
          ],
          [
           "Horace Grant"
          ],
          [
           "Howard Eisley"
          ],
          [
           "Hubert Davis"
          ],
          [
           "Ike Austin"
          ],
          [
           "Ira Bowman"
          ],
          [
           "Isaiah Rider"
          ],
          [
           "J.R. Reid"
          ],
          [
           "Jacque Vaughn"
          ],
          [
           "Jahidi White"
          ],
          [
           "Jalen Rose"
          ],
          [
           "Jamal Mashburn"
          ],
          [
           "James Posey"
          ],
          [
           "Jamie Feick"
          ],
          [
           "Jaren Jackson"
          ],
          [
           "Jason Caffey"
          ],
          [
           "Jason Kidd"
          ],
          [
           "Jason Miskiri"
          ],
          [
           "Jason Terry"
          ],
          [
           "Jeff Foster"
          ],
          [
           "Jeff Hornacek"
          ],
          [
           "Jeff McInnis"
          ],
          [
           "Jelani McCoy"
          ],
          [
           "Hakeem Olajuwon"
          ],
          [
           "Greg Ostertag"
          ],
          [
           "Greg Foster"
          ],
          [
           "Greg Buckner"
          ],
          [
           "Emanual Davis"
          ],
          [
           "Eric Montross"
          ],
          [
           "Eric Murdock"
          ],
          [
           "Eric Piatkowski"
          ],
          [
           "Eric Snow"
          ],
          [
           "Eric Williams"
          ],
          [
           "Erick Dampier"
          ],
          [
           "Erick Strickland"
          ],
          [
           "Ervin Johnson"
          ],
          [
           "Etdrick Bohannon"
          ],
          [
           "Evan Eschmeyer"
          ],
          [
           "Felipe Lopez"
          ],
          [
           "Elliot Perry"
          ],
          [
           "Felton Spencer"
          ],
          [
           "Gary Grant"
          ],
          [
           "Gary Payton"
          ],
          [
           "Gary Trent"
          ],
          [
           "George Lynch"
          ],
          [
           "George McCloud"
          ],
          [
           "Gerard King"
          ],
          [
           "Gheorghe Muresan"
          ],
          [
           "Glen Rice"
          ],
          [
           "Glenn Robinson"
          ],
          [
           "Grant Hill"
          ],
          [
           "Grant Long"
          ],
          [
           "Greg Anthony"
          ],
          [
           "Fred Hoiberg"
          ],
          [
           "Chucky Brown"
          ],
          [
           "Fred Vinson"
          ],
          [
           "Chuck Person"
          ],
          [
           "Anthony Mason"
          ],
          [
           "Anthony Miller"
          ],
          [
           "Anthony Parker"
          ],
          [
           "Anthony Peeler"
          ],
          [
           "Antoine Carr"
          ],
          [
           "Antoine Walker"
          ],
          [
           "Antonio Daniels"
          ],
          [
           "Antonio Davis"
          ],
          [
           "Antonio Harvey"
          ],
          [
           "Antonio Lang"
          ],
          [
           "Antonio McDyess"
          ],
          [
           "Armen Gilliam"
          ],
          [
           "Arvydas Sabonis"
          ],
          [
           "Austin Croshere"
          ],
          [
           "Avery Johnson"
          ],
          [
           "B.J. Armstrong"
          ],
          [
           "Baron Davis"
          ],
          [
           "Ben Davis"
          ],
          [
           "Ben Wallace"
          ],
          [
           "Anthony Johnson"
          ],
          [
           "Benoit Benjamin"
          ],
          [
           "Anthony Carter"
          ],
          [
           "Antawn Jamison"
          ],
          [
           "Chucky Atkins"
          ],
          [
           "A.C. Green"
          ],
          [
           "Aaron McKie"
          ],
          [
           "Aaron Williams"
          ],
          [
           "Adam Keefe"
          ],
          [
           "Adonal Foyle"
          ],
          [
           "Adrian Griffin"
          ],
          [
           "Al Harrington"
          ],
          [
           "Alan Henderson"
          ],
          [
           "Aleksandar Radojevic"
          ],
          [
           "Allan Houston"
          ],
          [
           "Allen Iverson"
          ],
          [
           "Alonzo Mourning"
          ],
          [
           "Alvin Williams"
          ],
          [
           "Andrae Patterson"
          ],
          [
           "Andre Miller"
          ],
          [
           "Andrew DeClercq"
          ],
          [
           "Andrew Lang"
          ],
          [
           "Anfernee Hardaway"
          ],
          [
           "Anthony Avent"
          ],
          [
           "Bill Curley"
          ],
          [
           "A.J. Bramlett"
          ],
          [
           "Billy Owens"
          ],
          [
           "Cedric Henderson"
          ],
          [
           "Charles Barkley"
          ],
          [
           "Charles Oakley"
          ],
          [
           "Charles R. Jones"
          ],
          [
           "Charlie Ward"
          ],
          [
           "Chauncey Billups"
          ],
          [
           "Cherokee Parks"
          ],
          [
           "Chris Anstey"
          ],
          [
           "Chris Carr"
          ],
          [
           "Chris Childs"
          ],
          [
           "Chris Crawford"
          ],
          [
           "Chris Dudley"
          ],
          [
           "Chris Gatling"
          ],
          [
           "Chris Herren"
          ],
          [
           "Chris Mills"
          ],
          [
           "Chris Mullin"
          ],
          [
           "Chris Webber"
          ],
          [
           "Chris Whitney"
          ],
          [
           "Bill Wennington"
          ],
          [
           "Cedric Ceballos"
          ],
          [
           "Carlos Rogers"
          ],
          [
           "Christian Laettner"
          ],
          [
           "Calbert Cheaney"
          ],
          [
           "Bo Outlaw"
          ],
          [
           "Bimbo Coles"
          ],
          [
           "Bob Sura"
          ],
          [
           "Bobby Jackson"
          ],
          [
           "Bobby Phills"
          ],
          [
           "Bonzi Wells"
          ],
          [
           "Brad Miller"
          ],
          [
           "Calvin Booth"
          ],
          [
           "Brent Price"
          ],
          [
           "Brevin Knight"
          ],
          [
           "Brent Barry"
          ],
          [
           "Brian Shaw"
          ],
          [
           "Cal Bowdler"
          ],
          [
           "Brian Grant"
          ],
          [
           "Bryce Drew"
          ],
          [
           "Bryant Stith"
          ],
          [
           "Bryon Russell"
          ],
          [
           "Bruno Sundov"
          ],
          [
           "Bruce Bowen"
          ],
          [
           "Brian Skinner"
          ],
          [
           "Bryant Reeves"
          ],
          [
           "Mike Miller"
          ],
          [
           "Mike Penberthy"
          ],
          [
           "Mike Smith"
          ],
          [
           "Mikki Moore"
          ],
          [
           "Milt Palacio"
          ],
          [
           "Mitch Richmond"
          ],
          [
           "Monty Williams"
          ],
          [
           "Moochie Norris"
          ],
          [
           "Olumide Oyedeji"
          ],
          [
           "Morris Peterson"
          ],
          [
           "Muggsy Bogues"
          ],
          [
           "Nazr Mohammed"
          ],
          [
           "Nick Anderson"
          ],
          [
           "Nick Van Exel"
          ],
          [
           "Obinna Ekezie"
          ],
          [
           "Olden Polynice"
          ],
          [
           "Othella Harrington"
          ],
          [
           "Mookie Blaylock"
          ],
          [
           "Mike Bibby"
          ],
          [
           "Metta World Peace"
          ],
          [
           "Michael Smith"
          ],
          [
           "Mark Bryant"
          ],
          [
           "Otis Thorpe"
          ],
          [
           "Mark Madsen"
          ],
          [
           "Mark Pope"
          ],
          [
           "Mark Strickland"
          ],
          [
           "Mateen Cleaves"
          ],
          [
           "Matt Bullard"
          ],
          [
           "Matt Geiger"
          ],
          [
           "Matt Harpring"
          ],
          [
           "Matt Maloney"
          ],
          [
           "Maurice Taylor"
          ],
          [
           "Michael Curry"
          ],
          [
           "Michael Dickerson"
          ],
          [
           "Michael Doleac"
          ],
          [
           "Michael Finley"
          ],
          [
           "Michael Hawkins"
          ],
          [
           "Michael Olowokandi"
          ],
          [
           "Michael Redd"
          ],
          [
           "Michael Ruffin"
          ],
          [
           "Michael Stewart"
          ],
          [
           "Mark Jackson"
          ],
          [
           "Reggie Slater"
          ],
          [
           "Pat Garrity"
          ],
          [
           "Robert Horry"
          ],
          [
           "Robert Pack"
          ],
          [
           "Robert Traylor"
          ],
          [
           "Rod Strickland"
          ],
          [
           "Rodney Buford"
          ],
          [
           "Rodney Rogers"
          ],
          [
           "Ron Harper"
          ],
          [
           "Ron Mercer"
          ],
          [
           "Roshown McLeod"
          ],
          [
           "Ruben Garces"
          ],
          [
           "Ruben Patterson"
          ],
          [
           "Ruben Wolkowyski"
          ],
          [
           "Ryan Bowen"
          ],
          [
           "Sam Cassell"
          ],
          [
           "Sam Jacobson"
          ],
          [
           "Sam Mitchell"
          ],
          [
           "Sam Perkins"
          ],
          [
           "Mark Blount"
          ],
          [
           "Samaki Walker"
          ],
          [
           "Ricky Davis"
          ],
          [
           "P.J. Brown"
          ],
          [
           "Rick Fox"
          ],
          [
           "Richard Hamilton"
          ],
          [
           "Patrick Ewing"
          ],
          [
           "Paul McPherson"
          ],
          [
           "Paul Pierce"
          ],
          [
           "Peja Stojakovic"
          ],
          [
           "Pepe Sanchez"
          ],
          [
           "Pervis Ellison"
          ],
          [
           "Popeye Jones"
          ],
          [
           "Quentin Richardson"
          ],
          [
           "Quincy Lewis"
          ],
          [
           "Raef LaFrentz"
          ],
          [
           "Rafer Alston"
          ],
          [
           "Raja Bell"
          ],
          [
           "Randy Brown"
          ],
          [
           "Randy Livingston"
          ],
          [
           "Rashard Lewis"
          ],
          [
           "Rasheed Wallace"
          ],
          [
           "Rasho Nesterovic"
          ],
          [
           "Ray Allen"
          ],
          [
           "Reggie Miller"
          ],
          [
           "Rick Brunson"
          ],
          [
           "Mario Elie"
          ],
          [
           "Johnny Newman"
          ],
          [
           "Marcus Camby"
          ],
          [
           "Hubert Davis"
          ],
          [
           "Jabari Smith"
          ],
          [
           "J.R. Reid"
          ],
          [
           "Isaiah Rider"
          ],
          [
           "Ira Newble"
          ],
          [
           "Jelani McCoy"
          ],
          [
           "Jermaine O'Neal"
          ],
          [
           "Jerome Kersey"
          ],
          [
           "Jacque Vaughn"
          ],
          [
           "Jerome Moiso"
          ],
          [
           "Jerry Stackhouse"
          ],
          [
           "Jim Jackson"
          ],
          [
           "Jim McIlvaine"
          ],
          [
           "Joe Smith"
          ],
          [
           "Joel Przybilla"
          ],
          [
           "John Amaechi"
          ],
          [
           "John Coker"
          ],
          [
           "John Crotty"
          ],
          [
           "Jerome Williams"
          ],
          [
           "Jahidi White"
          ],
          [
           "Jake Tsakalidis"
          ],
          [
           "Jake Voskuhl"
          ],
          [
           "Scot Pollard"
          ],
          [
           "Jeff McInnis"
          ],
          [
           "Jeff Foster"
          ],
          [
           "Jason Williams"
          ],
          [
           "Jason Terry"
          ],
          [
           "Jason Kidd"
          ],
          [
           "Jason Hart"
          ],
          [
           "Jason Collier"
          ],
          [
           "Jason Caffey"
          ],
          [
           "Jaren Jackson"
          ],
          [
           "Jamie Feick"
          ],
          [
           "James Robinson"
          ],
          [
           "James Posey"
          ],
          [
           "Jamel Thomas"
          ],
          [
           "Jamal Robinson"
          ],
          [
           "Jamal Mashburn"
          ],
          [
           "Jamal Crawford"
          ],
          [
           "Jamaal Magloire"
          ],
          [
           "Jalen Rose"
          ],
          [
           "John Starks"
          ],
          [
           "John Stockton"
          ],
          [
           "John Wallace"
          ],
          [
           "Jon Barry"
          ],
          [
           "Lamond Murray"
          ],
          [
           "Lari Ketner"
          ],
          [
           "Laron Profit"
          ],
          [
           "Larry Hughes"
          ],
          [
           "Larry Johnson"
          ],
          [
           "Larry Robinson"
          ],
          [
           "Latrell Sprewell"
          ],
          [
           "Lavor Postell"
          ],
          [
           "Lawrence Funderburke"
          ],
          [
           "Lee Nailon"
          ],
          [
           "Lindsey Hunter"
          ],
          [
           "Lorenzen Wright"
          ],
          [
           "Loy Vaught"
          ],
          [
           "Luc Longley"
          ],
          [
           "Lucious Harris"
          ],
          [
           "Mahmoud Abdul-Rauf"
          ],
          [
           "Malik Rose"
          ],
          [
           "Mamadou N'diaye"
          ],
          [
           "Marc Jackson"
          ],
          [
           "Lamar Odom"
          ],
          [
           "Marcus Fizer"
          ],
          [
           "LaPhonso Ellis"
          ],
          [
           "Kornel David"
          ],
          [
           "Jonathan Bender"
          ],
          [
           "Jud Buechler"
          ],
          [
           "Jumaine Jones"
          ],
          [
           "Juwan Howard"
          ],
          [
           "Karl Malone"
          ],
          [
           "Keith Van Horn"
          ],
          [
           "Kelvin Cato"
          ],
          [
           "Kendall Gill"
          ],
          [
           "Kenny Anderson"
          ],
          [
           "Kenny Thomas"
          ],
          [
           "Kenyon Martin"
          ],
          [
           "Keon Clark"
          ],
          [
           "Kevin Edwards"
          ],
          [
           "Kevin Garnett"
          ],
          [
           "Kevin Ollie"
          ],
          [
           "Kevin Willis"
          ],
          [
           "Keyon Dooling"
          ],
          [
           "Khalid El-Amin"
          ],
          [
           "Kobe Bryant"
          ],
          [
           "Kurt Thomas"
          ],
          [
           "Ira Bowman"
          ],
          [
           "Scott Burrell"
          ],
          [
           "Scott Williams"
          ],
          [
           "Tyrone Hill"
          ],
          [
           "Tyrone Nesby"
          ],
          [
           "Tyronn Lue"
          ],
          [
           "Tyus Edney"
          ],
          [
           "Vernon Maxwell"
          ],
          [
           "Vin Baker"
          ],
          [
           "Vince Carter"
          ],
          [
           "Vinny Del Negro"
          ],
          [
           "Vitaly Potapenko"
          ],
          [
           "Vlade Divac"
          ],
          [
           "Vladimir Stepania"
          ],
          [
           "Vonteego Cummings"
          ],
          [
           "Voshon Lenard"
          ],
          [
           "Tyrone Corbin"
          ],
          [
           "Wally Szczerbiak"
          ],
          [
           "Walter McCarty"
          ],
          [
           "Chris Garner"
          ],
          [
           "Wang Zhi-zhi"
          ],
          [
           "Wesley Person"
          ],
          [
           "Will Perdue"
          ],
          [
           "William Avery"
          ],
          [
           "Zan Tabak"
          ],
          [
           "Zendon Hamilton"
          ],
          [
           "Zydrunas Ilgauskas"
          ],
          [
           "Chris Dudley"
          ],
          [
           "Chris Crawford"
          ],
          [
           "Chris Childs"
          ],
          [
           "Chris Carr"
          ],
          [
           "Walt Williams"
          ],
          [
           "Troy Hudson"
          ],
          [
           "Travis Knight"
          ],
          [
           "Travis Best"
          ],
          [
           "Corey Maggette"
          ],
          [
           "Corey Benjamin"
          ],
          [
           "Clifford Robinson"
          ],
          [
           "Clar. Weatherspoon"
          ],
          [
           "Chucky Brown"
          ],
          [
           "Chucky Atkins"
          ],
          [
           "Christian Laettner"
          ],
          [
           "Chris Whitney"
          ],
          [
           "Chris Webber"
          ],
          [
           "Chris Porter"
          ],
          [
           "Chris Mullin"
          ],
          [
           "Chris Mills"
          ],
          [
           "Chris Mihm"
          ],
          [
           "Chris Herren"
          ],
          [
           "Chris Gatling"
          ],
          [
           "Tim Thomas"
          ],
          [
           "Todd Day"
          ],
          [
           "Todd Fuller"
          ],
          [
           "Todd MacCulloch"
          ],
          [
           "Tom Gugliotta"
          ],
          [
           "Tom Hammonds"
          ],
          [
           "Toni Kukoc"
          ],
          [
           "Tony Battie"
          ],
          [
           "Tony Delk"
          ],
          [
           "Tony Massenburg"
          ],
          [
           "Tony Smith"
          ],
          [
           "Tracy McGrady"
          ],
          [
           "Tracy Murray"
          ],
          [
           "Trajan Langdon"
          ],
          [
           "Scott Padgett"
          ],
          [
           "Chauncey Billups"
          ],
          [
           "Charlie Ward"
          ],
          [
           "Charles Oakley"
          ],
          [
           "Antonio McDyess"
          ],
          [
           "Antonio Harvey"
          ],
          [
           "Antonio Davis"
          ],
          [
           "Antonio Daniels"
          ],
          [
           "Antoine Walker"
          ],
          [
           "Anthony Peeler"
          ],
          [
           "Anthony Miller"
          ],
          [
           "Anthony Mason"
          ],
          [
           "Anthony Johnson"
          ],
          [
           "Anthony Goldwire"
          ],
          [
           "Anthony Carter"
          ],
          [
           "Antawn Jamison"
          ],
          [
           "Anfernee Hardaway"
          ],
          [
           "Andy Panko"
          ],
          [
           "Andrew DeClercq"
          ],
          [
           "Andre Miller"
          ],
          [
           "Alvin Williams"
          ],
          [
           "Alonzo Mourning"
          ],
          [
           "Allen Iverson"
          ],
          [
           "Allan Houston"
          ],
          [
           "Alan Henderson"
          ],
          [
           "Al Harrington"
          ],
          [
           "Adrian Griffin"
          ],
          [
           "Adonal Foyle"
          ],
          [
           "Adam Keefe"
          ],
          [
           "Aaron Williams"
          ],
          [
           "Aaron McKie"
          ],
          [
           "A.J. Guyton"
          ],
          [
           "A.C. Green"
          ],
          [
           "Art Long"
          ],
          [
           "Corie Blount"
          ],
          [
           "Arvydas Sabonis"
          ],
          [
           "Avery Johnson"
          ],
          [
           "Cedric Henderson"
          ],
          [
           "Cedric Ceballos"
          ],
          [
           "Carlos Rogers"
          ],
          [
           "Calvin Booth"
          ],
          [
           "Calbert Cheaney"
          ],
          [
           "Cal Bowdler"
          ],
          [
           "Bryon Russell"
          ],
          [
           "Bryce Drew"
          ],
          [
           "Bryant Stith"
          ],
          [
           "Bryant Reeves"
          ],
          [
           "Bruno Sundov"
          ],
          [
           "Bruce Bowen"
          ],
          [
           "Brian Skinner"
          ],
          [
           "Brian Shaw"
          ],
          [
           "Brian Grant"
          ],
          [
           "Brian Cardinal"
          ],
          [
           "Brevin Knight"
          ],
          [
           "Brent Price"
          ],
          [
           "Brent Barry"
          ],
          [
           "Brad Miller"
          ],
          [
           "Bonzi Wells"
          ],
          [
           "Bobby Jackson"
          ],
          [
           "Bob Sura"
          ],
          [
           "Bo Outlaw"
          ],
          [
           "Bimbo Coles"
          ],
          [
           "Billy Owens"
          ],
          [
           "Bill Curley"
          ],
          [
           "Ben Wallace"
          ],
          [
           "Baron Davis"
          ],
          [
           "Austin Croshere"
          ],
          [
           "Corliss Williamson"
          ],
          [
           "Cherokee Parks"
          ],
          [
           "Courtney Alexander"
          ],
          [
           "Tim Hardaway"
          ],
          [
           "Tim James"
          ],
          [
           "Howard Eisley"
          ],
          [
           "Horace Grant"
          ],
          [
           "Hersey Hawkins"
          ],
          [
           "Hedo Turkoglu"
          ],
          [
           "Hanno Mottola"
          ],
          [
           "Hakeem Olajuwon"
          ],
          [
           "Greg Ostertag"
          ],
          [
           "Greg Foster"
          ],
          [
           "Greg Buckner"
          ],
          [
           "Greg Anthony"
          ],
          [
           "Grant Long"
          ],
          [
           "Grant Hill"
          ],
          [
           "Glenn Robinson"
          ],
          [
           "Glen Rice"
          ],
          [
           "Gerard King"
          ],
          [
           "George McCloud"
          ],
          [
           "George Lynch"
          ],
          [
           "Gary Trent"
          ],
          [
           "Gary Payton"
          ],
          [
           "Gary Grant"
          ],
          [
           "Garth Joseph"
          ],
          [
           "Fred Hoiberg"
          ],
          [
           "Felton Spencer"
          ],
          [
           "Felipe Lopez"
          ],
          [
           "Evan Eschmeyer"
          ],
          [
           "Etdrick Bohannon"
          ],
          [
           "Ervin Johnson"
          ],
          [
           "Tim Duncan"
          ],
          [
           "Erick Strickland"
          ],
          [
           "Theo Ratliff"
          ],
          [
           "Terry Mills"
          ],
          [
           "Cory Alexander"
          ],
          [
           "Scottie Pippen"
          ],
          [
           "Sean Colson"
          ],
          [
           "Sean Elliott"
          ],
          [
           "Sean Rooks"
          ],
          [
           "Shammond Williams"
          ],
          [
           "Shandon Anderson"
          ],
          [
           "Shaquille O'Neal"
          ],
          [
           "Shareef Abdur-Rahim"
          ],
          [
           "Shawn Bradley"
          ],
          [
           "Shawn Kemp"
          ],
          [
           "Shawn Marion"
          ],
          [
           "Shawnelle Scott"
          ],
          [
           "Sherman Douglas"
          ],
          [
           "Slava Medvedenko"
          ],
          [
           "Soumaila Samake"
          ],
          [
           "Stacey Augmon"
          ],
          [
           "Stephen Jackson"
          ],
          [
           "Stephon Marbury"
          ],
          [
           "Steve Francis"
          ],
          [
           "Steve Goodrich"
          ],
          [
           "Steve Kerr"
          ],
          [
           "Steve Nash"
          ],
          [
           "Steven Smith"
          ],
          [
           "Stromile Swift"
          ],
          [
           "Tariq Abdul-Wahad"
          ],
          [
           "Terrance Roberson"
          ],
          [
           "Terrell Brandon"
          ],
          [
           "Terry Davis"
          ],
          [
           "Terry Porter"
          ],
          [
           "Erick Dampier"
          ],
          [
           "Ike Austin"
          ],
          [
           "Eric Williams"
          ],
          [
           "Derek Fisher"
          ],
          [
           "Derek Anderson"
          ],
          [
           "DerMarr Johnson"
          ],
          [
           "Dell Curry"
          ],
          [
           "Dee Brown"
          ],
          [
           "Dean Garrett"
          ],
          [
           "DeShawn Stevenson"
          ],
          [
           "David Wingate"
          ],
          [
           "David Wesley"
          ],
          [
           "David Vanterpool"
          ],
          [
           "David Robinson"
          ],
          [
           "David Benoit"
          ],
          [
           "Darvin Ham"
          ],
          [
           "Darrick Martin"
          ],
          [
           "Darrell Armstrong"
          ],
          [
           "Darius Miles"
          ],
          [
           "Danny Manning"
          ],
          [
           "Danny Fortson"
          ],
          [
           "Danny Ferry"
          ],
          [
           "Daniel Santiago"
          ],
          [
           "Dana Barros"
          ],
          [
           "Dan McClintock"
          ],
          [
           "Dan Majerle"
          ],
          [
           "Dan Langhi"
          ],
          [
           "Damon Stoudamire"
          ],
          [
           "Damon Jones"
          ],
          [
           "Dalibor Bagaric"
          ],
          [
           "Dale Davis"
          ],
          [
           "Erick Barkley"
          ],
          [
           "Derek Strong"
          ],
          [
           "Derrick Coleman"
          ],
          [
           "Cuttino Mobley"
          ],
          [
           "Derrick McKey"
          ],
          [
           "Derrick Dial"
          ],
          [
           "Eric Snow"
          ],
          [
           "Eric Piatkowski"
          ],
          [
           "Eric Montross"
          ],
          [
           "Emanual Davis"
          ],
          [
           "Elton Brand"
          ],
          [
           "Elliot Perry"
          ],
          [
           "Eldridge Recasner"
          ],
          [
           "Elden Campbell"
          ],
          [
           "Eddie Robinson"
          ],
          [
           "Eddie Jones"
          ],
          [
           "Eddie House"
          ],
          [
           "Eddie Gill"
          ],
          [
           "Earl Boykins"
          ],
          [
           "Eduardo Najera"
          ],
          [
           "Dragan Tarlac"
          ],
          [
           "Desmond Mason"
          ],
          [
           "Duane Causwell"
          ],
          [
           "Devean George"
          ],
          [
           "Dikembe Mutombo"
          ],
          [
           "Dion Glover"
          ],
          [
           "Dirk Nowitzki"
          ],
          [
           "Don MacLean"
          ],
          [
           "Detlef Schrempf"
          ],
          [
           "Donnell Harvey"
          ],
          [
           "Doug West"
          ],
          [
           "Donyell Marshall"
          ],
          [
           "Doug Christie"
          ],
          [
           "Doug Overton"
          ],
          [
           "Don Reid"
          ],
          [
           "Tim Duncan"
          ],
          [
           "Tim Hardaway"
          ],
          [
           "Tim James"
          ],
          [
           "Tim Thomas"
          ],
          [
           "Todd MacCulloch"
          ],
          [
           "Toni Kukoc"
          ],
          [
           "Tony Battie"
          ],
          [
           "Tony Delk"
          ],
          [
           "Tony Massenburg"
          ],
          [
           "Tony Parker"
          ],
          [
           "Tierre Brown"
          ],
          [
           "Tom Gugliotta"
          ],
          [
           "Theo Ratliff"
          ],
          [
           "Stacey Augmon"
          ],
          [
           "Terrell Brandon"
          ],
          [
           "Terence Morris"
          ],
          [
           "Tariq Abdul-Wahad"
          ],
          [
           "Tang Hamilton"
          ],
          [
           "Stromile Swift"
          ],
          [
           "Steven Smith"
          ],
          [
           "Steven Hunter"
          ],
          [
           "Steve Nash"
          ],
          [
           "Steve Kerr"
          ],
          [
           "Steve Goodrich"
          ],
          [
           "Steve Francis"
          ],
          [
           "Stephon Marbury"
          ],
          [
           "Stephen Jackson"
          ],
          [
           "Terry Porter"
          ],
          [
           "Tracy McGrady"
          ],
          [
           "Vince Carter"
          ],
          [
           "Trajan Langdon"
          ],
          [
           "Speedy Claxton"
          ],
          [
           "Zeljko Rebraca"
          ],
          [
           "Zach Randolph"
          ],
          [
           "William Avery"
          ],
          [
           "Will Solomon"
          ],
          [
           "Wesley Person"
          ],
          [
           "Wang Zhi-zhi"
          ],
          [
           "Walter McCarty"
          ],
          [
           "Walt Williams"
          ],
          [
           "Wally Szczerbiak"
          ],
          [
           "Voshon Lenard"
          ],
          [
           "Vonteego Cummings"
          ],
          [
           "Vladimir Stepania"
          ],
          [
           "Vladimir Radmanovic"
          ],
          [
           "Vlade Divac"
          ],
          [
           "Vitaly Potapenko"
          ],
          [
           "Vinny Del Negro"
          ],
          [
           "Vin Baker"
          ],
          [
           "Victor Alexander"
          ],
          [
           "Tyson Chandler"
          ],
          [
           "Tyronn Lue"
          ],
          [
           "Tyrone Nesby"
          ],
          [
           "Tyrone Hill"
          ],
          [
           "Troy Murphy"
          ],
          [
           "Troy Hudson"
          ],
          [
           "Trenton Hassell"
          ],
          [
           "Tremaine Fowlkes"
          ],
          [
           "Travis Knight"
          ],
          [
           "Travis Best"
          ],
          [
           "Tracy Murray"
          ],
          [
           "Slava Medvedenko"
          ],
          [
           "Robert Horry"
          ],
          [
           "Shawn Marion"
          ],
          [
           "Richard Hamilton"
          ],
          [
           "Reggie Slater"
          ],
          [
           "Reggie Miller"
          ],
          [
           "Ray Allen"
          ],
          [
           "Ratko Varda"
          ],
          [
           "Rasho Nesterovic"
          ],
          [
           "Rasheed Wallace"
          ],
          [
           "Rashard Lewis"
          ],
          [
           "Randy Livingston"
          ],
          [
           "Randy Brown"
          ],
          [
           "Raja Bell"
          ],
          [
           "Rafer Alston"
          ],
          [
           "Raef LaFrentz"
          ],
          [
           "Richard Jefferson"
          ],
          [
           "Quincy Lewis"
          ],
          [
           "Primoz Brezec"
          ],
          [
           "Predrag Drobnjak"
          ],
          [
           "Popeye Jones"
          ],
          [
           "Peja Stojakovic"
          ],
          [
           "Paul Pierce"
          ],
          [
           "Pau Gasol"
          ],
          [
           "Patrick Ewing"
          ],
          [
           "Pat Garrity"
          ],
          [
           "P.J. Brown"
          ],
          [
           "Othella Harrington"
          ],
          [
           "Oscar Torres"
          ],
          [
           "Olumide Oyedeji"
          ],
          [
           "Obinna Ekezie"
          ],
          [
           "Quentin Richardson"
          ],
          [
           "Rick Brunson"
          ],
          [
           "Rick Fox"
          ],
          [
           "Ricky Davis"
          ],
          [
           "Shawn Kemp"
          ],
          [
           "Shawn Bradley"
          ],
          [
           "Shareef Abdur-Rahim"
          ],
          [
           "Shaquille O'Neal"
          ],
          [
           "Shane Battier"
          ],
          [
           "Shandon Anderson"
          ],
          [
           "Shammond Williams"
          ],
          [
           "Sean Rooks"
          ],
          [
           "Sean Marks"
          ],
          [
           "Scottie Pippen"
          ],
          [
           "Scott Williams"
          ],
          [
           "Scott Padgett"
          ],
          [
           "Scot Pollard"
          ],
          [
           "Samuel Dalembert"
          ],
          [
           "Samaki Walker"
          ],
          [
           "Sam Mitchell"
          ],
          [
           "Sam Mack"
          ],
          [
           "Sam Cassell"
          ],
          [
           "Ryan Bowen"
          ],
          [
           "Rusty LaRue"
          ],
          [
           "Ruben Patterson"
          ],
          [
           "Ruben Boumtje-Boumtje"
          ],
          [
           "Ron Mercer"
          ],
          [
           "Rodney White"
          ],
          [
           "Rodney Rogers"
          ],
          [
           "Rodney Buford"
          ],
          [
           "Rod Strickland"
          ],
          [
           "Robert Traylor"
          ],
          [
           "Robert Pack"
          ],
          [
           "Shawnelle Scott"
          ],
          [
           "Norman Richardson"
          ],
          [
           "Nick Van Exel"
          ],
          [
           "Dell Curry"
          ],
          [
           "Jermaine Jackson"
          ],
          [
           "Jelani McCoy"
          ],
          [
           "Jeff Trepagnier"
          ],
          [
           "Jeff McInnis"
          ],
          [
           "Jeff Foster"
          ],
          [
           "Jason Williams"
          ],
          [
           "Jason Terry"
          ],
          [
           "Jason Richardson"
          ],
          [
           "Jason Kidd"
          ],
          [
           "Jason Hart"
          ],
          [
           "Jason Collins"
          ],
          [
           "Jason Collier"
          ],
          [
           "Jason Caffey"
          ],
          [
           "Jarron Collins"
          ],
          [
           "Jaren Jackson"
          ],
          [
           "Jermaine O'Neal"
          ],
          [
           "Jerome James"
          ],
          [
           "Jerome Moiso"
          ],
          [
           "Jerome Williams"
          ],
          [
           "Joseph Forte"
          ],
          [
           "Jonathan Bender"
          ],
          [
           "Jon Barry"
          ],
          [
           "Johnny Newman"
          ],
          [
           "John Wallace"
          ],
          [
           "John Stockton"
          ],
          [
           "John Starks"
          ],
          [
           "Jamison Brewer"
          ],
          [
           "John Crotty"
          ],
          [
           "Joel Przybilla"
          ],
          [
           "Joe Smith"
          ],
          [
           "Joe Johnson"
          ],
          [
           "Joe Crispin"
          ],
          [
           "Jim Jackson"
          ],
          [
           "Jeryl Sasser"
          ],
          [
           "Jerry Stackhouse"
          ],
          [
           "John Amaechi"
          ],
          [
           "Jud Buechler"
          ],
          [
           "James Posey"
          ],
          [
           "Jamal Crawford"
          ],
          [
           "Greg Ostertag"
          ],
          [
           "Greg Foster"
          ],
          [
           "Greg Buckner"
          ],
          [
           "Greg Anthony"
          ],
          [
           "Grant Long"
          ],
          [
           "Grant Hill"
          ],
          [
           "Glenn Robinson"
          ],
          [
           "Glen Rice"
          ],
          [
           "Gilbert Arenas"
          ],
          [
           "Gerald Wallace"
          ],
          [
           "George McCloud"
          ],
          [
           "George Lynch"
          ],
          [
           "Gary Trent"
          ],
          [
           "Gary Payton"
          ],
          [
           "Fred Hoiberg"
          ],
          [
           "Hakeem Olajuwon"
          ],
          [
           "Hanno Mottola"
          ],
          [
           "Harold Jamison"
          ],
          [
           "Hedo Turkoglu"
          ],
          [
           "Jamaal Tinsley"
          ],
          [
           "Jamaal Magloire"
          ],
          [
           "Jalen Rose"
          ],
          [
           "Jake Voskuhl"
          ],
          [
           "Jake Tsakalidis"
          ],
          [
           "Jahidi White"
          ],
          [
           "Jacque Vaughn"
          ],
          [
           "Jamal Mashburn"
          ],
          [
           "Jabari Smith"
          ],
          [
           "Ira Newble"
          ],
          [
           "Ira Bowman"
          ],
          [
           "Ike Fontaine"
          ],
          [
           "Ike Austin"
          ],
          [
           "Hubert Davis"
          ],
          [
           "Howard Eisley"
          ],
          [
           "Horace Grant"
          ],
          [
           "Isaiah Rider"
          ],
          [
           "Felton Spencer"
          ],
          [
           "Jumaine Jones"
          ],
          [
           "Karl Malone"
          ],
          [
           "Michael Dickerson"
          ],
          [
           "Michael Curry"
          ],
          [
           "Michael Bradley"
          ],
          [
           "Metta World Peace"
          ],
          [
           "Mengke Bateer"
          ],
          [
           "Maurice Evans"
          ],
          [
           "Matt Harpring"
          ],
          [
           "Matt Geiger"
          ],
          [
           "Matt Bullard"
          ],
          [
           "Mateen Cleaves"
          ],
          [
           "Mark Strickland"
          ],
          [
           "Mark Pope"
          ],
          [
           "Mark Madsen"
          ],
          [
           "Mark Jackson"
          ],
          [
           "Mark Bryant"
          ],
          [
           "Michael Doleac"
          ],
          [
           "Michael Finley"
          ],
          [
           "Michael Jordan"
          ],
          [
           "Michael Olowokandi"
          ],
          [
           "Nazr Mohammed"
          ],
          [
           "Morris Peterson"
          ],
          [
           "Mookie Blaylock"
          ],
          [
           "Moochie Norris"
          ],
          [
           "Monty Williams"
          ],
          [
           "Mitchell Butler"
          ],
          [
           "Mitch Richmond"
          ],
          [
           "Mark Blount"
          ],
          [
           "Milt Palacio"
          ],
          [
           "Mike Penberthy"
          ],
          [
           "Mike Miller"
          ],
          [
           "Mike James"
          ],
          [
           "Mike Bibby"
          ],
          [
           "Michael Stewart"
          ],
          [
           "Michael Ruffin"
          ],
          [
           "Michael Redd"
          ],
          [
           "Mikki Moore"
          ],
          [
           "Juwan Howard"
          ],
          [
           "Marcus Fizer"
          ],
          [
           "Marc Jackson"
          ],
          [
           "Kirk Haston"
          ],
          [
           "Keyon Dooling"
          ],
          [
           "Kevin Willis"
          ],
          [
           "Kevin Ollie"
          ],
          [
           "Kevin Garnett"
          ],
          [
           "Kerry Kittles"
          ],
          [
           "Keon Clark"
          ],
          [
           "Kenyon Martin"
          ],
          [
           "Kenny Thomas"
          ],
          [
           "Kenny Satterfield"
          ],
          [
           "Kenny Anderson"
          ],
          [
           "Kendall Gill"
          ],
          [
           "Kelvin Cato"
          ],
          [
           "Keith Van Horn"
          ],
          [
           "Kedrick Brown"
          ],
          [
           "Kobe Bryant"
          ],
          [
           "Kurt Thomas"
          ],
          [
           "Kwame Brown"
          ],
          [
           "LaPhonso Ellis"
          ],
          [
           "Mamadou N'diaye"
          ],
          [
           "Malik Rose"
          ],
          [
           "Malik Allen"
          ],
          [
           "Lucious Harris"
          ],
          [
           "Lorenzen Wright"
          ],
          [
           "Loren Woods"
          ],
          [
           "Lindsey Hunter"
          ],
          [
           "Marcus Camby"
          ],
          [
           "Leon Smith"
          ],
          [
           "Lawrence Funderburke"
          ],
          [
           "Lavor Postell"
          ],
          [
           "Latrell Sprewell"
          ],
          [
           "Larry Robinson"
          ],
          [
           "Larry Hughes"
          ],
          [
           "Lamond Murray"
          ],
          [
           "Lamar Odom"
          ],
          [
           "Lee Nailon"
          ],
          [
           "Felipe Lopez"
          ],
          [
           "Evan Eschmeyer"
          ],
          [
           "Etan Thomas"
          ],
          [
           "Cal Bowdler"
          ],
          [
           "Calbert Cheaney"
          ],
          [
           "Calvin Booth"
          ],
          [
           "Carlos Arroyo"
          ],
          [
           "Carlos Rogers"
          ],
          [
           "Cedric Henderson"
          ],
          [
           "Charles Oakley"
          ],
          [
           "Charles Smith"
          ],
          [
           "Charlie Bell"
          ],
          [
           "Charlie Ward"
          ],
          [
           "Chauncey Billups"
          ],
          [
           "Cherokee Parks"
          ],
          [
           "Chris Andersen"
          ],
          [
           "Chris Childs"
          ],
          [
           "Chris Crawford"
          ],
          [
           "Bryon Russell"
          ],
          [
           "Bryce Drew"
          ],
          [
           "Bryant Stith"
          ],
          [
           "Bruno Sundov"
          ],
          [
           "Bob Sura"
          ],
          [
           "Bobby Jackson"
          ],
          [
           "Bobby Simmons"
          ],
          [
           "Bonzi Wells"
          ],
          [
           "Brad Miller"
          ],
          [
           "Brandon Armstrong"
          ],
          [
           "Brendan Haywood"
          ],
          [
           "Chris Dudley"
          ],
          [
           "Brent Barry"
          ],
          [
           "Brevin Knight"
          ],
          [
           "Brian Cardinal"
          ],
          [
           "Brian Grant"
          ],
          [
           "Brian Scalabrine"
          ],
          [
           "Brian Shaw"
          ],
          [
           "Brian Skinner"
          ],
          [
           "Bruce Bowen"
          ],
          [
           "Brent Price"
          ],
          [
           "Bo Outlaw"
          ],
          [
           "Chris Gatling"
          ],
          [
           "Chris Mills"
          ],
          [
           "Daniel Santiago"
          ],
          [
           "Danny Ferry"
          ],
          [
           "Danny Fortson"
          ],
          [
           "Danny Manning"
          ],
          [
           "Darius Miles"
          ],
          [
           "Darrell Armstrong"
          ],
          [
           "Darrick Martin"
          ],
          [
           "Darvin Ham"
          ],
          [
           "David Robinson"
          ],
          [
           "David Wesley"
          ],
          [
           "DeSagana Diop"
          ],
          [
           "DeShawn Stevenson"
          ],
          [
           "Dean Garrett"
          ],
          [
           "Dean Oliver"
          ],
          [
           "Dee Brown"
          ],
          [
           "Dana Barros"
          ],
          [
           "Dan Majerle"
          ],
          [
           "Dan Langhi"
          ],
          [
           "Damone Brown"
          ],
          [
           "Chris Webber"
          ],
          [
           "Chris Whitney"
          ],
          [
           "Christian Laettner"
          ],
          [
           "Chucky Atkins"
          ],
          [
           "Chucky Brown"
          ],
          [
           "Clar. Weatherspoon"
          ],
          [
           "Clifford Robinson"
          ],
          [
           "Chris Mihm"
          ],
          [
           "Corey Maggette"
          ],
          [
           "Corliss Williamson"
          ],
          [
           "Courtney Alexander"
          ],
          [
           "Cuttino Mobley"
          ],
          [
           "Dale Davis"
          ],
          [
           "Dalibor Bagaric"
          ],
          [
           "Damon Jones"
          ],
          [
           "Damon Stoudamire"
          ],
          [
           "Corie Blount"
          ],
          [
           "Bimbo Coles"
          ],
          [
           "Ben Wallace"
          ],
          [
           "Baron Davis"
          ],
          [
           "Eddie Gill"
          ],
          [
           "Earl Watson"
          ],
          [
           "Earl Boykins"
          ],
          [
           "Doug Overton"
          ],
          [
           "Doug Christie"
          ],
          [
           "Donyell Marshall"
          ],
          [
           "Donny Marshall"
          ],
          [
           "Donnell Harvey"
          ],
          [
           "Don Reid"
          ],
          [
           "Dirk Nowitzki"
          ],
          [
           "Dion Glover"
          ],
          [
           "Dikembe Mutombo"
          ],
          [
           "Dickey Simpkins"
          ],
          [
           "Devean George"
          ],
          [
           "Desmond Mason"
          ],
          [
           "Eddie Griffin"
          ],
          [
           "Eddie House"
          ],
          [
           "Eddie Jones"
          ],
          [
           "Eddie Robinson"
          ],
          [
           "Ervin Johnson"
          ],
          [
           "Ernest Brown"
          ],
          [
           "Erick Strickland"
          ],
          [
           "Erick Dampier"
          ],
          [
           "Erick Barkley"
          ],
          [
           "Eric Williams"
          ],
          [
           "Eric Snow"
          ],
          [
           "Derrick McKey"
          ],
          [
           "Eric Piatkowski"
          ],
          [
           "Emanual Davis"
          ],
          [
           "Elton Brand"
          ],
          [
           "Elliot Perry"
          ],
          [
           "Eldridge Recasner"
          ],
          [
           "Elden Campbell"
          ],
          [
           "Eduardo Najera"
          ],
          [
           "Eddy Curry"
          ],
          [
           "Eric Montross"
          ],
          [
           "Derrick Dial"
          ],
          [
           "Derrick Coleman"
          ],
          [
           "Derek Fisher"
          ],
          [
           "Anfernee Hardaway"
          ],
          [
           "Ansu Sesay"
          ],
          [
           "Antawn Jamison"
          ],
          [
           "Anthony Carter"
          ],
          [
           "Anthony Johnson"
          ],
          [
           "Anthony Mason"
          ],
          [
           "Anthony Peeler"
          ],
          [
           "Andrew DeClercq"
          ],
          [
           "Antoine Walker"
          ],
          [
           "Antonio Davis"
          ],
          [
           "Antonio Harvey"
          ],
          [
           "Antonio McDyess"
          ],
          [
           "Antonis Fotsis"
          ],
          [
           "Art Long"
          ],
          [
           "Austin Croshere"
          ],
          [
           "Avery Johnson"
          ],
          [
           "Antonio Daniels"
          ],
          [
           "Zendon Hamilton"
          ],
          [
           "Andrei Kirilenko"
          ],
          [
           "Amal McCaskill"
          ],
          [
           "Derek Anderson"
          ],
          [
           "DerMarr Johnson"
          ],
          [
           "Nick Anderson"
          ],
          [
           "A.J. Guyton"
          ],
          [
           "Aaron McKie"
          ],
          [
           "Aaron Williams"
          ],
          [
           "Adonal Foyle"
          ],
          [
           "Andre Miller"
          ],
          [
           "Adrian Griffin"
          ],
          [
           "Alan Henderson"
          ],
          [
           "Allan Houston"
          ],
          [
           "Allen Iverson"
          ],
          [
           "Alonzo Mourning"
          ],
          [
           "Alton Ford"
          ],
          [
           "Alvin Jones"
          ],
          [
           "Alvin Williams"
          ],
          [
           "Al Harrington"
          ],
          [
           "Zydrunas Ilgauskas"
          ],
          [
           "Alvin Williams"
          ],
          [
           "Joseph Forte"
          ],
          [
           "Mike Wilks"
          ],
          [
           "Mike Miller"
          ],
          [
           "Mike James"
          ],
          [
           "Mike Dunleavy"
          ],
          [
           "Mike Bibby"
          ],
          [
           "Mike Batiste"
          ],
          [
           "Michael Stewart"
          ],
          [
           "Michael Redd"
          ],
          [
           "Michael Olowokandi"
          ],
          [
           "Michael Jordan"
          ],
          [
           "Mikki Moore"
          ],
          [
           "Michael Finley"
          ],
          [
           "Michael Dickerson"
          ],
          [
           "Michael Curry"
          ],
          [
           "Michael Bradley"
          ],
          [
           "Metta World Peace"
          ],
          [
           "Mengke Bateer"
          ],
          [
           "Melvin Ely"
          ],
          [
           "Mehmet Okur"
          ],
          [
           "Maurice Taylor"
          ],
          [
           "Matt Maloney"
          ],
          [
           "Matt Harpring"
          ],
          [
           "Michael Doleac"
          ],
          [
           "Milt Palacio"
          ],
          [
           "Monty Williams"
          ],
          [
           "Moochie Norris"
          ],
          [
           "Qyntel Woods"
          ],
          [
           "Quentin Richardson"
          ],
          [
           "Primoz Brezec"
          ],
          [
           "Predrag Savovic"
          ],
          [
           "Predrag Drobnjak"
          ],
          [
           "Popeye Jones"
          ],
          [
           "Pepe Sanchez"
          ],
          [
           "Peja Stojakovic"
          ],
          [
           "Paul Shirley"
          ],
          [
           "Paul Pierce"
          ],
          [
           "Pau Gasol"
          ],
          [
           "Pat Garrity"
          ],
          [
           "Pat Burke"
          ],
          [
           "P.J. Brown"
          ],
          [
           "Othella Harrington"
          ],
          [
           "Oscar Torres"
          ],
          [
           "Olumide Oyedeji"
          ],
          [
           "Nikoloz Tskitishvili"
          ],
          [
           "Nick Van Exel"
          ],
          [
           "Nene"
          ],
          [
           "Nazr Mohammed"
          ],
          [
           "Nate Huffman"
          ],
          [
           "Morris Peterson"
          ],
          [
           "Mateen Cleaves"
          ],
          [
           "Marko Jaric"
          ],
          [
           "Mark Strickland"
          ],
          [
           "Mark Madsen"
          ],
          [
           "Kirk Haston"
          ],
          [
           "Keyon Dooling"
          ],
          [
           "Kevin Willis"
          ],
          [
           "Kevin Ollie"
          ],
          [
           "Kevin Garnett"
          ],
          [
           "Kerry Kittles"
          ],
          [
           "Keon Clark"
          ],
          [
           "Kenyon Martin"
          ],
          [
           "Kenny Thomas"
          ],
          [
           "Kenny Satterfield"
          ],
          [
           "Kenny Anderson"
          ],
          [
           "Kendall Gill"
          ],
          [
           "Ken Johnson"
          ],
          [
           "Kelvin Cato"
          ],
          [
           "Keith Van Horn"
          ],
          [
           "Kedrick Brown"
          ],
          [
           "Karl Malone"
          ],
          [
           "Kareem Rush"
          ],
          [
           "Juwan Howard"
          ],
          [
           "Junior Harrington"
          ],
          [
           "Jumaine Jones"
          ],
          [
           "Juaquin Hawkins"
          ],
          [
           "Juan Dixon"
          ],
          [
           "Kobe Bryant"
          ],
          [
           "Raef LaFrentz"
          ],
          [
           "Kurt Thomas"
          ],
          [
           "LaPhonso Ellis"
          ],
          [
           "Mark Jackson"
          ],
          [
           "Mark Bryant"
          ],
          [
           "Mark Blount"
          ],
          [
           "Marcus Haislip"
          ],
          [
           "Marcus Fizer"
          ],
          [
           "Marcus Camby"
          ],
          [
           "Marc Jackson"
          ],
          [
           "Manu Ginobili"
          ],
          [
           "Mamadou N'diaye"
          ],
          [
           "Malik Rose"
          ],
          [
           "Malik Allen"
          ],
          [
           "Maceo Baston"
          ],
          [
           "Lucious Harris"
          ],
          [
           "Lorenzen Wright"
          ],
          [
           "Loren Woods"
          ],
          [
           "Lonny Baxter"
          ],
          [
           "Lindsey Hunter"
          ],
          [
           "Lee Nailon"
          ],
          [
           "Lawrence Funderburke"
          ],
          [
           "Lavor Postell"
          ],
          [
           "Latrell Sprewell"
          ],
          [
           "Larry Hughes"
          ],
          [
           "Lamar Odom"
          ],
          [
           "Kwame Brown"
          ],
          [
           "Jonathan Bender"
          ],
          [
           "Rafer Alston"
          ],
          [
           "Randy Brown"
          ],
          [
           "Tracy McGrady"
          ],
          [
           "Tony Parker"
          ],
          [
           "Tony Massenburg"
          ],
          [
           "Tony Delk"
          ],
          [
           "Tony Battie"
          ],
          [
           "Toni Kukoc"
          ],
          [
           "Tom Gugliotta"
          ],
          [
           "Todd MacCulloch"
          ],
          [
           "Tito Maddox"
          ],
          [
           "Tim Thomas"
          ],
          [
           "Tracy Murray"
          ],
          [
           "Tim Hardaway"
          ],
          [
           "Tierre Brown"
          ],
          [
           "Theo Ratliff"
          ],
          [
           "Terence Morris"
          ],
          [
           "Tayshaun Prince"
          ],
          [
           "Tariq Abdul-Wahad"
          ],
          [
           "Tamar Slay"
          ],
          [
           "Stromile Swift"
          ],
          [
           "Steven Smith"
          ],
          [
           "Steven Hunter"
          ],
          [
           "Steve Nash"
          ],
          [
           "Tim Duncan"
          ],
          [
           "Travis Best"
          ],
          [
           "Travis Knight"
          ],
          [
           "Tremaine Fowlkes"
          ],
          [
           "Zendon Hamilton"
          ],
          [
           "Zeljko Rebraca"
          ],
          [
           "Zach Randolph"
          ],
          [
           "Yao Ming"
          ],
          [
           "Wesley Person"
          ],
          [
           "Wang Zhi-zhi"
          ],
          [
           "Walter McCarty"
          ],
          [
           "Walt Williams"
          ],
          [
           "Wally Szczerbiak"
          ],
          [
           "Voshon Lenard"
          ],
          [
           "Vladimir Stepania"
          ],
          [
           "Vladimir Radmanovic"
          ],
          [
           "Vlade Divac"
          ],
          [
           "Vitaly Potapenko"
          ],
          [
           "Vincent Yarbrough"
          ],
          [
           "Vince Carter"
          ],
          [
           "Vin Baker"
          ],
          [
           "Tyson Chandler"
          ],
          [
           "Tyronn Lue"
          ],
          [
           "Tyrone Hill"
          ],
          [
           "Troy Murphy"
          ],
          [
           "Troy Hudson"
          ],
          [
           "Trenton Hassell"
          ],
          [
           "Steve Kerr"
          ],
          [
           "Steve Francis"
          ],
          [
           "Stephon Marbury"
          ],
          [
           "Stephen Jackson"
          ],
          [
           "Ron Mercer"
          ],
          [
           "Roger Mason Jr."
          ],
          [
           "Rodney White"
          ],
          [
           "Rodney Rogers"
          ],
          [
           "Rod Strickland"
          ],
          [
           "Robert Traylor"
          ],
          [
           "Robert Pack"
          ],
          [
           "Robert Horry"
          ],
          [
           "Robert Archibald"
          ],
          [
           "Ricky Davis"
          ],
          [
           "Rick Fox"
          ],
          [
           "Rick Brunson"
          ],
          [
           "Richard Jefferson"
          ],
          [
           "Richard Hamilton"
          ],
          [
           "Reggie Slater"
          ],
          [
           "Reggie Miller"
          ],
          [
           "Reggie Evans"
          ],
          [
           "Ray Allen"
          ],
          [
           "Rasual Butler"
          ],
          [
           "Rasho Nesterovic"
          ],
          [
           "Rasheed Wallace"
          ],
          [
           "Rashard Lewis"
          ],
          [
           "Randy Livingston"
          ],
          [
           "Ruben Boumtje-Boumtje"
          ],
          [
           "Raja Bell"
          ],
          [
           "Ruben Patterson"
          ],
          [
           "Ryan Bowen"
          ],
          [
           "Stacey Augmon"
          ],
          [
           "Speedy Claxton"
          ],
          [
           "Soumaila Samake"
          ],
          [
           "Smush Parker"
          ],
          [
           "Slava Medvedenko"
          ],
          [
           "Shawn Marion"
          ],
          [
           "Shawn Kemp"
          ],
          [
           "Shawn Bradley"
          ],
          [
           "Shareef Abdur-Rahim"
          ],
          [
           "Shaquille O'Neal"
          ],
          [
           "Shane Battier"
          ],
          [
           "Shandon Anderson"
          ],
          [
           "Shammond Williams"
          ],
          [
           "Sean Rooks"
          ],
          [
           "Sean Marks"
          ],
          [
           "Sean Lampley"
          ],
          [
           "Scottie Pippen"
          ],
          [
           "Scott Williams"
          ],
          [
           "Scott Padgett"
          ],
          [
           "Scot Pollard"
          ],
          [
           "Samaki Walker"
          ],
          [
           "Sam Cassell"
          ],
          [
           "Ryan Humphrey"
          ],
          [
           "Ruben Wolkowyski"
          ],
          [
           "Zydrunas Ilgauskas"
          ],
          [
           "Jon Barry"
          ],
          [
           "John Salmons"
          ],
          [
           "Chris Webber"
          ],
          [
           "Chris Owens"
          ],
          [
           "Chris Mills"
          ],
          [
           "Chris Mihm"
          ],
          [
           "Chris Jefferies"
          ],
          [
           "Chris Dudley"
          ],
          [
           "Chris Crawford"
          ],
          [
           "Chris Childs"
          ],
          [
           "Chris Andersen"
          ],
          [
           "Cherokee Parks"
          ],
          [
           "Chauncey Billups"
          ],
          [
           "Charlie Ward"
          ],
          [
           "Charles Smith"
          ],
          [
           "Charles Oakley"
          ],
          [
           "Cezary Trybanski"
          ],
          [
           "Casey Jacobsen"
          ],
          [
           "Caron Butler"
          ],
          [
           "Carlos Boozer"
          ],
          [
           "Carlos Arroyo"
          ],
          [
           "Calvin Booth"
          ],
          [
           "Calbert Cheaney"
          ],
          [
           "Bryon Russell"
          ],
          [
           "Bryce Drew"
          ],
          [
           "Chris Whitney"
          ],
          [
           "Bruno Sundov"
          ],
          [
           "Chris Wilcox"
          ],
          [
           "Chucky Atkins"
          ],
          [
           "Darvin Ham"
          ],
          [
           "Darrell Armstrong"
          ],
          [
           "Darius Miles"
          ],
          [
           "Danny Manning"
          ],
          [
           "Danny Fortson"
          ],
          [
           "Danny Ferry"
          ],
          [
           "Dan Langhi"
          ],
          [
           "Dan Gadzuric"
          ],
          [
           "Dan Dickau"
          ],
          [
           "Damone Brown"
          ],
          [
           "Damon Stoudamire"
          ],
          [
           "Damon Jones"
          ],
          [
           "Dalibor Bagaric"
          ],
          [
           "Dale Davis"
          ],
          [
           "Dajuan Wagner"
          ],
          [
           "Cuttino Mobley"
          ],
          [
           "Courtney Alexander"
          ],
          [
           "Corliss Williamson"
          ],
          [
           "Corie Blount"
          ],
          [
           "Corey Maggette"
          ],
          [
           "Corey Benjamin"
          ],
          [
           "Clifford Robinson"
          ],
          [
           "Clar. Weatherspoon"
          ],
          [
           "Christian Laettner"
          ],
          [
           "David Robinson"
          ],
          [
           "Bruce Bowen"
          ],
          [
           "Brian Shaw"
          ],
          [
           "Anthony Peeler"
          ],
          [
           "Anthony Mason"
          ],
          [
           "Anthony Johnson"
          ],
          [
           "Anthony Goldwire"
          ],
          [
           "Anthony Carter"
          ],
          [
           "Antawn Jamison"
          ],
          [
           "Ansu Sesay"
          ],
          [
           "Anfernee Hardaway"
          ],
          [
           "Andrew DeClercq"
          ],
          [
           "Andrei Kirilenko"
          ],
          [
           "Andre Miller"
          ],
          [
           "Amar'e Stoudemire"
          ],
          [
           "A.J. Guyton"
          ],
          [
           "Aaron McKie"
          ],
          [
           "Aaron Williams"
          ],
          [
           "Adam Harrington"
          ],
          [
           "Adonal Foyle"
          ],
          [
           "Adrian Griffin"
          ],
          [
           "Al Harrington"
          ],
          [
           "Alan Henderson"
          ],
          [
           "Allan Houston"
          ],
          [
           "Allen Iverson"
          ],
          [
           "Alton Ford"
          ],
          [
           "Antoine Rigaudeau"
          ],
          [
           "Brian Skinner"
          ],
          [
           "Antoine Walker"
          ],
          [
           "Antonio Davis"
          ],
          [
           "Brian Scalabrine"
          ],
          [
           "Brian Grant"
          ],
          [
           "Brian Cardinal"
          ],
          [
           "Brevin Knight"
          ],
          [
           "Brent Barry"
          ],
          [
           "Brendan Haywood"
          ],
          [
           "Brandon Williams"
          ],
          [
           "Brandon Armstrong"
          ],
          [
           "Brad Miller"
          ],
          [
           "Bostjan Nachbar"
          ],
          [
           "Bonzi Wells"
          ],
          [
           "Bobby Simmons"
          ],
          [
           "Bobby Jackson"
          ],
          [
           "Bob Sura"
          ],
          [
           "Bo Outlaw"
          ],
          [
           "Bimbo Coles"
          ],
          [
           "Ben Wallace"
          ],
          [
           "Baron Davis"
          ],
          [
           "Avery Johnson"
          ],
          [
           "Austin Croshere"
          ],
          [
           "Arvydas Sabonis"
          ],
          [
           "Art Long"
          ],
          [
           "Antonio Harvey"
          ],
          [
           "Antonio Daniels"
          ],
          [
           "John Stockton"
          ],
          [
           "David Wesley"
          ],
          [
           "DeShawn Stevenson"
          ],
          [
           "Jarron Collins"
          ],
          [
           "Jared Jeffries"
          ],
          [
           "Jannero Pargo"
          ],
          [
           "Jamison Brewer"
          ],
          [
           "James Posey"
          ],
          [
           "Jamal Sampson"
          ],
          [
           "Jamal Mashburn"
          ],
          [
           "Jamal Crawford"
          ],
          [
           "Jamaal Tinsley"
          ],
          [
           "Jamaal Magloire"
          ],
          [
           "Jason Caffey"
          ],
          [
           "Jalen Rose"
          ],
          [
           "Jake Tsakalidis"
          ],
          [
           "Jahidi White"
          ],
          [
           "Jacque Vaughn"
          ],
          [
           "J.R. Bremer"
          ],
          [
           "Ira Newble"
          ],
          [
           "Igor Rakocevic"
          ],
          [
           "Hubert Davis"
          ],
          [
           "Howard Eisley"
          ],
          [
           "Horace Grant"
          ],
          [
           "Hedo Turkoglu"
          ],
          [
           "Jake Voskuhl"
          ],
          [
           "Jason Collier"
          ],
          [
           "Jason Collins"
          ],
          [
           "Jason Kidd"
          ],
          [
           "John Crotty"
          ],
          [
           "Amal McCaskill"
          ],
          [
           "John Amaechi"
          ],
          [
           "Joel Przybilla"
          ],
          [
           "Joe Smith"
          ],
          [
           "Joe Johnson"
          ],
          [
           "Jiri Welsch"
          ],
          [
           "Jim Jackson"
          ],
          [
           "Jeryl Sasser"
          ],
          [
           "Jerry Stackhouse"
          ],
          [
           "Jerome Williams"
          ],
          [
           "Jerome Moiso"
          ],
          [
           "Jerome James"
          ],
          [
           "Jermaine O'Neal"
          ],
          [
           "Jermaine Jackson"
          ],
          [
           "Jelani McCoy"
          ],
          [
           "Jeff Trepagnier"
          ],
          [
           "Jeff McInnis"
          ],
          [
           "Jeff Foster"
          ],
          [
           "Jay Williams"
          ],
          [
           "Jason Williams"
          ],
          [
           "Jason Terry"
          ],
          [
           "Jason Richardson"
          ],
          [
           "Guy Rucker"
          ],
          [
           "DeSagana Diop"
          ],
          [
           "Greg Ostertag"
          ],
          [
           "Greg Buckner"
          ],
          [
           "Eddy Curry"
          ],
          [
           "Eddie Robinson"
          ],
          [
           "Eddie Jones"
          ],
          [
           "Eddie House"
          ],
          [
           "Eddie Griffin"
          ],
          [
           "Earl Watson"
          ],
          [
           "Earl Boykins"
          ],
          [
           "Drew Gooden"
          ],
          [
           "Doug Christie"
          ],
          [
           "Donyell Marshall"
          ],
          [
           "Donny Marshall"
          ],
          [
           "Donnell Harvey"
          ],
          [
           "Don Reid"
          ],
          [
           "Dirk Nowitzki"
          ],
          [
           "Dion Glover"
          ],
          [
           "Dikembe Mutombo"
          ],
          [
           "Devin Brown"
          ],
          [
           "Devean George"
          ],
          [
           "Desmond Mason"
          ],
          [
           "Derrick Coleman"
          ],
          [
           "Derek Fisher"
          ],
          [
           "Derek Anderson"
          ],
          [
           "Dean Oliver"
          ],
          [
           "Eduardo Najera"
          ],
          [
           "Greg Foster"
          ],
          [
           "Efthimios Rentzias"
          ],
          [
           "Elton Brand"
          ],
          [
           "Grant Long"
          ],
          [
           "Grant Hill"
          ],
          [
           "Gordan Giricek"
          ],
          [
           "Glenn Robinson"
          ],
          [
           "Glen Rice"
          ],
          [
           "Gilbert Arenas"
          ],
          [
           "Gerald Wallace"
          ],
          [
           "George Lynch"
          ],
          [
           "Gary Trent"
          ],
          [
           "Gary Payton"
          ],
          [
           "Elden Campbell"
          ],
          [
           "Fred Jones"
          ],
          [
           "Frank Williams"
          ],
          [
           "Flip Murray"
          ],
          [
           "Evan Eschmeyer"
          ],
          [
           "Etan Thomas"
          ],
          [
           "Ervin Johnson"
          ],
          [
           "Erick Strickland"
          ],
          [
           "Erick Dampier"
          ],
          [
           "Eric Williams"
          ],
          [
           "Eric Snow"
          ],
          [
           "Eric Piatkowski"
          ],
          [
           "Emanual Davis"
          ],
          [
           "Fred Hoiberg"
          ],
          [
           "Adrian Griffin"
          ],
          [
           "Adonal Foyle"
          ],
          [
           "Richard Jefferson"
          ],
          [
           "Aaron McKie"
          ],
          [
           "Al Harrington"
          ],
          [
           "Aaron Williams"
          ],
          [
           "Alan Henderson"
          ],
          [
           "Alex Garcia"
          ],
          [
           "Allan Houston"
          ],
          [
           "Mo Williams"
          ],
          [
           "Mitchell Butler"
          ],
          [
           "Milt Palacio"
          ],
          [
           "Mikki Moore"
          ],
          [
           "Mike Wilks"
          ],
          [
           "Mike Miller"
          ],
          [
           "Mike James"
          ],
          [
           "Mike Dunleavy"
          ],
          [
           "Mike Bibby"
          ],
          [
           "Mickael Pietrus"
          ],
          [
           "Michael Sweetney"
          ],
          [
           "Michael Stewart"
          ],
          [
           "Michael Ruffin"
          ],
          [
           "Michael Redd"
          ],
          [
           "Michael Olowokandi"
          ],
          [
           "Michael Finley"
          ],
          [
           "Michael Doleac"
          ],
          [
           "Michael Curry"
          ],
          [
           "Michael Bradley"
          ],
          [
           "Metta World Peace"
          ],
          [
           "Mengke Bateer"
          ],
          [
           "Melvin Ely"
          ],
          [
           "Mehmet Okur"
          ],
          [
           "Moochie Norris"
          ],
          [
           "Maurice Taylor"
          ],
          [
           "Morris Peterson"
          ],
          [
           "Ndudi Ebi"
          ],
          [
           "Raja Bell"
          ],
          [
           "Rafer Alston"
          ],
          [
           "Raef LaFrentz"
          ],
          [
           "Qyntel Woods"
          ],
          [
           "Quincy Lewis"
          ],
          [
           "Quentin Richardson"
          ],
          [
           "Primoz Brezec"
          ],
          [
           "Predrag Drobnjak"
          ],
          [
           "Popeye Jones"
          ],
          [
           "Peja Stojakovic"
          ],
          [
           "Paul Shirley"
          ],
          [
           "Paul Pierce"
          ],
          [
           "Paul Grant"
          ],
          [
           "Pau Gasol"
          ],
          [
           "Pat Garrity"
          ],
          [
           "P.J. Brown"
          ],
          [
           "Othella Harrington"
          ],
          [
           "Omar Cook"
          ],
          [
           "Oliver Miller"
          ],
          [
           "Olden Polynice"
          ],
          [
           "Nikoloz Tskitishvili"
          ],
          [
           "Nick Van Exel"
          ],
          [
           "Nene"
          ],
          [
           "Nazr Mohammed"
          ],
          [
           "Randy Livingston"
          ],
          [
           "Maurice Carter"
          ],
          [
           "Matt Carroll"
          ],
          [
           "Lee Nailon"
          ],
          [
           "Leandro Barbosa"
          ],
          [
           "LeBron James"
          ],
          [
           "Latrell Sprewell"
          ],
          [
           "Larry Hughes"
          ],
          [
           "Lamond Murray"
          ],
          [
           "Lamar Odom"
          ],
          [
           "Kyle Korver"
          ],
          [
           "Kwame Brown"
          ],
          [
           "Kurt Thomas"
          ],
          [
           "Kobe Bryant"
          ],
          [
           "Kirk Penney"
          ],
          [
           "Kirk Hinrich"
          ],
          [
           "Keyon Dooling"
          ],
          [
           "Kevin Willis"
          ],
          [
           "Kevin Ollie"
          ],
          [
           "Kevin Garnett"
          ],
          [
           "Kerry Kittles"
          ],
          [
           "Keon Clark"
          ],
          [
           "Kenny Thomas"
          ],
          [
           "Kenny Anderson"
          ],
          [
           "Kendrick Perkins"
          ],
          [
           "Kendall Gill"
          ],
          [
           "Leon Smith"
          ],
          [
           "Matt Harpring"
          ],
          [
           "Lindsey Hunter"
          ],
          [
           "Lonny Baxter"
          ],
          [
           "Matt Barnes"
          ],
          [
           "Mateen Cleaves"
          ],
          [
           "Marquis Daniels"
          ],
          [
           "Marko Jaric"
          ],
          [
           "Mark Pope"
          ],
          [
           "Mark Madsen"
          ],
          [
           "Mark Jackson"
          ],
          [
           "Mark Blount"
          ],
          [
           "Marcus Haislip"
          ],
          [
           "Marcus Fizer"
          ],
          [
           "Marcus Camby"
          ],
          [
           "Marcus Banks"
          ],
          [
           "Marc Jackson"
          ],
          [
           "Manu Ginobili"
          ],
          [
           "Mamadou N'diaye"
          ],
          [
           "Malik Rose"
          ],
          [
           "Malik Allen"
          ],
          [
           "Maciej Lampe"
          ],
          [
           "Luke Walton"
          ],
          [
           "Luke Ridnour"
          ],
          [
           "Lucious Harris"
          ],
          [
           "Lorenzen Wright"
          ],
          [
           "Loren Woods"
          ],
          [
           "Linton Johnson"
          ],
          [
           "Rashard Lewis"
          ],
          [
           "Rasheed Wallace"
          ],
          [
           "Rasho Nesterovic"
          ],
          [
           "Scottie Pippen"
          ],
          [
           "Sean Lampley"
          ],
          [
           "Sean Rooks"
          ],
          [
           "Shammond Williams"
          ],
          [
           "Shandon Anderson"
          ],
          [
           "Shane Battier"
          ],
          [
           "Shane Heal"
          ],
          [
           "Shaquille O'Neal"
          ],
          [
           "Shareef Abdur-Rahim"
          ],
          [
           "Shawn Bradley"
          ],
          [
           "Shawn Marion"
          ],
          [
           "Slava Medvedenko"
          ],
          [
           "Slavko Vranes"
          ],
          [
           "Speedy Claxton"
          ],
          [
           "Stacey Augmon"
          ],
          [
           "Stephen Jackson"
          ],
          [
           "Stephon Marbury"
          ],
          [
           "Steve Blake"
          ],
          [
           "Steve Francis"
          ],
          [
           "Steve Nash"
          ],
          [
           "Steven Hunter"
          ],
          [
           "Steven Smith"
          ],
          [
           "Stromile Swift"
          ],
          [
           "Scott Williams"
          ],
          [
           "T.J. Ford"
          ],
          [
           "Scott Padgett"
          ],
          [
           "Sasha Pavlovic"
          ],
          [
           "Richie Frahm"
          ],
          [
           "Rick Brunson"
          ],
          [
           "Rick Fox"
          ],
          [
           "Ricky Davis"
          ],
          [
           "Robert Archibald"
          ],
          [
           "Robert Horry"
          ],
          [
           "Robert Pack"
          ],
          [
           "Robert Traylor"
          ],
          [
           "Rod Strickland"
          ],
          [
           "Rodney Buford"
          ],
          [
           "Rodney Rogers"
          ],
          [
           "Rodney White"
          ],
          [
           "Roger Mason Jr."
          ],
          [
           "Ron Mercer"
          ],
          [
           "Ronald Dupree"
          ],
          [
           "Ruben Boumtje-Boumtje"
          ],
          [
           "Ruben Patterson"
          ],
          [
           "Rusty LaRue"
          ],
          [
           "Ryan Bowen"
          ],
          [
           "Ryan Humphrey"
          ],
          [
           "Sam Cassell"
          ],
          [
           "Samaki Walker"
          ],
          [
           "Samuel Dalembert"
          ],
          [
           "Scot Pollard"
          ],
          [
           "Tamar Slay"
          ],
          [
           "Tayshaun Prince"
          ],
          [
           "Theo Ratliff"
          ],
          [
           "Vlade Divac"
          ],
          [
           "Vladimir Radmanovic"
          ],
          [
           "Vladimir Stepania"
          ],
          [
           "Voshon Lenard"
          ],
          [
           "Wally Szczerbiak"
          ],
          [
           "Walter McCarty"
          ],
          [
           "Wang Zhi-zhi"
          ],
          [
           "Wesley Person"
          ],
          [
           "Willie Green"
          ],
          [
           "Yao Ming"
          ],
          [
           "Zach Randolph"
          ],
          [
           "Zarko Cabarkapa"
          ],
          [
           "Zaza Pachulia"
          ],
          [
           "Zeljko Rebraca"
          ],
          [
           "Zendon Hamilton"
          ],
          [
           "Zoran Planinic"
          ],
          [
           "Zydrunas Ilgauskas"
          ],
          [
           "Reggie Miller"
          ],
          [
           "Reggie Evans"
          ],
          [
           "Reece Gaines"
          ],
          [
           "Ray Allen"
          ],
          [
           "Raul Lopez"
          ],
          [
           "Rasual Butler"
          ],
          [
           "Vitaly Potapenko"
          ],
          [
           "Vince Carter"
          ],
          [
           "Vin Baker"
          ],
          [
           "Udonis Haslem"
          ],
          [
           "Theron Smith"
          ],
          [
           "Tierre Brown"
          ],
          [
           "Tim Duncan"
          ],
          [
           "Tim Thomas"
          ],
          [
           "Tom Gugliotta"
          ],
          [
           "Toni Kukoc"
          ],
          [
           "Tony Battie"
          ],
          [
           "Tony Delk"
          ],
          [
           "Tony Massenburg"
          ],
          [
           "Tony Parker"
          ],
          [
           "Torraye Braggs"
          ],
          [
           "Kelvin Cato"
          ],
          [
           "Tracy McGrady"
          ],
          [
           "Travis Best"
          ],
          [
           "Travis Hansen"
          ],
          [
           "Travis Outlaw"
          ],
          [
           "Tremaine Fowlkes"
          ],
          [
           "Trenton Hassell"
          ],
          [
           "Troy Bell"
          ],
          [
           "Troy Hudson"
          ],
          [
           "Troy Murphy"
          ],
          [
           "Tyrone Hill"
          ],
          [
           "Tyronn Lue"
          ],
          [
           "Tyson Chandler"
          ],
          [
           "Tracy Murray"
          ],
          [
           "Keith Van Horn"
          ],
          [
           "Keith McLeod"
          ],
          [
           "Keith Bogans"
          ],
          [
           "Curtis Borchardt"
          ],
          [
           "Corliss Williamson"
          ],
          [
           "Corie Blount"
          ],
          [
           "Corey Maggette"
          ],
          [
           "Clifford Robinson"
          ],
          [
           "Clar. Weatherspoon"
          ],
          [
           "Chucky Atkins"
          ],
          [
           "Christian Laettner"
          ],
          [
           "Chris Wilcox"
          ],
          [
           "Chris Whitney"
          ],
          [
           "Chris Webber"
          ],
          [
           "Chris Mihm"
          ],
          [
           "Chris Kaman"
          ],
          [
           "Chris Jefferies"
          ],
          [
           "Chris Crawford"
          ],
          [
           "Chris Bosh"
          ],
          [
           "Chris Andersen"
          ],
          [
           "Cherokee Parks"
          ],
          [
           "Chauncey Billups"
          ],
          [
           "Charlie Ward"
          ],
          [
           "Charles Oakley"
          ],
          [
           "Cezary Trybanski"
          ],
          [
           "Casey Jacobsen"
          ],
          [
           "Cuttino Mobley"
          ],
          [
           "Caron Butler"
          ],
          [
           "Dahntay Jones"
          ],
          [
           "Dale Davis"
          ],
          [
           "Derrick Coleman"
          ],
          [
           "Derek Fisher"
          ],
          [
           "Derek Anderson"
          ],
          [
           "DerMarr Johnson"
          ],
          [
           "DeShawn Stevenson"
          ],
          [
           "DeSagana Diop"
          ],
          [
           "David West"
          ],
          [
           "David Wesley"
          ],
          [
           "Darvin Ham"
          ],
          [
           "Darrick Martin"
          ],
          [
           "Darrell Armstrong"
          ],
          [
           "Darko Milicic"
          ],
          [
           "Darius Songaila"
          ],
          [
           "Darius Miles"
          ],
          [
           "Danny Fortson"
          ],
          [
           "Daniel Santiago"
          ],
          [
           "Dana Barros"
          ],
          [
           "Dan Langhi"
          ],
          [
           "Dan Gadzuric"
          ],
          [
           "Dan Dickau"
          ],
          [
           "Damone Brown"
          ],
          [
           "Damon Stoudamire"
          ],
          [
           "Damon Jones"
          ],
          [
           "Dajuan Wagner"
          ],
          [
           "Carmelo Anthony"
          ],
          [
           "Carlos Boozer"
          ],
          [
           "Carlos Arroyo"
          ],
          [
           "Baron Davis"
          ],
          [
           "Avery Johnson"
          ],
          [
           "Austin Croshere"
          ],
          [
           "Antonio McDyess"
          ],
          [
           "Antonio Davis"
          ],
          [
           "Antonio Daniels"
          ],
          [
           "Antoine Walker"
          ],
          [
           "Anthony Peeler"
          ],
          [
           "Anthony Johnson"
          ],
          [
           "Anthony Goldwire"
          ],
          [
           "Anthony Carter"
          ],
          [
           "Antawn Jamison"
          ],
          [
           "Ansu Sesay"
          ],
          [
           "Anfernee Hardaway"
          ],
          [
           "Andrew DeClercq"
          ],
          [
           "Andrei Kirilenko"
          ],
          [
           "Andre Miller"
          ],
          [
           "Amar'e Stoudemire"
          ],
          [
           "Amal McCaskill"
          ],
          [
           "Alvin Williams"
          ],
          [
           "Alton Ford"
          ],
          [
           "Alonzo Mourning"
          ],
          [
           "Allen Iverson"
          ],
          [
           "Ben Handlogten"
          ],
          [
           "Ben Wallace"
          ],
          [
           "Bimbo Coles"
          ],
          [
           "Bo Outlaw"
          ],
          [
           "Calvin Booth"
          ],
          [
           "Calbert Cheaney"
          ],
          [
           "Bryon Russell"
          ],
          [
           "Bryce Drew"
          ],
          [
           "Bruno Sundov"
          ],
          [
           "Bruce Bowen"
          ],
          [
           "Britton Johnsen"
          ],
          [
           "Brian Skinner"
          ],
          [
           "Brian Scalabrine"
          ],
          [
           "Brian Grant"
          ],
          [
           "Brian Cook"
          ],
          [
           "Derrick Dial"
          ],
          [
           "Brian Cardinal"
          ],
          [
           "Brent Barry"
          ],
          [
           "Brendan Haywood"
          ],
          [
           "Brandon Hunter"
          ],
          [
           "Brandon Armstrong"
          ],
          [
           "Brad Miller"
          ],
          [
           "Bostjan Nachbar"
          ],
          [
           "Boris Diaw"
          ],
          [
           "Bonzi Wells"
          ],
          [
           "Bobby Simmons"
          ],
          [
           "Bobby Jackson"
          ],
          [
           "Bob Sura"
          ],
          [
           "Brevin Knight"
          ],
          [
           "Richard Hamilton"
          ],
          [
           "Desmond Ferguson"
          ],
          [
           "Desmond Penigar"
          ],
          [
           "Jeff Foster"
          ],
          [
           "Jason Williams"
          ],
          [
           "Jason Terry"
          ],
          [
           "Jason Richardson"
          ],
          [
           "Jason Kidd"
          ],
          [
           "Jason Kapono"
          ],
          [
           "Jason Hart"
          ],
          [
           "Jason Collins"
          ],
          [
           "Jason Collier"
          ],
          [
           "Jarvis Hayes"
          ],
          [
           "Jarron Collins"
          ],
          [
           "Jared Jeffries"
          ],
          [
           "Jannero Pargo"
          ],
          [
           "Jamison Brewer"
          ],
          [
           "James Posey"
          ],
          [
           "James Jones"
          ],
          [
           "Jamal Sampson"
          ],
          [
           "Jamal Mashburn"
          ],
          [
           "Jamal Crawford"
          ],
          [
           "Jamaal Tinsley"
          ],
          [
           "Jamaal Magloire"
          ],
          [
           "Jalen Rose"
          ],
          [
           "Jake Voskuhl"
          ],
          [
           "Jeff McInnis"
          ],
          [
           "Jake Tsakalidis"
          ],
          [
           "Jeff Trepagnier"
          ],
          [
           "Jermaine O'Neal"
          ],
          [
           "Kedrick Brown"
          ],
          [
           "Karl Malone"
          ],
          [
           "Kareem Rush"
          ],
          [
           "Kaniel Dickens"
          ],
          [
           "Juwan Howard"
          ],
          [
           "Jumaine Jones"
          ],
          [
           "Juan Dixon"
          ],
          [
           "Josh Howard"
          ],
          [
           "Josh Davis"
          ],
          [
           "Jonathan Bender"
          ],
          [
           "Jon Barry"
          ],
          [
           "John Wallace"
          ],
          [
           "John Salmons"
          ],
          [
           "Joel Przybilla"
          ],
          [
           "Joe Smith"
          ],
          [
           "Joe Johnson"
          ],
          [
           "Jiri Welsch"
          ],
          [
           "Jim Jackson"
          ],
          [
           "Jerry Stackhouse"
          ],
          [
           "Jerome Williams"
          ],
          [
           "Jerome Moiso"
          ],
          [
           "Jerome James"
          ],
          [
           "Jerome Beasley"
          ],
          [
           "Jelani McCoy"
          ],
          [
           "Jahidi White"
          ],
          [
           "Jacque Vaughn"
          ],
          [
           "Jabari Smith"
          ],
          [
           "Eric Snow"
          ],
          [
           "Eric Piatkowski"
          ],
          [
           "Elton Brand"
          ],
          [
           "Elden Campbell"
          ],
          [
           "Eduardo Najera"
          ],
          [
           "Eddy Curry"
          ],
          [
           "Eddie Robinson"
          ],
          [
           "Eddie Jones"
          ],
          [
           "Eddie House"
          ],
          [
           "Eddie Gill"
          ],
          [
           "Earl Watson"
          ],
          [
           "Earl Boykins"
          ],
          [
           "Dwyane Wade"
          ],
          [
           "Drew Gooden"
          ],
          [
           "Doug Overton"
          ],
          [
           "Doug Christie"
          ],
          [
           "Donyell Marshall"
          ],
          [
           "Donnell Harvey"
          ],
          [
           "Dirk Nowitzki"
          ],
          [
           "Dion Glover"
          ],
          [
           "Dikembe Mutombo"
          ],
          [
           "Devin Brown"
          ],
          [
           "Devean George"
          ],
          [
           "Eric Williams"
          ],
          [
           "Erick Dampier"
          ],
          [
           "Erick Strickland"
          ],
          [
           "Ervin Johnson"
          ],
          [
           "J.R. Bremer"
          ],
          [
           "Ira Newble"
          ],
          [
           "Ime Udoka"
          ],
          [
           "Hubert Davis"
          ],
          [
           "Howard Eisley"
          ],
          [
           "Horace Grant"
          ],
          [
           "Hiram Fuller"
          ],
          [
           "Hedo Turkoglu"
          ],
          [
           "Greg Ostertag"
          ],
          [
           "Greg Buckner"
          ],
          [
           "Gordan Giricek"
          ],
          [
           "Desmond Mason"
          ],
          [
           "Glenn Robinson"
          ],
          [
           "Gilbert Arenas"
          ],
          [
           "Gerald Wallace"
          ],
          [
           "George Lynch"
          ],
          [
           "Gary Trent"
          ],
          [
           "Gary Payton"
          ],
          [
           "Fred Jones"
          ],
          [
           "Fred Hoiberg"
          ],
          [
           "Frank Williams"
          ],
          [
           "Francisco Elson"
          ],
          [
           "Flip Murray"
          ],
          [
           "Etan Thomas"
          ],
          [
           "Glen Rice"
          ],
          [
           "Kenyon Martin"
          ],
          [
           "Aaron McKie"
          ],
          [
           "Keith Bogans"
          ],
          [
           "Michael Ruffin"
          ],
          [
           "Michael Redd"
          ],
          [
           "Michael Olowokandi"
          ],
          [
           "Michael Finley"
          ],
          [
           "Michael Doleac"
          ],
          [
           "Michael Curry"
          ],
          [
           "Michael Bradley"
          ],
          [
           "Metta World Peace"
          ],
          [
           "Melvin Ely"
          ],
          [
           "Mehmet Okur"
          ],
          [
           "Maurice Taylor"
          ],
          [
           "Michael Stewart"
          ],
          [
           "Maurice Evans"
          ],
          [
           "Matt Harpring"
          ],
          [
           "Matt Freije"
          ],
          [
           "Matt Carroll"
          ],
          [
           "Matt Bonner"
          ],
          [
           "Matt Barnes"
          ],
          [
           "Mateen Cleaves"
          ],
          [
           "Marquis Daniels"
          ],
          [
           "Marko Jaric"
          ],
          [
           "Mark Pope"
          ],
          [
           "Mark Madsen"
          ],
          [
           "Mark Jones"
          ],
          [
           "Maurice Baker"
          ],
          [
           "Michael Sweetney"
          ],
          [
           "Mickael Pietrus"
          ],
          [
           "Mike Bibby"
          ],
          [
           "Paul Shirley"
          ],
          [
           "Paul Pierce"
          ],
          [
           "Pau Gasol"
          ],
          [
           "Pat Garrity"
          ],
          [
           "Pape Sow"
          ],
          [
           "P.J. Brown"
          ],
          [
           "Othella Harrington"
          ],
          [
           "Omar Cook"
          ],
          [
           "Obinna Ekezie"
          ],
          [
           "Nikoloz Tskitishvili"
          ],
          [
           "Nick Van Exel"
          ],
          [
           "Nick Collison"
          ],
          [
           "Nene"
          ],
          [
           "Nenad Krstic"
          ],
          [
           "Ndudi Ebi"
          ],
          [
           "Nazr Mohammed"
          ],
          [
           "Morris Peterson"
          ],
          [
           "Moochie Norris"
          ],
          [
           "Mo Williams"
          ],
          [
           "Milt Palacio"
          ],
          [
           "Mikki Moore"
          ],
          [
           "Mike Wilks"
          ],
          [
           "Mike Miller"
          ],
          [
           "Mike James"
          ],
          [
           "Mike Dunleavy"
          ],
          [
           "Mark Blount"
          ],
          [
           "Mario Kasun"
          ],
          [
           "Marcus Haislip"
          ],
          [
           "Marcus Fizer"
          ],
          [
           "Kyle Korver"
          ],
          [
           "Kwame Brown"
          ],
          [
           "Kurt Thomas"
          ],
          [
           "Kris Humphries"
          ],
          [
           "Kobe Bryant"
          ],
          [
           "Kirk Snyder"
          ],
          [
           "Kirk Penney"
          ],
          [
           "Kirk Hinrich"
          ],
          [
           "Keyon Dooling"
          ],
          [
           "Kevin Willis"
          ],
          [
           "Kevin Ollie"
          ],
          [
           "Kevin Martin"
          ],
          [
           "Kevin Garnett"
          ],
          [
           "Kerry Kittles"
          ],
          [
           "Kenyon Martin"
          ],
          [
           "Kenny Thomas"
          ],
          [
           "Kenny Anderson"
          ],
          [
           "Kendrick Perkins"
          ],
          [
           "Kendall Gill"
          ],
          [
           "Kelvin Cato"
          ],
          [
           "Keith Van Horn"
          ],
          [
           "Keith McLeod"
          ],
          [
           "Kedrick Brown"
          ],
          [
           "Kareem Rush"
          ],
          [
           "Kaniel Dickens"
          ],
          [
           "Lamar Odom"
          ],
          [
           "Pavel Podkolzin"
          ],
          [
           "Lamond Murray"
          ],
          [
           "Larry Hughes"
          ],
          [
           "Marcus Camby"
          ],
          [
           "Marcus Banks"
          ],
          [
           "Marc Jackson"
          ],
          [
           "Manu Ginobili"
          ],
          [
           "Mamadou N'diaye"
          ],
          [
           "Malik Rose"
          ],
          [
           "Malik Allen"
          ],
          [
           "Maciej Lampe"
          ],
          [
           "Luol Deng"
          ],
          [
           "Luke Walton"
          ],
          [
           "Luke Ridnour"
          ],
          [
           "Luke Jackson"
          ],
          [
           "Luis Flores"
          ],
          [
           "Lucious Harris"
          ],
          [
           "Lorenzen Wright"
          ],
          [
           "Loren Woods"
          ],
          [
           "Lonny Baxter"
          ],
          [
           "Lionel Chalmers"
          ],
          [
           "Linton Johnson"
          ],
          [
           "Lindsey Hunter"
          ],
          [
           "Lee Nailon"
          ],
          [
           "Leandro Barbosa"
          ],
          [
           "LeBron James"
          ],
          [
           "Lawrence Funderburke"
          ],
          [
           "Latrell Sprewell"
          ],
          [
           "Laron Profit"
          ],
          [
           "Peja Stojakovic"
          ],
          [
           "Peter John Ramos"
          ],
          [
           "Predrag Drobnjak"
          ],
          [
           "Travis Best"
          ],
          [
           "Tracy McGrady"
          ],
          [
           "Torraye Braggs"
          ],
          [
           "Tony Parker"
          ],
          [
           "Tony Massenburg"
          ],
          [
           "Tony Delk"
          ],
          [
           "Tony Bobbitt"
          ],
          [
           "Tony Battie"
          ],
          [
           "Tony Allen"
          ],
          [
           "Toni Kukoc"
          ],
          [
           "Tom Gugliotta"
          ],
          [
           "Tim Thomas"
          ],
          [
           "Tim Duncan"
          ],
          [
           "Tierre Brown"
          ],
          [
           "Theron Smith"
          ],
          [
           "Theo Ratliff"
          ],
          [
           "Tayshaun Prince"
          ],
          [
           "Tamar Slay"
          ],
          [
           "Stromile Swift"
          ],
          [
           "Steven Smith"
          ],
          [
           "Steven Hunter"
          ],
          [
           "Steve Nash"
          ],
          [
           "Steve Francis"
          ],
          [
           "Steve Blake"
          ],
          [
           "Stephon Marbury"
          ],
          [
           "Travis Outlaw"
          ],
          [
           "Stephen Jackson"
          ],
          [
           "Tremaine Fowlkes"
          ],
          [
           "Trevor Ariza"
          ],
          [
           "Zoran Planinic"
          ],
          [
           "Zendon Hamilton"
          ],
          [
           "Zeljko Rebraca"
          ],
          [
           "Zaza Pachulia"
          ],
          [
           "Zarko Cabarkapa"
          ],
          [
           "Zach Randolph"
          ],
          [
           "Yuta Tabuse"
          ],
          [
           "Yao Ming"
          ],
          [
           "Willie Green"
          ],
          [
           "Wesley Person"
          ],
          [
           "Wang Zhi-zhi"
          ],
          [
           "Walter McCarty"
          ],
          [
           "Wally Szczerbiak"
          ],
          [
           "Voshon Lenard"
          ],
          [
           "Vladimir Radmanovic"
          ],
          [
           "Vlade Divac"
          ],
          [
           "Vitaly Potapenko"
          ],
          [
           "Vince Carter"
          ],
          [
           "Vin Baker"
          ],
          [
           "Viktor Khryapa"
          ],
          [
           "Udonis Haslem"
          ],
          [
           "Tyson Chandler"
          ],
          [
           "Tyronn Lue"
          ],
          [
           "Troy Murphy"
          ],
          [
           "Troy Hudson"
          ],
          [
           "Trenton Hassell"
          ],
          [
           "Juwan Howard"
          ],
          [
           "Stacey Augmon"
          ],
          [
           "Smush Parker"
          ],
          [
           "Robert Swift"
          ],
          [
           "Robert Horry"
          ],
          [
           "Ricky Davis"
          ],
          [
           "Rick Brunson"
          ],
          [
           "Richie Frahm"
          ],
          [
           "Richard Jefferson"
          ],
          [
           "Richard Hamilton"
          ],
          [
           "Reggie Miller"
          ],
          [
           "Reggie Evans"
          ],
          [
           "Reece Gaines"
          ],
          [
           "Ray Allen"
          ],
          [
           "Raul Lopez"
          ],
          [
           "Rasual Butler"
          ],
          [
           "Rasho Nesterovic"
          ],
          [
           "Rasheed Wallace"
          ],
          [
           "Rashard Lewis"
          ],
          [
           "Randy Livingston"
          ],
          [
           "Raja Bell"
          ],
          [
           "Rafer Alston"
          ],
          [
           "Rafael Araujo"
          ],
          [
           "Raef LaFrentz"
          ],
          [
           "Qyntel Woods"
          ],
          [
           "Quinton Ross"
          ],
          [
           "Quentin Richardson"
          ],
          [
           "Primoz Brezec"
          ],
          [
           "Robert Traylor"
          ],
          [
           "Speedy Claxton"
          ],
          [
           "Rod Strickland"
          ],
          [
           "Rodney Rogers"
          ],
          [
           "Slava Medvedenko"
          ],
          [
           "Shawn Marion"
          ],
          [
           "Shawn Bradley"
          ],
          [
           "Shaun Livingston"
          ],
          [
           "Shareef Abdur-Rahim"
          ],
          [
           "Shaquille O'Neal"
          ],
          [
           "Shane Battier"
          ],
          [
           "Shandon Anderson"
          ],
          [
           "Sebastian Telfair"
          ],
          [
           "Sean Marks"
          ],
          [
           "Scott Williams"
          ],
          [
           "Scott Padgett"
          ],
          [
           "Scot Pollard"
          ],
          [
           "Sasha Vujacic"
          ],
          [
           "Sasha Pavlovic"
          ],
          [
           "Samuel Dalembert"
          ],
          [
           "Samaki Walker"
          ],
          [
           "Sam Cassell"
          ],
          [
           "Ryan Humphrey"
          ],
          [
           "Ryan Bowen"
          ],
          [
           "Ruben Patterson"
          ],
          [
           "Royal Ivey"
          ],
          [
           "Ronald Dupree"
          ],
          [
           "Ron Mercer"
          ],
          [
           "Rodney White"
          ],
          [
           "Rodney Buford"
          ],
          [
           "Justin Reed"
          ],
          [
           "Junior Harrington"
          ],
          [
           "Jumaine Jones"
          ],
          [
           "Clar. Weatherspoon"
          ],
          [
           "Chucky Atkins"
          ],
          [
           "Christian Laettner"
          ],
          [
           "Chris Wilcox"
          ],
          [
           "Chris Webber"
          ],
          [
           "Chris Mihm"
          ],
          [
           "Chris Kaman"
          ],
          [
           "Chris Duhon"
          ],
          [
           "Chris Bosh"
          ],
          [
           "Chris Andersen"
          ],
          [
           "Chauncey Billups"
          ],
          [
           "Charlie Ward"
          ],
          [
           "Casey Jacobsen"
          ],
          [
           "Caron Butler"
          ],
          [
           "Carmelo Anthony"
          ],
          [
           "Carlos Delfino"
          ],
          [
           "Carlos Boozer"
          ],
          [
           "Carlos Arroyo"
          ],
          [
           "Calvin Booth"
          ],
          [
           "Calbert Cheaney"
          ],
          [
           "Bryon Russell"
          ],
          [
           "Bruno Sundov"
          ],
          [
           "Bruce Bowen"
          ],
          [
           "Britton Johnsen"
          ],
          [
           "Brian Skinner"
          ],
          [
           "Clifford Robinson"
          ],
          [
           "Brian Scalabrine"
          ],
          [
           "Corey Maggette"
          ],
          [
           "Corsley Edwards"
          ],
          [
           "DeSagana Diop"
          ],
          [
           "David West"
          ],
          [
           "David Wesley"
          ],
          [
           "David Harrison"
          ],
          [
           "Darvin Ham"
          ],
          [
           "Darrick Martin"
          ],
          [
           "Darrell Armstrong"
          ],
          [
           "Darko Milicic"
          ],
          [
           "Darius Songaila"
          ],
          [
           "Darius Miles"
          ],
          [
           "Danny Fortson"
          ],
          [
           "Daniel Santiago"
          ],
          [
           "Dan Gadzuric"
          ],
          [
           "Dan Dickau"
          ],
          [
           "Damone Brown"
          ],
          [
           "Damon Stoudamire"
          ],
          [
           "Damon Jones"
          ],
          [
           "Damien Wilkins"
          ],
          [
           "Dale Davis"
          ],
          [
           "Dajuan Wagner"
          ],
          [
           "Dahntay Jones"
          ],
          [
           "DJ Mbenga"
          ],
          [
           "Cuttino Mobley"
          ],
          [
           "Curtis Borchardt"
          ],
          [
           "Cory Alexander"
          ],
          [
           "Corliss Williamson"
          ],
          [
           "DeShawn Stevenson"
          ],
          [
           "Brian Grant"
          ],
          [
           "Brian Cardinal"
          ],
          [
           "Anthony Johnson"
          ],
          [
           "Anthony Goldwire"
          ],
          [
           "Anthony Carter"
          ],
          [
           "Antawn Jamison"
          ],
          [
           "Ansu Sesay"
          ],
          [
           "Anfernee Hardaway"
          ],
          [
           "Andris Biedrins"
          ],
          [
           "Andrew DeClercq"
          ],
          [
           "Andres Nocioni"
          ],
          [
           "Andrei Kirilenko"
          ],
          [
           "Andre Miller"
          ],
          [
           "Andre Iguodala"
          ],
          [
           "Andre Emmett"
          ],
          [
           "Andre Barrett"
          ],
          [
           "Anderson Varejao"
          ],
          [
           "Amar'e Stoudemire"
          ],
          [
           "Alonzo Mourning"
          ],
          [
           "Allen Iverson"
          ],
          [
           "Allan Houston"
          ],
          [
           "Alex Garcia"
          ],
          [
           "Aleksandar Radojevic"
          ],
          [
           "Alan Henderson"
          ],
          [
           "Al Jefferson"
          ],
          [
           "Al Harrington"
          ],
          [
           "Adrian Griffin"
          ],
          [
           "Anthony Miller"
          ],
          [
           "Brian Cook"
          ],
          [
           "Anthony Peeler"
          ],
          [
           "Antonio Burks"
          ],
          [
           "Brevin Knight"
          ],
          [
           "Brent Barry"
          ],
          [
           "Brendan Haywood"
          ],
          [
           "Brandon Hunter"
          ],
          [
           "Brandin Knight"
          ],
          [
           "Brad Miller"
          ],
          [
           "Bostjan Nachbar"
          ],
          [
           "Boris Diaw"
          ],
          [
           "Bonzi Wells"
          ],
          [
           "Bobby Simmons"
          ],
          [
           "Bobby Jackson"
          ],
          [
           "Bob Sura"
          ],
          [
           "Bo Outlaw"
          ],
          [
           "Billy Thomas"
          ],
          [
           "Bernard Robinson"
          ],
          [
           "Beno Udrih"
          ],
          [
           "Ben Wallace"
          ],
          [
           "Ben Handlogten"
          ],
          [
           "Ben Gordon"
          ],
          [
           "Baron Davis"
          ],
          [
           "Awvee Storey"
          ],
          [
           "Austin Croshere"
          ],
          [
           "Antonio McDyess"
          ],
          [
           "Antonio Davis"
          ],
          [
           "Antonio Daniels"
          ],
          [
           "Antoine Walker"
          ],
          [
           "Zydrunas Ilgauskas"
          ],
          [
           "Delonte West"
          ],
          [
           "Derek Anderson"
          ],
          [
           "Jason Hart"
          ],
          [
           "Jason Collins"
          ],
          [
           "Jason Collier"
          ],
          [
           "Jarvis Hayes"
          ],
          [
           "Jarron Collins"
          ],
          [
           "Jared Reiner"
          ],
          [
           "Jared Jeffries"
          ],
          [
           "Jannero Pargo"
          ],
          [
           "Jamison Brewer"
          ],
          [
           "James Thomas"
          ],
          [
           "James Posey"
          ],
          [
           "James Jones"
          ],
          [
           "Jameer Nelson"
          ],
          [
           "Jamal Sampson"
          ],
          [
           "Jamal Crawford"
          ],
          [
           "Jamaal Tinsley"
          ],
          [
           "Jamaal Magloire"
          ],
          [
           "Jalen Rose"
          ],
          [
           "Jake Voskuhl"
          ],
          [
           "Jake Tsakalidis"
          ],
          [
           "Jahidi White"
          ],
          [
           "Jacque Vaughn"
          ],
          [
           "Jackson Vroman"
          ],
          [
           "Jackie Butler"
          ],
          [
           "Jabari Smith"
          ],
          [
           "Jason Kapono"
          ],
          [
           "JR Smith"
          ],
          [
           "Jason Kidd"
          ],
          [
           "Jason Terry"
          ],
          [
           "Juan Dixon"
          ],
          [
           "Josh Smith"
          ],
          [
           "Josh Howard"
          ],
          [
           "Josh Davis"
          ],
          [
           "Josh Childress"
          ],
          [
           "Jonathan Bender"
          ],
          [
           "Jon Barry"
          ],
          [
           "John Thomas"
          ],
          [
           "John Salmons"
          ],
          [
           "John Edwards"
          ],
          [
           "Joel Przybilla"
          ],
          [
           "Joe Smith"
          ],
          [
           "Joe Johnson"
          ],
          [
           "Jiri Welsch"
          ],
          [
           "Jim Jackson"
          ],
          [
           "Jerry Stackhouse"
          ],
          [
           "Jerome Williams"
          ],
          [
           "Jerome Moiso"
          ],
          [
           "Jerome James"
          ],
          [
           "Jermaine O'Neal"
          ],
          [
           "Jermaine Jackson"
          ],
          [
           "Jelani McCoy"
          ],
          [
           "Jeff McInnis"
          ],
          [
           "Jeff Foster"
          ],
          [
           "Jason Williams"
          ],
          [
           "Jason Richardson"
          ],
          [
           "DerMarr Johnson"
          ],
          [
           "Ira Newble"
          ],
          [
           "Howard Eisley"
          ],
          [
           "Eduardo Najera"
          ],
          [
           "Eddy Curry"
          ],
          [
           "Eddie Jones"
          ],
          [
           "Eddie House"
          ],
          [
           "Eddie Griffin"
          ],
          [
           "Eddie Gill"
          ],
          [
           "Earl Watson"
          ],
          [
           "Earl Boykins"
          ],
          [
           "Dwyane Wade"
          ],
          [
           "Dwight Howard"
          ],
          [
           "Drew Gooden"
          ],
          [
           "Doug Christie"
          ],
          [
           "Dorell Wright"
          ],
          [
           "Donyell Marshall"
          ],
          [
           "Donta Smith"
          ],
          [
           "Donnell Harvey"
          ],
          [
           "Dirk Nowitzki"
          ],
          [
           "Dion Glover"
          ],
          [
           "Dikembe Mutombo"
          ],
          [
           "Devin Harris"
          ],
          [
           "Devin Brown"
          ],
          [
           "Devean George"
          ],
          [
           "Desmond Mason"
          ],
          [
           "Derrick Coleman"
          ],
          [
           "Derek Fisher"
          ],
          [
           "Elden Campbell"
          ],
          [
           "Ibrahim Kutluay"
          ],
          [
           "Elton Brand"
          ],
          [
           "Eric Piatkowski"
          ],
          [
           "Horace Jenkins"
          ],
          [
           "Hedo Turkoglu"
          ],
          [
           "Ha Ha"
          ],
          [
           "Greg Ostertag"
          ],
          [
           "Greg Buckner"
          ],
          [
           "Grant Hill"
          ],
          [
           "Gordan Giricek"
          ],
          [
           "Glenn Robinson"
          ],
          [
           "Gilbert Arenas"
          ],
          [
           "Gerald Wallace"
          ],
          [
           "George Lynch"
          ],
          [
           "Geno Carlisle"
          ],
          [
           "Gary Payton"
          ],
          [
           "Fred Jones"
          ],
          [
           "Fred Hoiberg"
          ],
          [
           "Frank Williams"
          ],
          [
           "Francisco Elson"
          ],
          [
           "Flip Murray"
          ],
          [
           "Etan Thomas"
          ],
          [
           "Ervin Johnson"
          ],
          [
           "Erik Daniels"
          ],
          [
           "Erick Strickland"
          ],
          [
           "Erick Dampier"
          ],
          [
           "Eric Williams"
          ],
          [
           "Eric Snow"
          ],
          [
           "Emeka Okafor"
          ],
          [
           "Adonal Foyle"
          ],
          [
           "Aaron Williams"
          ],
          [
           "Delonte West"
          ],
          [
           "Alan Henderson"
          ],
          [
           "Eddie Griffin"
          ],
          [
           "Eddie House"
          ],
          [
           "Eddie Jones"
          ],
          [
           "Eddy Curry"
          ],
          [
           "Eduardo Najera"
          ],
          [
           "Elton Brand"
          ],
          [
           "Emeka Okafor"
          ],
          [
           "Eric Piatkowski"
          ],
          [
           "Eric Snow"
          ],
          [
           "Eric Williams"
          ],
          [
           "Alan Anderson"
          ],
          [
           "Erick Dampier"
          ],
          [
           "Esteban Batista"
          ],
          [
           "Etan Thomas"
          ],
          [
           "Fabricio Oberto"
          ],
          [
           "Flip Murray"
          ],
          [
           "Francisco Elson"
          ],
          [
           "Francisco Garcia"
          ],
          [
           "Fred Jones"
          ],
          [
           "Gary Payton"
          ],
          [
           "Gerald Fitch"
          ],
          [
           "Gerald Green"
          ],
          [
           "Gerald Wallace"
          ],
          [
           "Ervin Johnson"
          ],
          [
           "Al Jefferson"
          ],
          [
           "Al Harrington"
          ],
          [
           "Adrian Griffin"
          ],
          [
           "Andray Blatche"
          ],
          [
           "Anderson Varejao"
          ],
          [
           "Amir Johnson"
          ],
          [
           "Amar'e Stoudemire"
          ],
          [
           "Alvin Williams"
          ],
          [
           "Alonzo Mourning"
          ],
          [
           "Allen Iverson"
          ],
          [
           "Alex Scales"
          ],
          [
           "Alex Acker"
          ],
          [
           "Donyell Marshall"
          ],
          [
           "Dorell Wright"
          ],
          [
           "Doug Christie"
          ],
          [
           "Drew Gooden"
          ],
          [
           "Dwayne Jones"
          ],
          [
           "Dwight Howard"
          ],
          [
           "Dwyane Wade"
          ],
          [
           "Earl Barron"
          ],
          [
           "Earl Boykins"
          ],
          [
           "Earl Watson"
          ],
          [
           "Eddie Basden"
          ],
          [
           "Eddie Gill"
          ],
          [
           "Aaron McKie"
          ],
          [
           "Aaron Miles"
          ],
          [
           "Aaron Williams"
          ],
          [
           "Adonal Foyle"
          ],
          [
           "Gilbert Arenas"
          ],
          [
           "Andre Barrett"
          ],
          [
           "Gordan Giricek"
          ],
          [
           "Greg Buckner"
          ],
          [
           "Jason Collins"
          ],
          [
           "Jason Hart"
          ],
          [
           "Jason Kapono"
          ],
          [
           "Jason Kidd"
          ],
          [
           "Jason Maxiell"
          ],
          [
           "Jason Richardson"
          ],
          [
           "Jason Terry"
          ],
          [
           "Jason Williams"
          ],
          [
           "Jeff Foster"
          ],
          [
           "Jeff McInnis"
          ],
          [
           "Jermaine Jackson"
          ],
          [
           "Jarvis Hayes"
          ],
          [
           "Jermaine O'Neal"
          ],
          [
           "Jerry Stackhouse"
          ],
          [
           "Jim Jackson"
          ],
          [
           "Jiri Welsch"
          ],
          [
           "Joe Johnson"
          ],
          [
           "Joe Smith"
          ],
          [
           "Dirk Nowitzki"
          ],
          [
           "Joey Graham"
          ],
          [
           "Johan Petro"
          ],
          [
           "John Edwards"
          ],
          [
           "John Lucas III"
          ],
          [
           "John Salmons"
          ],
          [
           "Jerome James"
          ],
          [
           "Jarron Collins"
          ],
          [
           "Jarrett Jack"
          ],
          [
           "Jared Jeffries"
          ],
          [
           "Greg Ostertag"
          ],
          [
           "Ha Ha"
          ],
          [
           "Hakim Warrick"
          ],
          [
           "Hedo Turkoglu"
          ],
          [
           "Howard Eisley"
          ],
          [
           "Ike Diogu"
          ],
          [
           "Ime Udoka"
          ],
          [
           "Ira Newble"
          ],
          [
           "JR Smith"
          ],
          [
           "Jackie Butler"
          ],
          [
           "Jackson Vroman"
          ],
          [
           "Jacque Vaughn"
          ],
          [
           "Jake Tsakalidis"
          ],
          [
           "Jake Voskuhl"
          ],
          [
           "Jalen Rose"
          ],
          [
           "Jamaal Magloire"
          ],
          [
           "Jamaal Tinsley"
          ],
          [
           "Jamal Crawford"
          ],
          [
           "Jamal Sampson"
          ],
          [
           "Jameer Nelson"
          ],
          [
           "James Jones"
          ],
          [
           "James Posey"
          ],
          [
           "James Singleton"
          ],
          [
           "James Thomas"
          ],
          [
           "Jannero Pargo"
          ],
          [
           "Grant Hill"
          ],
          [
           "Andre Iguodala"
          ],
          [
           "Andre Miller"
          ],
          [
           "Andre Owens"
          ],
          [
           "Dan Dickau"
          ],
          [
           "Damon Stoudamire"
          ],
          [
           "Damon Jones"
          ],
          [
           "Damien Wilkins"
          ],
          [
           "Dale Davis"
          ],
          [
           "Dahntay Jones"
          ],
          [
           "DJ Mbenga"
          ],
          [
           "Cuttino Mobley"
          ],
          [
           "Corliss Williamson"
          ],
          [
           "Corey Maggette"
          ],
          [
           "Clifford Robinson"
          ],
          [
           "Dan Gadzuric"
          ],
          [
           "Chucky Atkins"
          ],
          [
           "Chris Wilcox"
          ],
          [
           "Chris Webber"
          ],
          [
           "Chris Taft"
          ],
          [
           "Chris Paul"
          ],
          [
           "Chris Mihm"
          ],
          [
           "Chris Kaman"
          ],
          [
           "Chris Duhon"
          ],
          [
           "Chris Bosh"
          ],
          [
           "Chris Andersen"
          ],
          [
           "Chauncey Billups"
          ],
          [
           "Charlie Villanueva"
          ],
          [
           "Chuck Hayes"
          ],
          [
           "Daniel Ewing"
          ],
          [
           "Danny Fortson"
          ],
          [
           "Danny Granger"
          ],
          [
           "Dikembe Mutombo"
          ],
          [
           "Dijon Thompson"
          ],
          [
           "Devin Harris"
          ],
          [
           "Devin Green"
          ],
          [
           "Devin Brown"
          ],
          [
           "Devean George"
          ],
          [
           "Desmond Mason"
          ],
          [
           "Derrick Zimmerman"
          ],
          [
           "Deron Williams"
          ],
          [
           "Derek Fisher"
          ],
          [
           "Derek Anderson"
          ],
          [
           "DerMarr Johnson"
          ],
          [
           "Deng Gai"
          ],
          [
           "Donta Smith"
          ],
          [
           "DeShawn Stevenson"
          ],
          [
           "DeSagana Diop"
          ],
          [
           "David West"
          ],
          [
           "David Wesley"
          ],
          [
           "David Lee"
          ],
          [
           "David Harrison"
          ],
          [
           "Darrick Martin"
          ],
          [
           "Darrell Armstrong"
          ],
          [
           "Darko Milicic"
          ],
          [
           "Darius Songaila"
          ],
          [
           "Darius Miles"
          ],
          [
           "Charlie Bell"
          ],
          [
           "Charles Smith"
          ],
          [
           "Channing Frye"
          ],
          [
           "Caron Butler"
          ],
          [
           "Beno Udrih"
          ],
          [
           "Ben Wallace"
          ],
          [
           "Ben Gordon"
          ],
          [
           "Baron Davis"
          ],
          [
           "Awvee Storey"
          ],
          [
           "Austin Croshere"
          ],
          [
           "Arvydas Macijauskas"
          ],
          [
           "Antonio McDyess"
          ],
          [
           "Antonio Davis"
          ],
          [
           "Antonio Daniels"
          ],
          [
           "Antonio Burks"
          ],
          [
           "Antoine Wright"
          ],
          [
           "Antoine Walker"
          ],
          [
           "Anthony Roberson"
          ],
          [
           "Anthony Johnson"
          ],
          [
           "Anthony Grundy"
          ],
          [
           "Anthony Goldwire"
          ],
          [
           "Anthony Carter"
          ],
          [
           "Antawn Jamison"
          ],
          [
           "Anfernee Hardaway"
          ],
          [
           "Andris Biedrins"
          ],
          [
           "Andrew Bynum"
          ],
          [
           "Andrew Bogut"
          ],
          [
           "Andres Nocioni"
          ],
          [
           "Andrei Kirilenko"
          ],
          [
           "Bernard Robinson"
          ],
          [
           "John Thomas"
          ],
          [
           "Billy Thomas"
          ],
          [
           "Bobby Jackson"
          ],
          [
           "Carmelo Anthony"
          ],
          [
           "Carlos Delfino"
          ],
          [
           "Carlos Boozer"
          ],
          [
           "Carlos Arroyo"
          ],
          [
           "Calvin Booth"
          ],
          [
           "Calbert Cheaney"
          ],
          [
           "CJ Miles"
          ],
          [
           "Bryon Russell"
          ],
          [
           "Bruce Bowen"
          ],
          [
           "Brian Skinner"
          ],
          [
           "Brian Scalabrine"
          ],
          [
           "Brian Grant"
          ],
          [
           "Brian Cook"
          ],
          [
           "Brian Cardinal"
          ],
          [
           "Brevin Knight"
          ],
          [
           "Brent Barry"
          ],
          [
           "Brendan Haywood"
          ],
          [
           "Brandon Bass"
          ],
          [
           "Brad Miller"
          ],
          [
           "Bracey Wright"
          ],
          [
           "Bostjan Nachbar"
          ],
          [
           "Boris Diaw"
          ],
          [
           "Bonzi Wells"
          ],
          [
           "Boniface Ndong"
          ],
          [
           "Bobby Simmons"
          ],
          [
           "Bo Outlaw"
          ],
          [
           "Jon Barry"
          ],
          [
           "Joel Przybilla"
          ],
          [
           "Jose Calderon"
          ],
          [
           "Richie Frahm"
          ],
          [
           "Rick Brunson"
          ],
          [
           "Ricky Davis"
          ],
          [
           "Robert Horry"
          ],
          [
           "Robert Swift"
          ],
          [
           "Robert Whaley"
          ],
          [
           "Ronald Dupree"
          ],
          [
           "Ronnie Price"
          ],
          [
           "Ronny Turiaf"
          ],
          [
           "Royal Ivey"
          ],
          [
           "Ruben Patterson"
          ],
          [
           "Ryan Bowen"
          ],
          [
           "Richard Jefferson"
          ],
          [
           "Ryan Gomes"
          ],
          [
           "Sam Cassell"
          ],
          [
           "Samaki Walker"
          ],
          [
           "Samuel Dalembert"
          ],
          [
           "Sarunas Jasikevicius"
          ],
          [
           "Sasha Pavlovic"
          ],
          [
           "Sasha Vujacic"
          ],
          [
           "Scot Pollard"
          ],
          [
           "Scott Padgett"
          ],
          [
           "Sean Marks"
          ],
          [
           "Sean May"
          ],
          [
           "Sebastian Telfair"
          ],
          [
           "Sergei Monia"
          ],
          [
           "Salim Stoudamire"
          ],
          [
           "Richard Hamilton"
          ],
          [
           "Reggie Evans"
          ],
          [
           "Reece Gaines"
          ],
          [
           "Othella Harrington"
          ],
          [
           "P.J. Brown"
          ],
          [
           "Pape Sow"
          ],
          [
           "Pat Burke"
          ],
          [
           "Pat Garrity"
          ],
          [
           "Pau Gasol"
          ],
          [
           "Paul Pierce"
          ],
          [
           "Pavel Podkolzin"
          ],
          [
           "Peja Stojakovic"
          ],
          [
           "Primoz Brezec"
          ],
          [
           "Quentin Richardson"
          ],
          [
           "Quinton Ross"
          ],
          [
           "Qyntel Woods"
          ],
          [
           "Raef LaFrentz"
          ],
          [
           "Rafael Araujo"
          ],
          [
           "Rafer Alston"
          ],
          [
           "Raja Bell"
          ],
          [
           "Randy Holcomb"
          ],
          [
           "Randy Livingston"
          ],
          [
           "Rashad McCants"
          ],
          [
           "Rashard Lewis"
          ],
          [
           "Rasheed Wallace"
          ],
          [
           "Rasho Nesterovic"
          ],
          [
           "Rasual Butler"
          ],
          [
           "Rawle Marshall"
          ],
          [
           "Ray Allen"
          ],
          [
           "Raymond Felton"
          ],
          [
           "Shandon Anderson"
          ],
          [
           "Shane Battier"
          ],
          [
           "Shaquille O'Neal"
          ],
          [
           "Shareef Abdur-Rahim"
          ],
          [
           "Trevor Ariza"
          ],
          [
           "Troy Hudson"
          ],
          [
           "Troy Murphy"
          ],
          [
           "Tyronn Lue"
          ],
          [
           "Tyson Chandler"
          ],
          [
           "Udonis Haslem"
          ],
          [
           "Viktor Khryapa"
          ],
          [
           "Vin Baker"
          ],
          [
           "Vince Carter"
          ],
          [
           "Vitaly Potapenko"
          ],
          [
           "Vladimir Radmanovic"
          ],
          [
           "Von Wafer"
          ],
          [
           "Voshon Lenard"
          ],
          [
           "Wally Szczerbiak"
          ],
          [
           "Walter McCarty"
          ],
          [
           "Wayne Simien"
          ],
          [
           "Will Bynum"
          ],
          [
           "Willie Green"
          ],
          [
           "Yao Ming"
          ],
          [
           "Yaroslav Korolev"
          ],
          [
           "Zach Randolph"
          ],
          [
           "Zarko Cabarkapa"
          ],
          [
           "Zaza Pachulia"
          ],
          [
           "Zeljko Rebraca"
          ],
          [
           "Zendon Hamilton"
          ],
          [
           "Zoran Planinic"
          ],
          [
           "Zydrunas Ilgauskas"
          ],
          [
           "Trenton Hassell"
          ],
          [
           "Orien Greene"
          ],
          [
           "Travis Outlaw"
          ],
          [
           "Tracy McGrady"
          ],
          [
           "Sharrod Ford"
          ],
          [
           "Shaun Livingston"
          ],
          [
           "Shavlik Randolph"
          ],
          [
           "Shawn Marion"
          ],
          [
           "Slava Medvedenko"
          ],
          [
           "Smush Parker"
          ],
          [
           "Speedy Claxton"
          ],
          [
           "Stacey Augmon"
          ],
          [
           "Stephen Graham"
          ],
          [
           "Stephen Jackson"
          ],
          [
           "Stephon Marbury"
          ],
          [
           "Steve Blake"
          ],
          [
           "Steve Francis"
          ],
          [
           "Steve Nash"
          ],
          [
           "Steven Hunter"
          ],
          [
           "Stromile Swift"
          ],
          [
           "T.J. Ford"
          ],
          [
           "Tayshaun Prince"
          ],
          [
           "Terence Morris"
          ],
          [
           "Theo Ratliff"
          ],
          [
           "Tim Duncan"
          ],
          [
           "Tim Thomas"
          ],
          [
           "Toni Kukoc"
          ],
          [
           "Tony Allen"
          ],
          [
           "Tony Battie"
          ],
          [
           "Tony Delk"
          ],
          [
           "Tony Parker"
          ],
          [
           "Travis Diener"
          ],
          [
           "Jonathan Bender"
          ],
          [
           "Noel Felix"
          ],
          [
           "Nick Van Exel"
          ],
          [
           "Kurt Thomas"
          ],
          [
           "Kwame Brown"
          ],
          [
           "Kyle Korver"
          ],
          [
           "Lamar Odom"
          ],
          [
           "Lamond Murray"
          ],
          [
           "Laron Profit"
          ],
          [
           "Larry Hughes"
          ],
          [
           "Lawrence Roberts"
          ],
          [
           "LeBron James"
          ],
          [
           "Leandro Barbosa"
          ],
          [
           "Kris Humphries"
          ],
          [
           "Lee Nailon"
          ],
          [
           "Lindsey Hunter"
          ],
          [
           "Linton Johnson"
          ],
          [
           "Lonny Baxter"
          ],
          [
           "Loren Woods"
          ],
          [
           "Nikoloz Tskitishvili"
          ],
          [
           "Lou Williams"
          ],
          [
           "Luke Jackson"
          ],
          [
           "Luke Ridnour"
          ],
          [
           "Luke Schenscher"
          ],
          [
           "Luke Walton"
          ],
          [
           "Linas Kleiza"
          ],
          [
           "Kobe Bryant"
          ],
          [
           "Kirk Snyder"
          ],
          [
           "Kirk Hinrich"
          ],
          [
           "Josh Childress"
          ],
          [
           "Josh Davis"
          ],
          [
           "Josh Howard"
          ],
          [
           "Josh Powell"
          ],
          [
           "Josh Smith"
          ],
          [
           "Juan Dixon"
          ],
          [
           "Julius Hodge"
          ],
          [
           "Jumaine Jones"
          ],
          [
           "Justin Reed"
          ],
          [
           "Juwan Howard"
          ],
          [
           "Kareem Rush"
          ],
          [
           "Keith Bogans"
          ],
          [
           "Keith McLeod"
          ],
          [
           "Keith Van Horn"
          ],
          [
           "Kelvin Cato"
          ],
          [
           "Kendrick Perkins"
          ],
          [
           "Kenny Thomas"
          ],
          [
           "Kenyon Martin"
          ],
          [
           "Kevin Burleson"
          ],
          [
           "Kevin Garnett"
          ],
          [
           "Kevin Martin"
          ],
          [
           "Kevin Ollie"
          ],
          [
           "Keyon Dooling"
          ],
          [
           "Luol Deng"
          ],
          [
           "Luther Head"
          ],
          [
           "Lorenzen Wright"
          ],
          [
           "Malik Allen"
          ],
          [
           "Mehmet Okur"
          ],
          [
           "Melvin Ely"
          ],
          [
           "Melvin Sanders"
          ],
          [
           "Metta World Peace"
          ],
          [
           "Michael Bradley"
          ],
          [
           "Michael Doleac"
          ],
          [
           "Michael Finley"
          ],
          [
           "Michael Olowokandi"
          ],
          [
           "Michael Redd"
          ],
          [
           "Michael Ruffin"
          ],
          [
           "Michael Sweetney"
          ],
          [
           "Mickael Pietrus"
          ],
          [
           "Mike Bibby"
          ],
          [
           "Maurice Taylor"
          ],
          [
           "Mike Dunleavy"
          ],
          [
           "Mike Miller"
          ],
          [
           "Mike Wilks"
          ],
          [
           "Mikki Moore"
          ],
          [
           "Milt Palacio"
          ],
          [
           "Mo Williams"
          ],
          [
           "Monta Ellis"
          ],
          [
           "Moochie Norris"
          ],
          [
           "Morris Peterson"
          ],
          [
           "Nate Robinson"
          ],
          [
           "Nazr Mohammed"
          ],
          [
           "Nenad Krstic"
          ],
          [
           "Nene"
          ],
          [
           "Nick Collison"
          ],
          [
           "Mike James"
          ],
          [
           "Maciej Lampe"
          ],
          [
           "Donell Taylor"
          ],
          [
           "Matt Bonner"
          ],
          [
           "Marvin Williams"
          ],
          [
           "Matt Carroll"
          ],
          [
           "Matt Harpring"
          ],
          [
           "Matt Walsh"
          ],
          [
           "Maurice Evans"
          ],
          [
           "Martynas Andriuskevicius"
          ],
          [
           "Martell Webster"
          ],
          [
           "Marquis Daniels"
          ],
          [
           "Matt Barnes"
          ],
          [
           "Marko Jaric"
          ],
          [
           "Mark Blount"
          ],
          [
           "Mario Kasun"
          ],
          [
           "Marcus Fizer"
          ],
          [
           "Marcus Camby"
          ],
          [
           "Marcus Banks"
          ],
          [
           "Marc Jackson"
          ],
          [
           "Manu Ginobili"
          ],
          [
           "Malik Rose"
          ],
          [
           "Mark Madsen"
          ],
          [
           "Mateen Cleaves"
          ],
          [
           "Andrew Bogut"
          ],
          [
           "Antonio Daniels"
          ],
          [
           "Antoine Wright"
          ],
          [
           "Antoine Walker"
          ],
          [
           "Anthony Roberson"
          ],
          [
           "Anthony Parker"
          ],
          [
           "Anthony Johnson"
          ],
          [
           "Anthony Carter"
          ],
          [
           "Antawn Jamison"
          ],
          [
           "Andre Miller"
          ],
          [
           "Andrea Bargnani"
          ],
          [
           "Andreas Glyniadakis"
          ],
          [
           "Andris Biedrins"
          ],
          [
           "Andres Nocioni"
          ],
          [
           "Andrew Bynum"
          ],
          [
           "Andrei Kirilenko"
          ],
          [
           "Dan Dickau"
          ],
          [
           "Austin Croshere"
          ],
          [
           "Damon Jones"
          ],
          [
           "Damir Markota"
          ],
          [
           "Damien Wilkins"
          ],
          [
           "Dale Davis"
          ],
          [
           "Dajuan Wagner"
          ],
          [
           "Dahntay Jones"
          ],
          [
           "DJ Mbenga"
          ],
          [
           "Damon Stoudamire"
          ],
          [
           "Cuttino Mobley"
          ],
          [
           "Corliss Williamson"
          ],
          [
           "Corey Maggette"
          ],
          [
           "Clifford Robinson"
          ],
          [
           "Chucky Atkins"
          ],
          [
           "Chuck Hayes"
          ],
          [
           "Chris Wilcox"
          ],
          [
           "Chris Webber"
          ],
          [
           "Craig Smith"
          ],
          [
           "Andre Iguodala"
          ],
          [
           "Dan Gadzuric"
          ],
          [
           "Daniel Ewing"
          ],
          [
           "DerMarr Johnson"
          ],
          [
           "Delonte West"
          ],
          [
           "Dee Brown"
          ],
          [
           "DeShawn Stevenson"
          ],
          [
           "DeSagana Diop"
          ],
          [
           "David West"
          ],
          [
           "David Wesley"
          ],
          [
           "David Noel"
          ],
          [
           "David Lee"
          ],
          [
           "David Harrison"
          ],
          [
           "Darrick Martin"
          ],
          [
           "Darrell Armstrong"
          ],
          [
           "Darko Milicic"
          ],
          [
           "Darius Songaila"
          ],
          [
           "Danny Granger"
          ],
          [
           "Danny Fortson"
          ],
          [
           "Daniel Gibson"
          ],
          [
           "Chris Quinn"
          ],
          [
           "Chris Paul"
          ],
          [
           "Chris McCray"
          ],
          [
           "Chris Kaman"
          ],
          [
           "Brent Barry"
          ],
          [
           "Brendan Haywood"
          ],
          [
           "Brandon Roy"
          ],
          [
           "Brandon Bass"
          ],
          [
           "Brad Miller"
          ],
          [
           "Bracey Wright"
          ],
          [
           "Bostjan Nachbar"
          ],
          [
           "Boris Diaw"
          ],
          [
           "Bonzi Wells"
          ],
          [
           "Bobby Jones"
          ],
          [
           "Bobby Jackson"
          ],
          [
           "Bo Outlaw"
          ],
          [
           "Bernard Robinson"
          ],
          [
           "Beno Udrih"
          ],
          [
           "Ben Wallace"
          ],
          [
           "Ben Gordon"
          ],
          [
           "Baron Davis"
          ],
          [
           "Brevin Knight"
          ],
          [
           "Antonio McDyess"
          ],
          [
           "Brian Cardinal"
          ],
          [
           "Brian Scalabrine"
          ],
          [
           "Chris Duhon"
          ],
          [
           "Chris Bosh"
          ],
          [
           "Chauncey Billups"
          ],
          [
           "Charlie Villanueva"
          ],
          [
           "Charlie Bell"
          ],
          [
           "Channing Frye"
          ],
          [
           "Cedric Simmons"
          ],
          [
           "Cedric Bozeman"
          ],
          [
           "Caron Butler"
          ],
          [
           "Carmelo Anthony"
          ],
          [
           "Carlos Delfino"
          ],
          [
           "Carlos Boozer"
          ],
          [
           "Carlos Arroyo"
          ],
          [
           "Calvin Booth"
          ],
          [
           "CJ Miles"
          ],
          [
           "Bruce Bowen"
          ],
          [
           "Brian Skinner"
          ],
          [
           "Brian Cook"
          ],
          [
           "Andre Brown"
          ],
          [
           "Vladimir Radmanovic"
          ],
          [
           "Andray Blatche"
          ],
          [
           "P.J. Brown"
          ],
          [
           "Othella Harrington"
          ],
          [
           "Orien Greene"
          ],
          [
           "Nick Collison"
          ],
          [
           "Nene"
          ],
          [
           "Nenad Krstic"
          ],
          [
           "Nazr Mohammed"
          ],
          [
           "Nate Robinson"
          ],
          [
           "PJ Tucker"
          ],
          [
           "Mouhamed Sene"
          ],
          [
           "Monta Ellis"
          ],
          [
           "Mo Williams"
          ],
          [
           "Mile Ilic"
          ],
          [
           "Mikki Moore"
          ],
          [
           "Mike Wilks"
          ],
          [
           "Mike Miller"
          ],
          [
           "Mike James"
          ],
          [
           "Mike Hall"
          ],
          [
           "Morris Peterson"
          ],
          [
           "Pape Sow"
          ],
          [
           "Pat Burke"
          ],
          [
           "Pat Garrity"
          ],
          [
           "Randy Livingston"
          ],
          [
           "Randy Foye"
          ],
          [
           "Randolph Morris"
          ],
          [
           "Rajon Rondo"
          ],
          [
           "Raja Bell"
          ],
          [
           "Rafer Alston"
          ],
          [
           "Rafael Araujo"
          ],
          [
           "Raef LaFrentz"
          ],
          [
           "Quinton Ross"
          ],
          [
           "Quincy Douby"
          ],
          [
           "Quentin Richardson"
          ],
          [
           "Primoz Brezec"
          ],
          [
           "Pops Mensah-Bonsu"
          ],
          [
           "Peja Stojakovic"
          ],
          [
           "Paul Pierce"
          ],
          [
           "Paul Millsap"
          ],
          [
           "Paul Davis"
          ],
          [
           "Pau Gasol"
          ],
          [
           "Patrick O'Bryant"
          ],
          [
           "Mike Dunleavy"
          ],
          [
           "Rashad McCants"
          ],
          [
           "Mike Bibby"
          ],
          [
           "Mickael Gelabale"
          ],
          [
           "Mardy Collins"
          ],
          [
           "Marcus Williams"
          ],
          [
           "Marcus Vinicius"
          ],
          [
           "Marcus Camby"
          ],
          [
           "Marcus Banks"
          ],
          [
           "Marc Jackson"
          ],
          [
           "Manu Ginobili"
          ],
          [
           "Malik Rose"
          ],
          [
           "Mark Blount"
          ],
          [
           "Malik Allen"
          ],
          [
           "Lynn Greer"
          ],
          [
           "Luther Head"
          ],
          [
           "Luol Deng"
          ],
          [
           "Luke Walton"
          ],
          [
           "Luke Schenscher"
          ],
          [
           "Luke Ridnour"
          ],
          [
           "Luke Jackson"
          ],
          [
           "Lou Williams"
          ],
          [
           "Maceo Baston"
          ],
          [
           "Mark Madsen"
          ],
          [
           "Marko Jaric"
          ],
          [
           "Marquis Daniels"
          ],
          [
           "Michael Sweetney"
          ],
          [
           "Michael Ruffin"
          ],
          [
           "Michael Redd"
          ],
          [
           "Michael Olowokandi"
          ],
          [
           "Michael Finley"
          ],
          [
           "Michael Doleac"
          ],
          [
           "Metta World Peace"
          ],
          [
           "Melvin Ely"
          ],
          [
           "Mehmet Okur"
          ],
          [
           "Maurice Taylor"
          ],
          [
           "Maurice Evans"
          ],
          [
           "Maurice Ager"
          ],
          [
           "Matt Harpring"
          ],
          [
           "Matt Freije"
          ],
          [
           "Matt Carroll"
          ],
          [
           "Matt Bonner"
          ],
          [
           "Matt Barnes"
          ],
          [
           "Marvin Williams"
          ],
          [
           "Martell Webster"
          ],
          [
           "Mickael Pietrus"
          ],
          [
           "Lou Amundson"
          ],
          [
           "Rashard Lewis"
          ],
          [
           "Rasho Nesterovic"
          ],
          [
           "Tayshaun Prince"
          ],
          [
           "Tarence Kinsey"
          ],
          [
           "T.J. Ford"
          ],
          [
           "Stromile Swift"
          ],
          [
           "Steven Smith"
          ],
          [
           "Steven Hunter"
          ],
          [
           "Steve Novak"
          ],
          [
           "Steve Nash"
          ],
          [
           "Thabo Sefolosha"
          ],
          [
           "Steve Francis"
          ],
          [
           "Stephon Marbury"
          ],
          [
           "Stephen Jackson"
          ],
          [
           "Stephen Graham"
          ],
          [
           "Speedy Claxton"
          ],
          [
           "Solomon Jones"
          ],
          [
           "Smush Parker"
          ],
          [
           "Slava Medvedenko"
          ],
          [
           "Shelden Williams"
          ],
          [
           "Steve Blake"
          ],
          [
           "Theo Ratliff"
          ],
          [
           "Tim Duncan"
          ],
          [
           "Tim Thomas"
          ],
          [
           "Vitaly Potapenko"
          ],
          [
           "Vince Carter"
          ],
          [
           "Viktor Khryapa"
          ],
          [
           "Vassilis Spanoulis"
          ],
          [
           "Uros Slokar"
          ],
          [
           "Udonis Haslem"
          ],
          [
           "Tyson Chandler"
          ],
          [
           "Tyrus Thomas"
          ],
          [
           "Tyronn Lue"
          ],
          [
           "Troy Murphy"
          ],
          [
           "Troy Hudson"
          ],
          [
           "Trevor Ariza"
          ],
          [
           "Trenton Hassell"
          ],
          [
           "Travis Outlaw"
          ],
          [
           "Travis Diener"
          ],
          [
           "Tracy McGrady"
          ],
          [
           "Tony Parker"
          ],
          [
           "Tony Battie"
          ],
          [
           "Tony Allen"
          ],
          [
           "Shawne Williams"
          ],
          [
           "Rasheed Wallace"
          ],
          [
           "Shawn Marion"
          ],
          [
           "Shaun Livingston"
          ],
          [
           "Ronnie Price"
          ],
          [
           "Ronnie Brewer"
          ],
          [
           "Ronald Dupree"
          ],
          [
           "Roger Powell"
          ],
          [
           "Roger Mason Jr."
          ],
          [
           "Rodney Carney"
          ],
          [
           "Robert Horry"
          ],
          [
           "Robert Hite"
          ],
          [
           "Ronny Turiaf"
          ],
          [
           "Ricky Davis"
          ],
          [
           "Richard Hamilton"
          ],
          [
           "Renaldo Major"
          ],
          [
           "Renaldo Balkman"
          ],
          [
           "Reggie Evans"
          ],
          [
           "Raymond Felton"
          ],
          [
           "Ray Allen"
          ],
          [
           "Rawle Marshall"
          ],
          [
           "Rasual Butler"
          ],
          [
           "Richard Jefferson"
          ],
          [
           "Royal Ivey"
          ],
          [
           "Ruben Patterson"
          ],
          [
           "Rudy Gay"
          ],
          [
           "Shareef Abdur-Rahim"
          ],
          [
           "Shaquille O'Neal"
          ],
          [
           "Shannon Brown"
          ],
          [
           "Shane Battier"
          ],
          [
           "Shammond Williams"
          ],
          [
           "Sergio Rodriguez"
          ],
          [
           "Sebastian Telfair"
          ],
          [
           "Sean May"
          ],
          [
           "Sean Marks"
          ],
          [
           "Scott Padgett"
          ],
          [
           "Scot Pollard"
          ],
          [
           "Sasha Vujacic"
          ],
          [
           "Sasha Pavlovic"
          ],
          [
           "Sarunas Jasikevicius"
          ],
          [
           "Samuel Dalembert"
          ],
          [
           "Sam Cassell"
          ],
          [
           "Salim Stoudamire"
          ],
          [
           "Ryan Hollins"
          ],
          [
           "Ryan Gomes"
          ],
          [
           "Shavlik Randolph"
          ],
          [
           "Andre Barrett"
          ],
          [
           "Lorenzen Wright"
          ],
          [
           "Lindsey Hunter"
          ],
          [
           "Ersan Ilyasova"
          ],
          [
           "Erick Dampier"
          ],
          [
           "Eric Williams"
          ],
          [
           "Eric Snow"
          ],
          [
           "Eric Piatkowski"
          ],
          [
           "Emeka Okafor"
          ],
          [
           "Elton Brand"
          ],
          [
           "Eduardo Najera"
          ],
          [
           "Esteban Batista"
          ],
          [
           "Eddy Curry"
          ],
          [
           "Eddie House"
          ],
          [
           "Eddie Griffin"
          ],
          [
           "Earl Watson"
          ],
          [
           "Earl Boykins"
          ],
          [
           "Earl Barron"
          ],
          [
           "Dwyane Wade"
          ],
          [
           "Dwight Howard"
          ],
          [
           "Dwayne Jones"
          ],
          [
           "Eddie Jones"
          ],
          [
           "Drew Gooden"
          ],
          [
           "Etan Thomas"
          ],
          [
           "Flip Murray"
          ],
          [
           "Ivan McFarlin"
          ],
          [
           "Ira Newble"
          ],
          [
           "Ime Udoka"
          ],
          [
           "Ike Diogu"
          ],
          [
           "Hilton Armstrong"
          ],
          [
           "Hedo Turkoglu"
          ],
          [
           "Hassan Adams"
          ],
          [
           "Hakim Warrick"
          ],
          [
           "Fabricio Oberto"
          ],
          [
           "Greg Buckner"
          ],
          [
           "Gordan Giricek"
          ],
          [
           "Gilbert Arenas"
          ],
          [
           "Gerald Wallace"
          ],
          [
           "Gerald Green"
          ],
          [
           "Gary Payton"
          ],
          [
           "Fred Jones"
          ],
          [
           "Francisco Garcia"
          ],
          [
           "Francisco Elson"
          ],
          [
           "Grant Hill"
          ],
          [
           "Doug Christie"
          ],
          [
           "Dorell Wright"
          ],
          [
           "Donyell Marshall"
          ],
          [
           "Von Wafer"
          ],
          [
           "Aaron McKie"
          ],
          [
           "Aaron Williams"
          ],
          [
           "Adam Morrison"
          ],
          [
           "Adonal Foyle"
          ],
          [
           "Adrian Griffin"
          ],
          [
           "Al Harrington"
          ],
          [
           "Al Jefferson"
          ],
          [
           "Zydrunas Ilgauskas"
          ],
          [
           "Alan Anderson"
          ],
          [
           "Alexander Johnson"
          ],
          [
           "Allan Ray"
          ],
          [
           "Allen Iverson"
          ],
          [
           "Alonzo Mourning"
          ],
          [
           "Alvin Williams"
          ],
          [
           "Amar'e Stoudemire"
          ],
          [
           "Amir Johnson"
          ],
          [
           "Anderson Varejao"
          ],
          [
           "Alan Henderson"
          ],
          [
           "Zaza Pachulia"
          ],
          [
           "Zach Randolph"
          ],
          [
           "Yaroslav Korolev"
          ],
          [
           "Donell Taylor"
          ],
          [
           "Dirk Nowitzki"
          ],
          [
           "Dikembe Mutombo"
          ],
          [
           "Dijon Thompson"
          ],
          [
           "Devin Harris"
          ],
          [
           "Devin Brown"
          ],
          [
           "Devean George"
          ],
          [
           "Desmond Mason"
          ],
          [
           "Desmon Farmer"
          ],
          [
           "Deron Williams"
          ],
          [
           "Derek Fisher"
          ],
          [
           "Derek Anderson"
          ],
          [
           "Walter Herrmann"
          ],
          [
           "Wayne Simien"
          ],
          [
           "Will Blalock"
          ],
          [
           "Will Conroy"
          ],
          [
           "Willie Green"
          ],
          [
           "Yakhouba Diawara"
          ],
          [
           "Yao Ming"
          ],
          [
           "J.J. Barea"
          ],
          [
           "Linton Johnson"
          ],
          [
           "JJ Redick"
          ],
          [
           "Jackie Butler"
          ],
          [
           "Kenny Thomas"
          ],
          [
           "Kendrick Perkins"
          ],
          [
           "Kelvin Cato"
          ],
          [
           "Kelenna Azubuike"
          ],
          [
           "Keith McLeod"
          ],
          [
           "Keith Bogans"
          ],
          [
           "Juwan Howard"
          ],
          [
           "Justin Williams"
          ],
          [
           "Kenyon Martin"
          ],
          [
           "Justin Reed"
          ],
          [
           "Jumaine Jones"
          ],
          [
           "Julius Hodge"
          ],
          [
           "Juan Dixon"
          ],
          [
           "Josh Smith"
          ],
          [
           "Josh Powell"
          ],
          [
           "Josh Howard"
          ],
          [
           "Josh Childress"
          ],
          [
           "Josh Boone"
          ],
          [
           "Junior Harrington"
          ],
          [
           "Kevin Garnett"
          ],
          [
           "Kevin Martin"
          ],
          [
           "Kevin Ollie"
          ],
          [
           "Linas Kleiza"
          ],
          [
           "Leon Powe"
          ],
          [
           "Leandro Barbosa"
          ],
          [
           "LeBron James"
          ],
          [
           "Lawrence Roberts"
          ],
          [
           "Larry Hughes"
          ],
          [
           "Lamar Odom"
          ],
          [
           "LaMarcus Aldridge"
          ],
          [
           "Kyle Lowry"
          ],
          [
           "Kyle Korver"
          ],
          [
           "Kwame Brown"
          ],
          [
           "Kurt Thomas"
          ],
          [
           "Kris Humphries"
          ],
          [
           "Kobe Bryant"
          ],
          [
           "Kirk Snyder"
          ],
          [
           "Kirk Hinrich"
          ],
          [
           "Keyon Dooling"
          ],
          [
           "Kevinn Pinkney"
          ],
          [
           "Kevin Willis"
          ],
          [
           "Jose Calderon"
          ],
          [
           "JR Smith"
          ],
          [
           "Jorge Garbajosa"
          ],
          [
           "John Salmons"
          ],
          [
           "Jarrett Jack"
          ],
          [
           "Jared Reiner"
          ],
          [
           "Jared Jeffries"
          ],
          [
           "Jannero Pargo"
          ],
          [
           "James White"
          ],
          [
           "James Singleton"
          ],
          [
           "James Posey"
          ],
          [
           "James Lang"
          ],
          [
           "James Jones"
          ],
          [
           "James Augustine"
          ],
          [
           "Jameer Nelson"
          ],
          [
           "Jamal Sampson"
          ],
          [
           "Jamal Crawford"
          ],
          [
           "Jamaal Tinsley"
          ],
          [
           "Jamaal Magloire"
          ],
          [
           "Jalen Rose"
          ],
          [
           "Jake Voskuhl"
          ],
          [
           "Jake Tsakalidis"
          ],
          [
           "Jacque Vaughn"
          ],
          [
           "Jarron Collins"
          ],
          [
           "Jordan Farmar"
          ],
          [
           "Jarvis Hayes"
          ],
          [
           "Jason Hart"
          ],
          [
           "Wally Szczerbiak"
          ],
          [
           "Johan Petro"
          ],
          [
           "Joey Graham"
          ],
          [
           "Joel Przybilla"
          ],
          [
           "Joe Smith"
          ],
          [
           "Joe Johnson"
          ],
          [
           "Jerry Stackhouse"
          ],
          [
           "Jerome James"
          ],
          [
           "Jermaine O'Neal"
          ],
          [
           "Jeremy Richardson"
          ],
          [
           "Jeff McInnis"
          ],
          [
           "Jeff Foster"
          ],
          [
           "Jason Williams"
          ],
          [
           "Jason Terry"
          ],
          [
           "Jason Richardson"
          ],
          [
           "Jason Maxiell"
          ],
          [
           "Jason Kidd"
          ],
          [
           "Jason Kapono"
          ],
          [
           "Jason Collins"
          ],
          [
           "John Lucas III"
          ],
          [
           "Jason Richardson"
          ],
          [
           "Jason Smith"
          ],
          [
           "Chris Wilcox"
          ],
          [
           "Jeff Foster"
          ],
          [
           "Javaris Crittenton"
          ],
          [
           "Jason Williams"
          ],
          [
           "Jason Terry"
          ],
          [
           "Quincy Douby"
          ],
          [
           "Quinton Ross"
          ],
          [
           "Raef LaFrentz"
          ],
          [
           "Rafer Alston"
          ],
          [
           "Raja Bell"
          ],
          [
           "Rajon Rondo"
          ],
          [
           "Ramon Sessions"
          ],
          [
           "Jeff Green"
          ],
          [
           "Randolph Morris"
          ],
          [
           "Rashad McCants"
          ],
          [
           "Rashard Lewis"
          ],
          [
           "Rasheed Wallace"
          ],
          [
           "Rasho Nesterovic"
          ],
          [
           "Rasual Butler"
          ],
          [
           "Ray Allen"
          ],
          [
           "Raymond Felton"
          ],
          [
           "Reggie Evans"
          ],
          [
           "Renaldo Balkman"
          ],
          [
           "Richard Hamilton"
          ],
          [
           "Richard Jefferson"
          ],
          [
           "Randy Foye"
          ],
          [
           "Richie Frahm"
          ],
          [
           "Jeff McInnis"
          ],
          [
           "Jeremy Richardson"
          ],
          [
           "Justin Williams"
          ],
          [
           "Juan Dixon"
          ],
          [
           "Juan Carlos Navarro"
          ],
          [
           "Josh Smith"
          ],
          [
           "Josh Powell"
          ],
          [
           "Josh McRoberts"
          ],
          [
           "Josh Howard"
          ],
          [
           "Josh Childress"
          ],
          [
           "Josh Boone"
          ],
          [
           "Jose Calderon"
          ],
          [
           "Jorge Garbajosa"
          ],
          [
           "Jelani McCoy"
          ],
          [
           "Jordan Farmar"
          ],
          [
           "Johan Petro"
          ],
          [
           "Joey Graham"
          ],
          [
           "Joel Przybilla"
          ],
          [
           "Joel Anthony"
          ],
          [
           "Joe Smith"
          ],
          [
           "Joe Johnson"
          ],
          [
           "Joakim Noah"
          ],
          [
           "Jerry Stackhouse"
          ],
          [
           "Jerome James"
          ],
          [
           "Jermareo Davidson"
          ],
          [
           "Jermaine O'Neal"
          ],
          [
           "John Salmons"
          ],
          [
           "Juwan Howard"
          ],
          [
           "Ricky Davis"
          ],
          [
           "Robert Swift"
          ],
          [
           "Shawn Marion"
          ],
          [
           "Shawne Williams"
          ],
          [
           "Shelden Williams"
          ],
          [
           "Smush Parker"
          ],
          [
           "Solomon Jones"
          ],
          [
           "Spencer Hawes"
          ],
          [
           "Stephane Lasme"
          ],
          [
           "Stephen Graham"
          ],
          [
           "Stephen Jackson"
          ],
          [
           "Stephon Marbury"
          ],
          [
           "Steve Blake"
          ],
          [
           "Shavlik Randolph"
          ],
          [
           "Steve Francis"
          ],
          [
           "Steve Novak"
          ],
          [
           "Steven Hunter"
          ],
          [
           "Stromile Swift"
          ],
          [
           "T.J. Ford"
          ],
          [
           "Tarence Kinsey"
          ],
          [
           "Taurean Green"
          ],
          [
           "Tayshaun Prince"
          ],
          [
           "Thabo Sefolosha"
          ],
          [
           "Thaddeus Young"
          ],
          [
           "Theo Ratliff"
          ],
          [
           "Thomas Gardner"
          ],
          [
           "Steve Nash"
          ],
          [
           "Robert Horry"
          ],
          [
           "Shareef Abdur-Rahim"
          ],
          [
           "Shannon Brown"
          ],
          [
           "Rodney Carney"
          ],
          [
           "Rodney Stuckey"
          ],
          [
           "Roger Mason Jr."
          ],
          [
           "Ronald Dupree"
          ],
          [
           "Ronnie Brewer"
          ],
          [
           "Ronnie Price"
          ],
          [
           "Ronny Turiaf"
          ],
          [
           "Royal Ivey"
          ],
          [
           "Ruben Patterson"
          ],
          [
           "Rudy Gay"
          ],
          [
           "Ryan Bowen"
          ],
          [
           "Shaquille O'Neal"
          ],
          [
           "Ryan Gomes"
          ],
          [
           "Salim Stoudamire"
          ],
          [
           "Sam Cassell"
          ],
          [
           "Samuel Dalembert"
          ],
          [
           "Sasha Pavlovic"
          ],
          [
           "Sasha Vujacic"
          ],
          [
           "Scot Pollard"
          ],
          [
           "Sean Marks"
          ],
          [
           "Sean Williams"
          ],
          [
           "Sebastian Telfair"
          ],
          [
           "Sergio Rodriguez"
          ],
          [
           "Shane Battier"
          ],
          [
           "Ryan Hollins"
          ],
          [
           "Kaniel Dickens"
          ],
          [
           "Kareem Rush"
          ],
          [
           "Kasib Powell"
          ],
          [
           "Mike Miller"
          ],
          [
           "Mike James"
          ],
          [
           "Mike Harris"
          ],
          [
           "Mike Dunleavy"
          ],
          [
           "Mike Conley"
          ],
          [
           "Mike Bibby"
          ],
          [
           "Mickael Pietrus"
          ],
          [
           "Mickael Gelabale"
          ],
          [
           "Michael Ruffin"
          ],
          [
           "Michael Redd"
          ],
          [
           "Michael Finley"
          ],
          [
           "Mike Wilks"
          ],
          [
           "Michael Doleac"
          ],
          [
           "Melvin Ely"
          ],
          [
           "Mehmet Okur"
          ],
          [
           "Maurice Evans"
          ],
          [
           "Maurice Ager"
          ],
          [
           "Matt Harpring"
          ],
          [
           "Matt Carroll"
          ],
          [
           "Matt Bonner"
          ],
          [
           "Matt Barnes"
          ],
          [
           "Marvin Williams"
          ],
          [
           "Martell Webster"
          ],
          [
           "Marquis Daniels"
          ],
          [
           "Metta World Peace"
          ],
          [
           "Marko Jaric"
          ],
          [
           "Mikki Moore"
          ],
          [
           "Monta Ellis"
          ],
          [
           "Chris Webber"
          ],
          [
           "Quentin Richardson"
          ],
          [
           "Primoz Brezec"
          ],
          [
           "Peja Stojakovic"
          ],
          [
           "Paul Pierce"
          ],
          [
           "Paul Millsap"
          ],
          [
           "Paul Davis"
          ],
          [
           "Pau Gasol"
          ],
          [
           "Patrick O'Bryant"
          ],
          [
           "Pat Garrity"
          ],
          [
           "P.J. Brown"
          ],
          [
           "Mo Williams"
          ],
          [
           "Othella Harrington"
          ],
          [
           "Oleksiy Pecherov"
          ],
          [
           "Nick Young"
          ],
          [
           "Nick Fazekas"
          ],
          [
           "Nick Collison"
          ],
          [
           "Nene"
          ],
          [
           "Nenad Krstic"
          ],
          [
           "Nazr Mohammed"
          ],
          [
           "Nate Robinson"
          ],
          [
           "Mouhamed Sene"
          ],
          [
           "Morris Peterson"
          ],
          [
           "Morris Almond"
          ],
          [
           "Orien Greene"
          ],
          [
           "Mark Madsen"
          ],
          [
           "Mark Blount"
          ],
          [
           "Mario West"
          ],
          [
           "Lance Allred"
          ],
          [
           "Lamar Odom"
          ],
          [
           "LaMarcus Aldridge"
          ],
          [
           "Kyrylo Fesenko"
          ],
          [
           "Kyle Lowry"
          ],
          [
           "Kyle Korver"
          ],
          [
           "Kwame Brown"
          ],
          [
           "Kurt Thomas"
          ],
          [
           "Kris Humphries"
          ],
          [
           "Kosta Perovic"
          ],
          [
           "Kobe Bryant"
          ],
          [
           "Larry Hughes"
          ],
          [
           "Kirk Snyder"
          ],
          [
           "Keyon Dooling"
          ],
          [
           "Kevin Ollie"
          ],
          [
           "Kevin Martin"
          ],
          [
           "Kevin Garnett"
          ],
          [
           "Kevin Durant"
          ],
          [
           "Kenyon Martin"
          ],
          [
           "Kenny Thomas"
          ],
          [
           "Kendrick Perkins"
          ],
          [
           "Kelenna Azubuike"
          ],
          [
           "Keith Langford"
          ],
          [
           "Keith Bogans"
          ],
          [
           "Kirk Hinrich"
          ],
          [
           "LeBron James"
          ],
          [
           "Leandro Barbosa"
          ],
          [
           "Leon Powe"
          ],
          [
           "Mardy Collins"
          ],
          [
           "Marcus Williams"
          ],
          [
           "Marcus Williams"
          ],
          [
           "Marcus Vinicius"
          ],
          [
           "Marcus Camby"
          ],
          [
           "Marcus Banks"
          ],
          [
           "Marco Belinelli"
          ],
          [
           "Marcin Gortat"
          ],
          [
           "Manu Ginobili"
          ],
          [
           "Malik Rose"
          ],
          [
           "Malik Allen"
          ],
          [
           "Maceo Baston"
          ],
          [
           "Luther Head"
          ],
          [
           "Luol Deng"
          ],
          [
           "Luke Walton"
          ],
          [
           "Luke Ridnour"
          ],
          [
           "Luke Jackson"
          ],
          [
           "Luis Scola"
          ],
          [
           "Lou Williams"
          ],
          [
           "Lou Amundson"
          ],
          [
           "Lorenzen Wright"
          ],
          [
           "Loren Woods"
          ],
          [
           "Linton Johnson"
          ],
          [
           "Lindsey Hunter"
          ],
          [
           "Linas Kleiza"
          ],
          [
           "Tim Duncan"
          ],
          [
           "Tim Thomas"
          ],
          [
           "Julian Wright"
          ],
          [
           "Tony Parker"
          ],
          [
           "Al Thornton"
          ],
          [
           "Alando Tucker"
          ],
          [
           "Alexander Johnson"
          ],
          [
           "Allen Iverson"
          ],
          [
           "Alonzo Mourning"
          ],
          [
           "Amar'e Stoudemire"
          ],
          [
           "Amir Johnson"
          ],
          [
           "Anderson Varejao"
          ],
          [
           "Andray Blatche"
          ],
          [
           "Andre Barrett"
          ],
          [
           "Andre Brown"
          ],
          [
           "Al Jefferson"
          ],
          [
           "Andre Iguodala"
          ],
          [
           "Andre Owens"
          ],
          [
           "Andrea Bargnani"
          ],
          [
           "Andrei Kirilenko"
          ],
          [
           "Andres Nocioni"
          ],
          [
           "Andrew Bogut"
          ],
          [
           "Andrew Bynum"
          ],
          [
           "Andris Biedrins"
          ],
          [
           "Anfernee Hardaway"
          ],
          [
           "Antawn Jamison"
          ],
          [
           "Anthony Carter"
          ],
          [
           "Anthony Johnson"
          ],
          [
           "Andre Miller"
          ],
          [
           "Al Horford"
          ],
          [
           "Al Harrington"
          ],
          [
           "Adrian Griffin"
          ],
          [
           "Darius Songaila"
          ],
          [
           "Danny Granger"
          ],
          [
           "Daniel Gibson"
          ],
          [
           "Dan Gadzuric"
          ],
          [
           "Dan Dickau"
          ],
          [
           "Damon Stoudamire"
          ],
          [
           "Damon Jones"
          ],
          [
           "Damien Wilkins"
          ],
          [
           "Dahntay Jones"
          ],
          [
           "Daequan Cook"
          ],
          [
           "DJ Strawberry"
          ],
          [
           "DJ Mbenga"
          ],
          [
           "Cuttino Mobley"
          ],
          [
           "Craig Smith"
          ],
          [
           "Courtney Sims"
          ],
          [
           "Corey Maggette"
          ],
          [
           "Corey Brewer"
          ],
          [
           "Coby Karl"
          ],
          [
           "Chucky Atkins"
          ],
          [
           "Chuck Hayes"
          ],
          [
           "Aaron Brooks"
          ],
          [
           "Aaron Gray"
          ],
          [
           "Aaron Williams"
          ],
          [
           "Acie Law"
          ],
          [
           "Adonal Foyle"
          ],
          [
           "Anthony Parker"
          ],
          [
           "Darius Washington"
          ],
          [
           "Antoine Walker"
          ],
          [
           "Antonio Daniels"
          ],
          [
           "C.J. Watson"
          ],
          [
           "CJ Miles"
          ],
          [
           "Calvin Booth"
          ],
          [
           "Carl Landry"
          ],
          [
           "Carlos Arroyo"
          ],
          [
           "Carlos Boozer"
          ],
          [
           "Carlos Delfino"
          ],
          [
           "Carmelo Anthony"
          ],
          [
           "Caron Butler"
          ],
          [
           "Casey Jacobsen"
          ],
          [
           "Cedric Simmons"
          ],
          [
           "Bruce Bowen"
          ],
          [
           "Channing Frye"
          ],
          [
           "Charlie Villanueva"
          ],
          [
           "Chauncey Billups"
          ],
          [
           "Cheikh Samb"
          ],
          [
           "Chris Andersen"
          ],
          [
           "Chris Bosh"
          ],
          [
           "Chris Duhon"
          ],
          [
           "Chris Kaman"
          ],
          [
           "Chris Mihm"
          ],
          [
           "Tony Allen"
          ],
          [
           "Chris Quinn"
          ],
          [
           "Chris Richard"
          ],
          [
           "Charlie Bell"
          ],
          [
           "Brian Skinner"
          ],
          [
           "Brian Scalabrine"
          ],
          [
           "Brian Cook"
          ],
          [
           "Antonio McDyess"
          ],
          [
           "Arron Afflalo"
          ],
          [
           "Austin Croshere"
          ],
          [
           "Awvee Storey"
          ],
          [
           "Baron Davis"
          ],
          [
           "Ben Gordon"
          ],
          [
           "Ben Wallace"
          ],
          [
           "Beno Udrih"
          ],
          [
           "Billy Thomas"
          ],
          [
           "Blake Ahearn"
          ],
          [
           "Bo Outlaw"
          ],
          [
           "Bobby Jackson"
          ],
          [
           "Bobby Jones"
          ],
          [
           "Bobby Simmons"
          ],
          [
           "Bonzi Wells"
          ],
          [
           "Boris Diaw"
          ],
          [
           "Bostjan Nachbar"
          ],
          [
           "Brad Miller"
          ],
          [
           "Brandan Wright"
          ],
          [
           "Brandon Bass"
          ],
          [
           "Brandon Roy"
          ],
          [
           "Brendan Haywood"
          ],
          [
           "Brent Barry"
          ],
          [
           "Brevin Knight"
          ],
          [
           "Brian Cardinal"
          ],
          [
           "Antoine Wright"
          ],
          [
           "Darko Milicic"
          ],
          [
           "Chris Paul"
          ],
          [
           "Darrick Martin"
          ],
          [
           "Jason Collins"
          ],
          [
           "Jarvis Hayes"
          ],
          [
           "Jarron Collins"
          ],
          [
           "Jarrett Jack"
          ],
          [
           "Jared Jeffries"
          ],
          [
           "Jared Dudley"
          ],
          [
           "Jannero Pargo"
          ],
          [
           "James Posey"
          ],
          [
           "James Jones"
          ],
          [
           "James Augustine"
          ],
          [
           "Jameer Nelson"
          ],
          [
           "Jason Hart"
          ],
          [
           "Jamario Moon"
          ],
          [
           "Jamaal Tinsley"
          ],
          [
           "Jamaal Magloire"
          ],
          [
           "Jake Voskuhl"
          ],
          [
           "Jacque Vaughn"
          ],
          [
           "JR Smith"
          ],
          [
           "JJ Redick"
          ],
          [
           "J.J. Barea"
          ],
          [
           "Ira Newble"
          ],
          [
           "Ime Udoka"
          ],
          [
           "Ike Diogu"
          ],
          [
           "Ian Mahinmi"
          ],
          [
           "Jamal Crawford"
          ],
          [
           "Hilton Armstrong"
          ],
          [
           "Jason Kapono"
          ],
          [
           "Jason Maxiell"
          ],
          [
           "Darrell Armstrong"
          ],
          [
           "Travis Outlaw"
          ],
          [
           "Trenton Hassell"
          ],
          [
           "Trevor Ariza"
          ],
          [
           "Troy Hudson"
          ],
          [
           "Troy Murphy"
          ],
          [
           "Tyronn Lue"
          ],
          [
           "Tyrus Thomas"
          ],
          [
           "Tyson Chandler"
          ],
          [
           "Udonis Haslem"
          ],
          [
           "Viktor Khryapa"
          ],
          [
           "Jason Kidd"
          ],
          [
           "Vince Carter"
          ],
          [
           "Von Wafer"
          ],
          [
           "Wally Szczerbiak"
          ],
          [
           "Walter Herrmann"
          ],
          [
           "Willie Green"
          ],
          [
           "Wilson Chandler"
          ],
          [
           "Yakhouba Diawara"
          ],
          [
           "Yao Ming"
          ],
          [
           "Yi Jianlian"
          ],
          [
           "Zach Randolph"
          ],
          [
           "Zaza Pachulia"
          ],
          [
           "Zydrunas Ilgauskas"
          ],
          [
           "Vladimir Radmanovic"
          ],
          [
           "Hedo Turkoglu"
          ],
          [
           "Travis Diener"
          ],
          [
           "Guillermo Diaz"
          ],
          [
           "Dwight Howard"
          ],
          [
           "Dwayne Jones"
          ],
          [
           "Drew Gooden"
          ],
          [
           "Dorell Wright"
          ],
          [
           "Donyell Marshall"
          ],
          [
           "Dominic McGuire"
          ],
          [
           "Dirk Nowitzki"
          ],
          [
           "Dikembe Mutombo"
          ],
          [
           "Devin Harris"
          ],
          [
           "Devin Brown"
          ],
          [
           "Desmond Mason"
          ],
          [
           "Dwyane Wade"
          ],
          [
           "Deron Williams"
          ],
          [
           "Derek Anderson"
          ],
          [
           "DerMarr Johnson"
          ],
          [
           "Demetris Nichols"
          ],
          [
           "Delonte West"
          ],
          [
           "DeShawn Stevenson"
          ],
          [
           "DeSagana Diop"
          ],
          [
           "David West"
          ],
          [
           "David Lee"
          ],
          [
           "David Harrison"
          ],
          [
           "Darryl Watkins"
          ],
          [
           "Hakim Warrick"
          ],
          [
           "Derek Fisher"
          ],
          [
           "Earl Barron"
          ],
          [
           "Devean George"
          ],
          [
           "Tracy McGrady"
          ],
          [
           "Earl Boykins"
          ],
          [
           "Grant Hill"
          ],
          [
           "Gordan Giricek"
          ],
          [
           "Glen Davis"
          ],
          [
           "Gilbert Arenas"
          ],
          [
           "Gerald Wallace"
          ],
          [
           "Gerald Green"
          ],
          [
           "Fred Jones"
          ],
          [
           "Francisco Garcia"
          ],
          [
           "Francisco Elson"
          ],
          [
           "Flip Murray"
          ],
          [
           "Fabricio Oberto"
          ],
          [
           "Gabe Pruitt"
          ],
          [
           "Greg Buckner"
          ],
          [
           "Erick Dampier"
          ],
          [
           "Eddie Gill"
          ],
          [
           "Eddie House"
          ],
          [
           "Eddie Jones"
          ],
          [
           "Eddy Curry"
          ],
          [
           "Earl Watson"
          ],
          [
           "Elton Brand"
          ],
          [
           "Emeka Okafor"
          ],
          [
           "Eric Piatkowski"
          ],
          [
           "Eric Snow"
          ],
          [
           "Eduardo Najera"
          ],
          [
           "Matt Carroll"
          ],
          [
           "Michael Redd"
          ],
          [
           "Michael Finley"
          ],
          [
           "Michael Beasley"
          ],
          [
           "Metta World Peace"
          ],
          [
           "Melvin Ely"
          ],
          [
           "Mehmet Okur"
          ],
          [
           "Maurice Evans"
          ],
          [
           "Maurice Ager"
          ],
          [
           "Matt Harpring"
          ],
          [
           "Matt Bonner"
          ],
          [
           "Marcus Williams"
          ],
          [
           "Marvin Williams"
          ],
          [
           "Martell Webster"
          ],
          [
           "Marreese Speights"
          ],
          [
           "Marquis Daniels"
          ],
          [
           "Marko Jaric"
          ],
          [
           "Mark Madsen"
          ],
          [
           "Mark Blount"
          ],
          [
           "Mario West"
          ],
          [
           "Mario Chalmers"
          ],
          [
           "Mardy Collins"
          ],
          [
           "Michael Ruffin"
          ],
          [
           "Matt Barnes"
          ],
          [
           "Mickael Pietrus"
          ],
          [
           "Paul Davis"
          ],
          [
           "Mike Conley"
          ],
          [
           "Josh Powell"
          ],
          [
           "Pau Gasol"
          ],
          [
           "Patrick O'Bryant"
          ],
          [
           "Othello Hunter"
          ],
          [
           "Oleksiy Pecherov"
          ],
          [
           "O.J. Mayo"
          ],
          [
           "Nicolas Batum"
          ],
          [
           "Nick Young"
          ],
          [
           "Nick Collison"
          ],
          [
           "Nene"
          ],
          [
           "Nenad Krstic"
          ],
          [
           "Mike Bibby"
          ],
          [
           "Nazr Mohammed"
          ],
          [
           "Nate Robinson"
          ],
          [
           "Mouhamed Sene"
          ],
          [
           "Morris Peterson"
          ],
          [
           "Morris Almond"
          ],
          [
           "Monta Ellis"
          ],
          [
           "Mo Williams"
          ],
          [
           "Mikki Moore"
          ],
          [
           "Mike Taylor"
          ],
          [
           "Mike Miller"
          ],
          [
           "Mike James"
          ],
          [
           "Mike Dunleavy"
          ],
          [
           "Nathan Jawai"
          ],
          [
           "Marcus Williams"
          ],
          [
           "Lamar Odom"
          ],
          [
           "Marcus Banks"
          ],
          [
           "Kyle Korver"
          ],
          [
           "Kwame Brown"
          ],
          [
           "Kurt Thomas"
          ],
          [
           "Kris Humphries"
          ],
          [
           "Kosta Koufos"
          ],
          [
           "Kobe Bryant"
          ],
          [
           "Kirk Hinrich"
          ],
          [
           "Keyon Dooling"
          ],
          [
           "Kevin Ollie"
          ],
          [
           "Kevin Martin"
          ],
          [
           "Kevin Love"
          ],
          [
           "Kyle Lowry"
          ],
          [
           "Kevin Garnett"
          ],
          [
           "Kenyon Martin"
          ],
          [
           "Kenny Thomas"
          ],
          [
           "Kendrick Perkins"
          ],
          [
           "Kelenna Azubuike"
          ],
          [
           "Keith Bogans"
          ],
          [
           "Kareem Rush"
          ],
          [
           "Juwan Howard"
          ],
          [
           "Julian Wright"
          ],
          [
           "Juan Dixon"
          ],
          [
           "Josh Smith"
          ],
          [
           "Paul Millsap"
          ],
          [
           "Kevin Durant"
          ],
          [
           "Marcus Camby"
          ],
          [
           "Kyle Weaver"
          ],
          [
           "LaMarcus Aldridge"
          ],
          [
           "Marco Belinelli"
          ],
          [
           "Marcin Gortat"
          ],
          [
           "Marc Gasol"
          ],
          [
           "Manu Ginobili"
          ],
          [
           "Malik Rose"
          ],
          [
           "Malik Hairston"
          ],
          [
           "Malik Allen"
          ],
          [
           "Maceo Baston"
          ],
          [
           "Luther Head"
          ],
          [
           "Luol Deng"
          ],
          [
           "Luke Walton"
          ],
          [
           "Kyrylo Fesenko"
          ],
          [
           "Luke Ridnour"
          ],
          [
           "Luc Mbah a Moute"
          ],
          [
           "Lou Williams"
          ],
          [
           "Lou Amundson"
          ],
          [
           "Lorenzen Wright"
          ],
          [
           "Linton Johnson"
          ],
          [
           "Lindsey Hunter"
          ],
          [
           "Linas Kleiza"
          ],
          [
           "Leon Powe"
          ],
          [
           "Leandro Barbosa"
          ],
          [
           "LeBron James"
          ],
          [
           "Larry Hughes"
          ],
          [
           "Luis Scola"
          ],
          [
           "Paul Pierce"
          ],
          [
           "Shaun Livingston"
          ],
          [
           "Pops Mensah-Bonsu"
          ],
          [
           "Tony Parker"
          ],
          [
           "Tony Battie"
          ],
          [
           "Tony Allen"
          ],
          [
           "Tim Thomas"
          ],
          [
           "Tim Duncan"
          ],
          [
           "Thomas Gardner"
          ],
          [
           "Theo Ratliff"
          ],
          [
           "Thaddeus Young"
          ],
          [
           "Thabo Sefolosha"
          ],
          [
           "Tayshaun Prince"
          ],
          [
           "Tarence Kinsey"
          ],
          [
           "Tracy McGrady"
          ],
          [
           "T.J. Ford"
          ],
          [
           "Stromile Swift"
          ],
          [
           "Steven Hill"
          ],
          [
           "Steve Novak"
          ],
          [
           "Steve Nash"
          ],
          [
           "Steve Blake"
          ],
          [
           "Stephon Marbury"
          ],
          [
           "Stephen Jackson"
          ],
          [
           "Stephen Graham"
          ],
          [
           "Spencer Hawes"
          ],
          [
           "Speedy Claxton"
          ],
          [
           "Sonny Weems"
          ],
          [
           "Sun Sun"
          ],
          [
           "Solomon Jones"
          ],
          [
           "Travis Diener"
          ],
          [
           "Trenton Hassell"
          ],
          [
           "Josh McRoberts"
          ],
          [
           "Zydrunas Ilgauskas"
          ],
          [
           "Zaza Pachulia"
          ],
          [
           "Zach Randolph"
          ],
          [
           "Yi Jianlian"
          ],
          [
           "Yao Ming"
          ],
          [
           "Yakhouba Diawara"
          ],
          [
           "Wilson Chandler"
          ],
          [
           "Willie Green"
          ],
          [
           "Will Solomon"
          ],
          [
           "Will Bynum"
          ],
          [
           "Travis Outlaw"
          ],
          [
           "Walter Sharpe"
          ],
          [
           "Wally Szczerbiak"
          ],
          [
           "Von Wafer"
          ],
          [
           "Vladimir Radmanovic"
          ],
          [
           "Vince Carter"
          ],
          [
           "Udonis Haslem"
          ],
          [
           "Tyson Chandler"
          ],
          [
           "Tyrus Thomas"
          ],
          [
           "Tyronn Lue"
          ],
          [
           "Troy Murphy"
          ],
          [
           "Trey Johnson"
          ],
          [
           "Trevor Ariza"
          ],
          [
           "Walter Herrmann"
          ],
          [
           "Shelden Williams"
          ],
          [
           "Shawne Williams"
          ],
          [
           "Shawn Marion"
          ],
          [
           "Robin Lopez"
          ],
          [
           "Robert Swift"
          ],
          [
           "Rob Kurz"
          ],
          [
           "Ricky Davis"
          ],
          [
           "Richard Jefferson"
          ],
          [
           "Richard Hamilton"
          ],
          [
           "Renaldo Balkman"
          ],
          [
           "Reggie Evans"
          ],
          [
           "Raymond Felton"
          ],
          [
           "Ray Allen"
          ],
          [
           "Rasual Butler"
          ],
          [
           "Rodney Carney"
          ],
          [
           "Rasho Nesterovic"
          ],
          [
           "Rashard Lewis"
          ],
          [
           "Rashad McCants"
          ],
          [
           "Randy Foye"
          ],
          [
           "Randolph Morris"
          ],
          [
           "Ramon Sessions"
          ],
          [
           "Rajon Rondo"
          ],
          [
           "Raja Bell"
          ],
          [
           "Rafer Alston"
          ],
          [
           "Quinton Ross"
          ],
          [
           "Quincy Douby"
          ],
          [
           "Quentin Richardson"
          ],
          [
           "Rasheed Wallace"
          ],
          [
           "Rodney Stuckey"
          ],
          [
           "Roger Mason Jr."
          ],
          [
           "Roko Ukic"
          ],
          [
           "Shavlik Randolph"
          ],
          [
           "Shaquille O'Neal"
          ],
          [
           "Shannon Brown"
          ],
          [
           "Shane Battier"
          ],
          [
           "Sergio Rodriguez"
          ],
          [
           "Sebastian Telfair"
          ],
          [
           "Sean Williams"
          ],
          [
           "Sean Singletary"
          ],
          [
           "Sean May"
          ],
          [
           "Sean Marks"
          ],
          [
           "Sasha Vujacic"
          ],
          [
           "Sasha Pavlovic"
          ],
          [
           "Samuel Dalembert"
          ],
          [
           "Ryan Hollins"
          ],
          [
           "Ryan Gomes"
          ],
          [
           "Ryan Bowen"
          ],
          [
           "Ryan Anderson"
          ],
          [
           "Russell Westbrook"
          ],
          [
           "Rudy Gay"
          ],
          [
           "Rudy Fernandez"
          ],
          [
           "Royal Ivey"
          ],
          [
           "Roy Hibbert"
          ],
          [
           "Ronny Turiaf"
          ],
          [
           "Ronnie Price"
          ],
          [
           "Ronnie Brewer"
          ],
          [
           "Peja Stojakovic"
          ],
          [
           "Josh Howard"
          ],
          [
           "Johan Petro"
          ],
          [
           "Jose Calderon"
          ],
          [
           "Chris Duhon"
          ],
          [
           "Chris Douglas-Roberts"
          ],
          [
           "Chris Bosh"
          ],
          [
           "Chris Andersen"
          ],
          [
           "Cheikh Samb"
          ],
          [
           "Chauncey Billups"
          ],
          [
           "Charlie Villanueva"
          ],
          [
           "Charlie Bell"
          ],
          [
           "Channing Frye"
          ],
          [
           "Cedric Simmons"
          ],
          [
           "Cartier Martin"
          ],
          [
           "Chris Kaman"
          ],
          [
           "Caron Butler"
          ],
          [
           "Carlos Boozer"
          ],
          [
           "Carl Landry"
          ],
          [
           "Calvin Booth"
          ],
          [
           "CJ Miles"
          ],
          [
           "C.J. Watson"
          ],
          [
           "Bruce Bowen"
          ],
          [
           "Brook Lopez"
          ],
          [
           "Brian Skinner"
          ],
          [
           "Brian Scalabrine"
          ],
          [
           "Brian Cook"
          ],
          [
           "Brian Cardinal"
          ],
          [
           "Carmelo Anthony"
          ],
          [
           "Brevin Knight"
          ],
          [
           "Chris Mihm"
          ],
          [
           "Chris Quinn"
          ],
          [
           "Darnell Jackson"
          ],
          [
           "Darko Milicic"
          ],
          [
           "Darius Songaila"
          ],
          [
           "Darius Miles"
          ],
          [
           "Danny Granger"
          ],
          [
           "Danilo Gallinari"
          ],
          [
           "Daniel Gibson"
          ],
          [
           "Dan Gadzuric"
          ],
          [
           "Damon Jones"
          ],
          [
           "Damien Wilkins"
          ],
          [
           "Dahntay Jones"
          ],
          [
           "Chris Paul"
          ],
          [
           "Daequan Cook"
          ],
          [
           "DJ Mbenga"
          ],
          [
           "D.J. Augustin"
          ],
          [
           "Cuttino Mobley"
          ],
          [
           "Craig Smith"
          ],
          [
           "Courtney Sims"
          ],
          [
           "Courtney Lee"
          ],
          [
           "Corey Maggette"
          ],
          [
           "Corey Brewer"
          ],
          [
           "Chucky Atkins"
          ],
          [
           "Chuck Hayes"
          ],
          [
           "Chris Wilcox"
          ],
          [
           "DJ White"
          ],
          [
           "Darrell Arthur"
          ],
          [
           "Brent Barry"
          ],
          [
           "Brandon Rush"
          ],
          [
           "Andrew Bogut"
          ],
          [
           "Andres Nocioni"
          ],
          [
           "Andrei Kirilenko"
          ],
          [
           "Andrea Bargnani"
          ],
          [
           "Andre Miller"
          ],
          [
           "Andre Iguodala"
          ],
          [
           "Andre Brown"
          ],
          [
           "Andray Blatche"
          ],
          [
           "Anderson Varejao"
          ],
          [
           "Amir Johnson"
          ],
          [
           "Amar'e Stoudemire"
          ],
          [
           "Andrew Bynum"
          ],
          [
           "Allen Iverson"
          ],
          [
           "Alex Acker"
          ],
          [
           "Alando Tucker"
          ],
          [
           "Al Thornton"
          ],
          [
           "Al Jefferson"
          ],
          [
           "Al Horford"
          ],
          [
           "Al Harrington"
          ],
          [
           "Adonal Foyle"
          ],
          [
           "Adam Morrison"
          ],
          [
           "Acie Law"
          ],
          [
           "Aaron Gray"
          ],
          [
           "Josh Boone"
          ],
          [
           "Alexis Ajinca"
          ],
          [
           "Brendan Haywood"
          ],
          [
           "Andris Biedrins"
          ],
          [
           "Anthony Carter"
          ],
          [
           "Brandon Roy"
          ],
          [
           "Brandon Bass"
          ],
          [
           "Brandan Wright"
          ],
          [
           "Brad Miller"
          ],
          [
           "Boris Diaw"
          ],
          [
           "Bobby Simmons"
          ],
          [
           "Bobby Jackson"
          ],
          [
           "Bobby Brown"
          ],
          [
           "Blake Ahearn"
          ],
          [
           "Beno Udrih"
          ],
          [
           "Ben Wallace"
          ],
          [
           "Antawn Jamison"
          ],
          [
           "Ben Gordon"
          ],
          [
           "Austin Croshere"
          ],
          [
           "Arron Afflalo"
          ],
          [
           "Antonio McDyess"
          ],
          [
           "Antonio Daniels"
          ],
          [
           "Antoine Wright"
          ],
          [
           "Anthony Tolliver"
          ],
          [
           "Anthony Roberson"
          ],
          [
           "Anthony Randolph"
          ],
          [
           "Anthony Parker"
          ],
          [
           "Anthony Morrow"
          ],
          [
           "Anthony Johnson"
          ],
          [
           "Baron Davis"
          ],
          [
           "David Lee"
          ],
          [
           "Aaron Brooks"
          ],
          [
           "DeAndre Jordan"
          ],
          [
           "Jason Collins"
          ],
          [
           "Jarvis Hayes"
          ],
          [
           "Jarron Collins"
          ],
          [
           "Jarrett Jack"
          ],
          [
           "Jared Jeffries"
          ],
          [
           "Jared Dudley"
          ],
          [
           "James White"
          ],
          [
           "James Singleton"
          ],
          [
           "James Posey"
          ],
          [
           "James Jones"
          ],
          [
           "Jameer Nelson"
          ],
          [
           "Jason Hart"
          ],
          [
           "Jamario Moon"
          ],
          [
           "Jamaal Magloire"
          ],
          [
           "Jake Voskuhl"
          ],
          [
           "Jacque Vaughn"
          ],
          [
           "JaVale McGee"
          ],
          [
           "JR Smith"
          ],
          [
           "JJ Redick"
          ],
          [
           "JJ Hickson"
          ],
          [
           "J.R. Giddens"
          ],
          [
           "J.J. Barea"
          ],
          [
           "Ime Udoka"
          ],
          [
           "Ike Diogu"
          ],
          [
           "Jamal Crawford"
          ],
          [
           "Hilton Armstrong"
          ],
          [
           "Jason Kapono"
          ],
          [
           "Jason Maxiell"
          ],
          [
           "David West"
          ],
          [
           "John Salmons"
          ],
          [
           "Joey Graham"
          ],
          [
           "Joey Dorsey"
          ],
          [
           "Joel Przybilla"
          ],
          [
           "Joel Anthony"
          ],
          [
           "Joe Smith"
          ],
          [
           "Joe Johnson"
          ],
          [
           "Joe Crawford"
          ],
          [
           "Joe Alexander"
          ],
          [
           "Joakim Noah"
          ],
          [
           "Jason Kidd"
          ],
          [
           "Jerryd Bayless"
          ],
          [
           "Jerome James"
          ],
          [
           "Jermareo Davidson"
          ],
          [
           "Jermaine O'Neal"
          ],
          [
           "Jeremy Richardson"
          ],
          [
           "Jeff Green"
          ],
          [
           "Jeff Foster"
          ],
          [
           "Jawad Williams"
          ],
          [
           "Javaris Crittenton"
          ],
          [
           "Jason Thompson"
          ],
          [
           "Jason Terry"
          ],
          [
           "Jason Richardson"
          ],
          [
           "Jerry Stackhouse"
          ],
          [
           "Henry Walker"
          ],
          [
           "Jordan Farmar"
          ],
          [
           "Hassan Adams"
          ],
          [
           "Dwight Howard"
          ],
          [
           "Dwayne Jones"
          ],
          [
           "Drew Gooden"
          ],
          [
           "Dorell Wright"
          ],
          [
           "Donyell Marshall"
          ],
          [
           "Dontell Jefferson"
          ],
          [
           "Donte Greene"
          ],
          [
           "Dominic McGuire"
          ],
          [
           "Dirk Nowitzki"
          ],
          [
           "Hedo Turkoglu"
          ],
          [
           "Devin Harris"
          ],
          [
           "Dwyane Wade"
          ],
          [
           "Devin Brown"
          ],
          [
           "Desmond Mason"
          ],
          [
           "Desmon Farmer"
          ],
          [
           "Derrick Rose"
          ],
          [
           "Deron Williams"
          ],
          [
           "Derek Fisher"
          ],
          [
           "Demetris Nichols"
          ],
          [
           "Delonte West"
          ],
          [
           "Dee Brown"
          ],
          [
           "DeShawn Stevenson"
          ],
          [
           "DeSagana Diop"
          ],
          [
           "DeMarcus Nelson"
          ],
          [
           "Devean George"
          ],
          [
           "Earl Watson"
          ],
          [
           "Dikembe Mutombo"
          ],
          [
           "Eddie House"
          ],
          [
           "Eddie Gill"
          ],
          [
           "Hakim Warrick"
          ],
          [
           "Greg Oden"
          ],
          [
           "Greg Buckner"
          ],
          [
           "Grant Hill"
          ],
          [
           "Goran Dragic"
          ],
          [
           "Glen Davis"
          ],
          [
           "Gilbert Arenas"
          ],
          [
           "Gerald Wallace"
          ],
          [
           "Gerald Green"
          ],
          [
           "George Hill"
          ],
          [
           "Gabe Pruitt"
          ],
          [
           "Hamed Haddadi"
          ],
          [
           "Francisco Garcia"
          ],
          [
           "Francisco Elson"
          ],
          [
           "Flip Murray"
          ],
          [
           "Fabricio Oberto"
          ],
          [
           "Etan Thomas"
          ],
          [
           "Erick Dampier"
          ],
          [
           "Eric Gordon"
          ],
          [
           "Emeka Okafor"
          ],
          [
           "Elton Brand"
          ],
          [
           "Eduardo Najera"
          ],
          [
           "Eddy Curry"
          ],
          [
           "Fred Jones"
          ],
          [
           "Renaldo Balkman"
          ],
          [
           "Reggie Williams"
          ],
          [
           "Reggie Evans"
          ],
          [
           "Raymond Felton"
          ],
          [
           "Rashard Lewis"
          ],
          [
           "Rasual Butler"
          ],
          [
           "Rasho Nesterovic"
          ],
          [
           "Rasheed Wallace"
          ],
          [
           "Richard Hamilton"
          ],
          [
           "Ray Allen"
          ],
          [
           "Richard Jefferson"
          ],
          [
           "Roger Mason Jr."
          ],
          [
           "Robin Lopez"
          ],
          [
           "Rodney Carney"
          ],
          [
           "Rodney Stuckey"
          ],
          [
           "Rodrigue Beaubois"
          ],
          [
           "Roko Ukic"
          ],
          [
           "Ronnie Brewer"
          ],
          [
           "Ronnie Price"
          ],
          [
           "Ronny Turiaf"
          ],
          [
           "Roy Hibbert"
          ],
          [
           "Royal Ivey"
          ],
          [
           "Ricky Davis"
          ],
          [
           "Randy Foye"
          ],
          [
           "Nenad Krstic"
          ],
          [
           "Ramon Sessions"
          ],
          [
           "Nene"
          ],
          [
           "Nick Collison"
          ],
          [
           "Nick Young"
          ],
          [
           "Nicolas Batum"
          ],
          [
           "O.J. Mayo"
          ],
          [
           "Oleksiy Pecherov"
          ],
          [
           "Oliver Lafayette"
          ],
          [
           "Omri Casspi"
          ],
          [
           "Othello Hunter"
          ],
          [
           "Othyus Jeffers"
          ],
          [
           "Patrick O'Bryant"
          ],
          [
           "Randolph Morris"
          ],
          [
           "Patty Mills"
          ],
          [
           "Paul Davis"
          ],
          [
           "Paul Millsap"
          ],
          [
           "Paul Pierce"
          ],
          [
           "Peja Stojakovic"
          ],
          [
           "Pops Mensah-Bonsu"
          ],
          [
           "Primoz Brezec"
          ],
          [
           "Quentin Richardson"
          ],
          [
           "Quinton Ross"
          ],
          [
           "Rafer Alston"
          ],
          [
           "Raja Bell"
          ],
          [
           "Rajon Rondo"
          ],
          [
           "Pau Gasol"
          ],
          [
           "Rudy Fernandez"
          ],
          [
           "Spencer Hawes"
          ],
          [
           "Russell Westbrook"
          ],
          [
           "Steve Nash"
          ],
          [
           "Steve Novak"
          ],
          [
           "Steven Hunter"
          ],
          [
           "Sundiata Gaines"
          ],
          [
           "T.J. Ford"
          ],
          [
           "Taj Gibson"
          ],
          [
           "Taylor Griffin"
          ],
          [
           "Tayshaun Prince"
          ],
          [
           "Terrence Williams"
          ],
          [
           "Thabo Sefolosha"
          ],
          [
           "Thaddeus Young"
          ],
          [
           "Steve Blake"
          ],
          [
           "Theo Ratliff"
          ],
          [
           "Tim Thomas"
          ],
          [
           "Toney Douglas"
          ],
          [
           "Tony Allen"
          ],
          [
           "Tony Battie"
          ],
          [
           "Tony Parker"
          ],
          [
           "Tracy McGrady"
          ],
          [
           "Travis Diener"
          ],
          [
           "Travis Outlaw"
          ],
          [
           "Trenton Hassell"
          ],
          [
           "Trevor Ariza"
          ],
          [
           "Nazr Mohammed"
          ],
          [
           "Tim Duncan"
          ],
          [
           "Rudy Gay"
          ],
          [
           "Stephen Jackson"
          ],
          [
           "Stephen Curry"
          ],
          [
           "Ryan Anderson"
          ],
          [
           "Ryan Bowen"
          ],
          [
           "Ryan Gomes"
          ],
          [
           "Ryan Hollins"
          ],
          [
           "Sam Young"
          ],
          [
           "Jeff Foster"
          ],
          [
           "Samuel Dalembert"
          ],
          [
           "Sasha Pavlovic"
          ],
          [
           "Sasha Vujacic"
          ],
          [
           "Sean Marks"
          ],
          [
           "Sean May"
          ],
          [
           "Stephen Graham"
          ],
          [
           "Sean Williams"
          ],
          [
           "Serge Ibaka"
          ],
          [
           "Sergio Rodriguez"
          ],
          [
           "Shane Battier"
          ],
          [
           "Shannon Brown"
          ],
          [
           "Shaquille O'Neal"
          ],
          [
           "Shaun Livingston"
          ],
          [
           "Shavlik Randolph"
          ],
          [
           "Shawn Marion"
          ],
          [
           "Shelden Williams"
          ],
          [
           "Solomon Jones"
          ],
          [
           "Sonny Weems"
          ],
          [
           "Sebastian Telfair"
          ],
          [
           "Trey Gilder"
          ],
          [
           "Keyon Dooling"
          ],
          [
           "Nate Robinson"
          ],
          [
           "Malik Hairston"
          ],
          [
           "Malik Allen"
          ],
          [
           "Luther Head"
          ],
          [
           "Luol Deng"
          ],
          [
           "Luke Walton"
          ],
          [
           "Luke Ridnour"
          ],
          [
           "Luis Scola"
          ],
          [
           "Luc Mbah a Moute"
          ],
          [
           "Lou Williams"
          ],
          [
           "Lou Amundson"
          ],
          [
           "Lindsey Hunter"
          ],
          [
           "Manu Ginobili"
          ],
          [
           "Lester Hudson"
          ],
          [
           "Leandro Barbosa"
          ],
          [
           "LeBron James"
          ],
          [
           "Larry Hughes"
          ],
          [
           "Lamar Odom"
          ],
          [
           "LaMarcus Aldridge"
          ],
          [
           "Kyrylo Fesenko"
          ],
          [
           "Kyle Weaver"
          ],
          [
           "Kyle Lowry"
          ],
          [
           "Kyle Korver"
          ],
          [
           "Kwame Brown"
          ],
          [
           "Kurt Thomas"
          ],
          [
           "Leon Powe"
          ],
          [
           "Kris Humphries"
          ],
          [
           "Marc Gasol"
          ],
          [
           "Marco Belinelli"
          ],
          [
           "Troy Murphy"
          ],
          [
           "Mickael Pietrus"
          ],
          [
           "Michael Redd"
          ],
          [
           "Michael Finley"
          ],
          [
           "Michael Beasley"
          ],
          [
           "Metta World Peace"
          ],
          [
           "Mehmet Okur"
          ],
          [
           "Maurice Evans"
          ],
          [
           "Matt Carroll"
          ],
          [
           "Matt Bonner"
          ],
          [
           "Matt Barnes"
          ],
          [
           "Marcin Gortat"
          ],
          [
           "Marvin Williams"
          ],
          [
           "Marreese Speights"
          ],
          [
           "Marquis Daniels"
          ],
          [
           "Mario West"
          ],
          [
           "Mario Chalmers"
          ],
          [
           "Mardy Collins"
          ],
          [
           "Marcus Williams"
          ],
          [
           "Marcus Thornton"
          ],
          [
           "Marcus Landry"
          ],
          [
           "Marcus Haislip"
          ],
          [
           "Marcus Camby"
          ],
          [
           "Marcus Banks"
          ],
          [
           "Martell Webster"
          ],
          [
           "Nathan Jawai"
          ],
          [
           "Kosta Koufos"
          ],
          [
           "Kirk Hinrich"
          ],
          [
           "Joey Graham"
          ],
          [
           "Joey Dorsey"
          ],
          [
           "Joel Przybilla"
          ],
          [
           "Joel Anthony"
          ],
          [
           "Joe Smith"
          ],
          [
           "Joe Johnson"
          ],
          [
           "Joe Alexander"
          ],
          [
           "Jodie Meeks"
          ],
          [
           "Joakim Noah"
          ],
          [
           "Jerryd Bayless"
          ],
          [
           "Jerry Stackhouse"
          ],
          [
           "Johan Petro"
          ],
          [
           "Jermaine Taylor"
          ],
          [
           "Jeff Teague"
          ],
          [
           "Jeff Green"
          ],
          [
           "Mike Dunleavy"
          ],
          [
           "Mike Harris"
          ],
          [
           "Mike James"
          ],
          [
           "Mike Miller"
          ],
          [
           "Mike Wilks"
          ],
          [
           "Mikki Moore"
          ],
          [
           "Mo Williams"
          ],
          [
           "Monta Ellis"
          ],
          [
           "Morris Peterson"
          ],
          [
           "Jermaine O'Neal"
          ],
          [
           "Kobe Bryant"
          ],
          [
           "John Salmons"
          ],
          [
           "Jonas Jerebko"
          ],
          [
           "Kevin Ollie"
          ],
          [
           "Kevin Martin"
          ],
          [
           "Kevin Love"
          ],
          [
           "Kevin Garnett"
          ],
          [
           "Kevin Durant"
          ],
          [
           "Kenyon Martin"
          ],
          [
           "Kenny Thomas"
          ],
          [
           "Kendrick Perkins"
          ],
          [
           "Kelenna Azubuike"
          ],
          [
           "Keith Bogans"
          ],
          [
           "Kareem Rush"
          ],
          [
           "Jon Brockman"
          ],
          [
           "Juwan Howard"
          ],
          [
           "Jrue Holiday"
          ],
          [
           "Josh Smith"
          ],
          [
           "Josh Powell"
          ],
          [
           "Josh McRoberts"
          ],
          [
           "Josh Howard"
          ],
          [
           "Josh Boone"
          ],
          [
           "Jose Calderon"
          ],
          [
           "Jordan Hill"
          ],
          [
           "Jordan Farmar"
          ],
          [
           "Jonny Flynn"
          ],
          [
           "Jonathan Bender"
          ],
          [
           "Julian Wright"
          ],
          [
           "Ty Lawson"
          ],
          [
           "DeAndre Jordan"
          ],
          [
           "Tyreke Evans"
          ],
          [
           "Chris Paul"
          ],
          [
           "Chris Kaman"
          ],
          [
           "Chris Hunter"
          ],
          [
           "Chris Duhon"
          ],
          [
           "Chris Douglas-Roberts"
          ],
          [
           "Chris Bosh"
          ],
          [
           "Chris Andersen"
          ],
          [
           "Chauncey Billups"
          ],
          [
           "Chase Budinger"
          ],
          [
           "Charlie Villanueva"
          ],
          [
           "Charlie Bell"
          ],
          [
           "Channing Frye"
          ],
          [
           "Cedric Jackson"
          ],
          [
           "Cartier Martin"
          ],
          [
           "Caron Butler"
          ],
          [
           "Carmelo Anthony"
          ],
          [
           "Carlos Delfino"
          ],
          [
           "Carlos Boozer"
          ],
          [
           "Carlos Arroyo"
          ],
          [
           "Carl Landry"
          ],
          [
           "CJ Miles"
          ],
          [
           "C.J. Watson"
          ],
          [
           "Byron Mullens"
          ],
          [
           "Chris Quinn"
          ],
          [
           "Chris Richard"
          ],
          [
           "Chris Wilcox"
          ],
          [
           "Chuck Hayes"
          ],
          [
           "Darren Collison"
          ],
          [
           "Darrell Arthur"
          ],
          [
           "Darnell Jackson"
          ],
          [
           "Darko Milicic"
          ],
          [
           "Darius Songaila"
          ],
          [
           "Dante Cunningham"
          ],
          [
           "Danny Green"
          ],
          [
           "Danny Granger"
          ],
          [
           "Danilo Gallinari"
          ],
          [
           "Daniel Gibson"
          ],
          [
           "Dan Gadzuric"
          ],
          [
           "Brook Lopez"
          ],
          [
           "Damien Wilkins"
          ],
          [
           "Daequan Cook"
          ],
          [
           "DaJuan Summers"
          ],
          [
           "DJ White"
          ],
          [
           "DJ Mbenga"
          ],
          [
           "D.J. Augustin"
          ],
          [
           "Craig Smith"
          ],
          [
           "Courtney Lee"
          ],
          [
           "Corey Maggette"
          ],
          [
           "Corey Brewer"
          ],
          [
           "Coby Karl"
          ],
          [
           "Chucky Atkins"
          ],
          [
           "Dahntay Jones"
          ],
          [
           "Brian Skinner"
          ],
          [
           "Brian Scalabrine"
          ],
          [
           "Brian Cook"
          ],
          [
           "Andrew Bogut"
          ],
          [
           "Andres Nocioni"
          ],
          [
           "Andrei Kirilenko"
          ],
          [
           "Andrea Bargnani"
          ],
          [
           "Andre Miller"
          ],
          [
           "Andre Iguodala"
          ],
          [
           "Andray Blatche"
          ],
          [
           "Anderson Varejao"
          ],
          [
           "Amir Johnson"
          ],
          [
           "Amar'e Stoudemire"
          ],
          [
           "Alonzo Gee"
          ],
          [
           "Andrew Bynum"
          ],
          [
           "Allen Iverson"
          ],
          [
           "Alando Tucker"
          ],
          [
           "Al Thornton"
          ],
          [
           "Al Jefferson"
          ],
          [
           "Al Horford"
          ],
          [
           "Al Harrington"
          ],
          [
           "Adam Morrison"
          ],
          [
           "Acie Law"
          ],
          [
           "Aaron Gray"
          ],
          [
           "Aaron Brooks"
          ],
          [
           "AJ Price"
          ],
          [
           "Mike Bibby"
          ],
          [
           "Alexis Ajinca"
          ],
          [
           "David Andersen"
          ],
          [
           "Andris Biedrins"
          ],
          [
           "Anthony Carter"
          ],
          [
           "Brian Cardinal"
          ],
          [
           "Brendan Haywood"
          ],
          [
           "Brandon Rush"
          ],
          [
           "Brandon Roy"
          ],
          [
           "Brandon Jennings"
          ],
          [
           "Brandon Bass"
          ],
          [
           "Brad Miller"
          ],
          [
           "Boris Diaw"
          ],
          [
           "Bobby Simmons"
          ],
          [
           "Bobby Brown"
          ],
          [
           "Beno Udrih"
          ],
          [
           "Antawn Jamison"
          ],
          [
           "Ben Wallace"
          ],
          [
           "Baron Davis"
          ],
          [
           "Austin Daye"
          ],
          [
           "Arron Afflalo"
          ],
          [
           "Antonio McDyess"
          ],
          [
           "Antonio Anderson"
          ],
          [
           "Antoine Wright"
          ],
          [
           "Anthony Tolliver"
          ],
          [
           "Anthony Randolph"
          ],
          [
           "Anthony Parker"
          ],
          [
           "Anthony Morrow"
          ],
          [
           "Anthony Johnson"
          ],
          [
           "Ben Gordon"
          ],
          [
           "Tyler Hansbrough"
          ],
          [
           "David Lee"
          ],
          [
           "DeJuan Blair"
          ],
          [
           "Jarvis Hayes"
          ],
          [
           "Jarron Collins"
          ],
          [
           "Jarrett Jack"
          ],
          [
           "Jared Jeffries"
          ],
          [
           "Jared Dudley"
          ],
          [
           "Jannero Pargo"
          ],
          [
           "JamesOn Curry"
          ],
          [
           "James Singleton"
          ],
          [
           "James Posey"
          ],
          [
           "James Jones"
          ],
          [
           "James Johnson"
          ],
          [
           "James Harden"
          ],
          [
           "Jameer Nelson"
          ],
          [
           "Jamario Moon"
          ],
          [
           "Jamal Crawford"
          ],
          [
           "Jamaal Tinsley"
          ],
          [
           "Jamaal Magloire"
          ],
          [
           "JaVale McGee"
          ],
          [
           "JR Smith"
          ],
          [
           "JJ Redick"
          ],
          [
           "JJ Hickson"
          ],
          [
           "J.R. Giddens"
          ],
          [
           "J.J. Barea"
          ],
          [
           "Jason Collins"
          ],
          [
           "Jason Hart"
          ],
          [
           "Jason Kapono"
          ],
          [
           "Jason Kidd"
          ],
          [
           "Tyrus Thomas"
          ],
          [
           "Tyson Chandler"
          ],
          [
           "Udonis Haslem"
          ],
          [
           "Vince Carter"
          ],
          [
           "Vladimir Radmanovic"
          ],
          [
           "Wayne Ellington"
          ],
          [
           "Wesley Matthews"
          ],
          [
           "Will Bynum"
          ],
          [
           "Will Conroy"
          ],
          [
           "Willie Green"
          ],
          [
           "Wilson Chandler"
          ],
          [
           "Ime Udoka"
          ],
          [
           "Yakhouba Diawara"
          ],
          [
           "Zach Randolph"
          ],
          [
           "Zaza Pachulia"
          ],
          [
           "Zydrunas Ilgauskas"
          ],
          [
           "Jeff Ayres"
          ],
          [
           "Jawad Williams"
          ],
          [
           "Jason Williams"
          ],
          [
           "Jason Thompson"
          ],
          [
           "Jason Terry"
          ],
          [
           "Jason Smith"
          ],
          [
           "Jason Richardson"
          ],
          [
           "Jason Maxiell"
          ],
          [
           "Yi Jianlian"
          ],
          [
           "Ian Mahinmi"
          ],
          [
           "Hilton Armstrong"
          ],
          [
           "Henry Walker"
          ],
          [
           "Earl Clark"
          ],
          [
           "Earl Boykins"
          ],
          [
           "Earl Barron"
          ],
          [
           "Dwyane Wade"
          ],
          [
           "Dwight Howard"
          ],
          [
           "Dwayne Jones"
          ],
          [
           "Drew Gooden"
          ],
          [
           "Dorell Wright"
          ],
          [
           "Donte Greene"
          ],
          [
           "Dominic McGuire"
          ],
          [
           "Dirk Nowitzki"
          ],
          [
           "Earl Watson"
          ],
          [
           "Devin Harris"
          ],
          [
           "Devean George"
          ],
          [
           "Desmond Mason"
          ],
          [
           "Derrick Rose"
          ],
          [
           "Derrick Brown"
          ],
          [
           "Deron Williams"
          ],
          [
           "Derek Fisher"
          ],
          [
           "Delonte West"
          ],
          [
           "DeShawn Stevenson"
          ],
          [
           "DeSagana Diop"
          ],
          [
           "DeMarre Carroll"
          ],
          [
           "DeMar DeRozan"
          ],
          [
           "Devin Brown"
          ],
          [
           "David West"
          ],
          [
           "Eddie House"
          ],
          [
           "Eduardo Najera"
          ],
          [
           "Hedo Turkoglu"
          ],
          [
           "Hasheem Thabeet"
          ],
          [
           "Hamed Haddadi"
          ],
          [
           "Hakim Warrick"
          ],
          [
           "Greg Oden"
          ],
          [
           "Grant Hill"
          ],
          [
           "Goran Dragic"
          ],
          [
           "Glen Davis"
          ],
          [
           "Gilbert Arenas"
          ],
          [
           "Gerald Wallace"
          ],
          [
           "Gerald Henderson"
          ],
          [
           "Eddy Curry"
          ],
          [
           "George Hill"
          ],
          [
           "Francisco Garcia"
          ],
          [
           "Francisco Elson"
          ],
          [
           "Flip Murray"
          ],
          [
           "Fabricio Oberto"
          ],
          [
           "Etan Thomas"
          ],
          [
           "Ersan Ilyasova"
          ],
          [
           "Erick Dampier"
          ],
          [
           "Eric Maynor"
          ],
          [
           "Eric Gordon"
          ],
          [
           "Emeka Okafor"
          ],
          [
           "Elton Brand"
          ],
          [
           "Garrett Temple"
          ],
          [
           "Mike Conley"
          ],
          [
           "Darrell Arthur"
          ],
          [
           "AJ Price"
          ],
          [
           "Maurice Evans"
          ],
          [
           "Maurice Ager"
          ],
          [
           "Matt Carroll"
          ],
          [
           "Matt Bonner"
          ],
          [
           "Matt Barnes"
          ],
          [
           "Marvin Williams"
          ],
          [
           "Martell Webster"
          ],
          [
           "Marreese Speights"
          ],
          [
           "Marquis Daniels"
          ],
          [
           "Mario West"
          ],
          [
           "Mario Chalmers"
          ],
          [
           "Mehmet Okur"
          ],
          [
           "Marcus Thornton"
          ],
          [
           "Marcus Camby"
          ],
          [
           "Marcus Banks"
          ],
          [
           "Marco Belinelli"
          ],
          [
           "Marcin Gortat"
          ],
          [
           "Marc Gasol"
          ],
          [
           "Manu Ginobili"
          ],
          [
           "Manny Harris"
          ],
          [
           "Malik Allen"
          ],
          [
           "Luther Head"
          ],
          [
           "Luol Deng"
          ],
          [
           "Luke Walton"
          ],
          [
           "Marcus Cousin"
          ],
          [
           "Luke Ridnour"
          ],
          [
           "Melvin Ely"
          ],
          [
           "Michael Beasley"
          ],
          [
           "Pape Sy"
          ],
          [
           "Othyus Jeffers"
          ],
          [
           "Orien Greene"
          ],
          [
           "Omri Casspi"
          ],
          [
           "Omer Asik"
          ],
          [
           "O.J. Mayo"
          ],
          [
           "Nikola Pekovic"
          ],
          [
           "Nicolas Batum"
          ],
          [
           "Nick Collison"
          ],
          [
           "Nene"
          ],
          [
           "Nenad Krstic"
          ],
          [
           "Metta World Peace"
          ],
          [
           "Nazr Mohammed"
          ],
          [
           "Mustafa Shakur"
          ],
          [
           "Morris Peterson"
          ],
          [
           "Monta Ellis"
          ],
          [
           "Mo Williams"
          ],
          [
           "Mike Miller"
          ],
          [
           "Mike Harris"
          ],
          [
           "Mike Dunleavy"
          ],
          [
           "Mike Conley"
          ],
          [
           "Mike Bibby"
          ],
          [
           "Mickael Pietrus"
          ],
          [
           "Michael Redd"
          ],
          [
           "Nate Robinson"
          ],
          [
           "Luke Harangody"
          ],
          [
           "Luke Babbitt"
          ],
          [
           "Luis Scola"
          ],
          [
           "Kevin Garnett"
          ],
          [
           "Kevin Durant"
          ],
          [
           "Kenyon Martin"
          ],
          [
           "Kendrick Perkins"
          ],
          [
           "Keith Bogans"
          ],
          [
           "Juwan Howard"
          ],
          [
           "Julian Wright"
          ],
          [
           "Jrue Holiday"
          ],
          [
           "Josh Smith"
          ],
          [
           "Josh Powell"
          ],
          [
           "Josh McRoberts"
          ],
          [
           "Kevin Love"
          ],
          [
           "Josh Howard"
          ],
          [
           "Jose Calderon"
          ],
          [
           "Jordan Hill"
          ],
          [
           "Jordan Farmar"
          ],
          [
           "Jordan Crawford"
          ],
          [
           "Jonny Flynn"
          ],
          [
           "Jon Brockman"
          ],
          [
           "John Wall"
          ],
          [
           "John Salmons"
          ],
          [
           "John Lucas III"
          ],
          [
           "Johan Petro"
          ],
          [
           "Joey Graham"
          ],
          [
           "Josh Childress"
          ],
          [
           "Kevin Martin"
          ],
          [
           "Kevin Seraphin"
          ],
          [
           "Keyon Dooling"
          ],
          [
           "Luc Mbah a Moute"
          ],
          [
           "Lou Williams"
          ],
          [
           "Lou Amundson"
          ],
          [
           "Linas Kleiza"
          ],
          [
           "Lester Hudson"
          ],
          [
           "Leon Powe"
          ],
          [
           "Leandro Barbosa"
          ],
          [
           "LeBron James"
          ],
          [
           "Lazar Hayward"
          ],
          [
           "Larry Sanders"
          ],
          [
           "Larry Owens"
          ],
          [
           "Landry Fields"
          ],
          [
           "Lance Stephenson"
          ],
          [
           "Lamar Odom"
          ],
          [
           "LaMarcus Aldridge"
          ],
          [
           "Kyrylo Fesenko"
          ],
          [
           "Kyle Weaver"
          ],
          [
           "Kyle Lowry"
          ],
          [
           "Kyle Korver"
          ],
          [
           "Kwame Brown"
          ],
          [
           "Kurt Thomas"
          ],
          [
           "Kris Humphries"
          ],
          [
           "Kosta Koufos"
          ],
          [
           "Kobe Bryant"
          ],
          [
           "Kirk Hinrich"
          ],
          [
           "Patrick Ewing"
          ],
          [
           "Patrick Patterson"
          ],
          [
           "Patty Mills"
          ],
          [
           "Pau Gasol"
          ],
          [
           "Tony Parker"
          ],
          [
           "Tony Battie"
          ],
          [
           "Tony Allen"
          ],
          [
           "Toney Douglas"
          ],
          [
           "Timofey Mozgov"
          ],
          [
           "Tim Duncan"
          ],
          [
           "Tiago Splitter"
          ],
          [
           "Theo Ratliff"
          ],
          [
           "Thaddeus Young"
          ],
          [
           "Thabo Sefolosha"
          ],
          [
           "Terrence Williams"
          ],
          [
           "Tracy McGrady"
          ],
          [
           "Tayshaun Prince"
          ],
          [
           "T.J. Ford"
          ],
          [
           "Sundiata Gaines"
          ],
          [
           "Steve Novak"
          ],
          [
           "Steve Nash"
          ],
          [
           "Steve Blake"
          ],
          [
           "Stephen Jackson"
          ],
          [
           "Stephen Graham"
          ],
          [
           "Stephen Curry"
          ],
          [
           "Spencer Hawes"
          ],
          [
           "Sonny Weems"
          ],
          [
           "Solomon Jones"
          ],
          [
           "Taj Gibson"
          ],
          [
           "Travis Outlaw"
          ],
          [
           "Trevor Ariza"
          ],
          [
           "Trevor Booker"
          ],
          [
           "Zydrunas Ilgauskas"
          ],
          [
           "Zaza Pachulia"
          ],
          [
           "Zach Randolph"
          ],
          [
           "Zabian Dowdell"
          ],
          [
           "Yi Jianlian"
          ],
          [
           "Yao Ming"
          ],
          [
           "Xavier Henry"
          ],
          [
           "Wilson Chandler"
          ],
          [
           "Willie Warren"
          ],
          [
           "Willie Green"
          ],
          [
           "Will Bynum"
          ],
          [
           "Wesley Matthews"
          ],
          [
           "Wesley Johnson"
          ],
          [
           "Wayne Ellington"
          ],
          [
           "Von Wafer"
          ],
          [
           "Vladimir Radmanovic"
          ],
          [
           "Vince Carter"
          ],
          [
           "Udonis Haslem"
          ],
          [
           "Tyson Chandler"
          ],
          [
           "Tyrus Thomas"
          ],
          [
           "Tyreke Evans"
          ],
          [
           "Tyler Hansbrough"
          ],
          [
           "Ty Lawson"
          ],
          [
           "Troy Murphy"
          ],
          [
           "Trey Johnson"
          ],
          [
           "Solomon Alabi"
          ],
          [
           "Joey Dorsey"
          ],
          [
           "Sherron Collins"
          ],
          [
           "Shawne Williams"
          ],
          [
           "Rodney Carney"
          ],
          [
           "Robin Lopez"
          ],
          [
           "Richard Jefferson"
          ],
          [
           "Richard Hamilton"
          ],
          [
           "Renaldo Balkman"
          ],
          [
           "Reggie Williams"
          ],
          [
           "Reggie Evans"
          ],
          [
           "Raymond Felton"
          ],
          [
           "Ray Allen"
          ],
          [
           "Rasual Butler"
          ],
          [
           "Rashard Lewis"
          ],
          [
           "Rodney Stuckey"
          ],
          [
           "Randy Foye"
          ],
          [
           "Rajon Rondo"
          ],
          [
           "Raja Bell"
          ],
          [
           "Quinton Ross"
          ],
          [
           "Quincy Pondexter"
          ],
          [
           "Quentin Richardson"
          ],
          [
           "Pops Mensah-Bonsu"
          ],
          [
           "Pooh Jeter"
          ],
          [
           "Peja Stojakovic"
          ],
          [
           "Paul Pierce"
          ],
          [
           "Paul Millsap"
          ],
          [
           "Paul George"
          ],
          [
           "Ramon Sessions"
          ],
          [
           "Rodrigue Beaubois"
          ],
          [
           "Roger Mason Jr."
          ],
          [
           "Ronald Dupree"
          ],
          [
           "Shawn Marion"
          ],
          [
           "Shaun Livingston"
          ],
          [
           "Shaquille O'Neal"
          ],
          [
           "Shannon Brown"
          ],
          [
           "Shane Battier"
          ],
          [
           "Serge Ibaka"
          ],
          [
           "Semih Erden"
          ],
          [
           "Sebastian Telfair"
          ],
          [
           "Sean Marks"
          ],
          [
           "Sasha Vujacic"
          ],
          [
           "Sasha Pavlovic"
          ],
          [
           "Samuel Dalembert"
          ],
          [
           "Samardo Samuels"
          ],
          [
           "Sam Young"
          ],
          [
           "Ryan Hollins"
          ],
          [
           "Ryan Gomes"
          ],
          [
           "Ryan Anderson"
          ],
          [
           "Russell Westbrook"
          ],
          [
           "Rudy Gay"
          ],
          [
           "Rudy Fernandez"
          ],
          [
           "Royal Ivey"
          ],
          [
           "Roy Hibbert"
          ],
          [
           "Ronny Turiaf"
          ],
          [
           "Ronnie Price"
          ],
          [
           "Ronnie Brewer"
          ],
          [
           "Shelden Williams"
          ],
          [
           "Joel Przybilla"
          ],
          [
           "Nick Young"
          ],
          [
           "Joe Smith"
          ],
          [
           "Christian Eyenga"
          ],
          [
           "Chris Wilcox"
          ],
          [
           "Chris Quinn"
          ],
          [
           "Chris Paul"
          ],
          [
           "Chris Kaman"
          ],
          [
           "Chris Johnson"
          ],
          [
           "Chris Duhon"
          ],
          [
           "Chris Douglas-Roberts"
          ],
          [
           "Chris Bosh"
          ],
          [
           "Chris Andersen"
          ],
          [
           "Chauncey Billups"
          ],
          [
           "Chuck Hayes"
          ],
          [
           "Chase Budinger"
          ],
          [
           "Charlie Bell"
          ],
          [
           "Channing Frye"
          ],
          [
           "Cartier Martin"
          ],
          [
           "Caron Butler"
          ],
          [
           "Carmelo Anthony"
          ],
          [
           "Carlos Delfino"
          ],
          [
           "Carlos Boozer"
          ],
          [
           "Carlos Arroyo"
          ],
          [
           "Carl Landry"
          ],
          [
           "CJ Miles"
          ],
          [
           "C.J. Watson"
          ],
          [
           "Charlie Villanueva"
          ],
          [
           "Byron Mullens"
          ],
          [
           "Cole Aldrich"
          ],
          [
           "Corey Maggette"
          ],
          [
           "David West"
          ],
          [
           "David Lee"
          ],
          [
           "David Andersen"
          ],
          [
           "Darren Collison"
          ],
          [
           "Darnell Jackson"
          ],
          [
           "Darko Milicic"
          ],
          [
           "Darius Songaila"
          ],
          [
           "Dante Cunningham"
          ],
          [
           "Danny Green"
          ],
          [
           "Danny Granger"
          ],
          [
           "Danilo Gallinari"
          ],
          [
           "Corey Brewer"
          ],
          [
           "Daniel Gibson"
          ],
          [
           "Damion James"
          ],
          [
           "Damien Wilkins"
          ],
          [
           "Dahntay Jones"
          ],
          [
           "Daequan Cook"
          ],
          [
           "DaJuan Summers"
          ],
          [
           "DJ White"
          ],
          [
           "DJ Mbenga"
          ],
          [
           "D.J. Augustin"
          ],
          [
           "Craig Smith"
          ],
          [
           "Craig Brackins"
          ],
          [
           "Courtney Lee"
          ],
          [
           "Dan Gadzuric"
          ],
          [
           "Brook Lopez"
          ],
          [
           "Brian Skinner"
          ],
          [
           "Brian Scalabrine"
          ],
          [
           "Antawn Jamison"
          ],
          [
           "Andy Rautins"
          ],
          [
           "Andris Biedrins"
          ],
          [
           "Andrew Bynum"
          ],
          [
           "Andrew Bogut"
          ],
          [
           "Andres Nocioni"
          ],
          [
           "Andrei Kirilenko"
          ],
          [
           "Andrea Bargnani"
          ],
          [
           "Andre Miller"
          ],
          [
           "Andre Iguodala"
          ],
          [
           "Andray Blatche"
          ],
          [
           "Anthony Carter"
          ],
          [
           "Anderson Varejao"
          ],
          [
           "Amar'e Stoudemire"
          ],
          [
           "Alonzo Gee"
          ],
          [
           "Joel Anthony"
          ],
          [
           "Al-Farouq Aminu"
          ],
          [
           "Al Thornton"
          ],
          [
           "Al Jefferson"
          ],
          [
           "Al Horford"
          ],
          [
           "Al Harrington"
          ],
          [
           "Acie Law"
          ],
          [
           "Aaron Gray"
          ],
          [
           "Aaron Brooks"
          ],
          [
           "Amir Johnson"
          ],
          [
           "Anthony Morrow"
          ],
          [
           "Anthony Parker"
          ],
          [
           "Anthony Randolph"
          ],
          [
           "Brian Cook"
          ],
          [
           "Brian Cardinal"
          ],
          [
           "Brendan Haywood"
          ],
          [
           "Brandon Rush"
          ],
          [
           "Brandon Roy"
          ],
          [
           "Brandon Jennings"
          ],
          [
           "Brandon Bass"
          ],
          [
           "Brandan Wright"
          ],
          [
           "Brad Miller"
          ],
          [
           "Boris Diaw"
          ],
          [
           "Bobby Simmons"
          ],
          [
           "Blake Griffin"
          ],
          [
           "Beno Udrih"
          ],
          [
           "Ben Wallace"
          ],
          [
           "Ben Uzoh"
          ],
          [
           "Ben Gordon"
          ],
          [
           "Baron Davis"
          ],
          [
           "Avery Bradley"
          ],
          [
           "Austin Daye"
          ],
          [
           "Arron Afflalo"
          ],
          [
           "Armon Johnson"
          ],
          [
           "Antonio McDyess"
          ],
          [
           "Antonio Daniels"
          ],
          [
           "Antoine Wright"
          ],
          [
           "Anthony Tolliver"
          ],
          [
           "DeAndre Jordan"
          ],
          [
           "DeJuan Blair"
          ],
          [
           "Alexis Ajinca"
          ],
          [
           "DeMarcus Cousins"
          ],
          [
           "James Johnson"
          ],
          [
           "James Harden"
          ],
          [
           "James Anderson"
          ],
          [
           "Jameer Nelson"
          ],
          [
           "Jamario Moon"
          ],
          [
           "Jamal Crawford"
          ],
          [
           "Jamaal Magloire"
          ],
          [
           "JaVale McGee"
          ],
          [
           "JR Smith"
          ],
          [
           "JJ Redick"
          ],
          [
           "JJ Hickson"
          ],
          [
           "James Jones"
          ],
          [
           "J.J. Barea"
          ],
          [
           "Ime Udoka"
          ],
          [
           "Ike Diogu"
          ],
          [
           "Ian Mahinmi"
          ],
          [
           "Hilton Armstrong"
          ],
          [
           "Henry Walker"
          ],
          [
           "Hedo Turkoglu"
          ],
          [
           "Hassan Whiteside"
          ],
          [
           "Hasheem Thabeet"
          ],
          [
           "Hamed Haddadi"
          ],
          [
           "Hamady Ndiaye"
          ],
          [
           "Hakim Warrick"
          ],
          [
           "Ish Smith"
          ],
          [
           "James Posey"
          ],
          [
           "Jared Dudley"
          ],
          [
           "Jared Jeffries"
          ],
          [
           "DeMar DeRozan"
          ],
          [
           "Joe Johnson"
          ],
          [
           "Jodie Meeks"
          ],
          [
           "Joakim Noah"
          ],
          [
           "Jerryd Bayless"
          ],
          [
           "Jerry Stackhouse"
          ],
          [
           "Jermaine O'Neal"
          ],
          [
           "Jeremy Lin"
          ],
          [
           "Jeremy Evans"
          ],
          [
           "Jeff Teague"
          ],
          [
           "Jeff Green"
          ],
          [
           "Jeff Foster"
          ],
          [
           "Jeff Adrien"
          ],
          [
           "Jawad Williams"
          ],
          [
           "Jason Williams"
          ],
          [
           "Jason Thompson"
          ],
          [
           "Jason Terry"
          ],
          [
           "Jason Smith"
          ],
          [
           "Jason Richardson"
          ],
          [
           "Jason Maxiell"
          ],
          [
           "Jason Kidd"
          ],
          [
           "Jason Kapono"
          ],
          [
           "Jason Collins"
          ],
          [
           "Jarron Collins"
          ],
          [
           "Jarrett Jack"
          ],
          [
           "Greivis Vasquez"
          ],
          [
           "Greg Monroe"
          ],
          [
           "Jermaine Taylor"
          ],
          [
           "Gordon Hayward"
          ],
          [
           "Earl Clark"
          ],
          [
           "Earl Boykins"
          ],
          [
           "Earl Barron"
          ],
          [
           "Dwyane Wade"
          ],
          [
           "Dwight Howard"
          ],
          [
           "Drew Gooden"
          ],
          [
           "Dorell Wright"
          ],
          [
           "Donte Greene"
          ],
          [
           "Dominique Jones"
          ],
          [
           "Dominic McGuire"
          ],
          [
           "Dirk Nowitzki"
          ],
          [
           "Earl Watson"
          ],
          [
           "Dexter Pittman"
          ],
          [
           "Devin Ebanks"
          ],
          [
           "Derrick Rose"
          ],
          [
           "Derrick Favors"
          ],
          [
           "Derrick Caracter"
          ],
          [
           "Derrick Brown"
          ],
          [
           "Deron Williams"
          ],
          [
           "DeMarre Carroll"
          ],
          [
           "Delonte West"
          ],
          [
           "DeShawn Stevenson"
          ],
          [
           "DeSagana Diop"
          ],
          [
           "Grant Hill"
          ],
          [
           "Devin Harris"
          ],
          [
           "Ed Davis"
          ],
          [
           "Derek Fisher"
          ],
          [
           "Eduardo Najera"
          ],
          [
           "Eddie House"
          ],
          [
           "Glen Davis"
          ],
          [
           "Gilbert Arenas"
          ],
          [
           "Gerald Henderson"
          ],
          [
           "George Hill"
          ],
          [
           "Gary Neal"
          ],
          [
           "Gary Forbes"
          ],
          [
           "Garrett Temple"
          ],
          [
           "Garret Siler"
          ],
          [
           "Gani Lawal"
          ],
          [
           "Francisco Garcia"
          ],
          [
           "Gerald Wallace"
          ],
          [
           "Fabricio Oberto"
          ],
          [
           "Ekpe Udoh"
          ],
          [
           "Francisco Elson"
          ],
          [
           "Elton Brand"
          ],
          [
           "Emeka Okafor"
          ],
          [
           "Eric Bledsoe"
          ],
          [
           "Eric Gordon"
          ],
          [
           "Goran Dragic"
          ],
          [
           "Erick Dampier"
          ],
          [
           "Ersan Ilyasova"
          ],
          [
           "Etan Thomas"
          ],
          [
           "Eric Maynor"
          ],
          [
           "Evan Turner"
          ],
          [
           "Andre Miller"
          ],
          [
           "Chris Paul"
          ],
          [
           "Chris Kaman"
          ],
          [
           "Chris Johnson"
          ],
          [
           "Chris Duhon"
          ],
          [
           "Chris Bosh"
          ],
          [
           "AJ Price"
          ],
          [
           "Aaron Gray"
          ],
          [
           "Al Harrington"
          ],
          [
           "Al Horford"
          ],
          [
           "Alan Anderson"
          ],
          [
           "Al-Farouq Aminu"
          ],
          [
           "Alec Burks"
          ],
          [
           "Alonzo Gee"
          ],
          [
           "Amar'e Stoudemire"
          ],
          [
           "Anderson Varejao"
          ],
          [
           "Andray Blatche"
          ],
          [
           "Andre Emmett"
          ],
          [
           "Andrea Bargnani"
          ],
          [
           "Chris Singleton"
          ],
          [
           "Andre Iguodala"
          ],
          [
           "Al Jefferson"
          ],
          [
           "Amir Johnson"
          ],
          [
           "Craig Smith"
          ],
          [
           "Chris Wright"
          ],
          [
           "Danny Granger"
          ],
          [
           "Danilo Gallinari"
          ],
          [
           "Daniel Orton"
          ],
          [
           "Daniel Gibson"
          ],
          [
           "Dan Gadzuric"
          ],
          [
           "Damion James"
          ],
          [
           "Damien Wilkins"
          ],
          [
           "Dahntay Jones"
          ],
          [
           "Daequan Cook"
          ],
          [
           "DaJuan Summers"
          ],
          [
           "DJ White"
          ],
          [
           "D.J. Kennedy"
          ],
          [
           "D.J. Augustin"
          ],
          [
           "Craig Brackins"
          ],
          [
           "Courtney Lee"
          ],
          [
           "Courtney Fortson"
          ],
          [
           "Cory Joseph"
          ],
          [
           "Cory Higgins"
          ],
          [
           "Corey Maggette"
          ],
          [
           "Corey Brewer"
          ],
          [
           "Cole Aldrich"
          ],
          [
           "Chuck Hayes"
          ],
          [
           "Christian Eyenga"
          ],
          [
           "Chris Wilcox"
          ],
          [
           "Andres Nocioni"
          ],
          [
           "Brandan Wright"
          ],
          [
           "Andrew Bynum"
          ],
          [
           "Brendan Haywood"
          ],
          [
           "Brian Cardinal"
          ],
          [
           "Brian Cook"
          ],
          [
           "Brian Scalabrine"
          ],
          [
           "Brian Skinner"
          ],
          [
           "Brook Lopez"
          ],
          [
           "Byron Mullens"
          ],
          [
           "C.J. Watson"
          ],
          [
           "CJ Miles"
          ],
          [
           "Carl Landry"
          ],
          [
           "Brandon Rush"
          ],
          [
           "Carldell Johnson"
          ],
          [
           "Carlos Delfino"
          ],
          [
           "Carmelo Anthony"
          ],
          [
           "Caron Butler"
          ],
          [
           "Cartier Martin"
          ],
          [
           "Chandler Parsons"
          ],
          [
           "Channing Frye"
          ],
          [
           "Charles Jenkins"
          ],
          [
           "Chase Budinger"
          ],
          [
           "Danny Green"
          ],
          [
           "Charlie Villanueva"
          ],
          [
           "Carlos Boozer"
          ],
          [
           "Brandon Knight"
          ],
          [
           "Brandon Jennings"
          ],
          [
           "Brandon Bass"
          ],
          [
           "Andrew Goudelock"
          ],
          [
           "Andris Biedrins"
          ],
          [
           "Antawn Jamison"
          ],
          [
           "Anthony Carter"
          ],
          [
           "Anthony Morrow"
          ],
          [
           "Anthony Parker"
          ],
          [
           "Anthony Randolph"
          ],
          [
           "Anthony Tolliver"
          ],
          [
           "Armon Johnson"
          ],
          [
           "Arron Afflalo"
          ],
          [
           "Austin Daye"
          ],
          [
           "Avery Bradley"
          ],
          [
           "Baron Davis"
          ],
          [
           "Ben Gordon"
          ],
          [
           "Ben Uzoh"
          ],
          [
           "Ben Wallace"
          ],
          [
           "Beno Udrih"
          ],
          [
           "Bismack Biyombo"
          ],
          [
           "Blake Ahearn"
          ],
          [
           "Blake Griffin"
          ],
          [
           "Bobby Simmons"
          ],
          [
           "Boris Diaw"
          ],
          [
           "Brad Miller"
          ],
          [
           "Andrew Bogut"
          ],
          [
           "Dante Cunningham"
          ],
          [
           "Ersan Ilyasova"
          ],
          [
           "Darius Morris"
          ],
          [
           "Hamed Haddadi"
          ],
          [
           "Hamady Ndiaye"
          ],
          [
           "Hakim Warrick"
          ],
          [
           "Gustavo Ayon"
          ],
          [
           "Greivis Vasquez"
          ],
          [
           "Greg Stiemsma"
          ],
          [
           "Greg Smith"
          ],
          [
           "Greg Monroe"
          ],
          [
           "Grant Hill"
          ],
          [
           "Gordon Hayward"
          ],
          [
           "Hasheem Thabeet"
          ],
          [
           "Goran Dragic"
          ],
          [
           "Gilbert Arenas"
          ],
          [
           "Gerald Wallace"
          ],
          [
           "Gerald Henderson"
          ],
          [
           "Gerald Green"
          ],
          [
           "George Hill"
          ],
          [
           "Gary Neal"
          ],
          [
           "Gary Forbes"
          ],
          [
           "Francisco Garcia"
          ],
          [
           "Francisco Elson"
          ],
          [
           "Evan Turner"
          ],
          [
           "Glen Davis"
          ],
          [
           "Hassan Whiteside"
          ],
          [
           "Hedo Turkoglu"
          ],
          [
           "Henry Walker"
          ],
          [
           "Chris Andersen"
          ],
          [
           "James Singleton"
          ],
          [
           "James Jones"
          ],
          [
           "James Johnson"
          ],
          [
           "James Harden"
          ],
          [
           "James Anderson"
          ],
          [
           "Jameer Nelson"
          ],
          [
           "Jamario Moon"
          ],
          [
           "Jamal Crawford"
          ],
          [
           "Jamaal Tinsley"
          ],
          [
           "Jamaal Magloire"
          ],
          [
           "JaVale McGee"
          ],
          [
           "JaJuan Johnson"
          ],
          [
           "JR Smith"
          ],
          [
           "JJ Redick"
          ],
          [
           "JJ Hickson"
          ],
          [
           "J.J. Barea"
          ],
          [
           "Ivan Johnson"
          ],
          [
           "Ish Smith"
          ],
          [
           "Isaiah Thomas"
          ],
          [
           "Iman Shumpert"
          ],
          [
           "Ike Diogu"
          ],
          [
           "Ian Mahinmi"
          ],
          [
           "Erick Dampier"
          ],
          [
           "Darington Hobson"
          ],
          [
           "Eric Maynor"
          ],
          [
           "Eric Dawson"
          ],
          [
           "Derrick Williams"
          ],
          [
           "Derrick Rose"
          ],
          [
           "Derrick Favors"
          ],
          [
           "Derrick Byars"
          ],
          [
           "Derrick Brown"
          ],
          [
           "Deron Williams"
          ],
          [
           "Derek Fisher"
          ],
          [
           "Dennis Horner"
          ],
          [
           "Delonte West"
          ],
          [
           "DeShawn Stevenson"
          ],
          [
           "Devin Ebanks"
          ],
          [
           "DeSagana Diop"
          ],
          [
           "DeMarcus Cousins"
          ],
          [
           "DeMar DeRozan"
          ],
          [
           "DeJuan Blair"
          ],
          [
           "DeAndre Liggins"
          ],
          [
           "DeAndre Jordan"
          ],
          [
           "David West"
          ],
          [
           "David Lee"
          ],
          [
           "Darryl Watkins"
          ],
          [
           "Darren Collison"
          ],
          [
           "Darko Milicic"
          ],
          [
           "DeMarre Carroll"
          ],
          [
           "Devin Harris"
          ],
          [
           "Dexter Pittman"
          ],
          [
           "Dirk Nowitzki"
          ],
          [
           "Eric Bledsoe"
          ],
          [
           "Enes Kanter"
          ],
          [
           "Emeka Okafor"
          ],
          [
           "Elton Brand"
          ],
          [
           "Elliot Williams"
          ],
          [
           "Ekpe Udoh"
          ],
          [
           "Edwin Ubiles"
          ],
          [
           "Eduardo Najera"
          ],
          [
           "Eddy Curry"
          ],
          [
           "Ed Davis"
          ],
          [
           "Earl Watson"
          ],
          [
           "Earl Clark"
          ],
          [
           "Earl Boykins"
          ],
          [
           "Earl Barron"
          ],
          [
           "E'Twaun Moore"
          ],
          [
           "Dwyane Wade"
          ],
          [
           "Dwight Howard"
          ],
          [
           "Drew Gooden"
          ],
          [
           "Dorell Wright"
          ],
          [
           "Donte Greene"
          ],
          [
           "Donald Sloan"
          ],
          [
           "Dominique Jones"
          ],
          [
           "Dominic McGuire"
          ],
          [
           "Eric Gordon"
          ],
          [
           "Chauncey Billups"
          ],
          [
           "Kevin Seraphin"
          ],
          [
           "Jared Jeffries"
          ],
          [
           "Ray Allen"
          ],
          [
           "Raymond Felton"
          ],
          [
           "Reggie Evans"
          ],
          [
           "Reggie Jackson"
          ],
          [
           "Reggie Williams"
          ],
          [
           "Renaldo Balkman"
          ],
          [
           "Richard Hamilton"
          ],
          [
           "Richard Jefferson"
          ],
          [
           "Ricky Rubio"
          ],
          [
           "Robin Lopez"
          ],
          [
           "Rodney Stuckey"
          ],
          [
           "Rodrigue Beaubois"
          ],
          [
           "Roger Mason Jr."
          ],
          [
           "Ronnie Brewer"
          ],
          [
           "Ronnie Price"
          ],
          [
           "Ronny Turiaf"
          ],
          [
           "Roy Hibbert"
          ],
          [
           "Royal Ivey"
          ],
          [
           "Rudy Fernandez"
          ],
          [
           "Rudy Gay"
          ],
          [
           "Russell Westbrook"
          ],
          [
           "Ryan Anderson"
          ],
          [
           "Ryan Gomes"
          ],
          [
           "Ryan Hollins"
          ],
          [
           "Ryan Reid"
          ],
          [
           "Sam Young"
          ],
          [
           "Samardo Samuels"
          ],
          [
           "Samuel Dalembert"
          ],
          [
           "Sasha Pavlovic"
          ],
          [
           "Rasual Butler"
          ],
          [
           "Rashard Lewis"
          ],
          [
           "Randy Foye"
          ],
          [
           "Ramon Sessions"
          ],
          [
           "Mike Miller"
          ],
          [
           "Mikki Moore"
          ],
          [
           "Mo Williams"
          ],
          [
           "Monta Ellis"
          ],
          [
           "Morris Almond"
          ],
          [
           "Mychel Thompson"
          ],
          [
           "Nate Robinson"
          ],
          [
           "Nazr Mohammed"
          ],
          [
           "Nene"
          ],
          [
           "Nick Collison"
          ],
          [
           "Nick Young"
          ],
          [
           "Nicolas Batum"
          ],
          [
           "Nikola Pekovic"
          ],
          [
           "Nikola Vucevic"
          ],
          [
           "Sean Williams"
          ],
          [
           "Nolan Smith"
          ],
          [
           "O.J. Mayo"
          ],
          [
           "Omer Asik"
          ],
          [
           "Omri Casspi"
          ],
          [
           "Patrick Patterson"
          ],
          [
           "Patty Mills"
          ],
          [
           "Pau Gasol"
          ],
          [
           "Jared Dudley"
          ],
          [
           "Paul George"
          ],
          [
           "Paul Millsap"
          ],
          [
           "Paul Pierce"
          ],
          [
           "Quentin Richardson"
          ],
          [
           "Quincy Pondexter"
          ],
          [
           "Raja Bell"
          ],
          [
           "Rajon Rondo"
          ],
          [
           "Norris Cole"
          ],
          [
           "Sebastian Telfair"
          ],
          [
           "Semih Erden"
          ],
          [
           "Serge Ibaka"
          ],
          [
           "Trevor Ariza"
          ],
          [
           "Trevor Booker"
          ],
          [
           "Trey Johnson"
          ],
          [
           "Trey Thompkins"
          ],
          [
           "Tristan Thompson"
          ],
          [
           "Troy Murphy"
          ],
          [
           "Ty Lawson"
          ],
          [
           "Tyler Hansbrough"
          ],
          [
           "Tyler Honeycutt"
          ],
          [
           "Tyreke Evans"
          ],
          [
           "Tyrus Thomas"
          ],
          [
           "Tyson Chandler"
          ],
          [
           "Udonis Haslem"
          ],
          [
           "Vernon Macklin"
          ],
          [
           "Travis Outlaw"
          ],
          [
           "Vince Carter"
          ],
          [
           "Von Wafer"
          ],
          [
           "Walker Russell"
          ],
          [
           "Wayne Ellington"
          ],
          [
           "Wesley Johnson"
          ],
          [
           "Wesley Matthews"
          ],
          [
           "Will Bynum"
          ],
          [
           "Willie Green"
          ],
          [
           "Wilson Chandler"
          ],
          [
           "Xavier Henry"
          ],
          [
           "Xavier Silas"
          ],
          [
           "Yi Jianlian"
          ],
          [
           "Zach Randolph"
          ],
          [
           "Zaza Pachulia"
          ],
          [
           "Jan Vesely"
          ],
          [
           "Vladimir Radmanovic"
          ],
          [
           "Mike James"
          ],
          [
           "Travis Leslie"
          ],
          [
           "Tony Parker"
          ],
          [
           "Shane Battier"
          ],
          [
           "Shannon Brown"
          ],
          [
           "Shaun Livingston"
          ],
          [
           "Shawn Marion"
          ],
          [
           "Shawne Williams"
          ],
          [
           "Shelden Williams"
          ],
          [
           "Shelvin Mack"
          ],
          [
           "Solomon Alabi"
          ],
          [
           "Solomon Jones"
          ],
          [
           "Spencer Hawes"
          ],
          [
           "Stephen Curry"
          ],
          [
           "Stephen Jackson"
          ],
          [
           "Steve Blake"
          ],
          [
           "Steve Nash"
          ],
          [
           "Tracy McGrady"
          ],
          [
           "Steve Novak"
          ],
          [
           "T.J. Ford"
          ],
          [
           "Taj Gibson"
          ],
          [
           "Tayshaun Prince"
          ],
          [
           "Terrel Harris"
          ],
          [
           "Terrence Williams"
          ],
          [
           "Thabo Sefolosha"
          ],
          [
           "Thaddeus Young"
          ],
          [
           "Tiago Splitter"
          ],
          [
           "Tim Duncan"
          ],
          [
           "Timofey Mozgov"
          ],
          [
           "Tobias Harris"
          ],
          [
           "Toney Douglas"
          ],
          [
           "Tony Allen"
          ],
          [
           "Tony Battie"
          ],
          [
           "Sundiata Gaines"
          ],
          [
           "Mike Dunleavy"
          ],
          [
           "Jannero Pargo"
          ],
          [
           "Mike Bibby"
          ],
          [
           "Jeremy Lin"
          ],
          [
           "Jeremy Pargo"
          ],
          [
           "Jeremy Tyler"
          ],
          [
           "Jermaine O'Neal"
          ],
          [
           "Jerome Dyson"
          ],
          [
           "Jerome Jordan"
          ],
          [
           "Jerry Smith"
          ],
          [
           "Jerry Stackhouse"
          ],
          [
           "Jerryd Bayless"
          ],
          [
           "Jimmer Fredette"
          ],
          [
           "Jimmy Butler"
          ],
          [
           "Joakim Noah"
          ],
          [
           "Jodie Meeks"
          ],
          [
           "Joe Johnson"
          ],
          [
           "Joel Anthony"
          ],
          [
           "Joel Przybilla"
          ],
          [
           "Johan Petro"
          ],
          [
           "John Lucas III"
          ],
          [
           "John Salmons"
          ],
          [
           "John Wall"
          ],
          [
           "Jon Brockman"
          ],
          [
           "Jon Leuer"
          ],
          [
           "Jonas Jerebko"
          ],
          [
           "Jonny Flynn"
          ],
          [
           "Jordan Crawford"
          ],
          [
           "Jordan Farmar"
          ],
          [
           "Jordan Hamilton"
          ],
          [
           "Jordan Hill"
          ],
          [
           "Jordan Williams"
          ],
          [
           "Jeremy Evans"
          ],
          [
           "Jeff Teague"
          ],
          [
           "Jeff Foster"
          ],
          [
           "Jeff Foote"
          ],
          [
           "Mickael Pietrus"
          ],
          [
           "Michael Redd"
          ],
          [
           "Michael Beasley"
          ],
          [
           "Metta World Peace"
          ],
          [
           "Mehmet Okur"
          ],
          [
           "Maurice Evans"
          ],
          [
           "Matt Carroll"
          ],
          [
           "Matt Bonner"
          ],
          [
           "Matt Barnes"
          ],
          [
           "Marvin Williams"
          ],
          [
           "Martell Webster"
          ],
          [
           "Marreese Speights"
          ],
          [
           "Marquis Daniels"
          ],
          [
           "Markieff Morris"
          ],
          [
           "Jose Calderon"
          ],
          [
           "Mario Chalmers"
          ],
          [
           "Marcus Morris"
          ],
          [
           "Marcus Camby"
          ],
          [
           "Marco Belinelli"
          ],
          [
           "Marcin Gortat"
          ],
          [
           "Marc Gasol"
          ],
          [
           "Jason Collins"
          ],
          [
           "Jason Kapono"
          ],
          [
           "Jason Kidd"
          ],
          [
           "Jason Maxiell"
          ],
          [
           "Jason Smith"
          ],
          [
           "Jason Terry"
          ],
          [
           "Jason Thompson"
          ],
          [
           "Jeff Adrien"
          ],
          [
           "Jeff Ayres"
          ],
          [
           "Marcus Thornton"
          ],
          [
           "Josh Childress"
          ],
          [
           "Jason Richardson"
          ],
          [
           "Josh Harrellson"
          ],
          [
           "Lance Stephenson"
          ],
          [
           "Lance Thomas"
          ],
          [
           "Landry Fields"
          ],
          [
           "Larry Hughes"
          ],
          [
           "Leandro Barbosa"
          ],
          [
           "Larry Owens"
          ],
          [
           "Larry Sanders"
          ],
          [
           "Lavoy Allen"
          ],
          [
           "Lazar Hayward"
          ],
          [
           "Lester Hudson"
          ],
          [
           "Linas Kleiza"
          ],
          [
           "LeBron James"
          ],
          [
           "Lou Amundson"
          ],
          [
           "Lou Williams"
          ],
          [
           "Lamar Odom"
          ],
          [
           "Luc Mbah a Moute"
          ],
          [
           "Luke Babbitt"
          ],
          [
           "Luke Harangody"
          ],
          [
           "Luke Ridnour"
          ],
          [
           "Luke Walton"
          ],
          [
           "Luol Deng"
          ],
          [
           "Malcolm Lee"
          ],
          [
           "Malcolm Thomas"
          ],
          [
           "Manny Harris"
          ],
          [
           "Manu Ginobili"
          ],
          [
           "MarShon Brooks"
          ],
          [
           "Mike Conley"
          ],
          [
           "Jarrett Jack"
          ],
          [
           "Josh Davis"
          ],
          [
           "Mickell Gladness"
          ],
          [
           "Luis Scola"
          ],
          [
           "Kyrylo Fesenko"
          ],
          [
           "LaMarcus Aldridge"
          ],
          [
           "Kendrick Perkins"
          ],
          [
           "Josh Selby"
          ],
          [
           "Josh Smith"
          ],
          [
           "Jrue Holiday"
          ],
          [
           "Julyan Stone"
          ],
          [
           "Justin Dentmon"
          ],
          [
           "Justin Harper"
          ],
          [
           "Juwan Howard"
          ],
          [
           "Kawhi Leonard"
          ],
          [
           "Keith Benson"
          ],
          [
           "Keith Bogans"
          ],
          [
           "Kelenna Azubuike"
          ],
          [
           "Kemba Walker"
          ],
          [
           "Kyrie Irving"
          ],
          [
           "Kenneth Faried"
          ],
          [
           "Kenyon Martin"
          ],
          [
           "Kevin Durant"
          ],
          [
           "Kevin Garnett"
          ],
          [
           "Kevin Love"
          ],
          [
           "Kevin Martin"
          ],
          [
           "Keyon Dooling"
          ],
          [
           "Kirk Hinrich"
          ],
          [
           "Klay Thompson"
          ],
          [
           "Kobe Bryant"
          ],
          [
           "Kosta Koufos"
          ],
          [
           "Kris Humphries"
          ],
          [
           "Kurt Thomas"
          ],
          [
           "Kwame Brown"
          ],
          [
           "Kyle Korver"
          ],
          [
           "Kyle Lowry"
          ],
          [
           "Josh McRoberts"
          ],
          [
           "Josh Howard"
          ],
          [
           "Nolan Smith"
          ],
          [
           "Nikola Vucevic"
          ],
          [
           "Norris Cole"
          ],
          [
           "Ray Allen"
          ],
          [
           "Omer Asik"
          ],
          [
           "Reggie Jackson"
          ],
          [
           "Reggie Evans"
          ],
          [
           "Raymond Felton"
          ],
          [
           "Rasheed Wallace"
          ],
          [
           "Randy Foye"
          ],
          [
           "Ramon Sessions"
          ],
          [
           "Rajon Rondo"
          ],
          [
           "Quincy Pondexter"
          ],
          [
           "Quincy Miller"
          ],
          [
           "Quincy Acy"
          ],
          [
           "Quentin Richardson"
          ],
          [
           "Perry Jones III"
          ],
          [
           "Paul Pierce"
          ],
          [
           "Paul Millsap"
          ],
          [
           "Paul George"
          ],
          [
           "Pau Gasol"
          ],
          [
           "Patty Mills"
          ],
          [
           "Patrick Patterson"
          ],
          [
           "Patrick Beverley"
          ],
          [
           "Pablo Prigioni"
          ],
          [
           "PJ Tucker"
          ],
          [
           "Orlando Johnson"
          ],
          [
           "Omri Casspi"
          ],
          [
           "O.J. Mayo"
          ],
          [
           "Nikola Pekovic"
          ],
          [
           "Metta World Peace"
          ],
          [
           "Nick Young"
          ],
          [
           "Marquis Daniels"
          ],
          [
           "Markieff Morris"
          ],
          [
           "Mario Chalmers"
          ],
          [
           "Marcus Thornton"
          ],
          [
           "Marcus Morris"
          ],
          [
           "Marcus Camby"
          ],
          [
           "Marco Belinelli"
          ],
          [
           "Marcin Gortat"
          ],
          [
           "Marc Gasol"
          ],
          [
           "MarShon Brooks"
          ],
          [
           "Marquis Teague"
          ],
          [
           "Manu Ginobili"
          ],
          [
           "Malcolm Lee"
          ],
          [
           "Maalik Wayns"
          ],
          [
           "Luol Deng"
          ],
          [
           "Luke Zeller"
          ],
          [
           "Luke Walton"
          ],
          [
           "Luke Ridnour"
          ],
          [
           "Luke Babbitt"
          ],
          [
           "Luis Scola"
          ],
          [
           "Luc Mbah a Moute"
          ],
          [
           "Reggie Williams"
          ],
          [
           "Malcolm Thomas"
          ],
          [
           "Marreese Speights"
          ],
          [
           "Martell Webster"
          ],
          [
           "Marvin Williams"
          ],
          [
           "Nick Collison"
          ],
          [
           "Nene"
          ],
          [
           "Nazr Mohammed"
          ],
          [
           "Nate Robinson"
          ],
          [
           "Nando De Colo"
          ],
          [
           "Monta Ellis"
          ],
          [
           "Mo Williams"
          ],
          [
           "Mirza Teletovic"
          ],
          [
           "Miles Plumlee"
          ],
          [
           "Mike Scott"
          ],
          [
           "Mike Miller"
          ],
          [
           "Mike James"
          ],
          [
           "Mike Dunleavy"
          ],
          [
           "Mike Conley"
          ],
          [
           "Mickael Pietrus"
          ],
          [
           "Mickael Gelabale"
          ],
          [
           "Michael Kidd-Gilchrist"
          ],
          [
           "Michael Beasley"
          ],
          [
           "Meyers Leonard"
          ],
          [
           "Maurice Harkless"
          ],
          [
           "Matt Carroll"
          ],
          [
           "Matt Bonner"
          ],
          [
           "Matt Barnes"
          ],
          [
           "Nicolas Batum"
          ],
          [
           "Richard Hamilton"
          ],
          [
           "Tiago Splitter"
          ],
          [
           "Ricky Rubio"
          ],
          [
           "Tyler Hansbrough"
          ],
          [
           "Ty Lawson"
          ],
          [
           "Troy Murphy"
          ],
          [
           "Tristan Thompson"
          ],
          [
           "Trevor Booker"
          ],
          [
           "Trevor Ariza"
          ],
          [
           "Travis Outlaw"
          ],
          [
           "Tornike Shengelia"
          ],
          [
           "Tony Wroten"
          ],
          [
           "Tony Parker"
          ],
          [
           "Tony Allen"
          ],
          [
           "Toney Douglas"
          ],
          [
           "Tobias Harris"
          ],
          [
           "Timofey Mozgov"
          ],
          [
           "Tim Ohlbrecht"
          ],
          [
           "Tim Duncan"
          ],
          [
           "Lou Williams"
          ],
          [
           "Tyler Honeycutt"
          ],
          [
           "Tyler Zeller"
          ],
          [
           "Tyreke Evans"
          ],
          [
           "Tyrus Thomas"
          ],
          [
           "Zaza Pachulia"
          ],
          [
           "Zach Randolph"
          ],
          [
           "Xavier Henry"
          ],
          [
           "Wilson Chandler"
          ],
          [
           "Willie Green"
          ],
          [
           "Will Conroy"
          ],
          [
           "Will Bynum"
          ],
          [
           "Will Barton"
          ],
          [
           "Thomas Robinson"
          ],
          [
           "Wesley Matthews"
          ],
          [
           "Wayne Ellington"
          ],
          [
           "Vladimir Radmanovic"
          ],
          [
           "Vince Carter"
          ],
          [
           "Victor Claver"
          ],
          [
           "Viacheslav Kravtsov"
          ],
          [
           "Udonis Haslem"
          ],
          [
           "Tyson Chandler"
          ],
          [
           "Tyshawn Taylor"
          ],
          [
           "Wesley Johnson"
          ],
          [
           "Richard Jefferson"
          ],
          [
           "Thaddeus Young"
          ],
          [
           "Terrence Williams"
          ],
          [
           "Samuel Dalembert"
          ],
          [
           "Samardo Samuels"
          ],
          [
           "Sam Young"
          ],
          [
           "Ryan Hollins"
          ],
          [
           "Ryan Anderson"
          ],
          [
           "Russell Westbrook"
          ],
          [
           "Rudy Gay"
          ],
          [
           "Royal Ivey"
          ],
          [
           "Roy Hibbert"
          ],
          [
           "Ronny Turiaf"
          ],
          [
           "Ronnie Price"
          ],
          [
           "Ronnie Brewer"
          ],
          [
           "Roger Mason Jr."
          ],
          [
           "Rodrigue Beaubois"
          ],
          [
           "Rodney Stuckey"
          ],
          [
           "Robin Lopez"
          ],
          [
           "Robert Sacre"
          ],
          [
           "Sasha Pavlovic"
          ],
          [
           "Scott Machado"
          ],
          [
           "Sebastian Telfair"
          ],
          [
           "Serge Ibaka"
          ],
          [
           "Terrence Ross"
          ],
          [
           "Terrence Jones"
          ],
          [
           "Terrel Harris"
          ],
          [
           "Tayshaun Prince"
          ],
          [
           "Taj Gibson"
          ],
          [
           "Steve Novak"
          ],
          [
           "Steve Nash"
          ],
          [
           "Steve Blake"
          ],
          [
           "Thabo Sefolosha"
          ],
          [
           "Stephen Jackson"
          ],
          [
           "Spencer Hawes"
          ],
          [
           "Solomon Jones"
          ],
          [
           "Shelvin Mack"
          ],
          [
           "Shawn Marion"
          ],
          [
           "Shavlik Randolph"
          ],
          [
           "Shaun Livingston"
          ],
          [
           "Shannon Brown"
          ],
          [
           "Shane Battier"
          ],
          [
           "Stephen Curry"
          ],
          [
           "Lou Amundson"
          ],
          [
           "Rashard Lewis"
          ],
          [
           "Leandro Barbosa"
          ],
          [
           "Daniel Orton"
          ],
          [
           "Danilo Gallinari"
          ],
          [
           "Danny Granger"
          ],
          [
           "Danny Green"
          ],
          [
           "Dante Cunningham"
          ],
          [
           "Darius Johnson-Odom"
          ],
          [
           "Daniel Gibson"
          ],
          [
           "Darius Miller"
          ],
          [
           "Darko Milicic"
          ],
          [
           "Darrell Arthur"
          ],
          [
           "Darren Collison"
          ],
          [
           "David Lee"
          ],
          [
           "David West"
          ],
          [
           "DeAndre Jordan"
          ],
          [
           "Darius Morris"
          ],
          [
           "Damion James"
          ],
          [
           "Damien Wilkins"
          ],
          [
           "Damian Lillard"
          ],
          [
           "Chris Singleton"
          ],
          [
           "Chris Wilcox"
          ],
          [
           "Chris Wright"
          ],
          [
           "Chuck Hayes"
          ],
          [
           "Cole Aldrich"
          ],
          [
           "Corey Brewer"
          ],
          [
           "Corey Maggette"
          ],
          [
           "Cory Higgins"
          ],
          [
           "Cory Joseph"
          ],
          [
           "Courtney Lee"
          ],
          [
           "D.J. Augustin"
          ],
          [
           "DJ White"
          ],
          [
           "DaJuan Summers"
          ],
          [
           "Daequan Cook"
          ],
          [
           "Dahntay Jones"
          ],
          [
           "DeAndre Liggins"
          ],
          [
           "DeJuan Blair"
          ],
          [
           "DeMar DeRozan"
          ],
          [
           "DeMarcus Cousins"
          ],
          [
           "Doron Lamb"
          ],
          [
           "Draymond Green"
          ],
          [
           "Drew Gooden"
          ],
          [
           "Dwight Howard"
          ],
          [
           "Dwyane Wade"
          ],
          [
           "E'Twaun Moore"
          ],
          [
           "Earl Barron"
          ],
          [
           "Earl Clark"
          ],
          [
           "Earl Watson"
          ],
          [
           "Ed Davis"
          ],
          [
           "Eddy Curry"
          ],
          [
           "Ekpe Udoh"
          ],
          [
           "Elton Brand"
          ],
          [
           "Emeka Okafor"
          ],
          [
           "Enes Kanter"
          ],
          [
           "Dorell Wright"
          ],
          [
           "Chris Quinn"
          ],
          [
           "Donatas Motiejunas"
          ],
          [
           "Dominique Jones"
          ],
          [
           "DeMarre Carroll"
          ],
          [
           "DeQuan Jones"
          ],
          [
           "DeSagana Diop"
          ],
          [
           "DeShawn Stevenson"
          ],
          [
           "Derek Fisher"
          ],
          [
           "Deron Williams"
          ],
          [
           "Derrick Favors"
          ],
          [
           "Derrick Williams"
          ],
          [
           "Devin Ebanks"
          ],
          [
           "Devin Harris"
          ],
          [
           "Dexter Pittman"
          ],
          [
           "Diante Garrett"
          ],
          [
           "Dion Waiters"
          ],
          [
           "Dirk Nowitzki"
          ],
          [
           "Dominic McGuire"
          ],
          [
           "Donald Sloan"
          ],
          [
           "Chris Paul"
          ],
          [
           "Chris Kaman"
          ],
          [
           "Chris Johnson"
          ],
          [
           "Andrei Kirilenko"
          ],
          [
           "Andrew Bogut"
          ],
          [
           "Andrew Goudelock"
          ],
          [
           "Andrew Nicholson"
          ],
          [
           "Andris Biedrins"
          ],
          [
           "Antawn Jamison"
          ],
          [
           "Anthony Davis"
          ],
          [
           "Anthony Morrow"
          ],
          [
           "Anthony Randolph"
          ],
          [
           "Anthony Tolliver"
          ],
          [
           "Arnett Moultrie"
          ],
          [
           "Aron Baynes"
          ],
          [
           "Arron Afflalo"
          ],
          [
           "Austin Daye"
          ],
          [
           "Austin Rivers"
          ],
          [
           "Andrea Bargnani"
          ],
          [
           "Avery Bradley"
          ],
          [
           "Andre Miller"
          ],
          [
           "Andre Drummond"
          ],
          [
           "AJ Price"
          ],
          [
           "Aaron Brooks"
          ],
          [
           "Aaron Gray"
          ],
          [
           "Al Harrington"
          ],
          [
           "Al Horford"
          ],
          [
           "Al Jefferson"
          ],
          [
           "Al-Farouq Aminu"
          ],
          [
           "Alan Anderson"
          ],
          [
           "Alec Burks"
          ],
          [
           "Alexey Shved"
          ],
          [
           "Alonzo Gee"
          ],
          [
           "Amar'e Stoudemire"
          ],
          [
           "Amir Johnson"
          ],
          [
           "Anderson Varejao"
          ],
          [
           "Andray Blatche"
          ],
          [
           "Andre Iguodala"
          ],
          [
           "Eric Bledsoe"
          ],
          [
           "Ben Gordon"
          ],
          [
           "Beno Udrih"
          ],
          [
           "Carlos Delfino"
          ],
          [
           "Carmelo Anthony"
          ],
          [
           "Caron Butler"
          ],
          [
           "Cartier Martin"
          ],
          [
           "Chandler Parsons"
          ],
          [
           "Charles Jenkins"
          ],
          [
           "Charlie Villanueva"
          ],
          [
           "Chase Budinger"
          ],
          [
           "Chauncey Billups"
          ],
          [
           "Chris Andersen"
          ],
          [
           "Chris Bosh"
          ],
          [
           "Chris Copeland"
          ],
          [
           "Linas Kleiza"
          ],
          [
           "Chris Duhon"
          ],
          [
           "Chris Johnson"
          ],
          [
           "Carlos Boozer"
          ],
          [
           "Ben Hansbrough"
          ],
          [
           "Carl Landry"
          ],
          [
           "C.J. Watson"
          ],
          [
           "Bernard James"
          ],
          [
           "Bismack Biyombo"
          ],
          [
           "Blake Griffin"
          ],
          [
           "Boris Diaw"
          ],
          [
           "Bradley Beal"
          ],
          [
           "Brandan Wright"
          ],
          [
           "Brandon Bass"
          ],
          [
           "Brandon Jennings"
          ],
          [
           "Brandon Knight"
          ],
          [
           "Brandon Roy"
          ],
          [
           "Brandon Rush"
          ],
          [
           "Brendan Haywood"
          ],
          [
           "Brian Roberts"
          ],
          [
           "Brook Lopez"
          ],
          [
           "Byron Mullens"
          ],
          [
           "CJ Miles"
          ],
          [
           "Eric Gordon"
          ],
          [
           "Chris Douglas-Roberts"
          ],
          [
           "Ersan Ilyasova"
          ],
          [
           "Josh Akognon"
          ],
          [
           "Josh Childress"
          ],
          [
           "Josh Harrellson"
          ],
          [
           "Josh Howard"
          ],
          [
           "Josh McRoberts"
          ],
          [
           "Josh Selby"
          ],
          [
           "Jose Calderon"
          ],
          [
           "Josh Smith"
          ],
          [
           "Julyan Stone"
          ],
          [
           "Justin Dentmon"
          ],
          [
           "Justin Holiday"
          ],
          [
           "Juwan Howard"
          ],
          [
           "Kawhi Leonard"
          ],
          [
           "Keith Bogans"
          ],
          [
           "Jrue Holiday"
          ],
          [
           "Jordan Hill"
          ],
          [
           "Jordan Hamilton"
          ],
          [
           "Jordan Crawford"
          ],
          [
           "Joakim Noah"
          ],
          [
           "Jodie Meeks"
          ],
          [
           "Joe Johnson"
          ],
          [
           "Joel Anthony"
          ],
          [
           "Joel Freeland"
          ],
          [
           "Joel Przybilla"
          ],
          [
           "Johan Petro"
          ],
          [
           "John Henson"
          ],
          [
           "John Jenkins"
          ],
          [
           "John Lucas III"
          ],
          [
           "John Salmons"
          ],
          [
           "John Wall"
          ],
          [
           "Jon Leuer"
          ],
          [
           "Jonas Jerebko"
          ],
          [
           "Jonas Valanciunas"
          ],
          [
           "Kemba Walker"
          ],
          [
           "Kendall Marshall"
          ],
          [
           "Kenneth Faried"
          ],
          [
           "Kent Bazemore"
          ],
          [
           "Kyle Korver"
          ],
          [
           "Kyle Lowry"
          ],
          [
           "Kyle O'Quinn"
          ],
          [
           "Kyle Singler"
          ],
          [
           "Kyrie Irving"
          ],
          [
           "LaMarcus Aldridge"
          ],
          [
           "Lamar Odom"
          ],
          [
           "Lance Stephenson"
          ],
          [
           "Lance Thomas"
          ],
          [
           "Landry Fields"
          ],
          [
           "Larry Sanders"
          ],
          [
           "Lavoy Allen"
          ],
          [
           "Eric Maynor"
          ],
          [
           "LeBron James"
          ],
          [
           "Lazar Hayward"
          ],
          [
           "Kwame Brown"
          ],
          [
           "Jimmy Butler"
          ],
          [
           "Kurt Thomas"
          ],
          [
           "Kris Humphries"
          ],
          [
           "Kenyon Martin"
          ],
          [
           "Kevin Durant"
          ],
          [
           "Kevin Garnett"
          ],
          [
           "Kevin Jones"
          ],
          [
           "Kevin Love"
          ],
          [
           "Kevin Martin"
          ],
          [
           "Kevin Murphy"
          ],
          [
           "Kevin Seraphin"
          ],
          [
           "Keyon Dooling"
          ],
          [
           "Khris Middleton"
          ],
          [
           "Kim English"
          ],
          [
           "Kirk Hinrich"
          ],
          [
           "Klay Thompson"
          ],
          [
           "Kobe Bryant"
          ],
          [
           "Kosta Koufos"
          ],
          [
           "Kris Joseph"
          ],
          [
           "Jimmer Fredette"
          ],
          [
           "Kendrick Perkins"
          ],
          [
           "Jerry Stackhouse"
          ],
          [
           "Hakim Warrick"
          ],
          [
           "Hamed Haddadi"
          ],
          [
           "Harrison Barnes"
          ],
          [
           "Hasheem Thabeet"
          ],
          [
           "Hedo Turkoglu"
          ],
          [
           "Henry Sims"
          ],
          [
           "Gustavo Ayon"
          ],
          [
           "Ian Mahinmi"
          ],
          [
           "Isaiah Thomas"
          ],
          [
           "Ish Smith"
          ],
          [
           "Ivan Johnson"
          ],
          [
           "J.J. Barea"
          ],
          [
           "JJ Hickson"
          ],
          [
           "JJ Redick"
          ],
          [
           "Iman Shumpert"
          ],
          [
           "Greg Stiemsma"
          ],
          [
           "Greg Smith"
          ],
          [
           "Greg Monroe"
          ],
          [
           "Evan Turner"
          ],
          [
           "Fab Melo"
          ],
          [
           "Jerryd Bayless"
          ],
          [
           "Festus Ezeli"
          ],
          [
           "Francisco Garcia"
          ],
          [
           "Garrett Temple"
          ],
          [
           "Gary Neal"
          ],
          [
           "George Hill"
          ],
          [
           "Gerald Green"
          ],
          [
           "Gerald Henderson"
          ],
          [
           "Gerald Wallace"
          ],
          [
           "Glen Davis"
          ],
          [
           "Goran Dragic"
          ],
          [
           "Gordon Hayward"
          ],
          [
           "Grant Hill"
          ],
          [
           "JR Smith"
          ],
          [
           "JaVale McGee"
          ],
          [
           "Greivis Vasquez"
          ],
          [
           "Evan Fournier"
          ],
          [
           "Jason Richardson"
          ],
          [
           "Jason Smith"
          ],
          [
           "Jason Terry"
          ],
          [
           "Jason Thompson"
          ],
          [
           "Jeff Adrien"
          ],
          [
           "Jeff Green"
          ],
          [
           "Jeff Teague"
          ],
          [
           "Jeffery Taylor"
          ],
          [
           "Jeremy Evans"
          ],
          [
           "Jeremy Lamb"
          ],
          [
           "Jeremy Lin"
          ],
          [
           "Jeremy Pargo"
          ],
          [
           "Jae Crowder"
          ],
          [
           "Jeremy Tyler"
          ],
          [
           "Jermaine O'Neal"
          ],
          [
           "Jason Maxiell"
          ],
          [
           "Jason Kidd"
          ],
          [
           "Jeff Ayres"
          ],
          [
           "Jason Collins"
          ],
          [
           "Jamal Crawford"
          ],
          [
           "Jameer Nelson"
          ],
          [
           "Jamaal Tinsley"
          ],
          [
           "James Anderson"
          ],
          [
           "James Harden"
          ],
          [
           "James Johnson"
          ],
          [
           "James White"
          ],
          [
           "Jan Vesely"
          ],
          [
           "James Jones"
          ],
          [
           "Jared Cunningham"
          ],
          [
           "Jared Dudley"
          ],
          [
           "Jared Jeffries"
          ],
          [
           "Jared Sullinger"
          ],
          [
           "Jarrett Jack"
          ],
          [
           "Jarvis Varnado"
          ],
          [
           "Jannero Pargo"
          ],
          [
           "Rasual Butler"
          ],
          [
           "Quincy Pondexter"
          ],
          [
           "Rashard Lewis"
          ],
          [
           "Randy Foye"
          ],
          [
           "Ramon Sessions"
          ],
          [
           "Rajon Rondo"
          ],
          [
           "Quincy Miller"
          ],
          [
           "Paul Pierce"
          ],
          [
           "Phil Pressey"
          ],
          [
           "Peyton Siva"
          ],
          [
           "Perry Jones III"
          ],
          [
           "Pero Antic"
          ],
          [
           "Paul George"
          ],
          [
           "Paul Millsap"
          ],
          [
           "Ray Allen"
          ],
          [
           "Quincy Acy"
          ],
          [
           "Ray McCallum"
          ],
          [
           "Royal Ivey"
          ],
          [
           "Reggie Bullock"
          ],
          [
           "Pau Gasol"
          ],
          [
           "Roy Hibbert"
          ],
          [
           "Ronny Turiaf"
          ],
          [
           "Ronnie Brewer"
          ],
          [
           "Roger Mason Jr."
          ],
          [
           "Rodney Stuckey"
          ],
          [
           "Royce White"
          ],
          [
           "Robin Lopez"
          ],
          [
           "Robert Sacre"
          ],
          [
           "Robert Covington"
          ],
          [
           "Robbie Hummel"
          ],
          [
           "Ricky Rubio"
          ],
          [
           "Ricky Ledo"
          ],
          [
           "Richard Jefferson"
          ],
          [
           "Reggie Williams"
          ],
          [
           "Reggie Jackson"
          ],
          [
           "Reggie Evans"
          ],
          [
           "Raymond Felton"
          ],
          [
           "Ronnie Price"
          ],
          [
           "Mike Miller"
          ],
          [
           "Patrick Patterson"
          ],
          [
           "Nate Robinson"
          ],
          [
           "Nando De Colo"
          ],
          [
           "Mustafa Shakur"
          ],
          [
           "Monta Ellis"
          ],
          [
           "Mo Williams"
          ],
          [
           "Mirza Teletovic"
          ],
          [
           "Miroslav Raduljica"
          ],
          [
           "Nate Wolters"
          ],
          [
           "Miles Plumlee"
          ],
          [
           "Mike Muscala"
          ],
          [
           "Mike James"
          ],
          [
           "Mike Harris"
          ],
          [
           "Mike Dunleavy"
          ],
          [
           "Mike Conley"
          ],
          [
           "Rudy Gay"
          ],
          [
           "Michael Kidd-Gilchrist"
          ],
          [
           "Mike Scott"
          ],
          [
           "Patty Mills"
          ],
          [
           "Nazr Mohammed"
          ],
          [
           "Nene"
          ],
          [
           "Patrick Beverley"
          ],
          [
           "Pablo Prigioni"
          ],
          [
           "PJ Tucker"
          ],
          [
           "Otto Porter Jr."
          ],
          [
           "Othyus Jeffers"
          ],
          [
           "Orlando Johnson"
          ],
          [
           "Omri Casspi"
          ],
          [
           "Nemanja Nedovic"
          ],
          [
           "Omer Asik"
          ],
          [
           "O.J. Mayo"
          ],
          [
           "Norris Cole"
          ],
          [
           "Nikola Vucevic"
          ],
          [
           "Nikola Pekovic"
          ],
          [
           "Nick Young"
          ],
          [
           "Nick Collison"
          ],
          [
           "Nick Calathes"
          ],
          [
           "Ognjen Kuzmic"
          ],
          [
           "Rudy Gobert"
          ],
          [
           "Wesley Matthews"
          ],
          [
           "Ryan Anderson"
          ],
          [
           "Tyler Hansbrough"
          ],
          [
           "Ty Lawson"
          ],
          [
           "Troy Daniels"
          ],
          [
           "Tristan Thompson"
          ],
          [
           "Trey Burke"
          ],
          [
           "Trevor Booker"
          ],
          [
           "Trevor Ariza"
          ],
          [
           "Tyler Zeller"
          ],
          [
           "Travis Outlaw"
          ],
          [
           "Tornike Shengelia"
          ],
          [
           "Tony Wroten"
          ],
          [
           "Tony Snell"
          ],
          [
           "Tony Parker"
          ],
          [
           "Tony Mitchell"
          ],
          [
           "Tony Mitchell"
          ],
          [
           "Tony Allen"
          ],
          [
           "Toure' Murry"
          ],
          [
           "Tyreke Evans"
          ],
          [
           "Tyshawn Taylor"
          ],
          [
           "Tyson Chandler"
          ],
          [
           "Michael Carter-Williams"
          ],
          [
           "Zaza Pachulia"
          ],
          [
           "Zach Randolph"
          ],
          [
           "Xavier Henry"
          ],
          [
           "Wilson Chandler"
          ],
          [
           "Willie Green"
          ],
          [
           "Will Bynum"
          ],
          [
           "Will Barton"
          ],
          [
           "Wesley Johnson"
          ],
          [
           "Wayne Ellington"
          ],
          [
           "Vitor Faverani"
          ],
          [
           "Vince Carter"
          ],
          [
           "Victor Oladipo"
          ],
          [
           "Victor Claver"
          ],
          [
           "Viacheslav Kravtsov"
          ],
          [
           "Vander Blue"
          ],
          [
           "Udonis Haslem"
          ],
          [
           "Toney Douglas"
          ],
          [
           "Russell Westbrook"
          ],
          [
           "Tobias Harris"
          ],
          [
           "Tim Hardaway Jr."
          ],
          [
           "Shavlik Randolph"
          ],
          [
           "Shaun Livingston"
          ],
          [
           "Shannon Brown"
          ],
          [
           "Shane Larkin"
          ],
          [
           "Shane Edwards"
          ],
          [
           "Shane Battier"
          ],
          [
           "Shabazz Muhammad"
          ],
          [
           "Shawn Marion"
          ],
          [
           "Seth Curry"
          ],
          [
           "Serge Ibaka"
          ],
          [
           "Scotty Hopson"
          ],
          [
           "Sasha Vujacic"
          ],
          [
           "Samuel Dalembert"
          ],
          [
           "Ryan Kelly"
          ],
          [
           "Ryan Hollins"
          ],
          [
           "Ryan Gomes"
          ],
          [
           "Sergey Karasev"
          ],
          [
           "Shawne Williams"
          ],
          [
           "Shelvin Mack"
          ],
          [
           "Solomon Hill"
          ],
          [
           "Tim Duncan"
          ],
          [
           "Tiago Splitter"
          ],
          [
           "Thomas Robinson"
          ],
          [
           "Thaddeus Young"
          ],
          [
           "Thabo Sefolosha"
          ],
          [
           "Terrence Ross"
          ],
          [
           "Terrence Jones"
          ],
          [
           "Tayshaun Prince"
          ],
          [
           "Taj Gibson"
          ],
          [
           "Steven Adams"
          ],
          [
           "Steve Novak"
          ],
          [
           "Steve Nash"
          ],
          [
           "Steve Blake"
          ],
          [
           "Stephen Jackson"
          ],
          [
           "Stephen Curry"
          ],
          [
           "Spencer Hawes"
          ],
          [
           "Solomon Jones"
          ],
          [
           "Timofey Mozgov"
          ],
          [
           "Michael Beasley"
          ],
          [
           "Nicolas Batum"
          ],
          [
           "Metta World Peace"
          ],
          [
           "Dante Cunningham"
          ],
          [
           "Darius Johnson-Odom"
          ],
          [
           "Darius Miller"
          ],
          [
           "Darius Morris"
          ],
          [
           "Darrell Arthur"
          ],
          [
           "Darren Collison"
          ],
          [
           "David Lee"
          ],
          [
           "Danny Green"
          ],
          [
           "David West"
          ],
          [
           "DeAndre Liggins"
          ],
          [
           "DeJuan Blair"
          ],
          [
           "DeMar DeRozan"
          ],
          [
           "DeMarcus Cousins"
          ],
          [
           "DeMarre Carroll"
          ],
          [
           "Dennis Schroder"
          ],
          [
           "Derek Fisher"
          ],
          [
           "DeAndre Jordan"
          ],
          [
           "Deron Williams"
          ],
          [
           "Danny Granger"
          ],
          [
           "Damion James"
          ],
          [
           "Chris Johnson"
          ],
          [
           "Chris Kaman"
          ],
          [
           "Chris Paul"
          ],
          [
           "Chris Singleton"
          ],
          [
           "Chris Smith"
          ],
          [
           "Chris Wright"
          ],
          [
           "Chuck Hayes"
          ],
          [
           "Daniel Orton"
          ],
          [
           "Cody Zeller"
          ],
          [
           "Corey Brewer"
          ],
          [
           "Cory Joseph"
          ],
          [
           "Courtney Lee"
          ],
          [
           "D.J. Augustin"
          ],
          [
           "DJ Stephens"
          ],
          [
           "DJ White"
          ],
          [
           "Damian Lillard"
          ],
          [
           "Cole Aldrich"
          ],
          [
           "Chris Douglas-Roberts"
          ],
          [
           "Derrick Favors"
          ],
          [
           "Derrick Williams"
          ],
          [
           "Ekpe Udoh"
          ],
          [
           "Elias Harris"
          ],
          [
           "Elliot Williams"
          ],
          [
           "Elton Brand"
          ],
          [
           "Enes Kanter"
          ],
          [
           "Eric Bledsoe"
          ],
          [
           "Eric Gordon"
          ],
          [
           "Ed Davis"
          ],
          [
           "Eric Maynor"
          ],
          [
           "Ersan Ilyasova"
          ],
          [
           "Evan Fournier"
          ],
          [
           "Evan Turner"
          ],
          [
           "Francisco Garcia"
          ],
          [
           "Gal Mekel"
          ],
          [
           "Garrett Temple"
          ],
          [
           "Gary Neal"
          ],
          [
           "Erik Murphy"
          ],
          [
           "Derrick Rose"
          ],
          [
           "Earl Watson"
          ],
          [
           "E'Twaun Moore"
          ],
          [
           "Devin Harris"
          ],
          [
           "Dewayne Dedmon"
          ],
          [
           "Dexter Pittman"
          ],
          [
           "Diante Garrett"
          ],
          [
           "Dion Waiters"
          ],
          [
           "Dionte Christmas"
          ],
          [
           "Dirk Nowitzki"
          ],
          [
           "Earl Clark"
          ],
          [
           "Donald Sloan"
          ],
          [
           "Dorell Wright"
          ],
          [
           "Doron Lamb"
          ],
          [
           "Draymond Green"
          ],
          [
           "Drew Gooden"
          ],
          [
           "Dwight Buycks"
          ],
          [
           "Dwight Howard"
          ],
          [
           "Dwyane Wade"
          ],
          [
           "Donatas Motiejunas"
          ],
          [
           "Chris Copeland"
          ],
          [
           "Chris Bosh"
          ],
          [
           "Chris Babb"
          ],
          [
           "Andre Drummond"
          ],
          [
           "Andre Iguodala"
          ],
          [
           "Andre Miller"
          ],
          [
           "Andre Roberson"
          ],
          [
           "Andrea Bargnani"
          ],
          [
           "Andrei Kirilenko"
          ],
          [
           "Andrew Bogut"
          ],
          [
           "Andray Blatche"
          ],
          [
           "Andrew Bynum"
          ],
          [
           "Andris Biedrins"
          ],
          [
           "Antawn Jamison"
          ],
          [
           "Anthony Bennett"
          ],
          [
           "Anthony Davis"
          ],
          [
           "Anthony Morrow"
          ],
          [
           "Anthony Randolph"
          ],
          [
           "Anthony Tolliver"
          ],
          [
           "Andrew Nicholson"
          ],
          [
           "Archie Goodwin"
          ],
          [
           "Anderson Varejao"
          ],
          [
           "Amar'e Stoudemire"
          ],
          [
           "Meyers Leonard"
          ],
          [
           "AJ Price"
          ],
          [
           "Aaron Brooks"
          ],
          [
           "Aaron Gray"
          ],
          [
           "Adonis Thomas"
          ],
          [
           "Al Harrington"
          ],
          [
           "Al Horford"
          ],
          [
           "Amir Johnson"
          ],
          [
           "Al Jefferson"
          ],
          [
           "Alan Anderson"
          ],
          [
           "Alec Burks"
          ],
          [
           "Alex Len"
          ],
          [
           "Alexey Shved"
          ],
          [
           "Alexis Ajinca"
          ],
          [
           "Allen Crabbe"
          ],
          [
           "Alonzo Gee"
          ],
          [
           "Al-Farouq Aminu"
          ],
          [
           "Arinze Onuaku"
          ],
          [
           "Arnett Moultrie"
          ],
          [
           "Aron Baynes"
          ],
          [
           "C.J. Watson"
          ],
          [
           "CJ McCollum"
          ],
          [
           "CJ Miles"
          ],
          [
           "Carl Landry"
          ],
          [
           "Carlos Boozer"
          ],
          [
           "Carmelo Anthony"
          ],
          [
           "Caron Butler"
          ],
          [
           "Byron Mullens"
          ],
          [
           "Carrick Felix"
          ],
          [
           "Casper Ware"
          ],
          [
           "Chandler Parsons"
          ],
          [
           "Channing Frye"
          ],
          [
           "Charlie Villanueva"
          ],
          [
           "Chase Budinger"
          ],
          [
           "Chauncey Billups"
          ],
          [
           "Chris Andersen"
          ],
          [
           "Cartier Martin"
          ],
          [
           "Brook Lopez"
          ],
          [
           "Brian Roberts"
          ],
          [
           "Brandon Rush"
          ],
          [
           "Arron Afflalo"
          ],
          [
           "Austin Daye"
          ],
          [
           "Austin Rivers"
          ],
          [
           "Avery Bradley"
          ],
          [
           "Ben Gordon"
          ],
          [
           "Ben McLemore"
          ],
          [
           "Beno Udrih"
          ],
          [
           "Bernard James"
          ],
          [
           "Bismack Biyombo"
          ],
          [
           "Blake Griffin"
          ],
          [
           "Boris Diaw"
          ],
          [
           "Bradley Beal"
          ],
          [
           "Brandan Wright"
          ],
          [
           "Brandon Bass"
          ],
          [
           "Brandon Davies"
          ],
          [
           "Brandon Jennings"
          ],
          [
           "Brandon Knight"
          ],
          [
           "George Hill"
          ],
          [
           "Gerald Green"
          ],
          [
           "Kyle Singler"
          ],
          [
           "Gerald Wallace"
          ],
          [
           "Kenneth Faried"
          ],
          [
           "Kent Bazemore"
          ],
          [
           "Kentavious Caldwell-Pope"
          ],
          [
           "Kenyon Martin"
          ],
          [
           "Kevin Durant"
          ],
          [
           "Kevin Garnett"
          ],
          [
           "Kevin Love"
          ],
          [
           "Kendrick Perkins"
          ],
          [
           "Kevin Martin"
          ],
          [
           "Khris Middleton"
          ],
          [
           "Kirk Hinrich"
          ],
          [
           "Klay Thompson"
          ],
          [
           "Kobe Bryant"
          ],
          [
           "Kosta Koufos"
          ],
          [
           "Kris Humphries"
          ],
          [
           "Kyle Korver"
          ],
          [
           "Kevin Seraphin"
          ],
          [
           "Kyle Lowry"
          ],
          [
           "Kendall Marshall"
          ],
          [
           "Kelly Olynyk"
          ],
          [
           "Jordan Crawford"
          ],
          [
           "Jordan Farmar"
          ],
          [
           "Jordan Hamilton"
          ],
          [
           "Jordan Hill"
          ],
          [
           "Jorge Gutierrez"
          ],
          [
           "Jose Calderon"
          ],
          [
           "Josh Childress"
          ],
          [
           "Kemba Walker"
          ],
          [
           "Josh Harrellson"
          ],
          [
           "Josh Powell"
          ],
          [
           "Josh Smith"
          ],
          [
           "Jrue Holiday"
          ],
          [
           "Julyan Stone"
          ],
          [
           "Justin Hamilton"
          ],
          [
           "Kawhi Leonard"
          ],
          [
           "Keith Bogans"
          ],
          [
           "Josh McRoberts"
          ],
          [
           "Kyle O'Quinn"
          ],
          [
           "Kyrie Irving"
          ],
          [
           "LaMarcus Aldridge"
          ],
          [
           "Marco Belinelli"
          ],
          [
           "Marcus Morris"
          ],
          [
           "Marcus Thornton"
          ],
          [
           "Mario Chalmers"
          ],
          [
           "Markieff Morris"
          ],
          [
           "Marquis Teague"
          ],
          [
           "Marreese Speights"
          ],
          [
           "Marcin Gortat"
          ],
          [
           "Martell Webster"
          ],
          [
           "Mason Plumlee"
          ],
          [
           "Matt Barnes"
          ],
          [
           "Matt Bonner"
          ],
          [
           "Matthew Dellavedova"
          ],
          [
           "Maurice Harkless"
          ],
          [
           "Melvin Ely"
          ],
          [
           "Gerald Henderson"
          ],
          [
           "Marvin Williams"
          ],
          [
           "Marc Gasol"
          ],
          [
           "MarShon Brooks"
          ],
          [
           "Manu Ginobili"
          ],
          [
           "Lance Stephenson"
          ],
          [
           "Lance Thomas"
          ],
          [
           "Landry Fields"
          ],
          [
           "Larry Sanders"
          ],
          [
           "Lavoy Allen"
          ],
          [
           "LeBron James"
          ],
          [
           "Lorenzo Brown"
          ],
          [
           "Lou Amundson"
          ],
          [
           "Lou Williams"
          ],
          [
           "Luc Mbah a Moute"
          ],
          [
           "Luis Scola"
          ],
          [
           "Luke Babbitt"
          ],
          [
           "Luke Ridnour"
          ],
          [
           "Luol Deng"
          ],
          [
           "Maalik Wayns"
          ],
          [
           "Malcolm Thomas"
          ],
          [
           "Manny Harris"
          ],
          [
           "Jonas Valanciunas"
          ],
          [
           "Jonas Jerebko"
          ],
          [
           "Leandro Barbosa"
          ],
          [
           "John Wall"
          ],
          [
           "JJ Hickson"
          ],
          [
           "JJ Redick"
          ],
          [
           "JR Smith"
          ],
          [
           "JaVale McGee"
          ],
          [
           "Jae Crowder"
          ],
          [
           "Jamaal Franklin"
          ],
          [
           "Jamaal Tinsley"
          ],
          [
           "Jamal Crawford"
          ],
          [
           "Jameer Nelson"
          ],
          [
           "James Anderson"
          ],
          [
           "James Harden"
          ],
          [
           "James Johnson"
          ],
          [
           "James Jones"
          ],
          [
           "James Nunnally"
          ],
          [
           "James Southerland"
          ],
          [
           "Jan Vesely"
          ],
          [
           "Jannero Pargo"
          ],
          [
           "Jared Cunningham"
          ],
          [
           "Jared Dudley"
          ],
          [
           "Jared Sullinger"
          ],
          [
           "Jarrett Jack"
          ],
          [
           "Jarvis Varnado"
          ],
          [
           "Jason Collins"
          ],
          [
           "J.J. Barea"
          ],
          [
           "Ish Smith"
          ],
          [
           "Isaiah Thomas"
          ],
          [
           "Isaiah Canaan"
          ],
          [
           "Gigi Datome"
          ],
          [
           "Jon Leuer"
          ],
          [
           "Giannis Antetokounmpo"
          ],
          [
           "Glen Davis"
          ],
          [
           "Glen Rice"
          ],
          [
           "Goran Dragic"
          ],
          [
           "Gordon Hayward"
          ],
          [
           "Gorgui Dieng"
          ],
          [
           "Greg Monroe"
          ],
          [
           "Greg Oden"
          ],
          [
           "Greg Smith"
          ],
          [
           "Jason Maxiell"
          ],
          [
           "Greg Stiemsma"
          ],
          [
           "Gustavo Ayon"
          ],
          [
           "Hamady Ndiaye"
          ],
          [
           "Harrison Barnes"
          ],
          [
           "Hasheem Thabeet"
          ],
          [
           "Hedo Turkoglu"
          ],
          [
           "Henry Sims"
          ],
          [
           "Hilton Armstrong"
          ],
          [
           "Hollis Thompson"
          ],
          [
           "Ian Clark"
          ],
          [
           "Ian Mahinmi"
          ],
          [
           "Iman Shumpert"
          ],
          [
           "Greivis Vasquez"
          ],
          [
           "Jason Smith"
          ],
          [
           "Jason Terry"
          ],
          [
           "Joakim Noah"
          ],
          [
           "John Jenkins"
          ],
          [
           "John Henson"
          ],
          [
           "Joel Freeland"
          ],
          [
           "Joel Anthony"
          ],
          [
           "Joe Johnson"
          ],
          [
           "Jodie Meeks"
          ],
          [
           "John Salmons"
          ],
          [
           "Jimmy Butler"
          ],
          [
           "Jimmer Fredette"
          ],
          [
           "Jerryd Bayless"
          ],
          [
           "Jeremy Tyler"
          ],
          [
           "Jermaine O'Neal"
          ],
          [
           "Jeremy Lamb"
          ],
          [
           "Jeremy Evans"
          ],
          [
           "Jeffery Taylor"
          ],
          [
           "Jeff Withey"
          ],
          [
           "Jeff Teague"
          ],
          [
           "Jeff Green"
          ],
          [
           "Jeff Ayres"
          ],
          [
           "Jeff Adrien"
          ],
          [
           "Jason Thompson"
          ],
          [
           "John Lucas III"
          ],
          [
           "Jeremy Lin"
          ],
          [
           "Jose Calderon"
          ],
          [
           "Josh Smith"
          ],
          [
           "Josh McRoberts"
          ],
          [
           "Jorge Gutierrez"
          ],
          [
           "Jannero Pargo"
          ],
          [
           "Jordan Hamilton"
          ],
          [
           "Jordan Farmar"
          ],
          [
           "Jordan Clarkson"
          ],
          [
           "Jordan Adams"
          ],
          [
           "Hedo Turkoglu"
          ],
          [
           "Jordan Hill"
          ],
          [
           "Jrue Holiday"
          ],
          [
           "Julius Randle"
          ],
          [
           "Justin Hamilton"
          ],
          [
           "Khris Middleton"
          ],
          [
           "Kirk Hinrich"
          ],
          [
           "Klay Thompson"
          ],
          [
           "Kobe Bryant"
          ],
          [
           "Kosta Koufos"
          ],
          [
           "Kostas Papanikolaou"
          ],
          [
           "Kevin Seraphin"
          ],
          [
           "Kris Humphries"
          ],
          [
           "Kyle Korver"
          ],
          [
           "Kyle Lowry"
          ],
          [
           "Kyle O'Quinn"
          ],
          [
           "Kyle Singler"
          ],
          [
           "Kyrie Irving"
          ],
          [
           "LaMarcus Aldridge"
          ],
          [
           "Kyle Anderson"
          ],
          [
           "Henry Sims"
          ],
          [
           "Kevin Martin"
          ],
          [
           "Kevin Garnett"
          ],
          [
           "Justin Holiday"
          ],
          [
           "Jusuf Nurkic"
          ],
          [
           "KJ McDaniels"
          ],
          [
           "Kalin Lucas"
          ],
          [
           "Kawhi Leonard"
          ],
          [
           "Kelly Olynyk"
          ],
          [
           "Kevin Love"
          ],
          [
           "Kemba Walker"
          ],
          [
           "Kendrick Perkins"
          ],
          [
           "Kenneth Faried"
          ],
          [
           "Kent Bazemore"
          ],
          [
           "Kentavious Caldwell-Pope"
          ],
          [
           "Kenyon Martin"
          ],
          [
           "Kevin Durant"
          ],
          [
           "Kendall Marshall"
          ],
          [
           "James Young"
          ],
          [
           "Henry Walker"
          ],
          [
           "Ian Clark"
          ],
          [
           "Jeremy Evans"
          ],
          [
           "Jeremy Lamb"
          ],
          [
           "Jeremy Lin"
          ],
          [
           "Jerome Jordan"
          ],
          [
           "Jerrelle Benimon"
          ],
          [
           "Jerryd Bayless"
          ],
          [
           "Jerel McNeal"
          ],
          [
           "Jimmer Fredette"
          ],
          [
           "Joakim Noah"
          ],
          [
           "Jodie Meeks"
          ],
          [
           "Joe Harris"
          ],
          [
           "Joe Ingles"
          ],
          [
           "Joe Johnson"
          ],
          [
           "Joel Anthony"
          ],
          [
           "Jimmy Butler"
          ],
          [
           "Joel Freeland"
          ],
          [
           "Jerami Grant"
          ],
          [
           "Jeff Withey"
          ],
          [
           "Jared Cunningham"
          ],
          [
           "Jared Dudley"
          ],
          [
           "Jared Sullinger"
          ],
          [
           "Jarnell Stokes"
          ],
          [
           "Jarrett Jack"
          ],
          [
           "Jason Maxiell"
          ],
          [
           "Jeffery Taylor"
          ],
          [
           "Jason Richardson"
          ],
          [
           "Jason Terry"
          ],
          [
           "Jason Thompson"
          ],
          [
           "Jeff Adrien"
          ],
          [
           "Jeff Ayres"
          ],
          [
           "Jeff Green"
          ],
          [
           "Jeff Teague"
          ],
          [
           "Jason Smith"
          ],
          [
           "Joey Dorsey"
          ],
          [
           "Joffrey Lauvergne"
          ],
          [
           "John Henson"
          ],
          [
           "Jabari Brown"
          ],
          [
           "JaVale McGee"
          ],
          [
           "JaMychal Green"
          ],
          [
           "JaKarr Sampson"
          ],
          [
           "JR Smith"
          ],
          [
           "JJ Redick"
          ],
          [
           "Jabari Parker"
          ],
          [
           "JJ Hickson"
          ],
          [
           "Ish Smith"
          ],
          [
           "Isaiah Thomas"
          ],
          [
           "Jonas Valanciunas"
          ],
          [
           "Isaiah Canaan"
          ],
          [
           "Iman Shumpert"
          ],
          [
           "Ian Mahinmi"
          ],
          [
           "J.J. Barea"
          ],
          [
           "Jack Cooley"
          ],
          [
           "Jae Crowder"
          ],
          [
           "Jamaal Franklin"
          ],
          [
           "John Jenkins"
          ],
          [
           "John Lucas III"
          ],
          [
           "John Salmons"
          ],
          [
           "John Wall"
          ],
          [
           "Johnny O'Bryant III"
          ],
          [
           "Jon Leuer"
          ],
          [
           "Jonas Jerebko"
          ],
          [
           "Lance Stephenson"
          ],
          [
           "James Michael McAdoo"
          ],
          [
           "James Jones"
          ],
          [
           "James Johnson"
          ],
          [
           "James Harden"
          ],
          [
           "James Ennis III"
          ],
          [
           "Jameer Nelson"
          ],
          [
           "Jamal Crawford"
          ],
          [
           "Hollis Thompson"
          ],
          [
           "Lance Thomas"
          ],
          [
           "Meyers Leonard"
          ],
          [
           "Langston Galloway"
          ],
          [
           "Rajon Rondo"
          ],
          [
           "Quincy Pondexter"
          ],
          [
           "Quincy Miller"
          ],
          [
           "Quincy Acy"
          ],
          [
           "Phil Pressey"
          ],
          [
           "Perry Jones III"
          ],
          [
           "Pero Antic"
          ],
          [
           "Paul Pierce"
          ],
          [
           "Paul Millsap"
          ],
          [
           "Paul George"
          ],
          [
           "Pau Gasol"
          ],
          [
           "Patty Mills"
          ],
          [
           "Patrick Patterson"
          ],
          [
           "Patrick Christopher"
          ],
          [
           "Patrick Beverley"
          ],
          [
           "Pablo Prigioni"
          ],
          [
           "PJ Tucker"
          ],
          [
           "PJ Hairston"
          ],
          [
           "Otto Porter Jr."
          ],
          [
           "Omri Casspi"
          ],
          [
           "Omer Asik"
          ],
          [
           "Ognjen Kuzmic"
          ],
          [
           "O.J. Mayo"
          ],
          [
           "Norris Cole"
          ],
          [
           "Noah Vonleh"
          ],
          [
           "Nikola Vucevic"
          ],
          [
           "Nikola Pekovic"
          ],
          [
           "Ramon Sessions"
          ],
          [
           "Nikola Mirotic"
          ],
          [
           "Randy Foye"
          ],
          [
           "Ray McCallum"
          ],
          [
           "Sebastian Telfair"
          ],
          [
           "Sean Kilpatrick"
          ],
          [
           "Samuel Dalembert"
          ],
          [
           "Ryan Kelly"
          ],
          [
           "Ryan Hollins"
          ],
          [
           "Ryan Anderson"
          ],
          [
           "Russell Westbrook"
          ],
          [
           "Russ Smith"
          ],
          [
           "Rudy Gobert"
          ],
          [
           "Rudy Gay"
          ],
          [
           "Roy Hibbert"
          ],
          [
           "Ronny Turiaf"
          ],
          [
           "Ronnie Price"
          ],
          [
           "Rodney Stuckey"
          ],
          [
           "Rodney Hood"
          ],
          [
           "Robin Lopez"
          ],
          [
           "Robert Sacre"
          ],
          [
           "Robert Covington"
          ],
          [
           "Robbie Hummel"
          ],
          [
           "Ricky Rubio"
          ],
          [
           "Ricky Ledo"
          ],
          [
           "Richard Jefferson"
          ],
          [
           "Reggie Williams"
          ],
          [
           "Reggie Jackson"
          ],
          [
           "Reggie Evans"
          ],
          [
           "Reggie Bullock"
          ],
          [
           "Raymond Felton"
          ],
          [
           "Rasual Butler"
          ],
          [
           "Landry Fields"
          ],
          [
           "Nik Stauskas"
          ],
          [
           "Nick Young"
          ],
          [
           "Markieff Morris"
          ],
          [
           "Markel Brown"
          ],
          [
           "Mario Chalmers"
          ],
          [
           "Marcus Thornton"
          ],
          [
           "Marcus Smart"
          ],
          [
           "Marcus Morris"
          ],
          [
           "Marco Belinelli"
          ],
          [
           "Marcin Gortat"
          ],
          [
           "Marc Gasol"
          ],
          [
           "Manu Ginobili"
          ],
          [
           "Malcolm Thomas"
          ],
          [
           "Malcolm Lee"
          ],
          [
           "Luol Deng"
          ],
          [
           "Luke Ridnour"
          ],
          [
           "Luke Babbitt"
          ],
          [
           "Luis Scola"
          ],
          [
           "Lucas Nogueira"
          ],
          [
           "Luc Mbah a Moute"
          ],
          [
           "Lou Williams"
          ],
          [
           "Lou Amundson"
          ],
          [
           "Lorenzo Brown"
          ],
          [
           "Lester Hudson"
          ],
          [
           "Leandro Barbosa"
          ],
          [
           "LeBron James"
          ],
          [
           "Lavoy Allen"
          ],
          [
           "Larry Sanders"
          ],
          [
           "Larry Drew II"
          ],
          [
           "Marreese Speights"
          ],
          [
           "Nicolas Batum"
          ],
          [
           "Martell Webster"
          ],
          [
           "Mason Plumlee"
          ],
          [
           "Nick Johnson"
          ],
          [
           "Nick Collison"
          ],
          [
           "Nick Calathes"
          ],
          [
           "Nerlens Noel"
          ],
          [
           "Nene"
          ],
          [
           "Nazr Mohammed"
          ],
          [
           "Nate Wolters"
          ],
          [
           "Nate Robinson"
          ],
          [
           "Monta Ellis"
          ],
          [
           "Mo Williams"
          ],
          [
           "Mitch McGary"
          ],
          [
           "Mirza Teletovic"
          ],
          [
           "Hassan Whiteside"
          ],
          [
           "Miroslav Raduljica"
          ],
          [
           "Miles Plumlee"
          ],
          [
           "Mike Scott"
          ],
          [
           "Mike Muscala"
          ],
          [
           "Mike Miller"
          ],
          [
           "Mike Dunleavy"
          ],
          [
           "Mike Conley"
          ],
          [
           "Michael Kidd-Gilchrist"
          ],
          [
           "Michael Carter-Williams"
          ],
          [
           "Michael Beasley"
          ],
          [
           "Maurice Harkless"
          ],
          [
           "Matthew Dellavedova"
          ],
          [
           "Matt Bonner"
          ],
          [
           "Matt Barnes"
          ],
          [
           "Marvin Williams"
          ],
          [
           "Harrison Barnes"
          ],
          [
           "Danilo Gallinari"
          ],
          [
           "Greg Stiemsma"
          ],
          [
           "Alonzo Gee"
          ],
          [
           "Alexis Ajinca"
          ],
          [
           "Alexey Shved"
          ],
          [
           "Alex Len"
          ],
          [
           "Alex Kirk"
          ],
          [
           "Alec Burks"
          ],
          [
           "Alan Anderson"
          ],
          [
           "Al-Farouq Aminu"
          ],
          [
           "Al Jefferson"
          ],
          [
           "Al Horford"
          ],
          [
           "Adreian Payne"
          ],
          [
           "Aaron Gordon"
          ],
          [
           "Amar'e Stoudemire"
          ],
          [
           "Aaron Brooks"
          ],
          [
           "Zoran Dragic"
          ],
          [
           "Zaza Pachulia"
          ],
          [
           "Zach Randolph"
          ],
          [
           "Zach LaVine"
          ],
          [
           "Xavier Henry"
          ],
          [
           "Wilson Chandler"
          ],
          [
           "Willie Green"
          ],
          [
           "Will Cherry"
          ],
          [
           "Will Bynum"
          ],
          [
           "Will Barton"
          ],
          [
           "Wesley Matthews"
          ],
          [
           "Wesley Johnson"
          ],
          [
           "AJ Price"
          ],
          [
           "Amir Johnson"
          ],
          [
           "Anderson Varejao"
          ],
          [
           "Andre Dawkins"
          ],
          [
           "Bojan Bogdanovic"
          ],
          [
           "Blake Griffin"
          ],
          [
           "Bismack Biyombo"
          ],
          [
           "Bernard James"
          ],
          [
           "Beno Udrih"
          ],
          [
           "Ben McLemore"
          ],
          [
           "Ben Gordon"
          ],
          [
           "Avery Bradley"
          ],
          [
           "Austin Rivers"
          ],
          [
           "Austin Daye"
          ],
          [
           "Arron Afflalo"
          ],
          [
           "Aron Baynes"
          ],
          [
           "Arinze Onuaku"
          ],
          [
           "Archie Goodwin"
          ],
          [
           "Anthony Tolliver"
          ],
          [
           "Anthony Morrow"
          ],
          [
           "Anthony Davis"
          ],
          [
           "Anthony Bennett"
          ],
          [
           "Andrew Wiggins"
          ],
          [
           "Andrew Nicholson"
          ],
          [
           "Andrew Bogut"
          ],
          [
           "Andrei Kirilenko"
          ],
          [
           "Andrea Bargnani"
          ],
          [
           "Andre Roberson"
          ],
          [
           "Andre Miller"
          ],
          [
           "Andre Iguodala"
          ],
          [
           "Andre Drummond"
          ],
          [
           "Wayne Ellington"
          ],
          [
           "Vince Carter"
          ],
          [
           "Victor Oladipo"
          ],
          [
           "Victor Claver"
          ],
          [
           "Terrence Ross"
          ],
          [
           "Terrence Jones"
          ],
          [
           "Tayshaun Prince"
          ],
          [
           "Tarik Black"
          ],
          [
           "Taj Gibson"
          ],
          [
           "TJ Warren"
          ],
          [
           "Steven Adams"
          ],
          [
           "Steve Novak"
          ],
          [
           "Steve Blake"
          ],
          [
           "Stephen Curry"
          ],
          [
           "Spencer Hawes"
          ],
          [
           "Spencer Dinwiddie"
          ],
          [
           "Solomon Hill"
          ],
          [
           "Sim Bhullar"
          ],
          [
           "Shelvin Mack"
          ],
          [
           "Shayne Whittington"
          ],
          [
           "Shawne Williams"
          ],
          [
           "Shawn Marion"
          ],
          [
           "Shavlik Randolph"
          ],
          [
           "Shaun Livingston"
          ],
          [
           "Shannon Brown"
          ],
          [
           "Shane Larkin"
          ],
          [
           "Shabazz Napier"
          ],
          [
           "Shabazz Muhammad"
          ],
          [
           "Seth Curry"
          ],
          [
           "Sergey Karasev"
          ],
          [
           "Serge Ibaka"
          ],
          [
           "Thabo Sefolosha"
          ],
          [
           "Boris Diaw"
          ],
          [
           "Thaddeus Young"
          ],
          [
           "Tiago Splitter"
          ],
          [
           "Vander Blue"
          ],
          [
           "Udonis Haslem"
          ],
          [
           "Tyson Chandler"
          ],
          [
           "Tyrus Thomas"
          ],
          [
           "Tyreke Evans"
          ],
          [
           "Tyler Zeller"
          ],
          [
           "Tyler Johnson"
          ],
          [
           "Tyler Hansbrough"
          ],
          [
           "Tyler Ennis"
          ],
          [
           "Ty Lawson"
          ],
          [
           "Troy Daniels"
          ],
          [
           "Tristan Thompson"
          ],
          [
           "Trey Burke"
          ],
          [
           "Trevor Booker"
          ],
          [
           "Trevor Ariza"
          ],
          [
           "Travis Wear"
          ],
          [
           "Toure' Murry"
          ],
          [
           "Tony Wroten"
          ],
          [
           "Tony Snell"
          ],
          [
           "Tony Parker"
          ],
          [
           "Tony Allen"
          ],
          [
           "Toney Douglas"
          ],
          [
           "Tobias Harris"
          ],
          [
           "Timofey Mozgov"
          ],
          [
           "Tim Hardaway Jr."
          ],
          [
           "Tim Frazier"
          ],
          [
           "Tim Duncan"
          ],
          [
           "Thomas Robinson"
          ],
          [
           "Bradley Beal"
          ],
          [
           "Brandan Wright"
          ],
          [
           "Brandon Bass"
          ],
          [
           "Elliot Williams"
          ],
          [
           "Elijah Millsap"
          ],
          [
           "Elfrid Payton"
          ],
          [
           "Ekpe Udoh"
          ],
          [
           "Ed Davis"
          ],
          [
           "Earl Clark"
          ],
          [
           "Earl Barron"
          ],
          [
           "E'Twaun Moore"
          ],
          [
           "Dwyane Wade"
          ],
          [
           "Dwight Powell"
          ],
          [
           "Dwight Howard"
          ],
          [
           "Dwight Buycks"
          ],
          [
           "Drew Gordon"
          ],
          [
           "Drew Gooden"
          ],
          [
           "Draymond Green"
          ],
          [
           "Doug McDermott"
          ],
          [
           "Dorell Wright"
          ],
          [
           "Donatas Motiejunas"
          ],
          [
           "Donald Sloan"
          ],
          [
           "Dirk Nowitzki"
          ],
          [
           "Dion Waiters"
          ],
          [
           "Dewayne Dedmon"
          ],
          [
           "Devyn Marble"
          ],
          [
           "Devin Harris"
          ],
          [
           "Derrick Williams"
          ],
          [
           "Derrick Rose"
          ],
          [
           "Derrick Favors"
          ],
          [
           "Elton Brand"
          ],
          [
           "Deron Williams"
          ],
          [
           "Enes Kanter"
          ],
          [
           "Eric Gordon"
          ],
          [
           "Greg Smith"
          ],
          [
           "Greg Monroe"
          ],
          [
           "Grant Jerrett"
          ],
          [
           "Gorgui Dieng"
          ],
          [
           "Gordon Hayward"
          ],
          [
           "Goran Dragic"
          ],
          [
           "Glenn Robinson III"
          ],
          [
           "Glen Rice"
          ],
          [
           "Glen Davis"
          ],
          [
           "Gigi Datome"
          ],
          [
           "Giannis Antetokounmpo"
          ],
          [
           "Gerald Wallace"
          ],
          [
           "Gerald Henderson"
          ],
          [
           "Gerald Green"
          ],
          [
           "George Hill"
          ],
          [
           "Gary Neal"
          ],
          [
           "Gary Harris"
          ],
          [
           "Garrett Temple"
          ],
          [
           "Gal Mekel"
          ],
          [
           "Furkan Aldemir"
          ],
          [
           "Francisco Garcia"
          ],
          [
           "Festus Ezeli"
          ],
          [
           "Evan Turner"
          ],
          [
           "Evan Fournier"
          ],
          [
           "Ersan Ilyasova"
          ],
          [
           "Erick Green"
          ],
          [
           "Eric Moreland"
          ],
          [
           "Eric Bledsoe"
          ],
          [
           "Greivis Vasquez"
          ],
          [
           "Dennis Schroder"
          ],
          [
           "DeMarcus Cousins"
          ],
          [
           "Chris Douglas-Roberts"
          ],
          [
           "Chris Copeland"
          ],
          [
           "Chris Bosh"
          ],
          [
           "Chris Andersen"
          ],
          [
           "Chase Budinger"
          ],
          [
           "Charlie Villanueva"
          ],
          [
           "Channing Frye"
          ],
          [
           "Chandler Parsons"
          ],
          [
           "Cartier Martin"
          ],
          [
           "Caron Butler"
          ],
          [
           "Carmelo Anthony"
          ],
          [
           "Carlos Boozer"
          ],
          [
           "Carl Landry"
          ],
          [
           "Cameron Bairstow"
          ],
          [
           "CJ Wilcox"
          ],
          [
           "CJ Miles"
          ],
          [
           "CJ McCollum"
          ],
          [
           "C.J. Watson"
          ],
          [
           "Bryce Cotton"
          ],
          [
           "Bruno Caboclo"
          ],
          [
           "Brook Lopez"
          ],
          [
           "Brian Roberts"
          ],
          [
           "Brendan Haywood"
          ],
          [
           "Brandon Rush"
          ],
          [
           "Brandon Knight"
          ],
          [
           "Brandon Jennings"
          ],
          [
           "Brandon Davies"
          ],
          [
           "Chris Johnson"
          ],
          [
           "DeMarre Carroll"
          ],
          [
           "Chris Kaman"
          ],
          [
           "Chuck Hayes"
          ],
          [
           "DeMar DeRozan"
          ],
          [
           "DeJuan Blair"
          ],
          [
           "DeAndre Jordan"
          ],
          [
           "David West"
          ],
          [
           "David Wear"
          ],
          [
           "David Stockton"
          ],
          [
           "David Lee"
          ],
          [
           "Darren Collison"
          ],
          [
           "Darrell Arthur"
          ],
          [
           "Darius Morris"
          ],
          [
           "Darius Miller"
          ],
          [
           "Dante Exum"
          ],
          [
           "Dante Cunningham"
          ],
          [
           "Danny Green"
          ],
          [
           "Danny Granger"
          ],
          [
           "Damjan Rudez"
          ],
          [
           "Damian Lillard"
          ],
          [
           "Dahntay Jones"
          ],
          [
           "D.J. Augustin"
          ],
          [
           "Courtney Lee"
          ],
          [
           "Cory Joseph"
          ],
          [
           "Cory Jefferson"
          ],
          [
           "Corey Brewer"
          ],
          [
           "Cole Aldrich"
          ],
          [
           "Cody Zeller"
          ],
          [
           "Clint Capela"
          ],
          [
           "Cleanthony Early"
          ],
          [
           "Chris Paul"
          ],
          [
           "Allen Crabbe"
          ],
          [
           "Jarrett Jack"
          ],
          [
           "Zach Randolph"
          ],
          [
           "Frank Kaminsky"
          ],
          [
           "Garrett Temple"
          ],
          [
           "Gary Harris"
          ],
          [
           "Gary Neal"
          ],
          [
           "George Hill"
          ],
          [
           "Gerald Green"
          ],
          [
           "Gerald Henderson"
          ],
          [
           "Giannis Antetokounmpo"
          ],
          [
           "Glenn Robinson III"
          ],
          [
           "Goran Dragic"
          ],
          [
           "Gordon Hayward"
          ],
          [
           "Gorgui Dieng"
          ],
          [
           "Greg Monroe"
          ],
          [
           "Greg Smith"
          ],
          [
           "Greivis Vasquez"
          ],
          [
           "Harrison Barnes"
          ],
          [
           "Hassan Whiteside"
          ],
          [
           "Henry Sims"
          ],
          [
           "Hollis Thompson"
          ],
          [
           "Ian Clark"
          ],
          [
           "Ian Mahinmi"
          ],
          [
           "Iman Shumpert"
          ],
          [
           "Isaiah Canaan"
          ],
          [
           "Isaiah Thomas"
          ],
          [
           "Ish Smith"
          ],
          [
           "Festus Ezeli"
          ],
          [
           "Evan Turner"
          ],
          [
           "Evan Fournier"
          ],
          [
           "Ersan Ilyasova"
          ],
          [
           "Devyn Marble"
          ],
          [
           "Dewayne Dedmon"
          ],
          [
           "Dion Waiters"
          ],
          [
           "Dirk Nowitzki"
          ],
          [
           "Donald Sloan"
          ],
          [
           "Donatas Motiejunas"
          ],
          [
           "Doug McDermott"
          ],
          [
           "Draymond Green"
          ],
          [
           "Drew Gooden"
          ],
          [
           "Duje Dukan"
          ],
          [
           "Dwight Howard"
          ],
          [
           "Dwight Powell"
          ],
          [
           "J.J. Barea"
          ],
          [
           "Dwyane Wade"
          ],
          [
           "Ed Davis"
          ],
          [
           "Edy Tavares"
          ],
          [
           "Elfrid Payton"
          ],
          [
           "Elijah Millsap"
          ],
          [
           "Elliot Williams"
          ],
          [
           "Elton Brand"
          ],
          [
           "Emmanuel Mudiay"
          ],
          [
           "Enes Kanter"
          ],
          [
           "Eric Bledsoe"
          ],
          [
           "Eric Gordon"
          ],
          [
           "Eric Moreland"
          ],
          [
           "Erick Green"
          ],
          [
           "E'Twaun Moore"
          ],
          [
           "JJ Hickson"
          ],
          [
           "JJ O'Brien"
          ],
          [
           "JJ Redick"
          ],
          [
           "Jeremy Evans"
          ],
          [
           "Jeremy Lamb"
          ],
          [
           "Jeremy Lin"
          ],
          [
           "Jerian Grant"
          ],
          [
           "Jerryd Bayless"
          ],
          [
           "Jimmer Fredette"
          ],
          [
           "Jimmy Butler"
          ],
          [
           "Joakim Noah"
          ],
          [
           "Jodie Meeks"
          ],
          [
           "Joe Harris"
          ],
          [
           "Joe Ingles"
          ],
          [
           "Joe Johnson"
          ],
          [
           "Jerami Grant"
          ],
          [
           "Joe Young"
          ],
          [
           "Joffrey Lauvergne"
          ],
          [
           "John Henson"
          ],
          [
           "John Jenkins"
          ],
          [
           "John Wall"
          ],
          [
           "Johnny O'Bryant III"
          ],
          [
           "Jon Leuer"
          ],
          [
           "Jonas Jerebko"
          ],
          [
           "Jonas Valanciunas"
          ],
          [
           "Jonathon Simmons"
          ],
          [
           "Jordan Adams"
          ],
          [
           "Jordan Clarkson"
          ],
          [
           "Jordan Farmar"
          ],
          [
           "Joel Anthony"
          ],
          [
           "Devin Harris"
          ],
          [
           "Jeff Withey"
          ],
          [
           "Jeff Green"
          ],
          [
           "JR Smith"
          ],
          [
           "JaKarr Sampson"
          ],
          [
           "JaMychal Green"
          ],
          [
           "JaVale McGee"
          ],
          [
           "Jabari Parker"
          ],
          [
           "Jae Crowder"
          ],
          [
           "Jahlil Okafor"
          ],
          [
           "Jamal Crawford"
          ],
          [
           "Jameer Nelson"
          ],
          [
           "James Anderson"
          ],
          [
           "James Ennis III"
          ],
          [
           "James Harden"
          ],
          [
           "Jeff Teague"
          ],
          [
           "James Johnson"
          ],
          [
           "James Michael McAdoo"
          ],
          [
           "James Young"
          ],
          [
           "Jared Cunningham"
          ],
          [
           "Jared Dudley"
          ],
          [
           "Jared Sullinger"
          ],
          [
           "Jarell Eddie"
          ],
          [
           "Jarell Martin"
          ],
          [
           "Jarnell Stokes"
          ],
          [
           "Jason Smith"
          ],
          [
           "Jason Terry"
          ],
          [
           "Jason Thompson"
          ],
          [
           "Jeff Ayres"
          ],
          [
           "James Jones"
          ],
          [
           "Jordan Hamilton"
          ],
          [
           "Derrick Williams"
          ],
          [
           "Derrick Favors"
          ],
          [
           "Anthony Davis"
          ],
          [
           "Anthony Morrow"
          ],
          [
           "Anthony Tolliver"
          ],
          [
           "Archie Goodwin"
          ],
          [
           "Aron Baynes"
          ],
          [
           "Arron Afflalo"
          ],
          [
           "Austin Rivers"
          ],
          [
           "Avery Bradley"
          ],
          [
           "Axel Toupane"
          ],
          [
           "Ben McLemore"
          ],
          [
           "Beno Udrih"
          ],
          [
           "Bismack Biyombo"
          ],
          [
           "Blake Griffin"
          ],
          [
           "Boban Marjanovic"
          ],
          [
           "Bobby Portis"
          ],
          [
           "Bojan Bogdanovic"
          ],
          [
           "Boris Diaw"
          ],
          [
           "Bradley Beal"
          ],
          [
           "Brandan Wright"
          ],
          [
           "Branden Dawson"
          ],
          [
           "Brandon Bass"
          ],
          [
           "Brandon Jennings"
          ],
          [
           "Brandon Knight"
          ],
          [
           "Brandon Rush"
          ],
          [
           "Brian Roberts"
          ],
          [
           "Anthony Brown"
          ],
          [
           "Anthony Bennett"
          ],
          [
           "Andrew Wiggins"
          ],
          [
           "Andrew Nicholson"
          ],
          [
           "Zaza Pachulia"
          ],
          [
           "Aaron Brooks"
          ],
          [
           "Aaron Gordon"
          ],
          [
           "Aaron Harrison"
          ],
          [
           "Adreian Payne"
          ],
          [
           "Al Horford"
          ],
          [
           "Al Jefferson"
          ],
          [
           "Al-Farouq Aminu"
          ],
          [
           "Alan Anderson"
          ],
          [
           "Alan Williams"
          ],
          [
           "Alec Burks"
          ],
          [
           "Alex Len"
          ],
          [
           "Briante Weber"
          ],
          [
           "Alex Stepheson"
          ],
          [
           "Allen Crabbe"
          ],
          [
           "Alonzo Gee"
          ],
          [
           "Amar'e Stoudemire"
          ],
          [
           "Amir Johnson"
          ],
          [
           "Anderson Varejao"
          ],
          [
           "Andre Drummond"
          ],
          [
           "Andre Iguodala"
          ],
          [
           "Andre Miller"
          ],
          [
           "Andre Roberson"
          ],
          [
           "Andrea Bargnani"
          ],
          [
           "Andrew Bogut"
          ],
          [
           "Andrew Goudelock"
          ],
          [
           "Alexis Ajinca"
          ],
          [
           "Brook Lopez"
          ],
          [
           "Bruno Caboclo"
          ],
          [
           "Bryce Cotton"
          ],
          [
           "Cory Joseph"
          ],
          [
           "Coty Clarke"
          ],
          [
           "Courtney Lee"
          ],
          [
           "Cristiano Felicio"
          ],
          [
           "D'Angelo Russell"
          ],
          [
           "D.J. Augustin"
          ],
          [
           "Dahntay Jones"
          ],
          [
           "Damian Lillard"
          ],
          [
           "Damien Inglis"
          ],
          [
           "Damjan Rudez"
          ],
          [
           "Danilo Gallinari"
          ],
          [
           "Danny Green"
          ],
          [
           "Cory Jefferson"
          ],
          [
           "Dante Cunningham"
          ],
          [
           "Darren Collison"
          ],
          [
           "Darrun Hilliard"
          ],
          [
           "David Lee"
          ],
          [
           "David West"
          ],
          [
           "DeAndre Jordan"
          ],
          [
           "DeJuan Blair"
          ],
          [
           "DeMar DeRozan"
          ],
          [
           "DeMarcus Cousins"
          ],
          [
           "DeMarre Carroll"
          ],
          [
           "Delon Wright"
          ],
          [
           "Dennis Schroder"
          ],
          [
           "Deron Williams"
          ],
          [
           "Darrell Arthur"
          ],
          [
           "Derrick Rose"
          ],
          [
           "Corey Brewer"
          ],
          [
           "Cody Zeller"
          ],
          [
           "Bryce Dejean-Jones"
          ],
          [
           "C.J. Watson"
          ],
          [
           "CJ McCollum"
          ],
          [
           "CJ Miles"
          ],
          [
           "CJ Wilcox"
          ],
          [
           "Cameron Bairstow"
          ],
          [
           "Cameron Payne"
          ],
          [
           "Carl Landry"
          ],
          [
           "Carmelo Anthony"
          ],
          [
           "Caron Butler"
          ],
          [
           "Chandler Parsons"
          ],
          [
           "Channing Frye"
          ],
          [
           "Cole Aldrich"
          ],
          [
           "Charlie Villanueva"
          ],
          [
           "Chris Andersen"
          ],
          [
           "Chris Bosh"
          ],
          [
           "Chris Copeland"
          ],
          [
           "Chris Johnson"
          ],
          [
           "Chris Kaman"
          ],
          [
           "Chris McCullough"
          ],
          [
           "Chris Paul"
          ],
          [
           "Christian Wood"
          ],
          [
           "Chuck Hayes"
          ],
          [
           "Cleanthony Early"
          ],
          [
           "Cliff Alexander"
          ],
          [
           "Clint Capela"
          ],
          [
           "Chase Budinger"
          ],
          [
           "Jordan Hill"
          ],
          [
           "Devin Booker"
          ],
          [
           "Jordan Mickey"
          ],
          [
           "Robert Sacre"
          ],
          [
           "Robin Lopez"
          ],
          [
           "Rodney Hood"
          ],
          [
           "Rodney Stuckey"
          ],
          [
           "Rondae Hollis-Jefferson"
          ],
          [
           "Ronnie Price"
          ],
          [
           "Roy Hibbert"
          ],
          [
           "Rudy Gay"
          ],
          [
           "Rudy Gobert"
          ],
          [
           "Russ Smith"
          ],
          [
           "Russell Westbrook"
          ],
          [
           "Ryan Anderson"
          ],
          [
           "Robert Covington"
          ],
          [
           "Ryan Hollins"
          ],
          [
           "Salah Mejri"
          ],
          [
           "Sam Dekker"
          ],
          [
           "Sasha Kaun"
          ],
          [
           "Sasha Vujacic"
          ],
          [
           "Sean Kilpatrick"
          ],
          [
           "Serge Ibaka"
          ],
          [
           "Sergey Karasev"
          ],
          [
           "Seth Curry"
          ],
          [
           "Shabazz Muhammad"
          ],
          [
           "Shabazz Napier"
          ],
          [
           "Shane Larkin"
          ],
          [
           "Shayne Whittington"
          ],
          [
           "Ryan Kelly"
          ],
          [
           "Shelvin Mack"
          ],
          [
           "Ricky Rubio"
          ],
          [
           "Richard Jefferson"
          ],
          [
           "Otto Porter Jr."
          ],
          [
           "PJ Hairston"
          ],
          [
           "PJ Tucker"
          ],
          [
           "Pablo Prigioni"
          ],
          [
           "Pat Connaughton"
          ],
          [
           "Patrick Beverley"
          ],
          [
           "Patrick Patterson"
          ],
          [
           "Patty Mills"
          ],
          [
           "Pau Gasol"
          ],
          [
           "Paul George"
          ],
          [
           "Paul Millsap"
          ],
          [
           "Paul Pierce"
          ],
          [
           "Richaun Holmes"
          ],
          [
           "Phil Pressey"
          ],
          [
           "RJ Hunter"
          ],
          [
           "Rajon Rondo"
          ],
          [
           "Rakeem Christmas"
          ],
          [
           "Ramon Sessions"
          ],
          [
           "Randy Foye"
          ],
          [
           "Rashad Vaughn"
          ],
          [
           "Rasual Butler"
          ],
          [
           "Raul Neto"
          ],
          [
           "Ray McCallum"
          ],
          [
           "Raymond Felton"
          ],
          [
           "Reggie Bullock"
          ],
          [
           "Reggie Jackson"
          ],
          [
           "Quincy Acy"
          ],
          [
           "Orlando Johnson"
          ],
          [
           "Solomon Hill"
          ],
          [
           "Spencer Dinwiddie"
          ],
          [
           "Trevor Ariza"
          ],
          [
           "Trevor Booker"
          ],
          [
           "Trey Burke"
          ],
          [
           "Trey Lyles"
          ],
          [
           "Tristan Thompson"
          ],
          [
           "Troy Daniels"
          ],
          [
           "Ty Lawson"
          ],
          [
           "Tyler Ennis"
          ],
          [
           "Tyler Hansbrough"
          ],
          [
           "Tyler Johnson"
          ],
          [
           "Tyler Zeller"
          ],
          [
           "Tyreke Evans"
          ],
          [
           "Tony Wroten"
          ],
          [
           "Tyson Chandler"
          ],
          [
           "Udonis Haslem"
          ],
          [
           "Victor Oladipo"
          ],
          [
           "Vince Carter"
          ],
          [
           "Wayne Ellington"
          ],
          [
           "Wesley Johnson"
          ],
          [
           "Wesley Matthews"
          ],
          [
           "Will Barton"
          ],
          [
           "Willie Cauley-Stein"
          ],
          [
           "Willie Reed"
          ],
          [
           "Xavier Munford"
          ],
          [
           "Jordan McRae"
          ],
          [
           "Zach LaVine"
          ],
          [
           "Tyus Jones"
          ],
          [
           "Sonny Weems"
          ],
          [
           "Tony Snell"
          ],
          [
           "Tony Allen"
          ],
          [
           "Spencer Hawes"
          ],
          [
           "Stanley Johnson"
          ],
          [
           "Stephen Curry"
          ],
          [
           "Steve Blake"
          ],
          [
           "Steve Novak"
          ],
          [
           "Steven Adams"
          ],
          [
           "T.J. McConnell"
          ],
          [
           "TJ Warren"
          ],
          [
           "Taj Gibson"
          ],
          [
           "Tarik Black"
          ],
          [
           "Tayshaun Prince"
          ],
          [
           "Terrence Jones"
          ],
          [
           "Tony Parker"
          ],
          [
           "Terrence Ross"
          ],
          [
           "Thabo Sefolosha"
          ],
          [
           "Thaddeus Young"
          ],
          [
           "Thanasis Antetokounmpo"
          ],
          [
           "Thomas Robinson"
          ],
          [
           "Tiago Splitter"
          ],
          [
           "Tibor Pleiss"
          ],
          [
           "Tim Duncan"
          ],
          [
           "Tim Frazier"
          ],
          [
           "Tim Hardaway Jr."
          ],
          [
           "Timofey Mozgov"
          ],
          [
           "Tobias Harris"
          ],
          [
           "Toney Douglas"
          ],
          [
           "Terry Rozier"
          ],
          [
           "Omri Casspi"
          ],
          [
           "Shaun Livingston"
          ],
          [
           "Omer Asik"
          ],
          [
           "Kevon Looney"
          ],
          [
           "Kirk Hinrich"
          ],
          [
           "Klay Thompson"
          ],
          [
           "Kobe Bryant"
          ],
          [
           "Kosta Koufos"
          ],
          [
           "Kostas Papanikolaou"
          ],
          [
           "Kris Humphries"
          ],
          [
           "Kristaps Porzingis"
          ],
          [
           "Kyle Anderson"
          ],
          [
           "Kyle Korver"
          ],
          [
           "Kyle Lowry"
          ],
          [
           "Kyle O'Quinn"
          ],
          [
           "Kevin Seraphin"
          ],
          [
           "Kyle Singler"
          ],
          [
           "LaMarcus Aldridge"
          ],
          [
           "Lamar Patterson"
          ],
          [
           "Lance Stephenson"
          ],
          [
           "Lance Thomas"
          ],
          [
           "Langston Galloway"
          ],
          [
           "Larry Nance Jr."
          ],
          [
           "Lavoy Allen"
          ],
          [
           "LeBron James"
          ],
          [
           "Leandro Barbosa"
          ],
          [
           "Lorenzo Brown"
          ],
          [
           "Lou Amundson"
          ],
          [
           "Lou Williams"
          ],
          [
           "Kyrie Irving"
          ],
          [
           "Luc Mbah a Moute"
          ],
          [
           "Kevin Martin"
          ],
          [
           "Kevin Garnett"
          ],
          [
           "Jorge Gutierrez"
          ],
          [
           "Jose Calderon"
          ],
          [
           "Josh Huestis"
          ],
          [
           "Josh McRoberts"
          ],
          [
           "Josh Richardson"
          ],
          [
           "Josh Smith"
          ],
          [
           "Jrue Holiday"
          ],
          [
           "Julius Randle"
          ],
          [
           "Justin Anderson"
          ],
          [
           "Justin Harper"
          ],
          [
           "Justin Holiday"
          ],
          [
           "Justise Winslow"
          ],
          [
           "Kevin Love"
          ],
          [
           "Jusuf Nurkic"
          ],
          [
           "Karl-Anthony Towns"
          ],
          [
           "Kawhi Leonard"
          ],
          [
           "Keith Appling"
          ],
          [
           "Kelly Olynyk"
          ],
          [
           "Kelly Oubre Jr."
          ],
          [
           "Kemba Walker"
          ],
          [
           "Kendall Marshall"
          ],
          [
           "Kendrick Perkins"
          ],
          [
           "Kenneth Faried"
          ],
          [
           "Kent Bazemore"
          ],
          [
           "Kentavious Caldwell-Pope"
          ],
          [
           "Kevin Durant"
          ],
          [
           "KJ McDaniels"
          ],
          [
           "Lucas Nogueira"
          ],
          [
           "Khris Middleton"
          ],
          [
           "Nate Robinson"
          ],
          [
           "Mike Miller"
          ],
          [
           "Mike Muscala"
          ],
          [
           "Miles Plumlee"
          ],
          [
           "Mirza Teletovic"
          ],
          [
           "Mitch McGary"
          ],
          [
           "Mo Williams"
          ],
          [
           "Monta Ellis"
          ],
          [
           "Montrezl Harrell"
          ],
          [
           "Myles Turner"
          ],
          [
           "Nazr Mohammed"
          ],
          [
           "Nemanja Bjelica"
          ],
          [
           "Nene"
          ],
          [
           "Mike Dunleavy"
          ],
          [
           "Nerlens Noel"
          ],
          [
           "Nick Young"
          ],
          [
           "Nicolas Batum"
          ],
          [
           "Nik Stauskas"
          ],
          [
           "Nikola Jokic"
          ],
          [
           "Nikola Mirotic"
          ],
          [
           "Nikola Pekovic"
          ],
          [
           "Nikola Vucevic"
          ],
          [
           "Noah Vonleh"
          ],
          [
           "Norman Powell"
          ],
          [
           "Luis Montero"
          ],
          [
           "Norris Cole"
          ],
          [
           "O.J. Mayo"
          ],
          [
           "Nick Collison"
          ],
          [
           "Mike Conley"
          ],
          [
           "Mike Scott"
          ],
          [
           "Michael Carter-Williams"
          ],
          [
           "Luis Scola"
          ],
          [
           "Luke Babbitt"
          ],
          [
           "Luol Deng"
          ],
          [
           "Manu Ginobili"
          ],
          [
           "Marc Gasol"
          ],
          [
           "Marcelo Huertas"
          ],
          [
           "Marcin Gortat"
          ],
          [
           "Marco Belinelli"
          ],
          [
           "Marcus Morris"
          ],
          [
           "Marcus Smart"
          ],
          [
           "Michael Kidd-Gilchrist"
          ],
          [
           "Mario Chalmers"
          ],
          [
           "Mario Hezonja"
          ],
          [
           "Markel Brown"
          ],
          [
           "Marcus Thornton"
          ],
          [
           "Marreese Speights"
          ],
          [
           "Michael Beasley"
          ],
          [
           "Markieff Morris"
          ],
          [
           "Metta World Peace"
          ],
          [
           "Maurice Harkless"
          ],
          [
           "Matthew Dellavedova"
          ],
          [
           "Meyers Leonard"
          ],
          [
           "Matt Barnes"
          ],
          [
           "Mason Plumlee"
          ],
          [
           "Marvin Williams"
          ],
          [
           "Matt Bonner"
          ],
          [
           "Marvin Williams"
          ],
          [
           "Mason Plumlee"
          ],
          [
           "Matt Barnes"
          ],
          [
           "Matthew Dellavedova"
          ],
          [
           "Maurice Harkless"
          ],
          [
           "Metta World Peace"
          ],
          [
           "Meyers Leonard"
          ],
          [
           "Michael Carter-Williams"
          ],
          [
           "Michael Beasley"
          ],
          [
           "Marshall Plumlee"
          ],
          [
           "Michael Gbinije"
          ],
          [
           "Maurice Ndour"
          ],
          [
           "Marreese Speights"
          ],
          [
           "Omri Casspi"
          ],
          [
           "Markieff Morris"
          ],
          [
           "Mario Hezonja"
          ],
          [
           "Marcus Thornton"
          ],
          [
           "Marcus Smart"
          ],
          [
           "Marcus Morris"
          ],
          [
           "Marcus Georges-Hunt"
          ],
          [
           "Marco Belinelli"
          ],
          [
           "Marcin Gortat"
          ],
          [
           "Marcelo Huertas"
          ],
          [
           "Michael Kidd-Gilchrist"
          ],
          [
           "Marc Gasol"
          ],
          [
           "Manu Ginobili"
          ],
          [
           "Marquese Chriss"
          ],
          [
           "Mike Conley"
          ],
          [
           "Okaro White"
          ],
          [
           "Mike Miller"
          ],
          [
           "Omer Asik"
          ],
          [
           "Manny Harris"
          ],
          [
           "Norris Cole"
          ],
          [
           "Norman Powell"
          ],
          [
           "Noah Vonleh"
          ],
          [
           "Nikola Vucevic"
          ],
          [
           "Nikola Mirotic"
          ],
          [
           "Nikola Jokic"
          ],
          [
           "Nik Stauskas"
          ],
          [
           "Nicolas Laprovittola"
          ],
          [
           "Nicolas Brussino"
          ],
          [
           "Nicolas Batum"
          ],
          [
           "Mike Dunleavy"
          ],
          [
           "Nick Young"
          ],
          [
           "Nerlens Noel"
          ],
          [
           "Nene"
          ],
          [
           "Nemanja Bjelica"
          ],
          [
           "Myles Turner"
          ],
          [
           "Montrezl Harrell"
          ],
          [
           "Monta Ellis"
          ],
          [
           "Mirza Teletovic"
          ],
          [
           "Mindaugas Kuzminskas"
          ],
          [
           "Miles Plumlee"
          ],
          [
           "Mike Tobey"
          ],
          [
           "Mike Scott"
          ],
          [
           "Mike Muscala"
          ],
          [
           "Nick Collison"
          ],
          [
           "Malik Beasley"
          ],
          [
           "Josh McRoberts"
          ],
          [
           "Malcolm Brogdon"
          ],
          [
           "Kevin Seraphin"
          ],
          [
           "Kevin Love"
          ],
          [
           "Kevin Durant"
          ],
          [
           "Kentavious Caldwell-Pope"
          ],
          [
           "Kent Bazemore"
          ],
          [
           "Kenneth Faried"
          ],
          [
           "Kemba Walker"
          ],
          [
           "Kelly Oubre Jr."
          ],
          [
           "Kelly Olynyk"
          ],
          [
           "Kay Felder"
          ],
          [
           "Kawhi Leonard"
          ],
          [
           "Karl-Anthony Towns"
          ],
          [
           "Kevon Looney"
          ],
          [
           "KJ McDaniels"
          ],
          [
           "Justise Winslow"
          ],
          [
           "Justin Holiday"
          ],
          [
           "Justin Harper"
          ],
          [
           "Justin Hamilton"
          ],
          [
           "Justin Anderson"
          ],
          [
           "Julius Randle"
          ],
          [
           "Juancho Hernangomez"
          ],
          [
           "Jrue Holiday"
          ],
          [
           "Josh Richardson"
          ],
          [
           "Josh Huestis"
          ],
          [
           "Jose Calderon"
          ],
          [
           "Otto Porter Jr."
          ],
          [
           "Jusuf Nurkic"
          ],
          [
           "Khris Middleton"
          ],
          [
           "Klay Thompson"
          ],
          [
           "Kosta Koufos"
          ],
          [
           "Malachi Richardson"
          ],
          [
           "Luol Deng"
          ],
          [
           "Luke Babbitt"
          ],
          [
           "Luis Scola"
          ],
          [
           "Lucas Nogueira"
          ],
          [
           "Luc Mbah a Moute"
          ],
          [
           "Lou Williams"
          ],
          [
           "Leandro Barbosa"
          ],
          [
           "LeBron James"
          ],
          [
           "Lavoy Allen"
          ],
          [
           "Larry Sanders"
          ],
          [
           "Larry Nance Jr."
          ],
          [
           "Langston Galloway"
          ],
          [
           "Lance Thomas"
          ],
          [
           "Lance Stephenson"
          ],
          [
           "Lamar Patterson"
          ],
          [
           "LaMarcus Aldridge"
          ],
          [
           "Kyrie Irving"
          ],
          [
           "Kyle Wiltjer"
          ],
          [
           "Kyle Singler"
          ],
          [
           "Kyle O'Quinn"
          ],
          [
           "Kyle Lowry"
          ],
          [
           "Kyle Korver"
          ],
          [
           "Kyle Anderson"
          ],
          [
           "Kristaps Porzingis"
          ],
          [
           "Kris Humphries"
          ],
          [
           "Kris Dunn"
          ],
          [
           "Malcolm Delaney"
          ],
          [
           "PJ Tucker"
          ],
          [
           "Wilson Chandler"
          ],
          [
           "Pat Connaughton"
          ],
          [
           "Tony Parker"
          ],
          [
           "Tony Allen"
          ],
          [
           "Toney Douglas"
          ],
          [
           "Tomas Satoransky"
          ],
          [
           "Tobias Harris"
          ],
          [
           "Timothe Luwawu-Cabarrot"
          ],
          [
           "Timofey Mozgov"
          ],
          [
           "Tim Quarterman"
          ],
          [
           "Tim Hardaway Jr."
          ],
          [
           "Tim Frazier"
          ],
          [
           "Tiago Splitter"
          ],
          [
           "Thon Maker"
          ],
          [
           "Tony Snell"
          ],
          [
           "Thomas Robinson"
          ],
          [
           "Thabo Sefolosha"
          ],
          [
           "Terry Rozier"
          ],
          [
           "Terrence Ross"
          ],
          [
           "Terrence Jones"
          ],
          [
           "Taurean Prince"
          ],
          [
           "Tarik Black"
          ],
          [
           "Taj Gibson"
          ],
          [
           "TJ Warren"
          ],
          [
           "T.J. McConnell"
          ],
          [
           "Steven Adams"
          ],
          [
           "Steve Novak"
          ],
          [
           "Stephen Zimmerman"
          ],
          [
           "Thaddeus Young"
          ],
          [
           "Treveon Graham"
          ],
          [
           "Trevor Ariza"
          ],
          [
           "Trevor Booker"
          ],
          [
           "Zach LaVine"
          ],
          [
           "Jordan Mickey"
          ],
          [
           "Yogi Ferrell"
          ],
          [
           "Willie Reed"
          ],
          [
           "Willie Cauley-Stein"
          ],
          [
           "Will Barton"
          ],
          [
           "Wesley Matthews"
          ],
          [
           "Wesley Johnson"
          ],
          [
           "Wayne Selden"
          ],
          [
           "Wayne Ellington"
          ],
          [
           "Wade Baldwin IV"
          ],
          [
           "Vince Carter"
          ],
          [
           "Victor Oladipo"
          ],
          [
           "Udonis Haslem"
          ],
          [
           "Tyus Jones"
          ],
          [
           "Tyson Chandler"
          ],
          [
           "Tyreke Evans"
          ],
          [
           "Tyler Zeller"
          ],
          [
           "Tyler Ulis"
          ],
          [
           "Tyler Johnson"
          ],
          [
           "Tyler Ennis"
          ],
          [
           "Ty Lawson"
          ],
          [
           "Troy Williams"
          ],
          [
           "Troy Daniels"
          ],
          [
           "Tristan Thompson"
          ],
          [
           "Trey Lyles"
          ],
          [
           "Trey Burke"
          ],
          [
           "Stephen Curry"
          ],
          [
           "Pascal Siakam"
          ],
          [
           "Stanley Johnson"
          ],
          [
           "Spencer Dinwiddie"
          ],
          [
           "Richaun Holmes"
          ],
          [
           "Richard Jefferson"
          ],
          [
           "Reggie Williams"
          ],
          [
           "Reggie Jackson"
          ],
          [
           "Reggie Bullock"
          ],
          [
           "Raymond Felton"
          ],
          [
           "Raul Neto"
          ],
          [
           "Rashad Vaughn"
          ],
          [
           "Randy Foye"
          ],
          [
           "Ramon Sessions"
          ],
          [
           "Rakeem Christmas"
          ],
          [
           "Rajon Rondo"
          ],
          [
           "Ricky Rubio"
          ],
          [
           "RJ Hunter"
          ],
          [
           "Quincy Acy"
          ],
          [
           "Pierre Jackson"
          ],
          [
           "Paul Zipser"
          ],
          [
           "Paul Pierce"
          ],
          [
           "Paul Millsap"
          ],
          [
           "Paul George"
          ],
          [
           "Pau Gasol"
          ],
          [
           "Patty Mills"
          ],
          [
           "Patrick Patterson"
          ],
          [
           "Patrick McCaw"
          ],
          [
           "Patrick Beverley"
          ],
          [
           "Patricio Garino"
          ],
          [
           "Quinn Cook"
          ],
          [
           "Robert Covington"
          ],
          [
           "Robin Lopez"
          ],
          [
           "Rodney Hood"
          ],
          [
           "Solomon Hill"
          ],
          [
           "Skal Labissiere"
          ],
          [
           "Shelvin Mack"
          ],
          [
           "Sheldon Mac"
          ],
          [
           "Shawn Long"
          ],
          [
           "Shaun Livingston"
          ],
          [
           "Shabazz Napier"
          ],
          [
           "Shabazz Muhammad"
          ],
          [
           "Seth Curry"
          ],
          [
           "Sergio Rodriguez"
          ],
          [
           "Serge Ibaka"
          ],
          [
           "Semaj Christon"
          ],
          [
           "Sean Kilpatrick"
          ],
          [
           "Sasha Vujacic"
          ],
          [
           "Sam Dekker"
          ],
          [
           "Salah Mejri"
          ],
          [
           "Ryan Kelly"
          ],
          [
           "Ryan Anderson"
          ],
          [
           "Russell Westbrook"
          ],
          [
           "Rudy Gobert"
          ],
          [
           "Rudy Gay"
          ],
          [
           "Roy Hibbert"
          ],
          [
           "Ronnie Price"
          ],
          [
           "Rondae Hollis-Jefferson"
          ],
          [
           "Ron Baker"
          ],
          [
           "Rodney Stuckey"
          ],
          [
           "Rodney McGruder"
          ],
          [
           "Spencer Hawes"
          ],
          [
           "Jordan McRae"
          ],
          [
           "Al Horford"
          ],
          [
           "Jordan Farmar"
          ],
          [
           "D.J. Augustin"
          ],
          [
           "D'Angelo Russell"
          ],
          [
           "Cristiano Felicio"
          ],
          [
           "Courtney Lee"
          ],
          [
           "Cory Joseph"
          ],
          [
           "Corey Brewer"
          ],
          [
           "Cole Aldrich"
          ],
          [
           "Cody Zeller"
          ],
          [
           "Clint Capela"
          ],
          [
           "Christian Wood"
          ],
          [
           "Chris Paul"
          ],
          [
           "Chris McCullough"
          ],
          [
           "Dahntay Jones"
          ],
          [
           "Chris Andersen"
          ],
          [
           "Cheick Diallo"
          ],
          [
           "Chasson Randle"
          ],
          [
           "Channing Frye"
          ],
          [
           "Chandler Parsons"
          ],
          [
           "Carmelo Anthony"
          ],
          [
           "Caris LeVert"
          ],
          [
           "Cameron Payne"
          ],
          [
           "CJ Wilcox"
          ],
          [
           "CJ Miles"
          ],
          [
           "CJ McCollum"
          ],
          [
           "C.J. Watson"
          ],
          [
           "Buddy Hield"
          ],
          [
           "Chinanu Onuaku"
          ],
          [
           "Damian Jones"
          ],
          [
           "Damian Lillard"
          ],
          [
           "Damjan Rudez"
          ],
          [
           "Derrick Favors"
          ],
          [
           "Deron Williams"
          ],
          [
           "Denzel Valentine"
          ],
          [
           "Dennis Schroder"
          ],
          [
           "Demetrius Jackson"
          ],
          [
           "Delon Wright"
          ],
          [
           "Dejounte Murray"
          ],
          [
           "DeMarre Carroll"
          ],
          [
           "DeMarcus Cousins"
          ],
          [
           "DeMar DeRozan"
          ],
          [
           "DeAndre' Bembry"
          ],
          [
           "DeAndre Liggins"
          ],
          [
           "DeAndre Jordan"
          ],
          [
           "Davis Bertans"
          ],
          [
           "David West"
          ],
          [
           "David Nwaba"
          ],
          [
           "David Lee"
          ],
          [
           "Darrun Hilliard"
          ],
          [
           "Darren Collison"
          ],
          [
           "Darrell Arthur"
          ],
          [
           "Dario Saric"
          ],
          [
           "Danuel House"
          ],
          [
           "Dante Exum"
          ],
          [
           "Dante Cunningham"
          ],
          [
           "Danny Green"
          ],
          [
           "Danilo Gallinari"
          ],
          [
           "Daniel Ochefu"
          ],
          [
           "Bryn Forbes"
          ],
          [
           "Derrick Jones Jr."
          ],
          [
           "Bruno Caboclo"
          ],
          [
           "Brice Johnson"
          ],
          [
           "Andrew Wiggins"
          ],
          [
           "Andrew Nicholson"
          ],
          [
           "Andrew Harrison"
          ],
          [
           "Andrew Bogut"
          ],
          [
           "Andre Roberson"
          ],
          [
           "Andre Iguodala"
          ],
          [
           "Andre Drummond"
          ],
          [
           "Anderson Varejao"
          ],
          [
           "Amir Johnson"
          ],
          [
           "Alonzo Gee"
          ],
          [
           "Allen Crabbe"
          ],
          [
           "Alexis Ajinca"
          ],
          [
           "Anthony Bennett"
          ],
          [
           "Alex Poythress"
          ],
          [
           "Alex Abrines"
          ],
          [
           "Alec Burks"
          ],
          [
           "Alan Williams"
          ],
          [
           "Alan Anderson"
          ],
          [
           "Al-Farouq Aminu"
          ],
          [
           "Al Jefferson"
          ],
          [
           "Zach Randolph"
          ],
          [
           "Adreian Payne"
          ],
          [
           "Aaron Harrison"
          ],
          [
           "Aaron Gordon"
          ],
          [
           "Aaron Brooks"
          ],
          [
           "AJ Hammons"
          ],
          [
           "Alex Len"
          ],
          [
           "Anthony Brown"
          ],
          [
           "Anthony Davis"
          ],
          [
           "Anthony Morrow"
          ],
          [
           "Briante Weber"
          ],
          [
           "Brian Roberts"
          ],
          [
           "Brandon Rush"
          ],
          [
           "Brandon Knight"
          ],
          [
           "Brandon Jennings"
          ],
          [
           "Brandon Ingram"
          ],
          [
           "Brandon Bass"
          ],
          [
           "Brandan Wright"
          ],
          [
           "Bradley Beal"
          ],
          [
           "Boris Diaw"
          ],
          [
           "Bojan Bogdanovic"
          ],
          [
           "Bobby Portis"
          ],
          [
           "Bobby Brown"
          ],
          [
           "Boban Marjanovic"
          ],
          [
           "Blake Griffin"
          ],
          [
           "Bismack Biyombo"
          ],
          [
           "Beno Udrih"
          ],
          [
           "Ben McLemore"
          ],
          [
           "Ben Bentil"
          ],
          [
           "Axel Toupane"
          ],
          [
           "Avery Bradley"
          ],
          [
           "Austin Rivers"
          ],
          [
           "Arron Afflalo"
          ],
          [
           "Aron Baynes"
          ],
          [
           "Arinze Onuaku"
          ],
          [
           "Archie Goodwin"
          ],
          [
           "Anthony Tolliver"
          ],
          [
           "Brook Lopez"
          ],
          [
           "Jordan Hill"
          ],
          [
           "Derrick Rose"
          ],
          [
           "Devin Booker"
          ],
          [
           "Jaylen Brown"
          ],
          [
           "Jason Terry"
          ],
          [
           "Jason Smith"
          ],
          [
           "Jarrod Uthoff"
          ],
          [
           "Jarrett Jack"
          ],
          [
           "Jarnell Stokes"
          ],
          [
           "Jarell Martin"
          ],
          [
           "Jarell Eddie"
          ],
          [
           "Jared Sullinger"
          ],
          [
           "Jared Dudley"
          ],
          [
           "James Young"
          ],
          [
           "James Michael McAdoo"
          ],
          [
           "Jeff Green"
          ],
          [
           "James Jones"
          ],
          [
           "James Harden"
          ],
          [
           "James Ennis III"
          ],
          [
           "Jameer Nelson"
          ],
          [
           "Jamal Murray"
          ],
          [
           "Jamal Crawford"
          ],
          [
           "Jakob Poeltl"
          ],
          [
           "Jake Layman"
          ],
          [
           "Jahlil Okafor"
          ],
          [
           "Jae Crowder"
          ],
          [
           "Jabari Parker"
          ],
          [
           "JaVale McGee"
          ],
          [
           "JaMychal Green"
          ],
          [
           "James Johnson"
          ],
          [
           "Jeff Teague"
          ],
          [
           "Jeff Withey"
          ],
          [
           "Jerami Grant"
          ],
          [
           "Jordan Crawford"
          ],
          [
           "Jordan Clarkson"
          ],
          [
           "Jonathon Simmons"
          ],
          [
           "Jonathan Gibson"
          ],
          [
           "Jonas Valanciunas"
          ],
          [
           "Jonas Jerebko"
          ],
          [
           "Jon Leuer"
          ],
          [
           "Johnny O'Bryant III"
          ],
          [
           "John Wall"
          ],
          [
           "John Lucas III"
          ],
          [
           "John Jenkins"
          ],
          [
           "John Henson"
          ],
          [
           "Joffrey Lauvergne"
          ],
          [
           "Joel Embiid"
          ],
          [
           "Joel Bolomboy"
          ],
          [
           "Joel Anthony"
          ],
          [
           "Joe Young"
          ],
          [
           "Joe Johnson"
          ],
          [
           "Joe Ingles"
          ],
          [
           "Joe Harris"
          ],
          [
           "Jodie Meeks"
          ],
          [
           "Joakim Noah"
          ],
          [
           "Jimmy Butler"
          ],
          [
           "Jerryd Bayless"
          ],
          [
           "Jerian Grant"
          ],
          [
           "Jeremy Lin"
          ],
          [
           "Jeremy Lamb"
          ],
          [
           "JR Smith"
          ],
          [
           "Derrick Williams"
          ],
          [
           "JJ Redick"
          ],
          [
           "Ivica Zubac"
          ],
          [
           "Evan Fournier"
          ],
          [
           "Ersan Ilyasova"
          ],
          [
           "Eric Gordon"
          ],
          [
           "Eric Bledsoe"
          ],
          [
           "Enes Kanter"
          ],
          [
           "Emmanuel Mudiay"
          ],
          [
           "Elijah Millsap"
          ],
          [
           "Elfrid Payton"
          ],
          [
           "Edy Tavares"
          ],
          [
           "Ed Davis"
          ],
          [
           "E'Twaun Moore"
          ],
          [
           "Dwyane Wade"
          ],
          [
           "Evan Turner"
          ],
          [
           "Dwight Powell"
          ],
          [
           "Draymond Green"
          ],
          [
           "Dragan Bender"
          ],
          [
           "Doug McDermott"
          ],
          [
           "Dorian Finney-Smith"
          ],
          [
           "Donatas Motiejunas"
          ],
          [
           "Domantas Sabonis"
          ],
          [
           "Dirk Nowitzki"
          ],
          [
           "Dion Waiters"
          ],
          [
           "Diamond Stone"
          ],
          [
           "Deyonta Davis"
          ],
          [
           "Dewayne Dedmon"
          ],
          [
           "Devin Harris"
          ],
          [
           "Dwight Howard"
          ],
          [
           "Frank Kaminsky"
          ],
          [
           "Fred VanVleet"
          ],
          [
           "Garrett Temple"
          ],
          [
           "Ish Smith"
          ],
          [
           "Isaiah Whitehead"
          ],
          [
           "Isaiah Thomas"
          ],
          [
           "Isaiah Taylor"
          ],
          [
           "Isaiah Canaan"
          ],
          [
           "Iman Shumpert"
          ],
          [
           "Ian Mahinmi"
          ],
          [
           "Ian Clark"
          ],
          [
           "Hollis Thompson"
          ],
          [
           "Henry Ellenson"
          ],
          [
           "Hassan Whiteside"
          ],
          [
           "Harrison Barnes"
          ],
          [
           "Greivis Vasquez"
          ],
          [
           "Greg Monroe"
          ],
          [
           "Gorgui Dieng"
          ],
          [
           "Gordon Hayward"
          ],
          [
           "Goran Dragic"
          ],
          [
           "Glenn Robinson III"
          ],
          [
           "Giannis Antetokounmpo"
          ],
          [
           "Gerald Henderson"
          ],
          [
           "Gerald Green"
          ],
          [
           "Georgios Papagiannis"
          ],
          [
           "Georges Niang"
          ],
          [
           "George Hill"
          ],
          [
           "Gary Payton II"
          ],
          [
           "Gary Neal"
          ],
          [
           "Gary Harris"
          ],
          [
           "J.J. Barea"
          ],
          [
           "Zaza Pachulia"
          ],
          [
           "Willy Hernangomez"
          ],
          [
           "Briante Weber"
          ],
          [
           "Jae Crowder"
          ],
          [
           "Jahlil Okafor"
          ],
          [
           "Jake Layman"
          ],
          [
           "Jakob Poeltl"
          ],
          [
           "Jalen Jones"
          ],
          [
           "Jamal Crawford"
          ],
          [
           "Jamal Murray"
          ],
          [
           "Jameel Warney"
          ],
          [
           "Jameer Nelson"
          ],
          [
           "Jamel Artis"
          ],
          [
           "James Ennis III"
          ],
          [
           "James Harden"
          ],
          [
           "Jacob Wiley"
          ],
          [
           "James Johnson"
          ],
          [
           "James Webb III"
          ],
          [
           "James Young"
          ],
          [
           "Jamil Wilson"
          ],
          [
           "Jared Dudley"
          ],
          [
           "Jarell Eddie"
          ],
          [
           "Jarell Martin"
          ],
          [
           "Jarrett Allen"
          ],
          [
           "Jarrett Jack"
          ],
          [
           "Jason Smith"
          ],
          [
           "Jason Terry"
          ],
          [
           "Jawun Evans"
          ],
          [
           "Jaylen Brown"
          ],
          [
           "James Michael McAdoo"
          ],
          [
           "Jaylen Morris"
          ],
          [
           "Jacob Pullen"
          ],
          [
           "Jabari Parker"
          ],
          [
           "Gordon Hayward"
          ],
          [
           "Gorgui Dieng"
          ],
          [
           "Greg Monroe"
          ],
          [
           "Guerschon Yabusele"
          ],
          [
           "Harrison Barnes"
          ],
          [
           "Hassan Whiteside"
          ],
          [
           "Henry Ellenson"
          ],
          [
           "Ian Clark"
          ],
          [
           "Ian Mahinmi"
          ],
          [
           "Ike Anigbogu"
          ],
          [
           "Iman Shumpert"
          ],
          [
           "Isaiah Canaan"
          ],
          [
           "Jack Cooley"
          ],
          [
           "Isaiah Hicks"
          ],
          [
           "Isaiah Thomas"
          ],
          [
           "Isaiah Whitehead"
          ],
          [
           "Ish Smith"
          ],
          [
           "Ivan Rabb"
          ],
          [
           "Ivica Zubac"
          ],
          [
           "J.J. Barea"
          ],
          [
           "JJ Redick"
          ],
          [
           "JR Smith"
          ],
          [
           "JaKarr Sampson"
          ],
          [
           "JaMychal Green"
          ],
          [
           "JaVale McGee"
          ],
          [
           "Jabari Bird"
          ],
          [
           "Isaiah Taylor"
          ],
          [
           "Jayson Tatum"
          ],
          [
           "Jeff Green"
          ],
          [
           "Jeff Teague"
          ],
          [
           "Jordan Crawford"
          ],
          [
           "Jordan Mickey"
          ],
          [
           "Jose Calderon"
          ],
          [
           "Josh Gray"
          ],
          [
           "Josh Hart"
          ],
          [
           "Josh Huestis"
          ],
          [
           "Josh Jackson"
          ],
          [
           "Josh Magette"
          ],
          [
           "Josh McRoberts"
          ],
          [
           "Josh Richardson"
          ],
          [
           "Josh Smith"
          ],
          [
           "Jrue Holiday"
          ],
          [
           "Jordan Clarkson"
          ],
          [
           "Juancho Hernangomez"
          ],
          [
           "Julyan Stone"
          ],
          [
           "Justin Anderson"
          ],
          [
           "Justin Holiday"
          ],
          [
           "Justin Jackson"
          ],
          [
           "Justin Patton"
          ],
          [
           "Justise Winslow"
          ],
          [
           "Jusuf Nurkic"
          ],
          [
           "Kadeem Allen"
          ],
          [
           "Karl-Anthony Towns"
          ],
          [
           "Kawhi Leonard"
          ],
          [
           "Kay Felder"
          ],
          [
           "Kelly Olynyk"
          ],
          [
           "Julius Randle"
          ],
          [
           "Jordan Bell"
          ],
          [
           "Jonathon Simmons"
          ],
          [
           "Jonathan Isaac"
          ],
          [
           "Jeff Withey"
          ],
          [
           "Jerami Grant"
          ],
          [
           "Jeremy Evans"
          ],
          [
           "Jeremy Lamb"
          ],
          [
           "Jeremy Lin"
          ],
          [
           "Jerian Grant"
          ],
          [
           "Jerryd Bayless"
          ],
          [
           "Jimmy Butler"
          ],
          [
           "Joakim Noah"
          ],
          [
           "Jodie Meeks"
          ],
          [
           "Joe Harris"
          ],
          [
           "Joe Ingles"
          ],
          [
           "Joe Johnson"
          ],
          [
           "Joe Young"
          ],
          [
           "Joel Bolomboy"
          ],
          [
           "Joel Embiid"
          ],
          [
           "Joffrey Lauvergne"
          ],
          [
           "John Collins"
          ],
          [
           "John Henson"
          ],
          [
           "John Holland"
          ],
          [
           "John Wall"
          ],
          [
           "Johnathan Motley"
          ],
          [
           "Johnny O'Bryant III"
          ],
          [
           "Jon Leuer"
          ],
          [
           "Jonas Jerebko"
          ],
          [
           "Jonas Valanciunas"
          ],
          [
           "Jonathan Gibson"
          ],
          [
           "Goran Dragic"
          ],
          [
           "Glenn Robinson III"
          ],
          [
           "Giannis Antetokounmpo"
          ],
          [
           "Gian Clavell"
          ],
          [
           "Damian Jones"
          ],
          [
           "Damian Lillard"
          ],
          [
           "Damien Wilkins"
          ],
          [
           "Damion Lee"
          ],
          [
           "Damyean Dotson"
          ],
          [
           "Daniel Hamilton"
          ],
          [
           "Daniel Theis"
          ],
          [
           "Danilo Gallinari"
          ],
          [
           "Danny Green"
          ],
          [
           "Dante Cunningham"
          ],
          [
           "Dante Exum"
          ],
          [
           "Danuel House Jr."
          ],
          [
           "Dakari Johnson"
          ],
          [
           "Dario Saric"
          ],
          [
           "Darrell Arthur"
          ],
          [
           "Darren Collison"
          ],
          [
           "Darrun Hilliard"
          ],
          [
           "David Nwaba"
          ],
          [
           "David Stockton"
          ],
          [
           "David West"
          ],
          [
           "Davis Bertans"
          ],
          [
           "Davon Reed"
          ],
          [
           "De'Aaron Fox"
          ],
          [
           "DeAndre Jordan"
          ],
          [
           "DeAndre Liggins"
          ],
          [
           "DeAndre' Bembry"
          ],
          [
           "Darius Miller"
          ],
          [
           "D.J. Wilson"
          ],
          [
           "D.J. Augustin"
          ],
          [
           "D'Angelo Russell"
          ],
          [
           "Brook Lopez"
          ],
          [
           "Bruno Caboclo"
          ],
          [
           "Bryn Forbes"
          ],
          [
           "Buddy Hield"
          ],
          [
           "C.J. Williams"
          ],
          [
           "CJ McCollum"
          ],
          [
           "CJ Miles"
          ],
          [
           "Caleb Swanigan"
          ],
          [
           "Cameron Payne"
          ],
          [
           "Caris LeVert"
          ],
          [
           "Carmelo Anthony"
          ],
          [
           "Cedi Osman"
          ],
          [
           "Chandler Parsons"
          ],
          [
           "Channing Frye"
          ],
          [
           "Charles Cooke"
          ],
          [
           "Cheick Diallo"
          ],
          [
           "Chinanu Onuaku"
          ],
          [
           "Chris Boucher"
          ],
          [
           "Chris McCullough"
          ],
          [
           "Chris Paul"
          ],
          [
           "Clint Capela"
          ],
          [
           "Cody Zeller"
          ],
          [
           "Cole Aldrich"
          ],
          [
           "Corey Brewer"
          ],
          [
           "Cory Joseph"
          ],
          [
           "Courtney Lee"
          ],
          [
           "Cristiano Felicio"
          ],
          [
           "DeMar DeRozan"
          ],
          [
           "Kelly Oubre Jr."
          ],
          [
           "DeMarcus Cousins"
          ],
          [
           "Dejounte Murray"
          ],
          [
           "Ed Davis"
          ],
          [
           "Edmond Sumner"
          ],
          [
           "Ekpe Udoh"
          ],
          [
           "Elfrid Payton"
          ],
          [
           "Emeka Okafor"
          ],
          [
           "Emmanuel Mudiay"
          ],
          [
           "Enes Kanter"
          ],
          [
           "Eric Bledsoe"
          ],
          [
           "Eric Gordon"
          ],
          [
           "Eric Moreland"
          ],
          [
           "Erik McCree"
          ],
          [
           "Ersan Ilyasova"
          ],
          [
           "E'Twaun Moore"
          ],
          [
           "Evan Fournier"
          ],
          [
           "Frank Kaminsky"
          ],
          [
           "Frank Mason"
          ],
          [
           "Frank Ntilikina"
          ],
          [
           "Fred VanVleet"
          ],
          [
           "Furkan Korkmaz"
          ],
          [
           "Garrett Temple"
          ],
          [
           "Gary Harris"
          ],
          [
           "Gary Payton II"
          ],
          [
           "George Hill"
          ],
          [
           "Georges Niang"
          ],
          [
           "Georgios Papagiannis"
          ],
          [
           "Gerald Green"
          ],
          [
           "Evan Turner"
          ],
          [
           "Dwyane Wade"
          ],
          [
           "Dwight Powell"
          ],
          [
           "Dwight Howard"
          ],
          [
           "Delon Wright"
          ],
          [
           "Demetrius Jackson"
          ],
          [
           "Dennis Schroder"
          ],
          [
           "Dennis Smith Jr."
          ],
          [
           "Denzel Valentine"
          ],
          [
           "Derrick Favors"
          ],
          [
           "Derrick Jones Jr."
          ],
          [
           "Derrick Rose"
          ],
          [
           "Derrick Walton Jr."
          ],
          [
           "Derrick White"
          ],
          [
           "Derrick Williams"
          ],
          [
           "Devin Booker"
          ],
          [
           "Devin Harris"
          ],
          [
           "Devin Robinson"
          ],
          [
           "Dewayne Dedmon"
          ],
          [
           "Deyonta Davis"
          ],
          [
           "Dillon Brooks"
          ],
          [
           "Dion Waiters"
          ],
          [
           "Dirk Nowitzki"
          ],
          [
           "Domantas Sabonis"
          ],
          [
           "Donovan Mitchell"
          ],
          [
           "Dorian Finney-Smith"
          ],
          [
           "Doug McDermott"
          ],
          [
           "Dragan Bender"
          ],
          [
           "Draymond Green"
          ],
          [
           "Dwayne Bacon"
          ],
          [
           "Dwight Buycks"
          ],
          [
           "DeMarre Carroll"
          ],
          [
           "Kemba Walker"
          ],
          [
           "Kendrick Perkins"
          ],
          [
           "Kenneth Faried"
          ],
          [
           "Sean Kilpatrick"
          ],
          [
           "Semi Ojeleye"
          ],
          [
           "Serge Ibaka"
          ],
          [
           "Shabazz Muhammad"
          ],
          [
           "Shabazz Napier"
          ],
          [
           "Shane Larkin"
          ],
          [
           "Shaquille Harrison"
          ],
          [
           "Shaun Livingston"
          ],
          [
           "Shelvin Mack"
          ],
          [
           "Sindarius Thornwell"
          ],
          [
           "Skal Labissiere"
          ],
          [
           "Solomon Hill"
          ],
          [
           "Scotty Hopson"
          ],
          [
           "Spencer Dinwiddie"
          ],
          [
           "Stephen Curry"
          ],
          [
           "Sterling Brown"
          ],
          [
           "Steven Adams"
          ],
          [
           "T.J. McConnell"
          ],
          [
           "T.J. Warren"
          ],
          [
           "TJ Leaf"
          ],
          [
           "Taj Gibson"
          ],
          [
           "Tarik Black"
          ],
          [
           "Taurean Prince"
          ],
          [
           "Terrance Ferguson"
          ],
          [
           "Terrence Ross"
          ],
          [
           "Terry Rozier"
          ],
          [
           "Stanley Johnson"
          ],
          [
           "Sam Dekker"
          ],
          [
           "Salah Mejri"
          ],
          [
           "Ryan Arcidiacono"
          ],
          [
           "Quincy Acy"
          ],
          [
           "Quincy Pondexter"
          ],
          [
           "Quinn Cook"
          ],
          [
           "RJ Hunter"
          ],
          [
           "Rajon Rondo"
          ],
          [
           "Ramon Sessions"
          ],
          [
           "Rashad Vaughn"
          ],
          [
           "Raul Neto"
          ],
          [
           "Raymond Felton"
          ],
          [
           "Reggie Bullock"
          ],
          [
           "Reggie Hearn"
          ],
          [
           "Reggie Jackson"
          ],
          [
           "Richard Jefferson"
          ],
          [
           "Richaun Holmes"
          ],
          [
           "Ricky Rubio"
          ],
          [
           "Robert Covington"
          ],
          [
           "Robin Lopez"
          ],
          [
           "Rodney Hood"
          ],
          [
           "Rodney McGruder"
          ],
          [
           "Rodney Purvis"
          ],
          [
           "Ron Baker"
          ],
          [
           "Rondae Hollis-Jefferson"
          ],
          [
           "Royce O'Neale"
          ],
          [
           "Rudy Gay"
          ],
          [
           "Rudy Gobert"
          ],
          [
           "Russell Westbrook"
          ],
          [
           "Ryan Anderson"
          ],
          [
           "Thabo Sefolosha"
          ],
          [
           "Paul Zipser"
          ],
          [
           "Thaddeus Young"
          ],
          [
           "Thon Maker"
          ],
          [
           "Tyson Chandler"
          ],
          [
           "Tyus Jones"
          ],
          [
           "Udonis Haslem"
          ],
          [
           "Vander Blue"
          ],
          [
           "Victor Oladipo"
          ],
          [
           "Vince Carter"
          ],
          [
           "Vincent Hunter"
          ],
          [
           "Wade Baldwin IV"
          ],
          [
           "Walt Lemon Jr."
          ],
          [
           "Wayne Ellington"
          ],
          [
           "Wayne Selden"
          ],
          [
           "Wes Iwundu"
          ],
          [
           "Tyrone Wallace"
          ],
          [
           "Wesley Johnson"
          ],
          [
           "Will Barton"
          ],
          [
           "Willie Cauley-Stein"
          ],
          [
           "Willie Reed"
          ],
          [
           "Willy Hernangomez"
          ],
          [
           "Wilson Chandler"
          ],
          [
           "Xavier Munford"
          ],
          [
           "Xavier Rathan-Mayes"
          ],
          [
           "Xavier Silas"
          ],
          [
           "Yogi Ferrell"
          ],
          [
           "Zach Collins"
          ],
          [
           "Zach LaVine"
          ],
          [
           "Zach Randolph"
          ],
          [
           "Wesley Matthews"
          ],
          [
           "Tyreke Evans"
          ],
          [
           "Tyler Zeller"
          ],
          [
           "Tyler Ulis"
          ],
          [
           "Tim Frazier"
          ],
          [
           "Tim Hardaway Jr."
          ],
          [
           "Tim Quarterman"
          ],
          [
           "Timofey Mozgov"
          ],
          [
           "Timothe Luwawu-Cabarrot"
          ],
          [
           "Tobias Harris"
          ],
          [
           "Tomas Satoransky"
          ],
          [
           "Tony Allen"
          ],
          [
           "Tony Bradley"
          ],
          [
           "Tony Parker"
          ],
          [
           "Tony Snell"
          ],
          [
           "Torrey Craig"
          ],
          [
           "Travis Wear"
          ],
          [
           "Treveon Graham"
          ],
          [
           "Trevor Ariza"
          ],
          [
           "Trevor Booker"
          ],
          [
           "Trey Burke"
          ],
          [
           "Trey Lyles"
          ],
          [
           "Trey McKinney-Jones"
          ],
          [
           "Tristan Thompson"
          ],
          [
           "Troy Daniels"
          ],
          [
           "Troy Williams"
          ],
          [
           "Tyler Cavanaugh"
          ],
          [
           "Tyler Dorsey"
          ],
          [
           "Tyler Ennis"
          ],
          [
           "Tyler Johnson"
          ],
          [
           "Tyler Lydon"
          ],
          [
           "Thomas Bryant"
          ],
          [
           "Brice Johnson"
          ],
          [
           "Paul Millsap"
          ],
          [
           "Pau Gasol"
          ],
          [
           "Lou Williams"
          ],
          [
           "Luc Mbah a Moute"
          ],
          [
           "Lucas Nogueira"
          ],
          [
           "Luis Montero"
          ],
          [
           "Luke Babbitt"
          ],
          [
           "Luke Kennard"
          ],
          [
           "Luke Kornet"
          ],
          [
           "Luol Deng"
          ],
          [
           "Malachi Richardson"
          ],
          [
           "Malcolm Brogdon"
          ],
          [
           "Malcolm Delaney"
          ],
          [
           "Malcolm Miller"
          ],
          [
           "Lorenzo Brown"
          ],
          [
           "Malik Beasley"
          ],
          [
           "Mangok Mathiang"
          ],
          [
           "Manu Ginobili"
          ],
          [
           "MarShon Brooks"
          ],
          [
           "Marc Gasol"
          ],
          [
           "Marcin Gortat"
          ],
          [
           "Marco Belinelli"
          ],
          [
           "Marcus Georges-Hunt"
          ],
          [
           "Marcus Morris Sr."
          ],
          [
           "Marcus Paige"
          ],
          [
           "Marcus Smart"
          ],
          [
           "Mario Chalmers"
          ],
          [
           "Mario Hezonja"
          ],
          [
           "Malik Monk"
          ],
          [
           "Lonzo Ball"
          ],
          [
           "London Perrantes"
          ],
          [
           "LeBron James"
          ],
          [
           "Kent Bazemore"
          ],
          [
           "Kentavious Caldwell-Pope"
          ],
          [
           "Kevin Durant"
          ],
          [
           "Kevin Love"
          ],
          [
           "Kevon Looney"
          ],
          [
           "Khem Birch"
          ],
          [
           "Khris Middleton"
          ],
          [
           "Klay Thompson"
          ],
          [
           "Kobi Simmons"
          ],
          [
           "Kosta Koufos"
          ],
          [
           "Kris Dunn"
          ],
          [
           "Kristaps Porzingis"
          ],
          [
           "Kyle Anderson"
          ],
          [
           "Kyle Collinsworth"
          ],
          [
           "Kyle Korver"
          ],
          [
           "Kyle Kuzma"
          ],
          [
           "Kyle Lowry"
          ],
          [
           "Kyle O'Quinn"
          ],
          [
           "Kyle Singler"
          ],
          [
           "Kyrie Irving"
          ],
          [
           "LaMarcus Aldridge"
          ],
          [
           "Lance Stephenson"
          ],
          [
           "Lance Thomas"
          ],
          [
           "Langston Galloway"
          ],
          [
           "Larry Drew II"
          ],
          [
           "Larry Nance Jr."
          ],
          [
           "Lauri Markkanen"
          ],
          [
           "Markel Brown"
          ],
          [
           "Paul George"
          ],
          [
           "Markelle Fultz"
          ],
          [
           "Marquese Chriss"
          ],
          [
           "Nerlens Noel"
          ],
          [
           "Nick Collison"
          ],
          [
           "Nick Young"
          ],
          [
           "Nicolas Batum"
          ],
          [
           "Nicolas Brussino"
          ],
          [
           "Nigel Hayes"
          ],
          [
           "Nik Stauskas"
          ],
          [
           "Nikola Jokic"
          ],
          [
           "Nikola Mirotic"
          ],
          [
           "Nikola Vucevic"
          ],
          [
           "Noah Vonleh"
          ],
          [
           "Norman Powell"
          ],
          [
           "Nene"
          ],
          [
           "OG Anunoby"
          ],
          [
           "Omari Johnson"
          ],
          [
           "Omer Asik"
          ],
          [
           "Omri Casspi"
          ],
          [
           "Otto Porter Jr."
          ],
          [
           "P.J. Tucker"
          ],
          [
           "PJ Dozier"
          ],
          [
           "Pascal Siakam"
          ],
          [
           "Pat Connaughton"
          ],
          [
           "Patrick Beverley"
          ],
          [
           "Patrick McCaw"
          ],
          [
           "Patrick Patterson"
          ],
          [
           "Patty Mills"
          ],
          [
           "Okaro White"
          ],
          [
           "Nemanja Bjelica"
          ],
          [
           "Naz Mitrou-Long"
          ],
          [
           "Nate Wolters"
          ],
          [
           "Marquis Teague"
          ],
          [
           "Marreese Speights"
          ],
          [
           "Marshall Plumlee"
          ],
          [
           "Marvin Williams"
          ],
          [
           "Mason Plumlee"
          ],
          [
           "Matt Costello"
          ],
          [
           "Matt Williams Jr."
          ],
          [
           "Matthew Dellavedova"
          ],
          [
           "Maurice Harkless"
          ],
          [
           "Maxi Kleber"
          ],
          [
           "Meyers Leonard"
          ],
          [
           "Michael Beasley"
          ],
          [
           "Michael Carter-Williams"
          ],
          [
           "Michael Kidd-Gilchrist"
          ],
          [
           "Mike Conley"
          ],
          [
           "Mike James"
          ],
          [
           "Mike Muscala"
          ],
          [
           "Mike Scott"
          ],
          [
           "Miles Plumlee"
          ],
          [
           "Milos Teodosic"
          ],
          [
           "Milton Doyle"
          ],
          [
           "Mindaugas Kuzminskas"
          ],
          [
           "Mirza Teletovic"
          ],
          [
           "Monte Morris"
          ],
          [
           "Montrezl Harrell"
          ],
          [
           "Myke Henry"
          ],
          [
           "Myles Turner"
          ],
          [
           "Markieff Morris"
          ],
          [
           "Zaza Pachulia"
          ],
          [
           "Zhou Qi"
          ],
          [
           "Alex Caruso"
          ],
          [
           "Andrew Harrison"
          ],
          [
           "Andrew Bogut"
          ],
          [
           "Andre Roberson"
          ],
          [
           "Andre Iguodala"
          ],
          [
           "Andre Drummond"
          ],
          [
           "Amir Johnson"
          ],
          [
           "Allen Crabbe"
          ],
          [
           "Alfonzo McKinnie"
          ],
          [
           "Alex Poythress"
          ],
          [
           "Alex Len"
          ],
          [
           "Alex Abrines"
          ],
          [
           "Alec Peters"
          ],
          [
           "Alec Burks"
          ],
          [
           "Alan Williams"
          ],
          [
           "Al-Farouq Aminu"
          ],
          [
           "Al Jefferson"
          ],
          [
           "Al Horford"
          ],
          [
           "Adreian Payne"
          ],
          [
           "Abdel Nader"
          ],
          [
           "Aaron Jackson"
          ],
          [
           "Aaron Harrison"
          ],
          [
           "Aaron Gordon"
          ],
          [
           "Aaron Brooks"
          ],
          [
           "Andrew White III"
          ],
          [
           "Andrew Wiggins"
          ],
          [
           "Andre Ingram"
          ],
          [
           "Anthony Brown"
          ],
          [
           "Brandon Paul"
          ],
          [
           "Brandon Jennings"
          ],
          [
           "Brandon Ingram"
          ],
          [
           "Brandan Wright"
          ],
          [
           "Bradley Beal"
          ],
          [
           "Bojan Bogdanovic"
          ],
          [
           "Bogdan Bogdanovic"
          ],
          [
           "Ante Zizic"
          ],
          [
           "Bobby Brown"
          ],
          [
           "Boban Marjanovic"
          ],
          [
           "Blake Griffin"
          ],
          [
           "Bismack Biyombo"
          ],
          [
           "Ben Simmons"
          ],
          [
           "Bobby Portis"
          ],
          [
           "Ben Moore"
          ],
          [
           "Anthony Tolliver"
          ],
          [
           "Antonio Blakeney"
          ],
          [
           "Antonius Cleveland"
          ],
          [
           "Aron Baynes"
          ],
          [
           "Anthony Davis"
          ],
          [
           "Austin Rivers"
          ],
          [
           "Avery Bradley"
          ],
          [
           "Bam Adebayo"
          ],
          [
           "Ben McLemore"
          ],
          [
           "Arron Afflalo"
          ],
          [
           "Mike Conley"
          ],
          [
           "Mike Muscala"
          ],
          [
           "Mike Scott"
          ],
          [
           "Miles Bridges"
          ],
          [
           "Miles Plumlee"
          ],
          [
           "Mitchell Robinson"
          ],
          [
           "Mitchell Creek"
          ],
          [
           "Mo Bamba"
          ],
          [
           "Monte Morris"
          ],
          [
           "Montrezl Harrell"
          ],
          [
           "Mikal Bridges"
          ],
          [
           "Milos Teodosic"
          ],
          [
           "Michael Kidd-Gilchrist"
          ],
          [
           "Dante Cunningham"
          ],
          [
           "Michael Beasley"
          ],
          [
           "Meyers Leonard"
          ],
          [
           "Melvin Frazier Jr."
          ],
          [
           "Maxi Kleber"
          ],
          [
           "Maurice Harkless"
          ],
          [
           "Matthew Dellavedova"
          ],
          [
           "Mason Plumlee"
          ],
          [
           "Marvin Williams"
          ],
          [
           "Marvin Bagley III"
          ],
          [
           "Marquese Chriss"
          ],
          [
           "Markieff Morris"
          ],
          [
           "Moritz Wagner"
          ],
          [
           "Michael Carter-Williams"
          ],
          [
           "Myles Turner"
          ],
          [
           "Paul George"
          ],
          [
           "Nemanja Bjelica"
          ],
          [
           "Paul Millsap"
          ],
          [
           "Markelle Fultz"
          ],
          [
           "Pau Gasol"
          ],
          [
           "Patty Mills"
          ],
          [
           "Patrick Patterson"
          ],
          [
           "Patrick McCaw"
          ],
          [
           "Patrick Beverley"
          ],
          [
           "Pat Connaughton"
          ],
          [
           "Pascal Siakam"
          ],
          [
           "PJ Dozier"
          ],
          [
           "P.J. Tucker"
          ],
          [
           "Otto Porter Jr."
          ],
          [
           "Naz Mitrou-Long"
          ],
          [
           "Omri Casspi"
          ],
          [
           "Okaro White"
          ],
          [
           "OG Anunoby"
          ],
          [
           "Norman Powell"
          ],
          [
           "Noah Vonleh"
          ],
          [
           "Nikola Vucevic"
          ],
          [
           "Nikola Mirotic"
          ],
          [
           "Nikola Jokic"
          ],
          [
           "Nik Stauskas"
          ],
          [
           "Nicolas Batum"
          ],
          [
           "Nick Young"
          ],
          [
           "Nerlens Noel"
          ],
          [
           "Nene"
          ],
          [
           "Omari Spellman"
          ],
          [
           "Mario Hezonja"
          ],
          [
           "Lance Thomas"
          ],
          [
           "Marcus Morris Sr."
          ],
          [
           "Kyle Kuzma"
          ],
          [
           "Kyle Korver"
          ],
          [
           "Kyle Anderson"
          ],
          [
           "Kris Dunn"
          ],
          [
           "Kostas Antetokounmpo"
          ],
          [
           "Kosta Koufos"
          ],
          [
           "Kobi Simmons"
          ],
          [
           "Klay Thompson"
          ],
          [
           "Khyri Thomas"
          ],
          [
           "Khris Middleton"
          ],
          [
           "Khem Birch"
          ],
          [
           "Kevon Looney"
          ],
          [
           "Kyle Lowry"
          ],
          [
           "Kevin Love"
          ],
          [
           "Kevin Huerter"
          ],
          [
           "Kevin Durant"
          ],
          [
           "Kentavious Caldwell-Pope"
          ],
          [
           "Kent Bazemore"
          ],
          [
           "Kenrich Williams"
          ],
          [
           "Kenneth Faried"
          ],
          [
           "Kemba Walker"
          ],
          [
           "Kelly Oubre Jr."
          ],
          [
           "Kelly Olynyk"
          ],
          [
           "Keita Bates-Diop"
          ],
          [
           "Kawhi Leonard"
          ],
          [
           "Karl-Anthony Towns"
          ],
          [
           "Kevin Knox II"
          ],
          [
           "Marcus Smart"
          ],
          [
           "Kyle O'Quinn"
          ],
          [
           "LaMarcus Aldridge"
          ],
          [
           "Marcus Derrickson"
          ],
          [
           "Marco Belinelli"
          ],
          [
           "Marcin Gortat"
          ],
          [
           "Marc Gasol"
          ],
          [
           "MarShon Brooks"
          ],
          [
           "Malik Monk"
          ],
          [
           "Malik Beasley"
          ],
          [
           "Malcolm Miller"
          ],
          [
           "Malcolm Brogdon"
          ],
          [
           "Malachi Richardson"
          ],
          [
           "Luol Deng"
          ],
          [
           "Luke Kornet"
          ],
          [
           "Kyrie Irving"
          ],
          [
           "Luke Kennard"
          ],
          [
           "Luc Mbah a Moute"
          ],
          [
           "Lou Williams"
          ],
          [
           "Lorenzo Brown"
          ],
          [
           "Lonzo Ball"
          ],
          [
           "Lonnie Walker IV"
          ],
          [
           "LeBron James"
          ],
          [
           "Lauri Markkanen"
          ],
          [
           "Larry Nance Jr."
          ],
          [
           "Langston Galloway"
          ],
          [
           "Landry Shamet"
          ],
          [
           "Quincy Acy"
          ],
          [
           "Lance Stephenson"
          ],
          [
           "Luka Doncic"
          ],
          [
           "Quincy Pondexter"
          ],
          [
           "Salah Mejri"
          ],
          [
           "RJ Hunter"
          ],
          [
           "Tyler Johnson"
          ],
          [
           "Tyler Dorsey"
          ],
          [
           "Tyler Davis"
          ],
          [
           "Tyler Cavanaugh"
          ],
          [
           "Troy Williams"
          ],
          [
           "Troy Daniels"
          ],
          [
           "Troy Caupain"
          ],
          [
           "Troy Brown Jr."
          ],
          [
           "Tristan Thompson"
          ],
          [
           "Trey Lyles"
          ],
          [
           "Trey Burke"
          ],
          [
           "Trevor Ariza"
          ],
          [
           "Trevon Duval"
          ],
          [
           "Treveon Graham"
          ],
          [
           "Trae Young"
          ],
          [
           "Torrey Craig"
          ],
          [
           "Tony Snell"
          ],
          [
           "Tony Parker"
          ],
          [
           "Tony Bradley"
          ],
          [
           "Tomas Satoransky"
          ],
          [
           "Tobias Harris"
          ],
          [
           "Timothe Luwawu-Cabarrot"
          ],
          [
           "Tim Hardaway Jr."
          ],
          [
           "Tim Frazier"
          ],
          [
           "Thon Maker"
          ],
          [
           "Tyler Lydon"
          ],
          [
           "Tyler Ulis"
          ],
          [
           "Tyler Zeller"
          ],
          [
           "Tyreke Evans"
          ],
          [
           "Zaza Pachulia"
          ],
          [
           "Zach Lofton"
          ],
          [
           "Zach LaVine"
          ],
          [
           "Zach Collins"
          ],
          [
           "Yuta Watanabe"
          ],
          [
           "Yogi Ferrell"
          ],
          [
           "Yante Maten"
          ],
          [
           "Wilson Chandler"
          ],
          [
           "Willy Hernangomez"
          ],
          [
           "Willie Cauley-Stein"
          ],
          [
           "Will Barton"
          ],
          [
           "Wesley Matthews"
          ],
          [
           "Thomas Welsh"
          ],
          [
           "Wesley Johnson"
          ],
          [
           "Wendell Carter Jr."
          ],
          [
           "Wayne Selden"
          ],
          [
           "Wayne Ellington"
          ],
          [
           "Walt Lemon Jr."
          ],
          [
           "Wade Baldwin IV"
          ],
          [
           "Vincent Edwards"
          ],
          [
           "Vince Carter"
          ],
          [
           "Victor Oladipo"
          ],
          [
           "Udonis Haslem"
          ],
          [
           "Tyus Jones"
          ],
          [
           "Tyson Chandler"
          ],
          [
           "Tyrone Wallace"
          ],
          [
           "Wes Iwundu"
          ],
          [
           "Thomas Bryant"
          ],
          [
           "Theo Pinson"
          ],
          [
           "Thaddeus Young"
          ],
          [
           "Sam Dekker"
          ],
          [
           "Kalin Lucas"
          ],
          [
           "Ryan Broekhoff"
          ],
          [
           "Ryan Arcidiacono"
          ],
          [
           "Ryan Anderson"
          ],
          [
           "Russell Westbrook"
          ],
          [
           "Rudy Gobert"
          ],
          [
           "Rudy Gay"
          ],
          [
           "Royce O'Neale"
          ],
          [
           "Rondae Hollis-Jefferson"
          ],
          [
           "Ron Baker"
          ],
          [
           "Rodney McGruder"
          ],
          [
           "Scott Machado"
          ],
          [
           "Rodney Hood"
          ],
          [
           "Robin Lopez"
          ],
          [
           "Robert Williams III"
          ],
          [
           "Robert Covington"
          ],
          [
           "Ricky Rubio"
          ],
          [
           "Richaun Holmes"
          ],
          [
           "Reggie Jackson"
          ],
          [
           "Reggie Bullock"
          ],
          [
           "Raymond Felton"
          ],
          [
           "Ray Spalding"
          ],
          [
           "Rawle Alkins"
          ],
          [
           "Raul Neto"
          ],
          [
           "Rajon Rondo"
          ],
          [
           "Rodions Kurucs"
          ],
          [
           "Quinn Cook"
          ],
          [
           "Semi Ojeleye"
          ],
          [
           "Seth Curry"
          ],
          [
           "Thabo Sefolosha"
          ],
          [
           "Terry Rozier"
          ],
          [
           "Terrence Ross"
          ],
          [
           "Terrence Jones"
          ],
          [
           "Terrance Ferguson"
          ],
          [
           "Taurean Prince"
          ],
          [
           "Taj Gibson"
          ],
          [
           "Tahjere McCall"
          ],
          [
           "TJ Leaf"
          ],
          [
           "T.J. Warren"
          ],
          [
           "T.J. McConnell"
          ],
          [
           "Svi Mykhailiuk"
          ],
          [
           "Serge Ibaka"
          ],
          [
           "Steven Adams"
          ],
          [
           "Stephen Curry"
          ],
          [
           "Stanley Johnson"
          ],
          [
           "Spencer Dinwiddie"
          ],
          [
           "Solomon Hill"
          ],
          [
           "Skal Labissiere"
          ],
          [
           "Sindarius Thornwell"
          ],
          [
           "Shelvin Mack"
          ],
          [
           "Shaun Livingston"
          ],
          [
           "Shaquille Harrison"
          ],
          [
           "Shake Milton"
          ],
          [
           "Shai Gilgeous-Alexander"
          ],
          [
           "Shabazz Napier"
          ],
          [
           "Sterling Brown"
          ],
          [
           "Dante Exum"
          ],
          [
           "Kadeem Allen"
          ],
          [
           "Justise Winslow"
          ],
          [
           "Abdel Nader"
          ],
          [
           "Aaron Holiday"
          ],
          [
           "Aaron Gordon"
          ],
          [
           "Dario Saric"
          ],
          [
           "Darius Miller"
          ],
          [
           "Darren Collison"
          ],
          [
           "Al Horford"
          ],
          [
           "Daryl Macon"
          ],
          [
           "Davis Bertans"
          ],
          [
           "Davon Reed"
          ],
          [
           "De'Aaron Fox"
          ],
          [
           "De'Anthony Melton"
          ],
          [
           "DeAndre Jordan"
          ],
          [
           "DeAndre' Bembry"
          ],
          [
           "David Nwaba"
          ],
          [
           "DeMar DeRozan"
          ],
          [
           "Al-Farouq Aminu"
          ],
          [
           "Alec Burks"
          ],
          [
           "Andrew Bogut"
          ],
          [
           "Andre Ingram"
          ],
          [
           "Andre Iguodala"
          ],
          [
           "Andre Drummond"
          ],
          [
           "Amir Johnson"
          ],
          [
           "Amile Jefferson"
          ],
          [
           "Alan Williams"
          ],
          [
           "Allonzo Trier"
          ],
          [
           "Alize Johnson"
          ],
          [
           "Alfonzo McKinnie"
          ],
          [
           "Alex Poythress"
          ],
          [
           "Alex Len"
          ],
          [
           "Alex Caruso"
          ],
          [
           "Alex Abrines"
          ],
          [
           "Allen Crabbe"
          ],
          [
           "Andrew Harrison"
          ],
          [
           "DeMarcus Cousins"
          ],
          [
           "DeVaughn Akoon-Purcell"
          ],
          [
           "Dion Waiters"
          ],
          [
           "Dirk Nowitzki"
          ],
          [
           "Domantas Sabonis"
          ],
          [
           "Donatas Motiejunas"
          ],
          [
           "Donovan Mitchell"
          ],
          [
           "Donte DiVincenzo"
          ],
          [
           "Dillon Brooks"
          ],
          [
           "Donte Grantham"
          ],
          [
           "Doug McDermott"
          ],
          [
           "Dragan Bender"
          ],
          [
           "Draymond Green"
          ],
          [
           "Drew Eubanks"
          ],
          [
           "Duncan Robinson"
          ],
          [
           "Dusty Hannahs"
          ],
          [
           "Dorian Finney-Smith"
          ],
          [
           "DeMarre Carroll"
          ],
          [
           "Deyonta Davis"
          ],
          [
           "Devonte' Graham"
          ],
          [
           "Deandre Ayton"
          ],
          [
           "Delon Wright"
          ],
          [
           "Demetrius Jackson"
          ],
          [
           "Deng Adel"
          ],
          [
           "Dennis Schroder"
          ],
          [
           "Dennis Smith Jr."
          ],
          [
           "Dewayne Dedmon"
          ],
          [
           "Deonte Burton"
          ],
          [
           "Derrick Jones Jr."
          ],
          [
           "Derrick Rose"
          ],
          [
           "Derrick White"
          ],
          [
           "Devin Booker"
          ],
          [
           "Devin Harris"
          ],
          [
           "Devin Robinson"
          ],
          [
           "Derrick Favors"
          ],
          [
           "Andrew Wiggins"
          ],
          [
           "Anfernee Simons"
          ],
          [
           "Angel Delgado"
          ],
          [
           "Cody Zeller"
          ],
          [
           "Clint Capela"
          ],
          [
           "Christian Wood"
          ],
          [
           "Chris Paul"
          ],
          [
           "Chris Chiozza"
          ],
          [
           "Chris Boucher"
          ],
          [
           "Collin Sexton"
          ],
          [
           "Chimezie Metu"
          ],
          [
           "Chasson Randle"
          ],
          [
           "Channing Frye"
          ],
          [
           "Chandler Parsons"
          ],
          [
           "Chandler Hutchison"
          ],
          [
           "Cedi Osman"
          ],
          [
           "Carmelo Anthony"
          ],
          [
           "Cheick Diallo"
          ],
          [
           "Caris LeVert"
          ],
          [
           "Corey Brewer"
          ],
          [
           "Courtney Lee"
          ],
          [
           "Danny Green"
          ],
          [
           "Danilo Gallinari"
          ],
          [
           "Daniel Theis"
          ],
          [
           "Daniel Hamilton"
          ],
          [
           "Damyean Dotson"
          ],
          [
           "Damion Lee"
          ],
          [
           "Cory Joseph"
          ],
          [
           "Damian Lillard"
          ],
          [
           "Dairis Bertans"
          ],
          [
           "DJ Stephens"
          ],
          [
           "D.J. Wilson"
          ],
          [
           "D.J. Augustin"
          ],
          [
           "D'Angelo Russell"
          ],
          [
           "Cristiano Felicio"
          ],
          [
           "Damian Jones"
          ],
          [
           "Cameron Reynolds"
          ],
          [
           "Cameron Payne"
          ],
          [
           "Caleb Swanigan"
          ],
          [
           "Blake Griffin"
          ],
          [
           "Bismack Biyombo"
          ],
          [
           "Billy Garrett"
          ],
          [
           "Ben Simmons"
          ],
          [
           "Ben McLemore"
          ],
          [
           "Bam Adebayo"
          ],
          [
           "Boban Marjanovic"
          ],
          [
           "BJ Johnson"
          ],
          [
           "Austin Rivers"
          ],
          [
           "Aron Baynes"
          ],
          [
           "Antonio Blakeney"
          ],
          [
           "Anthony Tolliver"
          ],
          [
           "Anthony Davis"
          ],
          [
           "Ante Zizic"
          ],
          [
           "Avery Bradley"
          ],
          [
           "Bobby Portis"
          ],
          [
           "Bogdan Bogdanovic"
          ],
          [
           "Bojan Bogdanovic"
          ],
          [
           "CJ Miles"
          ],
          [
           "CJ McCollum"
          ],
          [
           "C.J. Williams"
          ],
          [
           "Buddy Hield"
          ],
          [
           "Bryn Forbes"
          ],
          [
           "Bruno Caboclo"
          ],
          [
           "Bruce Brown"
          ],
          [
           "Brook Lopez"
          ],
          [
           "Brandon Sampson"
          ],
          [
           "Danuel House Jr."
          ],
          [
           "Brandon Ingram"
          ],
          [
           "Brandon Goodwin"
          ],
          [
           "Bradley Beal"
          ],
          [
           "Brad Wanamaker"
          ],
          [
           "Bonzie Colson"
          ],
          [
           "Dwayne Bacon"
          ],
          [
           "Dwight Howard"
          ],
          [
           "Dwight Powell"
          ],
          [
           "Dwyane Wade"
          ],
          [
           "Jaylen Morris"
          ],
          [
           "Jayson Tatum"
          ],
          [
           "Jeff Green"
          ],
          [
           "Jeff Teague"
          ],
          [
           "Jemerrio Jones"
          ],
          [
           "Jerami Grant"
          ],
          [
           "Jaylen Brown"
          ],
          [
           "Jeremy Lamb"
          ],
          [
           "Jerian Grant"
          ],
          [
           "Jerome Robinson"
          ],
          [
           "Jerryd Bayless"
          ],
          [
           "Jevon Carter"
          ],
          [
           "Jimmer Fredette"
          ],
          [
           "Jimmy Butler"
          ],
          [
           "Jeremy Lin"
          ],
          [
           "Joakim Noah"
          ],
          [
           "Jaylen Adams"
          ],
          [
           "Jason Smith"
          ],
          [
           "Jalen Jones"
          ],
          [
           "Jamal Crawford"
          ],
          [
           "Jamal Murray"
          ],
          [
           "James Ennis III"
          ],
          [
           "James Harden"
          ],
          [
           "James Johnson"
          ],
          [
           "Jawun Evans"
          ],
          [
           "James Nunnally"
          ],
          [
           "Jared Terrell"
          ],
          [
           "Jarell Martin"
          ],
          [
           "Jaren Jackson Jr."
          ],
          [
           "Jaron Blossomgame"
          ],
          [
           "Jarred Vanderbilt"
          ],
          [
           "Jarrett Allen"
          ],
          [
           "Jared Dudley"
          ],
          [
           "Jodie Meeks"
          ],
          [
           "Joe Chealey"
          ],
          [
           "Joe Harris"
          ],
          [
           "Jordan Sibert"
          ],
          [
           "Jose Calderon"
          ],
          [
           "Josh Hart"
          ],
          [
           "Josh Jackson"
          ],
          [
           "Josh Okogie"
          ],
          [
           "Josh Richardson"
          ],
          [
           "Jordan McRae"
          ],
          [
           "Jrue Holiday"
          ],
          [
           "Julian Washburn"
          ],
          [
           "Julius Randle"
          ],
          [
           "Justin Anderson"
          ],
          [
           "Justin Holiday"
          ],
          [
           "Justin Jackson"
          ],
          [
           "Justin Patton"
          ],
          [
           "Juancho Hernangomez"
          ],
          [
           "Jordan Loyd"
          ],
          [
           "Jordan Clarkson"
          ],
          [
           "Jordan Bell"
          ],
          [
           "Joe Ingles"
          ],
          [
           "Joel Embiid"
          ],
          [
           "John Collins"
          ],
          [
           "John Henson"
          ],
          [
           "John Holland"
          ],
          [
           "John Jenkins"
          ],
          [
           "John Wall"
          ],
          [
           "Johnathan Motley"
          ],
          [
           "Johnathan Williams"
          ],
          [
           "Jon Leuer"
          ],
          [
           "Jonah Bolden"
          ],
          [
           "Jonas Jerebko"
          ],
          [
           "Jonas Valanciunas"
          ],
          [
           "Jonathan Isaac"
          ],
          [
           "Jonathon Simmons"
          ],
          [
           "Jalen Brunson"
          ],
          [
           "Jusuf Nurkic"
          ],
          [
           "Jakob Poeltl"
          ],
          [
           "Jahlil Okafor"
          ],
          [
           "Frank Mason"
          ],
          [
           "Frank Ntilikina"
          ],
          [
           "Fred VanVleet"
          ],
          [
           "Furkan Korkmaz"
          ],
          [
           "Garrett Temple"
          ],
          [
           "Gary Clark"
          ],
          [
           "Frank Kaminsky"
          ],
          [
           "Gary Harris"
          ],
          [
           "Gary Trent Jr."
          ],
          [
           "George Hill"
          ],
          [
           "George King"
          ],
          [
           "Georges Niang"
          ],
          [
           "Gerald Green"
          ],
          [
           "Giannis Antetokounmpo"
          ],
          [
           "Gary Payton II"
          ],
          [
           "Glenn Robinson III"
          ],
          [
           "Frank Jackson"
          ],
          [
           "Evan Fournier"
          ],
          [
           "Dzanan Musa"
          ],
          [
           "E'Twaun Moore"
          ],
          [
           "Ed Davis"
          ],
          [
           "Edmond Sumner"
          ],
          [
           "Ekpe Udoh"
          ],
          [
           "Elfrid Payton"
          ],
          [
           "Evan Turner"
          ],
          [
           "Elie Okobo"
          ],
          [
           "Emmanuel Mudiay"
          ],
          [
           "Enes Kanter"
          ],
          [
           "Eric Bledsoe"
          ],
          [
           "Eric Gordon"
          ],
          [
           "Eric Moreland"
          ],
          [
           "Ersan Ilyasova"
          ],
          [
           "Emanuel Terry"
          ],
          [
           "Goran Dragic"
          ],
          [
           "Gordon Hayward"
          ],
          [
           "Gorgui Dieng"
          ],
          [
           "Isaiah Thomas"
          ],
          [
           "Ish Smith"
          ],
          [
           "Ivan Rabb"
          ],
          [
           "Ivica Zubac"
          ],
          [
           "J.J. Barea"
          ],
          [
           "J.P. Macura"
          ],
          [
           "Isaiah Hicks"
          ],
          [
           "JJ Redick"
          ],
          [
           "JaKarr Sampson"
          ],
          [
           "JaMychal Green"
          ],
          [
           "JaVale McGee"
          ],
          [
           "Jabari Parker"
          ],
          [
           "Jacob Evans"
          ],
          [
           "Jae Crowder"
          ],
          [
           "JR Smith"
          ],
          [
           "Isaiah Hartenstein"
          ],
          [
           "Isaiah Canaan"
          ],
          [
           "Isaiah Briscoe"
          ],
          [
           "Grayson Allen"
          ],
          [
           "Greg Monroe"
          ],
          [
           "Guerschon Yabusele"
          ],
          [
           "Hamidou Diallo"
          ],
          [
           "Harrison Barnes"
          ],
          [
           "Harry Giles III"
          ],
          [
           "Hassan Whiteside"
          ],
          [
           "Haywood Highsmith"
          ],
          [
           "Henry Ellenson"
          ],
          [
           "Ian Clark"
          ],
          [
           "Ian Mahinmi"
          ],
          [
           "Ike Anigbogu"
          ],
          [
           "Iman Shumpert"
          ],
          [
           "Isaac Bonga"
          ],
          [
           "Isaac Humphries"
          ],
          [
           "Jake Layman"
          ],
          [
           "Brandon Knight"
          ],
          [
           "Zhou Qi"
          ],
          [
           "Zhaire Smith"
          ],
          [
           "Fred VanVleet"
          ],
          [
           "Furkan Korkmaz"
          ],
          [
           "Gabe Vincent"
          ],
          [
           "Garrett Temple"
          ],
          [
           "Garrison Mathews"
          ],
          [
           "Gary Clark"
          ],
          [
           "Gary Harris"
          ],
          [
           "Gary Payton II"
          ],
          [
           "Gary Trent Jr."
          ],
          [
           "George Hill"
          ],
          [
           "Georges Niang"
          ],
          [
           "Giannis Antetokounmpo"
          ],
          [
           "Glenn Robinson III"
          ],
          [
           "Goga Bitadze"
          ],
          [
           "Goran Dragic"
          ],
          [
           "Gordon Hayward"
          ],
          [
           "Gorgui Dieng"
          ],
          [
           "Grant Williams"
          ],
          [
           "Grayson Allen"
          ],
          [
           "Hamidou Diallo"
          ],
          [
           "Harrison Barnes"
          ],
          [
           "Harry Giles III"
          ],
          [
           "Hassan Whiteside"
          ],
          [
           "Henry Ellenson"
          ],
          [
           "Ian Mahinmi"
          ],
          [
           "Ignas Brazdeikis"
          ],
          [
           "Iman Shumpert"
          ],
          [
           "Isaac Bonga"
          ],
          [
           "Isaiah Hartenstein"
          ],
          [
           "Frank Ntilikina"
          ],
          [
           "Isaiah Roby"
          ],
          [
           "Frank Mason"
          ],
          [
           "Frank Jackson"
          ],
          [
           "Domantas Sabonis"
          ],
          [
           "Donovan Mitchell"
          ],
          [
           "Donta Hall"
          ],
          [
           "Donte DiVincenzo"
          ],
          [
           "Dorian Finney-Smith"
          ],
          [
           "Doug McDermott"
          ],
          [
           "Dragan Bender"
          ],
          [
           "Draymond Green"
          ],
          [
           "Drew Eubanks"
          ],
          [
           "Duncan Robinson"
          ],
          [
           "Dusty Hannahs"
          ],
          [
           "Dwayne Bacon"
          ],
          [
           "Dwight Howard"
          ],
          [
           "Dwight Powell"
          ],
          [
           "Dzanan Musa"
          ],
          [
           "E'Twaun Moore"
          ],
          [
           "Ed Davis"
          ],
          [
           "Edmond Sumner"
          ],
          [
           "Elfrid Payton"
          ],
          [
           "Elie Okobo"
          ],
          [
           "Emmanuel Mudiay"
          ],
          [
           "Enes Kanter"
          ],
          [
           "Eric Bledsoe"
          ],
          [
           "Eric Gordon"
          ],
          [
           "Eric Mika"
          ],
          [
           "Eric Paschall"
          ],
          [
           "Ersan Ilyasova"
          ],
          [
           "Evan Fournier"
          ],
          [
           "Evan Turner"
          ],
          [
           "Frank Kaminsky"
          ],
          [
           "Dion Waiters"
          ],
          [
           "Isaiah Thomas"
          ],
          [
           "Ivica Zubac"
          ],
          [
           "Jaylen Hoard"
          ],
          [
           "Jaylen Nowell"
          ],
          [
           "Jayson Tatum"
          ],
          [
           "Jeff Green"
          ],
          [
           "Jeff Teague"
          ],
          [
           "Jerami Grant"
          ],
          [
           "Jeremiah Martin"
          ],
          [
           "Jeremy Lamb"
          ],
          [
           "Jeremy Pargo"
          ],
          [
           "Jerian Grant"
          ],
          [
           "Jerome Robinson"
          ],
          [
           "Jevon Carter"
          ],
          [
           "Jimmy Butler"
          ],
          [
           "Joakim Noah"
          ],
          [
           "Joe Chealey"
          ],
          [
           "Joe Harris"
          ],
          [
           "Joe Ingles"
          ],
          [
           "Joel Embiid"
          ],
          [
           "John Collins"
          ],
          [
           "John Henson"
          ],
          [
           "John Konchar"
          ],
          [
           "Johnathan Motley"
          ],
          [
           "Johnathan Williams"
          ],
          [
           "Jonah Bolden"
          ],
          [
           "Jonas Valanciunas"
          ],
          [
           "Jonathan Isaac"
          ],
          [
           "Jordan Bell"
          ],
          [
           "Jordan Bone"
          ],
          [
           "Jordan Clarkson"
          ],
          [
           "Jaylen Brown"
          ],
          [
           "Ish Smith"
          ],
          [
           "Jaxson Hayes"
          ],
          [
           "Jarrod Uthoff"
          ],
          [
           "J.J. Barea"
          ],
          [
           "J.P. Macura"
          ],
          [
           "JJ Redick"
          ],
          [
           "JR Smith"
          ],
          [
           "Ja Morant"
          ],
          [
           "JaKarr Sampson"
          ],
          [
           "JaMychal Green"
          ],
          [
           "JaVale McGee"
          ],
          [
           "Jabari Parker"
          ],
          [
           "Jacob Evans"
          ],
          [
           "Jae Crowder"
          ],
          [
           "Jahlil Okafor"
          ],
          [
           "Jake Layman"
          ],
          [
           "Jakob Poeltl"
          ],
          [
           "Jalen Brunson"
          ],
          [
           "Jalen Lecque"
          ],
          [
           "Jalen McDaniels"
          ],
          [
           "Jamal Crawford"
          ],
          [
           "Jamal Murray"
          ],
          [
           "James Ennis III"
          ],
          [
           "James Harden"
          ],
          [
           "James Johnson"
          ],
          [
           "Jared Dudley"
          ],
          [
           "Jared Harper"
          ],
          [
           "Jaren Jackson Jr."
          ],
          [
           "Jarred Vanderbilt"
          ],
          [
           "Jarrell Brantley"
          ],
          [
           "Jarrett Allen"
          ],
          [
           "Jarrett Culver"
          ],
          [
           "Javonte Green"
          ],
          [
           "Dillon Brooks"
          ],
          [
           "Dewayne Dedmon"
          ],
          [
           "Dewan Hernandez"
          ],
          [
           "Bismack Biyombo"
          ],
          [
           "Blake Griffin"
          ],
          [
           "Boban Marjanovic"
          ],
          [
           "Bobby Portis"
          ],
          [
           "Bogdan Bogdanovic"
          ],
          [
           "Bojan Bogdanovic"
          ],
          [
           "Bol Bol"
          ],
          [
           "Brad Wanamaker"
          ],
          [
           "Bradley Beal"
          ],
          [
           "Brandon Clarke"
          ],
          [
           "Brandon Goodwin"
          ],
          [
           "Brandon Ingram"
          ],
          [
           "Brandon Knight"
          ],
          [
           "Brian Bowen II"
          ],
          [
           "Brook Lopez"
          ],
          [
           "Bruce Brown"
          ],
          [
           "Bruno Caboclo"
          ],
          [
           "Bruno Fernando"
          ],
          [
           "Bryn Forbes"
          ],
          [
           "Buddy Hield"
          ],
          [
           "CJ McCollum"
          ],
          [
           "CJ Miles"
          ],
          [
           "Caleb Martin"
          ],
          [
           "Caleb Swanigan"
          ],
          [
           "Cam Reddish"
          ],
          [
           "Cameron Johnson"
          ],
          [
           "Cameron Payne"
          ],
          [
           "Caris LeVert"
          ],
          [
           "Carmelo Anthony"
          ],
          [
           "Ben Simmons"
          ],
          [
           "Carsen Edwards"
          ],
          [
           "Ben McLemore"
          ],
          [
           "BJ Johnson"
          ],
          [
           "Aaron Holiday"
          ],
          [
           "Abdel Nader"
          ],
          [
           "Adam Mokoka"
          ],
          [
           "Admiral Schofield"
          ],
          [
           "Al Horford"
          ],
          [
           "Al-Farouq Aminu"
          ],
          [
           "Alec Burks"
          ],
          [
           "Alen Smailagic"
          ],
          [
           "Alex Caruso"
          ],
          [
           "Alex Len"
          ],
          [
           "Alfonzo McKinnie"
          ],
          [
           "Alize Johnson"
          ],
          [
           "Allen Crabbe"
          ],
          [
           "Allonzo Trier"
          ],
          [
           "Amile Jefferson"
          ],
          [
           "Amir Coffey"
          ],
          [
           "Andre Drummond"
          ],
          [
           "Andre Iguodala"
          ],
          [
           "Andre Roberson"
          ],
          [
           "Andrew Wiggins"
          ],
          [
           "Anfernee Simons"
          ],
          [
           "Ante Zizic"
          ],
          [
           "Anthony Davis"
          ],
          [
           "Anthony Tolliver"
          ],
          [
           "Antonius Cleveland"
          ],
          [
           "Anzejs Pasecniks"
          ],
          [
           "Aron Baynes"
          ],
          [
           "Austin Rivers"
          ],
          [
           "Avery Bradley"
          ],
          [
           "Bam Adebayo"
          ],
          [
           "Cedi Osman"
          ],
          [
           "Chandler Hutchison"
          ],
          [
           "Chandler Parsons"
          ],
          [
           "Darius Bazley"
          ],
          [
           "Darius Garland"
          ],
          [
           "Daryl Macon"
          ],
          [
           "David Nwaba"
          ],
          [
           "Davis Bertans"
          ],
          [
           "De'Aaron Fox"
          ],
          [
           "De'Andre Hunter"
          ],
          [
           "De'Anthony Melton"
          ],
          [
           "DeAndre Jordan"
          ],
          [
           "DeAndre' Bembry"
          ],
          [
           "DeMar DeRozan"
          ],
          [
           "DeMarre Carroll"
          ],
          [
           "Dean Wade"
          ],
          [
           "Deandre Ayton"
          ],
          [
           "Dejounte Murray"
          ],
          [
           "Delon Wright"
          ],
          [
           "Dennis Schroder"
          ],
          [
           "Dennis Smith Jr."
          ],
          [
           "Denzel Valentine"
          ],
          [
           "Deonte Burton"
          ],
          [
           "Derrick Favors"
          ],
          [
           "Derrick Jones Jr."
          ],
          [
           "Derrick Rose"
          ],
          [
           "Derrick Walton Jr."
          ],
          [
           "Derrick White"
          ],
          [
           "Devin Booker"
          ],
          [
           "Devon Hall"
          ],
          [
           "Devontae Cacok"
          ],
          [
           "Devonte' Graham"
          ],
          [
           "Dario Saric"
          ],
          [
           "Danuel House Jr."
          ],
          [
           "Dante Exum"
          ],
          [
           "Danny Green"
          ],
          [
           "Charlie Brown Jr."
          ],
          [
           "Chasson Randle"
          ],
          [
           "Cheick Diallo"
          ],
          [
           "Chimezie Metu"
          ],
          [
           "Chris Boucher"
          ],
          [
           "Chris Chiozza"
          ],
          [
           "Chris Clemons"
          ],
          [
           "Chris Paul"
          ],
          [
           "Chris Silva"
          ],
          [
           "Christian Wood"
          ],
          [
           "Clint Capela"
          ],
          [
           "Coby White"
          ],
          [
           "Cody Martin"
          ],
          [
           "Cody Zeller"
          ],
          [
           "Jordan McRae"
          ],
          [
           "Collin Sexton"
          ],
          [
           "Cory Joseph"
          ],
          [
           "Courtney Lee"
          ],
          [
           "Cristiano Felicio"
          ],
          [
           "D'Angelo Russell"
          ],
          [
           "D.J. Augustin"
          ],
          [
           "D.J. Wilson"
          ],
          [
           "DaQuan Jeffries"
          ],
          [
           "Damian Jones"
          ],
          [
           "Damian Lillard"
          ],
          [
           "Damion Lee"
          ],
          [
           "Damyean Dotson"
          ],
          [
           "Daniel Gafford"
          ],
          [
           "Daniel Theis"
          ],
          [
           "Danilo Gallinari"
          ],
          [
           "Corey Brewer"
          ],
          [
           "Jordan Poole"
          ],
          [
           "Aaron Gordon"
          ],
          [
           "Josh Hart"
          ],
          [
           "Rondae Hollis-Jefferson"
          ],
          [
           "Royce O'Neale"
          ],
          [
           "Rudy Gay"
          ],
          [
           "Rudy Gobert"
          ],
          [
           "Rui Hachimura"
          ],
          [
           "Russell Westbrook"
          ],
          [
           "Ryan Anderson"
          ],
          [
           "Ryan Arcidiacono"
          ],
          [
           "Ryan Broekhoff"
          ],
          [
           "Sekou Doumbouya"
          ],
          [
           "Semi Ojeleye"
          ],
          [
           "Serge Ibaka"
          ],
          [
           "Seth Curry"
          ],
          [
           "Shabazz Napier"
          ],
          [
           "Shai Gilgeous-Alexander"
          ],
          [
           "Shake Milton"
          ],
          [
           "Shamorie Ponds"
          ],
          [
           "Shaquille Harrison"
          ],
          [
           "Sindarius Thornwell"
          ],
          [
           "Skal Labissiere"
          ],
          [
           "Solomon Hill"
          ],
          [
           "Spencer Dinwiddie"
          ],
          [
           "Stanley Johnson"
          ],
          [
           "Stanton Kidd"
          ],
          [
           "Stephen Curry"
          ],
          [
           "Sterling Brown"
          ],
          [
           "Steven Adams"
          ],
          [
           "Svi Mykhailiuk"
          ],
          [
           "T.J. Leaf"
          ],
          [
           "Romeo Langford"
          ],
          [
           "T.J. McConnell"
          ],
          [
           "Rodney McGruder"
          ],
          [
           "Rodions Kurucs"
          ],
          [
           "OG Anunoby"
          ],
          [
           "Omari Spellman"
          ],
          [
           "Oshae Brissett"
          ],
          [
           "Otto Porter Jr."
          ],
          [
           "P.J. Tucker"
          ],
          [
           "P.J. Washington"
          ],
          [
           "PJ Dozier"
          ],
          [
           "Pascal Siakam"
          ],
          [
           "Pat Connaughton"
          ],
          [
           "Patrick Beverley"
          ],
          [
           "Patrick McCaw"
          ],
          [
           "Patrick Patterson"
          ],
          [
           "Patty Mills"
          ],
          [
           "Paul George"
          ],
          [
           "Paul Millsap"
          ],
          [
           "Paul Watson"
          ],
          [
           "Quinn Cook"
          ],
          [
           "Quinndary Weatherspoon"
          ],
          [
           "RJ Barrett"
          ],
          [
           "Rajon Rondo"
          ],
          [
           "Raul Neto"
          ],
          [
           "Rayjon Tucker"
          ],
          [
           "Reggie Bullock"
          ],
          [
           "Reggie Jackson"
          ],
          [
           "Richaun Holmes"
          ],
          [
           "Ricky Rubio"
          ],
          [
           "Robert Covington"
          ],
          [
           "Robert Williams III"
          ],
          [
           "Robin Lopez"
          ],
          [
           "Rodney Hood"
          ],
          [
           "T.J. Warren"
          ],
          [
           "Tacko Fall"
          ],
          [
           "Taj Gibson"
          ],
          [
           "Tyler Johnson"
          ],
          [
           "Tyler Zeller"
          ],
          [
           "Tyrone Wallace"
          ],
          [
           "Tyson Chandler"
          ],
          [
           "Tyus Jones"
          ],
          [
           "Udonis Haslem"
          ],
          [
           "Vic Law"
          ],
          [
           "Victor Oladipo"
          ],
          [
           "Vince Carter"
          ],
          [
           "Vincent Poirier"
          ],
          [
           "Vlatko Cancar"
          ],
          [
           "Wayne Ellington"
          ],
          [
           "Wendell Carter Jr."
          ],
          [
           "Wenyen Gabriel"
          ],
          [
           "Wes Iwundu"
          ],
          [
           "Wesley Matthews"
          ],
          [
           "Will Barton"
          ],
          [
           "William Howard"
          ],
          [
           "Willie Cauley-Stein"
          ],
          [
           "Willy Hernangomez"
          ],
          [
           "Wilson Chandler"
          ],
          [
           "Yogi Ferrell"
          ],
          [
           "Yuta Watanabe"
          ],
          [
           "Zach Collins"
          ],
          [
           "Zach LaVine"
          ],
          [
           "Zach Norvell Jr."
          ],
          [
           "Zhaire Smith"
          ],
          [
           "Zion Williamson"
          ],
          [
           "Zylan Cheatham"
          ],
          [
           "Tyler Herro"
          ],
          [
           "Tyler Cook"
          ],
          [
           "Ty Jerome"
          ],
          [
           "Troy Daniels"
          ],
          [
           "Talen Horton-Tucker"
          ],
          [
           "Tariq Owens"
          ],
          [
           "Taurean Prince"
          ],
          [
           "Terance Mann"
          ],
          [
           "Terence Davis"
          ],
          [
           "Terrance Ferguson"
          ],
          [
           "Terrence Ross"
          ],
          [
           "Terry Rozier"
          ],
          [
           "Thabo Sefolosha"
          ],
          [
           "Thaddeus Young"
          ],
          [
           "Thanasis Antetokounmpo"
          ],
          [
           "Theo Pinson"
          ],
          [
           "Thomas Bryant"
          ],
          [
           "Thon Maker"
          ],
          [
           "Josh Gray"
          ],
          [
           "Tim Frazier"
          ],
          [
           "Timothe Luwawu-Cabarrot"
          ],
          [
           "Tobias Harris"
          ],
          [
           "Tomas Satoransky"
          ],
          [
           "Tony Bradley"
          ],
          [
           "Tony Snell"
          ],
          [
           "Torrey Craig"
          ],
          [
           "Trae Young"
          ],
          [
           "Tremont Waters"
          ],
          [
           "Treveon Graham"
          ],
          [
           "Trevor Ariza"
          ],
          [
           "Trey Burke"
          ],
          [
           "Trey Lyles"
          ],
          [
           "Tristan Thompson"
          ],
          [
           "Troy Brown Jr."
          ],
          [
           "Tim Hardaway Jr."
          ],
          [
           "Norman Powell"
          ],
          [
           "Norvel Pelle"
          ],
          [
           "Nikola Vucevic"
          ],
          [
           "Kevin Hervey"
          ],
          [
           "Kevin Huerter"
          ],
          [
           "Kevin Knox II"
          ],
          [
           "Kevin Love"
          ],
          [
           "Kevin Porter Jr."
          ],
          [
           "Kevon Looney"
          ],
          [
           "Khem Birch"
          ],
          [
           "Khris Middleton"
          ],
          [
           "Khyri Thomas"
          ],
          [
           "Kostas Antetokounmpo"
          ],
          [
           "Kris Dunn"
          ],
          [
           "Kristaps Porzingis"
          ],
          [
           "Ky Bowman"
          ],
          [
           "Kyle Alexander"
          ],
          [
           "Kyle Anderson"
          ],
          [
           "Kyle Guy"
          ],
          [
           "Kyle Korver"
          ],
          [
           "Kyle Kuzma"
          ],
          [
           "Kyle Lowry"
          ],
          [
           "Kyle O'Quinn"
          ],
          [
           "Kyrie Irving"
          ],
          [
           "LaMarcus Aldridge"
          ],
          [
           "Lance Thomas"
          ],
          [
           "Landry Shamet"
          ],
          [
           "Langston Galloway"
          ],
          [
           "Larry Nance Jr."
          ],
          [
           "Lauri Markkanen"
          ],
          [
           "LeBron James"
          ],
          [
           "Noah Vonleh"
          ],
          [
           "Kentavious Caldwell-Pope"
          ],
          [
           "Lonzo Ball"
          ],
          [
           "Kent Bazemore"
          ],
          [
           "Kendrick Nunn"
          ],
          [
           "Josh Jackson"
          ],
          [
           "Josh Magette"
          ],
          [
           "Josh Okogie"
          ],
          [
           "Josh Reaves"
          ],
          [
           "Josh Richardson"
          ],
          [
           "Jrue Holiday"
          ],
          [
           "Juan Toscano-Anderson"
          ],
          [
           "Juancho Hernangomez"
          ],
          [
           "Julius Randle"
          ],
          [
           "Justin Anderson"
          ],
          [
           "Justin Holiday"
          ],
          [
           "Justin Jackson"
          ],
          [
           "Justin James"
          ],
          [
           "Justin Patton"
          ],
          [
           "Justin Robinson"
          ],
          [
           "Justin Wright-Foreman"
          ],
          [
           "Justise Winslow"
          ],
          [
           "Jusuf Nurkic"
          ],
          [
           "Juwan Morgan"
          ],
          [
           "KZ Okpala"
          ],
          [
           "Kadeem Allen"
          ],
          [
           "Karl-Anthony Towns"
          ],
          [
           "Kawhi Leonard"
          ],
          [
           "Keita Bates-Diop"
          ],
          [
           "Kelan Martin"
          ],
          [
           "Keldon Johnson"
          ],
          [
           "Kelly Olynyk"
          ],
          [
           "Kelly Oubre Jr."
          ],
          [
           "Kemba Walker"
          ],
          [
           "Kenrich Williams"
          ],
          [
           "Lou Williams"
          ],
          [
           "Lonnie Walker IV"
          ],
          [
           "Luc Mbah a Moute"
          ],
          [
           "Louis King"
          ],
          [
           "Michael Frazier II"
          ],
          [
           "Michael Kidd-Gilchrist"
          ],
          [
           "Michael Porter Jr."
          ],
          [
           "Mikal Bridges"
          ],
          [
           "Mike Conley"
          ],
          [
           "Mike Muscala"
          ],
          [
           "Mike Scott"
          ],
          [
           "Miles Bridges"
          ],
          [
           "Mitchell Robinson"
          ],
          [
           "Miye Oni"
          ],
          [
           "Mo Bamba"
          ],
          [
           "Monte Morris"
          ],
          [
           "Montrezl Harrell"
          ],
          [
           "Moritz Wagner"
          ],
          [
           "Moses Brown"
          ],
          [
           "Mychal Mulder"
          ],
          [
           "Myles Turner"
          ],
          [
           "Nassir Little"
          ],
          [
           "Naz Mitrou-Long"
          ],
          [
           "Naz Reid"
          ],
          [
           "Nemanja Bjelica"
          ],
          [
           "Nerlens Noel"
          ],
          [
           "Nickeil Alexander-Walker"
          ],
          [
           "Nicolas Batum"
          ],
          [
           "Nicolas Claxton"
          ],
          [
           "Nicolo Melli"
          ],
          [
           "Nigel Williams-Goss"
          ],
          [
           "Nikola Jokic"
          ],
          [
           "Mfiondu Kabengele"
          ],
          [
           "Meyers Leonard"
          ],
          [
           "Michael Carter-Williams"
          ],
          [
           "Maxi Kleber"
          ],
          [
           "Luguentz Dort"
          ],
          [
           "Luka Doncic"
          ],
          [
           "Luka Samanic"
          ],
          [
           "Luke Kennard"
          ],
          [
           "Luke Kornet"
          ],
          [
           "Malcolm Brogdon"
          ],
          [
           "Malcolm Miller"
          ],
          [
           "Malik Beasley"
          ],
          [
           "Malik Monk"
          ],
          [
           "Malik Newman"
          ],
          [
           "Marc Gasol"
          ],
          [
           "Marco Belinelli"
          ],
          [
           "Melvin Frazier Jr."
          ],
          [
           "Marcus Smart"
          ],
          [
           "Marial Shayok"
          ],
          [
           "Marcus Morris Sr."
          ],
          [
           "Markelle Fultz"
          ],
          [
           "Max Strus"
          ],
          [
           "Maurice Harkless"
          ],
          [
           "Matthew Dellavedova"
          ],
          [
           "Mario Hezonja"
          ],
          [
           "Matt Mooney"
          ],
          [
           "Matisse Thybulle"
          ],
          [
           "Matt Thomas"
          ],
          [
           "Marvin Williams"
          ],
          [
           "Marvin Bagley III"
          ],
          [
           "Marquese Chriss"
          ],
          [
           "Marques Bolden"
          ],
          [
           "Marko Guduric"
          ],
          [
           "Markieff Morris"
          ],
          [
           "Mason Plumlee"
          ],
          [
           "Jordan McLaughlin"
          ],
          [
           "Yogi Ferrell"
          ],
          [
           "Zion Williamson"
          ],
          [
           "Zeke Nnaji"
          ],
          [
           "Zach LaVine"
          ],
          [
           "Yuta Watanabe"
          ],
          [
           "Xavier Tillman"
          ],
          [
           "Willie Cauley-Stein"
          ],
          [
           "Frank Kaminsky"
          ],
          [
           "Frank Mason"
          ],
          [
           "Frank Ntilikina"
          ],
          [
           "Fred VanVleet"
          ],
          [
           "Freddie Gillespie"
          ],
          [
           "Furkan Korkmaz"
          ],
          [
           "Gabe Vincent"
          ],
          [
           "Gabriel Deck"
          ],
          [
           "Garrett Temple"
          ],
          [
           "Garrison Mathews"
          ],
          [
           "Gary Clark"
          ],
          [
           "Gary Harris"
          ],
          [
           "Gary Payton II"
          ],
          [
           "Gary Trent Jr."
          ],
          [
           "George Hill"
          ],
          [
           "Georges Niang"
          ],
          [
           "Giannis Antetokounmpo"
          ],
          [
           "Glenn Robinson III"
          ],
          [
           "Goga Bitadze"
          ],
          [
           "Goran Dragic"
          ],
          [
           "Gordon Hayward"
          ],
          [
           "Gorgui Dieng"
          ],
          [
           "Grant Riller"
          ],
          [
           "Grant Williams"
          ],
          [
           "Grayson Allen"
          ],
          [
           "Greg Whittington"
          ],
          [
           "Hamidou Diallo"
          ],
          [
           "Harrison Barnes"
          ],
          [
           "Harry Giles III"
          ],
          [
           "Frank Jackson"
          ],
          [
           "Hassan Whiteside"
          ],
          [
           "Facundo Campazzo"
          ],
          [
           "Ersan Ilyasova"
          ],
          [
           "Devon Dotson"
          ],
          [
           "Devontae Cacok"
          ],
          [
           "Devonte' Graham"
          ],
          [
           "Dewayne Dedmon"
          ],
          [
           "Didi Louzada"
          ],
          [
           "Dillon Brooks"
          ],
          [
           "Domantas Sabonis"
          ],
          [
           "Donovan Mitchell"
          ],
          [
           "Donta Hall"
          ],
          [
           "Donte DiVincenzo"
          ],
          [
           "Dorian Finney-Smith"
          ],
          [
           "Doug McDermott"
          ],
          [
           "Draymond Green"
          ],
          [
           "Drew Eubanks"
          ],
          [
           "Duncan Robinson"
          ],
          [
           "Dwayne Bacon"
          ],
          [
           "Dwight Howard"
          ],
          [
           "Dwight Powell"
          ],
          [
           "Dylan Windler"
          ],
          [
           "E'Twaun Moore"
          ],
          [
           "Ed Davis"
          ],
          [
           "Edmond Sumner"
          ],
          [
           "Elfrid Payton"
          ],
          [
           "Elijah Bryant"
          ],
          [
           "Elijah Hughes"
          ],
          [
           "Enes Kanter"
          ],
          [
           "Eric Bledsoe"
          ],
          [
           "Eric Gordon"
          ],
          [
           "Eric Paschall"
          ],
          [
           "Evan Fournier"
          ],
          [
           "Henry Ellenson"
          ],
          [
           "Ignas Brazdeikis"
          ],
          [
           "Iman Shumpert"
          ],
          [
           "Jared Dudley"
          ],
          [
           "Jared Harper"
          ],
          [
           "Jaren Jackson Jr."
          ],
          [
           "Jarred Vanderbilt"
          ],
          [
           "Jarrell Brantley"
          ],
          [
           "Jarrett Allen"
          ],
          [
           "Jarrett Culver"
          ],
          [
           "Javonte Green"
          ],
          [
           "Jaxson Hayes"
          ],
          [
           "Jay Scrubb"
          ],
          [
           "Jaylen Adams"
          ],
          [
           "Jaylen Brown"
          ],
          [
           "Jaylen Hoard"
          ],
          [
           "Jaylen Nowell"
          ],
          [
           "Jayson Tatum"
          ],
          [
           "Jeff Green"
          ],
          [
           "Jeff Teague"
          ],
          [
           "Jerami Grant"
          ],
          [
           "Jeremiah Martin"
          ],
          [
           "Jeremy Lamb"
          ],
          [
           "Jerome Robinson"
          ],
          [
           "Jevon Carter"
          ],
          [
           "Jimmy Butler"
          ],
          [
           "Joe Harris"
          ],
          [
           "Joe Ingles"
          ],
          [
           "Joel Embiid"
          ],
          [
           "John Collins"
          ],
          [
           "John Konchar"
          ],
          [
           "John Wall"
          ],
          [
           "James Wiseman"
          ],
          [
           "James Nunnally"
          ],
          [
           "James Johnson"
          ],
          [
           "James Harden"
          ],
          [
           "Immanuel Quickley"
          ],
          [
           "Isaac Bonga"
          ],
          [
           "Isaac Okoro"
          ],
          [
           "Isaiah Hartenstein"
          ],
          [
           "Isaiah Joe"
          ],
          [
           "Isaiah Roby"
          ],
          [
           "Isaiah Stewart"
          ],
          [
           "Isaiah Thomas"
          ],
          [
           "Ish Smith"
          ],
          [
           "Ivica Zubac"
          ],
          [
           "JJ Redick"
          ],
          [
           "Ja Morant"
          ],
          [
           "JaKarr Sampson"
          ],
          [
           "JaMychal Green"
          ],
          [
           "Devin Vassell"
          ],
          [
           "JaVale McGee"
          ],
          [
           "Jaden McDaniels"
          ],
          [
           "Jae Crowder"
          ],
          [
           "Jae'Sean Tate"
          ],
          [
           "Jahlil Okafor"
          ],
          [
           "Jahmi'us Ramsey"
          ],
          [
           "Jake Layman"
          ],
          [
           "Jakob Poeltl"
          ],
          [
           "Jalen Brunson"
          ],
          [
           "Jalen Harris"
          ],
          [
           "Jalen Lecque"
          ],
          [
           "Jalen McDaniels"
          ],
          [
           "Jalen Smith"
          ],
          [
           "Jamal Murray"
          ],
          [
           "James Ennis III"
          ],
          [
           "Jabari Parker"
          ],
          [
           "Devin Cannady"
          ],
          [
           "Devin Booker"
          ],
          [
           "Desmond Bane"
          ],
          [
           "Ben McLemore"
          ],
          [
           "Ben Simmons"
          ],
          [
           "Bismack Biyombo"
          ],
          [
           "Blake Griffin"
          ],
          [
           "Boban Marjanovic"
          ],
          [
           "Bobby Portis"
          ],
          [
           "Bogdan Bogdanovic"
          ],
          [
           "Bojan Bogdanovic"
          ],
          [
           "Bol Bol"
          ],
          [
           "Brad Wanamaker"
          ],
          [
           "Bradley Beal"
          ],
          [
           "Brandon Clarke"
          ],
          [
           "Brandon Goodwin"
          ],
          [
           "Brandon Ingram"
          ],
          [
           "Brian Bowen II"
          ],
          [
           "Brodric Thomas"
          ],
          [
           "Brook Lopez"
          ],
          [
           "Bruce Brown"
          ],
          [
           "Bruno Caboclo"
          ],
          [
           "Bruno Fernando"
          ],
          [
           "Bryn Forbes"
          ],
          [
           "Buddy Hield"
          ],
          [
           "CJ Elleby"
          ],
          [
           "CJ McCollum"
          ],
          [
           "Caleb Martin"
          ],
          [
           "Cam Reddish"
          ],
          [
           "Cameron Johnson"
          ],
          [
           "Cameron Oliver"
          ],
          [
           "Cameron Payne"
          ],
          [
           "Bam Adebayo"
          ],
          [
           "Axel Toupane"
          ],
          [
           "Avery Bradley"
          ],
          [
           "Austin Rivers"
          ],
          [
           "Aaron Holiday"
          ],
          [
           "Aaron Nesmith"
          ],
          [
           "Abdel Nader"
          ],
          [
           "Adam Mokoka"
          ],
          [
           "Al Horford"
          ],
          [
           "Al-Farouq Aminu"
          ],
          [
           "Alec Burks"
          ],
          [
           "Aleksej Pokusevski"
          ],
          [
           "Alen Smailagic"
          ],
          [
           "Alex Caruso"
          ],
          [
           "Alex Len"
          ],
          [
           "Alfonzo McKinnie"
          ],
          [
           "Alize Johnson"
          ],
          [
           "Amida Brimah"
          ],
          [
           "Cameron Reynolds"
          ],
          [
           "Amir Coffey"
          ],
          [
           "Andre Drummond"
          ],
          [
           "Andre Iguodala"
          ],
          [
           "Andre Roberson"
          ],
          [
           "Andrew Wiggins"
          ],
          [
           "Anfernee Simons"
          ],
          [
           "Anthony Davis"
          ],
          [
           "Anthony Edwards"
          ],
          [
           "Anthony Gill"
          ],
          [
           "Anthony Lamb"
          ],
          [
           "Anthony Tolliver"
          ],
          [
           "Anzejs Pasecniks"
          ],
          [
           "Armoni Brooks"
          ],
          [
           "Aron Baynes"
          ],
          [
           "Ashton Hagans"
          ],
          [
           "Anderson Varejao"
          ],
          [
           "Jonas Valanciunas"
          ],
          [
           "Caris LeVert"
          ],
          [
           "Carsen Edwards"
          ],
          [
           "Danny Green"
          ],
          [
           "Dante Exum"
          ],
          [
           "Danuel House Jr."
          ],
          [
           "Dario Saric"
          ],
          [
           "Darius Bazley"
          ],
          [
           "Darius Garland"
          ],
          [
           "Darius Miller"
          ],
          [
           "David Nwaba"
          ],
          [
           "Davis Bertans"
          ],
          [
           "De'Aaron Fox"
          ],
          [
           "De'Andre Hunter"
          ],
          [
           "De'Anthony Melton"
          ],
          [
           "DeAndre Jordan"
          ],
          [
           "DeAndre' Bembry"
          ],
          [
           "DeMar DeRozan"
          ],
          [
           "DeMarcus Cousins"
          ],
          [
           "Dean Wade"
          ],
          [
           "Deandre Ayton"
          ],
          [
           "Deividas Sirvydis"
          ],
          [
           "Dejounte Murray"
          ],
          [
           "Delon Wright"
          ],
          [
           "Deni Avdija"
          ],
          [
           "Dennis Schroder"
          ],
          [
           "Dennis Smith Jr."
          ],
          [
           "Denzel Valentine"
          ],
          [
           "Derrick Favors"
          ],
          [
           "Derrick Jones Jr."
          ],
          [
           "Derrick Rose"
          ],
          [
           "Derrick White"
          ],
          [
           "Danilo Gallinari"
          ],
          [
           "Daniel Theis"
          ],
          [
           "Daniel Oturu"
          ],
          [
           "Daniel Gafford"
          ],
          [
           "Cassius Stanley"
          ],
          [
           "Cassius Winston"
          ],
          [
           "Cedi Osman"
          ],
          [
           "Chandler Hutchison"
          ],
          [
           "Charlie Brown Jr."
          ],
          [
           "Chasson Randle"
          ],
          [
           "Chimezie Metu"
          ],
          [
           "Chris Boucher"
          ],
          [
           "Chris Chiozza"
          ],
          [
           "Chris Paul"
          ],
          [
           "Chris Silva"
          ],
          [
           "Christian Wood"
          ],
          [
           "Chuma Okeke"
          ],
          [
           "Clint Capela"
          ],
          [
           "Carmelo Anthony"
          ],
          [
           "Coby White"
          ],
          [
           "Cody Zeller"
          ],
          [
           "Cole Anthony"
          ],
          [
           "Collin Sexton"
          ],
          [
           "Cory Joseph"
          ],
          [
           "Cristiano Felicio"
          ],
          [
           "D'Angelo Russell"
          ],
          [
           "D.J. Augustin"
          ],
          [
           "D.J. Wilson"
          ],
          [
           "DaQuan Jeffries"
          ],
          [
           "Dakota Mathias"
          ],
          [
           "Damian Jones"
          ],
          [
           "Damian Lillard"
          ],
          [
           "Damion Lee"
          ],
          [
           "Damyean Dotson"
          ],
          [
           "Cody Martin"
          ],
          [
           "Jontay Porter"
          ],
          [
           "Jordan Bell"
          ],
          [
           "Jordan Bone"
          ],
          [
           "Richaun Holmes"
          ],
          [
           "Ricky Rubio"
          ],
          [
           "Robert Covington"
          ],
          [
           "Robert Franks"
          ],
          [
           "Robert Williams III"
          ],
          [
           "Robert Woodard II"
          ],
          [
           "Robin Lopez"
          ],
          [
           "Rodions Kurucs"
          ],
          [
           "Rodney Hood"
          ],
          [
           "Rodney McGruder"
          ],
          [
           "Romeo Langford"
          ],
          [
           "Rondae Hollis-Jefferson"
          ],
          [
           "Royce O'Neale"
          ],
          [
           "Rudy Gay"
          ],
          [
           "Rudy Gobert"
          ],
          [
           "Rui Hachimura"
          ],
          [
           "Russell Westbrook"
          ],
          [
           "Ryan Arcidiacono"
          ],
          [
           "Saben Lee"
          ],
          [
           "Saddiq Bey"
          ],
          [
           "Sam Merrill"
          ],
          [
           "Sean McDermott"
          ],
          [
           "Sekou Doumbouya"
          ],
          [
           "Semi Ojeleye"
          ],
          [
           "Serge Ibaka"
          ],
          [
           "Seth Curry"
          ],
          [
           "Shai Gilgeous-Alexander"
          ],
          [
           "Shake Milton"
          ],
          [
           "Shaquille Harrison"
          ],
          [
           "Reggie Perry"
          ],
          [
           "Reggie Jackson"
          ],
          [
           "Reggie Bullock"
          ],
          [
           "Rayjon Tucker"
          ],
          [
           "Norman Powell"
          ],
          [
           "Norvel Pelle"
          ],
          [
           "OG Anunoby"
          ],
          [
           "Obi Toppin"
          ],
          [
           "Onyeka Okongwu"
          ],
          [
           "Oshae Brissett"
          ],
          [
           "Otto Porter Jr."
          ],
          [
           "P.J. Tucker"
          ],
          [
           "P.J. Washington"
          ],
          [
           "PJ Dozier"
          ],
          [
           "Pascal Siakam"
          ],
          [
           "Pat Connaughton"
          ],
          [
           "Patrick Beverley"
          ],
          [
           "Patrick McCaw"
          ],
          [
           "Sindarius Thornwell"
          ],
          [
           "Patrick Patterson"
          ],
          [
           "Patty Mills"
          ],
          [
           "Paul George"
          ],
          [
           "Paul Millsap"
          ],
          [
           "Paul Reed"
          ],
          [
           "Paul Watson"
          ],
          [
           "Payton Pritchard"
          ],
          [
           "Precious Achiuwa"
          ],
          [
           "Quinn Cook"
          ],
          [
           "Quinndary Weatherspoon"
          ],
          [
           "R.J. Hampton"
          ],
          [
           "RJ Barrett"
          ],
          [
           "Rajon Rondo"
          ],
          [
           "Raul Neto"
          ],
          [
           "Ray Spalding"
          ],
          [
           "Patrick Williams"
          ],
          [
           "Noah Vonleh"
          ],
          [
           "Skylar Mays"
          ],
          [
           "Spencer Dinwiddie"
          ],
          [
           "Trent Forrest"
          ],
          [
           "Trevor Ariza"
          ],
          [
           "Trey Burke"
          ],
          [
           "Trey Lyles"
          ],
          [
           "Tristan Thompson"
          ],
          [
           "Troy Brown Jr."
          ],
          [
           "Ty Jerome"
          ],
          [
           "Ty-Shon Alexander"
          ],
          [
           "Tyler Bey"
          ],
          [
           "Tyler Cook"
          ],
          [
           "Tyler Herro"
          ],
          [
           "Tyler Johnson"
          ],
          [
           "Tyrell Terry"
          ],
          [
           "Tyrese Haliburton"
          ],
          [
           "Tyrese Maxey"
          ],
          [
           "Tyus Jones"
          ],
          [
           "Udoka Azubuike"
          ],
          [
           "Udonis Haslem"
          ],
          [
           "Vernon Carey Jr."
          ],
          [
           "Victor Oladipo"
          ],
          [
           "Vincent Poirier"
          ],
          [
           "Vlatko Cancar"
          ],
          [
           "Wayne Ellington"
          ],
          [
           "Wendell Carter Jr."
          ],
          [
           "Wenyen Gabriel"
          ],
          [
           "Wes Iwundu"
          ],
          [
           "Wesley Matthews"
          ],
          [
           "Will Barton"
          ],
          [
           "Will Magnay"
          ],
          [
           "Tremont Waters"
          ],
          [
           "Tre Jones"
          ],
          [
           "Trae Young"
          ],
          [
           "Torrey Craig"
          ],
          [
           "Stanley Johnson"
          ],
          [
           "Stephen Curry"
          ],
          [
           "Sterling Brown"
          ],
          [
           "Steven Adams"
          ],
          [
           "Svi Mykhailiuk"
          ],
          [
           "T.J. Leaf"
          ],
          [
           "T.J. McConnell"
          ],
          [
           "T.J. Warren"
          ],
          [
           "Tacko Fall"
          ],
          [
           "Taj Gibson"
          ],
          [
           "Talen Horton-Tucker"
          ],
          [
           "Taurean Prince"
          ],
          [
           "Terance Mann"
          ],
          [
           "Terence Davis"
          ],
          [
           "Solomon Hill"
          ],
          [
           "Terrance Ferguson"
          ],
          [
           "Terry Rozier"
          ],
          [
           "Thaddeus Young"
          ],
          [
           "Thanasis Antetokounmpo"
          ],
          [
           "Theo Maledon"
          ],
          [
           "Theo Pinson"
          ],
          [
           "Thomas Bryant"
          ],
          [
           "Thon Maker"
          ],
          [
           "Tim Frazier"
          ],
          [
           "Tim Hardaway Jr."
          ],
          [
           "Timothe Luwawu-Cabarrot"
          ],
          [
           "Tobias Harris"
          ],
          [
           "Tomas Satoransky"
          ],
          [
           "Tony Bradley"
          ],
          [
           "Tony Snell"
          ],
          [
           "Terrence Ross"
          ],
          [
           "Willy Hernangomez"
          ],
          [
           "Nikola Vucevic"
          ],
          [
           "Nicolo Melli"
          ],
          [
           "Kenrich Williams"
          ],
          [
           "Kent Bazemore"
          ],
          [
           "Kentavious Caldwell-Pope"
          ],
          [
           "Kenyon Martin Jr."
          ],
          [
           "Kevin Durant"
          ],
          [
           "Kevin Huerter"
          ],
          [
           "Kevin Knox II"
          ],
          [
           "Kevin Love"
          ],
          [
           "Kevin Porter Jr."
          ],
          [
           "Kevon Looney"
          ],
          [
           "Khem Birch"
          ],
          [
           "Khris Middleton"
          ],
          [
           "Khyri Thomas"
          ],
          [
           "Killian Hayes"
          ],
          [
           "Killian Tillie"
          ],
          [
           "Kira Lewis Jr."
          ],
          [
           "Kostas Antetokounmpo"
          ],
          [
           "Kris Dunn"
          ],
          [
           "Kristaps Porzingis"
          ],
          [
           "Kyle Anderson"
          ],
          [
           "Kyle Guy"
          ],
          [
           "Kyle Kuzma"
          ],
          [
           "Kyle Lowry"
          ],
          [
           "Kyrie Irving"
          ],
          [
           "LaMarcus Aldridge"
          ],
          [
           "LaMelo Ball"
          ],
          [
           "Lamar Stevens"
          ],
          [
           "Landry Shamet"
          ],
          [
           "Langston Galloway"
          ],
          [
           "Kendrick Nunn"
          ],
          [
           "Kemba Walker"
          ],
          [
           "Kelly Oubre Jr."
          ],
          [
           "Kelly Olynyk"
          ],
          [
           "Jordan Clarkson"
          ],
          [
           "Jordan McLaughlin"
          ],
          [
           "Jordan Nwora"
          ],
          [
           "Jordan Poole"
          ],
          [
           "Josh Green"
          ],
          [
           "Josh Hall"
          ],
          [
           "Josh Hart"
          ],
          [
           "Josh Jackson"
          ],
          [
           "Josh Okogie"
          ],
          [
           "Josh Richardson"
          ],
          [
           "Jrue Holiday"
          ],
          [
           "Juan Toscano-Anderson"
          ],
          [
           "Juancho Hernangomez"
          ],
          [
           "Julius Randle"
          ],
          [
           "Larry Nance Jr."
          ],
          [
           "Justin Holiday"
          ],
          [
           "Justin James"
          ],
          [
           "Justin Patton"
          ],
          [
           "Justin Robinson"
          ],
          [
           "Justise Winslow"
          ],
          [
           "Jusuf Nurkic"
          ],
          [
           "Juwan Morgan"
          ],
          [
           "KZ Okpala"
          ],
          [
           "Karim Mane"
          ],
          [
           "Karl-Anthony Towns"
          ],
          [
           "Kawhi Leonard"
          ],
          [
           "Keita Bates-Diop"
          ],
          [
           "Kelan Martin"
          ],
          [
           "Keldon Johnson"
          ],
          [
           "Keljin Blevins"
          ],
          [
           "Justin Jackson"
          ],
          [
           "Nikola Jokic"
          ],
          [
           "Lauri Markkanen"
          ],
          [
           "Lonnie Walker IV"
          ],
          [
           "Michael Porter Jr."
          ],
          [
           "Mikal Bridges"
          ],
          [
           "Mike Conley"
          ],
          [
           "Mike James"
          ],
          [
           "Mike Muscala"
          ],
          [
           "Mike Scott"
          ],
          [
           "Miles Bridges"
          ],
          [
           "Mitchell Robinson"
          ],
          [
           "Miye Oni"
          ],
          [
           "Mo Bamba"
          ],
          [
           "Monte Morris"
          ],
          [
           "Montrezl Harrell"
          ],
          [
           "Moritz Wagner"
          ],
          [
           "Moses Brown"
          ],
          [
           "Mychal Mulder"
          ],
          [
           "Myles Turner"
          ],
          [
           "Naji Marshall"
          ],
          [
           "Nassir Little"
          ],
          [
           "Nate Darling"
          ],
          [
           "Nate Hinton"
          ],
          [
           "Nathan Knight"
          ],
          [
           "Naz Reid"
          ],
          [
           "Nemanja Bjelica"
          ],
          [
           "Nerlens Noel"
          ],
          [
           "Nick Richards"
          ],
          [
           "Nickeil Alexander-Walker"
          ],
          [
           "Nico Mannion"
          ],
          [
           "Nicolas Batum"
          ],
          [
           "Nicolas Claxton"
          ],
          [
           "Michael Carter-Williams"
          ],
          [
           "Mfiondu Kabengele"
          ],
          [
           "Meyers Leonard"
          ],
          [
           "Maxi Kleber"
          ],
          [
           "Lonzo Ball"
          ],
          [
           "Lou Williams"
          ],
          [
           "Louis King"
          ],
          [
           "Luguentz Dort"
          ],
          [
           "Luka Doncic"
          ],
          [
           "Luka Samanic"
          ],
          [
           "Luke Kennard"
          ],
          [
           "Luke Kornet"
          ],
          [
           "Malachi Flynn"
          ],
          [
           "Malcolm Brogdon"
          ],
          [
           "Malik Beasley"
          ],
          [
           "Malik Fitts"
          ],
          [
           "Malik Monk"
          ],
          [
           "Mamadi Diakite"
          ],
          [
           "LeBron James"
          ],
          [
           "Marc Gasol"
          ],
          [
           "Marcus Smart"
          ],
          [
           "Markelle Fultz"
          ],
          [
           "Markieff Morris"
          ],
          [
           "Markus Howard"
          ],
          [
           "Marques Bolden"
          ],
          [
           "Marquese Chriss"
          ],
          [
           "Marvin Bagley III"
          ],
          [
           "Mason Jones"
          ],
          [
           "Mason Plumlee"
          ],
          [
           "Matisse Thybulle"
          ],
          [
           "Matt Thomas"
          ],
          [
           "Matthew Dellavedova"
          ],
          [
           "Maurice Harkless"
          ],
          [
           "Max Strus"
          ],
          [
           "Marcus Morris Sr."
          ],
          [
           "Aaron Gordon"
          ]
         ],
         "hovertemplate": "player_height=%{y}<br>player_name=%{customdata[0]}<extra></extra>",
         "legendgroup": "",
         "marker": {
          "color": "#636efa"
         },
         "name": "",
         "notched": false,
         "offsetgroup": "",
         "orientation": "v",
         "showlegend": false,
         "type": "box",
         "x0": " ",
         "xaxis": "x",
         "y": [
          213.36,
          210.82,
          208.28,
          210.82,
          205.74,
          198.12,
          208.28,
          208.28,
          182.88,
          190.5,
          205.74,
          200.66,
          205.74,
          208.28,
          195.58,
          210.82,
          190.5,
          203.2,
          200.66,
          185.42,
          195.58,
          218.44,
          205.74,
          200.66,
          215.9,
          190.5,
          200.66,
          187.96,
          205.74,
          213.36,
          210.82,
          208.28,
          205.74,
          205.74,
          213.36,
          185.42,
          198.12,
          195.58,
          195.58,
          205.74,
          160.02,
          187.96,
          203.2,
          195.58,
          195.58,
          208.28,
          203.2,
          198.12,
          182.88,
          200.66,
          195.58,
          205.74,
          185.42,
          185.42,
          210.82,
          200.66,
          203.2,
          205.74,
          205.74,
          198.12,
          195.58,
          200.66,
          205.74,
          185.42,
          195.58,
          195.58,
          187.96,
          210.82,
          200.66,
          208.28,
          213.36,
          190.5,
          203.2,
          195.58,
          195.58,
          208.28,
          215.9,
          198.12,
          198.12,
          210.82,
          203.2,
          195.58,
          185.42,
          185.42,
          200.66,
          187.96,
          185.42,
          195.58,
          195.58,
          203.2,
          205.74,
          200.66,
          200.66,
          208.28,
          208.28,
          203.2,
          200.66,
          190.5,
          213.36,
          213.36,
          185.42,
          210.82,
          195.58,
          190.5,
          213.36,
          195.58,
          190.5,
          205.74,
          203.2,
          223.52,
          203.2,
          205.74,
          208.28,
          203.2,
          193.04,
          215.9,
          208.28,
          193.04,
          198.12,
          210.82,
          193.04,
          177.8,
          205.74,
          205.74,
          180.34,
          218.44,
          187.96,
          203.2,
          205.74,
          190.5,
          190.5,
          213.36,
          187.96,
          205.74,
          198.12,
          213.36,
          203.2,
          203.2,
          198.12,
          193.04,
          208.28,
          190.5,
          208.28,
          182.88,
          208.28,
          193.04,
          198.12,
          210.82,
          208.28,
          213.36,
          208.28,
          210.82,
          187.96,
          198.12,
          205.74,
          193.04,
          193.04,
          200.66,
          180.34,
          213.36,
          213.36,
          200.66,
          205.74,
          210.82,
          203.2,
          185.42,
          200.66,
          190.5,
          210.82,
          215.9,
          187.96,
          208.28,
          223.52,
          193.04,
          208.28,
          200.66,
          210.82,
          198.12,
          193.04,
          201,
          200.66,
          200.66,
          193.04,
          187.96,
          205.74,
          195.58,
          210.82,
          193.04,
          187.96,
          187.96,
          193.04,
          205.74,
          210.82,
          190.5,
          210.82,
          187.96,
          208.28,
          228.6,
          210.82,
          205.74,
          215.9,
          182.88,
          198.12,
          187.96,
          208.28,
          208.28,
          203.2,
          208.28,
          200.66,
          180.34,
          198.12,
          195.58,
          205.74,
          205.74,
          200.66,
          200.66,
          190.5,
          187.96,
          200.66,
          200.66,
          208.28,
          210.82,
          208.28,
          195.58,
          200.66,
          203.2,
          200.66,
          200.66,
          208.28,
          210.82,
          190.5,
          198.12,
          210.82,
          187.96,
          208.28,
          205.74,
          205.74,
          198.12,
          200.66,
          210.82,
          193.04,
          205.74,
          200.66,
          193.04,
          200.66,
          182.88,
          210.82,
          203.2,
          200.66,
          195.58,
          185.42,
          205.74,
          215.9,
          200.66,
          200.66,
          180.34,
          185.42,
          208.28,
          208.28,
          180.34,
          195.58,
          210.82,
          177.8,
          200.66,
          210.82,
          195.58,
          198.12,
          185.42,
          200.66,
          208.28,
          200.66,
          210.82,
          208.28,
          198.12,
          213.36,
          200.66,
          193.04,
          205.74,
          205.74,
          205.74,
          193.04,
          205.74,
          203.2,
          187.96,
          200.66,
          210.82,
          208.28,
          210.82,
          210.82,
          213.36,
          182.88,
          198.12,
          187.96,
          205.74,
          203.2,
          205.74,
          210.82,
          205.74,
          195.58,
          193.04,
          205.74,
          208.28,
          205.74,
          203.2,
          205.74,
          198.12,
          205.74,
          203.2,
          210.82,
          208.28,
          185.42,
          198.12,
          210.82,
          195.58,
          182.88,
          195.58,
          205.74,
          203.2,
          210.82,
          187.96,
          205.74,
          213.36,
          213.36,
          205.74,
          205.74,
          187.96,
          180.34,
          203.2,
          220.98,
          193.04,
          210.82,
          203.2,
          195.58,
          213.36,
          218.44,
          198.12,
          193.04,
          210.82,
          215.9,
          185.42,
          208.28,
          205.74,
          203.2,
          200.66,
          205.74,
          203.2,
          198.12,
          213.36,
          203.2,
          203.2,
          190.5,
          203.2,
          193.04,
          190.5,
          208.28,
          193.04,
          185.42,
          231.14,
          205.74,
          187.96,
          210.82,
          193.04,
          187.96,
          195.58,
          205.74,
          200.66,
          193.04,
          203.2,
          198.12,
          200.66,
          203.2,
          198.12,
          203.2,
          187.96,
          203.2,
          208.28,
          208.28,
          195.58,
          208.28,
          195.58,
          187.96,
          210.82,
          210.82,
          208.28,
          190.5,
          203.2,
          213.36,
          193.04,
          210.82,
          205.74,
          203.2,
          200.66,
          195.58,
          177.8,
          203.2,
          203.2,
          208.28,
          203.2,
          210.82,
          218.44,
          198.12,
          205.74,
          200.66,
          208.28,
          205.74,
          208.28,
          210.82,
          205.74,
          193.04,
          185.42,
          203.2,
          198.12,
          200.66,
          193.04,
          190.5,
          190.5,
          213.36,
          198.12,
          190.5,
          210.82,
          203.2,
          190.5,
          200.66,
          185.42,
          210.82,
          210.82,
          190.5,
          195.58,
          213.36,
          182.88,
          200.66,
          213.36,
          205.74,
          203.2,
          205.74,
          215.9,
          198.12,
          213.36,
          193.04,
          182.88,
          200.66,
          190.5,
          203.2,
          205.74,
          198.12,
          190.5,
          198.12,
          195.58,
          213.36,
          200.66,
          213.36,
          193.04,
          198.12,
          213.36,
          193.04,
          182.88,
          195.58,
          213.36,
          185.42,
          200.66,
          213.36,
          190.5,
          203.2,
          203.2,
          200.66,
          177.8,
          185.42,
          203.2,
          180.34,
          210.82,
          200.66,
          203.2,
          215.9,
          205.74,
          185.42,
          195.58,
          182.88,
          210.82,
          187.96,
          203.2,
          195.58,
          203.2,
          195.58,
          205.74,
          193.04,
          205.74,
          208.28,
          208.28,
          208.28,
          205.74,
          218.44,
          208.28,
          198.12,
          190.5,
          205.74,
          205.74,
          210.82,
          187.96,
          195.58,
          208.28,
          195.58,
          208.28,
          208.28,
          208.28,
          185.42,
          203.2,
          203.2,
          193.04,
          195.58,
          187.96,
          203.2,
          198.12,
          203.2,
          193.04,
          210.82,
          208.28,
          195.58,
          193.04,
          185.42,
          210.82,
          208.28,
          190.5,
          208.28,
          213.36,
          193.04,
          190.5,
          193.04,
          200.66,
          203.2,
          203.2,
          213.36,
          193.04,
          198.12,
          203.2,
          210.82,
          200.66,
          203.2,
          205.74,
          208.28,
          185.42,
          210.82,
          193.04,
          198.12,
          218.44,
          213.36,
          195.58,
          203.2,
          182.88,
          208.28,
          205.74,
          180.34,
          205.74,
          220.98,
          205.74,
          180.34,
          187.96,
          205.74,
          205.74,
          213.36,
          205.74,
          213.36,
          205.74,
          187.96,
          210.82,
          193.04,
          203.2,
          198.12,
          195.58,
          182.88,
          185.42,
          195.58,
          210.82,
          198.12,
          198.12,
          205.74,
          203.2,
          205.74,
          193.04,
          205.74,
          195.58,
          205.74,
          205.74,
          208.28,
          203.2,
          205.74,
          198.12,
          182.88,
          208.28,
          213.36,
          185.42,
          195.58,
          210.82,
          200.66,
          198.12,
          187.96,
          190.5,
          203.2,
          205.74,
          198.12,
          193.04,
          205.74,
          205.74,
          208.28,
          177.8,
          203.2,
          205.74,
          177.8,
          208.28,
          200.66,
          203.2,
          200.66,
          195.58,
          208.28,
          182.88,
          210.82,
          203.2,
          203.2,
          210.82,
          200.66,
          210.82,
          200.66,
          190.5,
          208.28,
          200.66,
          185.42,
          210.82,
          200.66,
          177.8,
          198.12,
          210.82,
          208.28,
          200.66,
          205.74,
          198.12,
          193.04,
          198.12,
          193.04,
          200.66,
          213.36,
          195.58,
          200.66,
          195.58,
          203.2,
          200.66,
          205.74,
          190.5,
          193.04,
          200.66,
          200.66,
          198.12,
          205.74,
          195.58,
          205.74,
          193.04,
          187.96,
          190.5,
          210.82,
          213.36,
          210.82,
          210.82,
          208.28,
          205.74,
          208.28,
          200.66,
          203.2,
          205.74,
          208.28,
          198.12,
          215.9,
          205.74,
          210.82,
          228.6,
          208.28,
          187.96,
          210.82,
          195.58,
          185.42,
          167.64,
          203.2,
          213.36,
          205.74,
          187.96,
          185.42,
          190.5,
          190.5,
          200.66,
          180.34,
          210.82,
          205.74,
          193.04,
          200.66,
          200.66,
          193.04,
          193.04,
          193.04,
          200.66,
          208.28,
          193.04,
          223.52,
          208.28,
          203.2,
          187.96,
          200.66,
          198.12,
          198.12,
          200.66,
          210.82,
          208.28,
          190.5,
          190.5,
          200.66,
          200.66,
          205.74,
          190.5,
          203.2,
          218.44,
          180.34,
          200.66,
          185.42,
          198.12,
          205.74,
          177.8,
          193.04,
          210.82,
          198.12,
          193.04,
          208.28,
          215.9,
          193.04,
          203.2,
          208.28,
          198.12,
          213.36,
          210.82,
          203.2,
          200.66,
          213.36,
          213.36,
          220.98,
          200.66,
          213.36,
          180.34,
          200.66,
          203.2,
          205.74,
          208.28,
          193.04,
          208.28,
          190.5,
          208.28,
          200.66,
          213.36,
          182.88,
          208.28,
          193.04,
          198.12,
          208.28,
          210.82,
          208.28,
          208.28,
          205.74,
          210.82,
          210.82,
          187.96,
          198.12,
          205.74,
          205.74,
          190.5,
          198.12,
          187.96,
          203.2,
          210.82,
          190.5,
          210.82,
          185.42,
          193.04,
          213.36,
          213.36,
          190.5,
          187.96,
          200.66,
          205.74,
          203.2,
          200.66,
          200.66,
          190.5,
          195.58,
          205.74,
          195.58,
          195.58,
          185.42,
          187.96,
          185.42,
          200.66,
          210.82,
          195.58,
          185.42,
          195.58,
          210.82,
          198.12,
          215.9,
          195.58,
          190.5,
          210.82,
          208.28,
          200.66,
          210.82,
          185.42,
          195.58,
          185.42,
          205.74,
          205.74,
          200.66,
          205.74,
          195.58,
          198.12,
          205.74,
          205.74,
          203.2,
          203.2,
          198.12,
          220.98,
          208.28,
          205.74,
          205.74,
          198.12,
          195.58,
          187.96,
          195.58,
          195.58,
          203.2,
          185.42,
          160.02,
          195.58,
          198.12,
          185.42,
          218.44,
          205.74,
          208.28,
          205.74,
          210.82,
          213.36,
          205.74,
          208.28,
          198.12,
          185.42,
          203.2,
          223.52,
          187.96,
          195.58,
          193.04,
          208.28,
          203.2,
          213.36,
          198.12,
          208.28,
          200.66,
          203.2,
          210.82,
          205.74,
          195.58,
          205.74,
          200.66,
          205.74,
          190.5,
          208.28,
          182.88,
          185.42,
          208.28,
          198.12,
          205.74,
          210.82,
          208.28,
          215.9,
          190.5,
          205.74,
          205.74,
          195.58,
          200.66,
          208.28,
          180.34,
          210.82,
          198.12,
          177.8,
          193.04,
          200.66,
          210.82,
          193.04,
          208.28,
          190.5,
          200.66,
          185.42,
          185.42,
          180.34,
          215.9,
          205.74,
          195.58,
          182.88,
          210.82,
          187.96,
          195.58,
          200.66,
          208.28,
          185.42,
          190.5,
          208.28,
          210.82,
          193.04,
          187.96,
          190.5,
          210.82,
          213.36,
          198.12,
          190.5,
          205.74,
          210.82,
          208.28,
          200.66,
          203.2,
          203.2,
          200.66,
          208.28,
          182.88,
          210.82,
          203.2,
          203.2,
          200.66,
          208.28,
          190.5,
          198.12,
          200.66,
          203.2,
          213.36,
          185.42,
          213.36,
          190.5,
          193.04,
          203.2,
          210.82,
          190.5,
          210.82,
          205.74,
          198.12,
          213.36,
          193.04,
          190.5,
          193.04,
          203.2,
          203.2,
          203.2,
          193.04,
          198.12,
          205.74,
          231.14,
          203.2,
          200.66,
          205.74,
          200.66,
          185.42,
          213.36,
          182.88,
          193.04,
          205.74,
          208.28,
          208.28,
          208.28,
          205.74,
          218.44,
          213.36,
          203.2,
          208.28,
          203.2,
          195.58,
          205.74,
          190.5,
          198.12,
          195.58,
          213.36,
          200.66,
          218.44,
          165.1,
          190.5,
          200.66,
          198.12,
          193.04,
          198.12,
          195.58,
          200.66,
          200.66,
          187.96,
          210.82,
          210.82,
          205.74,
          208.28,
          210.82,
          198.12,
          208.28,
          193.04,
          182.88,
          213.36,
          205.74,
          205.74,
          205.74,
          205.74,
          208.28,
          180.34,
          205.74,
          205.74,
          198.12,
          182.88,
          208.28,
          193.04,
          195.58,
          195.58,
          205.74,
          203.2,
          180.34,
          220.98,
          203.2,
          210.82,
          213.36,
          198.12,
          208.28,
          203.2,
          193.04,
          213.36,
          215.9,
          208.28,
          200.66,
          193.04,
          210.82,
          193.04,
          177.8,
          182.88,
          198.12,
          205.74,
          198.12,
          185.42,
          213.36,
          198.12,
          213.36,
          200.66,
          198.12,
          208.28,
          210.82,
          195.58,
          185.42,
          195.58,
          195.58,
          210.82,
          198.12,
          198.12,
          185.42,
          177.8,
          203.2,
          205.74,
          203.2,
          198.12,
          200.66,
          218.44,
          213.36,
          195.58,
          190.5,
          200.66,
          200.66,
          205.74,
          210.82,
          210.82,
          198.12,
          205.74,
          200.66,
          193.04,
          187.96,
          203.2,
          205.74,
          205.74,
          190.5,
          205.74,
          198.12,
          193.04,
          205.74,
          205.74,
          193.04,
          205.74,
          210.82,
          203.2,
          205.74,
          220.98,
          205.74,
          180.34,
          187.96,
          205.74,
          205.74,
          213.36,
          205.74,
          213.36,
          203.2,
          205.74,
          205.74,
          198.12,
          210.82,
          205.74,
          213.36,
          213.36,
          200.66,
          205.74,
          208.28,
          208.28,
          185.42,
          203.2,
          210.82,
          210.82,
          187.96,
          193.04,
          208.28,
          210.82,
          213.36,
          195.58,
          193.04,
          200.66,
          200.66,
          193.04,
          185.42,
          193.04,
          210.82,
          208.28,
          205.74,
          205.74,
          205.74,
          195.58,
          195.58,
          210.82,
          200.66,
          182.88,
          213.36,
          203.2,
          208.28,
          187.96,
          187.96,
          200.66,
          213.36,
          195.58,
          195.58,
          203.2,
          187.96,
          185.42,
          160.02,
          208.28,
          185.42,
          198.12,
          185.42,
          213.36,
          190.5,
          190.5,
          208.28,
          223.52,
          215.9,
          205.74,
          228.6,
          208.28,
          185.42,
          185.42,
          203.2,
          213.36,
          187.96,
          180.34,
          190.5,
          190.5,
          203.2,
          218.44,
          198.12,
          180.34,
          205.74,
          205.74,
          193.04,
          208.28,
          210.82,
          208.28,
          190.5,
          198.12,
          185.42,
          208.28,
          208.28,
          208.28,
          187.96,
          203.2,
          190.5,
          200.66,
          198.12,
          198.12,
          200.66,
          210.82,
          203.2,
          198.12,
          200.66,
          190.5,
          190.5,
          193.04,
          200.66,
          200.66,
          205.74,
          205.74,
          210.82,
          200.66,
          208.28,
          200.66,
          203.2,
          210.82,
          200.66,
          193.04,
          208.28,
          193.04,
          193.04,
          190.5,
          208.28,
          205.74,
          210.82,
          215.9,
          200.66,
          205.74,
          198.12,
          215.9,
          198.12,
          215.9,
          195.58,
          190.5,
          213.36,
          208.28,
          210.82,
          213.36,
          187.96,
          195.58,
          185.42,
          205.74,
          205.74,
          185.42,
          200.66,
          193.04,
          218.44,
          213.36,
          205.74,
          190.5,
          210.82,
          190.5,
          208.28,
          210.82,
          187.96,
          195.58,
          208.28,
          205.74,
          195.58,
          208.28,
          185.42,
          205.74,
          203.2,
          203.2,
          195.58,
          187.96,
          203.2,
          200.66,
          198.12,
          203.2,
          203.2,
          200.66,
          210.82,
          195.58,
          203.2,
          200.66,
          195.58,
          218.44,
          205.74,
          210.82,
          208.28,
          185.42,
          187.96,
          185.42,
          205.74,
          210.82,
          195.58,
          200.66,
          203.2,
          205.74,
          205.74,
          200.66,
          200.66,
          210.82,
          190.5,
          213.36,
          193.04,
          205.74,
          195.58,
          198.12,
          200.66,
          185.42,
          198.12,
          195.58,
          205.74,
          205.74,
          203.2,
          198.12,
          220.98,
          208.28,
          210.82,
          195.58,
          185.42,
          210.82,
          200.66,
          208.28,
          205.74,
          208.28,
          187.96,
          198.12,
          200.66,
          208.28,
          208.28,
          193.04,
          190.5,
          205.74,
          195.58,
          208.28,
          195.58,
          187.96,
          213.36,
          203.2,
          205.74,
          195.58,
          182.88,
          200.66,
          210.82,
          190.5,
          205.74,
          213.36,
          205.74,
          205.74,
          203.2,
          185.42,
          185.42,
          160.02,
          208.28,
          198.12,
          185.42,
          205.74,
          213.36,
          205.74,
          208.28,
          210.82,
          198.12,
          205.74,
          195.58,
          205.74,
          190.5,
          200.66,
          198.12,
          203.2,
          205.74,
          205.74,
          220.98,
          208.28,
          210.82,
          210.82,
          185.42,
          203.2,
          210.82,
          195.58,
          210.82,
          185.42,
          195.58,
          193.04,
          195.58,
          200.66,
          198.12,
          198.12,
          215.9,
          210.82,
          208.28,
          200.66,
          205.74,
          208.28,
          187.96,
          210.82,
          190.5,
          185.42,
          205.74,
          205.74,
          193.04,
          190.5,
          213.36,
          187.96,
          200.66,
          203.2,
          190.5,
          210.82,
          198.12,
          195.58,
          195.58,
          205.74,
          205.74,
          208.28,
          208.28,
          208.28,
          208.28,
          215.9,
          200.66,
          190.5,
          218.44,
          205.74,
          205.74,
          205.74,
          203.2,
          208.28,
          200.66,
          208.28,
          205.74,
          195.58,
          200.66,
          195.58,
          205.74,
          203.2,
          187.96,
          210.82,
          195.58,
          200.66,
          195.58,
          213.36,
          210.82,
          210.82,
          205.74,
          208.28,
          210.82,
          198.12,
          198.12,
          218.44,
          208.28,
          193.04,
          200.66,
          182.88,
          213.36,
          218.44,
          208.28,
          190.5,
          208.28,
          205.74,
          180.34,
          198.12,
          203.2,
          190.5,
          190.5,
          190.5,
          187.96,
          213.36,
          203.2,
          187.96,
          185.42,
          205.74,
          203.2,
          200.66,
          213.36,
          187.96,
          213.36,
          198.12,
          187.96,
          208.28,
          203.2,
          200.66,
          193.04,
          190.5,
          213.36,
          215.9,
          208.28,
          193.04,
          200.66,
          210.82,
          193.04,
          182.88,
          198.12,
          205.74,
          198.12,
          185.42,
          213.36,
          180.34,
          190.5,
          200.66,
          205.74,
          200.66,
          208.28,
          228.6,
          187.96,
          208.28,
          223.52,
          200.66,
          205.74,
          200.66,
          193.04,
          198.12,
          193.04,
          193.04,
          200.66,
          193.04,
          195.58,
          213.36,
          210.82,
          208.28,
          193.04,
          187.96,
          210.82,
          187.96,
          210.82,
          200.66,
          203.2,
          208.28,
          205.74,
          205.74,
          200.66,
          203.2,
          190.5,
          195.58,
          200.66,
          205.74,
          215.9,
          198.12,
          185.42,
          208.28,
          208.28,
          203.2,
          200.66,
          208.28,
          205.74,
          200.66,
          210.82,
          205.74,
          205.74,
          205.74,
          200.66,
          193.04,
          190.5,
          210.82,
          195.58,
          200.66,
          190.5,
          198.12,
          208.28,
          203.2,
          200.66,
          198.12,
          198.12,
          200.66,
          210.82,
          213.36,
          185.42,
          185.42,
          203.2,
          205.74,
          208.28,
          193.04,
          208.28,
          208.28,
          203.2,
          200.66,
          205.74,
          218.44,
          195.58,
          213.36,
          208.28,
          203.2,
          200.66,
          205.74,
          198.12,
          190.5,
          198.12,
          195.58,
          213.36,
          165.1,
          198.12,
          205.74,
          195.58,
          203.2,
          200.66,
          195.58,
          208.28,
          198.12,
          198.12,
          208.28,
          200.66,
          185.42,
          193.04,
          210.82,
          200.66,
          190.5,
          177.8,
          198.12,
          213.36,
          180.34,
          200.66,
          208.28,
          185.42,
          180.34,
          200.66,
          215.9,
          185.42,
          195.58,
          205.74,
          210.82,
          190.5,
          187.96,
          208.28,
          200.66,
          193.04,
          203.2,
          203.2,
          187.96,
          190.5,
          208.28,
          187.96,
          195.58,
          208.28,
          195.58,
          195.58,
          205.74,
          185.42,
          205.74,
          203.2,
          203.2,
          203.2,
          203.2,
          198.12,
          203.2,
          193.04,
          187.96,
          187.96,
          210.82,
          193.04,
          193.04,
          208.28,
          213.36,
          218.44,
          210.82,
          193.04,
          195.58,
          213.36,
          185.42,
          200.66,
          190.5,
          203.2,
          210.82,
          190.5,
          210.82,
          205.74,
          210.82,
          198.12,
          182.88,
          213.36,
          190.5,
          193.04,
          203.2,
          203.2,
          203.2,
          205.74,
          231.14,
          203.2,
          200.66,
          203.2,
          205.74,
          185.42,
          193.04,
          203.2,
          193.04,
          203.2,
          203.2,
          205.74,
          198.12,
          193.04,
          205.74,
          205.74,
          193.04,
          205.74,
          210.82,
          203.2,
          205.74,
          205.74,
          220.98,
          205.74,
          180.34,
          187.96,
          190.5,
          205.74,
          205.74,
          190.5,
          213.36,
          185.42,
          205.74,
          180.34,
          205.74,
          195.58,
          205.74,
          205.74,
          208.28,
          195.58,
          205.74,
          205.74,
          220.98,
          198.12,
          182.88,
          208.28,
          195.58,
          205.74,
          187.96,
          208.28,
          210.82,
          200.66,
          205.74,
          205.74,
          208.28,
          205.74,
          200.66,
          198.12,
          205.74,
          190.5,
          187.96,
          190.5,
          210.82,
          213.36,
          198.12,
          190.5,
          205.74,
          210.82,
          208.28,
          187.96,
          200.66,
          200.66,
          208.28,
          182.88,
          213.36,
          200.66,
          210.82,
          210.82,
          200.66,
          203.2,
          187.96,
          195.58,
          185.42,
          195.58,
          195.58,
          213.36,
          210.82,
          185.42,
          177.8,
          198.12,
          198.12,
          208.28,
          205.74,
          190.5,
          195.58,
          200.66,
          218.44,
          200.66,
          205.74,
          213.36,
          203.2,
          190.5,
          203.2,
          213.36,
          190.5,
          195.58,
          203.2,
          185.42,
          208.28,
          200.66,
          160.02,
          208.28,
          198.12,
          185.42,
          205.74,
          213.36,
          205.74,
          185.42,
          185.42,
          200.66,
          203.2,
          205.74,
          208.28,
          205.74,
          208.28,
          208.28,
          187.96,
          208.28,
          215.9,
          200.66,
          190.5,
          205.74,
          195.58,
          193.04,
          210.82,
          200.66,
          182.88,
          213.36,
          198.12,
          203.2,
          208.28,
          190.5,
          200.66,
          205.74,
          208.28,
          187.96,
          203.2,
          190.5,
          195.58,
          200.66,
          198.12,
          200.66,
          203.2,
          205.74,
          195.58,
          208.28,
          200.66,
          190.5,
          193.04,
          200.66,
          205.74,
          213.36,
          205.74,
          200.66,
          210.82,
          200.66,
          198.12,
          213.36,
          193.04,
          198.12,
          205.74,
          193.04,
          205.74,
          203.2,
          198.12,
          200.66,
          210.82,
          187.96,
          195.58,
          187.96,
          193.04,
          208.28,
          210.82,
          213.36,
          195.58,
          200.66,
          193.04,
          195.58,
          200.66,
          210.82,
          195.58,
          210.82,
          205.74,
          195.58,
          200.66,
          208.28,
          210.82,
          200.66,
          185.42,
          208.28,
          198.12,
          198.12,
          215.9,
          208.28,
          215.9,
          208.28,
          213.36,
          187.96,
          205.74,
          205.74,
          218.44,
          210.82,
          210.82,
          193.04,
          210.82,
          185.42,
          187.96,
          193.04,
          187.96,
          213.36,
          203.2,
          193.04,
          205.74,
          187.96,
          203.2,
          198.12,
          200.66,
          203.2,
          195.58,
          208.28,
          203.2,
          195.58,
          185.42,
          205.74,
          195.58,
          200.66,
          205.74,
          195.58,
          195.58,
          200.66,
          190.5,
          195.58,
          195.58,
          205.74,
          203.2,
          187.96,
          210.82,
          205.74,
          218.44,
          195.58,
          185.42,
          200.66,
          213.36,
          208.28,
          208.28,
          205.74,
          203.2,
          205.74,
          210.82,
          198.12,
          203.2,
          205.74,
          205.74,
          208.28,
          210.82,
          195.58,
          185.42,
          203.2,
          205.74,
          210.82,
          190.5,
          210.82,
          187.96,
          213.36,
          195.58,
          177.8,
          200.66,
          205.74,
          195.58,
          200.66,
          208.28,
          205.74,
          198.12,
          182.88,
          177.8,
          193.04,
          210.82,
          198.12,
          193.04,
          208.28,
          215.9,
          213.36,
          190.5,
          193.04,
          198.12,
          200.66,
          208.28,
          177.8,
          215.9,
          198.12,
          213.36,
          187.96,
          213.36,
          210.82,
          220.98,
          210.82,
          205.74,
          190.5,
          198.12,
          203.2,
          185.42,
          213.36,
          180.34,
          198.12,
          198.12,
          208.28,
          200.66,
          203.2,
          180.34,
          210.82,
          182.88,
          208.28,
          200.66,
          198.12,
          200.66,
          215.9,
          187.96,
          208.28,
          208.28,
          198.12,
          210.82,
          213.36,
          208.28,
          205.74,
          210.82,
          210.82,
          187.96,
          205.74,
          190.5,
          203.2,
          200.66,
          190.5,
          205.74,
          190.5,
          187.96,
          205.74,
          205.74,
          210.82,
          205.74,
          193.04,
          205.74,
          193.04,
          205.74,
          203.2,
          190.5,
          187.96,
          185.42,
          205.74,
          200.66,
          205.74,
          208.28,
          187.96,
          195.58,
          208.28,
          182.88,
          198.12,
          205.74,
          205.74,
          195.58,
          208.28,
          205.74,
          205.74,
          195.58,
          185.42,
          205.74,
          205.74,
          208.28,
          220.98,
          180.34,
          200.66,
          200.66,
          210.82,
          210.82,
          200.66,
          208.28,
          200.66,
          190.5,
          195.58,
          213.36,
          218.44,
          200.66,
          205.74,
          198.12,
          205.74,
          203.2,
          177.8,
          185.42,
          198.12,
          213.36,
          195.58,
          185.42,
          195.58,
          203.2,
          187.96,
          203.2,
          205.74,
          205.74,
          190.5,
          205.74,
          200.66,
          210.82,
          195.58,
          182.88,
          200.66,
          187.96,
          208.28,
          190.5,
          203.2,
          210.82,
          213.36,
          218.44,
          210.82,
          193.04,
          185.42,
          205.74,
          203.2,
          200.66,
          203.2,
          205.74,
          203.2,
          203.2,
          203.2,
          193.04,
          190.5,
          218.44,
          195.58,
          213.36,
          195.58,
          210.82,
          205.74,
          210.82,
          213.36,
          190.5,
          208.28,
          208.28,
          185.42,
          200.66,
          182.88,
          203.2,
          208.28,
          185.42,
          198.12,
          215.9,
          205.74,
          228.6,
          208.28,
          200.66,
          210.82,
          182.88,
          208.28,
          213.36,
          203.2,
          203.2,
          187.96,
          190.5,
          208.28,
          190.5,
          190.5,
          203.2,
          205.74,
          198.12,
          200.66,
          180.34,
          208.28,
          190.5,
          210.82,
          208.28,
          203.2,
          185.42,
          195.58,
          205.74,
          195.58,
          187.96,
          210.82,
          195.58,
          195.58,
          185.42,
          195.58,
          215.9,
          203.2,
          200.66,
          180.34,
          185.42,
          205.74,
          208.28,
          203.2,
          208.28,
          215.9,
          180.34,
          213.36,
          198.12,
          210.82,
          177.8,
          190.5,
          215.9,
          210.82,
          185.42,
          205.74,
          208.28,
          193.04,
          208.28,
          193.04,
          190.5,
          198.12,
          213.36,
          195.58,
          203.2,
          182.88,
          193.04,
          213.36,
          205.74,
          200.66,
          185.42,
          182.88,
          165.1,
          203.2,
          210.82,
          195.58,
          213.36,
          203.2,
          218.44,
          195.58,
          210.82,
          208.28,
          208.28,
          203.2,
          198.12,
          205.74,
          198.12,
          190.5,
          203.2,
          213.36,
          182.88,
          200.66,
          208.28,
          213.36,
          210.82,
          210.82,
          187.96,
          205.74,
          187.96,
          187.96,
          208.28,
          208.28,
          203.2,
          180.34,
          205.74,
          198.12,
          203.2,
          205.74,
          203.2,
          208.28,
          190.5,
          190.5,
          208.28,
          190.5,
          187.96,
          203.2,
          190.5,
          203.2,
          198.12,
          190.5,
          180.34,
          213.36,
          205.74,
          187.96,
          185.42,
          198.12,
          215.9,
          208.28,
          203.2,
          200.66,
          193.04,
          190.5,
          213.36,
          208.28,
          215.9,
          208.28,
          193.04,
          210.82,
          208.28,
          215.9,
          182.88,
          198.12,
          205.74,
          210.82,
          185.42,
          195.58,
          203.2,
          213.36,
          180.34,
          200.66,
          208.28,
          208.28,
          200.66,
          200.66,
          200.66,
          200.66,
          195.58,
          215.9,
          213.36,
          210.82,
          208.28,
          193.04,
          187.96,
          195.58,
          187.96,
          210.82,
          200.66,
          200.66,
          215.9,
          210.82,
          203.2,
          205.74,
          198.12,
          213.36,
          213.36,
          205.74,
          210.82,
          205.74,
          198.12,
          208.28,
          205.74,
          198.12,
          193.04,
          200.66,
          200.66,
          208.28,
          228.6,
          205.74,
          215.9,
          203.2,
          198.12,
          185.42,
          208.28,
          208.28,
          200.66,
          208.28,
          205.74,
          210.82,
          210.82,
          205.74,
          200.66,
          200.66,
          190.5,
          205.74,
          190.5,
          195.58,
          213.36,
          200.66,
          205.74,
          200.66,
          195.58,
          190.5,
          203.2,
          187.96,
          208.28,
          195.58,
          185.42,
          195.58,
          195.58,
          208.28,
          193.04,
          193.04,
          210.82,
          185.42,
          187.96,
          198.12,
          193.04,
          187.96,
          213.36,
          213.36,
          203.2,
          210.82,
          198.12,
          210.82,
          215.9,
          208.28,
          205.74,
          193.04,
          213.36,
          195.58,
          200.66,
          205.74,
          185.42,
          195.58,
          187.96,
          185.42,
          215.9,
          208.28,
          200.66,
          182.88,
          198.12,
          198.12,
          198.12,
          208.28,
          198.12,
          203.2,
          195.58,
          218.44,
          210.82,
          193.04,
          185.42,
          205.74,
          203.2,
          200.66,
          203.2,
          190.5,
          200.66,
          203.2,
          203.2,
          203.2,
          193.04,
          195.58,
          213.36,
          210.82,
          205.74,
          203.2,
          190.5,
          210.82,
          203.2,
          210.82,
          218.44,
          205.74,
          185.42,
          203.2,
          210.82,
          200.66,
          195.58,
          193.04,
          208.28,
          195.58,
          187.96,
          208.28,
          195.58,
          213.36,
          203.2,
          205.74,
          195.58,
          195.58,
          205.74,
          200.66,
          210.82,
          195.58,
          200.66,
          205.74,
          208.28,
          187.96,
          208.28,
          208.28,
          205.74,
          190.5,
          205.74,
          210.82,
          200.66,
          198.12,
          213.36,
          208.28,
          200.66,
          182.88,
          185.42,
          203.2,
          195.58,
          195.58,
          213.36,
          190.5,
          190.5,
          203.2,
          187.96,
          185.42,
          208.28,
          203.2,
          198.12,
          213.36,
          205.74,
          205.74,
          208.28,
          205.74,
          190.5,
          213.36,
          187.96,
          210.82,
          195.58,
          210.82,
          205.74,
          200.66,
          185.42,
          185.42,
          195.58,
          210.82,
          208.28,
          200.66,
          200.66,
          205.74,
          210.82,
          203.2,
          213.36,
          200.66,
          208.28,
          195.58,
          210.82,
          215.9,
          187.96,
          210.82,
          208.28,
          205.74,
          195.58,
          195.58,
          190.5,
          195.58,
          200.66,
          208.28,
          205.74,
          195.58,
          210.82,
          208.28,
          208.28,
          200.66,
          210.82,
          187.96,
          210.82,
          200.66,
          205.74,
          193.04,
          190.5,
          187.96,
          190.5,
          210.82,
          208.28,
          190.5,
          205.74,
          200.66,
          190.5,
          195.58,
          218.44,
          195.58,
          185.42,
          198.12,
          195.58,
          213.36,
          195.58,
          213.36,
          210.82,
          198.12,
          177.8,
          203.2,
          205.74,
          205.74,
          198.12,
          205.74,
          200.66,
          185.42,
          203.2,
          208.28,
          200.66,
          215.9,
          208.28,
          203.2,
          208.28,
          205.74,
          185.42,
          180.34,
          200.66,
          215.9,
          185.42,
          213.36,
          195.58,
          210.82,
          180.34,
          185.42,
          180.34,
          198.12,
          210.82,
          203.2,
          208.28,
          182.88,
          210.82,
          180.34,
          203.2,
          200.66,
          208.28,
          213.36,
          198.12,
          200.66,
          198.12,
          193.04,
          210.82,
          215.9,
          190.5,
          177.8,
          208.28,
          187.96,
          205.74,
          190.5,
          182.88,
          185.42,
          165.1,
          190.5,
          198.12,
          205.74,
          200.66,
          203.2,
          203.2,
          213.36,
          195.58,
          218.44,
          205.74,
          203.2,
          195.58,
          208.28,
          185.42,
          198.12,
          205.74,
          210.82,
          213.36,
          190.5,
          210.82,
          185.42,
          203.2,
          190.5,
          208.28,
          198.12,
          195.58,
          203.2,
          182.88,
          190.5,
          213.36,
          203.2,
          210.82,
          213.36,
          193.04,
          208.28,
          185.42,
          200.66,
          205.74,
          205.74,
          187.96,
          190.5,
          203.2,
          193.04,
          208.28,
          205.74,
          205.74,
          210.82,
          205.74,
          208.28,
          205.74,
          208.28,
          180.34,
          193.04,
          210.82,
          205.74,
          210.82,
          195.58,
          205.74,
          198.12,
          185.42,
          195.58,
          205.74,
          208.28,
          187.96,
          195.58,
          205.74,
          198.12,
          182.88,
          208.28,
          205.74,
          210.82,
          195.58,
          205.74,
          220.98,
          195.58,
          193.04,
          177.8,
          203.2,
          187.96,
          205.74,
          185.42,
          203.2,
          208.28,
          198.12,
          213.36,
          198.12,
          213.36,
          200.66,
          195.58,
          195.58,
          208.28,
          200.66,
          210.82,
          208.28,
          210.82,
          205.74,
          190.5,
          200.66,
          210.82,
          190.5,
          203.2,
          187.96,
          203.2,
          198.12,
          215.9,
          198.12,
          210.82,
          203.2,
          193.04,
          208.28,
          208.28,
          198.12,
          213.36,
          205.74,
          210.82,
          210.82,
          205.74,
          198.12,
          208.28,
          213.36,
          185.42,
          210.82,
          208.28,
          215.9,
          200.66,
          187.96,
          200.66,
          208.28,
          205.74,
          205.74,
          190.5,
          213.36,
          187.96,
          210.82,
          195.58,
          210.82,
          205.74,
          200.66,
          187.96,
          185.42,
          195.58,
          208.28,
          210.82,
          208.28,
          200.66,
          205.74,
          198.12,
          205.74,
          193.04,
          203.2,
          200.66,
          190.5,
          200.66,
          210.82,
          205.74,
          203.2,
          190.5,
          205.74,
          213.36,
          208.28,
          203.2,
          210.82,
          208.28,
          198.12,
          213.36,
          200.66,
          208.28,
          205.74,
          195.58,
          210.82,
          215.9,
          203.2,
          187.96,
          205.74,
          205.74,
          195.58,
          195.58,
          195.58,
          208.28,
          210.82,
          213.36,
          187.96,
          187.96,
          203.2,
          187.96,
          205.74,
          187.96,
          210.82,
          210.82,
          208.28,
          213.36,
          193.04,
          208.28,
          200.66,
          182.88,
          187.96,
          208.28,
          205.74,
          205.74,
          198.12,
          203.2,
          205.74,
          203.2,
          213.36,
          190.5,
          213.36,
          180.34,
          213.36,
          203.2,
          210.82,
          213.36,
          205.74,
          226.06,
          198.12,
          215.9,
          208.28,
          203.2,
          200.66,
          193.04,
          215.9,
          208.28,
          215.9,
          208.28,
          200.66,
          198.12,
          210.82,
          215.9,
          182.88,
          205.74,
          210.82,
          185.42,
          195.58,
          185.42,
          190.5,
          187.96,
          203.2,
          200.66,
          195.58,
          205.74,
          200.66,
          190.5,
          203.2,
          187.96,
          208.28,
          210.82,
          200.66,
          200.66,
          193.04,
          200.66,
          200.66,
          200.66,
          200.66,
          203.2,
          195.58,
          200.66,
          213.36,
          210.82,
          208.28,
          193.04,
          213.36,
          195.58,
          195.58,
          205.74,
          203.2,
          180.34,
          208.28,
          193.04,
          208.28,
          200.66,
          208.28,
          228.6,
          205.74,
          215.9,
          203.2,
          198.12,
          185.42,
          208.28,
          208.28,
          200.66,
          203.2,
          208.28,
          205.74,
          210.82,
          205.74,
          190.5,
          203.2,
          208.28,
          220.98,
          195.58,
          200.66,
          208.28,
          200.66,
          200.66,
          213.36,
          203.2,
          210.82,
          205.74,
          190.5,
          208.28,
          210.82,
          190.5,
          187.96,
          193.04,
          205.74,
          218.44,
          198.12,
          200.66,
          205.74,
          187.96,
          210.82,
          200.66,
          200.66,
          190.5,
          182.88,
          218.44,
          208.28,
          180.34,
          200.66,
          185.42,
          205.74,
          208.28,
          203.2,
          208.28,
          210.82,
          210.82,
          182.88,
          203.2,
          177.8,
          190.5,
          215.9,
          210.82,
          190.5,
          193.04,
          195.58,
          200.66,
          208.28,
          198.12,
          198.12,
          208.28,
          200.66,
          210.82,
          215.9,
          200.66,
          198.12,
          193.04,
          203.2,
          190.5,
          187.96,
          187.96,
          205.74,
          205.74,
          200.66,
          208.28,
          205.74,
          187.96,
          208.28,
          185.42,
          195.58,
          205.74,
          195.58,
          208.28,
          195.58,
          205.74,
          205.74,
          198.12,
          182.88,
          205.74,
          200.66,
          205.74,
          205.74,
          205.74,
          205.74,
          205.74,
          203.2,
          177.8,
          198.12,
          213.36,
          198.12,
          195.58,
          213.36,
          205.74,
          195.58,
          198.12,
          185.42,
          195.58,
          203.2,
          187.96,
          205.74,
          190.5,
          180.34,
          208.28,
          220.98,
          205.74,
          210.82,
          193.04,
          185.42,
          185.42,
          195.58,
          210.82,
          210.82,
          187.96,
          193.04,
          203.2,
          210.82,
          203.2,
          195.58,
          190.5,
          210.82,
          203.2,
          203.2,
          218.44,
          205.74,
          185.42,
          187.96,
          200.66,
          187.96,
          195.58,
          187.96,
          208.28,
          208.28,
          210.82,
          213.36,
          213.36,
          193.04,
          185.42,
          210.82,
          208.28,
          215.9,
          208.28,
          200.66,
          200.66,
          198.12,
          198.12,
          198.12,
          205.74,
          208.28,
          215.9,
          210.82,
          195.58,
          208.28,
          193.04,
          193.04,
          210.82,
          187.96,
          185.42,
          187.96,
          198.12,
          205.74,
          213.36,
          218.44,
          193.04,
          210.82,
          205.74,
          198.12,
          185.42,
          208.28,
          185.42,
          165.1,
          208.28,
          198.12,
          205.74,
          200.66,
          203.2,
          203.2,
          213.36,
          195.58,
          218.44,
          195.58,
          203.2,
          195.58,
          208.28,
          185.42,
          195.58,
          180.34,
          203.2,
          210.82,
          210.82,
          203.2,
          205.74,
          203.2,
          198.12,
          200.66,
          203.2,
          190.5,
          200.66,
          203.2,
          203.2,
          193.04,
          213.36,
          187.96,
          190.5,
          193.04,
          210.82,
          208.28,
          210.82,
          190.5,
          210.82,
          203.2,
          190.5,
          198.12,
          195.58,
          195.58,
          195.58,
          208.28,
          200.66,
          195.58,
          205.74,
          205.74,
          205.74,
          190.5,
          198.12,
          185.42,
          195.58,
          190.5,
          213.36,
          180.34,
          203.2,
          187.96,
          205.74,
          185.42,
          198.12,
          203.2,
          208.28,
          203.2,
          198.12,
          213.36,
          200.66,
          210.82,
          195.58,
          208.28,
          200.66,
          210.82,
          208.28,
          210.82,
          187.96,
          205.74,
          200.66,
          205.74,
          195.58,
          187.96,
          210.82,
          203.2,
          200.66,
          195.58,
          215.9,
          210.82,
          203.2,
          208.28,
          208.28,
          198.12,
          213.36,
          213.36,
          205.74,
          210.82,
          205.74,
          185.42,
          205.74,
          208.28,
          213.36,
          185.42,
          210.82,
          208.28,
          193.04,
          195.58,
          198.12,
          205.74,
          190.5,
          203.2,
          195.58,
          195.58,
          200.66,
          208.28,
          200.66,
          210.82,
          205.74,
          198.12,
          195.58,
          190.5,
          190.5,
          213.36,
          187.96,
          210.82,
          195.58,
          210.82,
          200.66,
          185.42,
          208.28,
          195.58,
          208.28,
          200.66,
          187.96,
          203.2,
          200.66,
          187.96,
          198.12,
          195.58,
          208.28,
          205.74,
          190.5,
          213.36,
          208.28,
          203.2,
          210.82,
          187.96,
          208.28,
          198.12,
          213.36,
          200.66,
          208.28,
          210.82,
          203.2,
          187.96,
          195.58,
          210.82,
          218.44,
          203.2,
          208.28,
          210.82,
          213.36,
          203.2,
          198.12,
          208.28,
          185.42,
          198.12,
          203.2,
          182.88,
          215.9,
          205.74,
          228.6,
          200.66,
          208.28,
          226.06,
          180.34,
          203.2,
          203.2,
          187.96,
          190.5,
          190.5,
          190.5,
          213.36,
          203.2,
          205.74,
          208.28,
          182.88,
          205.74,
          200.66,
          195.58,
          193.04,
          200.66,
          200.66,
          210.82,
          208.28,
          187.96,
          203.2,
          190.5,
          195.58,
          200.66,
          205.74,
          195.58,
          200.66,
          200.66,
          213.36,
          195.58,
          190.5,
          205.74,
          203.2,
          190.5,
          205.74,
          210.82,
          210.82,
          203.2,
          205.74,
          208.28,
          215.9,
          208.28,
          215.9,
          193.04,
          200.66,
          208.28,
          215.9,
          198.12,
          193.04,
          228.6,
          205.74,
          210.82,
          210.82,
          213.36,
          210.82,
          200.66,
          220.98,
          200.66,
          203.2,
          198.12,
          195.58,
          182.88,
          200.66,
          208.28,
          198.12,
          210.82,
          203.2,
          203.2,
          187.96,
          213.36,
          208.28,
          208.28,
          210.82,
          210.82,
          187.96,
          205.74,
          187.96,
          203.2,
          210.82,
          203.2,
          180.34,
          198.12,
          205.74,
          198.12,
          195.58,
          185.42,
          185.42,
          210.82,
          205.74,
          182.88,
          215.9,
          200.66,
          208.28,
          187.96,
          195.58,
          213.36,
          200.66,
          208.28,
          198.12,
          208.28,
          200.66,
          180.34,
          210.82,
          208.28,
          182.88,
          208.28,
          213.36,
          213.36,
          203.2,
          205.74,
          208.28,
          208.28,
          210.82,
          190.5,
          187.96,
          205.74,
          218.44,
          198.12,
          193.04,
          200.66,
          198.12,
          210.82,
          208.28,
          185.42,
          195.58,
          205.74,
          195.58,
          213.36,
          205.74,
          185.42,
          200.66,
          180.34,
          185.42,
          213.36,
          205.74,
          205.74,
          203.2,
          215.9,
          180.34,
          210.82,
          210.82,
          182.88,
          203.2,
          177.8,
          190.5,
          187.96,
          203.2,
          205.74,
          187.96,
          190.5,
          180.34,
          208.28,
          205.74,
          205.74,
          193.04,
          205.74,
          193.04,
          190.5,
          187.96,
          187.96,
          205.74,
          205.74,
          200.66,
          208.28,
          205.74,
          187.96,
          208.28,
          210.82,
          195.58,
          205.74,
          208.28,
          182.88,
          208.28,
          205.74,
          187.96,
          203.2,
          210.82,
          200.66,
          200.66,
          190.5,
          218.44,
          200.66,
          208.28,
          205.74,
          205.74,
          205.74,
          205.74,
          193.04,
          203.2,
          198.12,
          213.36,
          200.66,
          195.58,
          213.36,
          205.74,
          203.2,
          195.58,
          198.12,
          185.42,
          195.58,
          177.8,
          200.66,
          200.66,
          200.66,
          210.82,
          185.42,
          187.96,
          198.12,
          193.04,
          203.2,
          190.5,
          213.36,
          213.36,
          200.66,
          210.82,
          210.82,
          185.42,
          193.04,
          203.2,
          203.2,
          210.82,
          203.2,
          195.58,
          190.5,
          210.82,
          203.2,
          210.82,
          193.04,
          218.44,
          193.04,
          210.82,
          200.66,
          205.74,
          198.12,
          203.2,
          205.74,
          203.2,
          190.5,
          200.66,
          203.2,
          213.36,
          195.58,
          205.74,
          200.66,
          215.9,
          208.28,
          200.66,
          200.66,
          198.12,
          198.12,
          205.74,
          208.28,
          215.9,
          205.74,
          208.28,
          205.74,
          185.42,
          210.82,
          190.5,
          200.66,
          203.2,
          213.36,
          203.2,
          210.82,
          205.74,
          198.12,
          185.42,
          182.88,
          185.42,
          165.1,
          193.04,
          208.28,
          190.5,
          198.12,
          205.74,
          203.2,
          213.36,
          195.58,
          218.44,
          195.58,
          203.2,
          203.2,
          210.82,
          190.5,
          210.82,
          187.96,
          200.66,
          195.58,
          195.58,
          187.96,
          208.28,
          205.74,
          208.28,
          218.44,
          193.04,
          195.58,
          195.58,
          200.66,
          190.5,
          200.66,
          203.2,
          203.2,
          193.04,
          187.96,
          195.58,
          190.5,
          213.36,
          193.04,
          208.28,
          203.2,
          205.74,
          195.58,
          195.58,
          203.2,
          198.12,
          213.36,
          200.66,
          210.82,
          195.58,
          205.74,
          200.66,
          208.28,
          210.82,
          205.74,
          208.28,
          195.58,
          200.66,
          208.28,
          198.12,
          208.28,
          200.66,
          187.96,
          198.12,
          200.66,
          208.28,
          205.74,
          198.12,
          187.96,
          203.2,
          198.12,
          185.42,
          208.28,
          198.12,
          213.36,
          205.74,
          208.28,
          210.82,
          205.74,
          185.42,
          205.74,
          213.36,
          185.42,
          205.74,
          210.82,
          213.36,
          205.74,
          208.28,
          200.66,
          185.42,
          185.42,
          190.5,
          213.36,
          177.8,
          203.2,
          187.96,
          205.74,
          213.36,
          213.36,
          208.28,
          203.2,
          198.12,
          210.82,
          205.74,
          205.74,
          198.12,
          198.12,
          195.58,
          190.5,
          190.5,
          213.36,
          187.96,
          200.66,
          210.82,
          195.58,
          205.74,
          200.66,
          185.42,
          208.28,
          195.58,
          210.82,
          208.28,
          187.96,
          200.66,
          198.12,
          203.2,
          208.28,
          226.06,
          200.66,
          195.58,
          210.82,
          187.96,
          208.28,
          198.12,
          213.36,
          200.66,
          208.28,
          210.82,
          203.2,
          203.2,
          185.42,
          200.66,
          187.96,
          195.58,
          210.82,
          215.9,
          203.2,
          182.88,
          203.2,
          187.96,
          205.74,
          190.5,
          203.2,
          205.74,
          195.58,
          195.58,
          208.28,
          220.98,
          210.82,
          180.34,
          203.2,
          203.2,
          187.96,
          205.74,
          187.96,
          193.04,
          210.82,
          193.04,
          210.82,
          208.28,
          208.28,
          210.82,
          187.96,
          203.2,
          208.28,
          205.74,
          203.2,
          205.74,
          203.2,
          213.36,
          190.5,
          190.5,
          190.5,
          187.96,
          205.74,
          203.2,
          203.2,
          203.2,
          200.66,
          210.82,
          213.36,
          210.82,
          210.82,
          205.74,
          175.26,
          228.6,
          187.96,
          198.12,
          215.9,
          208.28,
          200.66,
          193.04,
          208.28,
          215.9,
          208.28,
          198.12,
          210.82,
          205.74,
          203.2,
          215.9,
          182.88,
          210.82,
          185.42,
          195.58,
          205.74,
          203.2,
          193.04,
          213.36,
          208.28,
          200.66,
          193.04,
          195.58,
          200.66,
          200.66,
          200.66,
          203.2,
          198.12,
          195.58,
          182.88,
          200.66,
          213.36,
          210.82,
          208.28,
          193.04,
          195.58,
          187.96,
          210.82,
          210.82,
          203.2,
          198.12,
          198.12,
          215.9,
          203.2,
          180.34,
          190.5,
          200.66,
          208.28,
          200.66,
          228.6,
          200.66,
          205.74,
          215.9,
          203.2,
          198.12,
          182.88,
          208.28,
          208.28,
          205.74,
          210.82,
          200.66,
          200.66,
          210.82,
          205.74,
          190.5,
          203.2,
          205.74,
          195.58,
          190.5,
          200.66,
          200.66,
          205.74,
          195.58,
          203.2,
          193.04,
          203.2,
          200.66,
          180.34,
          210.82,
          208.28,
          208.28,
          213.36,
          213.36,
          185.42,
          208.28,
          208.28,
          190.5,
          187.96,
          198.12,
          200.66,
          203.2,
          198.12,
          203.2,
          187.96,
          210.82,
          200.66,
          200.66,
          218.44,
          200.66,
          208.28,
          205.74,
          208.28,
          205.74,
          198.12,
          205.74,
          213.36,
          203.2,
          185.42,
          213.36,
          200.66,
          180.34,
          185.42,
          213.36,
          203.2,
          205.74,
          203.2,
          215.9,
          210.82,
          182.88,
          203.2,
          177.8,
          190.5,
          198.12,
          210.82,
          187.96,
          198.12,
          213.36,
          193.04,
          213.36,
          185.42,
          200.66,
          195.58,
          205.74,
          203.2,
          190.5,
          187.96,
          187.96,
          205.74,
          205.74,
          200.66,
          210.82,
          208.28,
          200.66,
          205.74,
          187.96,
          198.12,
          195.58,
          177.8,
          208.28,
          208.28,
          208.28,
          182.88,
          198.12,
          190.5,
          220.98,
          205.74,
          208.28,
          205.74,
          195.58,
          205.74,
          205.74,
          193.04,
          182.88,
          177.8,
          200.66,
          213.36,
          200.66,
          182.88,
          213.36,
          205.74,
          203.2,
          195.58,
          198.12,
          185.42,
          195.58,
          203.2,
          195.58,
          198.12,
          190.5,
          205.74,
          208.28,
          190.5,
          190.5,
          198.12,
          208.28,
          205.74,
          205.74,
          193.04,
          205.74,
          220.98,
          193.04,
          195.58,
          190.5,
          213.36,
          213.36,
          200.66,
          210.82,
          210.82,
          208.28,
          185.42,
          193.04,
          203.2,
          203.2,
          203.2,
          182.88,
          210.82,
          195.58,
          190.5,
          210.82,
          203.2,
          210.82,
          218.44,
          205.74,
          185.42,
          208.28,
          208.28,
          210.82,
          203.2,
          198.12,
          193.04,
          187.96,
          190.5,
          205.74,
          200.66,
          203.2,
          203.2,
          213.36,
          195.58,
          205.74,
          198.12,
          213.36,
          215.9,
          208.28,
          200.66,
          200.66,
          198.12,
          198.12,
          205.74,
          208.28,
          215.9,
          210.82,
          195.58,
          208.28,
          193.04,
          210.82,
          185.42,
          198.12,
          205.74,
          200.66,
          187.96,
          203.2,
          210.82,
          198.12,
          185.42,
          208.28,
          182.88,
          185.42,
          165.1,
          193.04,
          210.82,
          208.28,
          198.12,
          200.66,
          205.74,
          200.66,
          203.2,
          213.36,
          195.58,
          218.44,
          190.5,
          195.58,
          203.2,
          195.58,
          208.28,
          185.42,
          213.36,
          198.12,
          203.2,
          200.66,
          185.42,
          208.28,
          220.98,
          218.44,
          193.04,
          203.2,
          195.58,
          200.66,
          190.5,
          200.66,
          203.2,
          190.5,
          193.04,
          187.96,
          195.58,
          190.5,
          213.36,
          190.5,
          208.28,
          210.82,
          203.2,
          190.5,
          210.82,
          203.2,
          190.5,
          208.28,
          208.28,
          205.74,
          193.04,
          205.74,
          208.28,
          185.42,
          198.12,
          210.82,
          203.2,
          203.2,
          208.28,
          200.66,
          190.5,
          203.2,
          198.12,
          210.82,
          208.28,
          208.28,
          208.28,
          190.5,
          213.36,
          200.66,
          187.96,
          193.04,
          190.5,
          203.2,
          200.66,
          210.82,
          208.28,
          205.74,
          195.58,
          210.82,
          208.28,
          205.74,
          208.28,
          195.58,
          208.28,
          182.88,
          193.04,
          195.58,
          205.74,
          203.2,
          198.12,
          208.28,
          210.82,
          210.82,
          193.04,
          213.36,
          165.1,
          185.42,
          195.58,
          182.88,
          195.58,
          185.42,
          205.74,
          208.28,
          193.04,
          177.8,
          195.58,
          193.04,
          213.36,
          190.5,
          203.2,
          193.04,
          200.66,
          198.12,
          187.96,
          185.42,
          210.82,
          193.04,
          195.58,
          203.2,
          210.82,
          198.12,
          198.12,
          200.66,
          200.66,
          208.28,
          213.36,
          200.66,
          213.36,
          213.36,
          180.34,
          198.12,
          215.9,
          210.82,
          190.5,
          210.82,
          218.44,
          220.98,
          205.74,
          208.28,
          187.96,
          203.2,
          195.58,
          200.66,
          198.12,
          208.28,
          208.28,
          185.42,
          218.44,
          210.82,
          203.2,
          210.82,
          190.5,
          195.58,
          210.82,
          182.88,
          203.2,
          203.2,
          203.2,
          205.74,
          185.42,
          203.2,
          198.12,
          187.96,
          193.04,
          182.88,
          177.8,
          190.5,
          198.12,
          210.82,
          198.12,
          213.36,
          193.04,
          200.66,
          198.12,
          208.28,
          210.82,
          180.34,
          208.28,
          208.28,
          208.28,
          182.88,
          213.36,
          213.36,
          185.42,
          208.28,
          208.28,
          190.5,
          210.82,
          198.12,
          190.5,
          203.2,
          205.74,
          218.44,
          200.66,
          190.5,
          200.66,
          195.58,
          203.2,
          195.58,
          190.5,
          190.5,
          185.42,
          195.58,
          205.74,
          205.74,
          200.66,
          195.58,
          213.36,
          205.74,
          185.42,
          205.74,
          213.36,
          180.34,
          185.42,
          213.36,
          203.2,
          205.74,
          190.5,
          193.04,
          210.82,
          200.66,
          190.5,
          205.74,
          190.5,
          190.5,
          198.12,
          208.28,
          193.04,
          205.74,
          205.74,
          193.04,
          182.88,
          200.66,
          205.74,
          187.96,
          190.5,
          190.5,
          187.96,
          187.96,
          205.74,
          200.66,
          210.82,
          213.36,
          213.36,
          200.66,
          205.74,
          198.12,
          205.74,
          195.58,
          185.42,
          203.2,
          198.12,
          205.74,
          187.96,
          210.82,
          200.66,
          198.12,
          200.66,
          200.66,
          205.74,
          205.74,
          205.74,
          205.74,
          203.2,
          177.8,
          200.66,
          213.36,
          203.2,
          213.36,
          190.5,
          205.74,
          203.2,
          195.58,
          213.36,
          198.12,
          203.2,
          195.58,
          215.9,
          190.5,
          195.58,
          193.04,
          200.66,
          208.28,
          213.36,
          208.28,
          200.66,
          187.96,
          208.28,
          190.5,
          195.58,
          205.74,
          200.66,
          200.66,
          190.5,
          205.74,
          210.82,
          193.04,
          200.66,
          200.66,
          210.82,
          205.74,
          208.28,
          205.74,
          182.88,
          203.2,
          185.42,
          200.66,
          203.2,
          198.12,
          205.74,
          210.82,
          208.28,
          210.82,
          205.74,
          213.36,
          198.12,
          226.06,
          208.28,
          215.9,
          198.12,
          198.12,
          203.2,
          210.82,
          210.82,
          187.96,
          195.58,
          205.74,
          193.04,
          193.04,
          208.28,
          210.82,
          213.36,
          200.66,
          200.66,
          195.58,
          185.42,
          198.12,
          203.2,
          215.9,
          205.74,
          203.2,
          185.42,
          210.82,
          182.88,
          215.9,
          203.2,
          205.74,
          210.82,
          198.12,
          208.28,
          208.28,
          195.58,
          193.04,
          200.66,
          208.28,
          205.74,
          182.88,
          187.96,
          228.6,
          205.74,
          205.74,
          210.82,
          210.82,
          213.36,
          210.82,
          200.66,
          220.98,
          195.58,
          193.04,
          203.2,
          203.2,
          205.74,
          200.66,
          208.28,
          200.66,
          208.28,
          193.04,
          180.34,
          203.2,
          198.12,
          203.2,
          187.96,
          190.5,
          190.5,
          190.5,
          213.36,
          205.74,
          182.88,
          205.74,
          205.74,
          208.28,
          210.82,
          208.28,
          210.82,
          193.04,
          210.82,
          187.96,
          187.96,
          185.42,
          213.36,
          205.74,
          185.42,
          205.74,
          210.82,
          198.12,
          208.28,
          200.66,
          195.58,
          195.58,
          205.74,
          203.2,
          190.5,
          205.74,
          205.74,
          187.96,
          203.2,
          203.2,
          218.44,
          213.36,
          185.42,
          200.66,
          185.42,
          215.9,
          203.2,
          203.2,
          198.12,
          198.12,
          190.5,
          203.2,
          203.2,
          200.66,
          205.74,
          205.74,
          190.5,
          200.66,
          203.2,
          203.2,
          205.74,
          198.12,
          195.58,
          187.96,
          208.28,
          210.82,
          208.28,
          200.66,
          205.74,
          190.5,
          210.82,
          200.66,
          187.96,
          190.5,
          205.74,
          190.5,
          210.82,
          208.28,
          210.82,
          208.28,
          195.58,
          200.66,
          208.28,
          210.82,
          200.66,
          213.36,
          198.12,
          203.2,
          203.2,
          198.12,
          187.96,
          205.74,
          205.74,
          203.2,
          177.8,
          213.36,
          193.04,
          185.42,
          190.5,
          185.42,
          200.66,
          175.26,
          208.28,
          213.36,
          210.82,
          205.74,
          187.96,
          210.82,
          195.58,
          208.28,
          205.74,
          198.12,
          200.66,
          198.12,
          195.58,
          218.44,
          200.66,
          198.12,
          200.66,
          200.66,
          213.36,
          215.9,
          203.2,
          210.82,
          187.96,
          208.28,
          198.12,
          200.66,
          205.74,
          187.96,
          213.36,
          193.04,
          200.66,
          205.74,
          187.96,
          198.12,
          190.5,
          187.96,
          205.74,
          187.96,
          213.36,
          215.9,
          210.82,
          200.66,
          213.36,
          205.74,
          182.88,
          208.28,
          190.5,
          208.28,
          198.12,
          210.82,
          190.5,
          198.12,
          213.36,
          177.8,
          193.04,
          200.66,
          198.12,
          208.28,
          180.34,
          198.12,
          208.28,
          208.28,
          200.66,
          198.12,
          210.82,
          190.5,
          205.74,
          193.04,
          182.88,
          195.58,
          213.36,
          205.74,
          185.42,
          198.12,
          205.74,
          213.36,
          180.34,
          185.42,
          213.36,
          205.74,
          205.74,
          203.2,
          187.96,
          187.96,
          182.88,
          195.58,
          213.36,
          200.66,
          213.36,
          198.12,
          203.2,
          213.36,
          190.5,
          205.74,
          203.2,
          195.58,
          200.66,
          185.42,
          203.2,
          198.12,
          190.5,
          205.74,
          190.5,
          190.5,
          177.8,
          205.74,
          203.2,
          205.74,
          185.42,
          208.28,
          190.5,
          210.82,
          190.5,
          210.82,
          205.74,
          198.12,
          200.66,
          203.2,
          198.12,
          205.74,
          187.96,
          210.82,
          198.12,
          200.66,
          205.74,
          205.74,
          205.74,
          208.28,
          210.82,
          210.82,
          205.74,
          193.04,
          208.28,
          210.82,
          213.36,
          208.28,
          175.26,
          195.58,
          210.82,
          190.5,
          185.42,
          215.9,
          213.36,
          177.8,
          203.2,
          187.96,
          203.2,
          200.66,
          208.28,
          210.82,
          205.74,
          193.04,
          193.04,
          210.82,
          185.42,
          195.58,
          187.96,
          210.82,
          210.82,
          198.12,
          190.5,
          198.12,
          215.9,
          205.74,
          208.28,
          198.12,
          203.2,
          210.82,
          213.36,
          213.36,
          205.74,
          193.04,
          185.42,
          200.66,
          198.12,
          190.5,
          203.2,
          210.82,
          187.96,
          208.28,
          198.12,
          200.66,
          213.36,
          208.28,
          187.96,
          190.5,
          205.74,
          203.2,
          215.9,
          185.42,
          200.66,
          185.42,
          208.28,
          205.74,
          200.66,
          198.12,
          203.2,
          203.2,
          198.12,
          213.36,
          200.66,
          210.82,
          200.66,
          208.28,
          210.82,
          205.74,
          195.58,
          195.58,
          200.66,
          205.74,
          198.12,
          208.28,
          200.66,
          205.74,
          200.66,
          198.12,
          205.74,
          208.28,
          213.36,
          205.74,
          198.12,
          182.88,
          205.74,
          205.74,
          213.36,
          208.28,
          190.5,
          200.66,
          190.5,
          187.96,
          203.2,
          198.12,
          180.34,
          208.28,
          193.04,
          208.28,
          205.74,
          190.5,
          208.28,
          210.82,
          208.28,
          208.28,
          198.12,
          205.74,
          193.04,
          208.28,
          203.2,
          215.9,
          205.74,
          182.88,
          210.82,
          185.42,
          203.2,
          195.58,
          205.74,
          185.42,
          203.2,
          187.96,
          210.82,
          193.04,
          205.74,
          210.82,
          200.66,
          200.66,
          187.96,
          200.66,
          200.66,
          198.12,
          195.58,
          200.66,
          208.28,
          187.96,
          208.28,
          200.66,
          200.66,
          200.66,
          203.2,
          203.2,
          185.42,
          195.58,
          200.66,
          200.66,
          200.66,
          193.04,
          195.58,
          205.74,
          205.74,
          215.9,
          193.04,
          203.2,
          185.42,
          190.5,
          182.88,
          205.74,
          208.28,
          205.74,
          210.82,
          200.66,
          200.66,
          193.04,
          210.82,
          190.5,
          185.42,
          213.36,
          200.66,
          208.28,
          177.8,
          210.82,
          187.96,
          205.74,
          210.82,
          203.2,
          190.5,
          200.66,
          208.28,
          203.2,
          203.2,
          208.28,
          210.82,
          185.42,
          205.74,
          185.42,
          165.1,
          213.36,
          193.04,
          210.82,
          210.82,
          198.12,
          208.28,
          208.28,
          190.5,
          200.66,
          200.66,
          195.58,
          203.2,
          210.82,
          208.28,
          193.04,
          205.74,
          208.28,
          193.04,
          198.12,
          193.04,
          200.66,
          203.2,
          193.04,
          187.96,
          200.66,
          213.36,
          203.2,
          198.12,
          203.2,
          205.74,
          195.58,
          195.58,
          205.74,
          203.2,
          208.28,
          195.58,
          205.74,
          208.28,
          220.98,
          198.12,
          205.74,
          187.96,
          182.88,
          208.28,
          195.58,
          208.28,
          205.74,
          208.28,
          205.74,
          210.82,
          205.74,
          205.74,
          195.58,
          213.36,
          218.44,
          203.2,
          190.5,
          195.58,
          203.2,
          195.58,
          195.58,
          190.5,
          185.42,
          195.58,
          205.74,
          205.74,
          182.88,
          187.96,
          190.5,
          200.66,
          228.6,
          182.88,
          203.2,
          193.04,
          208.28,
          200.66,
          208.28,
          210.82,
          195.58,
          187.96,
          195.58,
          205.74,
          208.28,
          205.74,
          203.2,
          203.2,
          200.66,
          190.5,
          205.74,
          205.74,
          200.66,
          203.2,
          208.28,
          193.04,
          210.82,
          200.66,
          190.5,
          203.2,
          203.2,
          190.5,
          203.2,
          205.74,
          195.58,
          208.28,
          210.82,
          182.88,
          200.66,
          210.82,
          205.74,
          205.74,
          198.12,
          198.12,
          190.5,
          190.5,
          208.28,
          213.36,
          190.5,
          198.12,
          205.74,
          198.12,
          190.5,
          210.82,
          210.82,
          185.42,
          200.66,
          203.2,
          203.2,
          208.28,
          203.2,
          208.28,
          182.88,
          210.82,
          195.58,
          190.5,
          210.82,
          203.2,
          210.82,
          218.44,
          185.42,
          210.82,
          187.96,
          203.2,
          190.5,
          200.66,
          213.36,
          200.66,
          215.9,
          208.28,
          200.66,
          198.12,
          215.9,
          210.82,
          200.66,
          193.04,
          210.82,
          185.42,
          187.96,
          198.12,
          200.66,
          193.04,
          203.2,
          213.36,
          180.34,
          198.12,
          213.36,
          208.28,
          210.82,
          195.58,
          185.42,
          187.96,
          190.5,
          198.12,
          210.82,
          187.96,
          195.58,
          185.42,
          190.5,
          205.74,
          210.82,
          193.04,
          208.28,
          210.82,
          213.36,
          200.66,
          195.58,
          185.42,
          203.2,
          203.2,
          200.66,
          200.66,
          193.04,
          195.58,
          193.04,
          200.66,
          208.28,
          190.5,
          190.5,
          205.74,
          205.74,
          208.28,
          195.58,
          203.2,
          208.28,
          190.5,
          205.74,
          208.28,
          187.96,
          213.36,
          200.66,
          215.9,
          205.74,
          208.28,
          200.66,
          210.82,
          198.12,
          215.9,
          208.28,
          210.82,
          198.12,
          205.74,
          200.66,
          215.9,
          200.66,
          205.74,
          205.74,
          193.04,
          208.28,
          213.36,
          203.2,
          198.12,
          203.2,
          187.96,
          190.5,
          208.28,
          190.5,
          208.28,
          213.36,
          208.28,
          182.88,
          198.12,
          182.88,
          205.74,
          200.66,
          203.2,
          208.28,
          195.58,
          190.5,
          208.28,
          205.74,
          193.04,
          200.66,
          195.58,
          195.58,
          200.66,
          200.66,
          187.96,
          208.28,
          193.04,
          195.58,
          203.2,
          205.74,
          215.9,
          200.66,
          185.42,
          190.5,
          210.82,
          200.66,
          200.66,
          210.82,
          208.28,
          208.28,
          182.88,
          190.5,
          203.2,
          213.36,
          203.2,
          198.12,
          200.66,
          203.2,
          187.96,
          198.12,
          205.74,
          185.42,
          185.42,
          198.12,
          200.66,
          203.2,
          198.12,
          200.66,
          177.8,
          210.82,
          208.28,
          210.82,
          195.58,
          195.58,
          200.66,
          198.12,
          208.28,
          200.66,
          205.74,
          200.66,
          198.12,
          200.66,
          200.66,
          213.36,
          190.5,
          208.28,
          198.12,
          215.9,
          208.28,
          200.66,
          203.2,
          210.82,
          213.36,
          213.36,
          205.74,
          210.82,
          185.42,
          205.74,
          213.36,
          198.12,
          210.82,
          208.28,
          210.82,
          213.36,
          208.28,
          175.26,
          210.82,
          200.66,
          198.12,
          193.04,
          205.74,
          213.36,
          195.58,
          210.82,
          208.28,
          210.82,
          215.9,
          182.88,
          198.12,
          210.82,
          205.74,
          205.74,
          218.44,
          198.12,
          195.58,
          198.12,
          190.5,
          187.96,
          200.66,
          210.82,
          205.74,
          205.74,
          200.66,
          208.28,
          195.58,
          193.04,
          195.58,
          190.5,
          203.2,
          190.5,
          203.2,
          198.12,
          200.66,
          190.5,
          203.2,
          210.82,
          187.96,
          195.58,
          213.36,
          198.12,
          200.66,
          208.28,
          208.28,
          190.5,
          205.74,
          203.2,
          187.96,
          200.66,
          205.74,
          187.96,
          205.74,
          210.82,
          218.44,
          203.2,
          187.96,
          203.2,
          210.82,
          208.28,
          203.2,
          187.96,
          203.2,
          198.12,
          205.74,
          182.88,
          208.28,
          208.28,
          205.74,
          208.28,
          210.82,
          177.8,
          205.74,
          208.28,
          198.12,
          193.04,
          213.36,
          205.74,
          200.66,
          213.36,
          213.36,
          210.82,
          200.66,
          205.74,
          187.96,
          190.5,
          187.96,
          208.28,
          205.74,
          195.58,
          205.74,
          203.2,
          187.96,
          210.82,
          182.88,
          177.8,
          190.5,
          198.12,
          198.12,
          195.58,
          195.58,
          213.36,
          193.04,
          203.2,
          210.82,
          198.12,
          205.74,
          195.58,
          180.34,
          198.12,
          182.88,
          213.36,
          205.74,
          190.5,
          208.28,
          198.12,
          187.96,
          205.74,
          193.04,
          187.96,
          198.12,
          210.82,
          205.74,
          187.96,
          205.74,
          198.12,
          203.2,
          200.66,
          198.12,
          205.74,
          200.66,
          210.82,
          210.82,
          190.5,
          215.9,
          208.28,
          208.28,
          185.42,
          213.36,
          213.36,
          193.04,
          187.96,
          205.74,
          190.5,
          205.74,
          205.74,
          205.74,
          205.74,
          195.58,
          208.28,
          198.12,
          190.5,
          190.5,
          205.74,
          190.5,
          195.58,
          187.96,
          203.2,
          185.42,
          200.66,
          198.12,
          195.58,
          203.2,
          205.74,
          213.36,
          205.74,
          203.2,
          198.12,
          213.36,
          200.66,
          177.8,
          203.2,
          200.66,
          213.36,
          182.88,
          180.34,
          213.36,
          203.2,
          210.82,
          190.5,
          210.82,
          200.66,
          185.42,
          203.2,
          203.2,
          208.28,
          182.88,
          190.5,
          203.2,
          190.5,
          210.82,
          210.82,
          185.42,
          198.12,
          193.04,
          182.88,
          200.66,
          195.58,
          203.2,
          210.82,
          195.58,
          210.82,
          203.2,
          200.66,
          185.42,
          205.74,
          195.58,
          203.2,
          185.42,
          210.82,
          182.88,
          203.2,
          215.9,
          203.2,
          205.74,
          193.04,
          198.12,
          195.58,
          200.66,
          205.74,
          190.5,
          203.2,
          200.66,
          228.6,
          213.36,
          205.74,
          210.82,
          220.98,
          208.28,
          208.28,
          185.42,
          187.96,
          210.82,
          210.82,
          208.28,
          205.74,
          205.74,
          205.74,
          213.36,
          218.44,
          190.5,
          195.58,
          195.58,
          193.04,
          190.5,
          195.58,
          205.74,
          203.2,
          190.5,
          195.58,
          213.36,
          205.74,
          205.74,
          213.36,
          210.82,
          205.74,
          185.42,
          213.36,
          203.2,
          203.2,
          165.1,
          203.2,
          198.12,
          205.74,
          193.04,
          200.66,
          203.2,
          187.96,
          200.66,
          213.36,
          190.5,
          208.28,
          193.04,
          193.04,
          210.82,
          182.88,
          185.42,
          198.12,
          210.82,
          185.42,
          203.2,
          208.28,
          200.66,
          190.5,
          203.2,
          198.12,
          198.12,
          200.66,
          205.74,
          200.66,
          208.28,
          210.82,
          195.58,
          195.58,
          200.66,
          208.28,
          190.5,
          205.74,
          200.66,
          208.28,
          198.12,
          200.66,
          205.74,
          213.36,
          195.58,
          185.42,
          198.12,
          203.2,
          200.66,
          198.12,
          210.82,
          185.42,
          205.74,
          213.36,
          213.36,
          203.2,
          213.36,
          193.04,
          203.2,
          198.12,
          208.28,
          210.82,
          213.36,
          187.96,
          208.28,
          175.26,
          210.82,
          200.66,
          198.12,
          190.5,
          185.42,
          213.36,
          187.96,
          203.2,
          187.96,
          205.74,
          208.28,
          200.66,
          208.28,
          187.96,
          200.66,
          210.82,
          205.74,
          205.74,
          213.36,
          198.12,
          190.5,
          190.5,
          187.96,
          200.66,
          208.28,
          182.88,
          210.82,
          205.74,
          200.66,
          208.28,
          195.58,
          195.58,
          198.12,
          205.74,
          203.2,
          190.5,
          205.74,
          203.2,
          205.74,
          210.82,
          198.12,
          210.82,
          195.58,
          210.82,
          215.9,
          198.12,
          200.66,
          198.12,
          208.28,
          208.28,
          190.5,
          205.74,
          203.2,
          215.9,
          187.96,
          203.2,
          187.96,
          205.74,
          210.82,
          203.2,
          187.96,
          203.2,
          203.2,
          190.5,
          203.2,
          195.58,
          205.74,
          200.66,
          200.66,
          208.28,
          187.96,
          210.82,
          193.04,
          208.28,
          210.82,
          195.58,
          208.28,
          203.2,
          200.66,
          205.74,
          198.12,
          203.2,
          182.88,
          208.28,
          213.36,
          208.28,
          190.5,
          190.5,
          187.96,
          203.2,
          198.12,
          213.36,
          180.34,
          198.12,
          205.74,
          208.28,
          185.42,
          195.58,
          208.28,
          220.98,
          210.82,
          205.74,
          213.36,
          228.6,
          200.66,
          203.2,
          190.5,
          185.42,
          182.88,
          205.74,
          205.74,
          200.66,
          195.58,
          208.28,
          198.12,
          203.2,
          215.9,
          205.74,
          182.88,
          210.82,
          195.58,
          203.2,
          205.74,
          205.74,
          205.74,
          200.66,
          213.36,
          215.9,
          205.74,
          200.66,
          200.66,
          200.66,
          203.2,
          203.2,
          185.42,
          195.58,
          200.66,
          200.66,
          213.36,
          208.28,
          193.04,
          193.04,
          210.82,
          190.5,
          185.42,
          195.58,
          187.96,
          198.12,
          190.5,
          198.12,
          210.82,
          195.58,
          195.58,
          195.58,
          208.28,
          215.9,
          193.04,
          203.2,
          190.5,
          182.88,
          208.28,
          182.88,
          205.74,
          208.28,
          200.66,
          200.66,
          210.82,
          213.36,
          200.66,
          205.74,
          208.28,
          190.5,
          203.2,
          198.12,
          193.04,
          218.44,
          208.28,
          187.96,
          200.66,
          208.28,
          200.66,
          213.36,
          190.5,
          185.42,
          200.66,
          208.28,
          208.28,
          215.9,
          190.5,
          210.82,
          190.5,
          210.82,
          205.74,
          200.66,
          213.36,
          200.66,
          205.74,
          205.74,
          210.82,
          198.12,
          187.96,
          200.66,
          213.36,
          205.74,
          205.74,
          205.74,
          203.2,
          203.2,
          177.8,
          213.36,
          187.96,
          205.74,
          213.36,
          205.74,
          205.74,
          203.2,
          208.28,
          187.96,
          210.82,
          190.5,
          198.12,
          198.12,
          182.88,
          195.58,
          213.36,
          182.88,
          193.04,
          200.66,
          210.82,
          195.58,
          198.12,
          205.74,
          180.34,
          198.12,
          208.28,
          205.74,
          205.74,
          200.66,
          198.12,
          213.36,
          200.66,
          205.74,
          213.36,
          187.96,
          198.12,
          205.74,
          210.82,
          210.82,
          205.74,
          208.28,
          213.36,
          182.88,
          195.58,
          198.12,
          203.2,
          208.28,
          208.28,
          205.74,
          208.28,
          203.2,
          190.5,
          213.36,
          208.28,
          213.36,
          213.36,
          210.82,
          187.96,
          198.12,
          203.2,
          208.28,
          213.36,
          203.2,
          198.12,
          185.42,
          187.96,
          187.96,
          190.5,
          205.74,
          205.74,
          190.5,
          208.28,
          195.58,
          205.74,
          193.04,
          200.66,
          203.2,
          187.96,
          208.28,
          198.12,
          195.58,
          190.5,
          190.5,
          205.74,
          182.88,
          210.82,
          213.36,
          203.2,
          210.82,
          190.5,
          210.82,
          200.66,
          200.66,
          203.2,
          203.2,
          203.2,
          182.88,
          190.5,
          203.2,
          210.82,
          210.82,
          185.42,
          213.36,
          198.12,
          193.04,
          205.74,
          195.58,
          182.88,
          195.58,
          205.74,
          195.58,
          210.82,
          203.2,
          200.66,
          205.74,
          198.12,
          200.66,
          203.2,
          215.9,
          205.74,
          208.28,
          200.66,
          195.58,
          203.2,
          210.82,
          193.04,
          190.5,
          215.9,
          208.28,
          210.82,
          200.66,
          205.74,
          210.82,
          205.74,
          195.58,
          210.82,
          187.96,
          198.12,
          198.12,
          198.12,
          187.96,
          193.04,
          210.82,
          208.28,
          208.28,
          205.74,
          205.74,
          195.58,
          210.82,
          205.74,
          213.36,
          208.28,
          190.5,
          193.04,
          195.58,
          195.58,
          195.58,
          190.5,
          190.5,
          185.42,
          203.2,
          190.5,
          182.88,
          195.58,
          213.36,
          193.04,
          203.2,
          185.42,
          218.44,
          185.42,
          182.88,
          205.74,
          213.36,
          193.04,
          203.2,
          193.04,
          205.74,
          193.04,
          200.66,
          203.2,
          187.96,
          193.04,
          218.44,
          200.66,
          213.36,
          190.5,
          208.28,
          208.28,
          210.82,
          190.5,
          208.28,
          205.74,
          203.2,
          210.82,
          187.96,
          203.2,
          201,
          203.2,
          185.42,
          208.28,
          200.66,
          213.36,
          210.82,
          200.66,
          195.58,
          200.66,
          195.58,
          213.36,
          200.66,
          195.58,
          182.88,
          195.58,
          200.66,
          187.96,
          208.28,
          218.44,
          193.04,
          200.66,
          193.04,
          213.36,
          190.5,
          210.82,
          208.28,
          198.12,
          203.2,
          193.04,
          213.36,
          187.96,
          205.74,
          203.2,
          195.58,
          213.36,
          210.82,
          182.88,
          210.82,
          203.2,
          200.66,
          208.28,
          205.74,
          215.9,
          198.12,
          198.12,
          187.96,
          195.58,
          185.42,
          213.36,
          198.12,
          215.9,
          190.5,
          190.5,
          208.28,
          213.36,
          185.42,
          182.88,
          205.74,
          200.66,
          205.74,
          198.12,
          200.66,
          203.2,
          190.5,
          208.28,
          208.28,
          185.42,
          193.04,
          210.82,
          187.96,
          203.2,
          185.42,
          205.74,
          195.58,
          203.2,
          208.28,
          210.82,
          203.2,
          203.2,
          190.5,
          208.28,
          205.74,
          200.66,
          213.36,
          198.12,
          210.82,
          210.82,
          200.66,
          200.66,
          208.28,
          205.74,
          198.12,
          208.28,
          208.28,
          190.5,
          203.2,
          193.04,
          215.9,
          200.66,
          208.28,
          200.66,
          205.74,
          208.28,
          198.12,
          182.88,
          205.74,
          190.5,
          175.26,
          198.12,
          208.28,
          190.5,
          205.74,
          203.2,
          187.96,
          205.74,
          203.2,
          185.42,
          205.74,
          187.96,
          198.12,
          190.5,
          190.5,
          203.2,
          195.58,
          208.28,
          210.82,
          215.9,
          198.12,
          182.88,
          200.66,
          210.82,
          205.74,
          203.2,
          205.74,
          215.9,
          195.58,
          210.82,
          198.12,
          198.12,
          200.66,
          208.28,
          200.66,
          210.82,
          195.58,
          198.12,
          208.28,
          200.66,
          210.82,
          205.74,
          208.28,
          198.12,
          195.58,
          185.42,
          198.12,
          190.5,
          193.04,
          200.66,
          208.28,
          210.82,
          187.96,
          200.66,
          208.28,
          213.36,
          190.5,
          200.66,
          203.2,
          215.9,
          205.74,
          208.28,
          200.66,
          203.2,
          193.04,
          210.82,
          190.5,
          198.12,
          213.36,
          193.04,
          187.96,
          205.74,
          205.74,
          198.12,
          187.96,
          203.2,
          177.8,
          213.36,
          185.42,
          190.5,
          200.66,
          210.82,
          198.12,
          198.12,
          208.28,
          187.96,
          200.66,
          208.28,
          210.82,
          205.74,
          205.74,
          200.66,
          208.28,
          195.58,
          195.58,
          198.12,
          200.66,
          205.74,
          193.04,
          205.74,
          205.74,
          208.28,
          200.66,
          208.28,
          190.5,
          208.28,
          187.96,
          182.88,
          213.36,
          203.2,
          180.34,
          210.82,
          198.12,
          182.88,
          213.36,
          210.82,
          185.42,
          200.66,
          208.28,
          208.28,
          190.5,
          200.66,
          210.82,
          190.5,
          210.82,
          190.5,
          200.66,
          200.66,
          203.2,
          198.12,
          205.74,
          187.96,
          205.74,
          198.12,
          187.96,
          213.36,
          187.96,
          205.74,
          208.28,
          198.12,
          182.88,
          205.74,
          205.74,
          213.36,
          205.74,
          203.2,
          198.12,
          203.2,
          208.28,
          187.96,
          210.82,
          213.36,
          198.12,
          195.58,
          203.2,
          205.74,
          213.36,
          182.88,
          200.66,
          195.58,
          198.12,
          205.74,
          195.58,
          180.34,
          198.12,
          205.74,
          205.74,
          205.74,
          213.36,
          200.66,
          205.74,
          213.36,
          187.96,
          198.12,
          210.82,
          210.82,
          205.74,
          208.28,
          198.12,
          213.36,
          182.88,
          198.12,
          203.2,
          208.28,
          208.28,
          205.74,
          203.2,
          190.5,
          213.36,
          182.88,
          187.96,
          187.96,
          213.36,
          210.82,
          210.82,
          187.96,
          203.2,
          213.36,
          198.12,
          198.12,
          185.42,
          203.2,
          213.36,
          203.2,
          198.12,
          187.96,
          190.5,
          205.74,
          205.74,
          190.5,
          210.82,
          195.58,
          205.74,
          198.12,
          200.66,
          205.74,
          208.28,
          198.12,
          195.58,
          190.5,
          190.5,
          205.74,
          205.74,
          200.66,
          203.2,
          210.82,
          190.5,
          210.82,
          200.66,
          185.42,
          190.5,
          203.2,
          203.2,
          203.2,
          205.74,
          195.58,
          182.88,
          203.2,
          195.58,
          190.5,
          210.82,
          213.36,
          198.12,
          193.04,
          205.74,
          195.58,
          182.88,
          213.36,
          190.5,
          203.2,
          193.04,
          208.28,
          215.9,
          203.2,
          198.12,
          208.28,
          193.04,
          195.58,
          182.88,
          187.96,
          190.5,
          203.2,
          195.58,
          200.66,
          205.74,
          210.82,
          220.98,
          205.74,
          205.74,
          185.42,
          210.82,
          187.96,
          213.36,
          198.12,
          200.66,
          213.36,
          210.82,
          210.82,
          198.12,
          208.28,
          165.1,
          213.36,
          193.04,
          210.82,
          208.28,
          208.28,
          205.74,
          210.82,
          205.74,
          213.36,
          185.42,
          190.5,
          203.2,
          195.58,
          190.5,
          203.2,
          190.5,
          185.42,
          190.5,
          195.58,
          213.36,
          203.2,
          200.66,
          195.58,
          205.74,
          185.42,
          203.2,
          208.28,
          220.98,
          218.44,
          205.74,
          213.36,
          203.2,
          190.5,
          205.74,
          193.04,
          200.66,
          195.58,
          213.36,
          187.96,
          200.66,
          213.36,
          190.5,
          208.28,
          208.28,
          208.28,
          210.82,
          190.5,
          190.5,
          208.28,
          205.74,
          198.12,
          185.42,
          205.74,
          187.96,
          195.58,
          195.58,
          198.12,
          208.28,
          200.66,
          205.74,
          200.66,
          208.28,
          198.12,
          195.58,
          187.96,
          210.82,
          193.04,
          210.82,
          187.96,
          195.58,
          210.82,
          215.9,
          198.12,
          195.58,
          208.28,
          190.5,
          205.74,
          203.2,
          210.82,
          187.96,
          208.28,
          208.28,
          200.66,
          195.58,
          193.04,
          205.74,
          213.36,
          193.04,
          210.82,
          203.2,
          208.28,
          210.82,
          213.36,
          200.66,
          208.28,
          193.04,
          200.66,
          190.5,
          185.42,
          203.2,
          198.12,
          205.74,
          185.42,
          187.96,
          198.12,
          198.12,
          175.26,
          200.66,
          205.74,
          205.74,
          210.82,
          205.74,
          205.74,
          208.28,
          195.58,
          205.74,
          203.2,
          193.04,
          205.74,
          205.74,
          208.28,
          208.28,
          200.66,
          190.5,
          208.28,
          187.96,
          193.04,
          182.88,
          200.66,
          193.04,
          198.12,
          180.34,
          213.36,
          200.66,
          203.2,
          200.66,
          205.74,
          190.5,
          203.2,
          185.42,
          205.74,
          203.2,
          190.5,
          203.2,
          190.5,
          203.2,
          198.12,
          210.82,
          200.66,
          200.66,
          195.58,
          208.28,
          210.82,
          215.9,
          198.12,
          182.88,
          200.66,
          210.82,
          205.74,
          205.74,
          213.36,
          198.12,
          193.04,
          203.2,
          205.74,
          182.88,
          213.36,
          187.96,
          210.82,
          193.04,
          187.96,
          215.9,
          210.82,
          210.82,
          208.28,
          203.2,
          200.66,
          198.12,
          203.2,
          205.74,
          182.88,
          185.42,
          208.28,
          190.5,
          190.5,
          203.2,
          198.12,
          190.5,
          215.9,
          198.12,
          208.28,
          205.74,
          205.74,
          203.2,
          203.2,
          220.98,
          210.82,
          205.74,
          190.5,
          213.36,
          228.6,
          198.12,
          203.2,
          193.04,
          190.5,
          182.88,
          195.58,
          200.66,
          193.04,
          195.58,
          208.28,
          198.12,
          203.2,
          215.9,
          208.28,
          198.12,
          205.74,
          180.34,
          210.82,
          195.58,
          215.9,
          203.2,
          180.34,
          205.74,
          200.66,
          213.36,
          200.66,
          200.66,
          203.2,
          201,
          203.2,
          185.42,
          195.58,
          200.66,
          208.28,
          195.58,
          193.04,
          185.42,
          195.58,
          198.12,
          198.12,
          198.12,
          205.74,
          180.34,
          208.28,
          200.66,
          203.2,
          203.2,
          190.5,
          187.96,
          195.58,
          200.66,
          200.66,
          200.66,
          215.9,
          193.04,
          203.2,
          208.28,
          210.82,
          182.88,
          208.28,
          200.66,
          200.66,
          210.82,
          205.74,
          198.12,
          213.36,
          200.66,
          208.28,
          190.5,
          203.2,
          198.12,
          193.04,
          218.44,
          208.28,
          187.96,
          200.66,
          205.74,
          215.9,
          200.66,
          208.28,
          195.58,
          208.28,
          187.96,
          182.88,
          213.36,
          210.82,
          185.42,
          200.66,
          210.82,
          208.28,
          190.5,
          198.12,
          200.66,
          190.5,
          210.82,
          200.66,
          200.66,
          203.2,
          198.12,
          205.74,
          187.96,
          205.74,
          198.12,
          187.96,
          210.82,
          213.36,
          210.82,
          198.12,
          205.74,
          205.74,
          210.82,
          182.88,
          205.74,
          213.36,
          205.74,
          203.2,
          198.12,
          203.2,
          208.28,
          205.74,
          187.96,
          200.66,
          198.12,
          198.12,
          195.58,
          203.2,
          205.74,
          213.36,
          182.88,
          200.66,
          208.28,
          195.58,
          210.82,
          213.36,
          205.74,
          205.74,
          205.74,
          193.04,
          213.36,
          213.36,
          213.36,
          200.66,
          205.74,
          213.36,
          187.96,
          198.12,
          210.82,
          187.96,
          210.82,
          208.28,
          198.12,
          205.74,
          205.74,
          203.2,
          208.28,
          208.28,
          205.74,
          190.5,
          213.36,
          182.88,
          205.74,
          195.58,
          198.12,
          210.82,
          205.74,
          203.2,
          213.36,
          198.12,
          198.12,
          185.42,
          203.2,
          208.28,
          213.36,
          203.2,
          198.12,
          208.28,
          190.5,
          205.74,
          190.5,
          190.5,
          190.5,
          187.96,
          210.82,
          195.58,
          190.5,
          205.74,
          193.04,
          200.66,
          205.74,
          210.82,
          200.66,
          218.44,
          210.82,
          205.74,
          195.58,
          198.12,
          182.88,
          203.2,
          195.58,
          210.82,
          213.36,
          198.12,
          193.04,
          205.74,
          203.2,
          182.88,
          195.58,
          205.74,
          210.82,
          210.82,
          198.12,
          208.28,
          213.36,
          220.98,
          218.44,
          213.36,
          205.74,
          182.88,
          203.2,
          200.66,
          210.82,
          200.66,
          200.66,
          193.04,
          210.82,
          190.5,
          198.12,
          210.82,
          190.5,
          205.74,
          187.96,
          205.74,
          210.82,
          201,
          205.74,
          185.42,
          210.82,
          187.96,
          213.36,
          198.12,
          200.66,
          193.04,
          203.2,
          213.36,
          210.82,
          190.5,
          198.12,
          210.82,
          193.04,
          203.2,
          208.28,
          165.1,
          213.36,
          193.04,
          210.82,
          208.28,
          205.74,
          210.82,
          195.58,
          205.74,
          213.36,
          185.42,
          210.82,
          205.74,
          190.5,
          208.28,
          205.74,
          203.2,
          190.5,
          203.2,
          190.5,
          195.58,
          213.36,
          203.2,
          190.5,
          208.28,
          185.42,
          203.2,
          185.42,
          205.74,
          193.04,
          193.04,
          187.96,
          193.04,
          200.66,
          198.12,
          210.82,
          205.74,
          200.66,
          200.66,
          208.28,
          208.28,
          213.36,
          205.74,
          208.28,
          185.42,
          190.5,
          190.5,
          210.82,
          208.28,
          208.28,
          190.5,
          200.66,
          187.96,
          182.88,
          213.36,
          210.82,
          185.42,
          210.82,
          187.96,
          213.36,
          205.74,
          208.28,
          198.12,
          205.74,
          198.12,
          198.12,
          210.82,
          210.82,
          210.82,
          195.58,
          213.36,
          203.2,
          198.12,
          208.28,
          205.74,
          200.66,
          203.2,
          203.2,
          208.28,
          208.28,
          187.96,
          210.82,
          200.66,
          198.12,
          198.12,
          195.58,
          203.2,
          205.74,
          195.58,
          182.88,
          208.28,
          195.58,
          180.34,
          190.5,
          195.58,
          198.12,
          205.74,
          210.82,
          198.12,
          200.66,
          208.28,
          200.66,
          208.28,
          213.36,
          213.36,
          203.2,
          205.74,
          205.74,
          205.74,
          213.36,
          213.36,
          187.96,
          198.12,
          205.74,
          198.12,
          177.8,
          198.12,
          203.2,
          200.66,
          200.66,
          205.74,
          210.82,
          190.5,
          200.66,
          198.12,
          210.82,
          205.74,
          190.5,
          185.42,
          203.2,
          190.5,
          213.36,
          205.74,
          185.42,
          195.58,
          198.12,
          210.82,
          203.2,
          190.5,
          195.58,
          210.82,
          187.96,
          190.5,
          190.5,
          190.5,
          205.74,
          190.5,
          205.74,
          187.96,
          208.28,
          198.12,
          203.2,
          213.36,
          213.36,
          203.2,
          208.28,
          193.04,
          218.44,
          213.36,
          205.74,
          208.28,
          198.12,
          210.82,
          208.28,
          210.82,
          203.2,
          203.2,
          220.98,
          190.5,
          193.04,
          200.66,
          195.58,
          203.2,
          187.96,
          193.04,
          200.66,
          200.66,
          213.36,
          200.66,
          205.74,
          213.36,
          208.28,
          198.12,
          208.28,
          203.2,
          203.2,
          205.74,
          195.58,
          198.12,
          182.88,
          203.2,
          195.58,
          190.5,
          210.82,
          213.36,
          208.28,
          198.12,
          193.04,
          205.74,
          182.88,
          203.2,
          182.88,
          175.26,
          195.58,
          205.74,
          210.82,
          210.82,
          200.66,
          190.5,
          205.74,
          203.2,
          190.5,
          208.28,
          200.66,
          203.2,
          190.5,
          185.42,
          205.74,
          190.5,
          195.58,
          205.74,
          213.36,
          210.82,
          200.66,
          200.66,
          198.12,
          210.82,
          205.74,
          205.74,
          210.82,
          182.88,
          213.36,
          203.2,
          190.5,
          210.82,
          213.36,
          185.42,
          210.82,
          208.28,
          205.74,
          196,
          208.28,
          198.12,
          203.2,
          213.36,
          208.28,
          185.42,
          208.28,
          165.1,
          213.36,
          193.04,
          193.04,
          210.82,
          208.28,
          205.74,
          210.82,
          190.5,
          195.58,
          205.74,
          190.5,
          190.5,
          205.74,
          210.82,
          195.58,
          185.42,
          203.2,
          190.5,
          201,
          203.2,
          200.66,
          200.66,
          193.04,
          213.36,
          195.58,
          187.96,
          195.58,
          200.66,
          187.96,
          208.28,
          218.44,
          193.04,
          198.12,
          203.2,
          190.5,
          208.28,
          200.66,
          213.36,
          203.2,
          198.12,
          205.74,
          210.82,
          200.66,
          200.66,
          208.28,
          193.04,
          190.5,
          203.2,
          213.36,
          185.42,
          190.5,
          198.12,
          198.12,
          175.26,
          208.28,
          210.82,
          208.28,
          200.66,
          203.2,
          210.82,
          213.36,
          208.28,
          187.96,
          193.04,
          213.36,
          205.74,
          205.74,
          182.88,
          213.36,
          200.66,
          203.2,
          203.2,
          200.66,
          198.12,
          198.12,
          195.58,
          185.42,
          187.96,
          182.88,
          213.36,
          208.28,
          203.2,
          203.2,
          195.58,
          208.28,
          205.74,
          210.82,
          180.34,
          205.74,
          203.2,
          198.12,
          208.28,
          215.9,
          203.2,
          208.28,
          205.74,
          198.12,
          195.58,
          182.88,
          193.04,
          200.66,
          195.58,
          182.88,
          190.5,
          203.2,
          198.12,
          195.58,
          213.36,
          205.74,
          210.82,
          210.82,
          208.28,
          187.96,
          193.04,
          187.96,
          203.2,
          193.04,
          200.66,
          200.66,
          205.74,
          205.74,
          190.5,
          215.9,
          208.28,
          215.9,
          190.5,
          203.2,
          190.5,
          190.5,
          203.2,
          208.28,
          182.88,
          205.74,
          205.74,
          193.04,
          198.12,
          200.66,
          203.2,
          210.82,
          210.82,
          215.9,
          203.2,
          187.96,
          193.04,
          210.82,
          185.42,
          205.74,
          185.42,
          187.96,
          190.5,
          187.96,
          208.28,
          210.82,
          190.5,
          213.36,
          187.96,
          198.12,
          190.5,
          187.96,
          200.66,
          210.82,
          193.04,
          200.66,
          205.74,
          215.9,
          213.36,
          180.34,
          198.12,
          193.04,
          200.66,
          208.28,
          208.28,
          182.88,
          193.04,
          187.96,
          200.66,
          208.28,
          208.28,
          205.74,
          187.96,
          210.82,
          213.36,
          198.12,
          198.12,
          208.28,
          200.66,
          210.82,
          195.58,
          198.12,
          208.28,
          200.66,
          205.74,
          200.66,
          208.28,
          198.12,
          208.28,
          190.5,
          187.96,
          205.74,
          210.82,
          195.58,
          210.82,
          215.9,
          213.36,
          203.2,
          193.04,
          200.66,
          213.36,
          187.96,
          210.82,
          201,
          205.74,
          193.04,
          203.2,
          198.12,
          208.28,
          195.58,
          203.2,
          200.66,
          195.58,
          190.5,
          200.66,
          210.82,
          205.74,
          198.12,
          190.5,
          203.2,
          203.2,
          205.74,
          185.42,
          208.28,
          203.2,
          205.74,
          200.66,
          187.96,
          203.2,
          205.74,
          195.58,
          205.74,
          195.58,
          198.12,
          195.58,
          185.42,
          190.5,
          203.2,
          210.82,
          205.74,
          215.9,
          210.82,
          208.28,
          187.96,
          205.74,
          193.04,
          198.12,
          180.34,
          208.28,
          205.74,
          200.66,
          210.82,
          195.58,
          195.58,
          185.42,
          190.5,
          203.2,
          205.74,
          205.74,
          210.82,
          208.28,
          200.66,
          190.5,
          193.04,
          200.66,
          198.12,
          213.36,
          205.74,
          205.74,
          210.82,
          200.66,
          182.88,
          208.28,
          200.66,
          187.96,
          213.36,
          187.96,
          195.58,
          213.36,
          190.5,
          203.2,
          185.42,
          210.82,
          193.04,
          190.5,
          185.42,
          198.12,
          205.74,
          200.66,
          198.12,
          210.82,
          200.66,
          203.2,
          203.2,
          213.36,
          182.88,
          205.74,
          185.42,
          190.5,
          198.12,
          195.58,
          205.74,
          193.04,
          210.82,
          200.66,
          200.66,
          198.12,
          208.28,
          187.96,
          193.04,
          205.74,
          210.82,
          195.58,
          210.82,
          215.9,
          195.58,
          187.96,
          198.12,
          195.58,
          185.42,
          205.74,
          210.82,
          203.2,
          187.96,
          205.74,
          205.74,
          203.2,
          201,
          205.74,
          208.28,
          200.66,
          205.74,
          208.28,
          210.82,
          208.28,
          175.26,
          195.58,
          190.5,
          185.42,
          205.74,
          210.82,
          203.2,
          203.2,
          187.96,
          205.74,
          185.42,
          198.12,
          200.66,
          200.66,
          208.28,
          215.9,
          203.2,
          198.12,
          208.28,
          200.66,
          203.2,
          200.66,
          210.82,
          193.04,
          205.74,
          180.34,
          210.82,
          205.74,
          203.2,
          203.2,
          205.74,
          205.74,
          198.12,
          187.96,
          193.04,
          187.96,
          203.2,
          215.9,
          210.82,
          210.82,
          185.42,
          203.2,
          213.36,
          198.12,
          208.28,
          210.82,
          205.74,
          198.12,
          203.2,
          190.5,
          187.96,
          182.88,
          195.58,
          208.28,
          195.58,
          193.04,
          208.28,
          198.12,
          205.74,
          210.82,
          203.2,
          215.9,
          190.5,
          200.66,
          200.66,
          203.2,
          198.12,
          210.82,
          205.74,
          198.12,
          213.36,
          208.28,
          190.5,
          203.2,
          193.04,
          218.44,
          208.28,
          187.96,
          200.66,
          195.58,
          187.96,
          195.58,
          213.36,
          213.36,
          200.66,
          185.42,
          182.88,
          208.28,
          198.12,
          205.74,
          193.04,
          205.74,
          205.74,
          208.28,
          190.5,
          190.5,
          200.66,
          203.2,
          215.9,
          208.28,
          190.5,
          200.66,
          208.28,
          200.66,
          193.04,
          203.2,
          190.5,
          205.74,
          208.28,
          190.5,
          208.28,
          208.28,
          203.2,
          198.12,
          203.2,
          187.96,
          187.96,
          203.2,
          213.36,
          205.74,
          182.88,
          205.74,
          205.74,
          210.82,
          193.04,
          200.66,
          198.12,
          190.5,
          203.2,
          208.28,
          185.42,
          198.12,
          210.82,
          205.74,
          198.12,
          195.58,
          190.5,
          195.58,
          182.88,
          205.74,
          203.2,
          195.58,
          198.12,
          198.12,
          200.66,
          200.66,
          210.82,
          193.04,
          200.66,
          208.28,
          210.82,
          193.04,
          193.04,
          213.36,
          208.28,
          185.42,
          208.28,
          213.36,
          208.28,
          205.74,
          208.28,
          210.82,
          205.74,
          187.96,
          213.36,
          195.58,
          203.2,
          203.2,
          213.36,
          195.58,
          185.42,
          190.5,
          208.28,
          203.2,
          205.74,
          190.5,
          210.82,
          193.04,
          193.04,
          213.36,
          205.74,
          190.5,
          182.88,
          213.36,
          198.12,
          205.74,
          213.36,
          190.5,
          205.74,
          213.36,
          205.74,
          208.28,
          195.58,
          210.82,
          203.2,
          208.28,
          208.28,
          195.58,
          210.82,
          193.04,
          213.36,
          187.96,
          187.96,
          208.28,
          187.96,
          182.88,
          213.36,
          205.74,
          208.28,
          208.28,
          205.74,
          198.12,
          198.12,
          198.12,
          198.12,
          210.82,
          205.74,
          210.82,
          210.82,
          198.12,
          185.42,
          190.5,
          190.5,
          198.12,
          203.2,
          200.66,
          200.66,
          205.74,
          190.5,
          210.82,
          200.66,
          190.5,
          208.28,
          210.82,
          203.2,
          203.2,
          185.42,
          210.82,
          205.74,
          190.5,
          205.74,
          187.96,
          208.28,
          205.74,
          208.28,
          203.2,
          195.58,
          208.28,
          203.2,
          185.42,
          190.5,
          198.12,
          198.12,
          213.36,
          185.42,
          213.36,
          213.36,
          198.12,
          190.5,
          200.66,
          208.28,
          180.34,
          203.2,
          208.28,
          200.66,
          208.28,
          187.96,
          190.5,
          205.74,
          198.12,
          180.34,
          198.12,
          205.74,
          200.66,
          195.58,
          193.04,
          208.28,
          200.66,
          193.04,
          210.82,
          193.04,
          200.66,
          205.74,
          208.28,
          215.9,
          213.36,
          210.82,
          193.04,
          180.34,
          198.12,
          193.04,
          208.28,
          208.28,
          210.82,
          185.42,
          193.04,
          203.2,
          195.58,
          200.66,
          182.88,
          208.28,
          203.2,
          190.5,
          210.82,
          208.28,
          195.58,
          203.2,
          200.66,
          210.82,
          205.74,
          190.5,
          203.2,
          198.12,
          210.82,
          200.66,
          205.74,
          205.74,
          205.74,
          205.74,
          210.82,
          203.2,
          208.28,
          200.66,
          198.12,
          205.74,
          190.5,
          200.66,
          198.12,
          193.04,
          200.66,
          198.12,
          213.36,
          200.66,
          187.96,
          208.28,
          198.12,
          205.74,
          218.44,
          203.2,
          220.98,
          208.28,
          208.28,
          208.28,
          210.82,
          175.26,
          182.88,
          203.2,
          182.88,
          205.74,
          193.04,
          195.58,
          210.82,
          208.28,
          210.82,
          200.66,
          213.36,
          190.5,
          210.82,
          200.66,
          198.12,
          193.04,
          187.96,
          203.2,
          195.58,
          200.66,
          205.74,
          190.5,
          203.2,
          203.2,
          198.12,
          213.36,
          198.12,
          198.12,
          198.12,
          213.36,
          187.96,
          210.82,
          201,
          205.74,
          187.96,
          200.66,
          205.74,
          195.58,
          190.5,
          187.96,
          198.12,
          208.28,
          210.82,
          200.66,
          193.04,
          205.74,
          213.36,
          195.58,
          182.88,
          190.5,
          198.12,
          195.58,
          205.74,
          200.66,
          210.82,
          203.2,
          193.04,
          200.66,
          210.82,
          205.74,
          190.5,
          205.74,
          185.42,
          200.66,
          198.12,
          208.28,
          193.04,
          190.5,
          185.42,
          205.74,
          200.66,
          180.34,
          182.88,
          210.82,
          210.82,
          205.74,
          203.2,
          195.58,
          200.66,
          190.5,
          193.04,
          200.66,
          213.36,
          218.44,
          208.28,
          200.66,
          195.58,
          195.58,
          203.2,
          213.36,
          213.36,
          205.74,
          203.2,
          193.04,
          200.66,
          200.66,
          201,
          190.5,
          203.2,
          185.42,
          187.96,
          203.2,
          205.74,
          175.26,
          195.58,
          190.5,
          190.5,
          185.42,
          205.74,
          213.36,
          193.04,
          210.82,
          210.82,
          187.96,
          198.12,
          205.74,
          185.42,
          203.2,
          200.66,
          203.2,
          182.88,
          208.28,
          210.82,
          185.42,
          190.5,
          198.12,
          203.2,
          195.58,
          195.58,
          205.74,
          190.5,
          213.36,
          193.04,
          187.96,
          213.36,
          210.82,
          200.66,
          208.28,
          198.12,
          213.36,
          215.9,
          195.58,
          208.28,
          205.74,
          180.34,
          193.04,
          205.74,
          185.42,
          203.2,
          203.2,
          213.36,
          205.74,
          205.74,
          198.12,
          200.66,
          187.96,
          203.2,
          198.12,
          193.04,
          195.58,
          198.12,
          190.5,
          215.9,
          198.12,
          210.82,
          205.74,
          198.12,
          203.2,
          190.5,
          182.88,
          198.12,
          200.66,
          193.04,
          210.82,
          198.12,
          193.04,
          205.74,
          210.82,
          193.04,
          203.2,
          187.96,
          190.5,
          205.74,
          198.12,
          208.28,
          200.66,
          193.04,
          180.34,
          200.66,
          203.2,
          198.12,
          200.66,
          187.96,
          208.28,
          200.66,
          200.66,
          210.82,
          210.82,
          213.36,
          200.66,
          200.66,
          205.74,
          190.5,
          200.66,
          210.82,
          210.82,
          208.28,
          203.2,
          200.66,
          198.12,
          205.74,
          205.74,
          205.74,
          213.36,
          208.28,
          190.5,
          190.5,
          203.2,
          190.5,
          215.9,
          208.28,
          215.9,
          208.28,
          203.2,
          200.66,
          203.2,
          187.96,
          203.2,
          193.04,
          205.74,
          182.88,
          205.74,
          198.12,
          205.74,
          198.12,
          200.66,
          200.66,
          210.82,
          203.2,
          185.42,
          185.42,
          210.82,
          190.5,
          205.74,
          200.66,
          198.12,
          213.36,
          182.88,
          205.74,
          187.96,
          205.74,
          198.12,
          208.28,
          213.36,
          205.74,
          190.5,
          195.58,
          182.88,
          195.58,
          205.74,
          190.5,
          210.82,
          200.66,
          208.28,
          203.2,
          208.28,
          203.2,
          196,
          205.74,
          210.82,
          185.42,
          193.04,
          208.28,
          190.5,
          208.28,
          198.12,
          200.66,
          200.66,
          190.5,
          198.12,
          193.04,
          208.28,
          190.5,
          185.42,
          193.04,
          190.5,
          213.36,
          210.82,
          193.04,
          193.04,
          195.58,
          213.36,
          208.28,
          190.5,
          205.74,
          193.04,
          200.66,
          208.28,
          190.5,
          210.82,
          193.04,
          213.36,
          203.2,
          210.82,
          195.58,
          208.28,
          198.12,
          187.96,
          200.66,
          213.36,
          205.74,
          213.36,
          210.82,
          213.36,
          213.36,
          205.74,
          203.2,
          208.28,
          195.58,
          210.82,
          203.2,
          205.74,
          195.58,
          210.82,
          210.82,
          215.9,
          187.96,
          182.88,
          213.36,
          200.66,
          205.74,
          208.28,
          205.74,
          208.28,
          198.12,
          198.12,
          215.9,
          198.12,
          218.44,
          198.12,
          198.12,
          205.74,
          205.74,
          208.28,
          208.28,
          187.96,
          193.04,
          198.12,
          205.74,
          205.74,
          203.2,
          200.66,
          213.36,
          198.12,
          177.8,
          205.74,
          210.82,
          210.82,
          200.66,
          190.5,
          208.28,
          200.66,
          213.36,
          185.42,
          198.12,
          195.58,
          210.82,
          193.04,
          187.96,
          190.5,
          195.58,
          190.5,
          208.28,
          205.74,
          208.28,
          203.2,
          195.58,
          208.28,
          203.2,
          208.28,
          185.42,
          190.5,
          190.5,
          203.2,
          203.2,
          200.66,
          203.2,
          195.58,
          195.58,
          205.74,
          205.74,
          210.82,
          208.28,
          208.28,
          200.66,
          203.2,
          193.04,
          200.66,
          198.12,
          213.36,
          205.74,
          200.66,
          208.28,
          182.88,
          193.04,
          213.36,
          193.04,
          187.96,
          200.66,
          208.28,
          190.5,
          190.5,
          203.2,
          185.42,
          208.28,
          205.74,
          205.74,
          193.04,
          198.12,
          213.36,
          200.66,
          195.58,
          208.28,
          208.28,
          190.5,
          210.82,
          195.58,
          205.74,
          193.04,
          187.96,
          208.28,
          187.96,
          208.28,
          210.82,
          200.66,
          210.82,
          200.66,
          208.28,
          193.04,
          205.74,
          208.28,
          195.58,
          205.74,
          215.9,
          195.58,
          198.12,
          195.58,
          203.2,
          200.66,
          210.82,
          205.74,
          203.2,
          195.58,
          205.74,
          185.42,
          203.2,
          205.74,
          205.74,
          187.96,
          205.74,
          185.42,
          205.74,
          195.58,
          210.82,
          208.28,
          190.5,
          193.04,
          205.74,
          193.04,
          198.12,
          213.36,
          198.12,
          195.58,
          190.5,
          195.58,
          182.88,
          198.12,
          195.58,
          205.74,
          203.2,
          200.66,
          203.2,
          213.36,
          185.42,
          193.04,
          200.66,
          205.74,
          190.5,
          205.74,
          213.36,
          182.88,
          182.88,
          175.26,
          182.88,
          203.2,
          208.28,
          205.74,
          205.74,
          198.12,
          190.5,
          203.2,
          210.82,
          210.82,
          213.36,
          208.28,
          200.66,
          210.82,
          208.28,
          213.36,
          203.2,
          220.98,
          208.28,
          208.28,
          210.82,
          203.2,
          190.5,
          210.82,
          195.58,
          198.12,
          213.36,
          187.96,
          210.82,
          193.04,
          210.82,
          208.28,
          205.74,
          200.66,
          193.04,
          198.12,
          200.66,
          187.96,
          190.5,
          208.28,
          210.82,
          195.58,
          205.74,
          200.66,
          213.36,
          187.96,
          205.74,
          205.74,
          201,
          210.82,
          180.34,
          190.5,
          190.5,
          205.74,
          208.28,
          190.5,
          185.42,
          200.66,
          187.96,
          195.58,
          195.58,
          208.28,
          208.28,
          193.04,
          205.74,
          213.36,
          200.66,
          193.04,
          200.66,
          198.12,
          213.36,
          203.2,
          208.28,
          205.74,
          200.66,
          182.88,
          208.28,
          203.2,
          190.5,
          210.82,
          205.74,
          208.28,
          200.66,
          210.82,
          198.12,
          210.82,
          198.12,
          185.42,
          200.66,
          213.36,
          208.28,
          185.42,
          208.28,
          203.2,
          195.58,
          195.58,
          205.74,
          205.74,
          193.04,
          198.12,
          198.12,
          190.5,
          205.74,
          195.58,
          190.5,
          213.36,
          203,
          190.5,
          190.5,
          187.96,
          210.82,
          193.04,
          198.12,
          203.2,
          200.66,
          205.74,
          200.66,
          208.28,
          203.2,
          213.36,
          193.04,
          200.66,
          205.74,
          205.74,
          190.5,
          200.66,
          200.66,
          198.12,
          187.96,
          210.82,
          201,
          205.74,
          205.74,
          187.96,
          213.36,
          205.74,
          210.82,
          210.82,
          195.58,
          213.36,
          203.2,
          205.74,
          198.12,
          193.04,
          203.2,
          205.74,
          182.88,
          175.26,
          213.36,
          182.88,
          195.58,
          210.82,
          182.88,
          205.74,
          198.12,
          195.58,
          193.04,
          180.34,
          198.12,
          193.04,
          205.74,
          208.28,
          208.28,
          195.58,
          205.74,
          203.2,
          205.74,
          195.58,
          200.66,
          182.88,
          195.58,
          203.2,
          203.2,
          215.9,
          187.96,
          185.42,
          200.66,
          205.74,
          200.66,
          180.34,
          210.82,
          210.82,
          200.66,
          203.2,
          205.74,
          213.36,
          182.88,
          205.74,
          196,
          185.42,
          190.5,
          198.12,
          198.12,
          203.2,
          205.74,
          213.36,
          213.36,
          195.58,
          187.96,
          208.28,
          213.36,
          210.82,
          190.5,
          208.28,
          193.04,
          190.5,
          182.88,
          193.04,
          210.82,
          210.82,
          213.36,
          208.28,
          190.5,
          182.88,
          215.9,
          203.2,
          218.44,
          208.28,
          187.96,
          195.58,
          203.2,
          213.36,
          213.36,
          205.74,
          205.74,
          193.04,
          200.66,
          200.66,
          201,
          190.5,
          203.2,
          200.66,
          185.42,
          200.66,
          200.66,
          198.12,
          200.66,
          208.28,
          190.5,
          187.96,
          193.04,
          193.04,
          205.74,
          195.58,
          210.82,
          215.9,
          198.12,
          205.74,
          195.58,
          205.74,
          187.96,
          205.74,
          205.74,
          213.36,
          203.2,
          185.42,
          205.74,
          195.58,
          190.5,
          190.5,
          203.2,
          205.74,
          210.82,
          187.96,
          208.28,
          203.2,
          200.66,
          210.82,
          190.5,
          208.28,
          198.12,
          210.82,
          210.82,
          208.28,
          193.04,
          175.26,
          190.5,
          185.42,
          208.28,
          205.74,
          213.36,
          213.36,
          210.82,
          203.2,
          210.82,
          203.2,
          205.74,
          185.42,
          200.66,
          198.12,
          208.28,
          205.74,
          193.04,
          208.28,
          200.66,
          205.74,
          203.2,
          208.28,
          210.82,
          198.12,
          218.44,
          198.12,
          215.9,
          213.36,
          198.12,
          198.12,
          205.74,
          208.28,
          208.28,
          208.28,
          205.74,
          208.28,
          182.88,
          195.58,
          210.82,
          205.74,
          195.58,
          198.12,
          203.2,
          190.5,
          183,
          182.88,
          198.12,
          195.58,
          200.66,
          187.96,
          205.74,
          210.82,
          195.58,
          203.2,
          208.28,
          205.74,
          208.28,
          190.5,
          195.58,
          190.5,
          187.96,
          193.04,
          210.82,
          195.58,
          208.28,
          205.74,
          195.58,
          203.2,
          195.58,
          208.28,
          203.2,
          203.2,
          205.74,
          213.36,
          205.74,
          213.36,
          200.66,
          187.96,
          198.12,
          210.82,
          193.04,
          198.12,
          193.04,
          205.74,
          200.66,
          205.74,
          205.74,
          210.82,
          205.74,
          203.2,
          213.36,
          208.28,
          190.5,
          190.5,
          215.9,
          198.12,
          200.66,
          226.06,
          190.5,
          210.82,
          208.28,
          200.66,
          208.28,
          200.66,
          190.5,
          180.34,
          185.42,
          198.12,
          187.96,
          200.66,
          208.28,
          200.66,
          203.2,
          203.2,
          210.82,
          193.04,
          203.2,
          215.9,
          208.28,
          198.12,
          213.36,
          190.5,
          205.74,
          190.5,
          180.34,
          193.04,
          205.74,
          185.42,
          203.2,
          203.2,
          208.28,
          195.58,
          198.12,
          200.66,
          187.96,
          193.04,
          187.96,
          205.74,
          215.9,
          198.12,
          185.42,
          210.82,
          208.28,
          195.58,
          208.28,
          203.2,
          196,
          198.12,
          193.04,
          208.28,
          208.28,
          208.28,
          213.36,
          193.04,
          193.04,
          210.82,
          210.82,
          190.5,
          205.74,
          208.28,
          200.66,
          203.2,
          205.74,
          213.36,
          190.5,
          213.36,
          193.04,
          213.36,
          198.12,
          190.5,
          203.2,
          190.5,
          208.28,
          205.74,
          190.5,
          210.82,
          193.04,
          208.28,
          210.82,
          208.28,
          210.82,
          203.2,
          190.5,
          200.66,
          198.12,
          205.74,
          203.2,
          210.82,
          200.66,
          195.58,
          203.2,
          190.5,
          193.04,
          193.04,
          198.12,
          190.5,
          208.28,
          200.66,
          210.82,
          200.66,
          200.66,
          208.28,
          193.04,
          208.28,
          185.42,
          198.12,
          185.42,
          210.82,
          200.66,
          203.2,
          210.82,
          208.28,
          200.66,
          210.82,
          210.82,
          205.74,
          200.66,
          200.66,
          203.2,
          205.74,
          205.74,
          205.74,
          195.58,
          198.12,
          193.04,
          187.96,
          185.42,
          205.74,
          213.36,
          185.42,
          213.36,
          198.12,
          190.5,
          185.42,
          208.28,
          198.12,
          203.2,
          213.36,
          198.12,
          200.66,
          200.66,
          210.82,
          205.74,
          208.28,
          180.34,
          205.74,
          182.88,
          205.74,
          193.04,
          203.2,
          198.12,
          203.2,
          198.12,
          205.74,
          208.28,
          190.5,
          198.12,
          182.88,
          195.58,
          190.5,
          205.74,
          205.74,
          210.82,
          213.36,
          208.28,
          203.2,
          182.88,
          198.12,
          190.5,
          205.74,
          213.36,
          198.12,
          193.04,
          193.04,
          190.5,
          200.66,
          195.58,
          210.82,
          200.66,
          190.5,
          203.2,
          210.82,
          210.82,
          208.28,
          198.12,
          203.2,
          213.36,
          208.28,
          203.2,
          190.5,
          210.82,
          195.58,
          182.88,
          175.26,
          182.88,
          210.82,
          200.66,
          200.66,
          208.28,
          198.12,
          213.36,
          193.04,
          213.36,
          190.5,
          213.36,
          203.2,
          200.66,
          208.28,
          205.74,
          210.82,
          210.82,
          182.88,
          193.04,
          208.28,
          220.98,
          193.04,
          198.12,
          196,
          205.74,
          195.58,
          210.82,
          185.42,
          193.04,
          208.28,
          193.04,
          193.04,
          205.74,
          200.66,
          193.04,
          205.74,
          195.58,
          190.5,
          193.04,
          190.5,
          187.96,
          200.66,
          210.82,
          193.04,
          198.12,
          203.2,
          200.66,
          203.2,
          187.96,
          210.82,
          210.82,
          193.04,
          193.04,
          205.74,
          208.28,
          208.28,
          213.36,
          198.12,
          195.58,
          195.58,
          187.96,
          205.74,
          190.5,
          213.36,
          205.74,
          198.12,
          205.74,
          205.74,
          213.36,
          203.2,
          198.12,
          210.82,
          195.58,
          182.88,
          198.12,
          200.66,
          195.58,
          187.96,
          205.74,
          205.74,
          198.12,
          193.04,
          200.66,
          205.74,
          200.66,
          208.28,
          205.74,
          213.36,
          187.96,
          210.82,
          205.74,
          203.2,
          200.66,
          203.2,
          208.28,
          208.28,
          195.58,
          203.2,
          195.58,
          208.28,
          195.58,
          193.04,
          187.96,
          200.66,
          195.58,
          190.5,
          205.74,
          208.28,
          220.98,
          210.82,
          203.2,
          203.2,
          195.58,
          208.28,
          198.12,
          203.2,
          185.42,
          190.5,
          198.12,
          185.42,
          200.66,
          203.2,
          203.2,
          205.74,
          210.82,
          182.88,
          205.74,
          198.12,
          208.28,
          208.28,
          208.28,
          205.74,
          198.12,
          203.2,
          198.12,
          215.9,
          187.96,
          208.28,
          198.12,
          198.12,
          208.28,
          205.74,
          210.82,
          210.82,
          198.12,
          190.5,
          200.66,
          213.36,
          213.36,
          190.5,
          218.44,
          213.36,
          205.74,
          185.42,
          190.5,
          200.66,
          195.58,
          208.28,
          195.58,
          182.88,
          198.12,
          190.5,
          203.2,
          205.74,
          208.28,
          198.12,
          205.74,
          203.2,
          182.88,
          198.12,
          205.74,
          205.74,
          210.82,
          200.66,
          200.66,
          210.82,
          203.2,
          195.58,
          185.42,
          190.5,
          205.74,
          190.5,
          205.74,
          213.36,
          198.12,
          187.96,
          193.04,
          198.12,
          195.58,
          205.74,
          190.5,
          205.74,
          203.2,
          200.66,
          208.28,
          210.82,
          210.82,
          210.82,
          208.28,
          210.82,
          205.74,
          198.12,
          213.36,
          210.82,
          182.88,
          210.82,
          198.12,
          203.2,
          203.2,
          208.28,
          200.66,
          208.28,
          198.12,
          203.2,
          213.36,
          213.36,
          203.2,
          195.58,
          200.66,
          187.96,
          218.44,
          203.2,
          215.9,
          182.88,
          190.5,
          208.28,
          205.74,
          213.36,
          218.44,
          205.74,
          210.82,
          200.66,
          193.04,
          208.28,
          200.66,
          187.96,
          198.12,
          185.42,
          180.34,
          210.82,
          210.82,
          190.5,
          193.04,
          200.66,
          203.2,
          198.12,
          198.12,
          190.5,
          195.58,
          185.42,
          205.74,
          182.88,
          213.36,
          205.74,
          203.2,
          200.66,
          208.28,
          180.34,
          195.58,
          185.42,
          205.74,
          190.5,
          193.04,
          198.12,
          200.66,
          185.42,
          190.5,
          185.42,
          200.66,
          190.5,
          200.66,
          195.58,
          200.66,
          198.12,
          203.2,
          203.2,
          185.42,
          208.28,
          205.74,
          193.04,
          180.34,
          190.5,
          205.74,
          193.04,
          213.36,
          198.12,
          198.12,
          215.9,
          203.2,
          193.04,
          198.12,
          193.04,
          200.66,
          195.58,
          198.12,
          213.36,
          208.28,
          190.5,
          195.58,
          195.58,
          187.96,
          198.12,
          200.66,
          193.04,
          215.9,
          200.66,
          190.5,
          190.5,
          208.28,
          213.36,
          187.96,
          203.2,
          205.74,
          205.74,
          205.74,
          205.74,
          187.96,
          200.66,
          200.66,
          203.2,
          200.66,
          208.28,
          210.82,
          220.98,
          210.82,
          185.42,
          198.12,
          215.9,
          205.74,
          187.96,
          187.96,
          205.74,
          200.66,
          213.36,
          205.74,
          193.04,
          200.66,
          198.12,
          213.36,
          203.2,
          205.74,
          220.98,
          205.74,
          200.66,
          182.88,
          208.28,
          208.28,
          203.2,
          210.82,
          195.58,
          195.58,
          203.2,
          187.96,
          205.74,
          205.74,
          203.2,
          190.5,
          195.58,
          205.74,
          185.42,
          190.5,
          203.2,
          200.66,
          210.82,
          190.5,
          190.5,
          200.66,
          208.28,
          198.12,
          205.74,
          193.04,
          205.74,
          198.12,
          208.28,
          198.12,
          200.66,
          208.28,
          213.36,
          213.36,
          200.66,
          185.42,
          213.36,
          200.66,
          185.42,
          193.04,
          208.28,
          203.2,
          195.58,
          195.58,
          205.74,
          198.12,
          213.36,
          203.2,
          175.26,
          203.2,
          210.82,
          210.82,
          205.74,
          208.28,
          185.42,
          190.5,
          203.2,
          210.82,
          208.28,
          208.28,
          210.82,
          205.74,
          210.82,
          200.66,
          203.2,
          198.12,
          208.28,
          208.28,
          210.82,
          213.36,
          205.74,
          193.04,
          200.66,
          187.96,
          195.58,
          208.28,
          185.42,
          203.2,
          198.12,
          205.74,
          205.74,
          205.74,
          198.12,
          215.9,
          190.5,
          210.82,
          195.58,
          205.74,
          193.04,
          200.66,
          187.96,
          203.2,
          190.5,
          193.04,
          208.28,
          208.28,
          208.28,
          200.66,
          205.74,
          193.04,
          215.9,
          200.66,
          210.82,
          205.74,
          208.28,
          205.74,
          210.82,
          200.66,
          193.04,
          205.74,
          200.66,
          215.9,
          198.12,
          208.28,
          213.36,
          200.66,
          205.74,
          208.28,
          205.74,
          208.28,
          203.2,
          193.04,
          193.04,
          205.74,
          198.12,
          195.58,
          210.82,
          190.5,
          200.66,
          215.9,
          198.12,
          208.28,
          185.42,
          203.2,
          203.2,
          213.36,
          195.58,
          187.96,
          193.04,
          205.74,
          213.36,
          208.28,
          208.28,
          198.12,
          193.04,
          203.2,
          203.2,
          205.74,
          200.66,
          210.82,
          210.82,
          208.28,
          210.82,
          203.2,
          190.5,
          205.74,
          205.74,
          210.82,
          213.36,
          203.2,
          210.82,
          208.28,
          195.58,
          208.28,
          195.58,
          208.28,
          208.28,
          205.74,
          195.58,
          195.58,
          203.2,
          185.42,
          200.66,
          213.36,
          175.26,
          200.66,
          213.36,
          205.74,
          198.12,
          200.66,
          198.12,
          208.28,
          213.36,
          198.12,
          205.74,
          205.74,
          193.04,
          198.12,
          200.66,
          190.5,
          203.2,
          213.36,
          203.2,
          200.66,
          213.36,
          198.12,
          205.74,
          205.74,
          205.74,
          213.36,
          203.2,
          185.42,
          190.5,
          203.2,
          205.74,
          210.82,
          205.74,
          187.96,
          203.2,
          195.58,
          195.58,
          210.82,
          190.5,
          208.28,
          203.2,
          208.28,
          182.88,
          200.66,
          205.74,
          220.98,
          205.74,
          193.04,
          190.5,
          198.12,
          203.2,
          195.58,
          187.96,
          193.04,
          187.96,
          200.66,
          205.74,
          198.12,
          215.9,
          198.12,
          198.12,
          185.42,
          210.82,
          215.9,
          200.66,
          208.28,
          200.66,
          187.96,
          200.66,
          205.74,
          203.2,
          205.74,
          205.74,
          203.2,
          187.96,
          213.36,
          208.28,
          213.36,
          203.2,
          198.12,
          203.2,
          203.2,
          195.58,
          203.2,
          182.88,
          210.82,
          213.36,
          198.12,
          195.58,
          200.66,
          195.58,
          193.04,
          193.04,
          198.12,
          193.04,
          203.2,
          187.96,
          215.9,
          198.12,
          213.36,
          177.8,
          193.04,
          190.5,
          180.34,
          200.66,
          193.04,
          205.74,
          208.28,
          185.42,
          190.5,
          205.74,
          200.66,
          198.12,
          208.28,
          200.66,
          201,
          190.5,
          200.66,
          185.42,
          185.42,
          198.12,
          193.04,
          190.5,
          205.74,
          185.42,
          193.04,
          195.58,
          200.66,
          177.8,
          203.2,
          200.66,
          203.2,
          205.74,
          213.36,
          182.88,
          205.74,
          200.66,
          185.42,
          198.12,
          187.96,
          205.74,
          213.36,
          203.2,
          200.66,
          210.82,
          190.5,
          198.12,
          205.74,
          200.66,
          185.42,
          198.12,
          187.96,
          190.5,
          208.28,
          190.5,
          193.04,
          200.66,
          205.74,
          218.44,
          210.82,
          208.28,
          190.5,
          215.9,
          203.2,
          218.44,
          187.96,
          200.66,
          193.04,
          195.58,
          193.04,
          215.9,
          195.58,
          208.28,
          187.96,
          182.88,
          195.58,
          205.74,
          195.58,
          190.5,
          205.74,
          210.82,
          213.36,
          208.28,
          210.82,
          182.88,
          205.74,
          198.12,
          208.28,
          205.74,
          187.96,
          210.82,
          208.28,
          203.2,
          200.66,
          190.5,
          195.58,
          198.12,
          190.5,
          187.96,
          193.04,
          208.28,
          213.36,
          190.5,
          208.28,
          208.28,
          190.5,
          198.12,
          185.42,
          185.42,
          195.58,
          195.58,
          203.2,
          210.82,
          200.66,
          198.12,
          198.12,
          210.82,
          208.28,
          205.74,
          193.04,
          205.74,
          198.12,
          182.88,
          205.74,
          208.28,
          200.66,
          198.12,
          203.2,
          198.12,
          208.28,
          210.82,
          190.5,
          200.66,
          205.74,
          208.28,
          203.2,
          205.74,
          198.12,
          213.36,
          200.66,
          198.12,
          210.82,
          210.82,
          205.74,
          198.12,
          198.12,
          218.44,
          203.2,
          200.66,
          198.12,
          198.12,
          203.2,
          198.12,
          205.74,
          208.28,
          205.74,
          208.28,
          198.12,
          205.74,
          182.88,
          213.36,
          215.9,
          200.66,
          210.82,
          195.58,
          187.96,
          185.42,
          198.12,
          190.5,
          185.42,
          205.74,
          203.2,
          208.28,
          195.58,
          203.2,
          203.2,
          210.82,
          187.96,
          220.98,
          208.28,
          205.74,
          190.5,
          195.58,
          205.74,
          200.66,
          187.96,
          193.04,
          195.58,
          208.28,
          205.74,
          195.58,
          203.2,
          213.36,
          208.28,
          190.5,
          198.12,
          200.66,
          187.96,
          213.36,
          205.74,
          190.5,
          205.74,
          208.28,
          200.66,
          205.74,
          200.66,
          198.12,
          205.74,
          205.74,
          203.2,
          195.58,
          200.66,
          182.88,
          193.04,
          195.58,
          213.36,
          205.74,
          210.82,
          198.12,
          203.2,
          213.36,
          205.74,
          205.74,
          187.96,
          213.36,
          205.74,
          195.58,
          195.58,
          198.12,
          187.96,
          213.36,
          208.28,
          208.28,
          205.74,
          193.04,
          180.34,
          193.04,
          210.82,
          210.82,
          213.36,
          205.74,
          205.74,
          187.96,
          200.66,
          203.2,
          198.12,
          193.04,
          210.82,
          200.66,
          190.5,
          193.04,
          190.5,
          195.58,
          198.12,
          203.2,
          193.04,
          215.9,
          200.66,
          208.28,
          193.04,
          185.42,
          210.82,
          195.58,
          200.66,
          193.04,
          220.98,
          208.28,
          193.04,
          193.04,
          200.66,
          210.82,
          200.66,
          215.9,
          203.2,
          203.2,
          213.36,
          210.82,
          213.36,
          193.04,
          210.82,
          208.28,
          213.36,
          190.5,
          210.82,
          213.36,
          182.88,
          198.12,
          182.88,
          193.04,
          175.26,
          190.5,
          182.88,
          195.58,
          210.82,
          190.5,
          203.2,
          210.82,
          213.36,
          203.2,
          198.12,
          210.82,
          210.82,
          203.2,
          190.5,
          198.12,
          210.82,
          195.58,
          200.66,
          215.9,
          203.2,
          190.5,
          190.5,
          193.04,
          193.04,
          182.88,
          210.82,
          210.82,
          187.96,
          198.12,
          210.82,
          205.74,
          213.36,
          200.66,
          195.58,
          193.04,
          203.2,
          182.88,
          200.66,
          200.66,
          195.58,
          203.2,
          203.2,
          205.74,
          198.12,
          200.66,
          200.66,
          200.66,
          208.28,
          210.82,
          190.5,
          213.36,
          187.96,
          182.88,
          200.66,
          205.74,
          195.58,
          185.42,
          203.2,
          203.2,
          210.82,
          210.82,
          203.2,
          203.2,
          213.36,
          210.82,
          190.5,
          210.82,
          208.28,
          195.58,
          182.88,
          208.28,
          205.74,
          175.26,
          193.04,
          182.88,
          208.28,
          215.9,
          182.88,
          193.04,
          198.12,
          205.74,
          205.74,
          213.36,
          198.12,
          190.5,
          203.2,
          205.74,
          187.96,
          195.58,
          203.2,
          190.5,
          185.42,
          195.58,
          200.66,
          203.2,
          185.42,
          208.28,
          198.12,
          205.74,
          193.04,
          195.58,
          205.74,
          198.12,
          198.12,
          198.12,
          203.2,
          213.36,
          200.66,
          213.36,
          190.5,
          213.36,
          200.66,
          175.26,
          213.36,
          205.74,
          205.74,
          198.12,
          208.28,
          213.36,
          205.74,
          205.74,
          195.58,
          190.5,
          193.04,
          190.5,
          203.2,
          210.82,
          193.04,
          198.12,
          203.2,
          200.66,
          187.96,
          205.74,
          213.36,
          210.82,
          208.28,
          210.82,
          195.58,
          193.04,
          208.28,
          205.74,
          208.28,
          208.28,
          213.36,
          187.96,
          190.5,
          200.66,
          210.82,
          193.04,
          213.36,
          190.5,
          198.12,
          198.12,
          195.58,
          200.66,
          205.74,
          208.28,
          198.12,
          203.2,
          198.12,
          200.66,
          213.36,
          208.28,
          205.74,
          187.96,
          198.12,
          193.04,
          180.34,
          205.74,
          208.28,
          198.12,
          190.5,
          210.82,
          198.12,
          198.12,
          203.2,
          208.28,
          182.88,
          195.58,
          213.36,
          205.74,
          190.5,
          193.04,
          195.58,
          190.5,
          198.12,
          203.2,
          190.5,
          200.66,
          203.2,
          203.2,
          208.28,
          210.82,
          195.58,
          205.74,
          208.28,
          208.28,
          205.74,
          182.88,
          208.28,
          213.36,
          210.82,
          205.74,
          190.5,
          195.58,
          205.74,
          200.66,
          200.66,
          210.82,
          195.58,
          208.28,
          195.58,
          208.28,
          193.04,
          208.28,
          195.58,
          210.82,
          185.42,
          193.04,
          208.28,
          203.2,
          208.28,
          193.04,
          200.66,
          213.36,
          180.34,
          195.58,
          182.88,
          200.66,
          198.12,
          193.04,
          190.5,
          190.5,
          198.12,
          215.9,
          200.66,
          200.66,
          193.04,
          210.82,
          210.82,
          195.58,
          185.42,
          185.42,
          190.5,
          198.12,
          208.28,
          200.66,
          190.5,
          185.42,
          193.04,
          203.2,
          198.12,
          190.5,
          203.2,
          213.36,
          210.82,
          198.12,
          193.04,
          213.36,
          208.28,
          190.5,
          203.2,
          203.2,
          215.9,
          200.66,
          200.66,
          190.5,
          203.2,
          185.42,
          208.28,
          203.2,
          193.04,
          200.66,
          208.28,
          198.12,
          185.42,
          180.34,
          193.04,
          200.66,
          190.5,
          195.58,
          210.82,
          200.66,
          200.66,
          198.12,
          190.5,
          198.12,
          213.36,
          187.96,
          203.2,
          208.28,
          205.74,
          205.74,
          203.2,
          200.66,
          200.66,
          187.96,
          200.66,
          205.74,
          218.44,
          190.5,
          200.66,
          200.66,
          187.96,
          195.58,
          185.42,
          190.5,
          198.12,
          185.42,
          185.42,
          200.66,
          195.58,
          190.5,
          200.66,
          208.28,
          193.04,
          205.74,
          213.36,
          203.2,
          193.04,
          193.04,
          193.04,
          200.66,
          198.12,
          203.2,
          215.9,
          190.5,
          208.28,
          200.66,
          203.2,
          203.2,
          215.9,
          215.9,
          187.96,
          203.2,
          195.58,
          193.04,
          198.12,
          203.2,
          193.04,
          190.5,
          195.58,
          195.58,
          200.66,
          195.58,
          200.66,
          198.12,
          213.36,
          210.82,
          210.82,
          205.74,
          193.04,
          193.04,
          195.58,
          182.88,
          213.36,
          195.58,
          205.74,
          195.58,
          198.12,
          213.36,
          177.8,
          185.42,
          198.12,
          198.12,
          215.9,
          198.12,
          205.74,
          200.66,
          193.04,
          208.28,
          187.96,
          200.66,
          198.12,
          208.28,
          195.58,
          203.2,
          203.2,
          185.42,
          208.28,
          195.58,
          205.74,
          193.04,
          200.66,
          205.74,
          195.58,
          190.5,
          193.04,
          205.74,
          208.28,
          208.28,
          203.2,
          213.36,
          185.42,
          203.2,
          213.36,
          200.66,
          205.74,
          195.58,
          215.9,
          205.74,
          198.12,
          195.58,
          190.5,
          200.66,
          195.58,
          195.58,
          208.28,
          198.12,
          195.58,
          215.9,
          210.82,
          195.58,
          195.58,
          205.74,
          182.88,
          193.04,
          187.96,
          203.2,
          190.5,
          198.12,
          187.96,
          203.2,
          195.58,
          195.58,
          205.74,
          208.28,
          205.74,
          205.74,
          203.2,
          200.66,
          193.04,
          213.36,
          193.04,
          220.98,
          205.74,
          198.12,
          200.66,
          205.74,
          182.88,
          208.28,
          203.2,
          190.5,
          210.82,
          198.12,
          203.2,
          187.96,
          187.96,
          205.74,
          213.36,
          190.5,
          205.74,
          193.04,
          208.28,
          210.82,
          208.28,
          200.66,
          203.2,
          203.2,
          200.66,
          198.12,
          208.28,
          208.28,
          213.36,
          205.74,
          193.04,
          210.82,
          203.2,
          205.74,
          213.36,
          205.74,
          203.2,
          198.12,
          198.12,
          205.74,
          195.58,
          185.42,
          200.66,
          205.74,
          182.88,
          203.2,
          208.28,
          193.04,
          193.04,
          187.96,
          208.28,
          213.36,
          205.74,
          210.82,
          208.28,
          195.58,
          193.04,
          205.74,
          210.82,
          215.9,
          205.74,
          198.12,
          200.66,
          185.42,
          185.42,
          210.82,
          203.2,
          210.82,
          195.58,
          193.04,
          205.74,
          205.74,
          190.5,
          203.2,
          198.12,
          210.82,
          208.28,
          210.82,
          215.9,
          195.58,
          198.12,
          213.36,
          200.66,
          198.12,
          210.82,
          205.74,
          198.12,
          203.2,
          205.74,
          215.9,
          198.12,
          205.74,
          198.12,
          203.2,
          205.74,
          208.28,
          208.28,
          208.28,
          198.12,
          190.5,
          198.12,
          205.74,
          182.88,
          200.66,
          203.2,
          190.5,
          200.66,
          193.04,
          185.42,
          205.74,
          208.28,
          195.58,
          203.2,
          198.12,
          210.82,
          187.96,
          220.98,
          208.28,
          205.74,
          208.28,
          210.82,
          203.2,
          203.2,
          193.04,
          198.12,
          208.28,
          208.28,
          193.04,
          187.96,
          208.28,
          195.58,
          195.58,
          185.42,
          210.82,
          203.2,
          200.66,
          210.82,
          215.9,
          198.12,
          213.36,
          190.5,
          203.2,
          200.66,
          195.58,
          200.66,
          203.2,
          205.74,
          215.9,
          198.12,
          210.82,
          205.74,
          193.04,
          210.82,
          205.74,
          210.82,
          208.28,
          208.28,
          210.82,
          198.12,
          210.82,
          205.74,
          208.28,
          203.2,
          193.04,
          213.36,
          182.88,
          205.74,
          200.66,
          185.42,
          193.04,
          205.74,
          198.12,
          198.12,
          203.2,
          193.04,
          205.74,
          203.2,
          203.2,
          193.04,
          205.74,
          213.36,
          208.28,
          213.36,
          198.12,
          203.2,
          200.66,
          210.82,
          210.82,
          205.74,
          203.2,
          203.2,
          205.74,
          205.74,
          200.66,
          205.74,
          193.04,
          208.28,
          213.36,
          193.04,
          200.66,
          190.5,
          203.2,
          205.74,
          205.74,
          185.42,
          208.28,
          200.66,
          205.74,
          195.58,
          195.58,
          200.66,
          203.2,
          185.42,
          200.66,
          213.36,
          205.74,
          200.66,
          213.36,
          205.74,
          193.04,
          208.28,
          210.82,
          200.66,
          195.58,
          210.82,
          215.9,
          195.58,
          190.5,
          195.58,
          200.66,
          195.58,
          198.12,
          205.74,
          215.9,
          190.5,
          195.58,
          203.2,
          185.42,
          195.58,
          198.12,
          195.58,
          203.2,
          213.36,
          205.74,
          187.96,
          195.58,
          200.66,
          198.12,
          200.66,
          200.66,
          218.44,
          195.58,
          193.04,
          195.58,
          208.28,
          205.74,
          200.66,
          193.04,
          193.04,
          200.66,
          208.28,
          208.28,
          185.42,
          203.2,
          187.96,
          195.58,
          187.96,
          200.66,
          200.66,
          187.96,
          208.28,
          200.66,
          205.74,
          198.12,
          198.12,
          185.42,
          215.9,
          208.28,
          177.8,
          213.36,
          198.12,
          210.82,
          193.04,
          195.58,
          213.36,
          205.74,
          182.88,
          203.2,
          205.74,
          210.82,
          213.36,
          198.12,
          195.58,
          213.36,
          200.66,
          208.28,
          195.58,
          195.58,
          190.5,
          193.04,
          203.2,
          198.12,
          193.04,
          203.2,
          187.96,
          215.9,
          195.58,
          200.66,
          210.82,
          198.12,
          203.2,
          205.74,
          185.42,
          200.66,
          190.5,
          208.28,
          190.5,
          215.9,
          203.2,
          198.12,
          200.66,
          193.04,
          193.04,
          185.42,
          203.2,
          213.36,
          208.28,
          205.74,
          193.04,
          208.28,
          190.5,
          200.66,
          185.42,
          208.28,
          195.58,
          185.42,
          185.42,
          205.74,
          187.96,
          200.66,
          187.96,
          200.66,
          185.42,
          200.66,
          205.74,
          200.66,
          203.2,
          205.74,
          195.58,
          208.28,
          203.2,
          187.96,
          203.2,
          208.28,
          213.36,
          190.5,
          200.66,
          198.12,
          200.66,
          210.82,
          195.58,
          190.5,
          200.66,
          193.04,
          198.12,
          198.12,
          185.42,
          198.12,
          198.12,
          190.5,
          200.66,
          198.12,
          185.42,
          205.74,
          208.28,
          203.2,
          182.88,
          208.28,
          190.5,
          208.28,
          195.58,
          190.5,
          193.04,
          210.82,
          198.12,
          193.04,
          200.66,
          205.74,
          198.12,
          213.36,
          190.5,
          198.12,
          210.82,
          205.74,
          205.74,
          203.2,
          195.58,
          205.74,
          203.2,
          205.74,
          215.9,
          195.58,
          198.12,
          198.12,
          198.12,
          210.82,
          198.12,
          193.04,
          213.36,
          210.82,
          213.36,
          190.5,
          193.04,
          198.12,
          203.2,
          203.2,
          215.9,
          200.66,
          208.28,
          203.2,
          193.04,
          203.2,
          203.2,
          210.82,
          187.96,
          215.9,
          195.58,
          185.42,
          200.66,
          185.42,
          190.5,
          213.36,
          195.58,
          200.66,
          190.5,
          193.04,
          198.12,
          190.5,
          203.2,
          208.28,
          203.2,
          193.04,
          208.28,
          213.36,
          208.28,
          208.28,
          182.88,
          182.88,
          208.28,
          187.96,
          208.28,
          187.96,
          213.36,
          208.28,
          200.66,
          203.2,
          203.2,
          205.74,
          200.66,
          205.74,
          195.58,
          198.12,
          208.28,
          203.2,
          200.66,
          198.12,
          198.12,
          190.5,
          190.5,
          193.04,
          195.58,
          208.28,
          182.88,
          195.58,
          208.28,
          213.36,
          203.2,
          190.5,
          205.74,
          208.28,
          205.74,
          198.12,
          208.28,
          195.58,
          208.28,
          220.98,
          200.66,
          193.04,
          208.28,
          193.04,
          203.2,
          208.28,
          210.82,
          187.96,
          210.82,
          198.12,
          203.2,
          198.12,
          190.5,
          195.58,
          193.04,
          190.5,
          205.74,
          195.58,
          213.36,
          195.58,
          200.66,
          205.74,
          187.96,
          195.58,
          193.04,
          198.12,
          200.66,
          210.82,
          210.82,
          193.04,
          195.58,
          203.2,
          205.74,
          187.96,
          195.58,
          205.74,
          200.66,
          195.58,
          193.04,
          195.58,
          190.5,
          187.96,
          187.96,
          203.2,
          190.5,
          210.82,
          187.96,
          213.36,
          200.66,
          195.58,
          193.04,
          200.66,
          195.58,
          203.2,
          182.88,
          200.66,
          190.5,
          208.28,
          210.82,
          203.2,
          205.74,
          210.82,
          200.66,
          193.04,
          190.5,
          198.12,
          193.04,
          190.5,
          195.58,
          203.2,
          193.04,
          198.12,
          195.58,
          193.04,
          203.2,
          205.74,
          198.12,
          198.12,
          203.2,
          213.36,
          205.74,
          193.04,
          195.58,
          205.74,
          203.2,
          213.36,
          208.28,
          210.82,
          195.58,
          193.04,
          193.04,
          208.28,
          205.74,
          208.28,
          208.28,
          208.28,
          213.36,
          208.28,
          198.12,
          190.5,
          213.36,
          213.36,
          210.82,
          180.34,
          198.12,
          182.88,
          200.66,
          198.12,
          203.2,
          213.36,
          193.04,
          198.12,
          190.5,
          198.12,
          203.2,
          200.66,
          210.82,
          190.5,
          198.12,
          190.5,
          200.66,
          205.74,
          193.04,
          208.28,
          198.12,
          208.28,
          193.04,
          200.66,
          190.5,
          195.58,
          210.82,
          185.42,
          193.04,
          208.28,
          208.28,
          205.74,
          190.5,
          203.2,
          210.82,
          175.26,
          182.88,
          208.28,
          215.9,
          182.88,
          195.58,
          205.74,
          193.04,
          205.74,
          205.74,
          213.36,
          203.2,
          198.12,
          198.12,
          198.12,
          213.36,
          182.88,
          190.5,
          195.58,
          210.82,
          203.2,
          195.58,
          203.2,
          208.28,
          213.36,
          200.66,
          210.82,
          190.5,
          210.82,
          208.28,
          195.58,
          203.2,
          213.36,
          205.74,
          190.5,
          215.9,
          193.04,
          185.42,
          200.66,
          190.5,
          195.58,
          195.58,
          198.12,
          193.04,
          190.5,
          195.58,
          190.5,
          200.66,
          210.82,
          198.12,
          210.82,
          190.5,
          200.66,
          208.28,
          198.12,
          193.04,
          195.58,
          203.2,
          210.82,
          213.36,
          208.28,
          210.82,
          198.12,
          195.58,
          203.2,
          213.36,
          193.04,
          203.2,
          180.34,
          190.5,
          210.82,
          185.42,
          205.74,
          193.04,
          200.66,
          200.66,
          213.36,
          198.12,
          205.74,
          200.66,
          190.5,
          198.12,
          208.28,
          208.28,
          205.74,
          190.5,
          205.74,
          193.04,
          190.5,
          190.5,
          190.5,
          208.28,
          185.42,
          190.5,
          208.28,
          198.12,
          205.74,
          200.66,
          198.12,
          213.36,
          190.5,
          175.26,
          213.36,
          203.2,
          193.04,
          203.2,
          203.2,
          190.5,
          203.2,
          187.96,
          195.58,
          187.96,
          193.04,
          193.04,
          185.42,
          200.66,
          210.82,
          193.04,
          198.12,
          200.66,
          213.36,
          205.74,
          205.74,
          195.58,
          203.2,
          205.74,
          203.2,
          210.82,
          210.82,
          203.2,
          190.5,
          193.04,
          198.12,
          182.88,
          210.82,
          205.74,
          177.8,
          193.04,
          190.5,
          198.12,
          190.5,
          200.66,
          203.2,
          213.36,
          203.2,
          193.04,
          198.12,
          208.28,
          203.2,
          215.9,
          185.42,
          193.04,
          208.28,
          195.58,
          193.04,
          198.12,
          195.58,
          200.66,
          198.12,
          177.8,
          210.82,
          205.74,
          195.58,
          210.82,
          198.12,
          193.04,
          200.66,
          213.36,
          208.28,
          203.2,
          205.74,
          223.52,
          208.28,
          198.12,
          203.2,
          218.44,
          190.5,
          190.5,
          203.2,
          182.88,
          200.66,
          187.96,
          198.12,
          213.36,
          193.04,
          205.74,
          205.74,
          187.96,
          193.04,
          190.5,
          198.12,
          195.58,
          205.74,
          203.2,
          203.2,
          185.42,
          198.12,
          203.2,
          208.28,
          180.34,
          190.5,
          200.66,
          182.88,
          195.58,
          195.58,
          195.58,
          205.74,
          203.2,
          198.12,
          208.28,
          195.58,
          213.36,
          200.66,
          200.66,
          195.58,
          193.04,
          205.74,
          200.66,
          208.28,
          198.12,
          200.66,
          200.66,
          190.5,
          208.28,
          208.28,
          203.2,
          195.58,
          218.44,
          208.28,
          190.5,
          190.5,
          205.74,
          200.66,
          200.66,
          205.74,
          203.2,
          185.42,
          187.96,
          195.58,
          208.28,
          190.5,
          200.66,
          187.96,
          210.82,
          195.58,
          198.12,
          198.12,
          205.74,
          210.82,
          193.04,
          195.58,
          185.42,
          187.96,
          193.04,
          193.04,
          205.74,
          198.12,
          187.96,
          182.88,
          193.04,
          195.58,
          195.58,
          203.2,
          185.42,
          208.28,
          198.12,
          195.58,
          198.12,
          198.12,
          187.96,
          203.2,
          205.74,
          205.74,
          180.34,
          175.26,
          185.42,
          203.2,
          208.28,
          208.28,
          193.04,
          195.58,
          213.36,
          195.58,
          185.42,
          190.5,
          195.58,
          208.28,
          193.04,
          180.34,
          208.28,
          195.58,
          210.82,
          187.96,
          195.58,
          195.58,
          208.28,
          203.2,
          208.28,
          205.74,
          193.04,
          203.2,
          195.58,
          198.12,
          193.04,
          203.2,
          215.9,
          203.2,
          190.5,
          205.74,
          190.5,
          198.12,
          203.2,
          198.12,
          213.36,
          187.96,
          182.88,
          195.58,
          195.58,
          182.88,
          200.66,
          193.04,
          208.28,
          198.12,
          195.58,
          198.12,
          198.12,
          190.5,
          195.58,
          210.82,
          200.66,
          208.28,
          193.04,
          185.42,
          193.04,
          205.74,
          200.66,
          203.2,
          200.66,
          203.2,
          195.58,
          200.66,
          198.12,
          205.74,
          195.58,
          185.42,
          200.66,
          203.2,
          185.42,
          203.2,
          200.66,
          198.12,
          185.42,
          190.5,
          198.12,
          185.42,
          185.42,
          190.5,
          198.12,
          190.5,
          208.28,
          190.5,
          200.66,
          203.2,
          213.36,
          203.2,
          203.2,
          226.06,
          205.74,
          190.5,
          210.82,
          195.58,
          213.36,
          182.88,
          203.2,
          200.66,
          193.04,
          198.12,
          213.36,
          203.2,
          193.04,
          205.74,
          205.74,
          198.12,
          193.04,
          195.58,
          203.2,
          213.36,
          210.82,
          203.2,
          182.88,
          203.2,
          210.82,
          198.12,
          195.58,
          190.5,
          198.12,
          195.58,
          195.58,
          203.2,
          195.58,
          193.04,
          193.04,
          208.28,
          200.66,
          195.58,
          193.04,
          198.12,
          198.12,
          185.42,
          198.12,
          203.2,
          198.12,
          195.58,
          208.28,
          213.36,
          182.88,
          182.88,
          200.66,
          203.2,
          200.66,
          208.28,
          198.12,
          200.66,
          185.42,
          177.8,
          195.58,
          203.2,
          182.88,
          205.74,
          205.74,
          198.12,
          195.58,
          190.5,
          208.28,
          210.82,
          205.74,
          200.66,
          200.66,
          203.2,
          193.04,
          205.74,
          205.74,
          200.66,
          190.5,
          208.28,
          190.5,
          220.98,
          185.42,
          208.28,
          205.74,
          185.42,
          200.66,
          203.2,
          182.88,
          205.74,
          187.96,
          210.82,
          203.2,
          193.04,
          185.42,
          200.66,
          213.36,
          205.74,
          208.28,
          195.58,
          198.12,
          193.04,
          187.96,
          203.2,
          185.42,
          193.04,
          193.04,
          195.58,
          190.5,
          198.12,
          205.74,
          203.2,
          195.58,
          198.12,
          200.66,
          200.66,
          210.82,
          185.42,
          182.88,
          198.12,
          213.36,
          200.66,
          203.2,
          185.42,
          210.82,
          200.66,
          203.2,
          195.58,
          195.58,
          210.82,
          200.66,
          182.88,
          198.12,
          185.42,
          195.58,
          203.2,
          200.66,
          190.5,
          198.12,
          208.28,
          198.12,
          185.42,
          208.28,
          200.66,
          198.12,
          213.36,
          195.58,
          213.36,
          187.96,
          200.66,
          210.82,
          218.44,
          190.5,
          210.82,
          195.58,
          190.5,
          205.74,
          208.28,
          208.28,
          195.58,
          205.74,
          210.82,
          205.74,
          187.96,
          213.36,
          205.74,
          213.36,
          195.58,
          208.28,
          190.5,
          200.66,
          208.28,
          195.58,
          218.44,
          195.58,
          200.66,
          193.04,
          190.5,
          190.5,
          210.82,
          195.58,
          195.58,
          190.5,
          195.58,
          203.2,
          190.5,
          195.58,
          200.66,
          190.5,
          203.2,
          187.96,
          195.58,
          193.04,
          203.2,
          210.82,
          205.74,
          208.28,
          198.12,
          203.2,
          210.82,
          180.34,
          182.88,
          200.66,
          205.74,
          195.58,
          205.74,
          203.2,
          213.36,
          213.36,
          180.34,
          193.04,
          185.42,
          205.74,
          200.66,
          190.5,
          198.12,
          195.58,
          195.58,
          198.12,
          193.04,
          190.5,
          195.58,
          193.04,
          200.66,
          210.82,
          198.12,
          210.82,
          190.5,
          200.66,
          208.28,
          187.96,
          198.12,
          193.04,
          203.2,
          195.58,
          203.2,
          210.82,
          190.5,
          213.36,
          177.8,
          205.74,
          187.96,
          200.66,
          185.42,
          213.36,
          195.58,
          200.66,
          210.82,
          185.42,
          208.28,
          193.04,
          200.66,
          200.66,
          198.12,
          205.74,
          200.66,
          198.12,
          208.28,
          208.28,
          198.12,
          190.5,
          205.74,
          193.04,
          190.5,
          195.58,
          195.58,
          208.28,
          185.42,
          190.5,
          198.12,
          200.66,
          208.28,
          198.12,
          195.58,
          198.12,
          177.8,
          210.82,
          205.74,
          195.58,
          210.82,
          198.12,
          193.04,
          210.82,
          195.58,
          182.88,
          198.12,
          203.2,
          193.04,
          203.2,
          203.2,
          190.5,
          203.2,
          187.96,
          195.58,
          193.04,
          185.42,
          200.66,
          198.12,
          203.2,
          213.36,
          205.74,
          195.58,
          190.5,
          213.36,
          200.66,
          200.66,
          195.58,
          190.5,
          203.2,
          195.58,
          213.36,
          193.04,
          203.2,
          203.2,
          175.26,
          182.88,
          213.36,
          190.5,
          190.5,
          200.66,
          203.2,
          195.58,
          213.36,
          205.74,
          198.12,
          193.04,
          208.28,
          190.5,
          203.2,
          215.9,
          185.42,
          195.58,
          193.04,
          205.74,
          208.28,
          190.5,
          198.12,
          203.2,
          187.96,
          195.58,
          195.58,
          190.5,
          210.82,
          203.2,
          205.74,
          223.52,
          208.28,
          198.12,
          200.66,
          218.44,
          190.5,
          190.5,
          203.2,
          182.88,
          203.2,
          198.12,
          195.58,
          213.36,
          193.04,
          205.74,
          205.74,
          187.96,
          193.04,
          198.12,
          190.5,
          195.58,
          203.2,
          203.2,
          203.2,
          185.42,
          205.74,
          200.66,
          190.5,
          193.04,
          182.88,
          195.58,
          195.58,
          193.04,
          205.74,
          203.2,
          198.12,
          213.36,
          208.28,
          193.04,
          213.36,
          200.66,
          200.66,
          208.28,
          200.66,
          200.66,
          208.28,
          198.12,
          200.66,
          200.66,
          190.5,
          208.28,
          193.04,
          200.66,
          198.12,
          203.2,
          215.9,
          190.5,
          208.28,
          190.5,
          210.82,
          210.82,
          198.12,
          180.34,
          198.12,
          195.58,
          198.12,
          208.28,
          203.2,
          185.42,
          198.12,
          195.58,
          208.28,
          190.5,
          203.2,
          187.96,
          210.82,
          195.58,
          198.12,
          208.28,
          205.74,
          210.82,
          203.2,
          193.04,
          195.58,
          205.74,
          190.5,
          187.96,
          193.04,
          205.74,
          195.58,
          187.96,
          193.04,
          208.28,
          203.2,
          203.2,
          208.28,
          195.58,
          185.42,
          200.66,
          198.12,
          198.12,
          187.96,
          205.74,
          205.74,
          180.34,
          182.88,
          203.2,
          208.28,
          198.12,
          208.28,
          200.66,
          195.58,
          210.82,
          187.96,
          185.42,
          190.5,
          210.82,
          193.04,
          180.34,
          208.28,
          195.58,
          193.04,
          210.82,
          187.96,
          195.58,
          195.58,
          195.58,
          210.82,
          203.2,
          187.96,
          208.28,
          190.5,
          200.66,
          200.66,
          203.2,
          198.12,
          213.36,
          205.74,
          203.2,
          193.04,
          193.04,
          198.12,
          193.04,
          203.2,
          215.9,
          203.2,
          190.5,
          190.5,
          187.96,
          200.66,
          193.04,
          198.12,
          203.2,
          198.12,
          208.28,
          187.96,
          198.12,
          195.58,
          200.66,
          203.2,
          187.96,
          198.12,
          190.5,
          190.5,
          208.28,
          200.66,
          205.74,
          203.2,
          200.66,
          203.2,
          195.58,
          200.66,
          198.12,
          205.74,
          195.58,
          185.42,
          200.66,
          193.04,
          203.2,
          185.42,
          203.2,
          200.66,
          205.74,
          198.12,
          185.42,
          203.2,
          185.42,
          190.5,
          193.04,
          198.12,
          185.42,
          185.42,
          205.74,
          200.66,
          208.28,
          193.04,
          195.58,
          193.04,
          203.2,
          182.88,
          205.74,
          205.74,
          198.12,
          195.58,
          190.5,
          200.66,
          203.2,
          195.58,
          190.5,
          187.96,
          195.58,
          187.96,
          182.88,
          208.28,
          203.2,
          205.74,
          193.04,
          213.36,
          203.2,
          193.04,
          208.28,
          205.74,
          198.12,
          193.04,
          198.12,
          208.28,
          177.8,
          185.42,
          185.42,
          200.66,
          198.12,
          190.5,
          195.58,
          210.82,
          200.66,
          208.28,
          185.42,
          203.2,
          226.06,
          205.74,
          193.04,
          200.66,
          195.58,
          193.04,
          198.12,
          198.12,
          185.42,
          203.2,
          198.12,
          193.04,
          195.58,
          208.28,
          213.36,
          182.88,
          195.58,
          200.66,
          203.2,
          200.66,
          208.28,
          198.12,
          198.12,
          210.82,
          210.82,
          205.74,
          198.12,
          193.04,
          195.58,
          198.12,
          208.28,
          200.66,
          200.66,
          203.2,
          193.04,
          205.74,
          205.74,
          200.66,
          190.5,
          195.58,
          205.74,
          185.42,
          208.28,
          190.5,
          220.98,
          205.74,
          185.42,
          208.28,
          182.88,
          187.96,
          210.82,
          198.12,
          198.12,
          193.04,
          185.42,
          187.96,
          182.88,
          200.66,
          210.82,
          193.04,
          180.34,
          203.2,
          193.04,
          195.58,
          205.74,
          195.58,
          203.2,
          193.04,
          195.58,
          190.5,
          198.12,
          205.74,
          203.2,
          200.66,
          198.12,
          200.66,
          210.82,
          185.42,
          198.12,
          210.82,
          200.66,
          203.2,
          190.5,
          210.82,
          200.66,
          203.2,
          195.58,
          195.58,
          193.04,
          203.2,
          210.82,
          213.36,
          193.04,
          208.28,
          198.12,
          185.42,
          185.42,
          208.28,
          200.66,
          198.12,
          213.36,
          195.58,
          213.36,
          187.96,
          200.66,
          210.82,
          218.44,
          190.5,
          210.82,
          200.66,
          195.58,
          198.12,
          195.58,
          208.28,
          205.74,
          208.28,
          210.82,
          213.36,
          198.12,
          187.96,
          203.2,
          210.82,
          195.58,
          205.74,
          213.36,
          208.28,
          198.12,
          185.42,
          200.66,
          190.5,
          200.66,
          208.28,
          195.58,
          218.44,
          185.42,
          195.58,
          193.04,
          203.2,
          190.5,
          205.74,
          205.74,
          210.82,
          190.5,
          190.5,
          205.74,
          177.8,
          208.28,
          205.74,
          210.82,
          193.04,
          210.82,
          195.58,
          193.04,
          190.5,
          200.66,
          195.58,
          203.2,
          203.2
         ],
         "y0": " ",
         "yaxis": "y"
        }
       ],
       "layout": {
        "boxmode": "group",
        "legend": {
         "tracegroupgap": 0
        },
        "margin": {
         "t": 60
        },
        "template": {
         "data": {
          "bar": [
           {
            "error_x": {
             "color": "#2a3f5f"
            },
            "error_y": {
             "color": "#2a3f5f"
            },
            "marker": {
             "line": {
              "color": "#E5ECF6",
              "width": 0.5
             },
             "pattern": {
              "fillmode": "overlay",
              "size": 10,
              "solidity": 0.2
             }
            },
            "type": "bar"
           }
          ],
          "barpolar": [
           {
            "marker": {
             "line": {
              "color": "#E5ECF6",
              "width": 0.5
             },
             "pattern": {
              "fillmode": "overlay",
              "size": 10,
              "solidity": 0.2
             }
            },
            "type": "barpolar"
           }
          ],
          "carpet": [
           {
            "aaxis": {
             "endlinecolor": "#2a3f5f",
             "gridcolor": "white",
             "linecolor": "white",
             "minorgridcolor": "white",
             "startlinecolor": "#2a3f5f"
            },
            "baxis": {
             "endlinecolor": "#2a3f5f",
             "gridcolor": "white",
             "linecolor": "white",
             "minorgridcolor": "white",
             "startlinecolor": "#2a3f5f"
            },
            "type": "carpet"
           }
          ],
          "choropleth": [
           {
            "colorbar": {
             "outlinewidth": 0,
             "ticks": ""
            },
            "type": "choropleth"
           }
          ],
          "contour": [
           {
            "colorbar": {
             "outlinewidth": 0,
             "ticks": ""
            },
            "colorscale": [
             [
              0,
              "#0d0887"
             ],
             [
              0.1111111111111111,
              "#46039f"
             ],
             [
              0.2222222222222222,
              "#7201a8"
             ],
             [
              0.3333333333333333,
              "#9c179e"
             ],
             [
              0.4444444444444444,
              "#bd3786"
             ],
             [
              0.5555555555555556,
              "#d8576b"
             ],
             [
              0.6666666666666666,
              "#ed7953"
             ],
             [
              0.7777777777777778,
              "#fb9f3a"
             ],
             [
              0.8888888888888888,
              "#fdca26"
             ],
             [
              1,
              "#f0f921"
             ]
            ],
            "type": "contour"
           }
          ],
          "contourcarpet": [
           {
            "colorbar": {
             "outlinewidth": 0,
             "ticks": ""
            },
            "type": "contourcarpet"
           }
          ],
          "heatmap": [
           {
            "colorbar": {
             "outlinewidth": 0,
             "ticks": ""
            },
            "colorscale": [
             [
              0,
              "#0d0887"
             ],
             [
              0.1111111111111111,
              "#46039f"
             ],
             [
              0.2222222222222222,
              "#7201a8"
             ],
             [
              0.3333333333333333,
              "#9c179e"
             ],
             [
              0.4444444444444444,
              "#bd3786"
             ],
             [
              0.5555555555555556,
              "#d8576b"
             ],
             [
              0.6666666666666666,
              "#ed7953"
             ],
             [
              0.7777777777777778,
              "#fb9f3a"
             ],
             [
              0.8888888888888888,
              "#fdca26"
             ],
             [
              1,
              "#f0f921"
             ]
            ],
            "type": "heatmap"
           }
          ],
          "heatmapgl": [
           {
            "colorbar": {
             "outlinewidth": 0,
             "ticks": ""
            },
            "colorscale": [
             [
              0,
              "#0d0887"
             ],
             [
              0.1111111111111111,
              "#46039f"
             ],
             [
              0.2222222222222222,
              "#7201a8"
             ],
             [
              0.3333333333333333,
              "#9c179e"
             ],
             [
              0.4444444444444444,
              "#bd3786"
             ],
             [
              0.5555555555555556,
              "#d8576b"
             ],
             [
              0.6666666666666666,
              "#ed7953"
             ],
             [
              0.7777777777777778,
              "#fb9f3a"
             ],
             [
              0.8888888888888888,
              "#fdca26"
             ],
             [
              1,
              "#f0f921"
             ]
            ],
            "type": "heatmapgl"
           }
          ],
          "histogram": [
           {
            "marker": {
             "pattern": {
              "fillmode": "overlay",
              "size": 10,
              "solidity": 0.2
             }
            },
            "type": "histogram"
           }
          ],
          "histogram2d": [
           {
            "colorbar": {
             "outlinewidth": 0,
             "ticks": ""
            },
            "colorscale": [
             [
              0,
              "#0d0887"
             ],
             [
              0.1111111111111111,
              "#46039f"
             ],
             [
              0.2222222222222222,
              "#7201a8"
             ],
             [
              0.3333333333333333,
              "#9c179e"
             ],
             [
              0.4444444444444444,
              "#bd3786"
             ],
             [
              0.5555555555555556,
              "#d8576b"
             ],
             [
              0.6666666666666666,
              "#ed7953"
             ],
             [
              0.7777777777777778,
              "#fb9f3a"
             ],
             [
              0.8888888888888888,
              "#fdca26"
             ],
             [
              1,
              "#f0f921"
             ]
            ],
            "type": "histogram2d"
           }
          ],
          "histogram2dcontour": [
           {
            "colorbar": {
             "outlinewidth": 0,
             "ticks": ""
            },
            "colorscale": [
             [
              0,
              "#0d0887"
             ],
             [
              0.1111111111111111,
              "#46039f"
             ],
             [
              0.2222222222222222,
              "#7201a8"
             ],
             [
              0.3333333333333333,
              "#9c179e"
             ],
             [
              0.4444444444444444,
              "#bd3786"
             ],
             [
              0.5555555555555556,
              "#d8576b"
             ],
             [
              0.6666666666666666,
              "#ed7953"
             ],
             [
              0.7777777777777778,
              "#fb9f3a"
             ],
             [
              0.8888888888888888,
              "#fdca26"
             ],
             [
              1,
              "#f0f921"
             ]
            ],
            "type": "histogram2dcontour"
           }
          ],
          "mesh3d": [
           {
            "colorbar": {
             "outlinewidth": 0,
             "ticks": ""
            },
            "type": "mesh3d"
           }
          ],
          "parcoords": [
           {
            "line": {
             "colorbar": {
              "outlinewidth": 0,
              "ticks": ""
             }
            },
            "type": "parcoords"
           }
          ],
          "pie": [
           {
            "automargin": true,
            "type": "pie"
           }
          ],
          "scatter": [
           {
            "marker": {
             "colorbar": {
              "outlinewidth": 0,
              "ticks": ""
             }
            },
            "type": "scatter"
           }
          ],
          "scatter3d": [
           {
            "line": {
             "colorbar": {
              "outlinewidth": 0,
              "ticks": ""
             }
            },
            "marker": {
             "colorbar": {
              "outlinewidth": 0,
              "ticks": ""
             }
            },
            "type": "scatter3d"
           }
          ],
          "scattercarpet": [
           {
            "marker": {
             "colorbar": {
              "outlinewidth": 0,
              "ticks": ""
             }
            },
            "type": "scattercarpet"
           }
          ],
          "scattergeo": [
           {
            "marker": {
             "colorbar": {
              "outlinewidth": 0,
              "ticks": ""
             }
            },
            "type": "scattergeo"
           }
          ],
          "scattergl": [
           {
            "marker": {
             "colorbar": {
              "outlinewidth": 0,
              "ticks": ""
             }
            },
            "type": "scattergl"
           }
          ],
          "scattermapbox": [
           {
            "marker": {
             "colorbar": {
              "outlinewidth": 0,
              "ticks": ""
             }
            },
            "type": "scattermapbox"
           }
          ],
          "scatterpolar": [
           {
            "marker": {
             "colorbar": {
              "outlinewidth": 0,
              "ticks": ""
             }
            },
            "type": "scatterpolar"
           }
          ],
          "scatterpolargl": [
           {
            "marker": {
             "colorbar": {
              "outlinewidth": 0,
              "ticks": ""
             }
            },
            "type": "scatterpolargl"
           }
          ],
          "scatterternary": [
           {
            "marker": {
             "colorbar": {
              "outlinewidth": 0,
              "ticks": ""
             }
            },
            "type": "scatterternary"
           }
          ],
          "surface": [
           {
            "colorbar": {
             "outlinewidth": 0,
             "ticks": ""
            },
            "colorscale": [
             [
              0,
              "#0d0887"
             ],
             [
              0.1111111111111111,
              "#46039f"
             ],
             [
              0.2222222222222222,
              "#7201a8"
             ],
             [
              0.3333333333333333,
              "#9c179e"
             ],
             [
              0.4444444444444444,
              "#bd3786"
             ],
             [
              0.5555555555555556,
              "#d8576b"
             ],
             [
              0.6666666666666666,
              "#ed7953"
             ],
             [
              0.7777777777777778,
              "#fb9f3a"
             ],
             [
              0.8888888888888888,
              "#fdca26"
             ],
             [
              1,
              "#f0f921"
             ]
            ],
            "type": "surface"
           }
          ],
          "table": [
           {
            "cells": {
             "fill": {
              "color": "#EBF0F8"
             },
             "line": {
              "color": "white"
             }
            },
            "header": {
             "fill": {
              "color": "#C8D4E3"
             },
             "line": {
              "color": "white"
             }
            },
            "type": "table"
           }
          ]
         },
         "layout": {
          "annotationdefaults": {
           "arrowcolor": "#2a3f5f",
           "arrowhead": 0,
           "arrowwidth": 1
          },
          "autotypenumbers": "strict",
          "coloraxis": {
           "colorbar": {
            "outlinewidth": 0,
            "ticks": ""
           }
          },
          "colorscale": {
           "diverging": [
            [
             0,
             "#8e0152"
            ],
            [
             0.1,
             "#c51b7d"
            ],
            [
             0.2,
             "#de77ae"
            ],
            [
             0.3,
             "#f1b6da"
            ],
            [
             0.4,
             "#fde0ef"
            ],
            [
             0.5,
             "#f7f7f7"
            ],
            [
             0.6,
             "#e6f5d0"
            ],
            [
             0.7,
             "#b8e186"
            ],
            [
             0.8,
             "#7fbc41"
            ],
            [
             0.9,
             "#4d9221"
            ],
            [
             1,
             "#276419"
            ]
           ],
           "sequential": [
            [
             0,
             "#0d0887"
            ],
            [
             0.1111111111111111,
             "#46039f"
            ],
            [
             0.2222222222222222,
             "#7201a8"
            ],
            [
             0.3333333333333333,
             "#9c179e"
            ],
            [
             0.4444444444444444,
             "#bd3786"
            ],
            [
             0.5555555555555556,
             "#d8576b"
            ],
            [
             0.6666666666666666,
             "#ed7953"
            ],
            [
             0.7777777777777778,
             "#fb9f3a"
            ],
            [
             0.8888888888888888,
             "#fdca26"
            ],
            [
             1,
             "#f0f921"
            ]
           ],
           "sequentialminus": [
            [
             0,
             "#0d0887"
            ],
            [
             0.1111111111111111,
             "#46039f"
            ],
            [
             0.2222222222222222,
             "#7201a8"
            ],
            [
             0.3333333333333333,
             "#9c179e"
            ],
            [
             0.4444444444444444,
             "#bd3786"
            ],
            [
             0.5555555555555556,
             "#d8576b"
            ],
            [
             0.6666666666666666,
             "#ed7953"
            ],
            [
             0.7777777777777778,
             "#fb9f3a"
            ],
            [
             0.8888888888888888,
             "#fdca26"
            ],
            [
             1,
             "#f0f921"
            ]
           ]
          },
          "colorway": [
           "#636efa",
           "#EF553B",
           "#00cc96",
           "#ab63fa",
           "#FFA15A",
           "#19d3f3",
           "#FF6692",
           "#B6E880",
           "#FF97FF",
           "#FECB52"
          ],
          "font": {
           "color": "#2a3f5f"
          },
          "geo": {
           "bgcolor": "white",
           "lakecolor": "white",
           "landcolor": "#E5ECF6",
           "showlakes": true,
           "showland": true,
           "subunitcolor": "white"
          },
          "hoverlabel": {
           "align": "left"
          },
          "hovermode": "closest",
          "mapbox": {
           "style": "light"
          },
          "paper_bgcolor": "white",
          "plot_bgcolor": "#E5ECF6",
          "polar": {
           "angularaxis": {
            "gridcolor": "white",
            "linecolor": "white",
            "ticks": ""
           },
           "bgcolor": "#E5ECF6",
           "radialaxis": {
            "gridcolor": "white",
            "linecolor": "white",
            "ticks": ""
           }
          },
          "scene": {
           "xaxis": {
            "backgroundcolor": "#E5ECF6",
            "gridcolor": "white",
            "gridwidth": 2,
            "linecolor": "white",
            "showbackground": true,
            "ticks": "",
            "zerolinecolor": "white"
           },
           "yaxis": {
            "backgroundcolor": "#E5ECF6",
            "gridcolor": "white",
            "gridwidth": 2,
            "linecolor": "white",
            "showbackground": true,
            "ticks": "",
            "zerolinecolor": "white"
           },
           "zaxis": {
            "backgroundcolor": "#E5ECF6",
            "gridcolor": "white",
            "gridwidth": 2,
            "linecolor": "white",
            "showbackground": true,
            "ticks": "",
            "zerolinecolor": "white"
           }
          },
          "shapedefaults": {
           "line": {
            "color": "#2a3f5f"
           }
          },
          "ternary": {
           "aaxis": {
            "gridcolor": "white",
            "linecolor": "white",
            "ticks": ""
           },
           "baxis": {
            "gridcolor": "white",
            "linecolor": "white",
            "ticks": ""
           },
           "bgcolor": "#E5ECF6",
           "caxis": {
            "gridcolor": "white",
            "linecolor": "white",
            "ticks": ""
           }
          },
          "title": {
           "x": 0.05
          },
          "xaxis": {
           "automargin": true,
           "gridcolor": "white",
           "linecolor": "white",
           "ticks": "",
           "title": {
            "standoff": 15
           },
           "zerolinecolor": "white",
           "zerolinewidth": 2
          },
          "yaxis": {
           "automargin": true,
           "gridcolor": "white",
           "linecolor": "white",
           "ticks": "",
           "title": {
            "standoff": 15
           },
           "zerolinecolor": "white",
           "zerolinewidth": 2
          }
         }
        },
        "xaxis": {
         "anchor": "y",
         "domain": [
          0,
          1
         ]
        },
        "yaxis": {
         "anchor": "x",
         "domain": [
          0,
          1
         ],
         "title": {
          "text": "player_height"
         }
        }
       }
      }
     },
     "metadata": {},
     "output_type": "display_data"
    }
   ],
   "source": [
    "import plotly.express as px\n",
    "fig = px.box(df, y='player_height', hover_data=['player_name'])\n",
    "fig.show()"
   ]
  },
  {
   "cell_type": "code",
   "execution_count": 120,
   "metadata": {},
   "outputs": [
    {
     "data": {
      "application/vnd.plotly.v1+json": {
       "config": {
        "plotlyServerURL": "https://plot.ly"
       },
       "data": [
        {
         "alignmentgroup": "True",
         "customdata": [
          [
           "Travis Knight"
          ],
          [
           "Malik Sealy"
          ],
          [
           "Loy Vaught"
          ],
          [
           "Nick Van Exel"
          ],
          [
           "Pooh Richardson"
          ],
          [
           "Lorenzen Wright"
          ],
          [
           "Larry Krystkowiak"
          ],
          [
           "Lamond Murray"
          ],
          [
           "Kobe Bryant"
          ],
          [
           "Kevin Duckworth"
          ],
          [
           "Terry Dehere"
          ],
          [
           "Stanley Roberts"
          ],
          [
           "Rodney Rogers"
          ],
          [
           "Robert Horry"
          ],
          [
           "Richard Manning"
          ],
          [
           "Shaquille O'Neal"
          ],
          [
           "Sean Rooks"
          ],
          [
           "Jerome Kersey"
          ],
          [
           "Byron Scott"
          ],
          [
           "Darrick Martin"
          ],
          [
           "Corie Blount"
          ],
          [
           "Brent Barry"
          ],
          [
           "Bo Outlaw"
          ],
          [
           "George McCloud"
          ],
          [
           "Derek Fisher"
          ],
          [
           "Eric Piatkowski"
          ],
          [
           "Dwayne Schintzius"
          ],
          [
           "Eddie Jones"
          ],
          [
           "Elden Campbell"
          ],
          [
           "Eddie Jones"
          ],
          [
           "Elden Campbell"
          ],
          [
           "Eric Piatkowski"
          ],
          [
           "Derek Fisher"
          ],
          [
           "Darrick Martin"
          ],
          [
           "Ike Austin"
          ],
          [
           "James Collins"
          ],
          [
           "James Robinson"
          ],
          [
           "Corie Blount"
          ],
          [
           "Charles Smith"
          ],
          [
           "Sean Rooks"
          ],
          [
           "Shaquille O'Neal"
          ],
          [
           "Shea Seals"
          ],
          [
           "Rick Fox"
          ],
          [
           "Robert Horry"
          ],
          [
           "Rodney Rogers"
          ],
          [
           "Stojko Vrankovic"
          ],
          [
           "Kobe Bryant"
          ],
          [
           "Lamond Murray"
          ],
          [
           "Lorenzen Wright"
          ],
          [
           "Jon Barry"
          ],
          [
           "Keith Closs"
          ],
          [
           "Loy Vaught"
          ],
          [
           "Nick Van Exel"
          ],
          [
           "Pooh Richardson"
          ],
          [
           "Mario Bennett"
          ],
          [
           "Maurice Taylor"
          ],
          [
           "Darrick Martin"
          ],
          [
           "Dennis Rodman"
          ],
          [
           "Charles Smith"
          ],
          [
           "Derek Fisher"
          ],
          [
           "Glen Rice"
          ],
          [
           "Eric Piatkowski"
          ],
          [
           "Derek Harper"
          ],
          [
           "Tyronn Lue"
          ],
          [
           "Tyrone Nesby"
          ],
          [
           "Troy Hudson"
          ],
          [
           "Travis Knight"
          ],
          [
           "Brian Skinner"
          ],
          [
           "Pooh Richardson"
          ],
          [
           "Maurice Taylor"
          ],
          [
           "Michael Olowokandi"
          ],
          [
           "Rick Fox"
          ],
          [
           "Shaquille O'Neal"
          ],
          [
           "Sherman Douglas"
          ],
          [
           "Stojko Vrankovic"
          ],
          [
           "Sean Rooks"
          ],
          [
           "Robert Horry"
          ],
          [
           "Rodney Rogers"
          ],
          [
           "Ruben Patterson"
          ],
          [
           "Sam Jacobson"
          ],
          [
           "J.R. Reid"
          ],
          [
           "Lorenzen Wright"
          ],
          [
           "Lamond Murray"
          ],
          [
           "Kobe Bryant"
          ],
          [
           "Keith Closs"
          ],
          [
           "Michael Olowokandi"
          ],
          [
           "Maurice Taylor"
          ],
          [
           "Keith Closs"
          ],
          [
           "John Salley"
          ],
          [
           "John Celestand"
          ],
          [
           "Mario Bennett"
          ],
          [
           "Marty Conlon"
          ],
          [
           "Lamar Odom"
          ],
          [
           "Kobe Bryant"
          ],
          [
           "Tyronn Lue"
          ],
          [
           "Tyrone Nesby"
          ],
          [
           "Troy Hudson"
          ],
          [
           "Travis Knight"
          ],
          [
           "Robert Horry"
          ],
          [
           "Rick Fox"
          ],
          [
           "Pete Chilcutt"
          ],
          [
           "Shaquille O'Neal"
          ],
          [
           "Ron Harper"
          ],
          [
           "Derek Fisher"
          ],
          [
           "Devean George"
          ],
          [
           "Derek Anderson"
          ],
          [
           "Jeff McInnis"
          ],
          [
           "Eric Murdock"
          ],
          [
           "Eric Piatkowski"
          ],
          [
           "Etdrick Bohannon"
          ],
          [
           "Glen Rice"
          ],
          [
           "A.C. Green"
          ],
          [
           "Anthony Avent"
          ],
          [
           "Charles R. Jones"
          ],
          [
           "Brian Shaw"
          ],
          [
           "Brian Skinner"
          ],
          [
           "Mike Penberthy"
          ],
          [
           "Mark Madsen"
          ],
          [
           "Michael Olowokandi"
          ],
          [
           "Robert Horry"
          ],
          [
           "Ron Harper"
          ],
          [
           "Rick Fox"
          ],
          [
           "Quentin Richardson"
          ],
          [
           "Isaiah Rider"
          ],
          [
           "Jeff McInnis"
          ],
          [
           "Lamar Odom"
          ],
          [
           "Keyon Dooling"
          ],
          [
           "Kobe Bryant"
          ],
          [
           "Tyronn Lue"
          ],
          [
           "Zendon Hamilton"
          ],
          [
           "Corey Maggette"
          ],
          [
           "Brian Skinner"
          ],
          [
           "Brian Shaw"
          ],
          [
           "Cherokee Parks"
          ],
          [
           "Horace Grant"
          ],
          [
           "Greg Foster"
          ],
          [
           "Sean Rooks"
          ],
          [
           "Shaquille O'Neal"
          ],
          [
           "Slava Medvedenko"
          ],
          [
           "Derek Fisher"
          ],
          [
           "Darius Miles"
          ],
          [
           "Derek Strong"
          ],
          [
           "Eric Piatkowski"
          ],
          [
           "Earl Boykins"
          ],
          [
           "Devean George"
          ],
          [
           "Tremaine Fowlkes"
          ],
          [
           "Slava Medvedenko"
          ],
          [
           "Robert Horry"
          ],
          [
           "Obinna Ekezie"
          ],
          [
           "Quentin Richardson"
          ],
          [
           "Rick Fox"
          ],
          [
           "Shaquille O'Neal"
          ],
          [
           "Sean Rooks"
          ],
          [
           "Samaki Walker"
          ],
          [
           "Jelani McCoy"
          ],
          [
           "Jeff McInnis"
          ],
          [
           "Harold Jamison"
          ],
          [
           "Mark Madsen"
          ],
          [
           "Michael Olowokandi"
          ],
          [
           "Mitch Richmond"
          ],
          [
           "Mike Penberthy"
          ],
          [
           "Keyon Dooling"
          ],
          [
           "Kobe Bryant"
          ],
          [
           "Lindsey Hunter"
          ],
          [
           "Lamar Odom"
          ],
          [
           "Brian Shaw"
          ],
          [
           "Darius Miles"
          ],
          [
           "Corey Maggette"
          ],
          [
           "Earl Boykins"
          ],
          [
           "Doug Overton"
          ],
          [
           "Devean George"
          ],
          [
           "Eric Piatkowski"
          ],
          [
           "Elton Brand"
          ],
          [
           "Eldridge Recasner"
          ],
          [
           "Derek Fisher"
          ],
          [
           "Michael Olowokandi"
          ],
          [
           "Melvin Ely"
          ],
          [
           "Quentin Richardson"
          ],
          [
           "Marko Jaric"
          ],
          [
           "Mark Madsen"
          ],
          [
           "Keyon Dooling"
          ],
          [
           "Kareem Rush"
          ],
          [
           "Kobe Bryant"
          ],
          [
           "Lamar Odom"
          ],
          [
           "Tracy Murray"
          ],
          [
           "Tremaine Fowlkes"
          ],
          [
           "Wang Zhi-zhi"
          ],
          [
           "Robert Horry"
          ],
          [
           "Rick Fox"
          ],
          [
           "Soumaila Samake"
          ],
          [
           "Slava Medvedenko"
          ],
          [
           "Shaquille O'Neal"
          ],
          [
           "Sean Rooks"
          ],
          [
           "Samaki Walker"
          ],
          [
           "Cherokee Parks"
          ],
          [
           "Chris Wilcox"
          ],
          [
           "Corey Maggette"
          ],
          [
           "Brian Shaw"
          ],
          [
           "Andre Miller"
          ],
          [
           "Jannero Pargo"
          ],
          [
           "Devean George"
          ],
          [
           "Derek Fisher"
          ],
          [
           "Elton Brand"
          ],
          [
           "Eric Piatkowski"
          ],
          [
           "Melvin Ely"
          ],
          [
           "Quentin Richardson"
          ],
          [
           "Predrag Drobnjak"
          ],
          [
           "Olden Polynice"
          ],
          [
           "Randy Livingston"
          ],
          [
           "Kobe Bryant"
          ],
          [
           "Keyon Dooling"
          ],
          [
           "Matt Barnes"
          ],
          [
           "Marko Jaric"
          ],
          [
           "Luke Walton"
          ],
          [
           "Shaquille O'Neal"
          ],
          [
           "Slava Medvedenko"
          ],
          [
           "Rick Fox"
          ],
          [
           "Corey Maggette"
          ],
          [
           "Chris Wilcox"
          ],
          [
           "Chris Kaman"
          ],
          [
           "Derek Fisher"
          ],
          [
           "Bryon Russell"
          ],
          [
           "Brian Cook"
          ],
          [
           "Bobby Simmons"
          ],
          [
           "Jamal Sampson"
          ],
          [
           "Karl Malone"
          ],
          [
           "Kareem Rush"
          ],
          [
           "Elton Brand"
          ],
          [
           "Eddie House"
          ],
          [
           "Doug Overton"
          ],
          [
           "Devean George"
          ],
          [
           "Ime Udoka"
          ],
          [
           "Horace Grant"
          ],
          [
           "Gary Payton"
          ],
          [
           "Glen Rice"
          ],
          [
           "Marko Jaric"
          ],
          [
           "Mikki Moore"
          ],
          [
           "Kobe Bryant"
          ],
          [
           "Kirk Penney"
          ],
          [
           "Kerry Kittles"
          ],
          [
           "Kenny Anderson"
          ],
          [
           "Lamar Odom"
          ],
          [
           "Mamadou N'diaye"
          ],
          [
           "Luke Walton"
          ],
          [
           "Lionel Chalmers"
          ],
          [
           "Tony Bobbitt"
          ],
          [
           "Tierre Brown"
          ],
          [
           "Zeljko Rebraca"
          ],
          [
           "Vlade Divac"
          ],
          [
           "Rick Brunson"
          ],
          [
           "Quinton Ross"
          ],
          [
           "Slava Medvedenko"
          ],
          [
           "Shaun Livingston"
          ],
          [
           "Sasha Vujacic"
          ],
          [
           "Jumaine Jones"
          ],
          [
           "Chucky Atkins"
          ],
          [
           "Chris Wilcox"
          ],
          [
           "Chris Mihm"
          ],
          [
           "Chris Kaman"
          ],
          [
           "Caron Butler"
          ],
          [
           "Corey Maggette"
          ],
          [
           "Darrick Martin"
          ],
          [
           "Brian Grant"
          ],
          [
           "Brian Cook"
          ],
          [
           "Bobby Simmons"
          ],
          [
           "Devean George"
          ],
          [
           "Elton Brand"
          ],
          [
           "Elton Brand"
          ],
          [
           "Aaron McKie"
          ],
          [
           "Jim Jackson"
          ],
          [
           "James Singleton"
          ],
          [
           "Cuttino Mobley"
          ],
          [
           "Corey Maggette"
          ],
          [
           "Chris Mihm"
          ],
          [
           "Chris Kaman"
          ],
          [
           "Daniel Ewing"
          ],
          [
           "Devin Green"
          ],
          [
           "Devean George"
          ],
          [
           "Anthony Goldwire"
          ],
          [
           "Andrew Bynum"
          ],
          [
           "Brian Cook"
          ],
          [
           "Boniface Ndong"
          ],
          [
           "Ronny Turiaf"
          ],
          [
           "Sam Cassell"
          ],
          [
           "Sasha Vujacic"
          ],
          [
           "Quinton Ross"
          ],
          [
           "Vin Baker"
          ],
          [
           "Vladimir Radmanovic"
          ],
          [
           "Von Wafer"
          ],
          [
           "Walter McCarty"
          ],
          [
           "Yaroslav Korolev"
          ],
          [
           "Zeljko Rebraca"
          ],
          [
           "Shaun Livingston"
          ],
          [
           "Slava Medvedenko"
          ],
          [
           "Smush Parker"
          ],
          [
           "Kwame Brown"
          ],
          [
           "Lamar Odom"
          ],
          [
           "Laron Profit"
          ],
          [
           "Luke Walton"
          ],
          [
           "Kobe Bryant"
          ],
          [
           "Andrew Bynum"
          ],
          [
           "Cuttino Mobley"
          ],
          [
           "Corey Maggette"
          ],
          [
           "Daniel Ewing"
          ],
          [
           "Chris Kaman"
          ],
          [
           "Brian Cook"
          ],
          [
           "Vladimir Radmanovic"
          ],
          [
           "Quinton Ross"
          ],
          [
           "Paul Davis"
          ],
          [
           "Luke Walton"
          ],
          [
           "Maurice Evans"
          ],
          [
           "Smush Parker"
          ],
          [
           "Tim Thomas"
          ],
          [
           "Shaun Livingston"
          ],
          [
           "Ronny Turiaf"
          ],
          [
           "Shammond Williams"
          ],
          [
           "Sasha Vujacic"
          ],
          [
           "Sam Cassell"
          ],
          [
           "Elton Brand"
          ],
          [
           "Doug Christie"
          ],
          [
           "Von Wafer"
          ],
          [
           "Aaron McKie"
          ],
          [
           "Aaron Williams"
          ],
          [
           "Alvin Williams"
          ],
          [
           "Yaroslav Korolev"
          ],
          [
           "Will Conroy"
          ],
          [
           "Lamar Odom"
          ],
          [
           "Kwame Brown"
          ],
          [
           "Kobe Bryant"
          ],
          [
           "James Singleton"
          ],
          [
           "Jordan Farmar"
          ],
          [
           "Jason Hart"
          ],
          [
           "Quinton Ross"
          ],
          [
           "Richie Frahm"
          ],
          [
           "Josh Powell"
          ],
          [
           "Jordan Farmar"
          ],
          [
           "Smush Parker"
          ],
          [
           "Ronny Turiaf"
          ],
          [
           "Ruben Patterson"
          ],
          [
           "Sasha Vujacic"
          ],
          [
           "Paul Davis"
          ],
          [
           "Pau Gasol"
          ],
          [
           "Nick Fazekas"
          ],
          [
           "Lamar Odom"
          ],
          [
           "Kobe Bryant"
          ],
          [
           "Marcus Williams"
          ],
          [
           "Luke Walton"
          ],
          [
           "Tim Thomas"
          ],
          [
           "Al Thornton"
          ],
          [
           "Andre Barrett"
          ],
          [
           "Andrew Bynum"
          ],
          [
           "Dan Dickau"
          ],
          [
           "DJ Mbenga"
          ],
          [
           "Cuttino Mobley"
          ],
          [
           "Corey Maggette"
          ],
          [
           "Coby Karl"
          ],
          [
           "Aaron Williams"
          ],
          [
           "Chris Kaman"
          ],
          [
           "Chris Mihm"
          ],
          [
           "Brevin Knight"
          ],
          [
           "Ira Newble"
          ],
          [
           "Trevor Ariza"
          ],
          [
           "Vladimir Radmanovic"
          ],
          [
           "Guillermo Diaz"
          ],
          [
           "Derek Fisher"
          ],
          [
           "Elton Brand"
          ],
          [
           "Mardy Collins"
          ],
          [
           "Paul Davis"
          ],
          [
           "Josh Powell"
          ],
          [
           "Pau Gasol"
          ],
          [
           "Mike Taylor"
          ],
          [
           "Lamar Odom"
          ],
          [
           "Kobe Bryant"
          ],
          [
           "Marcus Camby"
          ],
          [
           "Luke Walton"
          ],
          [
           "Steve Novak"
          ],
          [
           "Sun Sun"
          ],
          [
           "Zach Randolph"
          ],
          [
           "Trevor Ariza"
          ],
          [
           "Ricky Davis"
          ],
          [
           "Shannon Brown"
          ],
          [
           "Sasha Vujacic"
          ],
          [
           "Chris Kaman"
          ],
          [
           "Brian Skinner"
          ],
          [
           "Chris Mihm"
          ],
          [
           "DJ Mbenga"
          ],
          [
           "Cuttino Mobley"
          ],
          [
           "Andrew Bynum"
          ],
          [
           "Alex Acker"
          ],
          [
           "Al Thornton"
          ],
          [
           "Adam Morrison"
          ],
          [
           "Baron Davis"
          ],
          [
           "DeAndre Jordan"
          ],
          [
           "Jordan Farmar"
          ],
          [
           "Derek Fisher"
          ],
          [
           "Eric Gordon"
          ],
          [
           "Fred Jones"
          ],
          [
           "Rasual Butler"
          ],
          [
           "Ricky Davis"
          ],
          [
           "Pau Gasol"
          ],
          [
           "Steve Novak"
          ],
          [
           "Steve Blake"
          ],
          [
           "Travis Outlaw"
          ],
          [
           "Sasha Vujacic"
          ],
          [
           "Shannon Brown"
          ],
          [
           "Luke Walton"
          ],
          [
           "Lamar Odom"
          ],
          [
           "Metta World Peace"
          ],
          [
           "Mardy Collins"
          ],
          [
           "Kobe Bryant"
          ],
          [
           "Kareem Rush"
          ],
          [
           "Josh Powell"
          ],
          [
           "Jordan Farmar"
          ],
          [
           "DeAndre Jordan"
          ],
          [
           "Chris Kaman"
          ],
          [
           "DJ Mbenga"
          ],
          [
           "Craig Smith"
          ],
          [
           "Brian Skinner"
          ],
          [
           "Andrew Bynum"
          ],
          [
           "Adam Morrison"
          ],
          [
           "Bobby Brown"
          ],
          [
           "Baron Davis"
          ],
          [
           "JamesOn Curry"
          ],
          [
           "Drew Gooden"
          ],
          [
           "Derek Fisher"
          ],
          [
           "Eric Gordon"
          ],
          [
           "Matt Barnes"
          ],
          [
           "Luke Walton"
          ],
          [
           "Metta World Peace"
          ],
          [
           "Mo Williams"
          ],
          [
           "Lamar Odom"
          ],
          [
           "Kobe Bryant"
          ],
          [
           "Pau Gasol"
          ],
          [
           "Theo Ratliff"
          ],
          [
           "Steve Blake"
          ],
          [
           "Willie Warren"
          ],
          [
           "Trey Johnson"
          ],
          [
           "Randy Foye"
          ],
          [
           "Shannon Brown"
          ],
          [
           "Ryan Gomes"
          ],
          [
           "Joe Smith"
          ],
          [
           "Chris Kaman"
          ],
          [
           "Craig Smith"
          ],
          [
           "Andrew Bynum"
          ],
          [
           "Al-Farouq Aminu"
          ],
          [
           "Brian Cook"
          ],
          [
           "Blake Griffin"
          ],
          [
           "DeAndre Jordan"
          ],
          [
           "Jamario Moon"
          ],
          [
           "Ike Diogu"
          ],
          [
           "Devin Ebanks"
          ],
          [
           "Derrick Caracter"
          ],
          [
           "Derek Fisher"
          ],
          [
           "Eric Bledsoe"
          ],
          [
           "Eric Gordon"
          ],
          [
           "Chris Paul"
          ],
          [
           "Christian Eyenga"
          ],
          [
           "Andrew Bynum"
          ],
          [
           "Caron Butler"
          ],
          [
           "Andrew Goudelock"
          ],
          [
           "Blake Griffin"
          ],
          [
           "Bobby Simmons"
          ],
          [
           "Darius Morris"
          ],
          [
           "Devin Ebanks"
          ],
          [
           "DeAndre Jordan"
          ],
          [
           "Eric Bledsoe"
          ],
          [
           "Chauncey Billups"
          ],
          [
           "Reggie Evans"
          ],
          [
           "Ryan Gomes"
          ],
          [
           "Randy Foye"
          ],
          [
           "Ramon Sessions"
          ],
          [
           "Mo Williams"
          ],
          [
           "Nick Young"
          ],
          [
           "Pau Gasol"
          ],
          [
           "Trey Thompkins"
          ],
          [
           "Troy Murphy"
          ],
          [
           "Travis Leslie"
          ],
          [
           "Steve Blake"
          ],
          [
           "Jordan Hill"
          ],
          [
           "Metta World Peace"
          ],
          [
           "Matt Barnes"
          ],
          [
           "Jason Kapono"
          ],
          [
           "Kenyon Martin"
          ],
          [
           "Kobe Bryant"
          ],
          [
           "Josh McRoberts"
          ],
          [
           "Pau Gasol"
          ],
          [
           "Metta World Peace"
          ],
          [
           "Maalik Wayns"
          ],
          [
           "Matt Barnes"
          ],
          [
           "Willie Green"
          ],
          [
           "Ryan Hollins"
          ],
          [
           "Ronny Turiaf"
          ],
          [
           "Robert Sacre"
          ],
          [
           "Steve Nash"
          ],
          [
           "Steve Blake"
          ],
          [
           "Darius Johnson-Odom"
          ],
          [
           "DeAndre Jordan"
          ],
          [
           "Darius Morris"
          ],
          [
           "DaJuan Summers"
          ],
          [
           "Dwight Howard"
          ],
          [
           "Earl Clark"
          ],
          [
           "Devin Ebanks"
          ],
          [
           "Chris Paul"
          ],
          [
           "Andrew Goudelock"
          ],
          [
           "Antawn Jamison"
          ],
          [
           "Eric Bledsoe"
          ],
          [
           "Caron Butler"
          ],
          [
           "Chauncey Billups"
          ],
          [
           "Chris Duhon"
          ],
          [
           "Blake Griffin"
          ],
          [
           "Jordan Hill"
          ],
          [
           "Jodie Meeks"
          ],
          [
           "Lamar Odom"
          ],
          [
           "Kobe Bryant"
          ],
          [
           "Grant Hill"
          ],
          [
           "Jamal Crawford"
          ],
          [
           "Reggie Bullock"
          ],
          [
           "Pau Gasol"
          ],
          [
           "Robert Sacre"
          ],
          [
           "Nick Young"
          ],
          [
           "Xavier Henry"
          ],
          [
           "Willie Green"
          ],
          [
           "Wesley Johnson"
          ],
          [
           "Sasha Vujacic"
          ],
          [
           "Ryan Kelly"
          ],
          [
           "Ryan Hollins"
          ],
          [
           "Shawne Williams"
          ],
          [
           "Steve Nash"
          ],
          [
           "Stephen Jackson"
          ],
          [
           "Darren Collison"
          ],
          [
           "DeAndre Jordan"
          ],
          [
           "Danny Granger"
          ],
          [
           "Chris Kaman"
          ],
          [
           "Chris Paul"
          ],
          [
           "Elias Harris"
          ],
          [
           "Antawn Jamison"
          ],
          [
           "Blake Griffin"
          ],
          [
           "Kent Bazemore"
          ],
          [
           "Kobe Bryant"
          ],
          [
           "Kendall Marshall"
          ],
          [
           "Jordan Farmar"
          ],
          [
           "Jordan Hill"
          ],
          [
           "Matt Barnes"
          ],
          [
           "MarShon Brooks"
          ],
          [
           "Maalik Wayns"
          ],
          [
           "Manny Harris"
          ],
          [
           "JJ Redick"
          ],
          [
           "Jamal Crawford"
          ],
          [
           "Jared Dudley"
          ],
          [
           "Glen Davis"
          ],
          [
           "Hedo Turkoglu"
          ],
          [
           "Jodie Meeks"
          ],
          [
           "Jordan Hamilton"
          ],
          [
           "Jordan Farmar"
          ],
          [
           "Jordan Clarkson"
          ],
          [
           "Hedo Turkoglu"
          ],
          [
           "Jordan Hill"
          ],
          [
           "Julius Randle"
          ],
          [
           "Kobe Bryant"
          ],
          [
           "Jeremy Lin"
          ],
          [
           "Jared Cunningham"
          ],
          [
           "Jabari Brown"
          ],
          [
           "JJ Redick"
          ],
          [
           "Jamal Crawford"
          ],
          [
           "Ryan Kelly"
          ],
          [
           "Ronnie Price"
          ],
          [
           "Robert Sacre"
          ],
          [
           "Nick Young"
          ],
          [
           "Lester Hudson"
          ],
          [
           "Matt Barnes"
          ],
          [
           "Xavier Henry"
          ],
          [
           "Wesley Johnson"
          ],
          [
           "Blake Griffin"
          ],
          [
           "Austin Rivers"
          ],
          [
           "Wayne Ellington"
          ],
          [
           "Tarik Black"
          ],
          [
           "Spencer Hawes"
          ],
          [
           "Vander Blue"
          ],
          [
           "Ekpe Udoh"
          ],
          [
           "Ed Davis"
          ],
          [
           "Dwight Buycks"
          ],
          [
           "Glen Davis"
          ],
          [
           "Chris Douglas-Roberts"
          ],
          [
           "Carlos Boozer"
          ],
          [
           "CJ Wilcox"
          ],
          [
           "DeAndre Jordan"
          ],
          [
           "Dahntay Jones"
          ],
          [
           "Chris Paul"
          ],
          [
           "JJ Redick"
          ],
          [
           "Jordan Clarkson"
          ],
          [
           "Jeff Green"
          ],
          [
           "Jamal Crawford"
          ],
          [
           "Jeff Ayres"
          ],
          [
           "Austin Rivers"
          ],
          [
           "Blake Griffin"
          ],
          [
           "Branden Dawson"
          ],
          [
           "Brandon Bass"
          ],
          [
           "Anthony Brown"
          ],
          [
           "D'Angelo Russell"
          ],
          [
           "DeAndre Jordan"
          ],
          [
           "CJ Wilcox"
          ],
          [
           "Cole Aldrich"
          ],
          [
           "Chris Paul"
          ],
          [
           "Chuck Hayes"
          ],
          [
           "Robert Sacre"
          ],
          [
           "Roy Hibbert"
          ],
          [
           "Ryan Kelly"
          ],
          [
           "Pablo Prigioni"
          ],
          [
           "Paul Pierce"
          ],
          [
           "Wesley Johnson"
          ],
          [
           "Tarik Black"
          ],
          [
           "Kobe Bryant"
          ],
          [
           "Larry Nance Jr."
          ],
          [
           "Lou Williams"
          ],
          [
           "Luc Mbah a Moute"
          ],
          [
           "Julius Randle"
          ],
          [
           "Nick Young"
          ],
          [
           "Marcelo Huertas"
          ],
          [
           "Metta World Peace"
          ],
          [
           "Metta World Peace"
          ],
          [
           "Marreese Speights"
          ],
          [
           "Marcelo Huertas"
          ],
          [
           "Nick Young"
          ],
          [
           "Julius Randle"
          ],
          [
           "Luol Deng"
          ],
          [
           "Luc Mbah a Moute"
          ],
          [
           "Larry Nance Jr."
          ],
          [
           "Timofey Mozgov"
          ],
          [
           "Thomas Robinson"
          ],
          [
           "Tarik Black"
          ],
          [
           "Wesley Johnson"
          ],
          [
           "Tyler Ennis"
          ],
          [
           "Raymond Felton"
          ],
          [
           "Paul Pierce"
          ],
          [
           "D'Angelo Russell"
          ],
          [
           "Corey Brewer"
          ],
          [
           "Chris Paul"
          ],
          [
           "DeAndre Jordan"
          ],
          [
           "David Nwaba"
          ],
          [
           "Brice Johnson"
          ],
          [
           "Alan Anderson"
          ],
          [
           "Brandon Ingram"
          ],
          [
           "Brandon Bass"
          ],
          [
           "Blake Griffin"
          ],
          [
           "Austin Rivers"
          ],
          [
           "Jamal Crawford"
          ],
          [
           "Jordan Clarkson"
          ],
          [
           "JJ Redick"
          ],
          [
           "Ivica Zubac"
          ],
          [
           "Diamond Stone"
          ],
          [
           "Jamil Wilson"
          ],
          [
           "Jawun Evans"
          ],
          [
           "Isaiah Thomas"
          ],
          [
           "Ivica Zubac"
          ],
          [
           "Josh Hart"
          ],
          [
           "Julius Randle"
          ],
          [
           "Danilo Gallinari"
          ],
          [
           "DeAndre Jordan"
          ],
          [
           "Brook Lopez"
          ],
          [
           "C.J. Williams"
          ],
          [
           "Channing Frye"
          ],
          [
           "Gary Payton II"
          ],
          [
           "Derrick Williams"
          ],
          [
           "Sindarius Thornwell"
          ],
          [
           "Sam Dekker"
          ],
          [
           "Vander Blue"
          ],
          [
           "Tyrone Wallace"
          ],
          [
           "Wesley Johnson"
          ],
          [
           "Willie Reed"
          ],
          [
           "Tobias Harris"
          ],
          [
           "Travis Wear"
          ],
          [
           "Tyler Ennis"
          ],
          [
           "Thomas Bryant"
          ],
          [
           "Brice Johnson"
          ],
          [
           "Lou Williams"
          ],
          [
           "Luol Deng"
          ],
          [
           "Lonzo Ball"
          ],
          [
           "Kentavious Caldwell-Pope"
          ],
          [
           "Kyle Kuzma"
          ],
          [
           "Patrick Beverley"
          ],
          [
           "Milos Teodosic"
          ],
          [
           "Montrezl Harrell"
          ],
          [
           "Alex Caruso"
          ],
          [
           "Andrew Bogut"
          ],
          [
           "Andre Ingram"
          ],
          [
           "Brandon Ingram"
          ],
          [
           "Boban Marjanovic"
          ],
          [
           "Austin Rivers"
          ],
          [
           "Avery Bradley"
          ],
          [
           "Mike Muscala"
          ],
          [
           "Montrezl Harrell"
          ],
          [
           "Milos Teodosic"
          ],
          [
           "Michael Beasley"
          ],
          [
           "Moritz Wagner"
          ],
          [
           "Patrick Beverley"
          ],
          [
           "Kyle Kuzma"
          ],
          [
           "Kentavious Caldwell-Pope"
          ],
          [
           "Marcin Gortat"
          ],
          [
           "Luc Mbah a Moute"
          ],
          [
           "Lou Williams"
          ],
          [
           "Lonzo Ball"
          ],
          [
           "LeBron James"
          ],
          [
           "Landry Shamet"
          ],
          [
           "Lance Stephenson"
          ],
          [
           "Wilson Chandler"
          ],
          [
           "Tyson Chandler"
          ],
          [
           "Tyrone Wallace"
          ],
          [
           "Rodney McGruder"
          ],
          [
           "Scott Machado"
          ],
          [
           "Reggie Bullock"
          ],
          [
           "Rajon Rondo"
          ],
          [
           "Sindarius Thornwell"
          ],
          [
           "Shai Gilgeous-Alexander"
          ],
          [
           "Andre Ingram"
          ],
          [
           "Alex Caruso"
          ],
          [
           "Angel Delgado"
          ],
          [
           "Danilo Gallinari"
          ],
          [
           "Brandon Ingram"
          ],
          [
           "Jemerrio Jones"
          ],
          [
           "Jerome Robinson"
          ],
          [
           "Josh Hart"
          ],
          [
           "Johnathan Motley"
          ],
          [
           "Johnathan Williams"
          ],
          [
           "Garrett Temple"
          ],
          [
           "Ivica Zubac"
          ],
          [
           "JaMychal Green"
          ],
          [
           "JaVale McGee"
          ],
          [
           "Isaac Bonga"
          ],
          [
           "Dwight Howard"
          ],
          [
           "Dion Waiters"
          ],
          [
           "Ivica Zubac"
          ],
          [
           "Joakim Noah"
          ],
          [
           "Johnathan Motley"
          ],
          [
           "JR Smith"
          ],
          [
           "JaMychal Green"
          ],
          [
           "JaVale McGee"
          ],
          [
           "Jared Dudley"
          ],
          [
           "Alex Caruso"
          ],
          [
           "Amir Coffey"
          ],
          [
           "Anthony Davis"
          ],
          [
           "Avery Bradley"
          ],
          [
           "Devontae Cacok"
          ],
          [
           "Danny Green"
          ],
          [
           "Rodney McGruder"
          ],
          [
           "Patrick Beverley"
          ],
          [
           "Patrick Patterson"
          ],
          [
           "Paul George"
          ],
          [
           "Quinn Cook"
          ],
          [
           "Rajon Rondo"
          ],
          [
           "Reggie Jackson"
          ],
          [
           "Talen Horton-Tucker"
          ],
          [
           "Terance Mann"
          ],
          [
           "Kostas Antetokounmpo"
          ],
          [
           "Kyle Kuzma"
          ],
          [
           "Landry Shamet"
          ],
          [
           "LeBron James"
          ],
          [
           "Kentavious Caldwell-Pope"
          ],
          [
           "Kawhi Leonard"
          ],
          [
           "Lou Williams"
          ],
          [
           "Montrezl Harrell"
          ],
          [
           "Mfiondu Kabengele"
          ],
          [
           "Marcus Morris Sr."
          ],
          [
           "Markieff Morris"
          ],
          [
           "Yogi Ferrell"
          ],
          [
           "Devontae Cacok"
          ],
          [
           "Jared Dudley"
          ],
          [
           "Jay Scrubb"
          ],
          [
           "Ivica Zubac"
          ],
          [
           "Ben McLemore"
          ],
          [
           "Alex Caruso"
          ],
          [
           "Alfonzo McKinnie"
          ],
          [
           "Amir Coffey"
          ],
          [
           "Andre Drummond"
          ],
          [
           "Anthony Davis"
          ],
          [
           "DeMarcus Cousins"
          ],
          [
           "Dennis Schroder"
          ],
          [
           "Daniel Oturu"
          ],
          [
           "Serge Ibaka"
          ],
          [
           "Reggie Jackson"
          ],
          [
           "Patrick Beverley"
          ],
          [
           "Patrick Patterson"
          ],
          [
           "Paul George"
          ],
          [
           "Rajon Rondo"
          ],
          [
           "Wesley Matthews"
          ],
          [
           "Talen Horton-Tucker"
          ],
          [
           "Terance Mann"
          ],
          [
           "Kentavious Caldwell-Pope"
          ],
          [
           "Kostas Antetokounmpo"
          ],
          [
           "Kyle Kuzma"
          ],
          [
           "Kawhi Leonard"
          ],
          [
           "Montrezl Harrell"
          ],
          [
           "Nicolas Batum"
          ],
          [
           "Luke Kennard"
          ],
          [
           "Malik Fitts"
          ],
          [
           "LeBron James"
          ],
          [
           "Marc Gasol"
          ],
          [
           "Markieff Morris"
          ],
          [
           "Marcus Morris Sr."
          ]
         ],
         "hovertemplate": "team_abbreviation=%{x}<br>player_height=%{y}<br>player_name=%{customdata[0]}<extra></extra>",
         "legendgroup": "",
         "marker": {
          "color": "#636efa"
         },
         "name": "",
         "notched": false,
         "offsetgroup": "",
         "orientation": "v",
         "showlegend": false,
         "type": "box",
         "x": [
          "LAL",
          "LAC",
          "LAC",
          "LAL",
          "LAC",
          "LAC",
          "LAL",
          "LAC",
          "LAL",
          "LAC",
          "LAC",
          "LAC",
          "LAC",
          "LAL",
          "LAC",
          "LAL",
          "LAL",
          "LAL",
          "LAL",
          "LAC",
          "LAL",
          "LAC",
          "LAC",
          "LAL",
          "LAL",
          "LAC",
          "LAC",
          "LAL",
          "LAL",
          "LAL",
          "LAL",
          "LAC",
          "LAL",
          "LAC",
          "LAC",
          "LAC",
          "LAC",
          "LAL",
          "LAC",
          "LAL",
          "LAL",
          "LAL",
          "LAL",
          "LAL",
          "LAC",
          "LAC",
          "LAL",
          "LAC",
          "LAC",
          "LAL",
          "LAC",
          "LAC",
          "LAL",
          "LAC",
          "LAL",
          "LAC",
          "LAC",
          "LAL",
          "LAC",
          "LAL",
          "LAL",
          "LAC",
          "LAL",
          "LAL",
          "LAC",
          "LAC",
          "LAL",
          "LAC",
          "LAC",
          "LAC",
          "LAC",
          "LAL",
          "LAL",
          "LAC",
          "LAC",
          "LAL",
          "LAL",
          "LAC",
          "LAL",
          "LAL",
          "LAL",
          "LAC",
          "LAC",
          "LAL",
          "LAC",
          "LAC",
          "LAC",
          "LAC",
          "LAL",
          "LAL",
          "LAC",
          "LAC",
          "LAC",
          "LAL",
          "LAL",
          "LAC",
          "LAC",
          "LAL",
          "LAL",
          "LAL",
          "LAC",
          "LAL",
          "LAL",
          "LAL",
          "LAL",
          "LAC",
          "LAC",
          "LAC",
          "LAC",
          "LAC",
          "LAL",
          "LAL",
          "LAC",
          "LAC",
          "LAL",
          "LAC",
          "LAL",
          "LAL",
          "LAC",
          "LAL",
          "LAL",
          "LAL",
          "LAC",
          "LAL",
          "LAC",
          "LAC",
          "LAC",
          "LAL",
          "LAL",
          "LAC",
          "LAC",
          "LAC",
          "LAL",
          "LAC",
          "LAL",
          "LAL",
          "LAC",
          "LAL",
          "LAL",
          "LAL",
          "LAC",
          "LAC",
          "LAC",
          "LAC",
          "LAL",
          "LAC",
          "LAL",
          "LAL",
          "LAC",
          "LAC",
          "LAL",
          "LAL",
          "LAC",
          "LAL",
          "LAL",
          "LAC",
          "LAC",
          "LAL",
          "LAC",
          "LAL",
          "LAL",
          "LAC",
          "LAL",
          "LAL",
          "LAC",
          "LAL",
          "LAC",
          "LAC",
          "LAC",
          "LAC",
          "LAL",
          "LAC",
          "LAC",
          "LAC",
          "LAL",
          "LAC",
          "LAC",
          "LAC",
          "LAC",
          "LAL",
          "LAC",
          "LAL",
          "LAL",
          "LAC",
          "LAL",
          "LAC",
          "LAC",
          "LAL",
          "LAL",
          "LAL",
          "LAL",
          "LAL",
          "LAC",
          "LAL",
          "LAC",
          "LAC",
          "LAC",
          "LAL",
          "LAC",
          "LAL",
          "LAL",
          "LAL",
          "LAC",
          "LAC",
          "LAC",
          "LAC",
          "LAC",
          "LAC",
          "LAC",
          "LAL",
          "LAC",
          "LAC",
          "LAC",
          "LAL",
          "LAL",
          "LAL",
          "LAL",
          "LAC",
          "LAC",
          "LAC",
          "LAL",
          "LAL",
          "LAL",
          "LAC",
          "LAL",
          "LAL",
          "LAL",
          "LAC",
          "LAC",
          "LAC",
          "LAL",
          "LAL",
          "LAL",
          "LAL",
          "LAC",
          "LAC",
          "LAC",
          "LAL",
          "LAC",
          "LAC",
          "LAC",
          "LAL",
          "LAC",
          "LAL",
          "LAC",
          "LAL",
          "LAL",
          "LAC",
          "LAL",
          "LAC",
          "LAC",
          "LAL",
          "LAC",
          "LAL",
          "LAL",
          "LAL",
          "LAC",
          "LAL",
          "LAC",
          "LAL",
          "LAC",
          "LAC",
          "LAL",
          "LAL",
          "LAC",
          "LAL",
          "LAC",
          "LAC",
          "LAL",
          "LAL",
          "LAC",
          "LAC",
          "LAC",
          "LAL",
          "LAC",
          "LAC",
          "LAL",
          "LAL",
          "LAC",
          "LAL",
          "LAL",
          "LAC",
          "LAL",
          "LAC",
          "LAL",
          "LAC",
          "LAC",
          "LAC",
          "LAL",
          "LAC",
          "LAC",
          "LAC",
          "LAC",
          "LAL",
          "LAL",
          "LAL",
          "LAL",
          "LAL",
          "LAL",
          "LAL",
          "LAL",
          "LAC",
          "LAC",
          "LAC",
          "LAC",
          "LAL",
          "LAL",
          "LAC",
          "LAC",
          "LAL",
          "LAL",
          "LAL",
          "LAC",
          "LAC",
          "LAL",
          "LAL",
          "LAL",
          "LAC",
          "LAC",
          "LAC",
          "LAC",
          "LAL",
          "LAC",
          "LAC",
          "LAC",
          "LAC",
          "LAL",
          "LAL",
          "LAL",
          "LAC",
          "LAL",
          "LAC",
          "LAC",
          "LAC",
          "LAC",
          "LAL",
          "LAC",
          "LAL",
          "LAC",
          "LAL",
          "LAC",
          "LAL",
          "LAC",
          "LAL",
          "LAL",
          "LAC",
          "LAL",
          "LAC",
          "LAC",
          "LAC",
          "LAL",
          "LAC",
          "LAL",
          "LAC",
          "LAC",
          "LAL",
          "LAC",
          "LAC",
          "LAL",
          "LAC",
          "LAL",
          "LAL",
          "LAL",
          "LAC",
          "LAL",
          "LAC",
          "LAC",
          "LAC",
          "LAL",
          "LAL",
          "LAC",
          "LAL",
          "LAL",
          "LAC",
          "LAL",
          "LAC",
          "LAL",
          "LAC",
          "LAL",
          "LAC",
          "LAL",
          "LAL",
          "LAC",
          "LAC",
          "LAL",
          "LAL",
          "LAC",
          "LAL",
          "LAC",
          "LAC",
          "LAL",
          "LAC",
          "LAC",
          "LAL",
          "LAL",
          "LAC",
          "LAC",
          "LAC",
          "LAC",
          "LAL",
          "LAC",
          "LAC",
          "LAC",
          "LAL",
          "LAL",
          "LAL",
          "LAL",
          "LAL",
          "LAC",
          "LAL",
          "LAC",
          "LAL",
          "LAL",
          "LAC",
          "LAC",
          "LAL",
          "LAC",
          "LAC",
          "LAL",
          "LAL",
          "LAC",
          "LAC",
          "LAC",
          "LAC",
          "LAL",
          "LAC",
          "LAL",
          "LAL",
          "LAL",
          "LAC",
          "LAL",
          "LAL",
          "LAL",
          "LAL",
          "LAL",
          "LAC",
          "LAL",
          "LAC",
          "LAL",
          "LAC",
          "LAL",
          "LAC",
          "LAC",
          "LAL",
          "LAC",
          "LAC",
          "LAC",
          "LAC",
          "LAC",
          "LAC",
          "LAL",
          "LAL",
          "LAL",
          "LAC",
          "LAC",
          "LAC",
          "LAL",
          "LAL",
          "LAC",
          "LAL",
          "LAC",
          "LAC",
          "LAL",
          "LAL",
          "LAC",
          "LAC",
          "LAC",
          "LAC",
          "LAC",
          "LAC",
          "LAL",
          "LAC",
          "LAC",
          "LAL",
          "LAC",
          "LAL",
          "LAC",
          "LAL",
          "LAL",
          "LAL",
          "LAL",
          "LAL",
          "LAC",
          "LAL",
          "LAL",
          "LAL",
          "LAL",
          "LAC",
          "LAC",
          "LAC",
          "LAC",
          "LAC",
          "LAL",
          "LAL",
          "LAL",
          "LAL",
          "LAC",
          "LAL",
          "LAC",
          "LAL",
          "LAL",
          "LAL",
          "LAC",
          "LAL",
          "LAL",
          "LAC",
          "LAC",
          "LAC",
          "LAL",
          "LAC",
          "LAL",
          "LAL",
          "LAC",
          "LAL",
          "LAC",
          "LAC",
          "LAC",
          "LAL",
          "LAL",
          "LAL",
          "LAL",
          "LAC",
          "LAL",
          "LAC",
          "LAL",
          "LAC",
          "LAL",
          "LAL",
          "LAC",
          "LAC",
          "LAC",
          "LAC",
          "LAL",
          "LAC",
          "LAL",
          "LAC",
          "LAC",
          "LAL",
          "LAL",
          "LAL",
          "LAL",
          "LAL",
          "LAC",
          "LAL",
          "LAC",
          "LAL",
          "LAC",
          "LAC",
          "LAC",
          "LAC",
          "LAC",
          "LAL",
          "LAC",
          "LAC",
          "LAL",
          "LAC",
          "LAL",
          "LAL",
          "LAL",
          "LAL",
          "LAC",
          "LAL",
          "LAC",
          "LAC",
          "LAL",
          "LAL",
          "LAL",
          "LAL",
          "LAC",
          "LAC",
          "LAL",
          "LAL",
          "LAC",
          "LAC",
          "LAL",
          "LAL",
          "LAC",
          "LAL",
          "LAC",
          "LAL",
          "LAL",
          "LAC",
          "LAC",
          "LAL",
          "LAC",
          "LAC",
          "LAC",
          "LAC",
          "LAC",
          "LAL",
          "LAC",
          "LAC",
          "LAC",
          "LAC",
          "LAC",
          "LAC",
          "LAL",
          "LAL",
          "LAL",
          "LAC",
          "LAC",
          "LAC",
          "LAC",
          "LAC",
          "LAL",
          "LAL",
          "LAL",
          "LAC",
          "LAC",
          "LAC",
          "LAL",
          "LAL",
          "LAL",
          "LAL",
          "LAC",
          "LAL",
          "LAL",
          "LAL",
          "LAL",
          "LAL",
          "LAC",
          "LAL",
          "LAL",
          "LAL",
          "LAL",
          "LAC",
          "LAL",
          "LAL",
          "LAL",
          "LAL",
          "LAC",
          "LAL",
          "LAC",
          "LAC",
          "LAL",
          "LAL",
          "LAC",
          "LAC",
          "LAL",
          "LAC",
          "LAC",
          "LAL",
          "LAC",
          "LAC",
          "LAC",
          "LAC",
          "LAL",
          "LAC",
          "LAL",
          "LAC",
          "LAC",
          "LAC",
          "LAL",
          "LAL",
          "LAL",
          "LAL",
          "LAC",
          "LAC",
          "LAL",
          "LAC",
          "LAL",
          "LAL",
          "LAL",
          "LAC",
          "LAC",
          "LAL",
          "LAC",
          "LAC",
          "LAC",
          "LAC",
          "LAL",
          "LAL",
          "LAL",
          "LAC",
          "LAC",
          "LAL",
          "LAL",
          "LAL",
          "LAL",
          "LAC",
          "LAC",
          "LAC",
          "LAL",
          "LAL",
          "LAL",
          "LAL",
          "LAC",
          "LAC",
          "LAC",
          "LAL",
          "LAC",
          "LAC",
          "LAL",
          "LAL",
          "LAC",
          "LAL",
          "LAL",
          "LAC",
          "LAC",
          "LAC",
          "LAL",
          "LAL",
          "LAC",
          "LAL",
          "LAC",
          "LAL",
          "LAC",
          "LAC",
          "LAL",
          "LAL",
          "LAL",
          "LAC",
          "LAC",
          "LAL",
          "LAL",
          "LAC",
          "LAC",
          "LAL",
          "LAL",
          "LAC",
          "LAL",
          "LAC",
          "LAL",
          "LAC",
          "LAC",
          "LAC",
          "LAL",
          "LAL",
          "LAL",
          "LAL",
          "LAC",
          "LAC",
          "LAC",
          "LAL",
          "LAC",
          "LAL",
          "LAL",
          "LAL",
          "LAC",
          "LAL",
          "LAL",
          "LAL",
          "LAL",
          "LAC",
          "LAC",
          "LAC",
          "LAC",
          "LAL",
          "LAL",
          "LAC",
          "LAL",
          "LAC",
          "LAL",
          "LAL",
          "LAC",
          "LAL",
          "LAL",
          "LAC",
          "LAC",
          "LAC",
          "LAC",
          "LAC",
          "LAL",
          "LAC",
          "LAL",
          "LAL",
          "LAC",
          "LAC",
          "LAL",
          "LAL",
          "LAL",
          "LAC",
          "LAL",
          "LAL",
          "LAC",
          "LAL",
          "LAC",
          "LAC",
          "LAC",
          "LAC",
          "LAC",
          "LAC",
          "LAC",
          "LAL",
          "LAL",
          "LAC",
          "LAL",
          "LAL",
          "LAL",
          "LAC",
          "LAL",
          "LAC",
          "LAC",
          "LAC",
          "LAL",
          "LAL",
          "LAL",
          "LAC"
         ],
         "x0": " ",
         "xaxis": "x",
         "y": [
          213.36,
          203.2,
          205.74,
          185.42,
          185.42,
          210.82,
          205.74,
          200.66,
          200.66,
          213.36,
          193.04,
          213.36,
          200.66,
          208.28,
          210.82,
          215.9,
          208.28,
          200.66,
          193.04,
          180.34,
          208.28,
          198.12,
          203.2,
          203.2,
          185.42,
          200.66,
          215.9,
          198.12,
          213.36,
          198.12,
          213.36,
          200.66,
          185.42,
          180.34,
          208.28,
          193.04,
          187.96,
          208.28,
          193.04,
          208.28,
          215.9,
          195.58,
          200.66,
          208.28,
          200.66,
          218.44,
          200.66,
          200.66,
          210.82,
          195.58,
          220.98,
          205.74,
          185.42,
          185.42,
          205.74,
          205.74,
          180.34,
          200.66,
          193.04,
          185.42,
          203.2,
          200.66,
          193.04,
          182.88,
          198.12,
          185.42,
          213.36,
          205.74,
          185.42,
          205.74,
          213.36,
          200.66,
          215.9,
          185.42,
          218.44,
          208.28,
          208.28,
          200.66,
          198.12,
          193.04,
          208.28,
          210.82,
          200.66,
          200.66,
          220.98,
          213.36,
          205.74,
          220.98,
          210.82,
          193.04,
          198.12,
          208.28,
          208.28,
          200.66,
          182.88,
          198.12,
          185.42,
          213.36,
          208.28,
          200.66,
          208.28,
          215.9,
          198.12,
          185.42,
          203.2,
          195.58,
          193.04,
          185.42,
          200.66,
          205.74,
          203.2,
          205.74,
          205.74,
          190.5,
          198.12,
          205.74,
          190.5,
          205.74,
          213.36,
          208.28,
          198.12,
          200.66,
          198.12,
          195.58,
          193.04,
          208.28,
          195.58,
          200.66,
          182.88,
          210.82,
          198.12,
          205.74,
          198.12,
          210.82,
          208.28,
          210.82,
          208.28,
          215.9,
          208.28,
          185.42,
          205.74,
          205.74,
          198.12,
          165.1,
          203.2,
          203.2,
          208.28,
          208.28,
          205.74,
          198.12,
          200.66,
          215.9,
          208.28,
          205.74,
          208.28,
          193.04,
          205.74,
          205.74,
          213.36,
          195.58,
          190.5,
          190.5,
          200.66,
          187.96,
          208.28,
          198.12,
          205.74,
          198.12,
          165.1,
          190.5,
          203.2,
          198.12,
          203.2,
          190.5,
          185.42,
          213.36,
          208.28,
          198.12,
          200.66,
          205.74,
          190.5,
          198.12,
          200.66,
          208.28,
          200.66,
          203.2,
          215.9,
          208.28,
          200.66,
          208.28,
          208.28,
          215.9,
          208.28,
          205.74,
          210.82,
          208.28,
          198.12,
          198.12,
          187.96,
          187.96,
          203.2,
          185.42,
          203.2,
          198.12,
          208.28,
          195.58,
          210.82,
          208.28,
          193.04,
          198.12,
          190.5,
          200.66,
          195.58,
          203.2,
          215.9,
          208.28,
          200.66,
          198.12,
          208.28,
          213.36,
          185.42,
          200.66,
          205.74,
          198.12,
          210.82,
          205.74,
          198.12,
          203.2,
          185.42,
          190.5,
          203.2,
          195.58,
          208.28,
          193.04,
          203.2,
          200.66,
          213.36,
          198.12,
          195.58,
          195.58,
          185.42,
          208.28,
          213.36,
          203.2,
          182.88,
          193.04,
          187.96,
          213.36,
          215.9,
          193.04,
          198.12,
          208.28,
          200.66,
          200.66,
          203.2,
          180.34,
          208.28,
          213.36,
          213.36,
          200.66,
          198.12,
          180.34,
          205.74,
          205.74,
          198.12,
          203.2,
          203.2,
          203.2,
          195.58,
          198.12,
          203.2,
          193.04,
          198.12,
          213.36,
          213.36,
          190.5,
          200.66,
          203.2,
          187.96,
          213.36,
          205.74,
          213.36,
          208.28,
          190.5,
          200.66,
          198.12,
          210.82,
          208.28,
          195.58,
          208.28,
          205.74,
          213.36,
          200.66,
          208.28,
          193.04,
          210.82,
          208.28,
          195.58,
          203.2,
          198.12,
          213.36,
          193.04,
          198.12,
          190.5,
          213.36,
          205.74,
          208.28,
          198.12,
          210.82,
          203.2,
          195.58,
          193.04,
          208.28,
          200.66,
          208.28,
          185.42,
          200.66,
          190.5,
          203.2,
          198.12,
          195.58,
          195.58,
          205.74,
          195.58,
          205.74,
          187.96,
          208.28,
          210.82,
          198.12,
          203.2,
          187.96,
          190.5,
          198.12,
          195.58,
          205.74,
          187.96,
          193.04,
          208.28,
          195.58,
          200.66,
          210.82,
          213.36,
          210.82,
          208.28,
          198.12,
          200.66,
          203.2,
          208.28,
          203.2,
          177.8,
          213.36,
          182.88,
          213.36,
          193.04,
          198.12,
          195.58,
          205.74,
          213.36,
          213.36,
          177.8,
          200.66,
          203.2,
          208.28,
          187.96,
          185.42,
          203.2,
          198.12,
          210.82,
          205.74,
          213.36,
          187.96,
          208.28,
          198.12,
          210.82,
          203.2,
          208.28,
          205.74,
          205.74,
          203.2,
          200.66,
          193.04,
          200.66,
          213.36,
          205.74,
          213.36,
          213.36,
          193.04,
          213.36,
          195.58,
          203.2,
          203.2,
          190.5,
          210.82,
          187.96,
          185.42,
          190.5,
          187.96,
          200.66,
          200.66,
          213.36,
          208.28,
          190.5,
          205.74,
          200.66,
          193.04,
          203.2,
          208.28,
          200.66,
          198.12,
          198.12,
          198.12,
          205.74,
          187.96,
          210.82,
          213.36,
          213.36,
          200.66,
          205.74,
          213.36,
          203.2,
          187.96,
          190.5,
          190.5,
          208.28,
          185.42,
          190.5,
          200.66,
          203.2,
          200.66,
          185.42,
          208.28,
          198.12,
          213.36,
          208.28,
          190.5,
          193.04,
          195.58,
          193.04,
          193.04,
          200.66,
          208.28,
          213.36,
          200.66,
          213.36,
          205.74,
          205.74,
          208.28,
          210.82,
          203.2,
          205.74,
          205.74,
          205.74,
          185.42,
          185.42,
          190.5,
          182.88,
          200.66,
          213.36,
          200.66,
          190.5,
          208.28,
          198.12,
          193.04,
          205.74,
          210.82,
          185.42,
          190.5,
          203.2,
          200.66,
          193.04,
          190.5,
          185.42,
          200.66,
          213.36,
          208.28,
          210.82,
          193.04,
          190.5,
          208.28,
          200.66,
          200.66,
          203.2,
          205.74,
          198.12,
          208.28,
          213.36,
          200.66,
          185.42,
          200.66,
          190.5,
          213.36,
          208.28,
          213.36,
          190.5,
          190.5,
          187.96,
          210.82,
          193.04,
          203.2,
          210.82,
          208.28,
          205.74,
          182.88,
          190.5,
          205.74,
          185.42,
          200.66,
          190.5,
          185.42,
          208.28,
          208.28,
          193.04,
          208.28,
          198.12,
          203.2,
          195.58,
          200.66,
          213.36,
          213.36,
          200.66,
          198.12,
          190.5,
          200.66,
          200.66,
          210.82,
          213.36,
          205.74,
          190.5,
          203.2,
          182.88,
          210.82,
          205.74,
          213.36,
          182.88,
          203.2,
          205.74,
          208.28,
          195.58,
          198.12,
          193.04,
          187.96,
          208.28,
          200.66,
          195.58,
          185.42,
          195.58,
          193.04,
          195.58,
          200.66,
          205.74,
          208.28,
          193.04,
          200.66,
          187.96,
          195.58,
          208.28,
          208.28,
          205.74,
          198.12,
          190.5,
          193.04,
          195.58,
          193.04,
          195.58,
          210.82,
          187.96,
          213.36,
          200.66,
          190.5,
          200.66,
          198.12,
          200.66,
          208.28,
          193.04,
          193.04,
          210.82,
          215.9,
          193.04,
          208.28,
          208.28,
          190.5,
          205.74,
          200.66,
          205.74,
          195.58,
          210.82,
          198.12,
          182.88,
          193.04,
          195.58,
          205.74,
          195.58,
          205.74,
          193.04,
          208.28,
          198.12,
          203.2,
          200.66,
          195.58,
          210.82,
          195.58,
          210.82,
          182.88,
          198.12,
          213.36,
          218.44,
          210.82,
          190.5,
          200.66,
          200.66,
          205.74,
          198.12,
          205.74,
          185.42,
          203.2,
          205.74,
          200.66,
          190.5,
          200.66,
          200.66,
          208.28,
          190.5,
          200.66,
          205.74,
          205.74,
          203.2,
          205.74,
          215.9,
          208.28,
          205.74,
          200.66,
          190.5,
          185.42,
          200.66,
          195.58,
          205.74,
          182.88,
          210.82,
          193.04,
          208.28,
          198.12,
          205.74,
          203.2,
          208.28,
          193.04,
          195.58,
          195.58,
          193.04,
          215.9,
          210.82,
          200.66,
          182.88,
          175.26,
          215.9,
          195.58,
          205.74,
          208.28,
          210.82,
          213.36,
          195.58,
          210.82,
          190.5,
          203.2,
          195.58,
          205.74,
          195.58,
          195.58,
          200.66,
          210.82,
          205.74,
          208.28,
          190.5,
          208.28,
          208.28,
          185.42,
          205.74,
          198.12,
          195.58,
          205.74,
          185.42,
          195.58,
          203.2,
          195.58,
          213.36,
          190.5,
          205.74,
          220.98,
          193.04,
          187.96,
          210.82,
          203.2,
          195.58,
          205.74,
          210.82,
          185.42,
          205.74,
          195.58,
          210.82,
          203.2,
          185.42,
          198.12,
          203.2,
          195.58,
          198.12,
          205.74,
          215.9,
          195.58,
          193.04,
          185.42,
          200.66,
          185.42,
          195.58,
          198.12,
          190.5,
          195.58,
          208.28,
          208.28,
          205.74,
          195.58,
          195.58,
          195.58,
          208.28,
          205.74,
          198.12,
          215.9,
          205.74,
          213.36,
          203.2,
          208.28,
          190.5,
          213.36,
          210.82,
          203.2,
          198.12,
          203.2,
          213.36,
          198.12,
          195.58,
          200.66,
          208.28,
          190.5,
          203.2,
          198.12,
          193.04,
          185.42,
          203.2,
          203.2,
          185.42,
          185.42,
          190.5,
          193.04,
          195.58,
          208.28,
          203.2,
          193.04,
          205.74,
          195.58,
          200.66,
          185.42,
          200.66,
          205.74,
          203.2,
          203.2,
          182.88,
          200.66,
          198.12,
          195.58,
          213.36,
          190.5,
          193.04,
          200.66,
          200.66,
          208.28,
          208.28,
          208.28,
          190.5,
          203.2,
          208.28,
          187.96,
          185.42,
          203.2,
          203.2,
          185.42,
          193.04,
          193.04,
          195.58,
          195.58,
          208.28,
          208.28,
          200.66,
          200.66,
          203.2,
          195.58,
          203.2,
          205.74,
          210.82,
          205.74,
          203.2
         ],
         "y0": " ",
         "yaxis": "y"
        }
       ],
       "layout": {
        "boxmode": "group",
        "legend": {
         "tracegroupgap": 0
        },
        "margin": {
         "t": 60
        },
        "template": {
         "data": {
          "bar": [
           {
            "error_x": {
             "color": "#2a3f5f"
            },
            "error_y": {
             "color": "#2a3f5f"
            },
            "marker": {
             "line": {
              "color": "#E5ECF6",
              "width": 0.5
             },
             "pattern": {
              "fillmode": "overlay",
              "size": 10,
              "solidity": 0.2
             }
            },
            "type": "bar"
           }
          ],
          "barpolar": [
           {
            "marker": {
             "line": {
              "color": "#E5ECF6",
              "width": 0.5
             },
             "pattern": {
              "fillmode": "overlay",
              "size": 10,
              "solidity": 0.2
             }
            },
            "type": "barpolar"
           }
          ],
          "carpet": [
           {
            "aaxis": {
             "endlinecolor": "#2a3f5f",
             "gridcolor": "white",
             "linecolor": "white",
             "minorgridcolor": "white",
             "startlinecolor": "#2a3f5f"
            },
            "baxis": {
             "endlinecolor": "#2a3f5f",
             "gridcolor": "white",
             "linecolor": "white",
             "minorgridcolor": "white",
             "startlinecolor": "#2a3f5f"
            },
            "type": "carpet"
           }
          ],
          "choropleth": [
           {
            "colorbar": {
             "outlinewidth": 0,
             "ticks": ""
            },
            "type": "choropleth"
           }
          ],
          "contour": [
           {
            "colorbar": {
             "outlinewidth": 0,
             "ticks": ""
            },
            "colorscale": [
             [
              0,
              "#0d0887"
             ],
             [
              0.1111111111111111,
              "#46039f"
             ],
             [
              0.2222222222222222,
              "#7201a8"
             ],
             [
              0.3333333333333333,
              "#9c179e"
             ],
             [
              0.4444444444444444,
              "#bd3786"
             ],
             [
              0.5555555555555556,
              "#d8576b"
             ],
             [
              0.6666666666666666,
              "#ed7953"
             ],
             [
              0.7777777777777778,
              "#fb9f3a"
             ],
             [
              0.8888888888888888,
              "#fdca26"
             ],
             [
              1,
              "#f0f921"
             ]
            ],
            "type": "contour"
           }
          ],
          "contourcarpet": [
           {
            "colorbar": {
             "outlinewidth": 0,
             "ticks": ""
            },
            "type": "contourcarpet"
           }
          ],
          "heatmap": [
           {
            "colorbar": {
             "outlinewidth": 0,
             "ticks": ""
            },
            "colorscale": [
             [
              0,
              "#0d0887"
             ],
             [
              0.1111111111111111,
              "#46039f"
             ],
             [
              0.2222222222222222,
              "#7201a8"
             ],
             [
              0.3333333333333333,
              "#9c179e"
             ],
             [
              0.4444444444444444,
              "#bd3786"
             ],
             [
              0.5555555555555556,
              "#d8576b"
             ],
             [
              0.6666666666666666,
              "#ed7953"
             ],
             [
              0.7777777777777778,
              "#fb9f3a"
             ],
             [
              0.8888888888888888,
              "#fdca26"
             ],
             [
              1,
              "#f0f921"
             ]
            ],
            "type": "heatmap"
           }
          ],
          "heatmapgl": [
           {
            "colorbar": {
             "outlinewidth": 0,
             "ticks": ""
            },
            "colorscale": [
             [
              0,
              "#0d0887"
             ],
             [
              0.1111111111111111,
              "#46039f"
             ],
             [
              0.2222222222222222,
              "#7201a8"
             ],
             [
              0.3333333333333333,
              "#9c179e"
             ],
             [
              0.4444444444444444,
              "#bd3786"
             ],
             [
              0.5555555555555556,
              "#d8576b"
             ],
             [
              0.6666666666666666,
              "#ed7953"
             ],
             [
              0.7777777777777778,
              "#fb9f3a"
             ],
             [
              0.8888888888888888,
              "#fdca26"
             ],
             [
              1,
              "#f0f921"
             ]
            ],
            "type": "heatmapgl"
           }
          ],
          "histogram": [
           {
            "marker": {
             "pattern": {
              "fillmode": "overlay",
              "size": 10,
              "solidity": 0.2
             }
            },
            "type": "histogram"
           }
          ],
          "histogram2d": [
           {
            "colorbar": {
             "outlinewidth": 0,
             "ticks": ""
            },
            "colorscale": [
             [
              0,
              "#0d0887"
             ],
             [
              0.1111111111111111,
              "#46039f"
             ],
             [
              0.2222222222222222,
              "#7201a8"
             ],
             [
              0.3333333333333333,
              "#9c179e"
             ],
             [
              0.4444444444444444,
              "#bd3786"
             ],
             [
              0.5555555555555556,
              "#d8576b"
             ],
             [
              0.6666666666666666,
              "#ed7953"
             ],
             [
              0.7777777777777778,
              "#fb9f3a"
             ],
             [
              0.8888888888888888,
              "#fdca26"
             ],
             [
              1,
              "#f0f921"
             ]
            ],
            "type": "histogram2d"
           }
          ],
          "histogram2dcontour": [
           {
            "colorbar": {
             "outlinewidth": 0,
             "ticks": ""
            },
            "colorscale": [
             [
              0,
              "#0d0887"
             ],
             [
              0.1111111111111111,
              "#46039f"
             ],
             [
              0.2222222222222222,
              "#7201a8"
             ],
             [
              0.3333333333333333,
              "#9c179e"
             ],
             [
              0.4444444444444444,
              "#bd3786"
             ],
             [
              0.5555555555555556,
              "#d8576b"
             ],
             [
              0.6666666666666666,
              "#ed7953"
             ],
             [
              0.7777777777777778,
              "#fb9f3a"
             ],
             [
              0.8888888888888888,
              "#fdca26"
             ],
             [
              1,
              "#f0f921"
             ]
            ],
            "type": "histogram2dcontour"
           }
          ],
          "mesh3d": [
           {
            "colorbar": {
             "outlinewidth": 0,
             "ticks": ""
            },
            "type": "mesh3d"
           }
          ],
          "parcoords": [
           {
            "line": {
             "colorbar": {
              "outlinewidth": 0,
              "ticks": ""
             }
            },
            "type": "parcoords"
           }
          ],
          "pie": [
           {
            "automargin": true,
            "type": "pie"
           }
          ],
          "scatter": [
           {
            "marker": {
             "colorbar": {
              "outlinewidth": 0,
              "ticks": ""
             }
            },
            "type": "scatter"
           }
          ],
          "scatter3d": [
           {
            "line": {
             "colorbar": {
              "outlinewidth": 0,
              "ticks": ""
             }
            },
            "marker": {
             "colorbar": {
              "outlinewidth": 0,
              "ticks": ""
             }
            },
            "type": "scatter3d"
           }
          ],
          "scattercarpet": [
           {
            "marker": {
             "colorbar": {
              "outlinewidth": 0,
              "ticks": ""
             }
            },
            "type": "scattercarpet"
           }
          ],
          "scattergeo": [
           {
            "marker": {
             "colorbar": {
              "outlinewidth": 0,
              "ticks": ""
             }
            },
            "type": "scattergeo"
           }
          ],
          "scattergl": [
           {
            "marker": {
             "colorbar": {
              "outlinewidth": 0,
              "ticks": ""
             }
            },
            "type": "scattergl"
           }
          ],
          "scattermapbox": [
           {
            "marker": {
             "colorbar": {
              "outlinewidth": 0,
              "ticks": ""
             }
            },
            "type": "scattermapbox"
           }
          ],
          "scatterpolar": [
           {
            "marker": {
             "colorbar": {
              "outlinewidth": 0,
              "ticks": ""
             }
            },
            "type": "scatterpolar"
           }
          ],
          "scatterpolargl": [
           {
            "marker": {
             "colorbar": {
              "outlinewidth": 0,
              "ticks": ""
             }
            },
            "type": "scatterpolargl"
           }
          ],
          "scatterternary": [
           {
            "marker": {
             "colorbar": {
              "outlinewidth": 0,
              "ticks": ""
             }
            },
            "type": "scatterternary"
           }
          ],
          "surface": [
           {
            "colorbar": {
             "outlinewidth": 0,
             "ticks": ""
            },
            "colorscale": [
             [
              0,
              "#0d0887"
             ],
             [
              0.1111111111111111,
              "#46039f"
             ],
             [
              0.2222222222222222,
              "#7201a8"
             ],
             [
              0.3333333333333333,
              "#9c179e"
             ],
             [
              0.4444444444444444,
              "#bd3786"
             ],
             [
              0.5555555555555556,
              "#d8576b"
             ],
             [
              0.6666666666666666,
              "#ed7953"
             ],
             [
              0.7777777777777778,
              "#fb9f3a"
             ],
             [
              0.8888888888888888,
              "#fdca26"
             ],
             [
              1,
              "#f0f921"
             ]
            ],
            "type": "surface"
           }
          ],
          "table": [
           {
            "cells": {
             "fill": {
              "color": "#EBF0F8"
             },
             "line": {
              "color": "white"
             }
            },
            "header": {
             "fill": {
              "color": "#C8D4E3"
             },
             "line": {
              "color": "white"
             }
            },
            "type": "table"
           }
          ]
         },
         "layout": {
          "annotationdefaults": {
           "arrowcolor": "#2a3f5f",
           "arrowhead": 0,
           "arrowwidth": 1
          },
          "autotypenumbers": "strict",
          "coloraxis": {
           "colorbar": {
            "outlinewidth": 0,
            "ticks": ""
           }
          },
          "colorscale": {
           "diverging": [
            [
             0,
             "#8e0152"
            ],
            [
             0.1,
             "#c51b7d"
            ],
            [
             0.2,
             "#de77ae"
            ],
            [
             0.3,
             "#f1b6da"
            ],
            [
             0.4,
             "#fde0ef"
            ],
            [
             0.5,
             "#f7f7f7"
            ],
            [
             0.6,
             "#e6f5d0"
            ],
            [
             0.7,
             "#b8e186"
            ],
            [
             0.8,
             "#7fbc41"
            ],
            [
             0.9,
             "#4d9221"
            ],
            [
             1,
             "#276419"
            ]
           ],
           "sequential": [
            [
             0,
             "#0d0887"
            ],
            [
             0.1111111111111111,
             "#46039f"
            ],
            [
             0.2222222222222222,
             "#7201a8"
            ],
            [
             0.3333333333333333,
             "#9c179e"
            ],
            [
             0.4444444444444444,
             "#bd3786"
            ],
            [
             0.5555555555555556,
             "#d8576b"
            ],
            [
             0.6666666666666666,
             "#ed7953"
            ],
            [
             0.7777777777777778,
             "#fb9f3a"
            ],
            [
             0.8888888888888888,
             "#fdca26"
            ],
            [
             1,
             "#f0f921"
            ]
           ],
           "sequentialminus": [
            [
             0,
             "#0d0887"
            ],
            [
             0.1111111111111111,
             "#46039f"
            ],
            [
             0.2222222222222222,
             "#7201a8"
            ],
            [
             0.3333333333333333,
             "#9c179e"
            ],
            [
             0.4444444444444444,
             "#bd3786"
            ],
            [
             0.5555555555555556,
             "#d8576b"
            ],
            [
             0.6666666666666666,
             "#ed7953"
            ],
            [
             0.7777777777777778,
             "#fb9f3a"
            ],
            [
             0.8888888888888888,
             "#fdca26"
            ],
            [
             1,
             "#f0f921"
            ]
           ]
          },
          "colorway": [
           "#636efa",
           "#EF553B",
           "#00cc96",
           "#ab63fa",
           "#FFA15A",
           "#19d3f3",
           "#FF6692",
           "#B6E880",
           "#FF97FF",
           "#FECB52"
          ],
          "font": {
           "color": "#2a3f5f"
          },
          "geo": {
           "bgcolor": "white",
           "lakecolor": "white",
           "landcolor": "#E5ECF6",
           "showlakes": true,
           "showland": true,
           "subunitcolor": "white"
          },
          "hoverlabel": {
           "align": "left"
          },
          "hovermode": "closest",
          "mapbox": {
           "style": "light"
          },
          "paper_bgcolor": "white",
          "plot_bgcolor": "#E5ECF6",
          "polar": {
           "angularaxis": {
            "gridcolor": "white",
            "linecolor": "white",
            "ticks": ""
           },
           "bgcolor": "#E5ECF6",
           "radialaxis": {
            "gridcolor": "white",
            "linecolor": "white",
            "ticks": ""
           }
          },
          "scene": {
           "xaxis": {
            "backgroundcolor": "#E5ECF6",
            "gridcolor": "white",
            "gridwidth": 2,
            "linecolor": "white",
            "showbackground": true,
            "ticks": "",
            "zerolinecolor": "white"
           },
           "yaxis": {
            "backgroundcolor": "#E5ECF6",
            "gridcolor": "white",
            "gridwidth": 2,
            "linecolor": "white",
            "showbackground": true,
            "ticks": "",
            "zerolinecolor": "white"
           },
           "zaxis": {
            "backgroundcolor": "#E5ECF6",
            "gridcolor": "white",
            "gridwidth": 2,
            "linecolor": "white",
            "showbackground": true,
            "ticks": "",
            "zerolinecolor": "white"
           }
          },
          "shapedefaults": {
           "line": {
            "color": "#2a3f5f"
           }
          },
          "ternary": {
           "aaxis": {
            "gridcolor": "white",
            "linecolor": "white",
            "ticks": ""
           },
           "baxis": {
            "gridcolor": "white",
            "linecolor": "white",
            "ticks": ""
           },
           "bgcolor": "#E5ECF6",
           "caxis": {
            "gridcolor": "white",
            "linecolor": "white",
            "ticks": ""
           }
          },
          "title": {
           "x": 0.05
          },
          "xaxis": {
           "automargin": true,
           "gridcolor": "white",
           "linecolor": "white",
           "ticks": "",
           "title": {
            "standoff": 15
           },
           "zerolinecolor": "white",
           "zerolinewidth": 2
          },
          "yaxis": {
           "automargin": true,
           "gridcolor": "white",
           "linecolor": "white",
           "ticks": "",
           "title": {
            "standoff": 15
           },
           "zerolinecolor": "white",
           "zerolinewidth": 2
          }
         }
        },
        "xaxis": {
         "anchor": "y",
         "domain": [
          0,
          1
         ],
         "title": {
          "text": "team_abbreviation"
         }
        },
        "yaxis": {
         "anchor": "x",
         "domain": [
          0,
          1
         ],
         "title": {
          "text": "player_height"
         }
        }
       }
      }
     },
     "metadata": {},
     "output_type": "display_data"
    }
   ],
   "source": [
    "# Comparing which Los Angeles team preferes the taller players\n",
    "teams = ['LAC', 'LAL']\n",
    "df_la = df.loc[df['team_abbreviation'].isin(teams)]\n",
    "\n",
    "fig_la = px.box(df_la, x='team_abbreviation', y='player_height', hover_data=['player_name'])\n",
    "fig_la.show()"
   ]
  },
  {
   "cell_type": "code",
   "execution_count": null,
   "metadata": {},
   "outputs": [],
   "source": []
  }
 ],
 "metadata": {
  "interpreter": {
   "hash": "ca4f5ced8312db428f8dd2776d06a9927b3825ff64b08562bfd57df0ffaea7bf"
  },
  "kernelspec": {
   "display_name": "Python 3.10.0 64-bit",
   "language": "python",
   "name": "python3"
  },
  "language_info": {
   "codemirror_mode": {
    "name": "ipython",
    "version": 3
   },
   "file_extension": ".py",
   "mimetype": "text/x-python",
   "name": "python",
   "nbconvert_exporter": "python",
   "pygments_lexer": "ipython3",
   "version": "3.9.7"
  },
  "orig_nbformat": 4
 },
 "nbformat": 4,
 "nbformat_minor": 2
}
